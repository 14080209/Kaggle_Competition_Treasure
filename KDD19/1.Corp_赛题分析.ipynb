{
 "cells": [
  {
   "cell_type": "markdown",
   "metadata": {
    "toc": true
   },
   "source": [
    "<h1>Table of Contents<span class=\"tocSkip\"></span></h1>\n",
    "<div class=\"toc\"><ul class=\"toc-item\"><li><span><a href=\"#简介\" data-toc-modified-id=\"简介-1\"><span class=\"toc-item-num\">1&nbsp;&nbsp;</span>简介</a></span><ul class=\"toc-item\"><li><span><a href=\"#赛题细节\" data-toc-modified-id=\"赛题细节-1.1\"><span class=\"toc-item-num\">1.1&nbsp;&nbsp;</span>赛题细节</a></span><ul class=\"toc-item\"><li><span><a href=\"#赛题背景\" data-toc-modified-id=\"赛题背景-1.1.1\"><span class=\"toc-item-num\">1.1.1&nbsp;&nbsp;</span>赛题背景</a></span></li><li><span><a href=\"#比赛规则\" data-toc-modified-id=\"比赛规则-1.1.2\"><span class=\"toc-item-num\">1.1.2&nbsp;&nbsp;</span>比赛规则</a></span><ul class=\"toc-item\"><li><span><a href=\"#比赛时间\" data-toc-modified-id=\"比赛时间-1.1.2.1\"><span class=\"toc-item-num\">1.1.2.1&nbsp;&nbsp;</span>比赛时间</a></span></li><li><span><a href=\"#赛制规则\" data-toc-modified-id=\"赛制规则-1.1.2.2\"><span class=\"toc-item-num\">1.1.2.2&nbsp;&nbsp;</span>赛制规则</a></span></li></ul></li></ul></li><li><span><a href=\"#数据说明\" data-toc-modified-id=\"数据说明-1.2\"><span class=\"toc-item-num\">1.2&nbsp;&nbsp;</span>数据说明</a></span><ul class=\"toc-item\"><li><span><a href=\"#详细数据\" data-toc-modified-id=\"详细数据-1.2.1\"><span class=\"toc-item-num\">1.2.1&nbsp;&nbsp;</span>详细数据</a></span></li><li><span><a href=\"#附加说明\" data-toc-modified-id=\"附加说明-1.2.2\"><span class=\"toc-item-num\">1.2.2&nbsp;&nbsp;</span>附加说明</a></span></li><li><span><a href=\"#提交格式\" data-toc-modified-id=\"提交格式-1.2.3\"><span class=\"toc-item-num\">1.2.3&nbsp;&nbsp;</span>提交格式</a></span></li><li><span><a href=\"#评分指标\" data-toc-modified-id=\"评分指标-1.2.4\"><span class=\"toc-item-num\">1.2.4&nbsp;&nbsp;</span>评分指标</a></span></li></ul></li><li><span><a href=\"#赛题难点-&amp;-注意事项\" data-toc-modified-id=\"赛题难点-&amp;-注意事项-1.3\"><span class=\"toc-item-num\">1.3&nbsp;&nbsp;</span>赛题难点 &amp; 注意事项</a></span><ul class=\"toc-item\"><li><span><a href=\"#赛题难点\" data-toc-modified-id=\"赛题难点-1.3.1\"><span class=\"toc-item-num\">1.3.1&nbsp;&nbsp;</span>赛题难点</a></span></li><li><span><a href=\"#注意事项\" data-toc-modified-id=\"注意事项-1.3.2\"><span class=\"toc-item-num\">1.3.2&nbsp;&nbsp;</span>注意事项</a></span><ul class=\"toc-item\"><li><span><a href=\"#穿越问题\" data-toc-modified-id=\"穿越问题-1.3.2.1\"><span class=\"toc-item-num\">1.3.2.1&nbsp;&nbsp;</span>穿越问题</a></span></li><li><span><a href=\"#训练集和测试集分布\" data-toc-modified-id=\"训练集和测试集分布-1.3.2.2\"><span class=\"toc-item-num\">1.3.2.2&nbsp;&nbsp;</span>训练集和测试集分布</a></span></li><li><span><a href=\"#评价指标问题\" data-toc-modified-id=\"评价指标问题-1.3.2.3\"><span class=\"toc-item-num\">1.3.2.3&nbsp;&nbsp;</span>评价指标问题</a></span></li></ul></li></ul></li><li><span><a href=\"#小结\" data-toc-modified-id=\"小结-1.4\"><span class=\"toc-item-num\">1.4&nbsp;&nbsp;</span>小结</a></span></li></ul></li></ul></div>"
   ]
  },
  {
   "cell_type": "markdown",
   "metadata": {},
   "source": [
    "# 简介\n",
    "\n",
    "![](./pic/Corp.png)\n",
    "\n",
    "本篇文章我们对“Corporación Favorita Grocery Sales Forecasting”赛题进行分析，本文是该次任务的第一部分，赛题解析，\n",
    "\n",
    "- 在这一部分，我们会介绍本次比赛的赛题背景，比赛的规则，包括时间、赛制规则、评测指标，数据的说明，提交的格式；然后我们会介绍此类问题所存在的难点以及经常需要注意的事项等；\n",
    "\n",
    "在接下来的内容中，我们首先对本次赛题的内容进行回顾，包括本次比赛的应用场景，赛题的意义；比赛规则的内容（该比赛已经结束，此处为了文章的完整性将其加入）以及赛题中我们所能获得的数据；然后我们对此类问题中需要注意的细节以及对应的难点进行简要的分析与阐述。"
   ]
  },
  {
   "cell_type": "markdown",
   "metadata": {},
   "source": [
    "## 赛题细节\n",
    "### 赛题背景\n",
    "实体杂货店总是被采购量和销售预测量所。如果预测比实际销量多了，那么杂货商就会被积压的易腐商品困住。如果预测的比实际销量少了，那么流行的物品很快就被卖完了，顾客将钱留在桌子上发火。\n",
    "\n",
    "随着零售商增加具有独特需求的新地点、新产品、不断转变的季节性口味以及不可预测的产品营销，该问题变得更加复杂。厄瓜多尔一家大型杂货零售商 Corporación Favorita 对此了如指掌。他们经营着数百家超市，货架上有超过 20 万种不同的产品。\n",
    "\n",
    "Corporación Favorita 向 Kaggle 社区提出挑战，邀请选手们建立一个更准确预测产品销售的模型。他们目前依靠主观的预测方法，只有少数数据的支持，执行计划的自动化程度也很低。他们非常希望期待看到机器学习可以更好地确保他们在适当的时间拥有足够的合适的产品来取悦他们的客户。"
   ]
  },
  {
   "cell_type": "markdown",
   "metadata": {},
   "source": [
    "### 比赛规则\n",
    "本次比赛的重要时间段信息如下：\n",
    "\n",
    "#### 比赛时间\n",
    "- 2018 年 1 月 8 日-报名截止日期。您必须在此日期之前接受比赛规则才能参加比赛；\n",
    "- 2018 年 1 月 8 日-团队合并截止日期。这是参与者加入或合并团队的最后一天；\n",
    "- 2018 年 1 月 15 日-最终提交截止日期。\n",
    "\n",
    "#### 赛制规则\n",
    "本次比赛的参赛对象以及组队提交规则如下：\n",
    "1. 参赛对象\n",
    "> a.比赛对美国和世界各地的居民开放，除非您是克里米亚、古巴、伊朗、叙利亚、朝鲜、苏丹的居民，或者受到美国出口管制或制裁，否则您不得参加比赛。<br />\n",
    "> b.其他当地法规可能适用于您，因此请检查您的当地法律，以确保您有资格参加基于技能的比赛。\n",
    "2. 组队和提交\n",
    "> a.团队成员人数无上限；<br />\n",
    "> b.提交限制：每天最多五次提交；<br />\n",
    "> c.在每轮比赛中，你可以选择至多 2 份最终的参赛作品进行评判。"
   ]
  },
  {
   "cell_type": "markdown",
   "metadata": {},
   "source": [
    "## 数据说明\n",
    "- 赛题的数据可以通过点击下面的链接进行下载: 数据下载链接:https://www.kaggle.com/c/favorita-grocery-sales-forecasting/data\n",
    "\n",
    "\n",
    "在本赛题中，您将预测厄瓜多尔不同的 Favorita 商店销售的数千件商品的单位销售额。训练数据包括日期、商店和商品信息、该商品是否正在促销以及单位销售。其他的文件包含了一些在构建模型时可能有用的辅助信息。\n",
    "\n",
    "\n",
    "### 详细数据\n",
    "** train.csv**\n",
    "- 训练数据，包含了按 date, store_nbr,item_nbr 构建的标签 unit_sales，以及用于标记行的\n",
    "唯一 id。\n",
    "- unit_sales 可能是一个整数（例如：一袋薯片），也可以是浮点数（例如，1.5 公斤奶酪）；\n",
    "- unit_sales 的负值表示特定商品的返回，退货等；\n",
    "- onpromotion 列告诉我们某个商品是否在某个特定的时间和商店有促销；\n",
    "- 文件中有将近 16% 的 onpromotion 值是 NAN；\n",
    "- 注意：训练数据不包含商店/时间组合中 unit_sales 为 0 的行；目前还没有关于该商品是否\n",
    "在当天有库存的信息，参赛团队需要自己决定处理此类情况的最佳方法。另外，有一些商品\n",
    "在训练集里面有但是在测试集里面没有。\n",
    "\n",
    "--------\n",
    "** test.csv **\n",
    "- 测试数据，带有 date，store_nbr，item_nbr 的组合以及 onpromotion 信息都是需要被预测\n",
    "的；\n",
    "- 注意：测试数据中有一些商品是不包含在训练集中的，部分练习需要根据类似产品的信息预\n",
    "测新产品的销售。\n",
    "- 公榜/私榜的划分是基于时间的。所有被划分到公榜的商品也会被包含在私有榜单中。\n",
    "\n",
    "**sample_submission.csv**\n",
    "- 以正确格式提交的示例文件。\n",
    "- 强烈建议您在上传前压缩提交文件！\n",
    "\n",
    "** stores.csv **\n",
    "- 商店的元信息，包括 city, state, type 以及 cluster；\n",
    "- cluster 是一些类似商店的分类；\n",
    "\n",
    "** items.csv **\n",
    "- 商品的元数据，包含 family, class 以及 perishable 等字段；\n",
    "- 注意：商品被标记为 perishable 的得分权重为 1.25，否则权重为 1.0；\n",
    "\n",
    "** transactions.csv **\n",
    "-  每个 date, store_nbr 组合对应的销售交易记录的计数，仅包含训练数据的时间表；\n",
    "\n",
    "** oil.csv **\n",
    "- 每日的油价，同时包含了训练集和测试集数据的时间段，（厄瓜多尔是一个依赖石油的国家，其经济健康极易受到油价冲击。）\n",
    "\n",
    "** holidays_events.csv** \n",
    "- 假日和活动，带有元数据；\n",
    "- 注意：需要特别注意转移的列；一个官方转移的假日是在那个日历日，但被政府转移到另一个日期。被转移的那天更像是一个正常的一天，而不是假日。要查找实际庆祝的日期，请查找类型为 Transfer 的相应行。例如，瓜亚基尔独立假日从 2012 年 10 月 9 日转移到 2012 年10 月 12 日，这意味着它是在 2012 年 10 月 12 日庆祝的。Bridge 类型的天数是增加到假日的额外天数（例如，将休息时间延长到整个长周末）。这些通常由“工作日”组成，这是一个通常不安排工作的日子（例如，星期六），这意味着要偿还 Bridge。\n",
    "- Additional 假期是指添加常规日历假日的日子，例如，最典型的就是发生在圣诞节前后（使\n",
    "圣诞夜成为假日）。\n",
    "\n",
    "\n",
    "--------\n",
    "\n",
    "###  附加说明\n",
    "- 公共部门的工资在每两周付一次，一般是每个月的 15 日和该月的最后一天。超市的销售可能会受到影响。\n",
    "- 2016 年 4 月 16 日，厄瓜多尔发生里氏 7.8 级地震。地震发生后数周，人们聚集在救援工作中，捐赠水和其他第一必需的产品，这写在地震之后的数周内也会对超市的销售产生非常大的影响。\n",
    "\n",
    "### 提交格式\n",
    "对于测试集中的每个 id，你必须预测 unit_sales，因为评估指标中使用 ln(y + 1)，提交文件需要确保没有负的预测结果。提交文件需要包含 header，具体的提交格式可以参考下图：\n",
    "\n",
    "![](./pic/submit_format.png)\n",
    "\n",
    "### 评分指标\n",
    "\n",
    "提交文件的评估指标为 root mean squared logarithmic error(RMSLE)。RMSLE 的计算公式为：\n",
    "\n",
    " <img src=\"./pic/score_function.png\" width = \"600\" height = \"300\" alt=\"图片名称\" align=center /> \n",
    "\n",
    "该指标适用于进行大范围数量级的数值的预测。当预测值和真值都很大时，该指标可以避免对这种大的差值过大的惩罚：当真值为 50 而预测 5 时的惩罚比当真值为 545 而预测 500 受到的惩罚更多。"
   ]
  },
  {
   "cell_type": "markdown",
   "metadata": {},
   "source": [
    "## 赛题难点 & 注意事项\n",
    "在这一部分我们对本次赛题中存在的难点进行分析并给出需要重点注意的事项。"
   ]
  },
  {
   "cell_type": "markdown",
   "metadata": {},
   "source": [
    "### 赛题难点\n",
    "我们将本赛题的难点归结为如下两点:\n",
    "1. 候选集的构建，该问题属于典型的时间序列回归问题，我们没有已经构建好的训练集和测试集，这些都需要我们自己进行构建。其中最简单的构建方案是枚举商店 (store_nbr)，商品(item_nbr) 和时间段 date，这是最直观的一个想法，这么做最大的好处是简单，易于构建，但是最大的问题在于数据量巨大，对模型训练带来非常大的挑战，绝大多数时候也不能保证可以获得非常好的训练效果。\n",
    "\n",
    "2. 训练集中的“噪音”，几乎在所有的时序类问题中，或多或少都会存在“噪音”，这些噪音会较大地影响我们的建模，此处我们将噪音细分为下面的三类噪音。\n",
    "> a.随机噪音，这类噪音是不可避免的，也是无法预测的；<br />\n",
    "> b.局部大噪音/局部奇异值，这类噪音有些时候是可以遇见的，我们经常也会称之为奇异值，最典型的案例有：在预测商品销量问题中，双 11 的销量和其他时间段的往往有着巨大的差别；在地铁流量预测中，某个时间段某个地点的某个活动（例如演唱会）往往会令某个站点的出入量和平时出入量有着非常大的差异等等。<br />\n",
    "> c.长时间带来的噪音，此类噪音的造成原因往往是随着时间的发展带来的噪音，例如预测未来某个商店的销量，如果该店铺是去年才开张的，刚刚开张的时候只有几个人去消费，但是经过一年的发展，现在消费人数已经大涨到了几千人，那么一年前的数据对于预测当前未来一周销量的参考价值基本不大，也就是说，我们可以认为一年前的数据对于预测未来一周销量等是噪音数据，建模的时候可以直接不考虑此类数据。<br />\n",
    "3. 测试集中的“噪音”，测试集中的噪音和训练集是类似的，本赛题中我们需要预测的测试集的范围相对有些大，有 10 多天，而且包含了一些特殊时间，例如月末发工资等情况，这些可能会对预测带来一定的困难。\n",
    "\n",
    "### 注意事项\n",
    "\n",
    "#### 穿越问题\n",
    "时间相关的建模问题中，最需要注意的就是时间穿越，很多时候我们不小心就把未来信息当做特征加入到了我们的建模过程中，这会导致严重的过拟合问题，使得我们线上线下的分数差异大，而且经常出现线下和线上不同增减，此处我们列举两个最典型的穿越案例：\n",
    "- 假设我们需要预测用户是否会去观看某视频，我们的测试集中需要预测用户 8.8 日 10:10 分用户点击观看视频 B 的概率，但是我们在训练集中已经发现数据 8.8 日 10:09 该用户在观看视频 A，10:11 分也在观看视频 A，那么很明显该用户就有非常大的概率不看视频 B，我们通过未来的信息很容易就得出了该判断；\n",
    "- 假设我们需要预测用户 9.10 日的某银行卡的消费金额，但是我们训练集中已经出现了用户9.9 日银行卡的余额以及 9.11 日银行卡的余额，那么我们就很容易的知道了用户在 9.10 日的消费金额是 0，出现了时间穿越的情况；\n",
    "\n",
    "\n",
    "#### 训练集和测试集分布\n",
    "\n",
    "我们发现该赛题中有一个奇怪的变量onpromotion，onpromotion变量，\n",
    "- 它是一个穿越变量，因为它包含了未来的促销信息；\n",
    "- 这个变量存在16%的数据是缺失的，而且训练集中unit_sales 为 0 的行全部省略了，这也就是说有很多一部分的onpromotion信息也丢失了,但是只要出现了onpromotion信息,很多时候我们的模型就会认为unit_sales不为0,这样模型也会有偏差。 \n",
    "\n",
    "\n",
    "\n",
    "####   评价指标问题\n",
    "\n",
    "本赛题的指标和我们平时见到的 MSE(Mean Square Error) 等不一样，我们也知道很多问题如果我们能直接优化它的评价指标往往可以获得最优的效果，而此处我们则需要对该指标进行细细的分析，\n",
    "\n",
    "1. 平方根不影响我们的相对大小，所以可以去掉；\n",
    "2. 分母，当我们的训练样本固定时是一个常数，可以直接将训练集合中的权重带入计算得到；\n",
    "3. 在对我们的原始数据加权之后，我们的分子部分的优化等价于优化一个加权的平方损失；这部分可以直接当做是样本的权重代入模型进行训练。\n",
    "\n",
    "通过上面的简单分析，我们发现可以通过对简单的转换将我们的问题转化为一个可以直接优化求解的问题，这样我们就可以直接将数据放入传统的 LGB 模型进行训练，大大简化了我们的问题求解。\n",
    "\n",
    "\n"
   ]
  },
  {
   "cell_type": "markdown",
   "metadata": {},
   "source": [
    "## 小结\n",
    "\n",
    "在本篇文章中,我们对Corporación Favorita Grocery Sales Forecasting比赛进行了基础的分析,包括赛题可能存在的问题，以及一些需要注意的事项等。再下一章节，我们将对这些数据进行进一步的分析，展开更加细致的数据探索。\n"
   ]
  }
 ],
 "metadata": {
  "kernelspec": {
   "display_name": "Python 3",
   "language": "python",
   "name": "python3"
  },
  "language_info": {
   "codemirror_mode": {
    "name": "ipython",
    "version": 3
   },
   "file_extension": ".py",
   "mimetype": "text/x-python",
   "name": "python",
   "nbconvert_exporter": "python",
   "pygments_lexer": "ipython3",
   "version": "3.6.4"
  },
  "toc": {
   "nav_menu": {},
   "number_sections": true,
   "sideBar": true,
   "skip_h1_title": false,
   "title_cell": "Table of Contents",
   "title_sidebar": "Contents",
   "toc_cell": true,
   "toc_position": {},
   "toc_section_display": true,
   "toc_window_display": true
  }
 },
 "nbformat": 4,
 "nbformat_minor": 2
}
