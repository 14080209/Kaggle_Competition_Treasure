{
 "cells": [
  {
   "cell_type": "markdown",
   "metadata": {
    "toc": true
   },
   "source": [
    "<h1>Table of Contents<span class=\"tocSkip\"></span></h1>\n",
    "<div class=\"toc\"><ul class=\"toc-item\"><li><span><a href=\"#时间序列预测简介(Introduction)\" data-toc-modified-id=\"时间序列预测简介(Introduction)-1\"><span class=\"toc-item-num\">1&nbsp;&nbsp;</span>时间序列预测简介(Introduction)</a></span><ul class=\"toc-item\"><li><span><a href=\"#什么是可以被预测的?\" data-toc-modified-id=\"什么是可以被预测的?-1.1\"><span class=\"toc-item-num\">1.1&nbsp;&nbsp;</span>什么是可以被预测的?</a></span></li><li><span><a href=\"#预测,计划和目标\" data-toc-modified-id=\"预测,计划和目标-1.2\"><span class=\"toc-item-num\">1.2&nbsp;&nbsp;</span>预测,计划和目标</a></span></li><li><span><a href=\"#决定预测什么\" data-toc-modified-id=\"决定预测什么-1.3\"><span class=\"toc-item-num\">1.3&nbsp;&nbsp;</span>决定预测什么</a></span></li><li><span><a href=\"#预测数据和方法\" data-toc-modified-id=\"预测数据和方法-1.4\"><span class=\"toc-item-num\">1.4&nbsp;&nbsp;</span>预测数据和方法</a></span></li><li><span><a href=\"#一些案例研究\" data-toc-modified-id=\"一些案例研究-1.5\"><span class=\"toc-item-num\">1.5&nbsp;&nbsp;</span>一些案例研究</a></span></li><li><span><a href=\"#预测任务中的基本步骤\" data-toc-modified-id=\"预测任务中的基本步骤-1.6\"><span class=\"toc-item-num\">1.6&nbsp;&nbsp;</span>预测任务中的基本步骤</a></span></li><li><span><a href=\"#统计预测的角度\" data-toc-modified-id=\"统计预测的角度-1.7\"><span class=\"toc-item-num\">1.7&nbsp;&nbsp;</span>统计预测的角度</a></span></li><li><span><a href=\"#深入阅读\" data-toc-modified-id=\"深入阅读-1.8\"><span class=\"toc-item-num\">1.8&nbsp;&nbsp;</span>深入阅读</a></span></li></ul></li></ul></div>"
   ]
  },
  {
   "cell_type": "markdown",
   "metadata": {},
   "source": [
    " \n",
    "\n",
    "# 时间序列预测简介(Introduction)\n",
    "\n",
    "## 什么是可以被预测的?\n",
    "\n",
    "<font color=blue>**简介**:</font>预测在很多情况都是需要的,对于超市每件产品的销量进行预测可以帮助超市很好的对特定产品进行库存的管理,对某些地区未来五年的用电情况的使用进行预测可以为是否需要建立一家供电站提供很重要的参考意见等等。  <br />  <br />\n",
    "\n",
    "<font color=blue>**靠谱的预测三要素**</font>:不过是否所有的事情都可以预测呢？很明显是<font color=blue>**需要不同情况不同分析**</font> 的,我们可以很容易地预测明天太阳上升的时间,但是我们却往往很难预测明天的彩票的结果,那么一件事情预测的质量依赖于那些因素呢?\n",
    " <br />\n",
    "  \n",
    "> <font color=blue>因素如何影响我们的结果(How well we understand the factors that contribute to it);</font> <br />\n",
    "> <font color=blue>我们拥有多少数据 (How much data are available);</font>  <br /> \n",
    "> <font color=blue>我们的预测是否会影响我们预测的结果(Whether the forecasts can affect the thing we are trying to forecast)</font> <br />  <br />\n",
    "    \n",
    "\n",
    "<font color=blue>**例子**:</font> 综合上述的三个因素,我们就可以知道哪些东西的预测是靠谱的,哪些事物的预测是不靠谱的或者较难预测的,例如我们可以很好的预测我们的用电情况,因为这三个条件是可以较好的满足的,用电需求往往由温度,节假日和经济条件等决定,所以我们可以找到绝大部分影响我们预测结果的因素(第一条满足);我们拥有较大量的历史用电数据和天气等数据(第二条满足);我们有足够的能力开发一个好的模型将用电需求和关键的因素相结合,而且我们的预测结果对于我们的模型影响不大(第三条满足),所以最终我们的预测结果可以非常的好.\n",
    "\n",
    "但是也有反例,例如大家天天讨论的股票的预测,虽然我们拥有较多的历史股票数据(第二条满足);但是我们对于每个因素对于股票价格的影响的贡献却是未知的,同样的我们对于股票的预测也会影响未来的股票的价格,例如有很多人预测股票价格会上涨,就会有很多人选择购入对应股票,而此时的股票的价格毫无疑问会受到很大的冲击,所以我们的模型的预测结果往往并不是总是很好. <br />  <br />\n",
    "\n",
    "<font color=blue>**个人的观点:只要模型预测的结果比随机猜测的结果好,我就认为该事情是可以预测的.** </font>\n",
    "好的预测模型往往能从历史数据中挖掘或近似找出数据的潜在关系。<br />  <br />\n",
    "\n",
    "<font color=red> ** 该系列文章的核心目的是希望研究历史数据的随机波动(should be ignored)以及数据之间本质关系.**  </font> <br />  <br />\n",
    "\n",
    " \n",
    "<font color=blue>**一个错误的观点以及纠正** </font>:很多人错误的认为在环境变化的情况的预测是不靠谱的或者是不可能的.恰恰相反,一个好的预测模型能教好的抓住事物变化的本质,抓获事物变化的规律,所以现在很多模型很少假设环境是不变化的,相反地,<font color=blue>我们会假设环境的变化规律会延续到未来.</font> 举例来说就是,如果不稳定的环境的情况会延续到未来. 经济的萧条与繁荣也会延续到未来. 预测模型应该需要抓住事物变化的本质。<br /> <br />\n",
    "\n",
    "<font color=blue>**挑战** </font>: **预测结果在时间轴上变化会比较大**,决定时序预测结果的有数据的类型等等很多其他的因素. 目前也没有唯一的预测模型,有简单地直接根据最近数据对未来的结果进行预测的(Naive Methods);有利用历史所有数据的复杂神经网络;有的时候还会出现没有任何历史数据的情况等,例如预测某一个新的产品的销量.(这个时候我们往往会使用judgmental forecasting),具体的细节会在第四章讨论. **预测模型与方法的选择**往往依赖于我们可获得的数据以及我们预测的质量.\n"
   ]
  },
  {
   "cell_type": "markdown",
   "metadata": {},
   "source": [
    "## 预测,计划和目标\n",
    "\n",
    "<font color=blue>**预测,计划和目标的解释** </font> \n",
    "> **预测**: 使用所有可获得的信息,包括历史信息以及未来可能影响预测结果的信息来尽最大可能地预测未来我们所需的信息.\n",
    "\n",
    "> **目标**:我们希望看到发生的,目标和预测以及计划相关,但是却不一定总是能达成做到.\n",
    "\n",
    "> **计划**:是预测和目标的一个响应,计划包含决定正确的行动来使你的预测满足你的目标.(Planning involves determining the appropriate actions that are required to make your forecasts match your goals.)\n",
    "\n",
    "预测在整个过程中是不可或缺的一部分,它影响我们的重要决策,所以在很多公司或者机构都存在预测模型.从预测的时间跨度来看的话,我们可以将我们的预测模型初步划分为:**短期,中期和长期预测** 其中短期预测常常用来安排人员调度,交通等;中期预测则往往被用来确定下一阶段的资源需求,例如是否需要购买原材料机器设备等.而长期预测更多的出现在公司的策略决定当中,这样的决定经常要考虑市场的机会环境因素以及内部资源等各种因素."
   ]
  },
  {
   "cell_type": "markdown",
   "metadata": {},
   "source": [
    "## 决定预测什么\n",
    "\n",
    "明确预测的目标,是长期预测还是短期预测,是所有的产品预测还是单个产品预测.多久需要进行预测。\n",
    "\n",
    "一旦决定要预测什么,然后就可以针对性的进行数据的收集。\n",
    "\n",
    "**一言以蔽之,理解需求**。"
   ]
  },
  {
   "cell_type": "markdown",
   "metadata": {},
   "source": [
    "## 预测数据和方法\n",
    "\n",
    "<font color=blue>**方法与数据之间的关系**</font>: 数据和方法是密切相关的,拥有什么样的数据往往决定我们采用什么样的预测方法.\n",
    "\n",
    "- **如果没有数据或者拥有的数据和需要预测的目标相关性不大**,则定量的方法(qualitative forecasting)较为合适;具体细节会在第四章介绍.<br />\n",
    "- 定性预测可以在两大条件满足时进行使用.①以往的历史数据可以获得;②以往的模式会被传递到后面;<br /> <br />\n",
    "\n",
    "<font color=blue>**时间数据类型**</font>:在定性预测的时候我们收集到的时间序列数据往往分为两类:\n",
    "- 一类时间序列数据是定期收集的,例如商店以往每天的销量;\n",
    "- 另一类数据则是剖面数据(在时间的某一个点上收集得到).\n",
    "\n",
    "在这里我们仅仅探讨在规定时间节点观测到的时间序列问题,例如每小时,每天,每周每月等等. <br /> <br />\n",
    "\n",
    "\n",
    "<font color=blue>**三类时间预测模型**</font>:假设我们需要预测夏天某一个区域下一个小时的用电需求,一个最简单的带有预测变量的模型的形式为:\n",
    "\n",
    "- $ED = f(current temperature,strength of economy,population,time of day,day of week,error)$ 该定义中关系的定义较为明确,也较易解释,所以我们称此模型为**解释模型(explanatory model)**,虽然这样的定义并不是百分百准确,在预测变量中有很多用电需求无法被解释,所以我们采用$error$项来表示这样的变动.\n",
    "\n",
    "- $ED_{t+1} = f(ED_t,ED_{t-1},ED_{t-2},...,error)$,其中$t$表示当前时间,$t+1$表示下一时间...... 此处下一时刻的预测完全依赖于历史上的单变量的数据,不依赖于其他的变量,同样的,此处我们用$error$项来表示随机波动以及相关变量的影响.\n",
    "\n",
    "- $ED_{t+1} = f(ED_t,current temperature, time of day, day of week, error)$,此类模型则被称为是**动态回归模型**,还有很多其他的名称(dynamic regression models, panel data models, longitudinal models, transfer function models, and linear system models). <br /> <br />\n",
    "\n",
    "\n",
    "<font color=blue>**三类时间预测模型的选择**</font>:\n",
    "\n",
    "- 解释模型是首选,因为它融入了大量的信息,而不仅仅是需要预测的历史变量的信息.\n",
    "- 当系统无法解释时或者即使可以解释但是内在关系却极其复杂较难刻画,同时我们较为关心下一步会发生什么,而不是为什么它会发生,该时刻可以考虑第二种模型或者第三种模型.\n"
   ]
  },
  {
   "cell_type": "markdown",
   "metadata": {},
   "source": [
    "## 一些案例研究\n",
    "\n",
    "<font color=blue>**4个预测案例**</font>:\n",
    "\n",
    "- 案例1\n",
    "客户是一个生产一次性产品的大公司,例如餐巾纸,一次性盘子等.希望预测每个月的上百个产品的销量,一些产品的时间序列展示了一定的特定模式,带有一定的趋势同时有一些周期性质还有一些什么规律都没有.公司采用的模型有:\n",
    "\n",
    "> 过去12个月的数据的均值;<br />\n",
    "> 过去6个月数据的均值;<br />\n",
    "> 过去12个月的线性回归预测;<br />\n",
    "> 过去6个月的线性回归预测;<br />\n",
    "> 预测结果依赖于去年与今年的销量的斜率以及上一个观测值的结果.<br />\n",
    "\n",
    "\n",
    "- 案例2\n",
    "客户是澳大利亚联邦政府,希望预测每年在药品福利计划上的开支,药品福利计划(PBS)会对在澳大利亚贩卖的许多药品提供补贴,所以开支往往由人们购买了什么来决定.在2009年该方面的支出为7billion,后面略有波动,为了能很好的预测出总的支出,有必要对每一类药物产品的月销量进行预测,我们发现几乎每一类的药品销售都有一定的趋势和周期性,虽然有时候会因为同类的竞争药物而出现较大的短时波动.<br />\n",
    "**所以此处我们的模型需要能捕获趋势和周期性,并且需要对突然的因为潜在因素的变化而引起的突变具有较好的鲁棒性.此外,最好还能较好地扩展到时间序列数据较大的情况(大数据).**\n",
    "\n",
    "\n",
    "- 案例3\n",
    "大的汽车公司要求我们帮助预测汽车再销售价值,这类公司购入新的交通工具并且将该工具租售三年,然后在卖掉.对于再销售价值的预测能更好的帮助控制利用,同时能更好的制定租售的价格以最大化价值.在该时候,**该类问题在公司往往由一些专家来完成,不幸的是他们看到统计模型对他们造成了威胁,所以不愿意合作,最后公司提供了之前汽车的大量数据以及他们最终的在销售价格.**\n",
    "\n",
    "\n",
    "- 案例4\n",
    "我们需要预测主要航线的每周的飞机乘客数量以及不同类的乘客的情况(经济舱,商务舱等),公司提供了过去6年每周的情况.**飞机乘客的数量会受到学校假期,主要的体育活动等影响,而且不同的城市不一样,同时体育活动会从A城市转移到B城市,同时历史数据上还有一段数据因为飞行员罢工而出现一段时间没有航班,同时在数据的后半段,航班对不同的舱进行重新分配,经济舱和商务舱等的位置都有变化**."
   ]
  },
  {
   "cell_type": "markdown",
   "metadata": {},
   "source": [
    "## 预测任务中的基本步骤\n",
    "\n",
    "\n",
    "<font color=blue>**预测任务中的5个基本步骤**</font>:\n",
    "\n",
    "- 问题定义 <br />\n",
    "需要业务理解以及对于客户需求的充分理解.\n",
    "\n",
    "\n",
    "- 信息收集 <br />\n",
    "两类信息,(a).统计数据;(b).累积的专业知识.通常较难收集到足够的历史数据,但是同时,越老的数据的价值往往也越小.\n",
    "\n",
    "\n",
    "- 探索分析<br />\n",
    "通过对数据的可视化,是够有较为一致的模态,是否有较强的趋势,是否有周期性的影响,是否存在奇异值,分析的特征与label的关系,具体的讨论可以参考第二和第六章.\n",
    "\n",
    "- 选择模型并且拟合模型<br />\n",
    "模型的选择往往依赖于历史数据,预测变量与我们特征的关系以及预测的用意,通常我们会比较多个预测模型,具体的模型我们会在第五,七,八,九,十和第十一章进行讨论.\n",
    "  \n",
    "\n",
    "- 使用并且评估模型\n",
    "模型评估部分可以参考第三章.\n"
   ]
  },
  {
   "cell_type": "markdown",
   "metadata": {},
   "source": [
    "## 统计预测的角度 \n",
    "\n",
    "<font color=blue>**我们预测的变量也是一个随机变量**</font>:我们预测的东西往往是未知的,所以我们往往会将其看作是一个随机变量,例如下一个月的总的销量会有很多值,直到下个月我们才会知道.如果预测的是明年该月的销量,则销量可能的空间会更大,则预测将更为不确定."
   ]
  },
  {
   "cell_type": "markdown",
   "metadata": {},
   "source": [
    "## 深入阅读\n",
    "\n",
    "1. Armstrong (2001) covers the whole field of forecasting, with each chapter written by different experts. It is highly opinionated at times (and we don’t agree with everything in it), but is full of excellent general advice on tackling forecasting problems.\n",
    "\n",
    "2. Ord and Fildes (2012) is a forecasting textbook covering some of the same areas as this book, but with a different emphasis and not focussed around any particular software environment. It is written by two of the most highly respected forecasters in the world, with many decades of experience between them.\n",
    " "
   ]
  },
  {
   "cell_type": "code",
   "execution_count": null,
   "metadata": {},
   "outputs": [],
   "source": []
  }
 ],
 "metadata": {
  "kernelspec": {
   "display_name": "Python 3",
   "language": "python",
   "name": "python3"
  },
  "language_info": {
   "codemirror_mode": {
    "name": "ipython",
    "version": 3
   },
   "file_extension": ".py",
   "mimetype": "text/x-python",
   "name": "python",
   "nbconvert_exporter": "python",
   "pygments_lexer": "ipython3",
   "version": "3.6.4"
  },
  "toc": {
   "nav_menu": {},
   "number_sections": true,
   "sideBar": true,
   "skip_h1_title": false,
   "title_cell": "Table of Contents",
   "title_sidebar": "Contents",
   "toc_cell": true,
   "toc_position": {
    "height": "947px",
    "left": "0px",
    "right": "1634px",
    "top": "67px",
    "width": "212px"
   },
   "toc_section_display": "block",
   "toc_window_display": true
  }
 },
 "nbformat": 4,
 "nbformat_minor": 2
}
