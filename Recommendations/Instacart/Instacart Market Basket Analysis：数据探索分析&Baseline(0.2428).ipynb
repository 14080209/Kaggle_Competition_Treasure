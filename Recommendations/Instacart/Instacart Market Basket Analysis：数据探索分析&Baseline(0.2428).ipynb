{
 "cells": [
  {
   "cell_type": "markdown",
   "metadata": {
    "toc": true
   },
   "source": [
    "<h1>Table of Contents<span class=\"tocSkip\"></span></h1>\n",
    "<div class=\"toc\"><ul class=\"toc-item\"><li><span><a href=\"#EDA\" data-toc-modified-id=\"EDA-1\"><span class=\"toc-item-num\">1&nbsp;&nbsp;</span>EDA</a></span><ul class=\"toc-item\"><li><span><a href=\"#工具包-&amp;-数据导入\" data-toc-modified-id=\"工具包-&amp;-数据导入-1.1\"><span class=\"toc-item-num\">1.1&nbsp;&nbsp;</span>工具包 &amp; 数据导入</a></span><ul class=\"toc-item\"><li><span><a href=\"#工具包导入\" data-toc-modified-id=\"工具包导入-1.1.1\"><span class=\"toc-item-num\">1.1.1&nbsp;&nbsp;</span>工具包导入</a></span></li><li><span><a href=\"#数据导入\" data-toc-modified-id=\"数据导入-1.1.2\"><span class=\"toc-item-num\">1.1.2&nbsp;&nbsp;</span>数据导入</a></span></li></ul></li><li><span><a href=\"#数据探索（EDA）\" data-toc-modified-id=\"数据探索（EDA）-1.2\"><span class=\"toc-item-num\">1.2&nbsp;&nbsp;</span>数据探索（EDA）</a></span><ul class=\"toc-item\"><li><span><a href=\"#aisles数据集\" data-toc-modified-id=\"aisles数据集-1.2.1\"><span class=\"toc-item-num\">1.2.1&nbsp;&nbsp;</span>aisles数据集</a></span></li><li><span><a href=\"#departments数据集\" data-toc-modified-id=\"departments数据集-1.2.2\"><span class=\"toc-item-num\">1.2.2&nbsp;&nbsp;</span>departments数据集</a></span></li><li><span><a href=\"#products数据集\" data-toc-modified-id=\"products数据集-1.2.3\"><span class=\"toc-item-num\">1.2.3&nbsp;&nbsp;</span>products数据集</a></span></li><li><span><a href=\"#oders数据集\" data-toc-modified-id=\"oders数据集-1.2.4\"><span class=\"toc-item-num\">1.2.4&nbsp;&nbsp;</span>oders数据集</a></span></li><li><span><a href=\"#order_products__prior.csv数据集\" data-toc-modified-id=\"order_products__prior.csv数据集-1.2.5\"><span class=\"toc-item-num\">1.2.5&nbsp;&nbsp;</span>order_products__prior.csv数据集</a></span></li><li><span><a href=\"#order_products__train.csv数据集\" data-toc-modified-id=\"order_products__train.csv数据集-1.2.6\"><span class=\"toc-item-num\">1.2.6&nbsp;&nbsp;</span>order_products__train.csv数据集</a></span></li></ul></li></ul></li><li><span><a href=\"#数据建模-&amp;-Baseline\" data-toc-modified-id=\"数据建模-&amp;-Baseline-2\"><span class=\"toc-item-num\">2&nbsp;&nbsp;</span>数据建模 &amp; Baseline</a></span><ul class=\"toc-item\"><li><span><a href=\"#建模思路\" data-toc-modified-id=\"建模思路-2.1\"><span class=\"toc-item-num\">2.1&nbsp;&nbsp;</span>建模思路</a></span></li><li><span><a href=\"#Baseline\" data-toc-modified-id=\"Baseline-2.2\"><span class=\"toc-item-num\">2.2&nbsp;&nbsp;</span>Baseline</a></span><ul class=\"toc-item\"><li><span><a href=\"#数据预处理\" data-toc-modified-id=\"数据预处理-2.2.1\"><span class=\"toc-item-num\">2.2.1&nbsp;&nbsp;</span>数据预处理</a></span></li><li><span><a href=\"#构建训练集&amp;测试集的候选集合\" data-toc-modified-id=\"构建训练集&amp;测试集的候选集合-2.2.2\"><span class=\"toc-item-num\">2.2.2&nbsp;&nbsp;</span>构建训练集&amp;测试集的候选集合</a></span><ul class=\"toc-item\"><li><span><a href=\"#拆分训练集&amp;测试集\" data-toc-modified-id=\"拆分训练集&amp;测试集-2.2.2.1\"><span class=\"toc-item-num\">2.2.2.1&nbsp;&nbsp;</span>拆分训练集&amp;测试集</a></span></li><li><span><a href=\"#获取user_X_product的组合\" data-toc-modified-id=\"获取user_X_product的组合-2.2.2.2\"><span class=\"toc-item-num\">2.2.2.2&nbsp;&nbsp;</span>获取user_X_product的组合</a></span></li><li><span><a href=\"#获取user_product的排列组合,也就是总的候选集\" data-toc-modified-id=\"获取user_product的排列组合,也就是总的候选集-2.2.2.3\"><span class=\"toc-item-num\">2.2.2.3&nbsp;&nbsp;</span>获取user_product的排列组合,也就是总的候选集</a></span></li><li><span><a href=\"#训练集构建\" data-toc-modified-id=\"训练集构建-2.2.2.4\"><span class=\"toc-item-num\">2.2.2.4&nbsp;&nbsp;</span>训练集构建</a></span></li><li><span><a href=\"#测试集构建\" data-toc-modified-id=\"测试集构建-2.2.2.5\"><span class=\"toc-item-num\">2.2.2.5&nbsp;&nbsp;</span>测试集构建</a></span></li></ul></li><li><span><a href=\"#所有数据集拼接\" data-toc-modified-id=\"所有数据集拼接-2.2.3\"><span class=\"toc-item-num\">2.2.3&nbsp;&nbsp;</span>所有数据集拼接</a></span></li><li><span><a href=\"#简易特征工程\" data-toc-modified-id=\"简易特征工程-2.2.4\"><span class=\"toc-item-num\">2.2.4&nbsp;&nbsp;</span>简易特征工程</a></span></li></ul></li><li><span><a href=\"#模型训练&amp;验证\" data-toc-modified-id=\"模型训练&amp;验证-2.3\"><span class=\"toc-item-num\">2.3&nbsp;&nbsp;</span>模型训练&amp;验证</a></span><ul class=\"toc-item\"><li><span><a href=\"#模型验证\" data-toc-modified-id=\"模型验证-2.3.1\"><span class=\"toc-item-num\">2.3.1&nbsp;&nbsp;</span>模型验证</a></span><ul class=\"toc-item\"><li><span><a href=\"#验证集设计\" data-toc-modified-id=\"验证集设计-2.3.1.1\"><span class=\"toc-item-num\">2.3.1.1&nbsp;&nbsp;</span>验证集设计</a></span></li><li><span><a href=\"#模型验证\" data-toc-modified-id=\"模型验证-2.3.1.2\"><span class=\"toc-item-num\">2.3.1.2&nbsp;&nbsp;</span>模型验证</a></span></li></ul></li></ul></li><li><span><a href=\"#模型训练&amp;提交Baseline\" data-toc-modified-id=\"模型训练&amp;提交Baseline-2.4\"><span class=\"toc-item-num\">2.4&nbsp;&nbsp;</span>模型训练&amp;提交Baseline</a></span><ul class=\"toc-item\"><li><span><a href=\"#模型训练\" data-toc-modified-id=\"模型训练-2.4.1\"><span class=\"toc-item-num\">2.4.1&nbsp;&nbsp;</span>模型训练</a></span></li><li><span><a href=\"#模型预测\" data-toc-modified-id=\"模型预测-2.4.2\"><span class=\"toc-item-num\">2.4.2&nbsp;&nbsp;</span>模型预测</a></span></li><li><span><a href=\"#预测结果格式转换\" data-toc-modified-id=\"预测结果格式转换-2.4.3\"><span class=\"toc-item-num\">2.4.3&nbsp;&nbsp;</span>预测结果格式转换</a></span></li><li><span><a href=\"#分数\" data-toc-modified-id=\"分数-2.4.4\"><span class=\"toc-item-num\">2.4.4&nbsp;&nbsp;</span>分数</a></span><ul class=\"toc-item\"><li><span><a href=\"#Threshold-=-0.2,-Mean-F1-=-0.1860\" data-toc-modified-id=\"Threshold-=-0.2,-Mean-F1-=-0.1860-2.4.4.1\"><span class=\"toc-item-num\">2.4.4.1&nbsp;&nbsp;</span>Threshold = 0.2, Mean F1 = 0.1860</a></span></li><li><span><a href=\"#Threshold-=-0.12,-Mean-F1-=-0.2411\" data-toc-modified-id=\"Threshold-=-0.12,-Mean-F1-=-0.2411-2.4.4.2\"><span class=\"toc-item-num\">2.4.4.2&nbsp;&nbsp;</span>Threshold = 0.12, Mean F1 = 0.2411</a></span></li><li><span><a href=\"#Threshold-=-0.1,-Mean-F1-=-0.2428\" data-toc-modified-id=\"Threshold-=-0.1,-Mean-F1-=-0.2428-2.4.4.3\"><span class=\"toc-item-num\">2.4.4.3&nbsp;&nbsp;</span>Threshold = 0.1, Mean F1 = 0.2428</a></span></li></ul></li></ul></li><li><span><a href=\"#小结\" data-toc-modified-id=\"小结-2.5\"><span class=\"toc-item-num\">2.5&nbsp;&nbsp;</span>小结</a></span></li></ul></li></ul></div>"
   ]
  },
  {
   "cell_type": "markdown",
   "metadata": {},
   "source": [
    "这是我写的第二篇文章,是关于推荐比赛**Instacart Market Basket Analysis**的。 这是这个比赛学习的第一部分,简单的数据EDA & 训练集测试集的候选集构建 & Baseline的提交。\n",
    "\n",
    "大家如果对文章有任何建议的欢迎在下面评论或者留言。\n",
    "\n",
    "# EDA\n",
    "## 工具包 & 数据导入\n",
    "### 工具包导入"
   ]
  },
  {
   "cell_type": "code",
   "execution_count": 1,
   "metadata": {},
   "outputs": [],
   "source": [
    "import pandas as pd\n",
    "import numpy as np\n",
    "import matplotlib.pyplot as plt\n",
    "import seaborn as sns\n",
    "%matplotlib inline"
   ]
  },
  {
   "cell_type": "markdown",
   "metadata": {},
   "source": [
    "### 数据导入\n",
    "- 训练集测试集的导入"
   ]
  },
  {
   "cell_type": "code",
   "execution_count": 177,
   "metadata": {},
   "outputs": [],
   "source": [
    "path = '/data/Data_JieZhang/Inscart/'\n",
    "aisles = pd.read_csv(path + 'aisles.csv')\n",
    "departments = pd.read_csv(path + 'departments.csv')\n",
    "products = pd.read_csv(path + 'products.csv')\n",
    "orders = pd.read_csv(path + 'orders.csv')\n",
    "order_products__train = pd.read_csv(path + 'order_products__train.csv')\n",
    "order_products__prior = pd.read_csv(path + 'order_products__prior.csv')\n",
    "sample_submission = pd.read_csv(path + 'sample_submission.csv')"
   ]
  },
  {
   "cell_type": "markdown",
   "metadata": {},
   "source": [
    "## 数据探索（EDA）"
   ]
  },
  {
   "cell_type": "markdown",
   "metadata": {},
   "source": [
    "### aisles数据集\n",
    "\n",
    "我们先放一下重要的结论,有兴趣的可以自己往下看具体的分析.\n",
    "\n",
    "1. aisles的大小为134\n",
    "2. aisles中存在134个不一样的数据"
   ]
  },
  {
   "cell_type": "markdown",
   "metadata": {},
   "source": [
    "1.aisles的大小为134"
   ]
  },
  {
   "cell_type": "code",
   "execution_count": 3,
   "metadata": {},
   "outputs": [
    {
     "data": {
      "text/html": [
       "<div>\n",
       "<style scoped>\n",
       "    .dataframe tbody tr th:only-of-type {\n",
       "        vertical-align: middle;\n",
       "    }\n",
       "\n",
       "    .dataframe tbody tr th {\n",
       "        vertical-align: top;\n",
       "    }\n",
       "\n",
       "    .dataframe thead th {\n",
       "        text-align: right;\n",
       "    }\n",
       "</style>\n",
       "<table border=\"1\" class=\"dataframe\">\n",
       "  <thead>\n",
       "    <tr style=\"text-align: right;\">\n",
       "      <th></th>\n",
       "      <th>aisle_id</th>\n",
       "      <th>aisle</th>\n",
       "    </tr>\n",
       "  </thead>\n",
       "  <tbody>\n",
       "    <tr>\n",
       "      <th>0</th>\n",
       "      <td>1</td>\n",
       "      <td>prepared soups salads</td>\n",
       "    </tr>\n",
       "    <tr>\n",
       "      <th>1</th>\n",
       "      <td>2</td>\n",
       "      <td>specialty cheeses</td>\n",
       "    </tr>\n",
       "    <tr>\n",
       "      <th>2</th>\n",
       "      <td>3</td>\n",
       "      <td>energy granola bars</td>\n",
       "    </tr>\n",
       "    <tr>\n",
       "      <th>3</th>\n",
       "      <td>4</td>\n",
       "      <td>instant foods</td>\n",
       "    </tr>\n",
       "    <tr>\n",
       "      <th>4</th>\n",
       "      <td>5</td>\n",
       "      <td>marinades meat preparation</td>\n",
       "    </tr>\n",
       "  </tbody>\n",
       "</table>\n",
       "</div>"
      ],
      "text/plain": [
       "   aisle_id                       aisle\n",
       "0         1       prepared soups salads\n",
       "1         2           specialty cheeses\n",
       "2         3         energy granola bars\n",
       "3         4               instant foods\n",
       "4         5  marinades meat preparation"
      ]
     },
     "execution_count": 3,
     "metadata": {},
     "output_type": "execute_result"
    }
   ],
   "source": [
    "aisles.head()"
   ]
  },
  {
   "cell_type": "code",
   "execution_count": 4,
   "metadata": {},
   "outputs": [
    {
     "data": {
      "text/plain": [
       "(134, 2)"
      ]
     },
     "execution_count": 4,
     "metadata": {},
     "output_type": "execute_result"
    }
   ],
   "source": [
    "aisles.shape"
   ]
  },
  {
   "cell_type": "markdown",
   "metadata": {},
   "source": [
    "2.aisles中存在134个不一样的数据"
   ]
  },
  {
   "cell_type": "code",
   "execution_count": 5,
   "metadata": {},
   "outputs": [
    {
     "data": {
      "text/plain": [
       "aisle_id    134\n",
       "aisle       134\n",
       "dtype: int64"
      ]
     },
     "execution_count": 5,
     "metadata": {},
     "output_type": "execute_result"
    }
   ],
   "source": [
    "aisles.nunique()"
   ]
  },
  {
   "cell_type": "markdown",
   "metadata": {},
   "source": [
    "### departments数据集\n",
    "\n",
    "\n",
    "我们先放一下重要的结论,有兴趣的可以自己往下看具体的分析.\n",
    "\n",
    "1. departments的大小为21\n",
    "2. departments中存在21个不一样的数据"
   ]
  },
  {
   "cell_type": "markdown",
   "metadata": {},
   "source": [
    "1.departments的大小为21"
   ]
  },
  {
   "cell_type": "code",
   "execution_count": 6,
   "metadata": {
    "scrolled": true
   },
   "outputs": [
    {
     "data": {
      "text/html": [
       "<div>\n",
       "<style scoped>\n",
       "    .dataframe tbody tr th:only-of-type {\n",
       "        vertical-align: middle;\n",
       "    }\n",
       "\n",
       "    .dataframe tbody tr th {\n",
       "        vertical-align: top;\n",
       "    }\n",
       "\n",
       "    .dataframe thead th {\n",
       "        text-align: right;\n",
       "    }\n",
       "</style>\n",
       "<table border=\"1\" class=\"dataframe\">\n",
       "  <thead>\n",
       "    <tr style=\"text-align: right;\">\n",
       "      <th></th>\n",
       "      <th>department_id</th>\n",
       "      <th>department</th>\n",
       "    </tr>\n",
       "  </thead>\n",
       "  <tbody>\n",
       "    <tr>\n",
       "      <th>0</th>\n",
       "      <td>1</td>\n",
       "      <td>frozen</td>\n",
       "    </tr>\n",
       "    <tr>\n",
       "      <th>1</th>\n",
       "      <td>2</td>\n",
       "      <td>other</td>\n",
       "    </tr>\n",
       "    <tr>\n",
       "      <th>2</th>\n",
       "      <td>3</td>\n",
       "      <td>bakery</td>\n",
       "    </tr>\n",
       "    <tr>\n",
       "      <th>3</th>\n",
       "      <td>4</td>\n",
       "      <td>produce</td>\n",
       "    </tr>\n",
       "    <tr>\n",
       "      <th>4</th>\n",
       "      <td>5</td>\n",
       "      <td>alcohol</td>\n",
       "    </tr>\n",
       "    <tr>\n",
       "      <th>5</th>\n",
       "      <td>6</td>\n",
       "      <td>international</td>\n",
       "    </tr>\n",
       "    <tr>\n",
       "      <th>6</th>\n",
       "      <td>7</td>\n",
       "      <td>beverages</td>\n",
       "    </tr>\n",
       "    <tr>\n",
       "      <th>7</th>\n",
       "      <td>8</td>\n",
       "      <td>pets</td>\n",
       "    </tr>\n",
       "    <tr>\n",
       "      <th>8</th>\n",
       "      <td>9</td>\n",
       "      <td>dry goods pasta</td>\n",
       "    </tr>\n",
       "    <tr>\n",
       "      <th>9</th>\n",
       "      <td>10</td>\n",
       "      <td>bulk</td>\n",
       "    </tr>\n",
       "    <tr>\n",
       "      <th>10</th>\n",
       "      <td>11</td>\n",
       "      <td>personal care</td>\n",
       "    </tr>\n",
       "    <tr>\n",
       "      <th>11</th>\n",
       "      <td>12</td>\n",
       "      <td>meat seafood</td>\n",
       "    </tr>\n",
       "    <tr>\n",
       "      <th>12</th>\n",
       "      <td>13</td>\n",
       "      <td>pantry</td>\n",
       "    </tr>\n",
       "    <tr>\n",
       "      <th>13</th>\n",
       "      <td>14</td>\n",
       "      <td>breakfast</td>\n",
       "    </tr>\n",
       "    <tr>\n",
       "      <th>14</th>\n",
       "      <td>15</td>\n",
       "      <td>canned goods</td>\n",
       "    </tr>\n",
       "    <tr>\n",
       "      <th>15</th>\n",
       "      <td>16</td>\n",
       "      <td>dairy eggs</td>\n",
       "    </tr>\n",
       "    <tr>\n",
       "      <th>16</th>\n",
       "      <td>17</td>\n",
       "      <td>household</td>\n",
       "    </tr>\n",
       "    <tr>\n",
       "      <th>17</th>\n",
       "      <td>18</td>\n",
       "      <td>babies</td>\n",
       "    </tr>\n",
       "    <tr>\n",
       "      <th>18</th>\n",
       "      <td>19</td>\n",
       "      <td>snacks</td>\n",
       "    </tr>\n",
       "    <tr>\n",
       "      <th>19</th>\n",
       "      <td>20</td>\n",
       "      <td>deli</td>\n",
       "    </tr>\n",
       "    <tr>\n",
       "      <th>20</th>\n",
       "      <td>21</td>\n",
       "      <td>missing</td>\n",
       "    </tr>\n",
       "  </tbody>\n",
       "</table>\n",
       "</div>"
      ],
      "text/plain": [
       "    department_id       department\n",
       "0               1           frozen\n",
       "1               2            other\n",
       "2               3           bakery\n",
       "3               4          produce\n",
       "4               5          alcohol\n",
       "5               6    international\n",
       "6               7        beverages\n",
       "7               8             pets\n",
       "8               9  dry goods pasta\n",
       "9              10             bulk\n",
       "10             11    personal care\n",
       "11             12     meat seafood\n",
       "12             13           pantry\n",
       "13             14        breakfast\n",
       "14             15     canned goods\n",
       "15             16       dairy eggs\n",
       "16             17        household\n",
       "17             18           babies\n",
       "18             19           snacks\n",
       "19             20             deli\n",
       "20             21          missing"
      ]
     },
     "execution_count": 6,
     "metadata": {},
     "output_type": "execute_result"
    }
   ],
   "source": [
    "departments"
   ]
  },
  {
   "cell_type": "code",
   "execution_count": 7,
   "metadata": {},
   "outputs": [
    {
     "data": {
      "text/plain": [
       "(21, 2)"
      ]
     },
     "execution_count": 7,
     "metadata": {},
     "output_type": "execute_result"
    }
   ],
   "source": [
    "departments.shape"
   ]
  },
  {
   "cell_type": "markdown",
   "metadata": {},
   "source": [
    "2.departments中存在21个不一样的数据"
   ]
  },
  {
   "cell_type": "code",
   "execution_count": 8,
   "metadata": {},
   "outputs": [
    {
     "data": {
      "text/plain": [
       "department_id    21\n",
       "department       21\n",
       "dtype: int64"
      ]
     },
     "execution_count": 8,
     "metadata": {},
     "output_type": "execute_result"
    }
   ],
   "source": [
    "departments.nunique()"
   ]
  },
  {
   "cell_type": "markdown",
   "metadata": {},
   "source": [
    "### products数据集\n",
    "\n",
    "我们先放一下重要的结论,有兴趣的可以自己往下看具体的分析.\n",
    "\n",
    "1. products数据集共有49688个值\n",
    "2. products中存在49688个不一样的数据"
   ]
  },
  {
   "cell_type": "markdown",
   "metadata": {},
   "source": [
    "1.products数据集共有49688个值"
   ]
  },
  {
   "cell_type": "code",
   "execution_count": 9,
   "metadata": {
    "scrolled": true
   },
   "outputs": [
    {
     "data": {
      "text/html": [
       "<div>\n",
       "<style scoped>\n",
       "    .dataframe tbody tr th:only-of-type {\n",
       "        vertical-align: middle;\n",
       "    }\n",
       "\n",
       "    .dataframe tbody tr th {\n",
       "        vertical-align: top;\n",
       "    }\n",
       "\n",
       "    .dataframe thead th {\n",
       "        text-align: right;\n",
       "    }\n",
       "</style>\n",
       "<table border=\"1\" class=\"dataframe\">\n",
       "  <thead>\n",
       "    <tr style=\"text-align: right;\">\n",
       "      <th></th>\n",
       "      <th>product_id</th>\n",
       "      <th>product_name</th>\n",
       "      <th>aisle_id</th>\n",
       "      <th>department_id</th>\n",
       "    </tr>\n",
       "  </thead>\n",
       "  <tbody>\n",
       "    <tr>\n",
       "      <th>0</th>\n",
       "      <td>1</td>\n",
       "      <td>Chocolate Sandwich Cookies</td>\n",
       "      <td>61</td>\n",
       "      <td>19</td>\n",
       "    </tr>\n",
       "    <tr>\n",
       "      <th>1</th>\n",
       "      <td>2</td>\n",
       "      <td>All-Seasons Salt</td>\n",
       "      <td>104</td>\n",
       "      <td>13</td>\n",
       "    </tr>\n",
       "    <tr>\n",
       "      <th>2</th>\n",
       "      <td>3</td>\n",
       "      <td>Robust Golden Unsweetened Oolong Tea</td>\n",
       "      <td>94</td>\n",
       "      <td>7</td>\n",
       "    </tr>\n",
       "    <tr>\n",
       "      <th>3</th>\n",
       "      <td>4</td>\n",
       "      <td>Smart Ones Classic Favorites Mini Rigatoni Wit...</td>\n",
       "      <td>38</td>\n",
       "      <td>1</td>\n",
       "    </tr>\n",
       "    <tr>\n",
       "      <th>4</th>\n",
       "      <td>5</td>\n",
       "      <td>Green Chile Anytime Sauce</td>\n",
       "      <td>5</td>\n",
       "      <td>13</td>\n",
       "    </tr>\n",
       "  </tbody>\n",
       "</table>\n",
       "</div>"
      ],
      "text/plain": [
       "   product_id                                       product_name  aisle_id  \\\n",
       "0           1                         Chocolate Sandwich Cookies        61   \n",
       "1           2                                   All-Seasons Salt       104   \n",
       "2           3               Robust Golden Unsweetened Oolong Tea        94   \n",
       "3           4  Smart Ones Classic Favorites Mini Rigatoni Wit...        38   \n",
       "4           5                          Green Chile Anytime Sauce         5   \n",
       "\n",
       "   department_id  \n",
       "0             19  \n",
       "1             13  \n",
       "2              7  \n",
       "3              1  \n",
       "4             13  "
      ]
     },
     "execution_count": 9,
     "metadata": {},
     "output_type": "execute_result"
    }
   ],
   "source": [
    "products.head()"
   ]
  },
  {
   "cell_type": "code",
   "execution_count": 10,
   "metadata": {},
   "outputs": [
    {
     "data": {
      "text/plain": [
       "(49688, 4)"
      ]
     },
     "execution_count": 10,
     "metadata": {},
     "output_type": "execute_result"
    }
   ],
   "source": [
    "products.shape"
   ]
  },
  {
   "cell_type": "markdown",
   "metadata": {},
   "source": [
    "2.products中存在49688个不一样的数据"
   ]
  },
  {
   "cell_type": "code",
   "execution_count": 11,
   "metadata": {},
   "outputs": [
    {
     "data": {
      "text/plain": [
       "product_id       49688\n",
       "product_name     49688\n",
       "aisle_id           134\n",
       "department_id       21\n",
       "dtype: int64"
      ]
     },
     "execution_count": 11,
     "metadata": {},
     "output_type": "execute_result"
    }
   ],
   "source": [
    "products.nunique()"
   ]
  },
  {
   "cell_type": "markdown",
   "metadata": {},
   "source": [
    "###  oders数据集\n",
    "我们先写一下重要的结论,有兴趣的可以自己往下看具体的分析.\n",
    "\n",
    "1. orders数据集共有3421083个样本，并且days_since_prior_order特征中出现了缺失值的情况。\n",
    "2. 我们发现,正如我们所料,所有的days_since_prior_order = NAN中order_number都是1,也就是第一单。\n",
    "3. order_number ==1的个数和用户个数是一样的,也就是说order_number是用户的购买顺序.每一次购买都会对应一个不同的订单号。\n",
    "4. user_id有206209个不同的值,eval_set,是一个categorical值,有3个不同的值。\n",
    "5. order_hour_of_day,order_hour_of_day属于正常值,一周7天,一天24小时。\n",
    "6. 一个用户最多有100条记录,最少有4条记录。\n",
    "7. 用户对应记录为4的次数最多,由4-100的次数逐次递减。\n",
    "8. eval_set是用来区分训练集&测试集&先验的,其中需要预测的test有75000个,prior中的类多了很多,这个时候需要考虑如何将prior和train进行拼接提取特征。\n",
    "9. 我们发现有75000个用户出现在了prior中,但是却未出现在train中。\n",
    "10. 训练集合中出现的用户在测试集中都未出现,**但是却全部出现在了prior中**。\n",
    "11. 所有的product_id都出现在训练集合中,所以不存在任何奇异值的情况。\n",
    "12. order_number存在时序关系,因为测试集和训练集不存在交集,我们发现训练集和测试集中的数据是最新的,所以我们的任务是预测未来用户会购买哪些产品.**(order_number_max的值都出现在了训练集&测试集中)**"
   ]
  },
  {
   "cell_type": "markdown",
   "metadata": {},
   "source": [
    "\n",
    "1.orders数据集共有3421083个样本，并且days_since_prior_order特征中出现了缺失值的情况.**(因为数据的特征是存在物理含义的,所以此时我们得看一下为什么存在缺失的情况,可能是因为第一个订单,所以在此之前是不存在订单的.)**\n"
   ]
  },
  {
   "cell_type": "code",
   "execution_count": 12,
   "metadata": {},
   "outputs": [
    {
     "data": {
      "text/html": [
       "<div>\n",
       "<style scoped>\n",
       "    .dataframe tbody tr th:only-of-type {\n",
       "        vertical-align: middle;\n",
       "    }\n",
       "\n",
       "    .dataframe tbody tr th {\n",
       "        vertical-align: top;\n",
       "    }\n",
       "\n",
       "    .dataframe thead th {\n",
       "        text-align: right;\n",
       "    }\n",
       "</style>\n",
       "<table border=\"1\" class=\"dataframe\">\n",
       "  <thead>\n",
       "    <tr style=\"text-align: right;\">\n",
       "      <th></th>\n",
       "      <th>order_id</th>\n",
       "      <th>user_id</th>\n",
       "      <th>eval_set</th>\n",
       "      <th>order_number</th>\n",
       "      <th>order_dow</th>\n",
       "      <th>order_hour_of_day</th>\n",
       "      <th>days_since_prior_order</th>\n",
       "    </tr>\n",
       "  </thead>\n",
       "  <tbody>\n",
       "    <tr>\n",
       "      <th>0</th>\n",
       "      <td>2539329</td>\n",
       "      <td>1</td>\n",
       "      <td>prior</td>\n",
       "      <td>1</td>\n",
       "      <td>2</td>\n",
       "      <td>8</td>\n",
       "      <td>NaN</td>\n",
       "    </tr>\n",
       "    <tr>\n",
       "      <th>1</th>\n",
       "      <td>2398795</td>\n",
       "      <td>1</td>\n",
       "      <td>prior</td>\n",
       "      <td>2</td>\n",
       "      <td>3</td>\n",
       "      <td>7</td>\n",
       "      <td>15.0</td>\n",
       "    </tr>\n",
       "    <tr>\n",
       "      <th>2</th>\n",
       "      <td>473747</td>\n",
       "      <td>1</td>\n",
       "      <td>prior</td>\n",
       "      <td>3</td>\n",
       "      <td>3</td>\n",
       "      <td>12</td>\n",
       "      <td>21.0</td>\n",
       "    </tr>\n",
       "    <tr>\n",
       "      <th>3</th>\n",
       "      <td>2254736</td>\n",
       "      <td>1</td>\n",
       "      <td>prior</td>\n",
       "      <td>4</td>\n",
       "      <td>4</td>\n",
       "      <td>7</td>\n",
       "      <td>29.0</td>\n",
       "    </tr>\n",
       "    <tr>\n",
       "      <th>4</th>\n",
       "      <td>431534</td>\n",
       "      <td>1</td>\n",
       "      <td>prior</td>\n",
       "      <td>5</td>\n",
       "      <td>4</td>\n",
       "      <td>15</td>\n",
       "      <td>28.0</td>\n",
       "    </tr>\n",
       "  </tbody>\n",
       "</table>\n",
       "</div>"
      ],
      "text/plain": [
       "   order_id  user_id eval_set  order_number  order_dow  order_hour_of_day  \\\n",
       "0   2539329        1    prior             1          2                  8   \n",
       "1   2398795        1    prior             2          3                  7   \n",
       "2    473747        1    prior             3          3                 12   \n",
       "3   2254736        1    prior             4          4                  7   \n",
       "4    431534        1    prior             5          4                 15   \n",
       "\n",
       "   days_since_prior_order  \n",
       "0                     NaN  \n",
       "1                    15.0  \n",
       "2                    21.0  \n",
       "3                    29.0  \n",
       "4                    28.0  "
      ]
     },
     "execution_count": 12,
     "metadata": {},
     "output_type": "execute_result"
    }
   ],
   "source": [
    "orders.head()"
   ]
  },
  {
   "cell_type": "code",
   "execution_count": 13,
   "metadata": {
    "scrolled": true
   },
   "outputs": [
    {
     "data": {
      "text/plain": [
       "(3421083, 7)"
      ]
     },
     "execution_count": 13,
     "metadata": {},
     "output_type": "execute_result"
    }
   ],
   "source": [
    "orders.shape"
   ]
  },
  {
   "cell_type": "markdown",
   "metadata": {},
   "source": [
    "2.我们发现,正如我们所料,所有的days_since_prior_order = NAN中order_number都是1,也就是第一单,因而不存在上一单,这个时候我们如果我们采用树模型解决该问题,那么尽量不要将缺失值进行填充,或者填充为其他较大值为好.(因为填充-1等较小值,模型往往可能认为购买的时间较近)"
   ]
  },
  {
   "cell_type": "code",
   "execution_count": 14,
   "metadata": {},
   "outputs": [
    {
     "data": {
      "text/html": [
       "<div>\n",
       "<style scoped>\n",
       "    .dataframe tbody tr th:only-of-type {\n",
       "        vertical-align: middle;\n",
       "    }\n",
       "\n",
       "    .dataframe tbody tr th {\n",
       "        vertical-align: top;\n",
       "    }\n",
       "\n",
       "    .dataframe thead th {\n",
       "        text-align: right;\n",
       "    }\n",
       "</style>\n",
       "<table border=\"1\" class=\"dataframe\">\n",
       "  <thead>\n",
       "    <tr style=\"text-align: right;\">\n",
       "      <th></th>\n",
       "      <th>order_id</th>\n",
       "      <th>user_id</th>\n",
       "      <th>eval_set</th>\n",
       "      <th>order_number</th>\n",
       "      <th>order_dow</th>\n",
       "      <th>order_hour_of_day</th>\n",
       "      <th>days_since_prior_order</th>\n",
       "    </tr>\n",
       "  </thead>\n",
       "  <tbody>\n",
       "    <tr>\n",
       "      <th>0</th>\n",
       "      <td>2539329</td>\n",
       "      <td>1</td>\n",
       "      <td>prior</td>\n",
       "      <td>1</td>\n",
       "      <td>2</td>\n",
       "      <td>8</td>\n",
       "      <td>NaN</td>\n",
       "    </tr>\n",
       "    <tr>\n",
       "      <th>11</th>\n",
       "      <td>2168274</td>\n",
       "      <td>2</td>\n",
       "      <td>prior</td>\n",
       "      <td>1</td>\n",
       "      <td>2</td>\n",
       "      <td>11</td>\n",
       "      <td>NaN</td>\n",
       "    </tr>\n",
       "    <tr>\n",
       "      <th>26</th>\n",
       "      <td>1374495</td>\n",
       "      <td>3</td>\n",
       "      <td>prior</td>\n",
       "      <td>1</td>\n",
       "      <td>1</td>\n",
       "      <td>14</td>\n",
       "      <td>NaN</td>\n",
       "    </tr>\n",
       "    <tr>\n",
       "      <th>39</th>\n",
       "      <td>3343014</td>\n",
       "      <td>4</td>\n",
       "      <td>prior</td>\n",
       "      <td>1</td>\n",
       "      <td>6</td>\n",
       "      <td>11</td>\n",
       "      <td>NaN</td>\n",
       "    </tr>\n",
       "    <tr>\n",
       "      <th>45</th>\n",
       "      <td>2717275</td>\n",
       "      <td>5</td>\n",
       "      <td>prior</td>\n",
       "      <td>1</td>\n",
       "      <td>3</td>\n",
       "      <td>12</td>\n",
       "      <td>NaN</td>\n",
       "    </tr>\n",
       "    <tr>\n",
       "      <th>50</th>\n",
       "      <td>2086598</td>\n",
       "      <td>6</td>\n",
       "      <td>prior</td>\n",
       "      <td>1</td>\n",
       "      <td>5</td>\n",
       "      <td>18</td>\n",
       "      <td>NaN</td>\n",
       "    </tr>\n",
       "    <tr>\n",
       "      <th>54</th>\n",
       "      <td>2565571</td>\n",
       "      <td>7</td>\n",
       "      <td>prior</td>\n",
       "      <td>1</td>\n",
       "      <td>3</td>\n",
       "      <td>9</td>\n",
       "      <td>NaN</td>\n",
       "    </tr>\n",
       "    <tr>\n",
       "      <th>75</th>\n",
       "      <td>600894</td>\n",
       "      <td>8</td>\n",
       "      <td>prior</td>\n",
       "      <td>1</td>\n",
       "      <td>6</td>\n",
       "      <td>0</td>\n",
       "      <td>NaN</td>\n",
       "    </tr>\n",
       "    <tr>\n",
       "      <th>79</th>\n",
       "      <td>280530</td>\n",
       "      <td>9</td>\n",
       "      <td>prior</td>\n",
       "      <td>1</td>\n",
       "      <td>1</td>\n",
       "      <td>17</td>\n",
       "      <td>NaN</td>\n",
       "    </tr>\n",
       "    <tr>\n",
       "      <th>83</th>\n",
       "      <td>1224907</td>\n",
       "      <td>10</td>\n",
       "      <td>prior</td>\n",
       "      <td>1</td>\n",
       "      <td>2</td>\n",
       "      <td>14</td>\n",
       "      <td>NaN</td>\n",
       "    </tr>\n",
       "  </tbody>\n",
       "</table>\n",
       "</div>"
      ],
      "text/plain": [
       "    order_id  user_id eval_set  order_number  order_dow  order_hour_of_day  \\\n",
       "0    2539329        1    prior             1          2                  8   \n",
       "11   2168274        2    prior             1          2                 11   \n",
       "26   1374495        3    prior             1          1                 14   \n",
       "39   3343014        4    prior             1          6                 11   \n",
       "45   2717275        5    prior             1          3                 12   \n",
       "50   2086598        6    prior             1          5                 18   \n",
       "54   2565571        7    prior             1          3                  9   \n",
       "75    600894        8    prior             1          6                  0   \n",
       "79    280530        9    prior             1          1                 17   \n",
       "83   1224907       10    prior             1          2                 14   \n",
       "\n",
       "    days_since_prior_order  \n",
       "0                      NaN  \n",
       "11                     NaN  \n",
       "26                     NaN  \n",
       "39                     NaN  \n",
       "45                     NaN  \n",
       "50                     NaN  \n",
       "54                     NaN  \n",
       "75                     NaN  \n",
       "79                     NaN  \n",
       "83                     NaN  "
      ]
     },
     "execution_count": 14,
     "metadata": {},
     "output_type": "execute_result"
    }
   ],
   "source": [
    "orders.loc[orders.days_since_prior_order.isnull()].head(10)"
   ]
  },
  {
   "cell_type": "markdown",
   "metadata": {},
   "source": [
    "3.order_number ==1的个数和用户个数是一样的,也就是说order_number是用户的购买顺序.每一次购买都会对应一个不同的订单号。 \n",
    " \n",
    "4.user_id有206209个不同的值,eval_set,是一个categorical值,有3个不同的值。\n"
   ]
  },
  {
   "cell_type": "code",
   "execution_count": 15,
   "metadata": {},
   "outputs": [
    {
     "name": "stdout",
     "output_type": "stream",
     "text": [
      "There are  206209 samples with order_number=1 \n"
     ]
    }
   ],
   "source": [
    "print('There are  %d samples with order_number=1 ' % np.sum(orders['order_number'] == 1))"
   ]
  },
  {
   "cell_type": "code",
   "execution_count": 16,
   "metadata": {},
   "outputs": [
    {
     "data": {
      "text/plain": [
       "order_id                  3421083\n",
       "user_id                    206209\n",
       "eval_set                        3\n",
       "order_number                  100\n",
       "order_dow                       7\n",
       "order_hour_of_day              24\n",
       "days_since_prior_order         31\n",
       "dtype: int64"
      ]
     },
     "execution_count": 16,
     "metadata": {},
     "output_type": "execute_result"
    }
   ],
   "source": [
    "orders.nunique()"
   ]
  },
  {
   "cell_type": "code",
   "execution_count": 17,
   "metadata": {
    "scrolled": true
   },
   "outputs": [
    {
     "data": {
      "text/plain": [
       "user_id\n",
       "206209    1\n",
       "68732     1\n",
       "68742     1\n",
       "68741     1\n",
       "68740     1\n",
       "68739     1\n",
       "68738     1\n",
       "68737     1\n",
       "68736     1\n",
       "68735     1\n",
       "68734     1\n",
       "68733     1\n",
       "68731     1\n",
       "68769     1\n",
       "68730     1\n",
       "68729     1\n",
       "68728     1\n",
       "68727     1\n",
       "68726     1\n",
       "68725     1\n",
       "68724     1\n",
       "68723     1\n",
       "68722     1\n",
       "68721     1\n",
       "68743     1\n",
       "68744     1\n",
       "68745     1\n",
       "68746     1\n",
       "68767     1\n",
       "68766     1\n",
       "         ..\n",
       "137445    1\n",
       "137444    1\n",
       "137443    1\n",
       "137442    1\n",
       "137463    1\n",
       "137465    1\n",
       "137488    1\n",
       "137466    1\n",
       "137487    1\n",
       "137486    1\n",
       "137485    1\n",
       "137484    1\n",
       "137483    1\n",
       "137482    1\n",
       "137481    1\n",
       "137480    1\n",
       "137479    1\n",
       "137478    1\n",
       "137477    1\n",
       "137476    1\n",
       "137475    1\n",
       "137474    1\n",
       "137473    1\n",
       "137472    1\n",
       "137471    1\n",
       "137470    1\n",
       "137469    1\n",
       "137468    1\n",
       "137467    1\n",
       "1         1\n",
       "Name: order_number, Length: 206209, dtype: int64"
      ]
     },
     "execution_count": 17,
     "metadata": {},
     "output_type": "execute_result"
    }
   ],
   "source": [
    "orders.groupby('user_id')['order_number'].min().sort_values(ascending = False)"
   ]
  },
  {
   "cell_type": "markdown",
   "metadata": {},
   "source": [
    "基于上面的信息,我们再来看几个简单的类别特征,这里主要是为了获取一些基础的信息,同时查看是否存在一些奇异值。\n",
    "\n",
    "5.order_hour_of_day,order_hour_of_day属于正常值,一周7天,一天24小时"
   ]
  },
  {
   "cell_type": "code",
   "execution_count": 18,
   "metadata": {},
   "outputs": [
    {
     "data": {
      "text/html": [
       "<div>\n",
       "<style scoped>\n",
       "    .dataframe tbody tr th:only-of-type {\n",
       "        vertical-align: middle;\n",
       "    }\n",
       "\n",
       "    .dataframe tbody tr th {\n",
       "        vertical-align: top;\n",
       "    }\n",
       "\n",
       "    .dataframe thead th {\n",
       "        text-align: right;\n",
       "    }\n",
       "</style>\n",
       "<table border=\"1\" class=\"dataframe\">\n",
       "  <thead>\n",
       "    <tr style=\"text-align: right;\">\n",
       "      <th></th>\n",
       "      <th>order_dow</th>\n",
       "      <th>order_hour_of_day</th>\n",
       "    </tr>\n",
       "  </thead>\n",
       "  <tbody>\n",
       "    <tr>\n",
       "      <th>count</th>\n",
       "      <td>3.421083e+06</td>\n",
       "      <td>3.421083e+06</td>\n",
       "    </tr>\n",
       "    <tr>\n",
       "      <th>mean</th>\n",
       "      <td>2.776219e+00</td>\n",
       "      <td>1.345202e+01</td>\n",
       "    </tr>\n",
       "    <tr>\n",
       "      <th>std</th>\n",
       "      <td>2.046829e+00</td>\n",
       "      <td>4.226088e+00</td>\n",
       "    </tr>\n",
       "    <tr>\n",
       "      <th>min</th>\n",
       "      <td>0.000000e+00</td>\n",
       "      <td>0.000000e+00</td>\n",
       "    </tr>\n",
       "    <tr>\n",
       "      <th>25%</th>\n",
       "      <td>1.000000e+00</td>\n",
       "      <td>1.000000e+01</td>\n",
       "    </tr>\n",
       "    <tr>\n",
       "      <th>50%</th>\n",
       "      <td>3.000000e+00</td>\n",
       "      <td>1.300000e+01</td>\n",
       "    </tr>\n",
       "    <tr>\n",
       "      <th>75%</th>\n",
       "      <td>5.000000e+00</td>\n",
       "      <td>1.600000e+01</td>\n",
       "    </tr>\n",
       "    <tr>\n",
       "      <th>max</th>\n",
       "      <td>6.000000e+00</td>\n",
       "      <td>2.300000e+01</td>\n",
       "    </tr>\n",
       "  </tbody>\n",
       "</table>\n",
       "</div>"
      ],
      "text/plain": [
       "          order_dow  order_hour_of_day\n",
       "count  3.421083e+06       3.421083e+06\n",
       "mean   2.776219e+00       1.345202e+01\n",
       "std    2.046829e+00       4.226088e+00\n",
       "min    0.000000e+00       0.000000e+00\n",
       "25%    1.000000e+00       1.000000e+01\n",
       "50%    3.000000e+00       1.300000e+01\n",
       "75%    5.000000e+00       1.600000e+01\n",
       "max    6.000000e+00       2.300000e+01"
      ]
     },
     "execution_count": 18,
     "metadata": {},
     "output_type": "execute_result"
    }
   ],
   "source": [
    "orders[['order_dow','order_hour_of_day']].describe()"
   ]
  },
  {
   "cell_type": "markdown",
   "metadata": {},
   "source": [
    "6.一个用户最多有100条记录,最少有4条记录.\n",
    "\n",
    "因为value_counts默认是递减排序的,我们发现一个用户的订单个数最多是100,最少是4。\n"
   ]
  },
  {
   "cell_type": "code",
   "execution_count": 19,
   "metadata": {
    "scrolled": true
   },
   "outputs": [
    {
     "data": {
      "text/plain": [
       "53684     100\n",
       "201623    100\n",
       "50817     100\n",
       "176951    100\n",
       "88911     100\n",
       "Name: user_id, dtype: int64"
      ]
     },
     "execution_count": 19,
     "metadata": {},
     "output_type": "execute_result"
    }
   ],
   "source": [
    "orders['user_id'].value_counts()[:5]"
   ]
  },
  {
   "cell_type": "code",
   "execution_count": 20,
   "metadata": {},
   "outputs": [
    {
     "data": {
      "text/plain": [
       "24224     4\n",
       "199509    4\n",
       "32420     4\n",
       "21310     4\n",
       "196830    4\n",
       "Name: user_id, dtype: int64"
      ]
     },
     "execution_count": 20,
     "metadata": {},
     "output_type": "execute_result"
    }
   ],
   "source": [
    "orders['user_id'].value_counts()[-5:]"
   ]
  },
  {
   "cell_type": "markdown",
   "metadata": {},
   "source": [
    "7.用户对应记录为4的次数最多,由4-100的次数逐次递减。"
   ]
  },
  {
   "cell_type": "code",
   "execution_count": 21,
   "metadata": {
    "scrolled": true
   },
   "outputs": [],
   "source": [
    "tmp = pd.DataFrame(orders['user_id'].value_counts().values,columns = ['user_correspoding_samples'])\n",
    "tmp = tmp['user_correspoding_samples'].value_counts()"
   ]
  },
  {
   "cell_type": "code",
   "execution_count": 22,
   "metadata": {},
   "outputs": [
    {
     "data": {
      "text/plain": [
       "<matplotlib.axes._subplots.AxesSubplot at 0x7fa702e69b00>"
      ]
     },
     "execution_count": 22,
     "metadata": {},
     "output_type": "execute_result"
    },
    {
     "data": {
      "image/png": "[encoded data removed]",
      "text/plain": [
       "<matplotlib.figure.Figure at 0x7fa702e697f0>"
      ]
     },
     "metadata": {},
     "output_type": "display_data"
    }
   ],
   "source": [
    "sns.barplot(x =  tmp.index, y =tmp.values)"
   ]
  },
  {
   "cell_type": "markdown",
   "metadata": {},
   "source": [
    "8.eval_set是用来区分训练集&测试集&先验的,其中需要预测的test有75000个,prior中的类多了很多,这个时候需要考虑如何将prior和train进行拼接提取特征。"
   ]
  },
  {
   "cell_type": "code",
   "execution_count": 23,
   "metadata": {},
   "outputs": [
    {
     "data": {
      "text/plain": [
       "prior    3214874\n",
       "train     131209\n",
       "test       75000\n",
       "Name: eval_set, dtype: int64"
      ]
     },
     "execution_count": 23,
     "metadata": {},
     "output_type": "execute_result"
    }
   ],
   "source": [
    "orders['eval_set'].value_counts()"
   ]
  },
  {
   "cell_type": "markdown",
   "metadata": {},
   "source": [
    "下面我看一下prior,train,test中用户的交叉情况,因为用户在所有的推荐问题中都将是一个极为重要的特征变量。\n",
    "\n",
    "9.我们发现有75000个用户出现在了prior中,但是却未出现在train中。"
   ]
  },
  {
   "cell_type": "code",
   "execution_count": 24,
   "metadata": {},
   "outputs": [
    {
     "data": {
      "text/plain": [
       "75000"
      ]
     },
     "execution_count": 24,
     "metadata": {},
     "output_type": "execute_result"
    }
   ],
   "source": [
    "len(set(orders.loc[orders['eval_set']=='prior','user_id']) - set(orders.loc[orders['eval_set']=='train','user_id']))"
   ]
  },
  {
   "cell_type": "code",
   "execution_count": 25,
   "metadata": {},
   "outputs": [
    {
     "data": {
      "text/plain": [
       "131209"
      ]
     },
     "execution_count": 25,
     "metadata": {},
     "output_type": "execute_result"
    }
   ],
   "source": [
    "len(set(orders.loc[orders['eval_set']=='train','user_id']))"
   ]
  },
  {
   "cell_type": "markdown",
   "metadata": {},
   "source": [
    "10.训练集合中出现的用户在测试集中都未出现,**但是却全部出现在了prior中**。这点很重要,这也意味着用户的id编码在模型预测时,可能并不能带来增益,可以考虑删除."
   ]
  },
  {
   "cell_type": "code",
   "execution_count": 26,
   "metadata": {},
   "outputs": [
    {
     "data": {
      "text/plain": [
       "131209"
      ]
     },
     "execution_count": 26,
     "metadata": {},
     "output_type": "execute_result"
    }
   ],
   "source": [
    "len(set(orders.loc[orders['eval_set']=='train','user_id']) - set(orders.loc[orders['eval_set']=='test','user_id']))"
   ]
  },
  {
   "cell_type": "code",
   "execution_count": 27,
   "metadata": {},
   "outputs": [
    {
     "data": {
      "text/plain": [
       "0"
      ]
     },
     "execution_count": 27,
     "metadata": {},
     "output_type": "execute_result"
    }
   ],
   "source": [
    "len(set(orders.loc[orders['eval_set']=='test','user_id']) - set(orders.loc[orders['eval_set']=='prior','user_id']))"
   ]
  },
  {
   "cell_type": "markdown",
   "metadata": {},
   "source": [
    "11.所有的product_id都出现在训练集合中,所以不存在任何奇异值的情况"
   ]
  },
  {
   "cell_type": "code",
   "execution_count": 28,
   "metadata": {},
   "outputs": [
    {
     "data": {
      "text/plain": [
       "set()"
      ]
     },
     "execution_count": 28,
     "metadata": {},
     "output_type": "execute_result"
    }
   ],
   "source": [
    "set(order_products__prior['product_id'].values) - set(products['product_id'].values)"
   ]
  },
  {
   "cell_type": "code",
   "execution_count": 29,
   "metadata": {},
   "outputs": [
    {
     "data": {
      "text/html": [
       "<div>\n",
       "<style scoped>\n",
       "    .dataframe tbody tr th:only-of-type {\n",
       "        vertical-align: middle;\n",
       "    }\n",
       "\n",
       "    .dataframe tbody tr th {\n",
       "        vertical-align: top;\n",
       "    }\n",
       "\n",
       "    .dataframe thead th {\n",
       "        text-align: right;\n",
       "    }\n",
       "</style>\n",
       "<table border=\"1\" class=\"dataframe\">\n",
       "  <thead>\n",
       "    <tr style=\"text-align: right;\">\n",
       "      <th></th>\n",
       "      <th>order_id</th>\n",
       "      <th>user_id</th>\n",
       "      <th>eval_set</th>\n",
       "      <th>order_number</th>\n",
       "      <th>order_dow</th>\n",
       "      <th>order_hour_of_day</th>\n",
       "      <th>days_since_prior_order</th>\n",
       "    </tr>\n",
       "  </thead>\n",
       "  <tbody>\n",
       "    <tr>\n",
       "      <th>0</th>\n",
       "      <td>2539329</td>\n",
       "      <td>1</td>\n",
       "      <td>prior</td>\n",
       "      <td>1</td>\n",
       "      <td>2</td>\n",
       "      <td>8</td>\n",
       "      <td>NaN</td>\n",
       "    </tr>\n",
       "    <tr>\n",
       "      <th>1</th>\n",
       "      <td>2398795</td>\n",
       "      <td>1</td>\n",
       "      <td>prior</td>\n",
       "      <td>2</td>\n",
       "      <td>3</td>\n",
       "      <td>7</td>\n",
       "      <td>15.0</td>\n",
       "    </tr>\n",
       "    <tr>\n",
       "      <th>2</th>\n",
       "      <td>473747</td>\n",
       "      <td>1</td>\n",
       "      <td>prior</td>\n",
       "      <td>3</td>\n",
       "      <td>3</td>\n",
       "      <td>12</td>\n",
       "      <td>21.0</td>\n",
       "    </tr>\n",
       "    <tr>\n",
       "      <th>3</th>\n",
       "      <td>2254736</td>\n",
       "      <td>1</td>\n",
       "      <td>prior</td>\n",
       "      <td>4</td>\n",
       "      <td>4</td>\n",
       "      <td>7</td>\n",
       "      <td>29.0</td>\n",
       "    </tr>\n",
       "    <tr>\n",
       "      <th>4</th>\n",
       "      <td>431534</td>\n",
       "      <td>1</td>\n",
       "      <td>prior</td>\n",
       "      <td>5</td>\n",
       "      <td>4</td>\n",
       "      <td>15</td>\n",
       "      <td>28.0</td>\n",
       "    </tr>\n",
       "  </tbody>\n",
       "</table>\n",
       "</div>"
      ],
      "text/plain": [
       "   order_id  user_id eval_set  order_number  order_dow  order_hour_of_day  \\\n",
       "0   2539329        1    prior             1          2                  8   \n",
       "1   2398795        1    prior             2          3                  7   \n",
       "2    473747        1    prior             3          3                 12   \n",
       "3   2254736        1    prior             4          4                  7   \n",
       "4    431534        1    prior             5          4                 15   \n",
       "\n",
       "   days_since_prior_order  \n",
       "0                     NaN  \n",
       "1                    15.0  \n",
       "2                    21.0  \n",
       "3                    29.0  \n",
       "4                    28.0  "
      ]
     },
     "execution_count": 29,
     "metadata": {},
     "output_type": "execute_result"
    }
   ],
   "source": [
    "orders.head()"
   ]
  },
  {
   "cell_type": "markdown",
   "metadata": {},
   "source": [
    "我们再看一下order_number与订单的关系，我们发现:\n",
    "\n",
    "12.order_number存在时序关系,因为测试集和训练集不存在交集,我们发现训练集和测试集中的数据是最新的,所以我们的任务是预测未来用户会购买哪些产品.(order_number_max的值都出现在了训练集&测试集中)"
   ]
  },
  {
   "cell_type": "code",
   "execution_count": 30,
   "metadata": {},
   "outputs": [
    {
     "data": {
      "text/plain": [
       "prior    3214874\n",
       "Name: eval_set, dtype: int64"
      ]
     },
     "execution_count": 30,
     "metadata": {},
     "output_type": "execute_result"
    }
   ],
   "source": [
    "orders['order_number_max'] = orders.groupby('user_id')['order_number'].transform('max').values\n",
    "orders.loc[orders.order_number!=orders.order_number_max,'eval_set'].value_counts()"
   ]
  },
  {
   "cell_type": "code",
   "execution_count": 31,
   "metadata": {},
   "outputs": [
    {
     "data": {
      "text/plain": [
       "train    131209\n",
       "test      75000\n",
       "Name: eval_set, dtype: int64"
      ]
     },
     "execution_count": 31,
     "metadata": {},
     "output_type": "execute_result"
    }
   ],
   "source": [
    "orders.loc[orders.order_number==orders.order_number_max,'eval_set'].value_counts()"
   ]
  },
  {
   "cell_type": "markdown",
   "metadata": {},
   "source": [
    "### order_products__prior.csv数据集\n",
    "下面我们再看一下order_products__prior数据集。\n",
    "\n",
    "1. 一个order_id对应多个product_id,一个订单里面有很多产品,这很符合我们的购物经验。\n",
    "2. order_products__prior数据集共有32434489个样本。\n",
    "3. order_id有3214874个不同的,和之前的orders是一致的。\n",
    "4. reordered的均值是0.58967,也就是说有大概42%的数据是没记录的,剩下的都是之前有买过的。\n",
    "5. 添加到购物篮清单顺序,从1-145次数依次递减,符合实际情况,并无异常值,但是我们发现加入到篮子中的顺序越大,产品越少。和我们的直觉也是一样的。"
   ]
  },
  {
   "cell_type": "markdown",
   "metadata": {},
   "source": [
    "\n",
    "1.一个order_id对应多个product_id,一个订单里面有很多产品,这很符合我们的购物经验.\n",
    "\n",
    "2.order_products__prior数据集共有32434489个样本"
   ]
  },
  {
   "cell_type": "code",
   "execution_count": 32,
   "metadata": {
    "scrolled": true
   },
   "outputs": [
    {
     "data": {
      "text/html": [
       "<div>\n",
       "<style scoped>\n",
       "    .dataframe tbody tr th:only-of-type {\n",
       "        vertical-align: middle;\n",
       "    }\n",
       "\n",
       "    .dataframe tbody tr th {\n",
       "        vertical-align: top;\n",
       "    }\n",
       "\n",
       "    .dataframe thead th {\n",
       "        text-align: right;\n",
       "    }\n",
       "</style>\n",
       "<table border=\"1\" class=\"dataframe\">\n",
       "  <thead>\n",
       "    <tr style=\"text-align: right;\">\n",
       "      <th></th>\n",
       "      <th>order_id</th>\n",
       "      <th>product_id</th>\n",
       "      <th>add_to_cart_order</th>\n",
       "      <th>reordered</th>\n",
       "    </tr>\n",
       "  </thead>\n",
       "  <tbody>\n",
       "    <tr>\n",
       "      <th>0</th>\n",
       "      <td>2</td>\n",
       "      <td>33120</td>\n",
       "      <td>1</td>\n",
       "      <td>1</td>\n",
       "    </tr>\n",
       "    <tr>\n",
       "      <th>1</th>\n",
       "      <td>2</td>\n",
       "      <td>28985</td>\n",
       "      <td>2</td>\n",
       "      <td>1</td>\n",
       "    </tr>\n",
       "    <tr>\n",
       "      <th>2</th>\n",
       "      <td>2</td>\n",
       "      <td>9327</td>\n",
       "      <td>3</td>\n",
       "      <td>0</td>\n",
       "    </tr>\n",
       "    <tr>\n",
       "      <th>3</th>\n",
       "      <td>2</td>\n",
       "      <td>45918</td>\n",
       "      <td>4</td>\n",
       "      <td>1</td>\n",
       "    </tr>\n",
       "    <tr>\n",
       "      <th>4</th>\n",
       "      <td>2</td>\n",
       "      <td>30035</td>\n",
       "      <td>5</td>\n",
       "      <td>0</td>\n",
       "    </tr>\n",
       "  </tbody>\n",
       "</table>\n",
       "</div>"
      ],
      "text/plain": [
       "   order_id  product_id  add_to_cart_order  reordered\n",
       "0         2       33120                  1          1\n",
       "1         2       28985                  2          1\n",
       "2         2        9327                  3          0\n",
       "3         2       45918                  4          1\n",
       "4         2       30035                  5          0"
      ]
     },
     "execution_count": 32,
     "metadata": {},
     "output_type": "execute_result"
    }
   ],
   "source": [
    "order_products__prior.head()"
   ]
  },
  {
   "cell_type": "code",
   "execution_count": 33,
   "metadata": {},
   "outputs": [
    {
     "data": {
      "text/plain": [
       "(32434489, 4)"
      ]
     },
     "execution_count": 33,
     "metadata": {},
     "output_type": "execute_result"
    }
   ],
   "source": [
    "order_products__prior.shape"
   ]
  },
  {
   "cell_type": "markdown",
   "metadata": {},
   "source": [
    "3.order_id有3214874个不同的,和之前的orders是一致的\n",
    "\n",
    "4.reordered的均值是0.58967,也就是说有大概42%的数据是没记录的,剩下的都是之前有买过的."
   ]
  },
  {
   "cell_type": "code",
   "execution_count": 34,
   "metadata": {},
   "outputs": [
    {
     "data": {
      "text/plain": [
       "order_id             3214874\n",
       "product_id             49677\n",
       "add_to_cart_order        145\n",
       "reordered                  2\n",
       "dtype: int64"
      ]
     },
     "execution_count": 34,
     "metadata": {},
     "output_type": "execute_result"
    }
   ],
   "source": [
    "order_products__prior.nunique()"
   ]
  },
  {
   "cell_type": "code",
   "execution_count": 35,
   "metadata": {},
   "outputs": [
    {
     "data": {
      "text/plain": [
       "0.5896974667922161"
      ]
     },
     "execution_count": 35,
     "metadata": {},
     "output_type": "execute_result"
    }
   ],
   "source": [
    "order_products__prior['reordered'].mean()"
   ]
  },
  {
   "cell_type": "markdown",
   "metadata": {},
   "source": [
    "5.添加到购物篮清单顺序,从1-145次数依次递减,符合实际情况,并无异常值,**但是我们发现加入到篮子中的顺序越大,产品越少**。和我们的直觉也是一样的。"
   ]
  },
  {
   "cell_type": "code",
   "execution_count": 36,
   "metadata": {
    "scrolled": true
   },
   "outputs": [
    {
     "data": {
      "text/plain": [
       "1      3214874\n",
       "2      3058126\n",
       "3      2871133\n",
       "4      2664106\n",
       "5      2442025\n",
       "6      2213695\n",
       "7      1986020\n",
       "8      1766014\n",
       "9      1562640\n",
       "10     1378293\n",
       "11     1212743\n",
       "12     1065282\n",
       "13      933702\n",
       "14      816831\n",
       "15      713148\n",
       "16      621504\n",
       "17      540312\n",
       "18      468952\n",
       "19      406323\n",
       "20      351506\n",
       "21      303410\n",
       "22      261547\n",
       "23      225179\n",
       "24      193507\n",
       "25      166442\n",
       "26      142829\n",
       "27      122546\n",
       "28      105058\n",
       "29       89956\n",
       "30       76923\n",
       "        ...   \n",
       "116          5\n",
       "117          4\n",
       "118          4\n",
       "119          4\n",
       "120          4\n",
       "121          4\n",
       "124          3\n",
       "125          3\n",
       "127          3\n",
       "126          3\n",
       "123          3\n",
       "122          3\n",
       "128          2\n",
       "129          2\n",
       "130          2\n",
       "131          2\n",
       "132          2\n",
       "133          2\n",
       "134          2\n",
       "135          2\n",
       "136          2\n",
       "137          2\n",
       "143          1\n",
       "141          1\n",
       "142          1\n",
       "144          1\n",
       "140          1\n",
       "139          1\n",
       "138          1\n",
       "145          1\n",
       "Name: add_to_cart_order, Length: 145, dtype: int64"
      ]
     },
     "execution_count": 36,
     "metadata": {},
     "output_type": "execute_result"
    }
   ],
   "source": [
    "order_products__prior['add_to_cart_order'].value_counts()"
   ]
  },
  {
   "cell_type": "code",
   "execution_count": 37,
   "metadata": {},
   "outputs": [
    {
     "data": {
      "text/html": [
       "<div>\n",
       "<style scoped>\n",
       "    .dataframe tbody tr th:only-of-type {\n",
       "        vertical-align: middle;\n",
       "    }\n",
       "\n",
       "    .dataframe tbody tr th {\n",
       "        vertical-align: top;\n",
       "    }\n",
       "\n",
       "    .dataframe thead th {\n",
       "        text-align: right;\n",
       "    }\n",
       "</style>\n",
       "<table border=\"1\" class=\"dataframe\">\n",
       "  <thead>\n",
       "    <tr style=\"text-align: right;\">\n",
       "      <th></th>\n",
       "      <th>add_to_cart_order</th>\n",
       "    </tr>\n",
       "  </thead>\n",
       "  <tbody>\n",
       "    <tr>\n",
       "      <th>1</th>\n",
       "      <td>3214874</td>\n",
       "    </tr>\n",
       "    <tr>\n",
       "      <th>2</th>\n",
       "      <td>3058126</td>\n",
       "    </tr>\n",
       "    <tr>\n",
       "      <th>3</th>\n",
       "      <td>2871133</td>\n",
       "    </tr>\n",
       "    <tr>\n",
       "      <th>4</th>\n",
       "      <td>2664106</td>\n",
       "    </tr>\n",
       "    <tr>\n",
       "      <th>5</th>\n",
       "      <td>2442025</td>\n",
       "    </tr>\n",
       "  </tbody>\n",
       "</table>\n",
       "</div>"
      ],
      "text/plain": [
       "   add_to_cart_order\n",
       "1            3214874\n",
       "2            3058126\n",
       "3            2871133\n",
       "4            2664106\n",
       "5            2442025"
      ]
     },
     "execution_count": 37,
     "metadata": {},
     "output_type": "execute_result"
    }
   ],
   "source": [
    "tmp = pd.DataFrame(order_products__prior['add_to_cart_order'].value_counts().sort_index())\n",
    "tmp.head()"
   ]
  },
  {
   "cell_type": "code",
   "execution_count": 38,
   "metadata": {
    "scrolled": true
   },
   "outputs": [
    {
     "data": {
      "text/plain": [
       "<matplotlib.axes._subplots.AxesSubplot at 0x7fa702d362b0>"
      ]
     },
     "execution_count": 38,
     "metadata": {},
     "output_type": "execute_result"
    },
    {
     "data": {
      "image/png": "[encoded data removed]",
      "text/plain": [
       "<matplotlib.figure.Figure at 0x7fa702f61780>"
      ]
     },
     "metadata": {},
     "output_type": "display_data"
    }
   ],
   "source": [
    "sns.barplot(x =  tmp.index.values, y =tmp.values[:,0])"
   ]
  },
  {
   "cell_type": "markdown",
   "metadata": {},
   "source": [
    "### order_products__train.csv数据集\n",
    "\n",
    "1. order_products__train共有1384617个样本\n",
    "2. order_id有131209个不同的,都包含再之前的orders是一致的\n",
    "3. reordered的均值是0.59859,也就是说有大概40%的数据是没记录的\n",
    "4. 添加到购物篮清单顺序,从1-80次数依次递减,符合实际情况,并无异常值\n",
    "5. 所有的product_id都出现在训练集合中,所以不存在任何奇异值的情况"
   ]
  },
  {
   "cell_type": "markdown",
   "metadata": {},
   "source": [
    "\n",
    "1.order_products__train共有1384617个样本"
   ]
  },
  {
   "cell_type": "code",
   "execution_count": 39,
   "metadata": {},
   "outputs": [
    {
     "data": {
      "text/html": [
       "<div>\n",
       "<style scoped>\n",
       "    .dataframe tbody tr th:only-of-type {\n",
       "        vertical-align: middle;\n",
       "    }\n",
       "\n",
       "    .dataframe tbody tr th {\n",
       "        vertical-align: top;\n",
       "    }\n",
       "\n",
       "    .dataframe thead th {\n",
       "        text-align: right;\n",
       "    }\n",
       "</style>\n",
       "<table border=\"1\" class=\"dataframe\">\n",
       "  <thead>\n",
       "    <tr style=\"text-align: right;\">\n",
       "      <th></th>\n",
       "      <th>order_id</th>\n",
       "      <th>product_id</th>\n",
       "      <th>add_to_cart_order</th>\n",
       "      <th>reordered</th>\n",
       "    </tr>\n",
       "  </thead>\n",
       "  <tbody>\n",
       "    <tr>\n",
       "      <th>0</th>\n",
       "      <td>1</td>\n",
       "      <td>49302</td>\n",
       "      <td>1</td>\n",
       "      <td>1</td>\n",
       "    </tr>\n",
       "    <tr>\n",
       "      <th>1</th>\n",
       "      <td>1</td>\n",
       "      <td>11109</td>\n",
       "      <td>2</td>\n",
       "      <td>1</td>\n",
       "    </tr>\n",
       "    <tr>\n",
       "      <th>2</th>\n",
       "      <td>1</td>\n",
       "      <td>10246</td>\n",
       "      <td>3</td>\n",
       "      <td>0</td>\n",
       "    </tr>\n",
       "    <tr>\n",
       "      <th>3</th>\n",
       "      <td>1</td>\n",
       "      <td>49683</td>\n",
       "      <td>4</td>\n",
       "      <td>0</td>\n",
       "    </tr>\n",
       "    <tr>\n",
       "      <th>4</th>\n",
       "      <td>1</td>\n",
       "      <td>43633</td>\n",
       "      <td>5</td>\n",
       "      <td>1</td>\n",
       "    </tr>\n",
       "  </tbody>\n",
       "</table>\n",
       "</div>"
      ],
      "text/plain": [
       "   order_id  product_id  add_to_cart_order  reordered\n",
       "0         1       49302                  1          1\n",
       "1         1       11109                  2          1\n",
       "2         1       10246                  3          0\n",
       "3         1       49683                  4          0\n",
       "4         1       43633                  5          1"
      ]
     },
     "execution_count": 39,
     "metadata": {},
     "output_type": "execute_result"
    }
   ],
   "source": [
    "order_products__train.head()"
   ]
  },
  {
   "cell_type": "code",
   "execution_count": 40,
   "metadata": {},
   "outputs": [
    {
     "data": {
      "text/plain": [
       "(1384617, 4)"
      ]
     },
     "execution_count": 40,
     "metadata": {},
     "output_type": "execute_result"
    }
   ],
   "source": [
    "order_products__train.shape"
   ]
  },
  {
   "cell_type": "markdown",
   "metadata": {},
   "source": [
    "2.order_id有131209个不同的,都包含再之前的orders是一致的\n",
    "\n",
    "3.reordered的均值是0.59859,也就是说有大概40%的数据是没记录的"
   ]
  },
  {
   "cell_type": "code",
   "execution_count": 41,
   "metadata": {},
   "outputs": [
    {
     "data": {
      "text/plain": [
       "order_id             131209\n",
       "product_id            39123\n",
       "add_to_cart_order        80\n",
       "reordered                 2\n",
       "dtype: int64"
      ]
     },
     "execution_count": 41,
     "metadata": {},
     "output_type": "execute_result"
    }
   ],
   "source": [
    "order_products__train.nunique()"
   ]
  },
  {
   "cell_type": "code",
   "execution_count": 42,
   "metadata": {},
   "outputs": [
    {
     "data": {
      "text/plain": [
       "0.5985944127509629"
      ]
     },
     "execution_count": 42,
     "metadata": {},
     "output_type": "execute_result"
    }
   ],
   "source": [
    "order_products__train['reordered'].mean()"
   ]
  },
  {
   "cell_type": "code",
   "execution_count": 43,
   "metadata": {},
   "outputs": [
    {
     "data": {
      "text/html": [
       "<div>\n",
       "<style scoped>\n",
       "    .dataframe tbody tr th:only-of-type {\n",
       "        vertical-align: middle;\n",
       "    }\n",
       "\n",
       "    .dataframe tbody tr th {\n",
       "        vertical-align: top;\n",
       "    }\n",
       "\n",
       "    .dataframe thead th {\n",
       "        text-align: right;\n",
       "    }\n",
       "</style>\n",
       "<table border=\"1\" class=\"dataframe\">\n",
       "  <thead>\n",
       "    <tr style=\"text-align: right;\">\n",
       "      <th></th>\n",
       "      <th>add_to_cart_order</th>\n",
       "    </tr>\n",
       "  </thead>\n",
       "  <tbody>\n",
       "    <tr>\n",
       "      <th>1</th>\n",
       "      <td>3214874</td>\n",
       "    </tr>\n",
       "    <tr>\n",
       "      <th>2</th>\n",
       "      <td>3058126</td>\n",
       "    </tr>\n",
       "    <tr>\n",
       "      <th>3</th>\n",
       "      <td>2871133</td>\n",
       "    </tr>\n",
       "    <tr>\n",
       "      <th>4</th>\n",
       "      <td>2664106</td>\n",
       "    </tr>\n",
       "    <tr>\n",
       "      <th>5</th>\n",
       "      <td>2442025</td>\n",
       "    </tr>\n",
       "  </tbody>\n",
       "</table>\n",
       "</div>"
      ],
      "text/plain": [
       "   add_to_cart_order\n",
       "1            3214874\n",
       "2            3058126\n",
       "3            2871133\n",
       "4            2664106\n",
       "5            2442025"
      ]
     },
     "execution_count": 43,
     "metadata": {},
     "output_type": "execute_result"
    }
   ],
   "source": [
    "tmp = pd.DataFrame(order_products__prior['add_to_cart_order'].value_counts().sort_index())\n",
    "tmp.head()"
   ]
  },
  {
   "cell_type": "markdown",
   "metadata": {},
   "source": [
    "4.添加到购物篮清单顺序,从1-80次数依次递减,符合实际情况,并无异常值"
   ]
  },
  {
   "cell_type": "code",
   "execution_count": 44,
   "metadata": {},
   "outputs": [
    {
     "data": {
      "text/plain": [
       "<matplotlib.axes._subplots.AxesSubplot at 0x7fa702b85be0>"
      ]
     },
     "execution_count": 44,
     "metadata": {},
     "output_type": "execute_result"
    },
    {
     "data": {
      "image/png": "[encoded data removed]",
      "text/plain": [
       "<matplotlib.figure.Figure at 0x7fa7027fef60>"
      ]
     },
     "metadata": {},
     "output_type": "display_data"
    }
   ],
   "source": [
    "sns.barplot(x =  tmp.index.values, y =tmp.values[:,0])"
   ]
  },
  {
   "cell_type": "markdown",
   "metadata": {},
   "source": [
    "5.所有的product_id都出现在训练集合中,所以不存在任何奇异值的情况"
   ]
  },
  {
   "cell_type": "code",
   "execution_count": 45,
   "metadata": {},
   "outputs": [
    {
     "data": {
      "text/plain": [
       "set()"
      ]
     },
     "execution_count": 45,
     "metadata": {},
     "output_type": "execute_result"
    }
   ],
   "source": [
    "set(order_products__train['product_id'].values) - set(products['product_id'].values)"
   ]
  },
  {
   "cell_type": "code",
   "execution_count": 46,
   "metadata": {},
   "outputs": [
    {
     "data": {
      "text/plain": [
       "131209"
      ]
     },
     "execution_count": 46,
     "metadata": {},
     "output_type": "execute_result"
    }
   ],
   "source": [
    "len(set(order_products__train['order_id'] ) -set(order_products__prior['order_id'] )  )"
   ]
  },
  {
   "cell_type": "markdown",
   "metadata": {},
   "source": [
    "# 数据建模 & Baseline\n",
    "## 建模思路\n",
    "\n",
    "通过上面的分析，我们对模型进行预测的时候需要构建相应的候选集。我们通过下面两个发现以及一个假设来构建候选集：\n",
    "- priors数据集里面包含了test中用户的购买历史记录;<font color=red>**(predict which previously purchased products will be in a user’s next order.)**</font>\n",
    "- 训练集数据集中的用户集合和测试集中的用户是不存在交集;\n",
    "- 假设:用户买过某件产品之后会有较大可能进行重购;\n",
    "\n",
    "所以我们可以直接以此作为我们的候选集合进行构建,将用户历史order_id中的product_id作为我们的候选,因为题目已经说明了从之前购买的产品中选择下一次购买的产品,所以问题此处候选集其实已经构建好了。所以我们可以得到如下的预测数据:\n",
    "\n",
    "> **order_id,user_id,product_id,reordered_proba?**\n",
    "\n",
    "最后我们再将reordered_proba进行阈值设定判断是否会重购,转换为需要提交的格式."
   ]
  },
  {
   "cell_type": "markdown",
   "metadata": {},
   "source": [
    "\n",
    "\n",
    "## Baseline\n",
    "\n",
    "### 数据预处理\n",
    "- 将之前加入的数据删除,还原到原始形态"
   ]
  },
  {
   "cell_type": "code",
   "execution_count": 47,
   "metadata": {},
   "outputs": [
    {
     "data": {
      "text/plain": [
       "2063"
      ]
     },
     "execution_count": 47,
     "metadata": {},
     "output_type": "execute_result"
    }
   ],
   "source": [
    "import gc\n",
    "del orders['order_number_max']\n",
    "gc.collect()"
   ]
  },
  {
   "cell_type": "markdown",
   "metadata": {},
   "source": [
    "### 构建训练集&测试集的候选集合\n",
    "#### 拆分训练集&测试集"
   ]
  },
  {
   "cell_type": "code",
   "execution_count": 354,
   "metadata": {},
   "outputs": [],
   "source": [
    "orders_prior_data = orders.loc[orders.eval_set == 'prior']\n",
    "orders_train_data = orders.loc[orders.eval_set == 'train'] \n",
    "orders_test_data  = orders.loc[orders.eval_set == 'test' ] "
   ]
  },
  {
   "cell_type": "markdown",
   "metadata": {},
   "source": [
    "#### 获取user_X_product的组合"
   ]
  },
  {
   "cell_type": "code",
   "execution_count": 355,
   "metadata": {},
   "outputs": [],
   "source": [
    "priors = order_products__prior.merge(orders_prior_data, on =['order_id'], how='left')\n",
    "trains = order_products__train.merge(orders_train_data, on =['order_id'], how='left')"
   ]
  },
  {
   "cell_type": "markdown",
   "metadata": {},
   "source": [
    "**因为后续所有的label的构建都是基于prior信息的,而order_id又不一定是存在的,所以此处我们将user_id X product_id的信息单独拿出来,用来构建label**\n",
    "\n",
    "#### 获取user_product的排列组合,也就是总的候选集\n",
    "\n",
    "- 我们将prior中user_id以及product_id的组合作为我们的总的候选集"
   ]
  },
  {
   "cell_type": "code",
   "execution_count": 356,
   "metadata": {},
   "outputs": [],
   "source": [
    "user_product = prior_data[['user_id','product_id']].copy()"
   ]
  },
  {
   "cell_type": "code",
   "execution_count": 357,
   "metadata": {},
   "outputs": [
    {
     "data": {
      "text/plain": [
       "(32434489, 2)"
      ]
     },
     "execution_count": 357,
     "metadata": {},
     "output_type": "execute_result"
    }
   ],
   "source": [
    "user_product.shape"
   ]
  },
  {
   "cell_type": "code",
   "execution_count": 359,
   "metadata": {},
   "outputs": [],
   "source": [
    "user_product['user_X_product'] = user_product['user_id'].astype(str) + '_' + user_product['product_id'].astype(str)\n",
    "train_user_X_product = trains['user_id'].astype(str) + '_' + trains['product_id'].astype(str) "
   ]
  },
  {
   "cell_type": "code",
   "execution_count": 360,
   "metadata": {},
   "outputs": [
    {
     "data": {
      "text/plain": [
       "(32434489, 3)"
      ]
     },
     "execution_count": 360,
     "metadata": {},
     "output_type": "execute_result"
    }
   ],
   "source": [
    "user_product.shape"
   ]
  },
  {
   "cell_type": "code",
   "execution_count": 361,
   "metadata": {},
   "outputs": [],
   "source": [
    "user_product = user_product.drop_duplicates(subset=['user_X_product'], keep = 'last')"
   ]
  },
  {
   "cell_type": "code",
   "execution_count": 362,
   "metadata": {},
   "outputs": [
    {
     "data": {
      "text/plain": [
       "(13307953, 3)"
      ]
     },
     "execution_count": 362,
     "metadata": {},
     "output_type": "execute_result"
    }
   ],
   "source": [
    "user_product.shape"
   ]
  },
  {
   "cell_type": "markdown",
   "metadata": {},
   "source": [
    "#### 训练集构建\n",
    "1. 我们将出现在orders_train_data的user_id对应的user_id以及product_id(来源于prior的数据)作为我们的**训练集**的候选集\n",
    "2. 我们将后来又出现在训练集中的user_id & product_id的label设置为1,表示后来用户又购买了,剩余的我们全部设置为0，表示用户后来没有再购买."
   ]
  },
  {
   "cell_type": "code",
   "execution_count": 363,
   "metadata": {},
   "outputs": [],
   "source": [
    "test_user = orders_test_data['user_id']\n",
    "train_user = orders_train_data['user_id']"
   ]
  },
  {
   "cell_type": "code",
   "execution_count": 364,
   "metadata": {},
   "outputs": [
    {
     "name": "stderr",
     "output_type": "stream",
     "text": [
      "/opt/conda/envs/zjpy36/lib/python3.6/site-packages/pandas/core/indexing.py:537: SettingWithCopyWarning: \n",
      "A value is trying to be set on a copy of a slice from a DataFrame.\n",
      "Try using .loc[row_indexer,col_indexer] = value instead\n",
      "\n",
      "See the caveats in the documentation: http://pandas.pydata.org/pandas-docs/stable/indexing.html#indexing-view-versus-copy\n",
      "  self.obj[item] = s\n"
     ]
    }
   ],
   "source": [
    "user_product['label'] = 0\n",
    "train_data = user_product.loc[user_product.user_id.isin(train_user)]\n",
    "train_data.loc[train_data.user_X_product.isin(train_user_X_product), 'label'] = 1 "
   ]
  },
  {
   "cell_type": "code",
   "execution_count": 365,
   "metadata": {},
   "outputs": [
    {
     "data": {
      "text/plain": [
       "828824"
      ]
     },
     "execution_count": 365,
     "metadata": {},
     "output_type": "execute_result"
    }
   ],
   "source": [
    "train_data['label'].sum()"
   ]
  },
  {
   "cell_type": "code",
   "execution_count": 366,
   "metadata": {},
   "outputs": [
    {
     "data": {
      "text/plain": [
       "(8474661, 4)"
      ]
     },
     "execution_count": 366,
     "metadata": {},
     "output_type": "execute_result"
    }
   ],
   "source": [
    "train_data.shape"
   ]
  },
  {
   "cell_type": "code",
   "execution_count": 367,
   "metadata": {},
   "outputs": [
    {
     "data": {
      "text/plain": [
       "(13307953, 4)"
      ]
     },
     "execution_count": 367,
     "metadata": {},
     "output_type": "execute_result"
    }
   ],
   "source": [
    "user_product.shape"
   ]
  },
  {
   "cell_type": "code",
   "execution_count": 368,
   "metadata": {},
   "outputs": [],
   "source": [
    "train_data = train_data.merge(orders_train_data,on ='user_id', how='left')"
   ]
  },
  {
   "cell_type": "markdown",
   "metadata": {},
   "source": [
    "#### 测试集构建\n",
    "\n",
    "- 我们将出现在orders_tesst_data的user_id对应的user_id以及product_id(来源于prior的数据)作为我们的测试集的候选集. "
   ]
  },
  {
   "cell_type": "code",
   "execution_count": 369,
   "metadata": {},
   "outputs": [],
   "source": [
    "test_data  = user_product.loc[user_product.user_id.isin(test_user)]"
   ]
  },
  {
   "cell_type": "code",
   "execution_count": 370,
   "metadata": {
    "scrolled": true
   },
   "outputs": [],
   "source": [
    "test_data = test_data.merge(orders_test_data,on ='user_id', how='left')"
   ]
  },
  {
   "cell_type": "code",
   "execution_count": 371,
   "metadata": {},
   "outputs": [
    {
     "data": {
      "text/plain": [
       "106"
      ]
     },
     "execution_count": 371,
     "metadata": {},
     "output_type": "execute_result"
    }
   ],
   "source": [
    "del test_data['user_X_product']\n",
    "del train_data['user_X_product']\n",
    "gc.collect()"
   ]
  },
  {
   "cell_type": "markdown",
   "metadata": {},
   "source": [
    "候选集构建完成,下面就是得到我们的Baseline,此处我们先将数据拼接起来,希望尽可能用到所有的原始数据。\n",
    "\n",
    "### 所有数据集拼接"
   ]
  },
  {
   "cell_type": "code",
   "execution_count": 372,
   "metadata": {},
   "outputs": [],
   "source": [
    "train_data =  train_data.merge(products, on='product_id', how= 'left')\n",
    "test_data  =  test_data.merge(products, on='product_id', how= 'left')"
   ]
  },
  {
   "cell_type": "code",
   "execution_count": 373,
   "metadata": {},
   "outputs": [
    {
     "data": {
      "text/html": [
       "<div>\n",
       "<style scoped>\n",
       "    .dataframe tbody tr th:only-of-type {\n",
       "        vertical-align: middle;\n",
       "    }\n",
       "\n",
       "    .dataframe tbody tr th {\n",
       "        vertical-align: top;\n",
       "    }\n",
       "\n",
       "    .dataframe thead th {\n",
       "        text-align: right;\n",
       "    }\n",
       "</style>\n",
       "<table border=\"1\" class=\"dataframe\">\n",
       "  <thead>\n",
       "    <tr style=\"text-align: right;\">\n",
       "      <th></th>\n",
       "      <th>user_id</th>\n",
       "      <th>product_id</th>\n",
       "      <th>label</th>\n",
       "      <th>order_id</th>\n",
       "      <th>eval_set</th>\n",
       "      <th>order_number</th>\n",
       "      <th>order_dow</th>\n",
       "      <th>order_hour_of_day</th>\n",
       "      <th>days_since_prior_order</th>\n",
       "      <th>product_name</th>\n",
       "      <th>aisle_id</th>\n",
       "      <th>department_id</th>\n",
       "    </tr>\n",
       "  </thead>\n",
       "  <tbody>\n",
       "    <tr>\n",
       "      <th>0</th>\n",
       "      <td>202279</td>\n",
       "      <td>9327</td>\n",
       "      <td>0</td>\n",
       "      <td>1050357</td>\n",
       "      <td>train</td>\n",
       "      <td>9</td>\n",
       "      <td>1</td>\n",
       "      <td>14</td>\n",
       "      <td>30.0</td>\n",
       "      <td>Garlic Powder</td>\n",
       "      <td>104</td>\n",
       "      <td>13</td>\n",
       "    </tr>\n",
       "    <tr>\n",
       "      <th>1</th>\n",
       "      <td>156122</td>\n",
       "      <td>47209</td>\n",
       "      <td>0</td>\n",
       "      <td>1277092</td>\n",
       "      <td>train</td>\n",
       "      <td>53</td>\n",
       "      <td>1</td>\n",
       "      <td>11</td>\n",
       "      <td>5.0</td>\n",
       "      <td>Organic Hass Avocado</td>\n",
       "      <td>24</td>\n",
       "      <td>4</td>\n",
       "    </tr>\n",
       "    <tr>\n",
       "      <th>2</th>\n",
       "      <td>156122</td>\n",
       "      <td>46522</td>\n",
       "      <td>0</td>\n",
       "      <td>1277092</td>\n",
       "      <td>train</td>\n",
       "      <td>53</td>\n",
       "      <td>1</td>\n",
       "      <td>11</td>\n",
       "      <td>5.0</td>\n",
       "      <td>Spaghetti Pasta</td>\n",
       "      <td>131</td>\n",
       "      <td>9</td>\n",
       "    </tr>\n",
       "    <tr>\n",
       "      <th>3</th>\n",
       "      <td>156122</td>\n",
       "      <td>38693</td>\n",
       "      <td>0</td>\n",
       "      <td>1277092</td>\n",
       "      <td>train</td>\n",
       "      <td>53</td>\n",
       "      <td>1</td>\n",
       "      <td>11</td>\n",
       "      <td>5.0</td>\n",
       "      <td>Meyer Lemon</td>\n",
       "      <td>24</td>\n",
       "      <td>4</td>\n",
       "    </tr>\n",
       "    <tr>\n",
       "      <th>4</th>\n",
       "      <td>156122</td>\n",
       "      <td>48825</td>\n",
       "      <td>0</td>\n",
       "      <td>1277092</td>\n",
       "      <td>train</td>\n",
       "      <td>53</td>\n",
       "      <td>1</td>\n",
       "      <td>11</td>\n",
       "      <td>5.0</td>\n",
       "      <td>Bag of Organic Lemons</td>\n",
       "      <td>24</td>\n",
       "      <td>4</td>\n",
       "    </tr>\n",
       "  </tbody>\n",
       "</table>\n",
       "</div>"
      ],
      "text/plain": [
       "   user_id  product_id  label  order_id eval_set  order_number  order_dow  \\\n",
       "0   202279        9327      0   1050357    train             9          1   \n",
       "1   156122       47209      0   1277092    train            53          1   \n",
       "2   156122       46522      0   1277092    train            53          1   \n",
       "3   156122       38693      0   1277092    train            53          1   \n",
       "4   156122       48825      0   1277092    train            53          1   \n",
       "\n",
       "   order_hour_of_day  days_since_prior_order           product_name  aisle_id  \\\n",
       "0                 14                    30.0          Garlic Powder       104   \n",
       "1                 11                     5.0   Organic Hass Avocado        24   \n",
       "2                 11                     5.0        Spaghetti Pasta       131   \n",
       "3                 11                     5.0            Meyer Lemon        24   \n",
       "4                 11                     5.0  Bag of Organic Lemons        24   \n",
       "\n",
       "   department_id  \n",
       "0             13  \n",
       "1              4  \n",
       "2              9  \n",
       "3              4  \n",
       "4              4  "
      ]
     },
     "execution_count": 373,
     "metadata": {},
     "output_type": "execute_result"
    }
   ],
   "source": [
    "train_data.head()"
   ]
  },
  {
   "cell_type": "code",
   "execution_count": 374,
   "metadata": {},
   "outputs": [
    {
     "data": {
      "text/html": [
       "<div>\n",
       "<style scoped>\n",
       "    .dataframe tbody tr th:only-of-type {\n",
       "        vertical-align: middle;\n",
       "    }\n",
       "\n",
       "    .dataframe tbody tr th {\n",
       "        vertical-align: top;\n",
       "    }\n",
       "\n",
       "    .dataframe thead th {\n",
       "        text-align: right;\n",
       "    }\n",
       "</style>\n",
       "<table border=\"1\" class=\"dataframe\">\n",
       "  <thead>\n",
       "    <tr style=\"text-align: right;\">\n",
       "      <th></th>\n",
       "      <th>user_id</th>\n",
       "      <th>product_id</th>\n",
       "      <th>label</th>\n",
       "      <th>order_id</th>\n",
       "      <th>eval_set</th>\n",
       "      <th>order_number</th>\n",
       "      <th>order_dow</th>\n",
       "      <th>order_hour_of_day</th>\n",
       "      <th>days_since_prior_order</th>\n",
       "      <th>product_name</th>\n",
       "      <th>aisle_id</th>\n",
       "      <th>department_id</th>\n",
       "    </tr>\n",
       "  </thead>\n",
       "  <tbody>\n",
       "    <tr>\n",
       "      <th>0</th>\n",
       "      <td>45082</td>\n",
       "      <td>17330</td>\n",
       "      <td>0</td>\n",
       "      <td>65432</td>\n",
       "      <td>test</td>\n",
       "      <td>11</td>\n",
       "      <td>4</td>\n",
       "      <td>12</td>\n",
       "      <td>15.0</td>\n",
       "      <td>Light</td>\n",
       "      <td>27</td>\n",
       "      <td>5</td>\n",
       "    </tr>\n",
       "    <tr>\n",
       "      <th>1</th>\n",
       "      <td>45082</td>\n",
       "      <td>27407</td>\n",
       "      <td>0</td>\n",
       "      <td>65432</td>\n",
       "      <td>test</td>\n",
       "      <td>11</td>\n",
       "      <td>4</td>\n",
       "      <td>12</td>\n",
       "      <td>15.0</td>\n",
       "      <td>Chunky Salsa Medium</td>\n",
       "      <td>51</td>\n",
       "      <td>13</td>\n",
       "    </tr>\n",
       "    <tr>\n",
       "      <th>2</th>\n",
       "      <td>45082</td>\n",
       "      <td>35419</td>\n",
       "      <td>0</td>\n",
       "      <td>65432</td>\n",
       "      <td>test</td>\n",
       "      <td>11</td>\n",
       "      <td>4</td>\n",
       "      <td>12</td>\n",
       "      <td>15.0</td>\n",
       "      <td>Handmade Vodka From Austin, Texas</td>\n",
       "      <td>124</td>\n",
       "      <td>5</td>\n",
       "    </tr>\n",
       "    <tr>\n",
       "      <th>3</th>\n",
       "      <td>45082</td>\n",
       "      <td>196</td>\n",
       "      <td>0</td>\n",
       "      <td>65432</td>\n",
       "      <td>test</td>\n",
       "      <td>11</td>\n",
       "      <td>4</td>\n",
       "      <td>12</td>\n",
       "      <td>15.0</td>\n",
       "      <td>Soda</td>\n",
       "      <td>77</td>\n",
       "      <td>7</td>\n",
       "    </tr>\n",
       "    <tr>\n",
       "      <th>4</th>\n",
       "      <td>45082</td>\n",
       "      <td>44635</td>\n",
       "      <td>0</td>\n",
       "      <td>65432</td>\n",
       "      <td>test</td>\n",
       "      <td>11</td>\n",
       "      <td>4</td>\n",
       "      <td>12</td>\n",
       "      <td>15.0</td>\n",
       "      <td>Salsa Con Queso Medium Dip</td>\n",
       "      <td>51</td>\n",
       "      <td>13</td>\n",
       "    </tr>\n",
       "  </tbody>\n",
       "</table>\n",
       "</div>"
      ],
      "text/plain": [
       "   user_id  product_id  label  order_id eval_set  order_number  order_dow  \\\n",
       "0    45082       17330      0     65432     test            11          4   \n",
       "1    45082       27407      0     65432     test            11          4   \n",
       "2    45082       35419      0     65432     test            11          4   \n",
       "3    45082         196      0     65432     test            11          4   \n",
       "4    45082       44635      0     65432     test            11          4   \n",
       "\n",
       "   order_hour_of_day  days_since_prior_order  \\\n",
       "0                 12                    15.0   \n",
       "1                 12                    15.0   \n",
       "2                 12                    15.0   \n",
       "3                 12                    15.0   \n",
       "4                 12                    15.0   \n",
       "\n",
       "                        product_name  aisle_id  department_id  \n",
       "0                              Light        27              5  \n",
       "1                Chunky Salsa Medium        51             13  \n",
       "2  Handmade Vodka From Austin, Texas       124              5  \n",
       "3                               Soda        77              7  \n",
       "4         Salsa Con Queso Medium Dip        51             13  "
      ]
     },
     "execution_count": 374,
     "metadata": {},
     "output_type": "execute_result"
    }
   ],
   "source": [
    "test_data.head()"
   ]
  },
  {
   "cell_type": "markdown",
   "metadata": {},
   "source": [
    "### 简易特征工程\n",
    "- 数据分析完了，我们往往需要获得一个简单的Baseline,使我们线上有分数即可。"
   ]
  },
  {
   "cell_type": "code",
   "execution_count": 375,
   "metadata": {},
   "outputs": [],
   "source": [
    "feature_cols = ['order_number','order_dow','order_hour_of_day','days_since_prior_order','product_id','aisle_id','department_id']\n",
    "label_cols = 'label'"
   ]
  },
  {
   "cell_type": "markdown",
   "metadata": {},
   "source": [
    "## 模型训练&验证\n",
    "### 模型验证\n",
    "#### 验证集设计\n",
    "- 为了模拟线上的结果,我们对order_id进行采样。"
   ]
  },
  {
   "cell_type": "code",
   "execution_count": 376,
   "metadata": {},
   "outputs": [],
   "source": [
    "def validation_sample(order_ids, frac = 0.2):\n",
    "    import random\n",
    "    sample_number = int(frac * len(order_ids))\n",
    "    sample_val_order = random.sample( order_ids , sample_number) \n",
    "    sample_train_order = list(set(order_ids) - set(sample_val_order))\n",
    "    return sample_train_order,sample_val_order"
   ]
  },
  {
   "cell_type": "code",
   "execution_count": 377,
   "metadata": {
    "scrolled": true
   },
   "outputs": [],
   "source": [
    "sample_train_order,sample_val_order = validation_sample(list(train_data['order_id'].unique()))"
   ]
  },
  {
   "cell_type": "code",
   "execution_count": 378,
   "metadata": {},
   "outputs": [],
   "source": [
    "train = train_data.loc[train_order.order_id.isin(sample_train_order)]\n",
    "val   = train_data.loc[train_order.order_id.isin(sample_val_order)]"
   ]
  },
  {
   "cell_type": "markdown",
   "metadata": {},
   "source": [
    "- 设计f1的评价指标。(默认0.2)"
   ]
  },
  {
   "cell_type": "code",
   "execution_count": 379,
   "metadata": {},
   "outputs": [],
   "source": [
    "from sklearn.metrics import f1_score\n",
    "def lgb_f1_score(y_hat, data):\n",
    "    y_true = data.get_label()\n",
    "    y_hat = np.round(y_hat >= 0.2) # scikits f1 doesn't like probabilities\n",
    "    return 'f1', f1_score(y_true, y_hat), True"
   ]
  },
  {
   "cell_type": "code",
   "execution_count": 380,
   "metadata": {},
   "outputs": [],
   "source": [
    "import lightgbm as lgb\n",
    "d_train = lgb.Dataset(train[feature_cols], label=train[label_cols].values)   \n",
    "d_val   = lgb.Dataset(val[feature_cols], label=val[label_cols].values)    "
   ]
  },
  {
   "cell_type": "code",
   "execution_count": 381,
   "metadata": {
    "scrolled": true
   },
   "outputs": [
    {
     "data": {
      "text/plain": [
       "276908"
      ]
     },
     "execution_count": 381,
     "metadata": {},
     "output_type": "execute_result"
    }
   ],
   "source": [
    "np.sum(val_data[label_cols] == 1)"
   ]
  },
  {
   "cell_type": "code",
   "execution_count": 382,
   "metadata": {},
   "outputs": [
    {
     "data": {
      "text/plain": [
       "0.09798044641012882"
      ]
     },
     "execution_count": 382,
     "metadata": {},
     "output_type": "execute_result"
    }
   ],
   "source": [
    "train['label'].mean()"
   ]
  },
  {
   "cell_type": "code",
   "execution_count": 383,
   "metadata": {},
   "outputs": [
    {
     "data": {
      "text/plain": [
       "659821"
      ]
     },
     "execution_count": 383,
     "metadata": {},
     "output_type": "execute_result"
    }
   ],
   "source": [
    "train['label'].sum()"
   ]
  },
  {
   "cell_type": "code",
   "execution_count": 384,
   "metadata": {},
   "outputs": [
    {
     "data": {
      "text/plain": [
       "(6734211, 12)"
      ]
     },
     "execution_count": 384,
     "metadata": {},
     "output_type": "execute_result"
    }
   ],
   "source": [
    "train.shape"
   ]
  },
  {
   "cell_type": "markdown",
   "metadata": {},
   "source": [
    "#### 模型验证 \n",
    "此处是近似的验证,我们仅仅作为参考(未加入None等),在测试集上应该会有波动(我们的训练集&测试集的比例和线上不是一致的,为了方便我们此处随机采样了20%)\n",
    "\n",
    "<font color=red>注意: 此处我们的F1并不是Mean F1 Score,具体的Mean F1 Score的函数我们会在下一次给出,所以这边的线下的F1 Score和线上的Mean F1 Score基本是不符的。 </font>"
   ]
  },
  {
   "cell_type": "code",
   "execution_count": 385,
   "metadata": {
    "scrolled": true
   },
   "outputs": [
    {
     "name": "stdout",
     "output_type": "stream",
     "text": [
      "light GBM train :-)\n"
     ]
    },
    {
     "name": "stderr",
     "output_type": "stream",
     "text": [
      "/opt/conda/envs/zjpy36/lib/python3.6/site-packages/sklearn/metrics/classification.py:1135: UndefinedMetricWarning: F-score is ill-defined and being set to 0.0 due to no predicted samples.\n",
      "  'precision', 'predicted', average, warn_for)\n"
     ]
    },
    {
     "name": "stdout",
     "output_type": "stream",
     "text": [
      "[10]\ttraining's binary_logloss: 0.308389\ttraining's f1: 0.0569914\tvalid_1's binary_logloss: 0.306623\tvalid_1's f1: 0.0556467\n",
      "[20]\ttraining's binary_logloss: 0.305483\ttraining's f1: 0.101315\tvalid_1's binary_logloss: 0.303815\tvalid_1's f1: 0.100664\n",
      "[30]\ttraining's binary_logloss: 0.304344\ttraining's f1: 0.133457\tvalid_1's binary_logloss: 0.30273\tvalid_1's f1: 0.133002\n",
      "[40]\ttraining's binary_logloss: 0.303402\ttraining's f1: 0.149994\tvalid_1's binary_logloss: 0.301811\tvalid_1's f1: 0.149054\n",
      "[50]\ttraining's binary_logloss: 0.30288\ttraining's f1: 0.16225\tvalid_1's binary_logloss: 0.301308\tvalid_1's f1: 0.160135\n",
      "[60]\ttraining's binary_logloss: 0.30245\ttraining's f1: 0.171192\tvalid_1's binary_logloss: 0.300903\tvalid_1's f1: 0.169695\n",
      "[70]\ttraining's binary_logloss: 0.302152\ttraining's f1: 0.176394\tvalid_1's binary_logloss: 0.300634\tvalid_1's f1: 0.174913\n",
      "[80]\ttraining's binary_logloss: 0.301891\ttraining's f1: 0.18069\tvalid_1's binary_logloss: 0.300383\tvalid_1's f1: 0.179505\n",
      "[90]\ttraining's binary_logloss: 0.301656\ttraining's f1: 0.184308\tvalid_1's binary_logloss: 0.300165\tvalid_1's f1: 0.183006\n",
      "[100]\ttraining's binary_logloss: 0.301449\ttraining's f1: 0.186779\tvalid_1's binary_logloss: 0.299977\tvalid_1's f1: 0.185601\n"
     ]
    }
   ],
   "source": [
    "params = {\n",
    "    'task': 'train',\n",
    "    'boosting_type': 'gbdt',\n",
    "    'objective': 'binary',\n",
    "    'metric': {'binary_logloss'},\n",
    "    'num_leaves': 2 ** 5,\n",
    "    'max_depth': 10,\n",
    "    'feature_fraction': 0.9,\n",
    "    'bagging_fraction': 0.9,\n",
    "    'bagging_freq': 5\n",
    "}\n",
    "ROUNDS = 100 \n",
    "print('light GBM train :-)')\n",
    "bst = lgb.train(params, d_train, ROUNDS, valid_sets=[d_train,d_val], feval =lgb_f1_score,verbose_eval=10)\n",
    "del d_train "
   ]
  },
  {
   "cell_type": "markdown",
   "metadata": {},
   "source": [
    "## 模型训练&提交Baseline\n",
    "### 模型训练"
   ]
  },
  {
   "cell_type": "code",
   "execution_count": 386,
   "metadata": {},
   "outputs": [],
   "source": [
    "import lightgbm as lgb\n",
    "d_train = lgb.Dataset(train_data[feature_cols], label=train_data[label_cols].values)    "
   ]
  },
  {
   "cell_type": "code",
   "execution_count": 387,
   "metadata": {
    "scrolled": true
   },
   "outputs": [
    {
     "name": "stdout",
     "output_type": "stream",
     "text": [
      "light GBM train :-)\n"
     ]
    },
    {
     "name": "stderr",
     "output_type": "stream",
     "text": [
      "/opt/conda/envs/zjpy36/lib/python3.6/site-packages/sklearn/metrics/classification.py:1135: UndefinedMetricWarning: F-score is ill-defined and being set to 0.0 due to no predicted samples.\n",
      "  'precision', 'predicted', average, warn_for)\n"
     ]
    },
    {
     "name": "stdout",
     "output_type": "stream",
     "text": [
      "[10]\ttraining's binary_logloss: 0.304904\ttraining's f1: 0.102986\n",
      "[20]\ttraining's binary_logloss: 0.302141\ttraining's f1: 0.154203\n",
      "[30]\ttraining's binary_logloss: 0.301065\ttraining's f1: 0.176591\n",
      "[40]\ttraining's binary_logloss: 0.300333\ttraining's f1: 0.188039\n",
      "[50]\ttraining's binary_logloss: 0.299631\ttraining's f1: 0.195529\n",
      "[60]\ttraining's binary_logloss: 0.299059\ttraining's f1: 0.200758\n",
      "[70]\ttraining's binary_logloss: 0.298562\ttraining's f1: 0.205079\n",
      "[80]\ttraining's binary_logloss: 0.298237\ttraining's f1: 0.207393\n",
      "[90]\ttraining's binary_logloss: 0.297857\ttraining's f1: 0.210424\n",
      "[100]\ttraining's binary_logloss: 0.297504\ttraining's f1: 0.212631\n",
      "[110]\ttraining's binary_logloss: 0.2972\ttraining's f1: 0.214853\n",
      "[120]\ttraining's binary_logloss: 0.296907\ttraining's f1: 0.2165\n",
      "[130]\ttraining's binary_logloss: 0.296638\ttraining's f1: 0.218169\n",
      "[140]\ttraining's binary_logloss: 0.29645\ttraining's f1: 0.219078\n",
      "[150]\ttraining's binary_logloss: 0.296189\ttraining's f1: 0.220658\n"
     ]
    }
   ],
   "source": [
    "params = {\n",
    "    'task': 'train',\n",
    "    'boosting_type': 'gbdt',\n",
    "    'objective': 'binary',\n",
    "    'metric': {'binary_logloss'},\n",
    "    'num_leaves': 255,\n",
    "    'max_depth': 10,\n",
    "#     'feature_fraction': 0.9,\n",
    "#     'bagging_fraction': 0.95,\n",
    "    'bagging_freq': 5\n",
    "}\n",
    "ROUNDS = 150 \n",
    "print('light GBM train :-)')\n",
    "bst = lgb.train(params, d_train, ROUNDS, valid_sets=[d_train], feval =lgb_f1_score,verbose_eval=10)"
   ]
  },
  {
   "cell_type": "markdown",
   "metadata": {},
   "source": [
    "### 模型预测"
   ]
  },
  {
   "cell_type": "code",
   "execution_count": 388,
   "metadata": {},
   "outputs": [],
   "source": [
    "pred = bst.predict(test_data[feature_cols])\n",
    "test_data['pred'] = pred"
   ]
  },
  {
   "cell_type": "code",
   "execution_count": 389,
   "metadata": {},
   "outputs": [],
   "source": [
    "test_data['product_id'] = test_data['product_id'].astype(str)"
   ]
  },
  {
   "cell_type": "code",
   "execution_count": 390,
   "metadata": {},
   "outputs": [
    {
     "data": {
      "text/html": [
       "<div>\n",
       "<style scoped>\n",
       "    .dataframe tbody tr th:only-of-type {\n",
       "        vertical-align: middle;\n",
       "    }\n",
       "\n",
       "    .dataframe tbody tr th {\n",
       "        vertical-align: top;\n",
       "    }\n",
       "\n",
       "    .dataframe thead th {\n",
       "        text-align: right;\n",
       "    }\n",
       "</style>\n",
       "<table border=\"1\" class=\"dataframe\">\n",
       "  <thead>\n",
       "    <tr style=\"text-align: right;\">\n",
       "      <th></th>\n",
       "      <th>user_id</th>\n",
       "      <th>product_id</th>\n",
       "      <th>label</th>\n",
       "      <th>order_id</th>\n",
       "      <th>eval_set</th>\n",
       "      <th>order_number</th>\n",
       "      <th>order_dow</th>\n",
       "      <th>order_hour_of_day</th>\n",
       "      <th>days_since_prior_order</th>\n",
       "      <th>product_name</th>\n",
       "      <th>aisle_id</th>\n",
       "      <th>department_id</th>\n",
       "      <th>pred</th>\n",
       "    </tr>\n",
       "  </thead>\n",
       "  <tbody>\n",
       "    <tr>\n",
       "      <th>0</th>\n",
       "      <td>45082</td>\n",
       "      <td>17330</td>\n",
       "      <td>0</td>\n",
       "      <td>65432</td>\n",
       "      <td>test</td>\n",
       "      <td>11</td>\n",
       "      <td>4</td>\n",
       "      <td>12</td>\n",
       "      <td>15.0</td>\n",
       "      <td>Light</td>\n",
       "      <td>27</td>\n",
       "      <td>5</td>\n",
       "      <td>0.114586</td>\n",
       "    </tr>\n",
       "    <tr>\n",
       "      <th>1</th>\n",
       "      <td>45082</td>\n",
       "      <td>27407</td>\n",
       "      <td>0</td>\n",
       "      <td>65432</td>\n",
       "      <td>test</td>\n",
       "      <td>11</td>\n",
       "      <td>4</td>\n",
       "      <td>12</td>\n",
       "      <td>15.0</td>\n",
       "      <td>Chunky Salsa Medium</td>\n",
       "      <td>51</td>\n",
       "      <td>13</td>\n",
       "      <td>0.092346</td>\n",
       "    </tr>\n",
       "    <tr>\n",
       "      <th>2</th>\n",
       "      <td>45082</td>\n",
       "      <td>35419</td>\n",
       "      <td>0</td>\n",
       "      <td>65432</td>\n",
       "      <td>test</td>\n",
       "      <td>11</td>\n",
       "      <td>4</td>\n",
       "      <td>12</td>\n",
       "      <td>15.0</td>\n",
       "      <td>Handmade Vodka From Austin, Texas</td>\n",
       "      <td>124</td>\n",
       "      <td>5</td>\n",
       "      <td>0.089981</td>\n",
       "    </tr>\n",
       "    <tr>\n",
       "      <th>3</th>\n",
       "      <td>45082</td>\n",
       "      <td>196</td>\n",
       "      <td>0</td>\n",
       "      <td>65432</td>\n",
       "      <td>test</td>\n",
       "      <td>11</td>\n",
       "      <td>4</td>\n",
       "      <td>12</td>\n",
       "      <td>15.0</td>\n",
       "      <td>Soda</td>\n",
       "      <td>77</td>\n",
       "      <td>7</td>\n",
       "      <td>0.310979</td>\n",
       "    </tr>\n",
       "    <tr>\n",
       "      <th>4</th>\n",
       "      <td>45082</td>\n",
       "      <td>44635</td>\n",
       "      <td>0</td>\n",
       "      <td>65432</td>\n",
       "      <td>test</td>\n",
       "      <td>11</td>\n",
       "      <td>4</td>\n",
       "      <td>12</td>\n",
       "      <td>15.0</td>\n",
       "      <td>Salsa Con Queso Medium Dip</td>\n",
       "      <td>51</td>\n",
       "      <td>13</td>\n",
       "      <td>0.059729</td>\n",
       "    </tr>\n",
       "  </tbody>\n",
       "</table>\n",
       "</div>"
      ],
      "text/plain": [
       "   user_id product_id  label  order_id eval_set  order_number  order_dow  \\\n",
       "0    45082      17330      0     65432     test            11          4   \n",
       "1    45082      27407      0     65432     test            11          4   \n",
       "2    45082      35419      0     65432     test            11          4   \n",
       "3    45082        196      0     65432     test            11          4   \n",
       "4    45082      44635      0     65432     test            11          4   \n",
       "\n",
       "   order_hour_of_day  days_since_prior_order  \\\n",
       "0                 12                    15.0   \n",
       "1                 12                    15.0   \n",
       "2                 12                    15.0   \n",
       "3                 12                    15.0   \n",
       "4                 12                    15.0   \n",
       "\n",
       "                        product_name  aisle_id  department_id      pred  \n",
       "0                              Light        27              5  0.114586  \n",
       "1                Chunky Salsa Medium        51             13  0.092346  \n",
       "2  Handmade Vodka From Austin, Texas       124              5  0.089981  \n",
       "3                               Soda        77              7  0.310979  \n",
       "4         Salsa Con Queso Medium Dip        51             13  0.059729  "
      ]
     },
     "execution_count": 390,
     "metadata": {},
     "output_type": "execute_result"
    }
   ],
   "source": [
    "test_data.head()"
   ]
  },
  {
   "cell_type": "markdown",
   "metadata": {},
   "source": [
    "### 预测结果格式转换"
   ]
  },
  {
   "cell_type": "code",
   "execution_count": 391,
   "metadata": {},
   "outputs": [],
   "source": [
    "order_product = {}\n",
    "for order_id, val, product_id in test_data[['order_id','pred','product_id']].values:\n",
    "    if order_id in order_product.keys():\n",
    "        if val >= 0.2:\n",
    "            if order_product[order_id] == '':\n",
    "                order_product[order_id] = str(product_id )\n",
    "            else:\n",
    "                order_product[order_id] += ' ' + str(product_id )\n",
    "    else:\n",
    "        order_product[order_id] = ''\n",
    "        if val >= 0.2:\n",
    "            order_product[order_id] = str(product_id ) "
   ]
  },
  {
   "cell_type": "code",
   "execution_count": 392,
   "metadata": {},
   "outputs": [],
   "source": [
    "sub = pd.DataFrame.from_dict(order_product, orient='index')\n",
    "sub.reset_index(inplace=True)\n",
    "sub.columns = ['order_id', 'products']\n",
    "sub.loc[sub.products =='', 'products'] = 'None'"
   ]
  },
  {
   "cell_type": "markdown",
   "metadata": {},
   "source": [
    "### 分数\n",
    "提交之后我们发现我们的Baseline的分数为0.2428左右,在排行榜上的成绩为**2342/2623**。到目前为止,我们基本把该问题的框架搭建好了，迈出了一大步。\n",
    "因为F1 Score的优化最简单的就是调整阈值,此处我们调整几个阈值,然后提交，看一下效果。\n",
    "\n",
    "#### Threshold = 0.2, Mean F1 = 0.1860\n",
    "![](./pic/baseline_0.2.png)"
   ]
  },
  {
   "cell_type": "code",
   "execution_count": 393,
   "metadata": {},
   "outputs": [],
   "source": [
    "sub.to_csv('baseline.csv',index = None)"
   ]
  },
  {
   "cell_type": "code",
   "execution_count": 394,
   "metadata": {},
   "outputs": [
    {
     "data": {
      "text/plain": [
       "9442"
      ]
     },
     "execution_count": 394,
     "metadata": {},
     "output_type": "execute_result"
    }
   ],
   "source": [
    "np.sum(sub['products'] == 'None')"
   ]
  },
  {
   "cell_type": "markdown",
   "metadata": {},
   "source": [
    "#### Threshold = 0.12, Mean F1 = 0.2411\n",
    "\n",
    "![](./pic/baseline_0.12.png)"
   ]
  },
  {
   "cell_type": "code",
   "execution_count": 397,
   "metadata": {},
   "outputs": [],
   "source": [
    "order_product = {}\n",
    "for order_id, val, product_id in test_data[['order_id','pred','product_id']].values:\n",
    "    if order_id in order_product.keys():\n",
    "        if val >= 0.12:\n",
    "            if order_product[order_id] == '':\n",
    "                order_product[order_id] = str(product_id )\n",
    "            else:\n",
    "                order_product[order_id] += ' ' + str(product_id )\n",
    "    else:\n",
    "        order_product[order_id] = ''\n",
    "        if val >= 0.12:\n",
    "            order_product[order_id] = str(product_id ) "
   ]
  },
  {
   "cell_type": "code",
   "execution_count": 398,
   "metadata": {},
   "outputs": [],
   "source": [
    "sub = pd.DataFrame.from_dict(order_product, orient='index')\n",
    "sub.reset_index(inplace=True)\n",
    "sub.columns = ['order_id', 'products']\n",
    "sub.loc[sub.products =='', 'products'] = 'None'\n",
    "sub.to_csv('baseline_0.12.csv',index = None)"
   ]
  },
  {
   "cell_type": "markdown",
   "metadata": {},
   "source": [
    "#### Threshold = 0.1, Mean F1 = 0.2428\n",
    "![](./pic/baseline_0.1.png)"
   ]
  },
  {
   "cell_type": "code",
   "execution_count": 399,
   "metadata": {},
   "outputs": [],
   "source": [
    "order_product = {}\n",
    "for order_id, val, product_id in test_data[['order_id','pred','product_id']].values:\n",
    "    if order_id in order_product.keys():\n",
    "        if val >= 0.1:\n",
    "            if order_product[order_id] == '':\n",
    "                order_product[order_id] = str(product_id )\n",
    "            else:\n",
    "                order_product[order_id] += ' ' + str(product_id )\n",
    "    else:\n",
    "        order_product[order_id] = ''\n",
    "        if val >= 0.1:\n",
    "            order_product[order_id] = str(product_id ) "
   ]
  },
  {
   "cell_type": "code",
   "execution_count": 400,
   "metadata": {},
   "outputs": [],
   "source": [
    "sub = pd.DataFrame.from_dict(order_product, orient='index')\n",
    "sub.reset_index(inplace=True)\n",
    "sub.columns = ['order_id', 'products']\n",
    "sub.loc[sub.products =='', 'products'] = 'None'\n",
    "sub.to_csv('baseline_0.1.csv',index = None)"
   ]
  },
  {
   "cell_type": "markdown",
   "metadata": {},
   "source": [
    "## 小结\n",
    "本偏Notebook中,我们对数据进行简单的EDA处理,对数据有了一个大致的了解,在EDA的之后我们对候选集进行了构建,并提交了我们的Baseline，虽然线上的分数较低,但是我们还有很多东西没做,包括特征工程,模型的参数调整等等。在后面的部分,我们将:\n",
    "\n",
    "1. 对我们的数据做稍加详细的特征工程;\n",
    "2. 构建线上线下一致的评价指标;\n",
    "3. 对预测结果进行后处理,采用新的方法优化F1 score的优化;\n",
    "4. 其他骚操作\n"
   ]
  }
 ],
 "metadata": {
  "kernelspec": {
   "display_name": "Python 3",
   "language": "python",
   "name": "python3"
  },
  "language_info": {
   "codemirror_mode": {
    "name": "ipython",
    "version": 3
   },
   "file_extension": ".py",
   "mimetype": "text/x-python",
   "name": "python",
   "nbconvert_exporter": "python",
   "pygments_lexer": "ipython3",
   "version": "3.6.4"
  },
  "toc": {
   "nav_menu": {},
   "number_sections": true,
   "sideBar": true,
   "skip_h1_title": false,
   "title_cell": "Table of Contents",
   "title_sidebar": "Contents",
   "toc_cell": true,
   "toc_position": {
    "height": "calc(100% - 180px)",
    "left": "10px",
    "top": "150px",
    "width": "384px"
   },
   "toc_section_display": true,
   "toc_window_display": true
  }
 },
 "nbformat": 4,
 "nbformat_minor": 2
}
