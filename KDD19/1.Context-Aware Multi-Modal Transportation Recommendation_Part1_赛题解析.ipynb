{
 "cells": [
  {
   "cell_type": "markdown",
   "metadata": {
    "toc": true
   },
   "source": [
    "<h1>Table of Contents<span class=\"tocSkip\"></span></h1>\n",
    "<div class=\"toc\"><ul class=\"toc-item\"><li><span><a href=\"#赛题理解\" data-toc-modified-id=\"赛题理解-1\"><span class=\"toc-item-num\">1&nbsp;&nbsp;</span>赛题理解</a></span><ul class=\"toc-item\"><li><span><a href=\"#赛题背景\" data-toc-modified-id=\"赛题背景-1.1\"><span class=\"toc-item-num\">1.1&nbsp;&nbsp;</span>赛题背景</a></span></li><li><span><a href=\"#比赛规则\" data-toc-modified-id=\"比赛规则-1.2\"><span class=\"toc-item-num\">1.2&nbsp;&nbsp;</span>比赛规则</a></span></li><li><span><a href=\"#数据说明\" data-toc-modified-id=\"数据说明-1.3\"><span class=\"toc-item-num\">1.3&nbsp;&nbsp;</span>数据说明</a></span></li><li><span><a href=\"#评测指标\" data-toc-modified-id=\"评测指标-1.4\"><span class=\"toc-item-num\">1.4&nbsp;&nbsp;</span>评测指标</a></span></li><li><span><a href=\"#提交格式\" data-toc-modified-id=\"提交格式-1.5\"><span class=\"toc-item-num\">1.5&nbsp;&nbsp;</span>提交格式</a></span></li></ul></li><li><span><a href=\"#赛题准备-&amp;-注意事项\" data-toc-modified-id=\"赛题准备-&amp;-注意事项-2\"><span class=\"toc-item-num\">2&nbsp;&nbsp;</span>赛题准备 &amp; 注意事项</a></span><ul class=\"toc-item\"><li><span><a href=\"#赛题准备\" data-toc-modified-id=\"赛题准备-2.1\"><span class=\"toc-item-num\">2.1&nbsp;&nbsp;</span>赛题准备</a></span></li><li><span><a href=\"#注意事项\" data-toc-modified-id=\"注意事项-2.2\"><span class=\"toc-item-num\">2.2&nbsp;&nbsp;</span>注意事项</a></span><ul class=\"toc-item\"><li><span><a href=\"#时间穿越\" data-toc-modified-id=\"时间穿越-2.2.1\"><span class=\"toc-item-num\">2.2.1&nbsp;&nbsp;</span>时间穿越</a></span></li><li><span><a href=\"#评价指标注意点\" data-toc-modified-id=\"评价指标注意点-2.2.2\"><span class=\"toc-item-num\">2.2.2&nbsp;&nbsp;</span>评价指标注意点</a></span></li></ul></li></ul></li><li><span><a href=\"#小结\" data-toc-modified-id=\"小结-3\"><span class=\"toc-item-num\">3&nbsp;&nbsp;</span>小结</a></span></li></ul></div>"
   ]
  },
  {
   "cell_type": "markdown",
   "metadata": {},
   "source": [
    " \n",
    "\n",
    "# 赛题理解\n",
    " \n",
    "- 赛题链接:https://dianshi.baidu.com/competition/29/rule\n",
    "\n",
    "\n",
    "![](./pic/KDD_CUP.png)"
   ]
  },
  {
   "cell_type": "markdown",
   "metadata": {},
   "source": [
    "## 赛题背景\n",
    " \n",
    "基于上下文感知的多模态交通推荐有一个目标就是：推荐一个考虑大量单峰运输方式的旅游计划,例如步行,骑自行车,自驾,公共交通,以及如何在大量的上下文中链接这些模式。对于多模态交通推荐的开发可以带来非常多的好处,包括但不仅仅局限于减少运输时间,平衡交通流,减少交通拥挤,最终促进智能交通系统的发展。\n",
    " \n",
    "除了在导航应用程序上流行的交通推荐(例如,百度地图和谷歌地图),现有的交通推荐解决方案仅仅考虑在在一个运输模式下的路径,在上下文感知的多模式交通推荐系统问题中,传输模式首选项对于不同的用户和时空背景都有所不同。例如，对于大多数城市通勤者来说，地铁比出租车更具成本效益。经济弱势群体在交通选择不充分的情况下,更喜欢骑自行车或者步行进行当地旅行, 设想另外一种场景, OD pair间的距离是相对大的, 旅行也不是非常紧急,在这种情况下,一个廉价的,包含大量交通模式的交通推荐,例如,的士巴士, 将会更加具有吸引力.\n",
    " \n",
    " <img src=\"./pic/Example.png\" width = \"600\" height = \"600\" alt=\"Example\" align=center />\n",
    "\n",
    "图1: 在百度地图上基于上下文感知的交通推荐服务的用户界面的案例。左边的图展示了我们推荐模式下大量交通模式的计划列表。右边的图展示了top1的推荐的细节,这是一个多模态的交通计划(也就是说,先打出租车然后再做公交),第一个推荐计划比26.3%的纯公交汽车快同时比61.2%的纯出租车计划要便宜.\n",
    "\n",
    "在2018年初,百度地图发布了基于上下文感知的多模式交通推荐服务,如图1所示。在去年,该服务已经回答了超过一亿条路线规划请求，为超过一千万不同用户提供服务。挑战的获胜者将被邀请在百度地图上调整和部署他们的模型！\n",
    "\n",
    " "
   ]
  },
  {
   "cell_type": "markdown",
   "metadata": {},
   "source": [
    "## 比赛规则\n",
    "\n",
    "这项挑战向公众开放。每个参与者都应该在点石平台上注册一个账户。确保参加者的注册信息准确有效。否则团队将被取消资格。\n",
    "\n",
    "任何组织者、委员会成员、百度及其子公司的员工都没有资格参加挑战。\n",
    "\n",
    "每个参与者只能加入一个团队。每队最多10人。每个团队应选择不超过15个英文字符或数字的团队名称。\n",
    "\n",
    "注册时间自2019年4月10日起至2019年4月30日止。请点击本页面顶部的“加入”按钮，注册一个百度账号，登陆店市官网，完成参与注册。报名和团队组合的截止日期是4月30日。\n",
    " \n",
    "使用多个帐户或其他作弊方式将被取消资格。\n",
    "\n",
    "不允许在团队外私下共享代码或数据。\n",
    "\n",
    "挑战中有两个任务，参与者可以注册加入其中一个或两个。\n",
    "\n",
    "对于任务1，第一阶段的前100个团队将进入第二阶段，第二阶段的前10个团队将进入决赛。在最后一个阶段，参与者需要在点石平台提供的虚拟机上处理数据并提交结果。\n",
    " \n",
    "对于任务1，每个参与团队可以下载数据，在本地开发算法，然后提交结果。从4月17日起，我们的测试系统运行测试，并在每天0点（UTC时间）生成提交文件的排名。每天，每个团队只有两次提交的机会。\n",
    "  \n",
    "\n",
    "团队合并是允许的，可以由团队领导执行。为了合并，合并后的工作组的提交总数必须小于或等于合并日期允许的最大值。允许的最大值是每天提交的文件数乘以比赛开始的天数。"
   ]
  },
  {
   "cell_type": "markdown",
   "metadata": {},
   "source": [
    "## 数据说明\n",
    "\n",
    "任务1要求参与者使用从百度地图收集的历史用户行为数据和一组用户属性数据来推荐合适的传输模式。用户行为数据捕获用户与导航应用程序的交互。根据用户交互循环，用户行为数据可以进一步分类为查询记录、显示记录和点击记录。每个记录都与会话ID和时间戳相关联。会话ID连接查询、显示计划然后用户点击对应内容。\n",
    "\n",
    "**查询记录**。查询记录代表百度地图上用户的一条路线搜索。每个查询记录都由会话ID、配置文件ID、时间戳、原始点的坐标、目的地的坐标组成。例如，[387056，234590，“2018-11-01 15:15:36”，（116.30,40.05），（116.35,39.99）]表示用户在2018年11月1日下午（116.30,40.05）到（116.35,39.99）的行程中进行查询。所有坐标均为WGS84。\n",
    "\n",
    "**显示记录**。显示记录是百度地图向用户显示的可行路径。每个显示记录由会话ID、时间戳和计划列表组成。每个显示计划包括运输模式、估计的路线距离(以米为单位)、估计到达时间（ETA,以秒为单位）、估计的价格(以人民币为单位)以及间接的显示列表中隐含的显示等级。为了避免混淆，显示列表中最多有一个特定传输模式的计划, 共有11种运输方式。运输模式可以是单模式的（例如，驾驶、公共汽车、自行车）或多模式的（例如，出租车、自行车公共汽车），我们将这些运输模式编码到1到11之间的数字标签。例如，[387056, \"2018-11-01 15:15:40\", [{“mode”:1, “distance”: 3220, “ETA”: 2134, “price”: 12}, {“mode”:3, “distance”: 3520, “ETA”: 2841, “price”: 2}]]是两个运输模式计划的显示记录。\n",
    "\n",
    "\n",
    "**点击记录**。点击记录表示用户对不同建议的反馈，即用户可以点击显示给他/她的某一条特定路线以获取详细信息。在每个记录中，单击数据在显示列表中包含会话ID、时间戳和在显示列表中的点击的传输模式。我们只保留每个查询的第一次单击。\n",
    "\n",
    "**用户属性**。用户配置文件属性反映了用户对传输模式的个人偏好。每个会话的用户通过配置文件ID与一组用户属性关联。每个配置文件记录由一个配置文件ID、一组热编码的用户配置文件维度组成。请注意，对于隐私问题，我们不直接提供物理上的个人用户ID。相反，每个用户由一组用户属性组成，然后将具有相同属性的用户与相同的用户配置文件ID合并。例如，考虑到性别和年龄属性，数据集中将两个35岁的男性标识为相同的用户。\n",
    "\n",
    "![](./pic/Table1.png)\n",
    "![](./pic/Table2.png)\n",
    "![](./pic/Table3.png)\n",
    "![](./pic/Table4.png)\n",
    "\n",
    "\n",
    "第一阶段将公布2018年10月1日至2018年11月30日的数据作为训练数据，2018年12月1日至2018年12月7日的作为测试数据。第一阶段，所有数据都是从中国最大的大都市北京收集的。\n",
    "\n",
    "在第二阶段，我们将发布来自另一个大都市的更大的训练数据集，同时测试集也将交换到另一个城市。第2阶段的详细数据描述将在稍后发布。\n",
    "\n",
    "\n",
    "注：比赛期间，本页面可能会发布额外的数据说明和工具，请定期查看本页面的最新更新！"
   ]
  },
  {
   "cell_type": "markdown",
   "metadata": {},
   "source": [
    "##  评测指标\n",
    "\n",
    "任务1: 在阶段1,加权的F1分数会被用于评估. 每个类的F1分数定义如下:\n",
    " \n",
    " <img src=\"./pic/F1.png\" width = \"300\" height = \"300\" alt=\"F1\" align=center />\n",
    "\n",
    "其中Precision和Recall通过统计所有的正样本,FN和FP计算得到,加权的F1分数通过加入每个类的权重得到:\n",
    "\n",
    " <img src=\"./pic/weight_F1.png\" width = \"500\" height = \"350\" alt=\"weighted F1\" align=center />\n",
    " \n",
    "权重由每个类的真实实例的比率计算。请注意，对于一个查询的一小部分，可能有多个单击。我们选择第一个点击作为用户最合适的传输模式。\n",
    "\n",
    "在第三阶段，将考虑额外的效率指标和内存消耗成本，以确保模型可以作为在线服务部署。此外，还需要一份最终文件来描述模型的可解释性。最终得分是F1模型得分、效率得分和委员会评估得分的组合。"
   ]
  },
  {
   "cell_type": "markdown",
   "metadata": {},
   "source": [
    "## 提交格式\n",
    "\n",
    "每个团队每天只有两次提交的机会，通过简单列举测试数据的所有可能结果来避免改进结果。对于测试集中的每个会话，您应该预测用户喜欢单击的传输模式。在数据集中，有些查询没有点击，我们为这些查询分配一个无点击类（编码为0），参与者也应该预测无点击类。\n",
    "\n",
    "提交的文件应为一个带有header的csv文件，第一列中的会话ID和第二列中的预测格式如下,具体可以参见（submission_example.csv）：\n",
    "\n",
    "```\n",
    "“sid”, “recommend_mode”\n",
    "“387056”, “0”\n",
    "“902489”, “3”\n",
    "“156976”, “11”\n",
    "“183026”, “9”\n",
    "“729561”, “1”\n",
    "…\n",
    "```\n"
   ]
  },
  {
   "cell_type": "markdown",
   "metadata": {},
   "source": [
    "# 赛题准备 & 注意事项"
   ]
  },
  {
   "cell_type": "markdown",
   "metadata": {},
   "source": [
    "## 赛题准备\n",
    "\n",
    "本次比赛是业务相关的比赛,赛前准备就是了解业务,建议大家下载百度对应的app,自己玩玩,说不定还可以把本问题中的11个类的信息反向找出来."
   ]
  },
  {
   "cell_type": "markdown",
   "metadata": {},
   "source": [
    "##  注意事项\n",
    "\n",
    "### 时间穿越\n",
    "\n",
    "- 本次比赛中涉及到时间信息,所以特征构建需要注意穿越的问题,避免出现严重过拟合的现象.\n",
    "- 模型验证的话,考虑按时间划分,这样如果进了复赛甚至决赛,这样的建模也和实际是类似的,方便部署.\n",
    "\n",
    "\n",
    "### 评价指标注意点\n",
    "\n",
    "- 该比赛的评估指标是加权的F1指标,幸运的是该指标在sklearn里面的f1函数中是存在的,所以可以直接用,但是像lgb,xgb等的模型中是没有的,所以建议自己写好放入模型.\n",
    "\n",
    "下面我们给出fit的评估指标,注意lgb在fit和train的时候的评估指标需要做些许改动,有兴趣的欢迎自行查考相关文献.\n",
    "\n",
    "---\n",
    "```\n",
    "from sklearn.metrics import f1_score\n",
    "def f1_weighted(labels,preds):\n",
    "   preds = np.argmax(preds.reshape(12, -1), axis=0)\n",
    "   score = f1_score(y_true=labels, y_pred=preds, average='weighted')\n",
    "   return 'f1_weighted', score, True\n",
    "```\n",
    "---\n",
    "\n",
    "很多人喜欢查看代码中的每个类的得分情况,那么可能还需要自行设计写一个sklearn中weighted f1score的形式,下面就是,其中:\n",
    "\n",
    "---\n",
    "```\n",
    "dic_ = df_analysis['mode'].value_counts(normalize = True) ##df_analysis['mode']是真实的label的情况\n",
    "def get_weighted_fscore(y_pred, y_true):\n",
    "    f_score = 0\n",
    "    for i in range(12):\n",
    "        yt = y_true == i\n",
    "        yp = y_pred == i\n",
    "        f_score += dic_[i] * f1_score(y_true=yt, y_pred= yp)\n",
    "    print(f_score) \n",
    "```\n",
    "---"
   ]
  },
  {
   "cell_type": "markdown",
   "metadata": {},
   "source": [
    "\n",
    "#  小结\n",
    "\n",
    "本篇文章,我们介绍了2019 KDD大赛：Context-Aware Multi-Modal Transportation Recommendation的赛题背景,比赛的规则,数据的说明，评测指标以及提交格式等基础内容。 随后我们给出了在读完本次比赛的相关内容后,可能需要注意的一些问题,包括时间穿越,评估指标的内容等.\n",
    "\n",
    "希望大家读完本文后,能对本次比赛的问题,拥有的数据,提交需要的注意事项等有大致的了解.\n",
    "\n",
    "在下一篇文章中,我们将会深入数据,对数据进行数据探索分析.\n",
    "\n"
   ]
  }
 ],
 "metadata": {
  "kernelspec": {
   "display_name": "Python 3",
   "language": "python",
   "name": "python3"
  },
  "language_info": {
   "codemirror_mode": {
    "name": "ipython",
    "version": 3
   },
   "file_extension": ".py",
   "mimetype": "text/x-python",
   "name": "python",
   "nbconvert_exporter": "python",
   "pygments_lexer": "ipython3",
   "version": "3.6.4"
  },
  "toc": {
   "nav_menu": {},
   "number_sections": true,
   "sideBar": true,
   "skip_h1_title": false,
   "title_cell": "Table of Contents",
   "title_sidebar": "Contents",
   "toc_cell": true,
   "toc_position": {
    "height": "calc(100% - 180px)",
    "left": "10px",
    "top": "150px",
    "width": "335px"
   },
   "toc_section_display": true,
   "toc_window_display": true
  }
 },
 "nbformat": 4,
 "nbformat_minor": 2
}
