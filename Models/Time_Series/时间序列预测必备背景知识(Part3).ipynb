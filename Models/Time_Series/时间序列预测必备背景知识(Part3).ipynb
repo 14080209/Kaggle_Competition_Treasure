{
 "cells": [
  {
   "cell_type": "markdown",
   "metadata": {
    "toc": true
   },
   "source": [
    "<h1>Table of Contents<span class=\"tocSkip\"></span></h1>\n",
    "<div class=\"toc\"><ul class=\"toc-item\"><li><span><a href=\"#判断预测法(Judgmental-forecasts)\" data-toc-modified-id=\"判断预测法(Judgmental-forecasts)-1\"><span class=\"toc-item-num\">1&nbsp;&nbsp;</span>判断预测法(Judgmental forecasts)</a></span><ul class=\"toc-item\"><li><span><a href=\"#判断预测法的局限性\" data-toc-modified-id=\"判断预测法的局限性-1.1\"><span class=\"toc-item-num\">1.1&nbsp;&nbsp;</span>判断预测法的局限性</a></span></li><li><span><a href=\"#关键原则\" data-toc-modified-id=\"关键原则-1.2\"><span class=\"toc-item-num\">1.2&nbsp;&nbsp;</span>关键原则</a></span></li><li><span><a href=\"#德尔菲法\" data-toc-modified-id=\"德尔菲法-1.3\"><span class=\"toc-item-num\">1.3&nbsp;&nbsp;</span>德尔菲法</a></span></li><li><span><a href=\"#类比预测\" data-toc-modified-id=\"类比预测-1.4\"><span class=\"toc-item-num\">1.4&nbsp;&nbsp;</span>类比预测</a></span></li><li><span><a href=\"#情景预测\" data-toc-modified-id=\"情景预测-1.5\"><span class=\"toc-item-num\">1.5&nbsp;&nbsp;</span>情景预测</a></span></li><li><span><a href=\"#新产品的预测\" data-toc-modified-id=\"新产品的预测-1.6\"><span class=\"toc-item-num\">1.6&nbsp;&nbsp;</span>新产品的预测</a></span></li><li><span><a href=\"#判断调整\" data-toc-modified-id=\"判断调整-1.7\"><span class=\"toc-item-num\">1.7&nbsp;&nbsp;</span>判断调整</a></span></li><li><span><a href=\"#深入阅读\" data-toc-modified-id=\"深入阅读-1.8\"><span class=\"toc-item-num\">1.8&nbsp;&nbsp;</span>深入阅读</a></span></li></ul></li></ul></div>"
   ]
  },
  {
   "cell_type": "markdown",
   "metadata": {},
   "source": [
    "# 判断预测法(Judgmental forecasts)\n",
    "\n",
    "<font color=blue>**需求**</font>:\n",
    "\n",
    "当我们的历史数据几乎完全缺失,当有全新的产品上线,当一个竞争对手刚刚进入市场,等等等等,我们几乎没有什么历史数据,但是我们又需要进行预测的时候,我们无法直接使用传统的统计模型,而此时判断预测法将会成为目前唯一的选择.<br /> <br />\n",
    "\n",
    "\n",
    "<font color=blue>**判断预测法两大关键因素**</font>:\n",
    "\n",
    "因为严重缺失的历史数据,判断预测法的提升更多的依赖于两大关键因素:\n",
    "- 重要的行业知识\n",
    "- 更多实时的,最新的信息.<br /> <br />\n",
    "\n",
    "\n",
    "<font color=blue>**判断预测法三大设定**</font>:\n",
    "\n",
    "- 没有可获得的数据,统计模型不再有效\n",
    "- 可以获得数据,统计模型生效,然后对统计模型在使用判断进行调整<font color=red>**比赛中常说的模型+规则微调**</font>\n",
    "- 可以获得数据,统计模型和判断预测法同时独立的生成,然后在进行组合.**(例子可以参考4.7)**"
   ]
  },
  {
   "cell_type": "markdown",
   "metadata": {},
   "source": [
    "## 判断预测法的局限性\n",
    "\n",
    "<font color=blue>**判断预测法的缺陷**</font>:\n",
    "\n",
    "- **判断预测法是不一致的,它严重依赖于我们的认知**,所以较为受限.举例来说,我们的认知会忽略很久之前发生的事情;对事物错误的理解也会严重误导我们的模型.\n",
    "\n",
    "- **判断预测法是主观的**,存在个人的观点;很多时候也会受到我们个人情感因素或者周围因素的影响,从而较大地影响我们的判断预测.\n",
    "\n",
    "- **锚定anchoring**的影响,在预测的时候我们的预测往往会受到熟悉的参考点的影响,比如价格预测的时候,我们往往会选取最近的点作为参考点.因此在预测的时候会给与其更大的权重.锚定可能会导致保守和低估新的和更多的最新信息，从而存在系统性偏差。"
   ]
  },
  {
   "cell_type": "markdown",
   "metadata": {},
   "source": [
    "## 关键原则\n",
    "\n",
    "因为判断预测法的种种缺陷,需要有一个好的判断预测法,我们往往需要遵循以下的一些原则.\n",
    "\n",
    "<font color=blue>**判断预测法的关键原则**</font>:\n",
    "\n",
    "- **将预测任务设定清晰**:尽量使所有人都能明白任务,所有的定义都应该是清晰易于理解的,避免模糊不清的表述,同时需要避免在预测的时候融入情感的因素和不相关的其他因素等. \n",
    "\n",
    "- **实施系统的方法**:预测的准确率可以通过系统的方法来提高,例如对信息中相关的类别变量进行处理,类似于数据探索寻找最能影响我们目标的变量,并探索关系.\n",
    "\n",
    "- **文档和证明**:成列记录系统方法下的决策规则和假设.\n",
    "\n",
    "- **系统的评估预测**:系统地监测预测过程可以识别不可预见的违规行为,用预测结果和真实结果进行对比获得反馈,反馈的评估结果能帮助我们更好的改善预测的准确率等. \n",
    "\n",
    "- **隔离预测人员和用户**"
   ]
  },
  {
   "cell_type": "markdown",
   "metadata": {},
   "source": [
    "##  德尔菲法\n",
    "<font color=blue>**德尔菲法的假设**</font>:由集体做出的预测往往比个体做出的预测更加准确.<br /> <br />\n",
    "\n",
    "<font color=blue>**德尔菲法的目的**</font>:以迭代的方法从一群专家那里构建一个一致性的预测.<br /> <br />\n",
    "\n",
    "<font color=blue>**德尔菲法的步骤**</font>: \n",
    "\n",
    "> ① 汇集一群专家; <br />\n",
    "> ② 设定预测任务并且分配给每一个专家; <br />\n",
    "> ③ 专家返回初始的预测和理由,为了给与反馈这些都会被汇编(compiled)和总结; <br />\n",
    "> ④ 反馈到达专家手中,然后专家根据反馈回顾他们的预测,这一步会被迭代进行直到令人满意的共识达成; <br />\n",
    "> ⑤ 最终的预测由这些专家的预测所组成. <br /><br />\n",
    "\n",
    "\n",
    "<font color=blue>**德尔菲法的讨论和一些建议**</font>:<br /> \n",
    "- **专家和匿名(尽可能令专家独立的不受到影响的做出自己的预测)**\n",
    "\n",
    "> ① 确定一组能为预测任务做出贡献的专家 ----- 大概5-20个拥有丰富专业知识的专家. <br />\n",
    "> ② 参与的专家需要全程匿名,这样专家在预测过程中就会不被政治或者社会压力所影响. <br />\n",
    "> ③ 所有专家都有平等的发言权，所有人都对自己的预测负责.<br /><br />\n",
    "\n",
    "- **在Delphi中设置预测任务**:在设定预测任务之前，从专家那里进行初步的信息收集,或者，当专家提交他们最初的预测和理由后,在提供反馈前,有价值的未被共享的信息可以被识别.\n",
    "<br /><br />\n",
    "\n",
    "- **反馈**:反馈的信息应当包含预测的汇总统计和定性的证据,数值类的总结和图形的表示可以被用来总结专家的预测. As the feedback is controlled by the facilitator, there may be scope to direct attention and information from the experts to areas where it is most required. For example, the facilitator may direct the experts’ attention to responses that fall outside the interquartile range, and the qualitative justification for such forecasts.<br /><br />\n",
    "\n",
    "- **迭代**: 专家提交预测,收到反馈然后审视自己的预测并且再提交,这个过程持续迭代,直到达到某一种满意的程度.(该程度往往指:反馈的变动性降低到令人满意的程度the variability of the responses has decreased to a satisfactory level),在此过程中因为迭代次数的增多会使得专家厌烦,所以一般的迭代次数为<font color=red>**3次**</font>左右即可.<br /><br />\n",
    "\n",
    "\n",
    "- **最终预测**: ** 最终的预测往往是由所有专家的预测的加权得到(每个专家的权重是相等的),记住可能会存在极端情况.** <br /><br />\n",
    "\n",
    "- ** 约束和变动**: 直接使用Delphi方法可能会很耗时,在一个小组会议中,最终的预测可能会在数小时内获得,如果时间太长的话,小组可能会失去兴趣和凝聚力.<br /><br />\n",
    "\n",
    "- **主持人**: 主持人的角色是最重要的,主持人主要负责德尔菲法的设计,管理;同时还得给专家提供反馈并且生成最后的预测.此外,主持人的高效性也很大程度上决定了德尔菲法的成功性.所以必须得有很好的经验."
   ]
  },
  {
   "cell_type": "markdown",
   "metadata": {},
   "source": [
    "## 类比预测\n",
    "\n",
    "类比预测,故名思议就是用类似的物品或者事物来对眼前的任务进行预测.\n",
    " \n",
    "\n",
    "<font color=blue>**类比预测的例子**</font>:  \n",
    " \n",
    " 假设我们需要预测在某个国家设计一个较为完善的学校课程表的耗时,假设我们已经收集大量其他国家课程表设计耗时的例子,然后研究发现60%类似的小组都耗费了7-10年的时间,而40%其他的小组甚至都未能完成课程表的设计.此时我们很可能就可以类比猜测该国家的课程表的设计大致需要8-9年左右的时间.而并非随意的猜测.<br /> <br />\n",
    " \n",
    " \n",
    " \n",
    "<font color=red>**结构化的类比(和之前的Delphi方法类似,步骤不同处已经加粗了)**</font>: \n",
    "\n",
    "- A panel of experts who are likely to **have experience with analogous situations** is assembled.\n",
    "- Tasks/challenges are set and distributed to the experts.\n",
    "- **Experts identify and describe as many analogies as they can, and generate forecasts based on each analogy.**\n",
    "- **Experts list similarities and differences of each analogy to the target situation, then rate the similarity of each analogy to the target situation on a scale.**\n",
    "- Forecasts are derived by the facilitator using a set rule. This can be a weighted average, where the weights can be guided by the ranking scores of each analogy by the experts.\n"
   ]
  },
  {
   "cell_type": "markdown",
   "metadata": {},
   "source": [
    "## 情景预测 \n",
    "\n",
    "<font color=blue>**情景预测**</font>:  基于合情合理的场景生成预测. <br /> <br />\n",
    "\n",
    "\n",
    "<font color=blue>**与Delphi以及类比预测的比较**</font>: 和之前的Delphi方法以及类比预测不同,他们经常会生成一些相近的结果,而情景预测发生的概率往往较低, 情景由所有可能发生的因子,因子之间的交互以及需要预测的目标所生成. <br /> <br />\n",
    "\n",
    "<font color=blue>**情景预测的优点以及缺点**</font>: \n",
    "\n",
    "- 优点:情景预测的预测结果的范围很广,一些极端的值也可以被预测到,对于这些情况的预测可以更好的帮助我们进行决策同时加深对事物的理解.\n",
    "\n",
    "- 缺点:情景预测的结果涵盖范围广,所以自然而然的就会**存在较大的偏差**.\n",
    "\n"
   ]
  },
  {
   "cell_type": "markdown",
   "metadata": {},
   "source": [
    "## 新产品的预测\n",
    "   \n",
    "<font color=blue>**新产品**</font>:  \n",
    "- 全新的之前市场上没有的产品\n",
    "- 对现有的产品进行价格机制的改变\n",
    "- 对新产品进行升级或者变动. <br /><br />\n",
    "\n",
    "\n",
    "针对全新的产品,对于销量或者售价的预测我们常常会有如下的三种方法:\n",
    "\n",
    "<font color=blue>**三类处理方法**</font>:  \n",
    "\n",
    "- **销售人员组合**:在该方法中国,每个产品的预测由销售人员所组成,而且通常包括销售经理预测他们管理的出口的需求等.销售人员通常和销售员以及产品更加接近,并且拥有购买意向的感觉,他们可以对预测带来十分有价值的经验.**不过这违背了预测者与用户独立的假设,往往会对预测带来一定的偏差**.\n",
    "\n",
    "- **实施意见**:和销售人员组合不同,该方法涉及管理层顶部的员工,该类的预测往往由在一个群会议中产生,管理人员从自己在公司中的领域提供信息.该方法最大的缺点就是需要从会议中进行决策,而这违背了独立性的原则.所以需要记录预测过程,同时执行者需要对此负责,这样用来减少群会议中的偏差.\n",
    "\n",
    "- **客户意图**:客户的意图可以用来预测一个新的产品的需求或者一个现有产品的波动,为了统计用户的需求往往需要设计用户调查问卷,涉及每个产品的喜欢程度等.该方法中我们需要注意用户的购买意向以及用户的购买行为,因为用户往往不会按照他们说的做. <br /><br />\n",
    "\n",
    "\n",
    "不管是哪一类的方法,我们都需要注意<font color=red>**对预测的过程进行详细的记录以及背后的原因和理由**</font>.( it is important to thoroughly document the forecasts made, and the reasoning behind them, in order to be able to evaluate them when data become available.)"
   ]
  },
  {
   "cell_type": "markdown",
   "metadata": {},
   "source": [
    "## 判断调整\n",
    "\n",
    "使用上面的方法可以对我们很多传统的统计模型进行调整,因为上述的很多方法考虑了很多统计模型所没有的因素,或者历史数据所不能反映的一些因素. <br /> <br />\n",
    "\n",
    "\n",
    "<font color=blue>**保守使用调整**</font>:  \n",
    "\n",
    "判断调整尽量不要尝试去纠正统计模型中缺失的数据系统模式,这已经被证明是无效的,很多时候预测者经常会被带有噪音的序列所影响,所以带来的纠正往往很差.相反地,我们更多地应该认为统计模型是可以更好地捕获这种模式的,而主观的调整往往只会影响准确率.\n",
    "\n",
    "<font color=red>**只有当我们手中的额外信息尚未融入模型,此时利用这些额外信息对模型进行调整往往才是高效的！！！！！！.**</font>  <br /> <br />\n",
    "  \n",
    "\n",
    " <font color=blue>**一个例子**</font>\n",
    "\n",
    "![](./pic/Judgemental_adjustment_exmp.png)\n",
    "\n",
    "- 黑色的是实际情况,蓝色的是统计模型的预测结果,橘黄色的是技术委员会专家的预测结果,而紫色的是最后调整之后的结果.很明显调整之后的结果相比于两者都取得了更好的结果,关于该例子的具体描述可以参考链接:http://otexts.org/fpp2/judgmental-adjustments.html\n"
   ]
  },
  {
   "cell_type": "markdown",
   "metadata": {},
   "source": [
    "## 深入阅读\n",
    "\n",
    "因为该章节设计的算法很多依赖于高水平的专家,不过使用专家判断来对统计模型进行纠正却是一个非常好的想法.此处不推荐任何读物,将该章内容读完即可,感兴趣的读者可以上网自行搜索相关资料."
   ]
  }
 ],
 "metadata": {
  "kernelspec": {
   "display_name": "Python 3",
   "language": "python",
   "name": "python3"
  },
  "language_info": {
   "codemirror_mode": {
    "name": "ipython",
    "version": 3
   },
   "file_extension": ".py",
   "mimetype": "text/x-python",
   "name": "python",
   "nbconvert_exporter": "python",
   "pygments_lexer": "ipython3",
   "version": "3.6.4"
  },
  "toc": {
   "nav_menu": {},
   "number_sections": true,
   "sideBar": true,
   "skip_h1_title": false,
   "title_cell": "Table of Contents",
   "title_sidebar": "Contents",
   "toc_cell": true,
   "toc_position": {
    "height": "900px",
    "left": "0px",
    "right": "1598px",
    "top": "67px",
    "width": "212px"
   },
   "toc_section_display": "block",
   "toc_window_display": true
  }
 },
 "nbformat": 4,
 "nbformat_minor": 2
}
