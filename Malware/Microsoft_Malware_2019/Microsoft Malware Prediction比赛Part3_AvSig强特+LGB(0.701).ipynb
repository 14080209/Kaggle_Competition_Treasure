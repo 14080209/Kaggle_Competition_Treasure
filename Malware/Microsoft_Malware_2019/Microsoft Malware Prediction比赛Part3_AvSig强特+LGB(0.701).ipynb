{
 "cells": [
  {
   "cell_type": "markdown",
   "metadata": {
    "toc": true
   },
   "source": [
    "<h1>Table of Contents<span class=\"tocSkip\"></span></h1>\n",
    "<div class=\"toc\"><ul class=\"toc-item\"><li><span><a href=\"#工具包-&amp;-数据导入\" data-toc-modified-id=\"工具包-&amp;-数据导入-1\"><span class=\"toc-item-num\">1&nbsp;&nbsp;</span>工具包 &amp; 数据导入</a></span><ul class=\"toc-item\"><li><span><a href=\"#开源工具包导入\" data-toc-modified-id=\"开源工具包导入-1.1\"><span class=\"toc-item-num\">1.1&nbsp;&nbsp;</span>开源工具包导入</a></span></li><li><span><a href=\"#自定义工具包导入\" data-toc-modified-id=\"自定义工具包导入-1.2\"><span class=\"toc-item-num\">1.2&nbsp;&nbsp;</span>自定义工具包导入</a></span></li><li><span><a href=\"#数据导入\" data-toc-modified-id=\"数据导入-1.3\"><span class=\"toc-item-num\">1.3&nbsp;&nbsp;</span>数据导入</a></span><ul class=\"toc-item\"><li><span><a href=\"#原始数据读取\" data-toc-modified-id=\"原始数据读取-1.3.1\"><span class=\"toc-item-num\">1.3.1&nbsp;&nbsp;</span>原始数据读取</a></span></li><li><span><a href=\"#降低数据内存\" data-toc-modified-id=\"降低数据内存-1.3.2\"><span class=\"toc-item-num\">1.3.2&nbsp;&nbsp;</span>降低数据内存</a></span></li></ul></li></ul></li><li><span><a href=\"#特征工程\" data-toc-modified-id=\"特征工程-2\"><span class=\"toc-item-num\">2&nbsp;&nbsp;</span>特征工程</a></span><ul class=\"toc-item\"><li><span><a href=\"#基于AvSigVersion的特征\" data-toc-modified-id=\"基于AvSigVersion的特征-2.1\"><span class=\"toc-item-num\">2.1&nbsp;&nbsp;</span>基于AvSigVersion的特征</a></span></li><li><span><a href=\"#数据合并\" data-toc-modified-id=\"数据合并-2.2\"><span class=\"toc-item-num\">2.2&nbsp;&nbsp;</span>数据合并</a></span></li></ul></li><li><span><a href=\"#模型训练&amp;测试\" data-toc-modified-id=\"模型训练&amp;测试-3\"><span class=\"toc-item-num\">3&nbsp;&nbsp;</span>模型训练&amp;测试</a></span><ul class=\"toc-item\"><li><span><a href=\"#全量LGB\" data-toc-modified-id=\"全量LGB-3.1\"><span class=\"toc-item-num\">3.1&nbsp;&nbsp;</span>全量LGB</a></span></li><li><span><a href=\"#模型训练\" data-toc-modified-id=\"模型训练-3.2\"><span class=\"toc-item-num\">3.2&nbsp;&nbsp;</span>模型训练</a></span></li><li><span><a href=\"#模型测试\" data-toc-modified-id=\"模型测试-3.3\"><span class=\"toc-item-num\">3.3&nbsp;&nbsp;</span>模型测试</a></span></li><li><span><a href=\"#实验结果(LB:0.69985,-PB：0.61388,-57/2426)\" data-toc-modified-id=\"实验结果(LB:0.69985,-PB：0.61388,-57/2426)-3.4\"><span class=\"toc-item-num\">3.4&nbsp;&nbsp;</span>实验结果(LB:0.69985, PB：0.61388, 57/2426)</a></span></li></ul></li><li><span><a href=\"#小结\" data-toc-modified-id=\"小结-4\"><span class=\"toc-item-num\">4&nbsp;&nbsp;</span>小结</a></span></li></ul></div>"
   ]
  },
  {
   "cell_type": "markdown",
   "metadata": {},
   "source": [
    "# 工具包 & 数据导入\n",
    "## 开源工具包导入"
   ]
  },
  {
   "cell_type": "code",
   "execution_count": 1,
   "metadata": {},
   "outputs": [
    {
     "name": "stderr",
     "output_type": "stream",
     "text": [
      "/opt/conda/envs/zjpy36/lib/python3.6/site-packages/h5py/__init__.py:36: FutureWarning: Conversion of the second argument of issubdtype from `float` to `np.floating` is deprecated. In future, it will be treated as `np.float64 == np.dtype(float).type`.\n",
      "  from ._conv import register_converters as _register_converters\n",
      "Using TensorFlow backend.\n"
     ]
    }
   ],
   "source": [
    "## 数据工具包\n",
    "import pandas as pd\n",
    "import numpy as np\n",
    "np.random.seed(42)\n",
    "\n",
    "from tqdm import tqdm \n",
    "from tqdm import tqdm_notebook\n",
    "## 字符串处理工具包\n",
    "\n",
    "import string\n",
    "import re\n",
    "import gensim\n",
    "from collections import Counter\n",
    "import pickle\n",
    "from nltk.corpus import stopwords\n",
    "from sklearn.preprocessing import LabelEncoder\n",
    "from sklearn.feature_extraction.text import TfidfVectorizer\n",
    "from sklearn.decomposition import TruncatedSVD \n",
    "from sklearn.preprocessing import StandardScaler\n",
    "from sklearn.model_selection import train_test_split\n",
    "from sklearn.metrics import roc_auc_score\n",
    "from sklearn.model_selection import KFold\n",
    "from keras.preprocessing import text, sequence \n",
    "\n",
    "import warnings\n",
    "warnings.filterwarnings('ignore')\n",
    "\n",
    "import xgboost as xgb\n",
    "import lightgbm as lgb\n",
    "from functools import partial\n",
    "import joblib\n",
    "\n",
    "import os \n",
    "import gc\n",
    "from scipy.sparse import vstack  \n",
    "import time \n",
    "import seaborn as sns\n",
    "%matplotlib inline"
   ]
  },
  {
   "cell_type": "markdown",
   "metadata": {},
   "source": [
    "## 自定义工具包导入\n",
    "- 该工具包主要用于降低数据的内存消耗,但是在使用时需要注意精度溢出的问题\n"
   ]
  },
  {
   "cell_type": "code",
   "execution_count": 2,
   "metadata": {},
   "outputs": [],
   "source": [
    "import numpy as np\n",
    "import pandas as pd\n",
    "from tqdm import tqdm \n",
    "class _Data_Preprocess:\n",
    "    def __init__(self):\n",
    "        self.int8_max =  np.iinfo(np.int8).max\n",
    "        self.int8_min =  np.iinfo(np.int8).min\n",
    "        \n",
    "        self.int16_max =  np.iinfo(np.int16).max\n",
    "        self.int16_min =  np.iinfo(np.int16).min\n",
    "      \n",
    "        self.int32_max =  np.iinfo(np.int32).max\n",
    "        self.int32_min =  np.iinfo(np.int32).min\n",
    "      \n",
    "        self.int64_max =  np.iinfo(np.int64).max\n",
    "        self.int64_min =  np.iinfo(np.int64).min\n",
    "        \n",
    "        self.float16_max =  np.finfo(np.float16).max\n",
    "        self.float16_min =  np.finfo(np.float16).min\n",
    "        \n",
    "        self.float32_max =  np.finfo(np.float32).max\n",
    "        self.float32_min =  np.finfo(np.float32).min\n",
    "      \n",
    "        self.float64_max =  np.finfo(np.float64).max\n",
    "        self.float64_min =  np.finfo(np.float64).min\n",
    "         \n",
    "    \n",
    "    '''\n",
    "    function: _get_type(self,min_val, max_val, types)\n",
    "    \n",
    "       get the correct types that our columns can trans to\n",
    "    \n",
    "    '''\n",
    "    def _get_type(self,min_val, max_val, types):\n",
    "        if types == 'int':\n",
    "            if max_val <= self.int8_max and min_val >= self.int8_min:\n",
    "                return np.int8\n",
    "            elif max_val <= self.int16_max  <= max_val and min_val >= self.int16_min:\n",
    "                return np.int16\n",
    "            elif max_val <= self.int32_max and min_val >= self.int32_min:\n",
    "                return np.int32\n",
    "            return None\n",
    "            \n",
    "        elif types == 'float':\n",
    "            if max_val <=  self.float16_max and min_val >= self.float16_min :\n",
    "                return np.float16\n",
    "            if max_val <=  self.float32_max and min_val >= self.float32_min :\n",
    "                return np.float32\n",
    "            if max_val <=  self.float64_max and min_val >= self.float64_min:\n",
    "                return np.float64 \n",
    "            return None\n",
    "    '''\n",
    "    \n",
    "    function: _memory_process(self,df) \n",
    "       column data types trans, to save more memory\n",
    "    '''\n",
    "    def _memory_process(self,df):\n",
    "        init_memory = df.memory_usage().sum() / 1024**2 / 1024\n",
    "        print('Original data occupies {} GB memory.'.format(init_memory))\n",
    "        df_cols = df.columns\n",
    "        \n",
    "        for col in tqdm(df_cols):\n",
    "            try:\n",
    "                if 'float' in str(df[col].dtypes): \n",
    "                    max_val = df[col].max()\n",
    "                    min_val = df[col].min()\n",
    "                    trans_types = self._get_type(min_val,max_val,'float')\n",
    "                    if trans_types is not None: \n",
    "                        df[col] = df[col].astype(trans_types)\n",
    "                elif 'int' in str(df[col].dtypes):  \n",
    "                    max_val = df[col].max()\n",
    "                    min_val = df[col].min()\n",
    "                    trans_types = self._get_type(min_val,max_val,'int')\n",
    "                    if trans_types is not None:  \n",
    "                        df[col] = df[col].astype(trans_types) \n",
    "            except:\n",
    "                print(' Can not do any process for column, {}.'.format(col))\n",
    "        afterprocess_memory = df.memory_usage().sum() / 1024**2 / 1024\n",
    "        print('After processing, the data occupies {} GB memory.'.format(afterprocess_memory))\n",
    "        return df"
   ]
  },
  {
   "cell_type": "markdown",
   "metadata": {},
   "source": [
    " ## 数据导入\n",
    " ### 原始数据读取"
   ]
  },
  {
   "cell_type": "code",
   "execution_count": 3,
   "metadata": {},
   "outputs": [],
   "source": [
    "path = '/data/Data_JieZhang/MicroMalware/'"
   ]
  },
  {
   "cell_type": "code",
   "execution_count": 4,
   "metadata": {},
   "outputs": [
    {
     "name": "stdout",
     "output_type": "stream",
     "text": [
      "CPU times: user 3min 8s, sys: 14.5 s, total: 3min 23s\n",
      "Wall time: 3min 31s\n"
     ]
    }
   ],
   "source": [
    "%%time\n",
    "train = pd.read_csv(path + 'train.csv')\n",
    "test = pd.read_csv(path + 'test.csv')"
   ]
  },
  {
   "cell_type": "code",
   "execution_count": 5,
   "metadata": {},
   "outputs": [],
   "source": [
    "test['HasDetections'] = -1"
   ]
  },
  {
   "cell_type": "code",
   "execution_count": 6,
   "metadata": {},
   "outputs": [],
   "source": [
    "train_test = pd.concat([train,test],ignore_index = True)"
   ]
  },
  {
   "cell_type": "markdown",
   "metadata": {},
   "source": [
    "### 降低数据内存\n",
    "- 因为数据内存较大,如果机器内存较小,可以考虑先对数据的内存进行处理,当然还有一种更加方便的策略,就是在读取数据的时候就指定每列特征是int还是float型,只是那样得比较细心,各位可以按照自己的喜好进行处理。"
   ]
  },
  {
   "cell_type": "code",
   "execution_count": 7,
   "metadata": {},
   "outputs": [],
   "source": [
    "data_preprocess = _Data_Preprocess()"
   ]
  },
  {
   "cell_type": "code",
   "execution_count": 8,
   "metadata": {
    "scrolled": true
   },
   "outputs": [
    {
     "name": "stderr",
     "output_type": "stream",
     "text": [
      "\r",
      "  0%|          | 0/83 [00:00<?, ?it/s]"
     ]
    },
    {
     "name": "stdout",
     "output_type": "stream",
     "text": [
      "Original data occupies 10.373466446995735 GB memory.\n"
     ]
    },
    {
     "name": "stderr",
     "output_type": "stream",
     "text": [
      "100%|██████████| 83/83 [00:14<00:00,  3.89it/s]"
     ]
    },
    {
     "name": "stdout",
     "output_type": "stream",
     "text": [
      "After processing, the data occupies 5.749150112271309 GB memory.\n",
      "CPU times: user 13.7 s, sys: 736 ms, total: 14.4 s\n",
      "Wall time: 14.3 s\n"
     ]
    },
    {
     "name": "stderr",
     "output_type": "stream",
     "text": [
      "\n"
     ]
    }
   ],
   "source": [
    "%%time\n",
    "train_test = data_preprocess._memory_process(train_test) "
   ]
  },
  {
   "cell_type": "markdown",
   "metadata": {},
   "source": [
    "# 特征工程\n",
    "## 基于AvSigVersion的特征\n",
    "\n",
    "- 我们对每个AvSigVersion做强特,该特征可以反应在每个版本上不同的其他信息所占的比例, 用其他类在每个版本上的分布更好的来反映版本的情况。\n"
   ]
  },
  {
   "cell_type": "code",
   "execution_count": 9,
   "metadata": {},
   "outputs": [],
   "source": [
    "cols2 = ['Census_OSUILocaleIdentifier','AVProductsInstalled','Census_FirmwareVersionIdentifier','Wdft_IsGamer',\n",
    "                         'Census_ThresholdOptIn','RtpStateBitfield','Census_IsSecureBootEnabled','AVProductsEnabled',\n",
    "                         'HasTpm','IsProtected','Census_PrimaryDiskTypeName','PuaMode','DefaultBrowsersIdentifier','IsSxsPassiveMode',\n",
    "                         'OrganizationIdentifier', 'Census_IsAlwaysOnAlwaysConnectedCapable','ProductName','GeoNameIdentifier','Census_IsVirtualDevice',\n",
    "                         'Census_PowerPlatformRoleName', 'Census_IsTouchEnabled','Census_OSSkuName','OsPlatformSubRelease',\n",
    "                         'Census_FlightRing','Census_OSEdition','Census_IsPortableOperatingSystem','Firewall',\n",
    "                         'OsBuildLab','Census_DeviceFamily','Census_IsPenCapable','SMode', 'Platform', 'Census_IsFlightingInternal',\n",
    "                         'Census_OEMNameIdentifier','Census_InternalBatteryType','OsBuild','Census_HasOpticalDiskDrive','Census_IsWIMBootEnabled',\n",
    "                         'Census_OSBuildRevision','CityIdentifier','IeVerIdentifier','Census_ProcessorClass', 'OsSuite','Census_IsFlightsDisabled',\n",
    "                         'Census_ChassisTypeName','LocaleEnglishNameIdentifier','Census_OSArchitecture',\n",
    "                         'CountryIdentifier','Census_OSInstallLanguageIdentifier','Census_OSInstallTypeName',\n",
    "                         'Census_OSBuildNumber','AutoSampleOptIn', 'OsVer','SkuEdition','UacLuaenable','Census_OEMModelIdentifier','Census_OSBranch',\n",
    "                         'Processor','Census_ProcessorModelIdentifier', 'Census_ActivationChannel','IsBeta', 'Census_MDC2FormFactor', 'Census_OSWUAutoUpdateOptionsName',\n",
    "                         'AVProductStatesIdentifier','Census_GenuineStateName','Census_FirmwareManufacturerIdentifier',\n",
    "                         'Wdft_RegionIdentifier','Census_ProcessorManufacturerIdentifier', \n",
    "                         'EngineVersion','AppVersion','Census_OSVersion',]\n",
    "\n",
    "col1 = 'AvSigVersion'"
   ]
  },
  {
   "cell_type": "code",
   "execution_count": 17,
   "metadata": {
    "scrolled": true
   },
   "outputs": [
    {
     "data": {
      "application/vnd.jupyter.widget-view+json": {
       "model_id": "611b897c17244b22a1ec12e4537b789c",
       "version_major": 2,
       "version_minor": 0
      },
      "text/html": [
       "<p>Failed to display Jupyter Widget of type <code>HBox</code>.</p>\n",
       "<p>\n",
       "  If you're reading this message in the Jupyter Notebook or JupyterLab Notebook, it may mean\n",
       "  that the widgets JavaScript is still loading. If this message persists, it\n",
       "  likely means that the widgets JavaScript library is either not installed or\n",
       "  not enabled. See the <a href=\"https://ipywidgets.readthedocs.io/en/stable/user_install.html\">Jupyter\n",
       "  Widgets Documentation</a> for setup instructions.\n",
       "</p>\n",
       "<p>\n",
       "  If you're reading this message in another frontend (for example, a static\n",
       "  rendering on GitHub or <a href=\"https://nbviewer.jupyter.org/\">NBViewer</a>),\n",
       "  it may mean that your frontend doesn't currently support widgets.\n",
       "</p>\n"
      ],
      "text/plain": [
       "HBox(children=(IntProgress(value=0, max=3), HTML(value='')))"
      ]
     },
     "metadata": {},
     "output_type": "display_data"
    }
   ],
   "source": [
    "AvSig_based_fea = pd.DataFrame()\n",
    "AvSig_based_fea['MachineIdentifier'] = train_test['MachineIdentifier'].values\n",
    "train_test[col1 + 'cnt'] = train_test[col1].fillna(-999).map(train_test[col1].fillna(-999).value_counts())\n",
    "\n",
    "for col2 in tqdm_notebook(cols2):\n",
    "    col = [col1, col2]\n",
    "    train_test['tmp'] = train_test[col1].fillna('NAN').astype(str) + '_' + train_test[col2].fillna('NAN').astype(str)\n",
    "    AvSig_based_fea[col1 + '_' + col2]  = train_test['tmp'].map(train_test['tmp'].value_counts()) / train_test[col1 + 'cnt']\n",
    "del train_test['tmp']"
   ]
  },
  {
   "cell_type": "markdown",
   "metadata": {},
   "source": [
    "- 降低数据的内存使用"
   ]
  },
  {
   "cell_type": "code",
   "execution_count": 18,
   "metadata": {},
   "outputs": [
    {
     "name": "stderr",
     "output_type": "stream",
     "text": [
      "\r",
      "  0%|          | 0/72 [00:00<?, ?it/s]"
     ]
    },
    {
     "name": "stdout",
     "output_type": "stream",
     "text": [
      "Original data occupies 8.99866969883442 GB memory.\n"
     ]
    },
    {
     "name": "stderr",
     "output_type": "stream",
     "text": [
      "100%|██████████| 72/72 [00:22<00:00,  3.14it/s]"
     ]
    },
    {
     "name": "stdout",
     "output_type": "stream",
     "text": [
      "After processing, the data occupies 2.343403622508049 GB memory.\n",
      "CPU times: user 18.5 s, sys: 4.02 s, total: 22.5 s\n",
      "Wall time: 22.4 s\n"
     ]
    },
    {
     "name": "stderr",
     "output_type": "stream",
     "text": [
      "\n"
     ]
    }
   ],
   "source": [
    "%%time\n",
    "AvSig_based_fea = data_preprocess._memory_process(AvSig_based_fea) "
   ]
  },
  {
   "cell_type": "markdown",
   "metadata": {},
   "source": [
    " ## 数据合并"
   ]
  },
  {
   "cell_type": "code",
   "execution_count": 19,
   "metadata": {},
   "outputs": [],
   "source": [
    "import joblib\n",
    "train_set = joblib.load('train_set.jl.z')\n",
    "test_set  = joblib.load('test_set.jl.z') "
   ]
  },
  {
   "cell_type": "code",
   "execution_count": 20,
   "metadata": {
    "scrolled": true
   },
   "outputs": [
    {
     "name": "stdout",
     "output_type": "stream",
     "text": [
      "CPU times: user 1min 20s, sys: 21.1 s, total: 1min 41s\n",
      "Wall time: 1min 41s\n"
     ]
    }
   ],
   "source": [
    "%%time\n",
    "train_set = train_set.merge(AvSig_based_fea, on = 'MachineIdentifier', how='left')\n",
    "test_set  = test_set.merge(AvSig_based_fea,  on = 'MachineIdentifier', how='left')"
   ]
  },
  {
   "cell_type": "markdown",
   "metadata": {},
   "source": [
    "# 模型训练&测试\n",
    "\n",
    "- 因为此次数据的量较大,采用5折的LGB训练虽然可以取得不错的成绩,但是迭代的过程较慢,而且数据量非常的大,不是一个很好的选择,当然如果大家希望在比赛过程中获得更好的成绩,建议大家采用N-fold的训练测试的方法。\n",
    "\n",
    "## 全量LGB"
   ]
  },
  {
   "cell_type": "code",
   "execution_count": 21,
   "metadata": {},
   "outputs": [],
   "source": [
    "def _single_lgbmodel(df, df_label):\n",
    "    importances = pd.DataFrame()\n",
    "    lgb_params = {'objective':'binary', \"boosting\": \"gbdt\", 'learning_rate': 0.03, 'max_depth': -1, \n",
    "     \"feature_fraction\": 0.8, \"bagging_freq\": 1, \"bagging_fraction\": 0.8 , \"bagging_seed\": 11, 'n_estimators': 2500,\n",
    "     \"metric\": 'auc', \"lambda_l1\": 0.1, 'num_leaves': 256, 'min_data_in_leaf': 50, \"verbose\": 1, \"num_threads\": 50}\n",
    "    \n",
    "    model = lgb.LGBMClassifier(**lgb_params)\n",
    "    model.fit(df, df_label, eval_set=[(df, df_label)], verbose = 250, eval_metric ='auc')     \n",
    "\n",
    "    imp_df = pd.DataFrame()\n",
    "    imp_df['feature'] = df.columns\n",
    "    imp_df['gain']    = model.feature_importances_\n",
    "        \n",
    "    gc.collect()\n",
    "    return model,imp_df "
   ]
  },
  {
   "cell_type": "markdown",
   "metadata": {},
   "source": [
    "## 模型训练"
   ]
  },
  {
   "cell_type": "code",
   "execution_count": 23,
   "metadata": {},
   "outputs": [],
   "source": [
    "train_cols = [col for col in train_set.columns if col not in ['MachineIdentifier','HasDetections','isval']]\n",
    "train_label = 'HasDetections'"
   ]
  },
  {
   "cell_type": "code",
   "execution_count": 24,
   "metadata": {
    "scrolled": true
   },
   "outputs": [
    {
     "name": "stdout",
     "output_type": "stream",
     "text": [
      "[250]\ttraining's auc: 0.734849\n",
      "[500]\ttraining's auc: 0.744285\n",
      "[750]\ttraining's auc: 0.74914\n",
      "[1000]\ttraining's auc: 0.752887\n",
      "[1250]\ttraining's auc: 0.756324\n",
      "[1500]\ttraining's auc: 0.759525\n",
      "[1750]\ttraining's auc: 0.762635\n",
      "[2000]\ttraining's auc: 0.765652\n",
      "[2250]\ttraining's auc: 0.768543\n",
      "[2500]\ttraining's auc: 0.771496\n",
      "CPU times: user 1d 22h 52min 55s, sys: 1d 4h 26min 8s, total: 3d 3h 19min 4s\n",
      "Wall time: 2h 21min 9s\n"
     ]
    }
   ],
   "source": [
    "%%time\n",
    "model, model_imp = _single_lgbmodel(train_set[train_cols], train_set[train_label].values)"
   ]
  },
  {
   "cell_type": "code",
   "execution_count": 27,
   "metadata": {
    "scrolled": true
   },
   "outputs": [
    {
     "data": {
      "text/html": [
       "<div>\n",
       "<style scoped>\n",
       "    .dataframe tbody tr th:only-of-type {\n",
       "        vertical-align: middle;\n",
       "    }\n",
       "\n",
       "    .dataframe tbody tr th {\n",
       "        vertical-align: top;\n",
       "    }\n",
       "\n",
       "    .dataframe thead th {\n",
       "        text-align: right;\n",
       "    }\n",
       "</style>\n",
       "<table border=\"1\" class=\"dataframe\">\n",
       "  <thead>\n",
       "    <tr style=\"text-align: right;\">\n",
       "      <th></th>\n",
       "      <th>feature</th>\n",
       "      <th>gain</th>\n",
       "    </tr>\n",
       "  </thead>\n",
       "  <tbody>\n",
       "    <tr>\n",
       "      <th>4</th>\n",
       "      <td>AVProductStatesIdentifier</td>\n",
       "      <td>12071</td>\n",
       "    </tr>\n",
       "    <tr>\n",
       "      <th>90</th>\n",
       "      <td>CountryIdentifier_cnt</td>\n",
       "      <td>10708</td>\n",
       "    </tr>\n",
       "    <tr>\n",
       "      <th>8</th>\n",
       "      <td>CountryIdentifier</td>\n",
       "      <td>9838</td>\n",
       "    </tr>\n",
       "    <tr>\n",
       "      <th>185</th>\n",
       "      <td>AvSigVersion_Census_OSInstallTypeName</td>\n",
       "      <td>9530</td>\n",
       "    </tr>\n",
       "    <tr>\n",
       "      <th>139</th>\n",
       "      <td>AvSigVersion_Wdft_IsGamer</td>\n",
       "      <td>9278</td>\n",
       "    </tr>\n",
       "    <tr>\n",
       "      <th>111</th>\n",
       "      <td>Census_SystemVolumeTotalCapacity_cnt</td>\n",
       "      <td>8500</td>\n",
       "    </tr>\n",
       "    <tr>\n",
       "      <th>205</th>\n",
       "      <td>AvSigVersion_AppVersion</td>\n",
       "      <td>8352</td>\n",
       "    </tr>\n",
       "    <tr>\n",
       "      <th>9</th>\n",
       "      <td>CityIdentifier</td>\n",
       "      <td>8263</td>\n",
       "    </tr>\n",
       "    <tr>\n",
       "      <th>195</th>\n",
       "      <td>AvSigVersion_Census_ActivationChannel</td>\n",
       "      <td>8020</td>\n",
       "    </tr>\n",
       "    <tr>\n",
       "      <th>91</th>\n",
       "      <td>CityIdentifier_cnt</td>\n",
       "      <td>8004</td>\n",
       "    </tr>\n",
       "    <tr>\n",
       "      <th>25</th>\n",
       "      <td>Census_ProcessorModelIdentifier</td>\n",
       "      <td>7818</td>\n",
       "    </tr>\n",
       "    <tr>\n",
       "      <th>202</th>\n",
       "      <td>AvSigVersion_Wdft_RegionIdentifier</td>\n",
       "      <td>7706</td>\n",
       "    </tr>\n",
       "    <tr>\n",
       "      <th>183</th>\n",
       "      <td>AvSigVersion_CountryIdentifier</td>\n",
       "      <td>7524</td>\n",
       "    </tr>\n",
       "    <tr>\n",
       "      <th>43</th>\n",
       "      <td>Census_FirmwareVersionIdentifier</td>\n",
       "      <td>7370</td>\n",
       "    </tr>\n",
       "    <tr>\n",
       "      <th>150</th>\n",
       "      <td>AvSigVersion_OrganizationIdentifier</td>\n",
       "      <td>7263</td>\n",
       "    </tr>\n",
       "    <tr>\n",
       "      <th>194</th>\n",
       "      <td>AvSigVersion_Census_ProcessorModelIdentifier</td>\n",
       "      <td>6920</td>\n",
       "    </tr>\n",
       "    <tr>\n",
       "      <th>87</th>\n",
       "      <td>AVProductStatesIdentifier_cnt</td>\n",
       "      <td>6830</td>\n",
       "    </tr>\n",
       "    <tr>\n",
       "      <th>134</th>\n",
       "      <td>Census_FirmwareVersionIdentifier_cnt</td>\n",
       "      <td>6791</td>\n",
       "    </tr>\n",
       "    <tr>\n",
       "      <th>198</th>\n",
       "      <td>AvSigVersion_Census_OSWUAutoUpdateOptionsName</td>\n",
       "      <td>6770</td>\n",
       "    </tr>\n",
       "    <tr>\n",
       "      <th>199</th>\n",
       "      <td>AvSigVersion_AVProductStatesIdentifier</td>\n",
       "      <td>6718</td>\n",
       "    </tr>\n",
       "    <tr>\n",
       "      <th>200</th>\n",
       "      <td>AvSigVersion_Census_GenuineStateName</td>\n",
       "      <td>6685</td>\n",
       "    </tr>\n",
       "    <tr>\n",
       "      <th>22</th>\n",
       "      <td>Census_OEMModelIdentifier</td>\n",
       "      <td>6648</td>\n",
       "    </tr>\n",
       "    <tr>\n",
       "      <th>175</th>\n",
       "      <td>AvSigVersion_CityIdentifier</td>\n",
       "      <td>6561</td>\n",
       "    </tr>\n",
       "    <tr>\n",
       "      <th>169</th>\n",
       "      <td>AvSigVersion_Census_OEMNameIdentifier</td>\n",
       "      <td>6558</td>\n",
       "    </tr>\n",
       "    <tr>\n",
       "      <th>106</th>\n",
       "      <td>Census_OEMModelIdentifier_cnt</td>\n",
       "      <td>6514</td>\n",
       "    </tr>\n",
       "    <tr>\n",
       "      <th>35</th>\n",
       "      <td>Census_OSBuildRevision</td>\n",
       "      <td>6497</td>\n",
       "    </tr>\n",
       "    <tr>\n",
       "      <th>137</th>\n",
       "      <td>AvSigVersion_AVProductsInstalled</td>\n",
       "      <td>6460</td>\n",
       "    </tr>\n",
       "    <tr>\n",
       "      <th>55</th>\n",
       "      <td>AvSigVersion_labelcoder</td>\n",
       "      <td>6408</td>\n",
       "    </tr>\n",
       "    <tr>\n",
       "      <th>109</th>\n",
       "      <td>Census_ProcessorModelIdentifier_cnt</td>\n",
       "      <td>6305</td>\n",
       "    </tr>\n",
       "    <tr>\n",
       "      <th>12</th>\n",
       "      <td>LocaleEnglishNameIdentifier</td>\n",
       "      <td>6299</td>\n",
       "    </tr>\n",
       "    <tr>\n",
       "      <th>...</th>\n",
       "      <td>...</td>\n",
       "      <td>...</td>\n",
       "    </tr>\n",
       "    <tr>\n",
       "      <th>49</th>\n",
       "      <td>Census_IsAlwaysOnAlwaysConnectedCapable</td>\n",
       "      <td>188</td>\n",
       "    </tr>\n",
       "    <tr>\n",
       "      <th>66</th>\n",
       "      <td>Census_ProcessorClass_labelcoder</td>\n",
       "      <td>162</td>\n",
       "    </tr>\n",
       "    <tr>\n",
       "      <th>45</th>\n",
       "      <td>Census_IsWIMBootEnabled</td>\n",
       "      <td>144</td>\n",
       "    </tr>\n",
       "    <tr>\n",
       "      <th>20</th>\n",
       "      <td>UacLuaenable</td>\n",
       "      <td>137</td>\n",
       "    </tr>\n",
       "    <tr>\n",
       "      <th>28</th>\n",
       "      <td>Census_HasOpticalDiskDrive</td>\n",
       "      <td>134</td>\n",
       "    </tr>\n",
       "    <tr>\n",
       "      <th>122</th>\n",
       "      <td>Census_OSBuildNumber_cnt</td>\n",
       "      <td>132</td>\n",
       "    </tr>\n",
       "    <tr>\n",
       "      <th>39</th>\n",
       "      <td>Census_IsFlightingInternal</td>\n",
       "      <td>104</td>\n",
       "    </tr>\n",
       "    <tr>\n",
       "      <th>40</th>\n",
       "      <td>Census_IsFlightsDisabled</td>\n",
       "      <td>93</td>\n",
       "    </tr>\n",
       "    <tr>\n",
       "      <th>57</th>\n",
       "      <td>Processor_labelcoder</td>\n",
       "      <td>89</td>\n",
       "    </tr>\n",
       "    <tr>\n",
       "      <th>47</th>\n",
       "      <td>Census_IsTouchEnabled</td>\n",
       "      <td>83</td>\n",
       "    </tr>\n",
       "    <tr>\n",
       "      <th>7</th>\n",
       "      <td>HasTpm</td>\n",
       "      <td>61</td>\n",
       "    </tr>\n",
       "    <tr>\n",
       "      <th>48</th>\n",
       "      <td>Census_IsPenCapable</td>\n",
       "      <td>53</td>\n",
       "    </tr>\n",
       "    <tr>\n",
       "      <th>97</th>\n",
       "      <td>OsSuite_cnt</td>\n",
       "      <td>52</td>\n",
       "    </tr>\n",
       "    <tr>\n",
       "      <th>103</th>\n",
       "      <td>UacLuaenable_cnt</td>\n",
       "      <td>51</td>\n",
       "    </tr>\n",
       "    <tr>\n",
       "      <th>98</th>\n",
       "      <td>OsPlatformSubRelease_cnt</td>\n",
       "      <td>49</td>\n",
       "    </tr>\n",
       "    <tr>\n",
       "      <th>24</th>\n",
       "      <td>Census_ProcessorManufacturerIdentifier</td>\n",
       "      <td>42</td>\n",
       "    </tr>\n",
       "    <tr>\n",
       "      <th>56</th>\n",
       "      <td>Platform_labelcoder</td>\n",
       "      <td>41</td>\n",
       "    </tr>\n",
       "    <tr>\n",
       "      <th>108</th>\n",
       "      <td>Census_ProcessorManufacturerIdentifier_cnt</td>\n",
       "      <td>36</td>\n",
       "    </tr>\n",
       "    <tr>\n",
       "      <th>72</th>\n",
       "      <td>Census_OSArchitecture_labelcoder</td>\n",
       "      <td>36</td>\n",
       "    </tr>\n",
       "    <tr>\n",
       "      <th>95</th>\n",
       "      <td>OsVer_cnt</td>\n",
       "      <td>34</td>\n",
       "    </tr>\n",
       "    <tr>\n",
       "      <th>62</th>\n",
       "      <td>PuaMode_labelcoder</td>\n",
       "      <td>33</td>\n",
       "    </tr>\n",
       "    <tr>\n",
       "      <th>38</th>\n",
       "      <td>Census_IsPortableOperatingSystem</td>\n",
       "      <td>30</td>\n",
       "    </tr>\n",
       "    <tr>\n",
       "      <th>196</th>\n",
       "      <td>AvSigVersion_IsBeta</td>\n",
       "      <td>20</td>\n",
       "    </tr>\n",
       "    <tr>\n",
       "      <th>58</th>\n",
       "      <td>OsVer_labelcoder</td>\n",
       "      <td>19</td>\n",
       "    </tr>\n",
       "    <tr>\n",
       "      <th>187</th>\n",
       "      <td>AvSigVersion_AutoSampleOptIn</td>\n",
       "      <td>9</td>\n",
       "    </tr>\n",
       "    <tr>\n",
       "      <th>16</th>\n",
       "      <td>AutoSampleOptIn</td>\n",
       "      <td>7</td>\n",
       "    </tr>\n",
       "    <tr>\n",
       "      <th>65</th>\n",
       "      <td>Census_DeviceFamily_labelcoder</td>\n",
       "      <td>1</td>\n",
       "    </tr>\n",
       "    <tr>\n",
       "      <th>81</th>\n",
       "      <td>ProductName_cnt</td>\n",
       "      <td>0</td>\n",
       "    </tr>\n",
       "    <tr>\n",
       "      <th>52</th>\n",
       "      <td>ProductName_labelcoder</td>\n",
       "      <td>0</td>\n",
       "    </tr>\n",
       "    <tr>\n",
       "      <th>0</th>\n",
       "      <td>IsBeta</td>\n",
       "      <td>0</td>\n",
       "    </tr>\n",
       "  </tbody>\n",
       "</table>\n",
       "<p>207 rows × 2 columns</p>\n",
       "</div>"
      ],
      "text/plain": [
       "                                           feature   gain\n",
       "4                        AVProductStatesIdentifier  12071\n",
       "90                           CountryIdentifier_cnt  10708\n",
       "8                                CountryIdentifier   9838\n",
       "185          AvSigVersion_Census_OSInstallTypeName   9530\n",
       "139                      AvSigVersion_Wdft_IsGamer   9278\n",
       "111           Census_SystemVolumeTotalCapacity_cnt   8500\n",
       "205                        AvSigVersion_AppVersion   8352\n",
       "9                                   CityIdentifier   8263\n",
       "195          AvSigVersion_Census_ActivationChannel   8020\n",
       "91                              CityIdentifier_cnt   8004\n",
       "25                 Census_ProcessorModelIdentifier   7818\n",
       "202             AvSigVersion_Wdft_RegionIdentifier   7706\n",
       "183                 AvSigVersion_CountryIdentifier   7524\n",
       "43                Census_FirmwareVersionIdentifier   7370\n",
       "150            AvSigVersion_OrganizationIdentifier   7263\n",
       "194   AvSigVersion_Census_ProcessorModelIdentifier   6920\n",
       "87                   AVProductStatesIdentifier_cnt   6830\n",
       "134           Census_FirmwareVersionIdentifier_cnt   6791\n",
       "198  AvSigVersion_Census_OSWUAutoUpdateOptionsName   6770\n",
       "199         AvSigVersion_AVProductStatesIdentifier   6718\n",
       "200           AvSigVersion_Census_GenuineStateName   6685\n",
       "22                       Census_OEMModelIdentifier   6648\n",
       "175                    AvSigVersion_CityIdentifier   6561\n",
       "169          AvSigVersion_Census_OEMNameIdentifier   6558\n",
       "106                  Census_OEMModelIdentifier_cnt   6514\n",
       "35                          Census_OSBuildRevision   6497\n",
       "137               AvSigVersion_AVProductsInstalled   6460\n",
       "55                         AvSigVersion_labelcoder   6408\n",
       "109            Census_ProcessorModelIdentifier_cnt   6305\n",
       "12                     LocaleEnglishNameIdentifier   6299\n",
       "..                                             ...    ...\n",
       "49         Census_IsAlwaysOnAlwaysConnectedCapable    188\n",
       "66                Census_ProcessorClass_labelcoder    162\n",
       "45                         Census_IsWIMBootEnabled    144\n",
       "20                                    UacLuaenable    137\n",
       "28                      Census_HasOpticalDiskDrive    134\n",
       "122                       Census_OSBuildNumber_cnt    132\n",
       "39                      Census_IsFlightingInternal    104\n",
       "40                        Census_IsFlightsDisabled     93\n",
       "57                            Processor_labelcoder     89\n",
       "47                           Census_IsTouchEnabled     83\n",
       "7                                           HasTpm     61\n",
       "48                             Census_IsPenCapable     53\n",
       "97                                     OsSuite_cnt     52\n",
       "103                               UacLuaenable_cnt     51\n",
       "98                        OsPlatformSubRelease_cnt     49\n",
       "24          Census_ProcessorManufacturerIdentifier     42\n",
       "56                             Platform_labelcoder     41\n",
       "108     Census_ProcessorManufacturerIdentifier_cnt     36\n",
       "72                Census_OSArchitecture_labelcoder     36\n",
       "95                                       OsVer_cnt     34\n",
       "62                              PuaMode_labelcoder     33\n",
       "38                Census_IsPortableOperatingSystem     30\n",
       "196                            AvSigVersion_IsBeta     20\n",
       "58                                OsVer_labelcoder     19\n",
       "187                   AvSigVersion_AutoSampleOptIn      9\n",
       "16                                 AutoSampleOptIn      7\n",
       "65                  Census_DeviceFamily_labelcoder      1\n",
       "81                                 ProductName_cnt      0\n",
       "52                          ProductName_labelcoder      0\n",
       "0                                           IsBeta      0\n",
       "\n",
       "[207 rows x 2 columns]"
      ]
     },
     "execution_count": 27,
     "metadata": {},
     "output_type": "execute_result"
    }
   ],
   "source": [
    "model_imp.sort_values('gain',ascending = False)"
   ]
  },
  {
   "cell_type": "markdown",
   "metadata": {},
   "source": [
    "## 模型测试"
   ]
  },
  {
   "cell_type": "code",
   "execution_count": 25,
   "metadata": {},
   "outputs": [],
   "source": [
    "pred = model.predict_proba(test_set[train_cols])[:,1]\n",
    "test_set['HasDetections'] = pred\n",
    "test_set['HasDetections'] = test_set['HasDetections']\n",
    "test_set[['MachineIdentifier','HasDetections']].to_csv('baseline_labelencode_frequency_avsgencode.csv',index = None)"
   ]
  },
  {
   "cell_type": "markdown",
   "metadata": {},
   "source": [
    "## 实验结果(LB:0.69985, PB：0.61388, 57/2426)\n",
    "![](./pic/baseline_avsgencode_score.png)"
   ]
  },
  {
   "cell_type": "markdown",
   "metadata": {},
   "source": [
    "# 小结\n",
    "\n",
    "在本篇文章中,我们在上一节的基础之上加入了基于AvSig的强特,该特征为何有效,建议大家看一下discussion区的分析,理解该特征的有效性对于之后很多比赛都会带来极大的帮助, <font color=blue>https://www.kaggle.com/c/microsoft-malware-prediction/discussion/84287 </font>, 该部分的理解就作为大家的课后作业吧,\n",
    "\n",
    "- <font color=red> **大家将上面的代码改成5-fold的代码之后就可以到0.701左右的分数了。 **</font>\n",
    "\n",
    "至于单模上0.705,大家把自己的特征加上我上面的特征进行训练应该就可以达到LB金牌区的分数了。在后面的文章中，我会再写一篇文章介绍如何在PB榜取得前排的文章。\n"
   ]
  }
 ],
 "metadata": {
  "kernelspec": {
   "display_name": "Python 3",
   "language": "python",
   "name": "python3"
  },
  "language_info": {
   "codemirror_mode": {
    "name": "ipython",
    "version": 3
   },
   "file_extension": ".py",
   "mimetype": "text/x-python",
   "name": "python",
   "nbconvert_exporter": "python",
   "pygments_lexer": "ipython3",
   "version": "3.6.4"
  },
  "toc": {
   "nav_menu": {},
   "number_sections": true,
   "sideBar": true,
   "skip_h1_title": false,
   "title_cell": "Table of Contents",
   "title_sidebar": "Contents",
   "toc_cell": true,
   "toc_position": {
    "height": "calc(100% - 180px)",
    "left": "10px",
    "top": "150px",
    "width": "384px"
   },
   "toc_section_display": true,
   "toc_window_display": true
  }
 },
 "nbformat": 4,
 "nbformat_minor": 2
}
