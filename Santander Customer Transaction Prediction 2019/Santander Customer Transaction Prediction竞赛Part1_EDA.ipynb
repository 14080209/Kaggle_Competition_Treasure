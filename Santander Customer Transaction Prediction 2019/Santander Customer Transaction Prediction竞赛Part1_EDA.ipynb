{
 "cells": [
  {
   "cell_type": "markdown",
   "metadata": {
    "toc": true
   },
   "source": [
    "<h1>Table of Contents<span class=\"tocSkip\"></span></h1>\n",
    "<div class=\"toc\"><ul class=\"toc-item\"><li><span><a href=\"#工具包导入&amp;数据读取\" data-toc-modified-id=\"工具包导入&amp;数据读取-1\"><span class=\"toc-item-num\">1&nbsp;&nbsp;</span>工具包导入&amp;数据读取</a></span><ul class=\"toc-item\"><li><span><a href=\"#工具包导入\" data-toc-modified-id=\"工具包导入-1.1\"><span class=\"toc-item-num\">1.1&nbsp;&nbsp;</span>工具包导入</a></span></li><li><span><a href=\"#数据读取\" data-toc-modified-id=\"数据读取-1.2\"><span class=\"toc-item-num\">1.2&nbsp;&nbsp;</span>数据读取</a></span></li></ul></li><li><span><a href=\"#单变量数据EDA\" data-toc-modified-id=\"单变量数据EDA-2\"><span class=\"toc-item-num\">2&nbsp;&nbsp;</span>单变量数据EDA</a></span><ul class=\"toc-item\"><li><span><a href=\"#Train数据集\" data-toc-modified-id=\"Train数据集-2.1\"><span class=\"toc-item-num\">2.1&nbsp;&nbsp;</span>Train数据集</a></span><ul class=\"toc-item\"><li><span><a href=\"#数据类型&amp;大小\" data-toc-modified-id=\"数据类型&amp;大小-2.1.1\"><span class=\"toc-item-num\">2.1.1&nbsp;&nbsp;</span>数据类型&amp;大小</a></span></li><li><span><a href=\"#数据特征统计变量\" data-toc-modified-id=\"数据特征统计变量-2.1.2\"><span class=\"toc-item-num\">2.1.2&nbsp;&nbsp;</span>数据特征统计变量</a></span></li><li><span><a href=\"#数据缺失情况\" data-toc-modified-id=\"数据缺失情况-2.1.3\"><span class=\"toc-item-num\">2.1.3&nbsp;&nbsp;</span>数据缺失情况</a></span></li><li><span><a href=\"#单个特征列nunique分布\" data-toc-modified-id=\"单个特征列nunique分布-2.1.4\"><span class=\"toc-item-num\">2.1.4&nbsp;&nbsp;</span>单个特征列nunique分布</a></span></li><li><span><a href=\"#是否有单调特征列(单调的特征列很大可能是时间)\" data-toc-modified-id=\"是否有单调特征列(单调的特征列很大可能是时间)-2.1.5\"><span class=\"toc-item-num\">2.1.5&nbsp;&nbsp;</span><font color=\"red\">是否有单调特征列(单调的特征列很大可能是时间)</font></a></span></li><li><span><a href=\"#label分布-&amp;-猜想检验\" data-toc-modified-id=\"label分布-&amp;-猜想检验-2.1.6\"><span class=\"toc-item-num\">2.1.6&nbsp;&nbsp;</span>label分布 &amp; 猜想检验</a></span><ul class=\"toc-item\"><li><span><a href=\"#Label分布\" data-toc-modified-id=\"Label分布-2.1.6.1\"><span class=\"toc-item-num\">2.1.6.1&nbsp;&nbsp;</span>Label分布</a></span></li></ul></li></ul></li><li><span><a href=\"#Test数据集\" data-toc-modified-id=\"Test数据集-2.2\"><span class=\"toc-item-num\">2.2&nbsp;&nbsp;</span>Test数据集</a></span><ul class=\"toc-item\"><li><span><a href=\"#数据类型&amp;大小\" data-toc-modified-id=\"数据类型&amp;大小-2.2.1\"><span class=\"toc-item-num\">2.2.1&nbsp;&nbsp;</span>数据类型&amp;大小</a></span></li><li><span><a href=\"#数据缺失情况\" data-toc-modified-id=\"数据缺失情况-2.2.2\"><span class=\"toc-item-num\">2.2.2&nbsp;&nbsp;</span>数据缺失情况</a></span></li><li><span><a href=\"#单个特征列nunique分布\" data-toc-modified-id=\"单个特征列nunique分布-2.2.3\"><span class=\"toc-item-num\">2.2.3&nbsp;&nbsp;</span>单个特征列nunique分布</a></span></li></ul></li><li><span><a href=\"#Train-&amp;-Test分布探索\" data-toc-modified-id=\"Train-&amp;-Test分布探索-2.3\"><span class=\"toc-item-num\">2.3&nbsp;&nbsp;</span>Train &amp; Test分布探索</a></span></li></ul></li><li><span><a href=\"#小结\" data-toc-modified-id=\"小结-3\"><span class=\"toc-item-num\">3&nbsp;&nbsp;</span>小结</a></span></li></ul></div>"
   ]
  },
  {
   "cell_type": "markdown",
   "metadata": {},
   "source": [
    "# 工具包导入&数据读取\n",
    "## 工具包导入"
   ]
  },
  {
   "cell_type": "code",
   "execution_count": 1,
   "metadata": {},
   "outputs": [],
   "source": [
    "import pandas as pd\n",
    "import numpy as np\n",
    "import seaborn as sns\n",
    "import matplotlib.pyplot as plt\n",
    "%matplotlib inline"
   ]
  },
  {
   "cell_type": "markdown",
   "metadata": {},
   "source": [
    "## 数据读取\n",
    "- 为了方便分析"
   ]
  },
  {
   "cell_type": "code",
   "execution_count": 2,
   "metadata": {},
   "outputs": [],
   "source": [
    "path = '/data/Data_JieZhang/santander-customer-transaction-prediction/'\n",
    "train = pd.read_csv(path + 'train.csv')\n",
    "test  = pd.read_csv(path + 'test.csv')"
   ]
  },
  {
   "cell_type": "code",
   "execution_count": 3,
   "metadata": {},
   "outputs": [
    {
     "data": {
      "text/html": [
       "<div>\n",
       "<style>\n",
       "    .dataframe thead tr:only-child th {\n",
       "        text-align: right;\n",
       "    }\n",
       "\n",
       "    .dataframe thead th {\n",
       "        text-align: left;\n",
       "    }\n",
       "\n",
       "    .dataframe tbody tr th {\n",
       "        vertical-align: top;\n",
       "    }\n",
       "</style>\n",
       "<table border=\"1\" class=\"dataframe\">\n",
       "  <thead>\n",
       "    <tr style=\"text-align: right;\">\n",
       "      <th></th>\n",
       "      <th>ID_code</th>\n",
       "      <th>target</th>\n",
       "      <th>var_0</th>\n",
       "      <th>var_1</th>\n",
       "      <th>var_2</th>\n",
       "      <th>var_3</th>\n",
       "      <th>var_4</th>\n",
       "      <th>var_5</th>\n",
       "      <th>var_6</th>\n",
       "      <th>var_7</th>\n",
       "      <th>...</th>\n",
       "      <th>var_190</th>\n",
       "      <th>var_191</th>\n",
       "      <th>var_192</th>\n",
       "      <th>var_193</th>\n",
       "      <th>var_194</th>\n",
       "      <th>var_195</th>\n",
       "      <th>var_196</th>\n",
       "      <th>var_197</th>\n",
       "      <th>var_198</th>\n",
       "      <th>var_199</th>\n",
       "    </tr>\n",
       "  </thead>\n",
       "  <tbody>\n",
       "    <tr>\n",
       "      <th>0</th>\n",
       "      <td>train_0</td>\n",
       "      <td>0</td>\n",
       "      <td>8.9255</td>\n",
       "      <td>-6.7863</td>\n",
       "      <td>11.9081</td>\n",
       "      <td>5.0930</td>\n",
       "      <td>11.4607</td>\n",
       "      <td>-9.2834</td>\n",
       "      <td>5.1187</td>\n",
       "      <td>18.6266</td>\n",
       "      <td>...</td>\n",
       "      <td>4.4354</td>\n",
       "      <td>3.9642</td>\n",
       "      <td>3.1364</td>\n",
       "      <td>1.6910</td>\n",
       "      <td>18.5227</td>\n",
       "      <td>-2.3978</td>\n",
       "      <td>7.8784</td>\n",
       "      <td>8.5635</td>\n",
       "      <td>12.7803</td>\n",
       "      <td>-1.0914</td>\n",
       "    </tr>\n",
       "    <tr>\n",
       "      <th>1</th>\n",
       "      <td>train_1</td>\n",
       "      <td>0</td>\n",
       "      <td>11.5006</td>\n",
       "      <td>-4.1473</td>\n",
       "      <td>13.8588</td>\n",
       "      <td>5.3890</td>\n",
       "      <td>12.3622</td>\n",
       "      <td>7.0433</td>\n",
       "      <td>5.6208</td>\n",
       "      <td>16.5338</td>\n",
       "      <td>...</td>\n",
       "      <td>7.6421</td>\n",
       "      <td>7.7214</td>\n",
       "      <td>2.5837</td>\n",
       "      <td>10.9516</td>\n",
       "      <td>15.4305</td>\n",
       "      <td>2.0339</td>\n",
       "      <td>8.1267</td>\n",
       "      <td>8.7889</td>\n",
       "      <td>18.3560</td>\n",
       "      <td>1.9518</td>\n",
       "    </tr>\n",
       "    <tr>\n",
       "      <th>2</th>\n",
       "      <td>train_2</td>\n",
       "      <td>0</td>\n",
       "      <td>8.6093</td>\n",
       "      <td>-2.7457</td>\n",
       "      <td>12.0805</td>\n",
       "      <td>7.8928</td>\n",
       "      <td>10.5825</td>\n",
       "      <td>-9.0837</td>\n",
       "      <td>6.9427</td>\n",
       "      <td>14.6155</td>\n",
       "      <td>...</td>\n",
       "      <td>2.9057</td>\n",
       "      <td>9.7905</td>\n",
       "      <td>1.6704</td>\n",
       "      <td>1.6858</td>\n",
       "      <td>21.6042</td>\n",
       "      <td>3.1417</td>\n",
       "      <td>-6.5213</td>\n",
       "      <td>8.2675</td>\n",
       "      <td>14.7222</td>\n",
       "      <td>0.3965</td>\n",
       "    </tr>\n",
       "    <tr>\n",
       "      <th>3</th>\n",
       "      <td>train_3</td>\n",
       "      <td>0</td>\n",
       "      <td>11.0604</td>\n",
       "      <td>-2.1518</td>\n",
       "      <td>8.9522</td>\n",
       "      <td>7.1957</td>\n",
       "      <td>12.5846</td>\n",
       "      <td>-1.8361</td>\n",
       "      <td>5.8428</td>\n",
       "      <td>14.9250</td>\n",
       "      <td>...</td>\n",
       "      <td>4.4666</td>\n",
       "      <td>4.7433</td>\n",
       "      <td>0.7178</td>\n",
       "      <td>1.4214</td>\n",
       "      <td>23.0347</td>\n",
       "      <td>-1.2706</td>\n",
       "      <td>-2.9275</td>\n",
       "      <td>10.2922</td>\n",
       "      <td>17.9697</td>\n",
       "      <td>-8.9996</td>\n",
       "    </tr>\n",
       "    <tr>\n",
       "      <th>4</th>\n",
       "      <td>train_4</td>\n",
       "      <td>0</td>\n",
       "      <td>9.8369</td>\n",
       "      <td>-1.4834</td>\n",
       "      <td>12.8746</td>\n",
       "      <td>6.6375</td>\n",
       "      <td>12.2772</td>\n",
       "      <td>2.4486</td>\n",
       "      <td>5.9405</td>\n",
       "      <td>19.2514</td>\n",
       "      <td>...</td>\n",
       "      <td>-1.4905</td>\n",
       "      <td>9.5214</td>\n",
       "      <td>-0.1508</td>\n",
       "      <td>9.1942</td>\n",
       "      <td>13.2876</td>\n",
       "      <td>-1.5121</td>\n",
       "      <td>3.9267</td>\n",
       "      <td>9.5031</td>\n",
       "      <td>17.9974</td>\n",
       "      <td>-8.8104</td>\n",
       "    </tr>\n",
       "  </tbody>\n",
       "</table>\n",
       "<p>5 rows × 202 columns</p>\n",
       "</div>"
      ],
      "text/plain": [
       "   ID_code  target    var_0   var_1    var_2   var_3    var_4   var_5   var_6  \\\n",
       "0  train_0       0   8.9255 -6.7863  11.9081  5.0930  11.4607 -9.2834  5.1187   \n",
       "1  train_1       0  11.5006 -4.1473  13.8588  5.3890  12.3622  7.0433  5.6208   \n",
       "2  train_2       0   8.6093 -2.7457  12.0805  7.8928  10.5825 -9.0837  6.9427   \n",
       "3  train_3       0  11.0604 -2.1518   8.9522  7.1957  12.5846 -1.8361  5.8428   \n",
       "4  train_4       0   9.8369 -1.4834  12.8746  6.6375  12.2772  2.4486  5.9405   \n",
       "\n",
       "     var_7   ...     var_190  var_191  var_192  var_193  var_194  var_195  \\\n",
       "0  18.6266   ...      4.4354   3.9642   3.1364   1.6910  18.5227  -2.3978   \n",
       "1  16.5338   ...      7.6421   7.7214   2.5837  10.9516  15.4305   2.0339   \n",
       "2  14.6155   ...      2.9057   9.7905   1.6704   1.6858  21.6042   3.1417   \n",
       "3  14.9250   ...      4.4666   4.7433   0.7178   1.4214  23.0347  -1.2706   \n",
       "4  19.2514   ...     -1.4905   9.5214  -0.1508   9.1942  13.2876  -1.5121   \n",
       "\n",
       "   var_196  var_197  var_198  var_199  \n",
       "0   7.8784   8.5635  12.7803  -1.0914  \n",
       "1   8.1267   8.7889  18.3560   1.9518  \n",
       "2  -6.5213   8.2675  14.7222   0.3965  \n",
       "3  -2.9275  10.2922  17.9697  -8.9996  \n",
       "4   3.9267   9.5031  17.9974  -8.8104  \n",
       "\n",
       "[5 rows x 202 columns]"
      ]
     },
     "execution_count": 3,
     "metadata": {},
     "output_type": "execute_result"
    }
   ],
   "source": [
    "train.head()"
   ]
  },
  {
   "cell_type": "markdown",
   "metadata": {},
   "source": [
    "# 单变量数据EDA\n",
    "## Train数据集\n",
    "### 数据类型&大小\n",
    "\n",
    "1. 数据中有1个int64类型的数据和200个float64类型的数据\n",
    "2. 整个数据集的大小有308.2+M\n",
    "3. 数据一共有200000条记录"
   ]
  },
  {
   "cell_type": "code",
   "execution_count": 4,
   "metadata": {
    "scrolled": true
   },
   "outputs": [
    {
     "name": "stdout",
     "output_type": "stream",
     "text": [
      "<class 'pandas.core.frame.DataFrame'>\n",
      "RangeIndex: 200000 entries, 0 to 199999\n",
      "Columns: 202 entries, ID_code to var_199\n",
      "dtypes: float64(200), int64(1), object(1)\n",
      "memory usage: 308.2+ MB\n"
     ]
    }
   ],
   "source": [
    "train.info()"
   ]
  },
  {
   "cell_type": "markdown",
   "metadata": {},
   "source": [
    "- 单独查看数据大小"
   ]
  },
  {
   "cell_type": "code",
   "execution_count": 5,
   "metadata": {},
   "outputs": [
    {
     "data": {
      "text/plain": [
       "(200000, 202)"
      ]
     },
     "execution_count": 5,
     "metadata": {},
     "output_type": "execute_result"
    }
   ],
   "source": [
    "train.shape"
   ]
  },
  {
   "cell_type": "markdown",
   "metadata": {},
   "source": [
    "- 单独查看所有变量类型"
   ]
  },
  {
   "cell_type": "code",
   "execution_count": 6,
   "metadata": {
    "scrolled": true
   },
   "outputs": [
    {
     "data": {
      "text/plain": [
       "ID_code     object\n",
       "target       int64\n",
       "var_0      float64\n",
       "var_1      float64\n",
       "var_2      float64\n",
       "var_3      float64\n",
       "var_4      float64\n",
       "var_5      float64\n",
       "var_6      float64\n",
       "var_7      float64\n",
       "var_8      float64\n",
       "var_9      float64\n",
       "var_10     float64\n",
       "var_11     float64\n",
       "var_12     float64\n",
       "var_13     float64\n",
       "var_14     float64\n",
       "var_15     float64\n",
       "var_16     float64\n",
       "var_17     float64\n",
       "var_18     float64\n",
       "var_19     float64\n",
       "var_20     float64\n",
       "var_21     float64\n",
       "var_22     float64\n",
       "var_23     float64\n",
       "var_24     float64\n",
       "var_25     float64\n",
       "var_26     float64\n",
       "var_27     float64\n",
       "            ...   \n",
       "var_170    float64\n",
       "var_171    float64\n",
       "var_172    float64\n",
       "var_173    float64\n",
       "var_174    float64\n",
       "var_175    float64\n",
       "var_176    float64\n",
       "var_177    float64\n",
       "var_178    float64\n",
       "var_179    float64\n",
       "var_180    float64\n",
       "var_181    float64\n",
       "var_182    float64\n",
       "var_183    float64\n",
       "var_184    float64\n",
       "var_185    float64\n",
       "var_186    float64\n",
       "var_187    float64\n",
       "var_188    float64\n",
       "var_189    float64\n",
       "var_190    float64\n",
       "var_191    float64\n",
       "var_192    float64\n",
       "var_193    float64\n",
       "var_194    float64\n",
       "var_195    float64\n",
       "var_196    float64\n",
       "var_197    float64\n",
       "var_198    float64\n",
       "var_199    float64\n",
       "Length: 202, dtype: object"
      ]
     },
     "execution_count": 6,
     "metadata": {},
     "output_type": "execute_result"
    }
   ],
   "source": [
    "train.dtypes"
   ]
  },
  {
   "cell_type": "markdown",
   "metadata": {},
   "source": [
    "### 数据特征统计变量\n",
    "- 所有的数据都是float型的,而且很多数据都有正有负,也就是说,我们不能直接做log化处理"
   ]
  },
  {
   "cell_type": "code",
   "execution_count": 7,
   "metadata": {
    "scrolled": false
   },
   "outputs": [
    {
     "data": {
      "text/html": [
       "<div>\n",
       "<style>\n",
       "    .dataframe thead tr:only-child th {\n",
       "        text-align: right;\n",
       "    }\n",
       "\n",
       "    .dataframe thead th {\n",
       "        text-align: left;\n",
       "    }\n",
       "\n",
       "    .dataframe tbody tr th {\n",
       "        vertical-align: top;\n",
       "    }\n",
       "</style>\n",
       "<table border=\"1\" class=\"dataframe\">\n",
       "  <thead>\n",
       "    <tr style=\"text-align: right;\">\n",
       "      <th></th>\n",
       "      <th>target</th>\n",
       "      <th>var_0</th>\n",
       "      <th>var_1</th>\n",
       "      <th>var_2</th>\n",
       "      <th>var_3</th>\n",
       "      <th>var_4</th>\n",
       "      <th>var_5</th>\n",
       "      <th>var_6</th>\n",
       "      <th>var_7</th>\n",
       "      <th>var_8</th>\n",
       "      <th>...</th>\n",
       "      <th>var_190</th>\n",
       "      <th>var_191</th>\n",
       "      <th>var_192</th>\n",
       "      <th>var_193</th>\n",
       "      <th>var_194</th>\n",
       "      <th>var_195</th>\n",
       "      <th>var_196</th>\n",
       "      <th>var_197</th>\n",
       "      <th>var_198</th>\n",
       "      <th>var_199</th>\n",
       "    </tr>\n",
       "  </thead>\n",
       "  <tbody>\n",
       "    <tr>\n",
       "      <th>count</th>\n",
       "      <td>200000.000000</td>\n",
       "      <td>200000.000000</td>\n",
       "      <td>200000.000000</td>\n",
       "      <td>200000.000000</td>\n",
       "      <td>200000.000000</td>\n",
       "      <td>200000.000000</td>\n",
       "      <td>200000.000000</td>\n",
       "      <td>200000.000000</td>\n",
       "      <td>200000.000000</td>\n",
       "      <td>200000.000000</td>\n",
       "      <td>...</td>\n",
       "      <td>200000.000000</td>\n",
       "      <td>200000.000000</td>\n",
       "      <td>200000.000000</td>\n",
       "      <td>200000.000000</td>\n",
       "      <td>200000.000000</td>\n",
       "      <td>200000.000000</td>\n",
       "      <td>200000.000000</td>\n",
       "      <td>200000.000000</td>\n",
       "      <td>200000.000000</td>\n",
       "      <td>200000.000000</td>\n",
       "    </tr>\n",
       "    <tr>\n",
       "      <th>mean</th>\n",
       "      <td>0.100490</td>\n",
       "      <td>10.679914</td>\n",
       "      <td>-1.627622</td>\n",
       "      <td>10.715192</td>\n",
       "      <td>6.796529</td>\n",
       "      <td>11.078333</td>\n",
       "      <td>-5.065317</td>\n",
       "      <td>5.408949</td>\n",
       "      <td>16.545850</td>\n",
       "      <td>0.284162</td>\n",
       "      <td>...</td>\n",
       "      <td>3.234440</td>\n",
       "      <td>7.438408</td>\n",
       "      <td>1.927839</td>\n",
       "      <td>3.331774</td>\n",
       "      <td>17.993784</td>\n",
       "      <td>-0.142088</td>\n",
       "      <td>2.303335</td>\n",
       "      <td>8.908158</td>\n",
       "      <td>15.870720</td>\n",
       "      <td>-3.326537</td>\n",
       "    </tr>\n",
       "    <tr>\n",
       "      <th>std</th>\n",
       "      <td>0.300653</td>\n",
       "      <td>3.040051</td>\n",
       "      <td>4.050044</td>\n",
       "      <td>2.640894</td>\n",
       "      <td>2.043319</td>\n",
       "      <td>1.623150</td>\n",
       "      <td>7.863267</td>\n",
       "      <td>0.866607</td>\n",
       "      <td>3.418076</td>\n",
       "      <td>3.332634</td>\n",
       "      <td>...</td>\n",
       "      <td>4.559922</td>\n",
       "      <td>3.023272</td>\n",
       "      <td>1.478423</td>\n",
       "      <td>3.992030</td>\n",
       "      <td>3.135162</td>\n",
       "      <td>1.429372</td>\n",
       "      <td>5.454369</td>\n",
       "      <td>0.921625</td>\n",
       "      <td>3.010945</td>\n",
       "      <td>10.438015</td>\n",
       "    </tr>\n",
       "    <tr>\n",
       "      <th>min</th>\n",
       "      <td>0.000000</td>\n",
       "      <td>0.408400</td>\n",
       "      <td>-15.043400</td>\n",
       "      <td>2.117100</td>\n",
       "      <td>-0.040200</td>\n",
       "      <td>5.074800</td>\n",
       "      <td>-32.562600</td>\n",
       "      <td>2.347300</td>\n",
       "      <td>5.349700</td>\n",
       "      <td>-10.505500</td>\n",
       "      <td>...</td>\n",
       "      <td>-14.093300</td>\n",
       "      <td>-2.691700</td>\n",
       "      <td>-3.814500</td>\n",
       "      <td>-11.783400</td>\n",
       "      <td>8.694400</td>\n",
       "      <td>-5.261000</td>\n",
       "      <td>-14.209600</td>\n",
       "      <td>5.960600</td>\n",
       "      <td>6.299300</td>\n",
       "      <td>-38.852800</td>\n",
       "    </tr>\n",
       "    <tr>\n",
       "      <th>25%</th>\n",
       "      <td>0.000000</td>\n",
       "      <td>8.453850</td>\n",
       "      <td>-4.740025</td>\n",
       "      <td>8.722475</td>\n",
       "      <td>5.254075</td>\n",
       "      <td>9.883175</td>\n",
       "      <td>-11.200350</td>\n",
       "      <td>4.767700</td>\n",
       "      <td>13.943800</td>\n",
       "      <td>-2.317800</td>\n",
       "      <td>...</td>\n",
       "      <td>-0.058825</td>\n",
       "      <td>5.157400</td>\n",
       "      <td>0.889775</td>\n",
       "      <td>0.584600</td>\n",
       "      <td>15.629800</td>\n",
       "      <td>-1.170700</td>\n",
       "      <td>-1.946925</td>\n",
       "      <td>8.252800</td>\n",
       "      <td>13.829700</td>\n",
       "      <td>-11.208475</td>\n",
       "    </tr>\n",
       "    <tr>\n",
       "      <th>50%</th>\n",
       "      <td>0.000000</td>\n",
       "      <td>10.524750</td>\n",
       "      <td>-1.608050</td>\n",
       "      <td>10.580000</td>\n",
       "      <td>6.825000</td>\n",
       "      <td>11.108250</td>\n",
       "      <td>-4.833150</td>\n",
       "      <td>5.385100</td>\n",
       "      <td>16.456800</td>\n",
       "      <td>0.393700</td>\n",
       "      <td>...</td>\n",
       "      <td>3.203600</td>\n",
       "      <td>7.347750</td>\n",
       "      <td>1.901300</td>\n",
       "      <td>3.396350</td>\n",
       "      <td>17.957950</td>\n",
       "      <td>-0.172700</td>\n",
       "      <td>2.408900</td>\n",
       "      <td>8.888200</td>\n",
       "      <td>15.934050</td>\n",
       "      <td>-2.819550</td>\n",
       "    </tr>\n",
       "    <tr>\n",
       "      <th>75%</th>\n",
       "      <td>0.000000</td>\n",
       "      <td>12.758200</td>\n",
       "      <td>1.358625</td>\n",
       "      <td>12.516700</td>\n",
       "      <td>8.324100</td>\n",
       "      <td>12.261125</td>\n",
       "      <td>0.924800</td>\n",
       "      <td>6.003000</td>\n",
       "      <td>19.102900</td>\n",
       "      <td>2.937900</td>\n",
       "      <td>...</td>\n",
       "      <td>6.406200</td>\n",
       "      <td>9.512525</td>\n",
       "      <td>2.949500</td>\n",
       "      <td>6.205800</td>\n",
       "      <td>20.396525</td>\n",
       "      <td>0.829600</td>\n",
       "      <td>6.556725</td>\n",
       "      <td>9.593300</td>\n",
       "      <td>18.064725</td>\n",
       "      <td>4.836800</td>\n",
       "    </tr>\n",
       "    <tr>\n",
       "      <th>max</th>\n",
       "      <td>1.000000</td>\n",
       "      <td>20.315000</td>\n",
       "      <td>10.376800</td>\n",
       "      <td>19.353000</td>\n",
       "      <td>13.188300</td>\n",
       "      <td>16.671400</td>\n",
       "      <td>17.251600</td>\n",
       "      <td>8.447700</td>\n",
       "      <td>27.691800</td>\n",
       "      <td>10.151300</td>\n",
       "      <td>...</td>\n",
       "      <td>18.440900</td>\n",
       "      <td>16.716500</td>\n",
       "      <td>8.402400</td>\n",
       "      <td>18.281800</td>\n",
       "      <td>27.928800</td>\n",
       "      <td>4.272900</td>\n",
       "      <td>18.321500</td>\n",
       "      <td>12.000400</td>\n",
       "      <td>26.079100</td>\n",
       "      <td>28.500700</td>\n",
       "    </tr>\n",
       "  </tbody>\n",
       "</table>\n",
       "<p>8 rows × 201 columns</p>\n",
       "</div>"
      ],
      "text/plain": [
       "              target          var_0          var_1          var_2  \\\n",
       "count  200000.000000  200000.000000  200000.000000  200000.000000   \n",
       "mean        0.100490      10.679914      -1.627622      10.715192   \n",
       "std         0.300653       3.040051       4.050044       2.640894   \n",
       "min         0.000000       0.408400     -15.043400       2.117100   \n",
       "25%         0.000000       8.453850      -4.740025       8.722475   \n",
       "50%         0.000000      10.524750      -1.608050      10.580000   \n",
       "75%         0.000000      12.758200       1.358625      12.516700   \n",
       "max         1.000000      20.315000      10.376800      19.353000   \n",
       "\n",
       "               var_3          var_4          var_5          var_6  \\\n",
       "count  200000.000000  200000.000000  200000.000000  200000.000000   \n",
       "mean        6.796529      11.078333      -5.065317       5.408949   \n",
       "std         2.043319       1.623150       7.863267       0.866607   \n",
       "min        -0.040200       5.074800     -32.562600       2.347300   \n",
       "25%         5.254075       9.883175     -11.200350       4.767700   \n",
       "50%         6.825000      11.108250      -4.833150       5.385100   \n",
       "75%         8.324100      12.261125       0.924800       6.003000   \n",
       "max        13.188300      16.671400      17.251600       8.447700   \n",
       "\n",
       "               var_7          var_8      ...              var_190  \\\n",
       "count  200000.000000  200000.000000      ...        200000.000000   \n",
       "mean       16.545850       0.284162      ...             3.234440   \n",
       "std         3.418076       3.332634      ...             4.559922   \n",
       "min         5.349700     -10.505500      ...           -14.093300   \n",
       "25%        13.943800      -2.317800      ...            -0.058825   \n",
       "50%        16.456800       0.393700      ...             3.203600   \n",
       "75%        19.102900       2.937900      ...             6.406200   \n",
       "max        27.691800      10.151300      ...            18.440900   \n",
       "\n",
       "             var_191        var_192        var_193        var_194  \\\n",
       "count  200000.000000  200000.000000  200000.000000  200000.000000   \n",
       "mean        7.438408       1.927839       3.331774      17.993784   \n",
       "std         3.023272       1.478423       3.992030       3.135162   \n",
       "min        -2.691700      -3.814500     -11.783400       8.694400   \n",
       "25%         5.157400       0.889775       0.584600      15.629800   \n",
       "50%         7.347750       1.901300       3.396350      17.957950   \n",
       "75%         9.512525       2.949500       6.205800      20.396525   \n",
       "max        16.716500       8.402400      18.281800      27.928800   \n",
       "\n",
       "             var_195        var_196        var_197        var_198  \\\n",
       "count  200000.000000  200000.000000  200000.000000  200000.000000   \n",
       "mean       -0.142088       2.303335       8.908158      15.870720   \n",
       "std         1.429372       5.454369       0.921625       3.010945   \n",
       "min        -5.261000     -14.209600       5.960600       6.299300   \n",
       "25%        -1.170700      -1.946925       8.252800      13.829700   \n",
       "50%        -0.172700       2.408900       8.888200      15.934050   \n",
       "75%         0.829600       6.556725       9.593300      18.064725   \n",
       "max         4.272900      18.321500      12.000400      26.079100   \n",
       "\n",
       "             var_199  \n",
       "count  200000.000000  \n",
       "mean       -3.326537  \n",
       "std        10.438015  \n",
       "min       -38.852800  \n",
       "25%       -11.208475  \n",
       "50%        -2.819550  \n",
       "75%         4.836800  \n",
       "max        28.500700  \n",
       "\n",
       "[8 rows x 201 columns]"
      ]
     },
     "execution_count": 7,
     "metadata": {},
     "output_type": "execute_result"
    }
   ],
   "source": [
    "train.describe()"
   ]
  },
  {
   "cell_type": "markdown",
   "metadata": {},
   "source": [
    "### 数据缺失情况\n",
    "- 我们的数据不存在缺失的情况\n"
   ]
  },
  {
   "cell_type": "code",
   "execution_count": 8,
   "metadata": {
    "scrolled": true
   },
   "outputs": [
    {
     "data": {
      "text/plain": [
       "ID_code    0\n",
       "var_126    0\n",
       "var_127    0\n",
       "var_128    0\n",
       "var_129    0\n",
       "var_130    0\n",
       "var_131    0\n",
       "var_132    0\n",
       "var_133    0\n",
       "var_134    0\n",
       "var_135    0\n",
       "var_136    0\n",
       "var_137    0\n",
       "var_138    0\n",
       "var_139    0\n",
       "var_140    0\n",
       "var_141    0\n",
       "var_142    0\n",
       "var_143    0\n",
       "var_144    0\n",
       "var_145    0\n",
       "var_146    0\n",
       "var_125    0\n",
       "var_147    0\n",
       "var_124    0\n",
       "var_122    0\n",
       "var_101    0\n",
       "var_102    0\n",
       "var_103    0\n",
       "var_104    0\n",
       "          ..\n",
       "var_95     0\n",
       "var_96     0\n",
       "var_75     0\n",
       "var_74     0\n",
       "var_73     0\n",
       "var_72     0\n",
       "var_50     0\n",
       "var_51     0\n",
       "var_52     0\n",
       "var_53     0\n",
       "var_54     0\n",
       "var_55     0\n",
       "var_56     0\n",
       "var_57     0\n",
       "var_58     0\n",
       "var_59     0\n",
       "var_48     0\n",
       "var_60     0\n",
       "var_62     0\n",
       "var_63     0\n",
       "var_64     0\n",
       "var_65     0\n",
       "var_66     0\n",
       "var_67     0\n",
       "var_68     0\n",
       "var_69     0\n",
       "var_70     0\n",
       "var_71     0\n",
       "var_61     0\n",
       "var_199    0\n",
       "Length: 202, dtype: int64"
      ]
     },
     "execution_count": 8,
     "metadata": {},
     "output_type": "execute_result"
    }
   ],
   "source": [
    "train.isnull().sum().sort_values()"
   ]
  },
  {
   "cell_type": "markdown",
   "metadata": {},
   "source": [
    "### 单个特征列nunique分布\n",
    "1. 所有的特征中最少的nunique也是451(不考虑target),也就是说不大可能是categorical变量"
   ]
  },
  {
   "cell_type": "code",
   "execution_count": 9,
   "metadata": {
    "scrolled": true
   },
   "outputs": [
    {
     "data": {
      "text/plain": [
       "target          2\n",
       "var_68        451\n",
       "var_91       7962\n",
       "var_108      8525\n",
       "var_103      9376\n",
       "var_12       9561\n",
       "var_148     10608\n",
       "var_161     11071\n",
       "var_71      13527\n",
       "var_25      14853\n",
       "var_43      15188\n",
       "var_125     16059\n",
       "var_166     17902\n",
       "var_169     18242\n",
       "var_133     19236\n",
       "var_15      19810\n",
       "var_131     21464\n",
       "var_23      24913\n",
       "var_34      25164\n",
       "var_93      26708\n",
       "var_95      29387\n",
       "var_42      31592\n",
       "var_50      32308\n",
       "var_126     32411\n",
       "var_98      33266\n",
       "var_53      33460\n",
       "var_57      35545\n",
       "var_28      35859\n",
       "var_130     36638\n",
       "var_59      37744\n",
       "            ...  \n",
       "var_118    143667\n",
       "var_19     144180\n",
       "var_83     144281\n",
       "var_137    144397\n",
       "var_158    144556\n",
       "var_54     144776\n",
       "var_82     144829\n",
       "var_184    145184\n",
       "var_178    145235\n",
       "var_30     145977\n",
       "var_102    146237\n",
       "var_96     148099\n",
       "var_149    148504\n",
       "var_182    149195\n",
       "var_199    149430\n",
       "var_100    150727\n",
       "var_48     152039\n",
       "var_70     153193\n",
       "var_47     154781\n",
       "var_160    156274\n",
       "var_136    156615\n",
       "var_187    157031\n",
       "var_90     157210\n",
       "var_120    158269\n",
       "var_97     158739\n",
       "var_61     159369\n",
       "var_74     161058\n",
       "var_117    164469\n",
       "var_45     169968\n",
       "ID_code    200000\n",
       "Length: 202, dtype: int64"
      ]
     },
     "execution_count": 9,
     "metadata": {},
     "output_type": "execute_result"
    }
   ],
   "source": [
    "train.nunique().sort_values()"
   ]
  },
  {
   "cell_type": "code",
   "execution_count": null,
   "metadata": {},
   "outputs": [],
   "source": []
  },
  {
   "cell_type": "code",
   "execution_count": 10,
   "metadata": {
    "scrolled": true
   },
   "outputs": [
    {
     "name": "stdout",
     "output_type": "stream",
     "text": [
      "target 0    179902\n",
      "1     20098\n",
      "Name: target, dtype: int64\n",
      "var_12 13.5545    203\n",
      "13.5547    159\n",
      "13.5546    150\n",
      "Name: var_12, dtype: int64\n",
      "var_68 5.0214    1084\n",
      "5.0215    1081\n",
      "5.0209    1080\n",
      "Name: var_68, dtype: int64\n",
      "var_108 14.1999    313\n",
      "14.2000    291\n",
      "14.2003    255\n",
      "Name: var_108, dtype: int64\n",
      "var_126 11.5356    305\n",
      "11.5354    297\n",
      "11.5355    285\n",
      "Name: var_126, dtype: int64\n"
     ]
    }
   ],
   "source": [
    "fea_cols = train.columns\n",
    "interesting_cols = []\n",
    "for col in fea_cols:\n",
    "    if train[col].value_counts().iloc[0] > 100:\n",
    "        print(col, train[col].value_counts().iloc[:3])\n",
    "        interesting_cols.append(col)"
   ]
  },
  {
   "cell_type": "code",
   "execution_count": 11,
   "metadata": {},
   "outputs": [
    {
     "data": {
      "text/plain": [
       "['target', 'var_12', 'var_68', 'var_108', 'var_126']"
      ]
     },
     "execution_count": 11,
     "metadata": {},
     "output_type": "execute_result"
    }
   ],
   "source": [
    "interesting_cols"
   ]
  },
  {
   "cell_type": "markdown",
   "metadata": {},
   "source": [
    "### <font color=red>是否有单调特征列(单调的特征列很大可能是时间)</font>\n",
    "- 经过检查,并没有单调的特征列"
   ]
  },
  {
   "cell_type": "code",
   "execution_count": 12,
   "metadata": {},
   "outputs": [],
   "source": [
    "def incresing(vals):\n",
    "    cnt = 0\n",
    "    len_ = len(vals)\n",
    "    for i in range(len_-1):\n",
    "        if vals[i+1] > vals[i]:\n",
    "            cnt += 1\n",
    "    return cnt"
   ]
  },
  {
   "cell_type": "code",
   "execution_count": 13,
   "metadata": {
    "scrolled": true
   },
   "outputs": [],
   "source": [
    "fea_cols = [col for col in train.columns if 'var' in col]\n",
    "for col in fea_cols:\n",
    "    cnt = incresing(train[col].values)\n",
    "    if cnt / train.shape[0] >= 0.55:\n",
    "        print(col , cnt, cnt / train.shape[0])"
   ]
  },
  {
   "cell_type": "markdown",
   "metadata": {},
   "source": [
    "### label分布 & 猜想检验\n",
    " "
   ]
  },
  {
   "cell_type": "markdown",
   "metadata": {},
   "source": [
    "#### Label分布"
   ]
  },
  {
   "cell_type": "markdown",
   "metadata": {},
   "source": [
    "\n",
    "- 训练集中一共有179902个样本其0,有20098个样本是1 "
   ]
  },
  {
   "cell_type": "code",
   "execution_count": 14,
   "metadata": {},
   "outputs": [
    {
     "data": {
      "text/plain": [
       "0    179902\n",
       "1     20098\n",
       "Name: target, dtype: int64"
      ]
     },
     "execution_count": 14,
     "metadata": {},
     "output_type": "execute_result"
    }
   ],
   "source": [
    "train['target'].value_counts()"
   ]
  },
  {
   "cell_type": "markdown",
   "metadata": {},
   "source": [
    "- 为了直观化,我们可以通过bar图来看数据的个数情况,同时用pie图来看数据的比例"
   ]
  },
  {
   "cell_type": "code",
   "execution_count": 15,
   "metadata": {
    "scrolled": false
   },
   "outputs": [
    {
     "data": {
      "text/plain": [
       "<matplotlib.axes._subplots.AxesSubplot at 0x7fe2c487ccc0>"
      ]
     },
     "execution_count": 15,
     "metadata": {},
     "output_type": "execute_result"
    },
    {
     "data": {
      "image/png": "[encoded data removed]",
      "text/plain": [
       "<matplotlib.figure.Figure at 0x7fe33c3ecb00>"
      ]
     },
     "metadata": {},
     "output_type": "display_data"
    }
   ],
   "source": [
    "train['target'].value_counts().sort_index().plot(kind = 'bar')"
   ]
  },
  {
   "cell_type": "code",
   "execution_count": 16,
   "metadata": {
    "scrolled": true
   },
   "outputs": [
    {
     "data": {
      "text/plain": [
       "<matplotlib.axes._subplots.AxesSubplot at 0x7fe2c47cfa58>"
      ]
     },
     "execution_count": 16,
     "metadata": {},
     "output_type": "execute_result"
    },
    {
     "data": {
      "image/png": "[encoded data removed]",
      "text/plain": [
       "<matplotlib.figure.Figure at 0x7fe2c4814630>"
      ]
     },
     "metadata": {},
     "output_type": "display_data"
    }
   ],
   "source": [
    "train['target'].value_counts().sort_index().plot(kind = 'pie')"
   ]
  },
  {
   "cell_type": "markdown",
   "metadata": {},
   "source": [
    "## Test数据集\n",
    "\n",
    "\n",
    "### 数据类型&大小\n",
    "\n",
    "1. 数据中有200个int64类型的数据和1个object类型的数据\n",
    "2. 整个数据集的大小有306.7+M\n",
    "3. 数据一共有200000条记录"
   ]
  },
  {
   "cell_type": "code",
   "execution_count": 17,
   "metadata": {},
   "outputs": [
    {
     "data": {
      "text/html": [
       "<div>\n",
       "<style>\n",
       "    .dataframe thead tr:only-child th {\n",
       "        text-align: right;\n",
       "    }\n",
       "\n",
       "    .dataframe thead th {\n",
       "        text-align: left;\n",
       "    }\n",
       "\n",
       "    .dataframe tbody tr th {\n",
       "        vertical-align: top;\n",
       "    }\n",
       "</style>\n",
       "<table border=\"1\" class=\"dataframe\">\n",
       "  <thead>\n",
       "    <tr style=\"text-align: right;\">\n",
       "      <th></th>\n",
       "      <th>ID_code</th>\n",
       "      <th>var_0</th>\n",
       "      <th>var_1</th>\n",
       "      <th>var_2</th>\n",
       "      <th>var_3</th>\n",
       "      <th>var_4</th>\n",
       "      <th>var_5</th>\n",
       "      <th>var_6</th>\n",
       "      <th>var_7</th>\n",
       "      <th>var_8</th>\n",
       "      <th>...</th>\n",
       "      <th>var_190</th>\n",
       "      <th>var_191</th>\n",
       "      <th>var_192</th>\n",
       "      <th>var_193</th>\n",
       "      <th>var_194</th>\n",
       "      <th>var_195</th>\n",
       "      <th>var_196</th>\n",
       "      <th>var_197</th>\n",
       "      <th>var_198</th>\n",
       "      <th>var_199</th>\n",
       "    </tr>\n",
       "  </thead>\n",
       "  <tbody>\n",
       "    <tr>\n",
       "      <th>0</th>\n",
       "      <td>test_0</td>\n",
       "      <td>11.0656</td>\n",
       "      <td>7.7798</td>\n",
       "      <td>12.9536</td>\n",
       "      <td>9.4292</td>\n",
       "      <td>11.4327</td>\n",
       "      <td>-2.3805</td>\n",
       "      <td>5.8493</td>\n",
       "      <td>18.2675</td>\n",
       "      <td>2.1337</td>\n",
       "      <td>...</td>\n",
       "      <td>-2.1556</td>\n",
       "      <td>11.8495</td>\n",
       "      <td>-1.4300</td>\n",
       "      <td>2.4508</td>\n",
       "      <td>13.7112</td>\n",
       "      <td>2.4669</td>\n",
       "      <td>4.3654</td>\n",
       "      <td>10.7200</td>\n",
       "      <td>15.4722</td>\n",
       "      <td>-8.7197</td>\n",
       "    </tr>\n",
       "    <tr>\n",
       "      <th>1</th>\n",
       "      <td>test_1</td>\n",
       "      <td>8.5304</td>\n",
       "      <td>1.2543</td>\n",
       "      <td>11.3047</td>\n",
       "      <td>5.1858</td>\n",
       "      <td>9.1974</td>\n",
       "      <td>-4.0117</td>\n",
       "      <td>6.0196</td>\n",
       "      <td>18.6316</td>\n",
       "      <td>-4.4131</td>\n",
       "      <td>...</td>\n",
       "      <td>10.6165</td>\n",
       "      <td>8.8349</td>\n",
       "      <td>0.9403</td>\n",
       "      <td>10.1282</td>\n",
       "      <td>15.5765</td>\n",
       "      <td>0.4773</td>\n",
       "      <td>-1.4852</td>\n",
       "      <td>9.8714</td>\n",
       "      <td>19.1293</td>\n",
       "      <td>-20.9760</td>\n",
       "    </tr>\n",
       "    <tr>\n",
       "      <th>2</th>\n",
       "      <td>test_2</td>\n",
       "      <td>5.4827</td>\n",
       "      <td>-10.3581</td>\n",
       "      <td>10.1407</td>\n",
       "      <td>7.0479</td>\n",
       "      <td>10.2628</td>\n",
       "      <td>9.8052</td>\n",
       "      <td>4.8950</td>\n",
       "      <td>20.2537</td>\n",
       "      <td>1.5233</td>\n",
       "      <td>...</td>\n",
       "      <td>-0.7484</td>\n",
       "      <td>10.9935</td>\n",
       "      <td>1.9803</td>\n",
       "      <td>2.1800</td>\n",
       "      <td>12.9813</td>\n",
       "      <td>2.1281</td>\n",
       "      <td>-7.1086</td>\n",
       "      <td>7.0618</td>\n",
       "      <td>19.8956</td>\n",
       "      <td>-23.1794</td>\n",
       "    </tr>\n",
       "    <tr>\n",
       "      <th>3</th>\n",
       "      <td>test_3</td>\n",
       "      <td>8.5374</td>\n",
       "      <td>-1.3222</td>\n",
       "      <td>12.0220</td>\n",
       "      <td>6.5749</td>\n",
       "      <td>8.8458</td>\n",
       "      <td>3.1744</td>\n",
       "      <td>4.9397</td>\n",
       "      <td>20.5660</td>\n",
       "      <td>3.3755</td>\n",
       "      <td>...</td>\n",
       "      <td>9.5702</td>\n",
       "      <td>9.0766</td>\n",
       "      <td>1.6580</td>\n",
       "      <td>3.5813</td>\n",
       "      <td>15.1874</td>\n",
       "      <td>3.1656</td>\n",
       "      <td>3.9567</td>\n",
       "      <td>9.2295</td>\n",
       "      <td>13.0168</td>\n",
       "      <td>-4.2108</td>\n",
       "    </tr>\n",
       "    <tr>\n",
       "      <th>4</th>\n",
       "      <td>test_4</td>\n",
       "      <td>11.7058</td>\n",
       "      <td>-0.1327</td>\n",
       "      <td>14.1295</td>\n",
       "      <td>7.7506</td>\n",
       "      <td>9.1035</td>\n",
       "      <td>-8.5848</td>\n",
       "      <td>6.8595</td>\n",
       "      <td>10.6048</td>\n",
       "      <td>2.9890</td>\n",
       "      <td>...</td>\n",
       "      <td>4.2259</td>\n",
       "      <td>9.1723</td>\n",
       "      <td>1.2835</td>\n",
       "      <td>3.3778</td>\n",
       "      <td>19.5542</td>\n",
       "      <td>-0.2860</td>\n",
       "      <td>-5.1612</td>\n",
       "      <td>7.2882</td>\n",
       "      <td>13.9260</td>\n",
       "      <td>-9.1846</td>\n",
       "    </tr>\n",
       "  </tbody>\n",
       "</table>\n",
       "<p>5 rows × 201 columns</p>\n",
       "</div>"
      ],
      "text/plain": [
       "  ID_code    var_0    var_1    var_2   var_3    var_4   var_5   var_6  \\\n",
       "0  test_0  11.0656   7.7798  12.9536  9.4292  11.4327 -2.3805  5.8493   \n",
       "1  test_1   8.5304   1.2543  11.3047  5.1858   9.1974 -4.0117  6.0196   \n",
       "2  test_2   5.4827 -10.3581  10.1407  7.0479  10.2628  9.8052  4.8950   \n",
       "3  test_3   8.5374  -1.3222  12.0220  6.5749   8.8458  3.1744  4.9397   \n",
       "4  test_4  11.7058  -0.1327  14.1295  7.7506   9.1035 -8.5848  6.8595   \n",
       "\n",
       "     var_7   var_8   ...     var_190  var_191  var_192  var_193  var_194  \\\n",
       "0  18.2675  2.1337   ...     -2.1556  11.8495  -1.4300   2.4508  13.7112   \n",
       "1  18.6316 -4.4131   ...     10.6165   8.8349   0.9403  10.1282  15.5765   \n",
       "2  20.2537  1.5233   ...     -0.7484  10.9935   1.9803   2.1800  12.9813   \n",
       "3  20.5660  3.3755   ...      9.5702   9.0766   1.6580   3.5813  15.1874   \n",
       "4  10.6048  2.9890   ...      4.2259   9.1723   1.2835   3.3778  19.5542   \n",
       "\n",
       "   var_195  var_196  var_197  var_198  var_199  \n",
       "0   2.4669   4.3654  10.7200  15.4722  -8.7197  \n",
       "1   0.4773  -1.4852   9.8714  19.1293 -20.9760  \n",
       "2   2.1281  -7.1086   7.0618  19.8956 -23.1794  \n",
       "3   3.1656   3.9567   9.2295  13.0168  -4.2108  \n",
       "4  -0.2860  -5.1612   7.2882  13.9260  -9.1846  \n",
       "\n",
       "[5 rows x 201 columns]"
      ]
     },
     "execution_count": 17,
     "metadata": {},
     "output_type": "execute_result"
    }
   ],
   "source": [
    "test.head()"
   ]
  },
  {
   "cell_type": "code",
   "execution_count": 18,
   "metadata": {},
   "outputs": [
    {
     "name": "stdout",
     "output_type": "stream",
     "text": [
      "<class 'pandas.core.frame.DataFrame'>\n",
      "RangeIndex: 200000 entries, 0 to 199999\n",
      "Columns: 201 entries, ID_code to var_199\n",
      "dtypes: float64(200), object(1)\n",
      "memory usage: 306.7+ MB\n"
     ]
    }
   ],
   "source": [
    "test.info()"
   ]
  },
  {
   "cell_type": "markdown",
   "metadata": {},
   "source": [
    "### 数据缺失情况\n",
    "- 我们的数据不存在缺失的情况\n"
   ]
  },
  {
   "cell_type": "code",
   "execution_count": 19,
   "metadata": {
    "scrolled": true
   },
   "outputs": [
    {
     "data": {
      "text/plain": [
       "ID_code    0\n",
       "var_126    0\n",
       "var_127    0\n",
       "var_128    0\n",
       "var_129    0\n",
       "var_130    0\n",
       "var_131    0\n",
       "var_132    0\n",
       "var_133    0\n",
       "var_134    0\n",
       "var_135    0\n",
       "var_136    0\n",
       "var_137    0\n",
       "var_138    0\n",
       "var_139    0\n",
       "var_140    0\n",
       "var_141    0\n",
       "var_142    0\n",
       "var_143    0\n",
       "var_144    0\n",
       "var_145    0\n",
       "var_146    0\n",
       "var_125    0\n",
       "var_147    0\n",
       "var_124    0\n",
       "var_122    0\n",
       "var_101    0\n",
       "var_102    0\n",
       "var_103    0\n",
       "var_104    0\n",
       "          ..\n",
       "var_95     0\n",
       "var_96     0\n",
       "var_75     0\n",
       "var_74     0\n",
       "var_73     0\n",
       "var_72     0\n",
       "var_50     0\n",
       "var_51     0\n",
       "var_52     0\n",
       "var_53     0\n",
       "var_54     0\n",
       "var_55     0\n",
       "var_56     0\n",
       "var_57     0\n",
       "var_58     0\n",
       "var_59     0\n",
       "var_98     0\n",
       "var_60     0\n",
       "var_62     0\n",
       "var_63     0\n",
       "var_64     0\n",
       "var_65     0\n",
       "var_66     0\n",
       "var_67     0\n",
       "var_68     0\n",
       "var_69     0\n",
       "var_70     0\n",
       "var_71     0\n",
       "var_61     0\n",
       "var_199    0\n",
       "Length: 201, dtype: int64"
      ]
     },
     "execution_count": 19,
     "metadata": {},
     "output_type": "execute_result"
    }
   ],
   "source": [
    "test.isnull().sum().sort_values()"
   ]
  },
  {
   "cell_type": "markdown",
   "metadata": {},
   "source": [
    "### 单个特征列nunique分布\n",
    "1. var_68最少也有428个不同的变量,并不像是类别变量"
   ]
  },
  {
   "cell_type": "code",
   "execution_count": 20,
   "metadata": {
    "scrolled": true
   },
   "outputs": [
    {
     "data": {
      "text/plain": [
       "var_68        428\n",
       "var_91       7569\n",
       "var_108      8188\n",
       "var_103      8828\n",
       "var_12       9121\n",
       "var_148      9964\n",
       "var_161     10506\n",
       "var_71      12604\n",
       "var_25      13728\n",
       "var_43      14288\n",
       "var_125     14744\n",
       "var_166     16683\n",
       "var_169     16759\n",
       "var_133     17411\n",
       "var_15      18253\n",
       "var_131     19765\n",
       "var_23      22619\n",
       "var_34      22954\n",
       "var_93      23637\n",
       "var_95      26068\n",
       "var_42      28163\n",
       "var_50      28412\n",
       "var_98      29142\n",
       "var_126     29224\n",
       "var_53      29631\n",
       "var_57      31286\n",
       "var_28      31321\n",
       "var_130     32095\n",
       "var_59      32888\n",
       "var_6       33273\n",
       "            ...  \n",
       "var_118     84091\n",
       "var_83      84275\n",
       "var_19      84370\n",
       "var_158     84373\n",
       "var_82      84426\n",
       "var_184     84500\n",
       "var_137     84520\n",
       "var_178     84537\n",
       "var_54      84548\n",
       "var_102     84953\n",
       "var_30      84985\n",
       "var_149     85452\n",
       "var_96      85505\n",
       "var_199     85933\n",
       "var_182     85984\n",
       "var_100     86300\n",
       "var_70      86863\n",
       "var_48      86929\n",
       "var_47      87427\n",
       "var_160     88104\n",
       "var_136     88160\n",
       "var_187     88290\n",
       "var_90      88329\n",
       "var_120     88478\n",
       "var_97      88491\n",
       "var_61      88874\n",
       "var_74      89343\n",
       "var_117     90342\n",
       "var_45      92058\n",
       "ID_code    200000\n",
       "Length: 201, dtype: int64"
      ]
     },
     "execution_count": 20,
     "metadata": {},
     "output_type": "execute_result"
    }
   ],
   "source": [
    "test.nunique().sort_values()"
   ]
  },
  {
   "cell_type": "markdown",
   "metadata": {},
   "source": [
    "## Train & Test分布探索\n",
    "\n",
    "Train & Test分布主要是为了看数据的分布情况。\n",
    "\n",
    "下面的方法是最近kaggle上GM搞的一种极其简单的探索训练集&测试集分布的方案,将一个分布的问题变成一个二分类问题,该方法简单有效，如果AUC低于0.6,则我们可以认为训练集和测试集是分布平衡的,反之我们则可以认为训练集和测试集是分布不一致的,这个时候就需要注意AB榜是否会出现翻车的情况等。\n"
   ]
  },
  {
   "cell_type": "code",
   "execution_count": 23,
   "metadata": {},
   "outputs": [],
   "source": [
    "train['label'] = 0\n",
    "test['label']  = 1"
   ]
  },
  {
   "cell_type": "code",
   "execution_count": 25,
   "metadata": {},
   "outputs": [],
   "source": [
    "trte = pd.concat([train,test],axis=0,ignore_index=True)"
   ]
  },
  {
   "cell_type": "code",
   "execution_count": 28,
   "metadata": {},
   "outputs": [],
   "source": [
    "import lightgbm as lgb\n",
    "import time\n",
    "from sklearn.model_selection import KFold,StratifiedKFold\n",
    "def validation_prediction_lgb(X,y,feature_names, ratio =1, X_test = None,istest = False):\n",
    "    n_fold = 5\n",
    "    folds = StratifiedKFold(n_splits=n_fold, shuffle=True, random_state=42)\n",
    "  \n",
    "\n",
    "    params = {\n",
    "    'bagging_freq': 5, \n",
    "    'boost_from_average':'false',\n",
    "    'boost': 'gbdt',\n",
    "#     'feature_fraction': 0.041,\n",
    "    'learning_rate': 0.01,\n",
    "    'max_depth': 5,\n",
    "    'metric':'auc',\n",
    "    'min_data_in_leaf': 50,\n",
    "    'min_sum_hessian_in_leaf': 10.0,\n",
    "#     'num_leaves': 13,\n",
    "#     'num_threads': 8,\n",
    "    'tree_learner': 'serial',\n",
    "    'objective': 'binary',\n",
    "    'verbosity': 1}\n",
    "\n",
    "    importances = pd.DataFrame() \n",
    "    if istest:\n",
    "        prediction = np.zeros(len(X_test))\n",
    "    models = []\n",
    "    for fold_n, (train_index, valid_index) in enumerate(folds.split(X,y)):\n",
    "        print('Fold', fold_n, 'started at', time.ctime())\n",
    "        X_train, X_valid = X[train_index], X[valid_index]\n",
    "        y_train, y_valid = y[train_index], y[valid_index]\n",
    "        weights = [ratio  if val == 1 else 1 for val in y_train]\n",
    "        \n",
    "        train_data = lgb.Dataset(X_train, label=y_train,  weight=weights)\n",
    "        valid_data = lgb.Dataset(X_valid, label=y_valid)\n",
    "\n",
    "        model = lgb.train(params,train_data,num_boost_round=20000,\n",
    "                        valid_sets = [train_data, valid_data],verbose_eval=200,early_stopping_rounds = 200)\n",
    "        \n",
    "        imp_df = pd.DataFrame() \n",
    "        imp_df['feature']  = feature_names\n",
    "        imp_df['split']    = model.feature_importance()\n",
    "        imp_df['gain']     = model.feature_importance(importance_type='gain')\n",
    "        imp_df['fold']     = fold_n + 1\n",
    "        \n",
    "        importances = pd.concat([importances, imp_df], axis=0)\n",
    "        \n",
    "        models.append(model)\n",
    "        if istest == True:\n",
    "            prediction += model.predict(X_test, num_iteration=model.best_iteration)/5\n",
    "    if istest == True:     \n",
    "        return models,importances, prediction\n",
    "    else:\n",
    "        return models,importances"
   ]
  },
  {
   "cell_type": "code",
   "execution_count": 30,
   "metadata": {
    "scrolled": true
   },
   "outputs": [
    {
     "name": "stdout",
     "output_type": "stream",
     "text": [
      "200\n",
      "Fold 0 started at Thu Apr 11 21:02:20 2019\n",
      "Training until validation scores don't improve for 200 rounds.\n",
      "[200]\ttraining's auc: 0.588004\tvalid_1's auc: 0.507399\n",
      "[400]\ttraining's auc: 0.623079\tvalid_1's auc: 0.508567\n",
      "[600]\ttraining's auc: 0.64836\tvalid_1's auc: 0.509457\n",
      "[800]\ttraining's auc: 0.668407\tvalid_1's auc: 0.509997\n",
      "[1000]\ttraining's auc: 0.685818\tvalid_1's auc: 0.510444\n",
      "[1200]\ttraining's auc: 0.701208\tvalid_1's auc: 0.510967\n",
      "[1400]\ttraining's auc: 0.71415\tvalid_1's auc: 0.511229\n",
      "[1600]\ttraining's auc: 0.726279\tvalid_1's auc: 0.5118\n",
      "[1800]\ttraining's auc: 0.737253\tvalid_1's auc: 0.512229\n",
      "[2000]\ttraining's auc: 0.747492\tvalid_1's auc: 0.513012\n",
      "[2200]\ttraining's auc: 0.756605\tvalid_1's auc: 0.51352\n",
      "[2400]\ttraining's auc: 0.765341\tvalid_1's auc: 0.513973\n",
      "[2600]\ttraining's auc: 0.773734\tvalid_1's auc: 0.514646\n",
      "[2800]\ttraining's auc: 0.781619\tvalid_1's auc: 0.515295\n",
      "[3000]\ttraining's auc: 0.78887\tvalid_1's auc: 0.51577\n",
      "[3200]\ttraining's auc: 0.795707\tvalid_1's auc: 0.51621\n",
      "[3400]\ttraining's auc: 0.802853\tvalid_1's auc: 0.516842\n",
      "[3600]\ttraining's auc: 0.809513\tvalid_1's auc: 0.517084\n",
      "[3800]\ttraining's auc: 0.815862\tvalid_1's auc: 0.517256\n",
      "[4000]\ttraining's auc: 0.821674\tvalid_1's auc: 0.517389\n",
      "[4200]\ttraining's auc: 0.827103\tvalid_1's auc: 0.51758\n",
      "[4400]\ttraining's auc: 0.832484\tvalid_1's auc: 0.518042\n",
      "[4600]\ttraining's auc: 0.837621\tvalid_1's auc: 0.518255\n",
      "[4800]\ttraining's auc: 0.842331\tvalid_1's auc: 0.518485\n",
      "[5000]\ttraining's auc: 0.84737\tvalid_1's auc: 0.51852\n",
      "Early stopping, best iteration is:\n",
      "[4876]\ttraining's auc: 0.844273\tvalid_1's auc: 0.5186\n",
      "Fold 1 started at Thu Apr 11 21:05:06 2019\n",
      "Training until validation scores don't improve for 200 rounds.\n",
      "[200]\ttraining's auc: 0.588338\tvalid_1's auc: 0.505887\n",
      "Early stopping, best iteration is:\n",
      "[1]\ttraining's auc: 0.515548\tvalid_1's auc: 0.50879\n",
      "Fold 2 started at Thu Apr 11 21:05:15 2019\n",
      "Training until validation scores don't improve for 200 rounds.\n",
      "[200]\ttraining's auc: 0.595704\tvalid_1's auc: 0.509656\n",
      "[400]\ttraining's auc: 0.629269\tvalid_1's auc: 0.51082\n",
      "[600]\ttraining's auc: 0.653081\tvalid_1's auc: 0.512198\n",
      "[800]\ttraining's auc: 0.672569\tvalid_1's auc: 0.513836\n",
      "[1000]\ttraining's auc: 0.688381\tvalid_1's auc: 0.51492\n",
      "[1200]\ttraining's auc: 0.702349\tvalid_1's auc: 0.514932\n",
      "Early stopping, best iteration is:\n",
      "[1085]\ttraining's auc: 0.694783\tvalid_1's auc: 0.515253\n",
      "Fold 3 started at Thu Apr 11 21:05:59 2019\n",
      "Training until validation scores don't improve for 200 rounds.\n",
      "[200]\ttraining's auc: 0.589025\tvalid_1's auc: 0.508061\n",
      "[400]\ttraining's auc: 0.623945\tvalid_1's auc: 0.5092\n",
      "[600]\ttraining's auc: 0.648506\tvalid_1's auc: 0.510029\n",
      "[800]\ttraining's auc: 0.667859\tvalid_1's auc: 0.511094\n",
      "[1000]\ttraining's auc: 0.68331\tvalid_1's auc: 0.511846\n",
      "[1200]\ttraining's auc: 0.697204\tvalid_1's auc: 0.512661\n",
      "[1400]\ttraining's auc: 0.709673\tvalid_1's auc: 0.512922\n",
      "[1600]\ttraining's auc: 0.721541\tvalid_1's auc: 0.513277\n",
      "[1800]\ttraining's auc: 0.732389\tvalid_1's auc: 0.513767\n",
      "[2000]\ttraining's auc: 0.74245\tvalid_1's auc: 0.513912\n",
      "[2200]\ttraining's auc: 0.751641\tvalid_1's auc: 0.514087\n",
      "[2400]\ttraining's auc: 0.759901\tvalid_1's auc: 0.514346\n",
      "[2600]\ttraining's auc: 0.768199\tvalid_1's auc: 0.51467\n",
      "[2800]\ttraining's auc: 0.776257\tvalid_1's auc: 0.515324\n",
      "[3000]\ttraining's auc: 0.78408\tvalid_1's auc: 0.515728\n",
      "[3200]\ttraining's auc: 0.79144\tvalid_1's auc: 0.51592\n",
      "[3400]\ttraining's auc: 0.798282\tvalid_1's auc: 0.516257\n",
      "[3600]\ttraining's auc: 0.804906\tvalid_1's auc: 0.516432\n",
      "[3800]\ttraining's auc: 0.811094\tvalid_1's auc: 0.516379\n",
      "Early stopping, best iteration is:\n",
      "[3622]\ttraining's auc: 0.805558\tvalid_1's auc: 0.516544\n",
      "Fold 4 started at Thu Apr 11 21:08:13 2019\n",
      "Training until validation scores don't improve for 200 rounds.\n",
      "[200]\ttraining's auc: 0.595577\tvalid_1's auc: 0.511139\n",
      "[400]\ttraining's auc: 0.629709\tvalid_1's auc: 0.511834\n",
      "[600]\ttraining's auc: 0.652983\tvalid_1's auc: 0.510913\n",
      "Early stopping, best iteration is:\n",
      "[424]\ttraining's auc: 0.633162\tvalid_1's auc: 0.511867\n"
     ]
    }
   ],
   "source": [
    "train_cols = [col for col in trte.columns if col not in ['target','ID_code','label']]\n",
    "print(len(train_cols))\n",
    "models,importances = validation_prediction_lgb(trte[train_cols].values, trte['label'].values, train_cols)"
   ]
  },
  {
   "cell_type": "markdown",
   "metadata": {},
   "source": [
    "# 小结\n",
    "\n",
    "在这一块内容,我们对训练集和测试集的数据分别进行了分析,我们发现:\n",
    "- 我们的数据是干净的,并未出现奇异值;\n",
    "- 我们标签的分布存在轻微的不平衡的;\n",
    "- 数据中不存在单调特征列,也就是不存在明显的时间信息;\n",
    "- 通过Adversarial训练的方法来判断训练集和测试集分布,我们发现训练集和测试集的分布是类似的,\n",
    "\n",
    "在下一节的内容中,我们会给出本次比赛的Baseline以及一种判断Fake数据的方案.\n"
   ]
  }
 ],
 "metadata": {
  "kernelspec": {
   "display_name": "Python 3",
   "language": "python",
   "name": "python3"
  },
  "language_info": {
   "codemirror_mode": {
    "name": "ipython",
    "version": 3
   },
   "file_extension": ".py",
   "mimetype": "text/x-python",
   "name": "python",
   "nbconvert_exporter": "python",
   "pygments_lexer": "ipython3",
   "version": "3.6.3"
  },
  "toc": {
   "nav_menu": {},
   "number_sections": true,
   "sideBar": true,
   "skip_h1_title": false,
   "title_cell": "Table of Contents",
   "title_sidebar": "Contents",
   "toc_cell": true,
   "toc_position": {
    "height": "calc(100% - 180px)",
    "left": "10px",
    "top": "150px",
    "width": "384px"
   },
   "toc_section_display": true,
   "toc_window_display": true
  }
 },
 "nbformat": 4,
 "nbformat_minor": 2
}
