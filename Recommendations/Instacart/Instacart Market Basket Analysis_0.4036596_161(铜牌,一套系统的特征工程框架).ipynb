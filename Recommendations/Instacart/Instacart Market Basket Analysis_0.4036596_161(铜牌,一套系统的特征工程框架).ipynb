{
 "cells": [
  {
   "cell_type": "markdown",
   "metadata": {
    "toc": true
   },
   "source": [
    "<h1>Table of Contents<span class=\"tocSkip\"></span></h1>\n",
    "<div class=\"toc\"><ul class=\"toc-item\"><li><span><a href=\"#简介\" data-toc-modified-id=\"简介-1\"><span class=\"toc-item-num\">1&nbsp;&nbsp;</span>简介</a></span></li><li><span><a href=\"#数据准备\" data-toc-modified-id=\"数据准备-2\"><span class=\"toc-item-num\">2&nbsp;&nbsp;</span>数据准备</a></span><ul class=\"toc-item\"><li><span><a href=\"#工具包-&amp;-数据导入\" data-toc-modified-id=\"工具包-&amp;-数据导入-2.1\"><span class=\"toc-item-num\">2.1&nbsp;&nbsp;</span>工具包 &amp; 数据导入</a></span><ul class=\"toc-item\"><li><span><a href=\"#工具包导入\" data-toc-modified-id=\"工具包导入-2.1.1\"><span class=\"toc-item-num\">2.1.1&nbsp;&nbsp;</span>工具包导入</a></span></li><li><span><a href=\"#数据导入\" data-toc-modified-id=\"数据导入-2.1.2\"><span class=\"toc-item-num\">2.1.2&nbsp;&nbsp;</span>数据导入</a></span></li></ul></li></ul></li><li><span><a href=\"#特征工程（基于用户的全局+局部特征）\" data-toc-modified-id=\"特征工程（基于用户的全局+局部特征）-3\"><span class=\"toc-item-num\">3&nbsp;&nbsp;</span>特征工程（基于用户的全局+局部特征）</a></span><ul class=\"toc-item\"><li><span><a href=\"#用户特征\" data-toc-modified-id=\"用户特征-3.1\"><span class=\"toc-item-num\">3.1&nbsp;&nbsp;</span>用户特征</a></span><ul class=\"toc-item\"><li><span><a href=\"#扩充orders表格\" data-toc-modified-id=\"扩充orders表格-3.1.1\"><span class=\"toc-item-num\">3.1.1&nbsp;&nbsp;</span>扩充orders表格</a></span></li><li><span><a href=\"#全局特征:从orders表格进行提取特征\" data-toc-modified-id=\"全局特征:从orders表格进行提取特征-3.1.2\"><span class=\"toc-item-num\">3.1.2&nbsp;&nbsp;</span>全局特征:从orders表格进行提取特征</a></span><ul class=\"toc-item\"><li><span><a href=\"#user_id(order_id):nunique\" data-toc-modified-id=\"user_id(order_id):nunique-3.1.2.1\"><span class=\"toc-item-num\">3.1.2.1&nbsp;&nbsp;</span>user_id(order_id):nunique</a></span></li><li><span><a href=\"#user_id(order_dow):mode1\" data-toc-modified-id=\"user_id(order_dow):mode1-3.1.2.2\"><span class=\"toc-item-num\">3.1.2.2&nbsp;&nbsp;</span>user_id(order_dow):mode1</a></span></li><li><span><a href=\"#user_id(order_hour_of_day):mode1,mode2\" data-toc-modified-id=\"user_id(order_hour_of_day):mode1,mode2-3.1.2.3\"><span class=\"toc-item-num\">3.1.2.3&nbsp;&nbsp;</span>user_id(order_hour_of_day):mode1,mode2</a></span></li><li><span><a href=\"#user_id(order_dow_hod):mode1,mode2\" data-toc-modified-id=\"user_id(order_dow_hod):mode1,mode2-3.1.2.4\"><span class=\"toc-item-num\">3.1.2.4&nbsp;&nbsp;</span>user_id(order_dow_hod):mode1,mode2</a></span></li><li><span><a href=\"#user_id(days_since_prior_order):mode1,mean,std,max\" data-toc-modified-id=\"user_id(days_since_prior_order):mode1,mean,std,max-3.1.2.5\"><span class=\"toc-item-num\">3.1.2.5&nbsp;&nbsp;</span>user_id(days_since_prior_order):mode1,mean,std,max</a></span></li><li><span><a href=\"#user_id(days_since_prior_prior_order):mean,std,max\" data-toc-modified-id=\"user_id(days_since_prior_prior_order):mean,std,max-3.1.2.6\"><span class=\"toc-item-num\">3.1.2.6&nbsp;&nbsp;</span>user_id(days_since_prior_prior_order):mean,std,max</a></span></li><li><span><a href=\"#user_id(days_since_prior_order_diff):mean,std,max\" data-toc-modified-id=\"user_id(days_since_prior_order_diff):mean,std,max-3.1.2.7\"><span class=\"toc-item-num\">3.1.2.7&nbsp;&nbsp;</span>user_id(days_since_prior_order_diff):mean,std,max</a></span></li><li><span><a href=\"#user_id(days_since_first_order):mean,std,max\" data-toc-modified-id=\"user_id(days_since_first_order):mean,std,max-3.1.2.8\"><span class=\"toc-item-num\">3.1.2.8&nbsp;&nbsp;</span>user_id(days_since_first_order):mean,std,max</a></span></li></ul></li><li><span><a href=\"#局部特征:从orders表格进行提取特征\" data-toc-modified-id=\"局部特征:从orders表格进行提取特征-3.1.3\"><span class=\"toc-item-num\">3.1.3&nbsp;&nbsp;</span>局部特征:从orders表格进行提取特征</a></span><ul class=\"toc-item\"><li><span><a href=\"#user_id(days_since_prior_order):last,mean\" data-toc-modified-id=\"user_id(days_since_prior_order):last,mean-3.1.3.1\"><span class=\"toc-item-num\">3.1.3.1&nbsp;&nbsp;</span>user_id(days_since_prior_order):last,mean</a></span></li></ul></li><li><span><a href=\"#全局特征:从orders-+-order_products_prior合并的表格中进行提取,顺带将product_id也拼接进来\" data-toc-modified-id=\"全局特征:从orders-+-order_products_prior合并的表格中进行提取,顺带将product_id也拼接进来-3.1.4\"><span class=\"toc-item-num\">3.1.4&nbsp;&nbsp;</span>全局特征:从orders + order_products_prior合并的表格中进行提取,顺带将product_id也拼接进来</a></span><ul class=\"toc-item\"><li><span><a href=\"#user_id(product_id):count,nunique,mode1,mode2\" data-toc-modified-id=\"user_id(product_id):count,nunique,mode1,mode2-3.1.4.1\"><span class=\"toc-item-num\">3.1.4.1&nbsp;&nbsp;</span>user_id(product_id):count,nunique,mode1,mode2</a></span></li><li><span><a href=\"#user_product_nunique-/-user_orderid_count;-user_product_count-/-user_orderid_nunique\" data-toc-modified-id=\"user_product_nunique-/-user_orderid_count;-user_product_count-/-user_orderid_nunique-3.1.4.2\"><span class=\"toc-item-num\">3.1.4.2&nbsp;&nbsp;</span>user_product_nunique / user_orderid_count; user_product_count / user_orderid_nunique</a></span></li><li><span><a href=\"#user_id(reordered):sum\" data-toc-modified-id=\"user_id(reordered):sum-3.1.4.3\"><span class=\"toc-item-num\">3.1.4.3&nbsp;&nbsp;</span>user_id(reordered):sum</a></span></li><li><span><a href=\"#user_id(aisle_id)：nunique,mode1\" data-toc-modified-id=\"user_id(aisle_id)：nunique,mode1-3.1.4.4\"><span class=\"toc-item-num\">3.1.4.4&nbsp;&nbsp;</span>user_id(aisle_id)：nunique,mode1</a></span></li><li><span><a href=\"#user_id(department_id)：nunique,mode1\" data-toc-modified-id=\"user_id(department_id)：nunique,mode1-3.1.4.5\"><span class=\"toc-item-num\">3.1.4.5&nbsp;&nbsp;</span>user_id(department_id)：nunique,mode1</a></span></li><li><span><a href=\"#user_id(reordered-==-0/1,pruduct):-nunique,-percentage\" data-toc-modified-id=\"user_id(reordered-==-0/1,pruduct):-nunique,-percentage-3.1.4.6\"><span class=\"toc-item-num\">3.1.4.6&nbsp;&nbsp;</span>user_id(reordered == 0/1,pruduct): nunique, percentage</a></span></li></ul></li><li><span><a href=\"#局部特征:从orders-+-order_products_prior合并的表格中进行提取,顺带将product_id也拼接进来\" data-toc-modified-id=\"局部特征:从orders-+-order_products_prior合并的表格中进行提取,顺带将product_id也拼接进来-3.1.5\"><span class=\"toc-item-num\">3.1.5&nbsp;&nbsp;</span>局部特征:从orders + order_products_prior合并的表格中进行提取,顺带将product_id也拼接进来</a></span><ul class=\"toc-item\"><li><span><a href=\"#user_id(product_id):count\" data-toc-modified-id=\"user_id(product_id):count-3.1.5.1\"><span class=\"toc-item-num\">3.1.5.1&nbsp;&nbsp;</span>user_id(product_id):count</a></span></li><li><span><a href=\"#user_id(days_since_prior_order):mean,max\" data-toc-modified-id=\"user_id(days_since_prior_order):mean,max-3.1.5.2\"><span class=\"toc-item-num\">3.1.5.2&nbsp;&nbsp;</span>user_id(days_since_prior_order):mean,max</a></span></li><li><span><a href=\"#user_id(reordered):sum\" data-toc-modified-id=\"user_id(reordered):sum-3.1.5.3\"><span class=\"toc-item-num\">3.1.5.3&nbsp;&nbsp;</span>user_id(reordered):sum</a></span></li><li><span><a href=\"#user_id(reordered-==-0/1,pruduct):-nunique,-percentage\" data-toc-modified-id=\"user_id(reordered-==-0/1,pruduct):-nunique,-percentage-3.1.5.4\"><span class=\"toc-item-num\">3.1.5.4&nbsp;&nbsp;</span>user_id(reordered == 0/1,pruduct): nunique, percentage</a></span></li></ul></li><li><span><a href=\"#衍生表的全局特征:-从orders+order_products_prior衍生的一张order_sts表格\" data-toc-modified-id=\"衍生表的全局特征:-从orders+order_products_prior衍生的一张order_sts表格-3.1.6\"><span class=\"toc-item-num\">3.1.6&nbsp;&nbsp;</span>衍生表的全局特征: 从orders+order_products_prior衍生的一张order_sts表格</a></span><ul class=\"toc-item\"><li><span><a href=\"#加入每个订单中重购买商品数以及非重购商品数的信息\" data-toc-modified-id=\"加入每个订单中重购买商品数以及非重购商品数的信息-3.1.6.1\"><span class=\"toc-item-num\">3.1.6.1&nbsp;&nbsp;</span>加入每个订单中重购买商品数以及非重购商品数的信息</a></span></li><li><span><a href=\"#user_id(order_product_count)：mean,std,min,max\" data-toc-modified-id=\"user_id(order_product_count)：mean,std,min,max-3.1.6.2\"><span class=\"toc-item-num\">3.1.6.2&nbsp;&nbsp;</span>user_id(order_product_count)：mean,std,min,max</a></span></li><li><span><a href=\"#user_id(order_reordered_sum)：mean,std,max\" data-toc-modified-id=\"user_id(order_reordered_sum)：mean,std,max-3.1.6.3\"><span class=\"toc-item-num\">3.1.6.3&nbsp;&nbsp;</span>user_id(order_reordered_sum)：mean,std,max</a></span></li><li><span><a href=\"#user_id(order_aisle_nunique)：mean,max\" data-toc-modified-id=\"user_id(order_aisle_nunique)：mean,max-3.1.6.4\"><span class=\"toc-item-num\">3.1.6.4&nbsp;&nbsp;</span>user_id(order_aisle_nunique)：mean,max</a></span></li><li><span><a href=\"#user_id(order_department_nunique)：mean,max\" data-toc-modified-id=\"user_id(order_department_nunique)：mean,max-3.1.6.5\"><span class=\"toc-item-num\">3.1.6.5&nbsp;&nbsp;</span>user_id(order_department_nunique)：mean,max</a></span></li><li><span><a href=\"#user_id(reordered_product_count)：mean,max\" data-toc-modified-id=\"user_id(reordered_product_count)：mean,max-3.1.6.6\"><span class=\"toc-item-num\">3.1.6.6&nbsp;&nbsp;</span>user_id(reordered_product_count)：mean,max</a></span></li><li><span><a href=\"#user_id(reordered_product_count_percent)：mean,max\" data-toc-modified-id=\"user_id(reordered_product_count_percent)：mean,max-3.1.6.7\"><span class=\"toc-item-num\">3.1.6.7&nbsp;&nbsp;</span>user_id(reordered_product_count_percent)：mean,max</a></span></li></ul></li></ul></li><li><span><a href=\"#用户产品交叉特征\" data-toc-modified-id=\"用户产品交叉特征-3.2\"><span class=\"toc-item-num\">3.2&nbsp;&nbsp;</span>用户产品交叉特征</a></span><ul class=\"toc-item\"><li><span><a href=\"#全局特征:从orders-+-order_products_prior合并的表格中进行提取,顺带将product_id也拼接进来\" data-toc-modified-id=\"全局特征:从orders-+-order_products_prior合并的表格中进行提取,顺带将product_id也拼接进来-3.2.1\"><span class=\"toc-item-num\">3.2.1&nbsp;&nbsp;</span>全局特征:从orders + order_products_prior合并的表格中进行提取,顺带将product_id也拼接进来</a></span><ul class=\"toc-item\"><li><span><a href=\"#userXproduct(order_id):nunique\" data-toc-modified-id=\"userXproduct(order_id):nunique-3.2.1.1\"><span class=\"toc-item-num\">3.2.1.1&nbsp;&nbsp;</span>userXproduct(order_id):nunique</a></span></li><li><span><a href=\"#userXproduct(add_to_cart_order):mean,std,mode_1\" data-toc-modified-id=\"userXproduct(add_to_cart_order):mean,std,mode_1-3.2.1.2\"><span class=\"toc-item-num\">3.2.1.2&nbsp;&nbsp;</span>userXproduct(add_to_cart_order):mean,std,mode_1</a></span></li><li><span><a href=\"#userXproduct(order_dow):mode_1\" data-toc-modified-id=\"userXproduct(order_dow):mode_1-3.2.1.3\"><span class=\"toc-item-num\">3.2.1.3&nbsp;&nbsp;</span>userXproduct(order_dow):mode_1</a></span></li><li><span><a href=\"#userXproduct(days_since_prior_order):mean,max,min\" data-toc-modified-id=\"userXproduct(days_since_prior_order):mean,max,min-3.2.1.4\"><span class=\"toc-item-num\">3.2.1.4&nbsp;&nbsp;</span>userXproduct(days_since_prior_order):mean,max,min</a></span></li><li><span><a href=\"#userXproduct(days_since_prior_order_diff):mean,max\" data-toc-modified-id=\"userXproduct(days_since_prior_order_diff):mean,max-3.2.1.5\"><span class=\"toc-item-num\">3.2.1.5&nbsp;&nbsp;</span>userXproduct(days_since_prior_order_diff):mean,max</a></span></li><li><span><a href=\"#userXproduct(order_number):max,min,max-min\" data-toc-modified-id=\"userXproduct(order_number):max,min,max-min-3.2.1.6\"><span class=\"toc-item-num\">3.2.1.6&nbsp;&nbsp;</span>userXproduct(order_number):max,min,max-min</a></span></li><li><span><a href=\"#userXproduct(order_number):2nd_max,2nd_min,max-2nd_max,-2nd_min---min\" data-toc-modified-id=\"userXproduct(order_number):2nd_max,2nd_min,max-2nd_max,-2nd_min---min-3.2.1.7\"><span class=\"toc-item-num\">3.2.1.7&nbsp;&nbsp;</span>userXproduct(order_number):2nd_max,2nd_min,max-2nd_max, 2nd_min - min</a></span></li><li><span><a href=\"#product_strike特征,userXproduct(product_strike):sum,max\" data-toc-modified-id=\"product_strike特征,userXproduct(product_strike):sum,max-3.2.1.8\"><span class=\"toc-item-num\">3.2.1.8&nbsp;&nbsp;</span>product_strike特征,userXproduct(product_strike):sum,max</a></span></li><li><span><a href=\"#product_date_strike特征,userXproduct(product_date_strike):sum,max\" data-toc-modified-id=\"product_date_strike特征,userXproduct(product_date_strike):sum,max-3.2.1.9\"><span class=\"toc-item-num\">3.2.1.9&nbsp;&nbsp;</span>product_date_strike特征,userXproduct(product_date_strike):sum,max</a></span></li><li><span><a href=\"#userXproduct(reorder-=-1,product_nunique)-&amp;-userXproduct(reorder-=-1,product_id):nunique-/-userXproduct(reorder-=-0,product_id):nunique\" data-toc-modified-id=\"userXproduct(reorder-=-1,product_nunique)-&amp;-userXproduct(reorder-=-1,product_id):nunique-/-userXproduct(reorder-=-0,product_id):nunique-3.2.1.10\"><span class=\"toc-item-num\">3.2.1.10&nbsp;&nbsp;</span>userXproduct(reorder = 1,product_nunique) &amp; userXproduct(reorder = 1,product_id):nunique / userXproduct(reorder = 0,product_id):nunique</a></span></li></ul></li><li><span><a href=\"#局部特征:从orders-+-order_products_prior合并的表格中进行提取,顺带将product_id也拼接进来\" data-toc-modified-id=\"局部特征:从orders-+-order_products_prior合并的表格中进行提取,顺带将product_id也拼接进来-3.2.2\"><span class=\"toc-item-num\">3.2.2&nbsp;&nbsp;</span>局部特征:从orders + order_products_prior合并的表格中进行提取,顺带将product_id也拼接进来</a></span><ul class=\"toc-item\"><li><span><a href=\"#userXproduct(order_id):count\" data-toc-modified-id=\"userXproduct(order_id):count-3.2.2.1\"><span class=\"toc-item-num\">3.2.2.1&nbsp;&nbsp;</span>userXproduct(order_id):count</a></span></li><li><span><a href=\"#userXproduct(reordered):sum,-rate\" data-toc-modified-id=\"userXproduct(reordered):sum,-rate-3.2.2.2\"><span class=\"toc-item-num\">3.2.2.2&nbsp;&nbsp;</span>userXproduct(reordered):sum, rate</a></span></li></ul></li></ul></li><li><span><a href=\"#用户Aisle交叉特征：User_X_Aisle\" data-toc-modified-id=\"用户Aisle交叉特征：User_X_Aisle-3.3\"><span class=\"toc-item-num\">3.3&nbsp;&nbsp;</span>用户Aisle交叉特征：User_X_Aisle</a></span><ul class=\"toc-item\"><li><span><a href=\"#全局特征:从orders-+-order_products_prior合并的表格中进行提取,顺带将product_id也拼接进来\" data-toc-modified-id=\"全局特征:从orders-+-order_products_prior合并的表格中进行提取,顺带将product_id也拼接进来-3.3.1\"><span class=\"toc-item-num\">3.3.1&nbsp;&nbsp;</span>全局特征:从orders + order_products_prior合并的表格中进行提取,顺带将product_id也拼接进来</a></span><ul class=\"toc-item\"><li><span><a href=\"#user_aisle(order_id):nunique,count\" data-toc-modified-id=\"user_aisle(order_id):nunique,count-3.3.1.1\"><span class=\"toc-item-num\">3.3.1.1&nbsp;&nbsp;</span>user_aisle(order_id):nunique,count</a></span></li><li><span><a href=\"#user_aisle(product_id):nunique\" data-toc-modified-id=\"user_aisle(product_id):nunique-3.3.1.2\"><span class=\"toc-item-num\">3.3.1.2&nbsp;&nbsp;</span>user_aisle(product_id):nunique</a></span></li><li><span><a href=\"#user_aisle(reordered):sum\" data-toc-modified-id=\"user_aisle(reordered):sum-3.3.1.3\"><span class=\"toc-item-num\">3.3.1.3&nbsp;&nbsp;</span>user_aisle(reordered):sum</a></span></li><li><span><a href=\"#user_aisle(days_since_prior_order):mean,std,max\" data-toc-modified-id=\"user_aisle(days_since_prior_order):mean,std,max-3.3.1.4\"><span class=\"toc-item-num\">3.3.1.4&nbsp;&nbsp;</span>user_aisle(days_since_prior_order):mean,std,max</a></span></li></ul></li></ul></li><li><span><a href=\"#用户Department交叉特征：User_X_Department\" data-toc-modified-id=\"用户Department交叉特征：User_X_Department-3.4\"><span class=\"toc-item-num\">3.4&nbsp;&nbsp;</span>用户Department交叉特征：User_X_Department</a></span><ul class=\"toc-item\"><li><span><a href=\"#全局特征:从orders-+-order_products_prior合并的表格中进行提取,顺带将product_id也拼接进来\" data-toc-modified-id=\"全局特征:从orders-+-order_products_prior合并的表格中进行提取,顺带将product_id也拼接进来-3.4.1\"><span class=\"toc-item-num\">3.4.1&nbsp;&nbsp;</span>全局特征:从orders + order_products_prior合并的表格中进行提取,顺带将product_id也拼接进来</a></span><ul class=\"toc-item\"><li><span><a href=\"#user_department(order_id):nunique,count\" data-toc-modified-id=\"user_department(order_id):nunique,count-3.4.1.1\"><span class=\"toc-item-num\">3.4.1.1&nbsp;&nbsp;</span>user_department(order_id):nunique,count</a></span></li><li><span><a href=\"#user_department(product_id):nunique\" data-toc-modified-id=\"user_department(product_id):nunique-3.4.1.2\"><span class=\"toc-item-num\">3.4.1.2&nbsp;&nbsp;</span>user_department(product_id):nunique</a></span></li><li><span><a href=\"#user_department(reordered):sum\" data-toc-modified-id=\"user_department(reordered):sum-3.4.1.3\"><span class=\"toc-item-num\">3.4.1.3&nbsp;&nbsp;</span>user_department(reordered):sum</a></span></li><li><span><a href=\"#user_department(days_since_prior_order):mean,std,max\" data-toc-modified-id=\"user_department(days_since_prior_order):mean,std,max-3.4.1.4\"><span class=\"toc-item-num\">3.4.1.4&nbsp;&nbsp;</span>user_department(days_since_prior_order):mean,std,max</a></span></li></ul></li></ul></li><li><span><a href=\"#用户hod交叉特征：User_X_hod\" data-toc-modified-id=\"用户hod交叉特征：User_X_hod-3.5\"><span class=\"toc-item-num\">3.5&nbsp;&nbsp;</span>用户hod交叉特征：User_X_hod</a></span><ul class=\"toc-item\"><li><span><a href=\"#全局特征:从orders-+-order_products_prior合并的表格中进行提取,顺带将product_id也拼接进来\" data-toc-modified-id=\"全局特征:从orders-+-order_products_prior合并的表格中进行提取,顺带将product_id也拼接进来-3.5.1\"><span class=\"toc-item-num\">3.5.1&nbsp;&nbsp;</span>全局特征:从orders + order_products_prior合并的表格中进行提取,顺带将product_id也拼接进来</a></span><ul class=\"toc-item\"><li><span><a href=\"#user_hod(order_id):nunique,count\" data-toc-modified-id=\"user_hod(order_id):nunique,count-3.5.1.1\"><span class=\"toc-item-num\">3.5.1.1&nbsp;&nbsp;</span>user_hod(order_id):nunique,count</a></span></li><li><span><a href=\"#user_hod(product_id):nunique\" data-toc-modified-id=\"user_hod(product_id):nunique-3.5.1.2\"><span class=\"toc-item-num\">3.5.1.2&nbsp;&nbsp;</span>user_hod(product_id):nunique</a></span></li><li><span><a href=\"#user_hod(add_to_cart_order):mean\" data-toc-modified-id=\"user_hod(add_to_cart_order):mean-3.5.1.3\"><span class=\"toc-item-num\">3.5.1.3&nbsp;&nbsp;</span>user_hod(add_to_cart_order):mean</a></span></li></ul></li></ul></li><li><span><a href=\"#用户dow特征：User_X_dow\" data-toc-modified-id=\"用户dow特征：User_X_dow-3.6\"><span class=\"toc-item-num\">3.6&nbsp;&nbsp;</span>用户dow特征：User_X_dow</a></span><ul class=\"toc-item\"><li><span><a href=\"#全局特征:从orders-+-order_products_prior合并的表格中进行提取,顺带将product_id也拼接进来\" data-toc-modified-id=\"全局特征:从orders-+-order_products_prior合并的表格中进行提取,顺带将product_id也拼接进来-3.6.1\"><span class=\"toc-item-num\">3.6.1&nbsp;&nbsp;</span>全局特征:从orders + order_products_prior合并的表格中进行提取,顺带将product_id也拼接进来</a></span><ul class=\"toc-item\"><li><span><a href=\"#user_dow(order_id):-count\" data-toc-modified-id=\"user_dow(order_id):-count-3.6.1.1\"><span class=\"toc-item-num\">3.6.1.1&nbsp;&nbsp;</span>user_dow(order_id): count</a></span></li><li><span><a href=\"#user_dow(product_id):nunique\" data-toc-modified-id=\"user_dow(product_id):nunique-3.6.1.2\"><span class=\"toc-item-num\">3.6.1.2&nbsp;&nbsp;</span>user_dow(product_id):nunique</a></span></li><li><span><a href=\"#user_dow(add_to_cart_order):mean\" data-toc-modified-id=\"user_dow(add_to_cart_order):mean-3.6.1.3\"><span class=\"toc-item-num\">3.6.1.3&nbsp;&nbsp;</span>user_dow(add_to_cart_order):mean</a></span></li></ul></li></ul></li></ul></li><li><span><a href=\"#产品特征\" data-toc-modified-id=\"产品特征-4\"><span class=\"toc-item-num\">4&nbsp;&nbsp;</span>产品特征</a></span><ul class=\"toc-item\"><li><span><a href=\"#全局产品特征\" data-toc-modified-id=\"全局产品特征-4.1\"><span class=\"toc-item-num\">4.1&nbsp;&nbsp;</span>全局产品特征</a></span><ul class=\"toc-item\"><li><span><a href=\"#全局特征:从orders-+-order_products_prior合并的表格中进行提取,顺带将product_id也拼接进来\" data-toc-modified-id=\"全局特征:从orders-+-order_products_prior合并的表格中进行提取,顺带将product_id也拼接进来-4.1.1\"><span class=\"toc-item-num\">4.1.1&nbsp;&nbsp;</span>全局特征:从orders + order_products_prior合并的表格中进行提取,顺带将product_id也拼接进来</a></span><ul class=\"toc-item\"><li><span><a href=\"#product_id(order_id):count,nunique\" data-toc-modified-id=\"product_id(order_id):count,nunique-4.1.1.1\"><span class=\"toc-item-num\">4.1.1.1&nbsp;&nbsp;</span>product_id(order_id):count,nunique</a></span></li><li><span><a href=\"#product_id(user_id):nunique\" data-toc-modified-id=\"product_id(user_id):nunique-4.1.1.2\"><span class=\"toc-item-num\">4.1.1.2&nbsp;&nbsp;</span>product_id(user_id):nunique</a></span></li><li><span><a href=\"#product_id(add_to_cart_order):mean,std\" data-toc-modified-id=\"product_id(add_to_cart_order):mean,std-4.1.1.3\"><span class=\"toc-item-num\">4.1.1.3&nbsp;&nbsp;</span>product_id(add_to_cart_order):mean,std</a></span></li><li><span><a href=\"#product_id(order_dow):mode_1\" data-toc-modified-id=\"product_id(order_dow):mode_1-4.1.1.4\"><span class=\"toc-item-num\">4.1.1.4&nbsp;&nbsp;</span>product_id(order_dow):mode_1</a></span></li><li><span><a href=\"#product_id(order_hour_of_day):mode_1\" data-toc-modified-id=\"product_id(order_hour_of_day):mode_1-4.1.1.5\"><span class=\"toc-item-num\">4.1.1.5&nbsp;&nbsp;</span>product_id(order_hour_of_day):mode_1</a></span></li><li><span><a href=\"#product_id(order_dow_hod):mode_1\" data-toc-modified-id=\"product_id(order_dow_hod):mode_1-4.1.1.6\"><span class=\"toc-item-num\">4.1.1.6&nbsp;&nbsp;</span>product_id(order_dow_hod):mode_1</a></span></li><li><span><a href=\"#product_id(days_since_prior_order):mode_1,mean\" data-toc-modified-id=\"product_id(days_since_prior_order):mode_1,mean-4.1.1.7\"><span class=\"toc-item-num\">4.1.1.7&nbsp;&nbsp;</span>product_id(days_since_prior_order):mode_1,mean</a></span></li><li><span><a href=\"#product_id(days_since_prior_order_diff):mean\" data-toc-modified-id=\"product_id(days_since_prior_order_diff):mean-4.1.1.8\"><span class=\"toc-item-num\">4.1.1.8&nbsp;&nbsp;</span>product_id(days_since_prior_order_diff):mean</a></span></li><li><span><a href=\"#product_id(reordered):mean,std,sum\" data-toc-modified-id=\"product_id(reordered):mean,std,sum-4.1.1.9\"><span class=\"toc-item-num\">4.1.1.9&nbsp;&nbsp;</span>product_id(reordered):mean,std,sum</a></span></li></ul></li><li><span><a href=\"#局部特征:从orders-+-order_products_prior合并的表格中进行提取,顺带将product_id也拼接进来\" data-toc-modified-id=\"局部特征:从orders-+-order_products_prior合并的表格中进行提取,顺带将product_id也拼接进来-4.1.2\"><span class=\"toc-item-num\">4.1.2&nbsp;&nbsp;</span>局部特征:从orders + order_products_prior合并的表格中进行提取,顺带将product_id也拼接进来</a></span><ul class=\"toc-item\"><li><span><a href=\"#product_id(order_id):count,nunique\" data-toc-modified-id=\"product_id(order_id):count,nunique-4.1.2.1\"><span class=\"toc-item-num\">4.1.2.1&nbsp;&nbsp;</span>product_id(order_id):count,nunique</a></span></li><li><span><a href=\"#product_id(user_id):nunique\" data-toc-modified-id=\"product_id(user_id):nunique-4.1.2.2\"><span class=\"toc-item-num\">4.1.2.2&nbsp;&nbsp;</span>product_id(user_id):nunique</a></span></li><li><span><a href=\"#product_id(product_strike):sum\" data-toc-modified-id=\"product_id(product_strike):sum-4.1.2.3\"><span class=\"toc-item-num\">4.1.2.3&nbsp;&nbsp;</span>product_id(product_strike):sum</a></span></li><li><span><a href=\"#product_id(add_to_cart_order):sum\" data-toc-modified-id=\"product_id(add_to_cart_order):sum-4.1.2.4\"><span class=\"toc-item-num\">4.1.2.4&nbsp;&nbsp;</span>product_id(add_to_cart_order):sum</a></span></li></ul></li></ul></li></ul></li><li><span><a href=\"#辅助特征\" data-toc-modified-id=\"辅助特征-5\"><span class=\"toc-item-num\">5&nbsp;&nbsp;</span>辅助特征</a></span><ul class=\"toc-item\"><li><span><a href=\"#Aisle特征\" data-toc-modified-id=\"Aisle特征-5.1\"><span class=\"toc-item-num\">5.1&nbsp;&nbsp;</span>Aisle特征</a></span><ul class=\"toc-item\"><li><span><a href=\"#全局特征:从orders-+-order_products_prior合并的表格中进行提取,顺带将product_id也拼接进来\" data-toc-modified-id=\"全局特征:从orders-+-order_products_prior合并的表格中进行提取,顺带将product_id也拼接进来-5.1.1\"><span class=\"toc-item-num\">5.1.1&nbsp;&nbsp;</span>全局特征:从orders + order_products_prior合并的表格中进行提取,顺带将product_id也拼接进来</a></span><ul class=\"toc-item\"><li><span><a href=\"#aisle_id(order_id):count,nunique,count/nunique\" data-toc-modified-id=\"aisle_id(order_id):count,nunique,count/nunique-5.1.1.1\"><span class=\"toc-item-num\">5.1.1.1&nbsp;&nbsp;</span>aisle_id(order_id):count,nunique,count/nunique</a></span></li><li><span><a href=\"#aisle_id(product_id):nunique\" data-toc-modified-id=\"aisle_id(product_id):nunique-5.1.1.2\"><span class=\"toc-item-num\">5.1.1.2&nbsp;&nbsp;</span>aisle_id(product_id):nunique</a></span></li><li><span><a href=\"#aisle_id(user_id):nunique,-aisle_id(order_id)count-/-aisle_id(user_id):nunique\" data-toc-modified-id=\"aisle_id(user_id):nunique,-aisle_id(order_id)count-/-aisle_id(user_id):nunique-5.1.1.3\"><span class=\"toc-item-num\">5.1.1.3&nbsp;&nbsp;</span>aisle_id(user_id):nunique, aisle_id(order_id)count / aisle_id(user_id):nunique</a></span></li><li><span><a href=\"#aisle_id(days_since_prior_order):mean\" data-toc-modified-id=\"aisle_id(days_since_prior_order):mean-5.1.1.4\"><span class=\"toc-item-num\">5.1.1.4&nbsp;&nbsp;</span>aisle_id(days_since_prior_order):mean</a></span></li></ul></li></ul></li><li><span><a href=\"#Department特征\" data-toc-modified-id=\"Department特征-5.2\"><span class=\"toc-item-num\">5.2&nbsp;&nbsp;</span>Department特征</a></span><ul class=\"toc-item\"><li><span><a href=\"#全局特征:从orders-+-order_products_prior合并的表格中进行提取,顺带将product_id也拼接进来\" data-toc-modified-id=\"全局特征:从orders-+-order_products_prior合并的表格中进行提取,顺带将product_id也拼接进来-5.2.1\"><span class=\"toc-item-num\">5.2.1&nbsp;&nbsp;</span>全局特征:从orders + order_products_prior合并的表格中进行提取,顺带将product_id也拼接进来</a></span><ul class=\"toc-item\"><li><span><a href=\"#department_id(order_id):count,nunique,count/nunique\" data-toc-modified-id=\"department_id(order_id):count,nunique,count/nunique-5.2.1.1\"><span class=\"toc-item-num\">5.2.1.1&nbsp;&nbsp;</span>department_id(order_id):count,nunique,count/nunique</a></span></li><li><span><a href=\"#department_id(product_id):nunique\" data-toc-modified-id=\"department_id(product_id):nunique-5.2.1.2\"><span class=\"toc-item-num\">5.2.1.2&nbsp;&nbsp;</span>department_id(product_id):nunique</a></span></li><li><span><a href=\"#department_id(days_since_prior_order):mean\" data-toc-modified-id=\"department_id(days_since_prior_order):mean-5.2.1.3\"><span class=\"toc-item-num\">5.2.1.3&nbsp;&nbsp;</span>department_id(days_since_prior_order):mean</a></span></li></ul></li></ul></li><li><span><a href=\"#Order_Hour_Of_Day特征\" data-toc-modified-id=\"Order_Hour_Of_Day特征-5.3\"><span class=\"toc-item-num\">5.3&nbsp;&nbsp;</span>Order_Hour_Of_Day特征</a></span><ul class=\"toc-item\"><li><span><a href=\"#全局特征:从orders-+-order_products_prior合并的表格中进行提取,顺带将product_id也拼接进来\" data-toc-modified-id=\"全局特征:从orders-+-order_products_prior合并的表格中进行提取,顺带将product_id也拼接进来-5.3.1\"><span class=\"toc-item-num\">5.3.1&nbsp;&nbsp;</span>全局特征:从orders + order_products_prior合并的表格中进行提取,顺带将product_id也拼接进来</a></span><ul class=\"toc-item\"><li><span><a href=\"#order_hour_of_day(order_id):count,nunique,count/nunique\" data-toc-modified-id=\"order_hour_of_day(order_id):count,nunique,count/nunique-5.3.1.1\"><span class=\"toc-item-num\">5.3.1.1&nbsp;&nbsp;</span>order_hour_of_day(order_id):count,nunique,count/nunique</a></span></li><li><span><a href=\"#order_hour_of_day(product_id):nunique\" data-toc-modified-id=\"order_hour_of_day(product_id):nunique-5.3.1.2\"><span class=\"toc-item-num\">5.3.1.2&nbsp;&nbsp;</span>order_hour_of_day(product_id):nunique</a></span></li></ul></li></ul></li><li><span><a href=\"#Order_Dow特征\" data-toc-modified-id=\"Order_Dow特征-5.4\"><span class=\"toc-item-num\">5.4&nbsp;&nbsp;</span>Order_Dow特征</a></span><ul class=\"toc-item\"><li><span><a href=\"#全局特征:从orders-+-order_products_prior合并的表格中进行提取,顺带将product_id也拼接进来\" data-toc-modified-id=\"全局特征:从orders-+-order_products_prior合并的表格中进行提取,顺带将product_id也拼接进来-5.4.1\"><span class=\"toc-item-num\">5.4.1&nbsp;&nbsp;</span>全局特征:从orders + order_products_prior合并的表格中进行提取,顺带将product_id也拼接进来</a></span><ul class=\"toc-item\"><li><span><a href=\"#order_dow(order_id):count,nunique,count/nunique\" data-toc-modified-id=\"order_dow(order_id):count,nunique,count/nunique-5.4.1.1\"><span class=\"toc-item-num\">5.4.1.1&nbsp;&nbsp;</span>order_dow(order_id):count,nunique,count/nunique</a></span></li></ul></li></ul></li></ul></li><li><span><a href=\"#构建训练集-&amp;-测试集\" data-toc-modified-id=\"构建训练集-&amp;-测试集-6\"><span class=\"toc-item-num\">6&nbsp;&nbsp;</span>构建训练集 &amp; 测试集</a></span><ul class=\"toc-item\"><li><span><a href=\"#特征拼接\" data-toc-modified-id=\"特征拼接-6.1\"><span class=\"toc-item-num\">6.1&nbsp;&nbsp;</span>特征拼接</a></span></li></ul></li><li><span><a href=\"#补充数据集之间的百分比-&amp;-时间相关的差值特征\" data-toc-modified-id=\"补充数据集之间的百分比-&amp;-时间相关的差值特征-7\"><span class=\"toc-item-num\">7&nbsp;&nbsp;</span>补充数据集之间的百分比 &amp; 时间相关的差值特征</a></span><ul class=\"toc-item\"><li><span><a href=\"#基于user_fea-&amp;-userXproduct_fea-的百分比特征\" data-toc-modified-id=\"基于user_fea-&amp;-userXproduct_fea-的百分比特征-7.1\"><span class=\"toc-item-num\">7.1&nbsp;&nbsp;</span>基于user_fea &amp; userXproduct_fea 的百分比特征</a></span></li><li><span><a href=\"#基于user_fea-&amp;-userXdow_fea-的百分比特征\" data-toc-modified-id=\"基于user_fea-&amp;-userXdow_fea-的百分比特征-7.2\"><span class=\"toc-item-num\">7.2&nbsp;&nbsp;</span>基于user_fea &amp; userXdow_fea 的百分比特征</a></span></li><li><span><a href=\"#基于user_fea-&amp;-userXhod_fea-的百分比特征\" data-toc-modified-id=\"基于user_fea-&amp;-userXhod_fea-的百分比特征-7.3\"><span class=\"toc-item-num\">7.3&nbsp;&nbsp;</span>基于user_fea &amp; userXhod_fea 的百分比特征</a></span></li><li><span><a href=\"#基于user_fea-&amp;-userXdepartment_fea-的百分比特征\" data-toc-modified-id=\"基于user_fea-&amp;-userXdepartment_fea-的百分比特征-7.4\"><span class=\"toc-item-num\">7.4&nbsp;&nbsp;</span>基于user_fea &amp; userXdepartment_fea 的百分比特征</a></span></li><li><span><a href=\"#基于user_fea-&amp;-userXaisle_fea-的百分比特征\" data-toc-modified-id=\"基于user_fea-&amp;-userXaisle_fea-的百分比特征-7.5\"><span class=\"toc-item-num\">7.5&nbsp;&nbsp;</span>基于user_fea &amp; userXaisle_fea 的百分比特征</a></span></li><li><span><a href=\"#基于aisle_fea-&amp;-userXaisle_fea-的百分比特征\" data-toc-modified-id=\"基于aisle_fea-&amp;-userXaisle_fea-的百分比特征-7.6\"><span class=\"toc-item-num\">7.6&nbsp;&nbsp;</span>基于aisle_fea &amp; userXaisle_fea 的百分比特征</a></span></li><li><span><a href=\"#基于department_fea&amp;-userXdepartment_fea-的百分比特征\" data-toc-modified-id=\"基于department_fea&amp;-userXdepartment_fea-的百分比特征-7.7\"><span class=\"toc-item-num\">7.7&nbsp;&nbsp;</span>基于department_fea&amp; userXdepartment_fea 的百分比特征</a></span></li><li><span><a href=\"#hod_fea&amp;-userXhod_fea-的百分比特征\" data-toc-modified-id=\"hod_fea&amp;-userXhod_fea-的百分比特征-7.8\"><span class=\"toc-item-num\">7.8&nbsp;&nbsp;</span>hod_fea&amp; userXhod_fea 的百分比特征</a></span></li><li><span><a href=\"#dow_fea&amp;-userXdow_fea-的百分比特征\" data-toc-modified-id=\"dow_fea&amp;-userXdow_fea-的百分比特征-7.9\"><span class=\"toc-item-num\">7.9&nbsp;&nbsp;</span>dow_fea&amp; userXdow_fea 的百分比特征</a></span></li><li><span><a href=\"#product_fea&amp;-userXproduct_fea-的百分比特征\" data-toc-modified-id=\"product_fea&amp;-userXproduct_fea-的百分比特征-7.10\"><span class=\"toc-item-num\">7.10&nbsp;&nbsp;</span>product_fea&amp; userXproduct_fea 的百分比特征</a></span></li><li><span><a href=\"#模型验证\" data-toc-modified-id=\"模型验证-7.11\"><span class=\"toc-item-num\">7.11&nbsp;&nbsp;</span>模型验证</a></span><ul class=\"toc-item\"><li><span><a href=\"#近似的评价指标\" data-toc-modified-id=\"近似的评价指标-7.11.1\"><span class=\"toc-item-num\">7.11.1&nbsp;&nbsp;</span>近似的评价指标</a></span></li><li><span><a href=\"#模型验证\" data-toc-modified-id=\"模型验证-7.11.2\"><span class=\"toc-item-num\">7.11.2&nbsp;&nbsp;</span>模型验证</a></span></li></ul></li></ul></li><li><span><a href=\"#模型训练&amp;提交\" data-toc-modified-id=\"模型训练&amp;提交-8\"><span class=\"toc-item-num\">8&nbsp;&nbsp;</span>模型训练&amp;提交</a></span><ul class=\"toc-item\"><li><span><a href=\"#模型训练\" data-toc-modified-id=\"模型训练-8.1\"><span class=\"toc-item-num\">8.1&nbsp;&nbsp;</span>模型训练</a></span><ul class=\"toc-item\"><li><span><a href=\"#训练5折模型：0.3871218(594/2623)\" data-toc-modified-id=\"训练5折模型：0.3871218(594/2623)-8.1.1\"><span class=\"toc-item-num\">8.1.1&nbsp;&nbsp;</span>训练5折模型：0.3871218(594/2623)</a></span></li><li><span><a href=\"#全数据训练单模型：0.3863552(597/2623)\" data-toc-modified-id=\"全数据训练单模型：0.3863552(597/2623)-8.1.2\"><span class=\"toc-item-num\">8.1.2&nbsp;&nbsp;</span>全数据训练单模型：0.3863552(597/2623)</a></span></li><li><span><a href=\"#二者简单加权融合(85:15):-0.3873238\" data-toc-modified-id=\"二者简单加权融合(85:15):-0.3873238-8.1.3\"><span class=\"toc-item-num\">8.1.3&nbsp;&nbsp;</span>二者简单加权融合(85:15): 0.3873238</a></span></li><li><span><a href=\"#二者简单加权融合(8:2):--0.3873331(592/2623)\" data-toc-modified-id=\"二者简单加权融合(8:2):--0.3873331(592/2623)-8.1.4\"><span class=\"toc-item-num\">8.1.4&nbsp;&nbsp;</span>二者简单加权融合(8:2):  0.3873331(592/2623)</a></span></li><li><span><a href=\"#0.3873905(592/2623)\" data-toc-modified-id=\"0.3873905(592/2623)-8.1.5\"><span class=\"toc-item-num\">8.1.5&nbsp;&nbsp;</span>0.3873905(592/2623)</a></span></li></ul></li></ul></li><li><span><a href=\"#采用Faron的Kernel对预测结果进行后处理:0.4036596(161/2623)\" data-toc-modified-id=\"采用Faron的Kernel对预测结果进行后处理:0.4036596(161/2623)-9\"><span class=\"toc-item-num\">9&nbsp;&nbsp;</span>采用Faron的Kernel对预测结果进行后处理:0.4036596(161/2623)</a></span><ul class=\"toc-item\"><li><span><a href=\"#优化Mean-F1-Score的代码\" data-toc-modified-id=\"优化Mean-F1-Score的代码-9.1\"><span class=\"toc-item-num\">9.1&nbsp;&nbsp;</span>优化Mean-F1 Score的代码</a></span></li><li><span><a href=\"#对上面的预测结果直接采用Faron的代码进行优化\" data-toc-modified-id=\"对上面的预测结果直接采用Faron的代码进行优化-9.2\"><span class=\"toc-item-num\">9.2&nbsp;&nbsp;</span>对上面的预测结果直接采用Faron的代码进行优化</a></span></li><li><span><a href=\"#成绩\" data-toc-modified-id=\"成绩-9.3\"><span class=\"toc-item-num\">9.3&nbsp;&nbsp;</span>成绩</a></span></li></ul></li><li><span><a href=\"#小结\" data-toc-modified-id=\"小结-10\"><span class=\"toc-item-num\">10&nbsp;&nbsp;</span>小结</a></span></li></ul></div>"
   ]
  },
  {
   "cell_type": "markdown",
   "metadata": {},
   "source": [
    "# 简介\n",
    "\n",
    "在这一篇Notebook中,我们将介绍所有常规的推荐比赛都可以直接套用的特征工程框架,这套框架直接应用到kaggle的很多推荐比赛亦或是类似的比赛中,往往在此基础上再加入几个开源的特征或者其他操作就可以直接到达银牌的成绩,此处,我们以Inscart为例，介绍如何系统的构建自己的特征工程。这是这套特征工程的第二层框架，上一篇文章部分是第一层(从全局的角度构建通用特征)，这一章是加入局部特征。当然此类问题还有一层非常重要的特征工程，我们留作秘密，在今后其他的比赛中，我会进一步阐述。\n",
    "\n",
    "很多厉害的竞赛选手往往习惯将此类特征工程框架拆分成很多小的py文件,将中间文件存储,这么做一方面可以防止出现严重的内存问题,另外一方面框架看得也很轻松,但是对很多刚刚入门数据竞赛或者实战的人来说却很少能注意到这一点,所以此处我特意将这些放到一起并花了周六周日两天来完成本篇文章,后续我们会将这一套特征框架直接应用于其他的问题,在多个问题之后,相信大家肯定可以迅速地入门。\n",
    "\n",
    "本文中的框架是死的，按照框架写完代码虽然可以取得很不错的成绩。但是究竟哪一块部分对此类问题的提分较多,在完成基本的框架之后需要在哪一块继续深挖特征，在哪里对预测结果进行预处理可以让模型获得进一步的提升,这些我们会在后续其他的比赛学习中进行阐述，如果您希望学习到各类数据的处理技巧以及如何在本文的框架上继续加上一层框架的话，欢迎关注本公众号。\n",
    "\n",
    "<font color=red>本篇文章是Inscart该竞赛的终篇，通过自己对lgb的权重以及参数进行修改便可以达到银牌的成绩。因为运行时间较长，至于如何达到金牌，大家可以参考各位大神的开源，并自己总结</font>。\n",
    "\n",
    "该比赛对应的主要的前排的代码和思路可以参考下面的链接。此处个人非常推荐三份开源代码,第二名ONODERA的特征工程 + 第三名SJV的神经网络 + 第十二名植物的代码。可能会花几个晚上,但是觉得都是值得的。\n",
    "\n",
    "https://www.kaggle.com/c/instacart-market-basket-analysis/discussion/38113\n"
   ]
  },
  {
   "cell_type": "markdown",
   "metadata": {},
   "source": [
    "\n",
    "# 数据准备\n",
    "## 工具包 & 数据导入\n",
    "### 工具包导入"
   ]
  },
  {
   "cell_type": "code",
   "execution_count": 1,
   "metadata": {},
   "outputs": [],
   "source": [
    "import pandas as pd\n",
    "import numpy as np\n",
    "import matplotlib.pyplot as plt\n",
    "import seaborn as sns\n",
    "import lightgbm as lgb\n",
    "import gc\n",
    "%matplotlib inline "
   ]
  },
  {
   "cell_type": "markdown",
   "metadata": {},
   "source": [
    "### 数据导入\n",
    "- 训练集测试集的导入"
   ]
  },
  {
   "cell_type": "code",
   "execution_count": 2,
   "metadata": {},
   "outputs": [],
   "source": [
    "path = '/data/Inscart/'\n",
    "aisles = pd.read_csv(path + 'aisles.csv')\n",
    "departments = pd.read_csv(path + 'departments.csv')\n",
    "products = pd.read_csv(path + 'products.csv')\n",
    "orders = pd.read_csv(path + 'orders.csv')\n",
    "order_products__train = pd.read_csv(path + 'order_products__train.csv')\n",
    "order_products__prior = pd.read_csv(path + 'order_products__prior.csv')"
   ]
  },
  {
   "cell_type": "markdown",
   "metadata": {},
   "source": [
    "# 特征工程（基于用户的全局+局部特征）\n",
    "\n",
    "目前很多比赛都还是特征为王的比赛，针对许多传统的比赛，因为存在很多封装好的工具包,例如XGBoost,LightGBM等工具包,所以很多做数据分析建模或者数据竞赛的人的任务往往就会相对简单，这个时候因为模型变化不大,那么我们的任务往往就会演变为两大模块,特征工程+集成，而特征工程又很难找到非常好的书籍进行系统的学习,所以很多时候网上也都将特征工程称之为艺术。\n",
    "\n",
    "闲话不多说,下面我们还是以推荐问题为例,介绍基本的推荐算法的特征工程。\n",
    "\n",
    "我们采用全新的方法来做特征工程（基于关系表格的方法）。\n",
    " <font color=red>\n",
    "1. 从全局特征到局部特征;\n",
    "2. 从单项特征再到组合特征;\n",
    " </font>"
   ]
  },
  {
   "cell_type": "markdown",
   "metadata": {},
   "source": [
    "## 用户特征 \n",
    "### 扩充orders表格\n",
    "\n",
    "将拥有相对大小时间关系的特征进行单表内的新特征构建,分别构建如下两个全新的特征.\n",
    "- days_since_first_order: 距离第一天购物已经过去了多久,相当于还原原始特征 \n",
    "- days_since_prior_prior_order:距离上上次购买过去了几天\n",
    "- days_since_prior_order_diff: 距离上次购买的时间差,用来表示变化 "
   ]
  },
  {
   "cell_type": "code",
   "execution_count": 3,
   "metadata": {
    "scrolled": true
   },
   "outputs": [],
   "source": [
    "orders = orders.sort_values(['user_id','order_number'])\n",
    "orders['order_dow_hod'] = orders['order_dow'].values * 25 + orders['order_hour_of_day'].values"
   ]
  },
  {
   "cell_type": "code",
   "execution_count": 5,
   "metadata": {},
   "outputs": [],
   "source": [
    "orders = orders.sort_values(['user_id','order_number'])"
   ]
  },
  {
   "cell_type": "code",
   "execution_count": 11,
   "metadata": {},
   "outputs": [],
   "source": [
    "orders['days_since_first_order'] = orders.groupby('user_id')['days_since_prior_order'].transform('cumsum').values\n",
    "orders['days_since_first_order'] = orders['days_since_first_order'].fillna(0)"
   ]
  },
  {
   "cell_type": "code",
   "execution_count": 15,
   "metadata": {},
   "outputs": [],
   "source": [
    "orders['days_since_prior_prior_order'] = orders.groupby('user_id')['days_since_prior_order'].shift()\n",
    "orders['days_since_prior_order_diff'] =  orders['days_since_prior_order'] - orders['days_since_prior_prior_order'] \n",
    "orders['days_since_prior_prior_order'] = orders['days_since_prior_prior_order'] + orders['days_since_prior_order']"
   ]
  },
  {
   "cell_type": "code",
   "execution_count": 18,
   "metadata": {},
   "outputs": [],
   "source": [
    "orders['order_number_desc'] = orders.groupby('user_id')['order_number'].transform('max').values - orders['order_number'].values "
   ]
  },
  {
   "cell_type": "markdown",
   "metadata": {},
   "source": [
    "### 全局特征:从orders表格进行提取特征"
   ]
  },
  {
   "cell_type": "code",
   "execution_count": 22,
   "metadata": {
    "scrolled": true
   },
   "outputs": [
    {
     "data": {
      "text/html": [
       "<div>\n",
       "<style scoped>\n",
       "    .dataframe tbody tr th:only-of-type {\n",
       "        vertical-align: middle;\n",
       "    }\n",
       "\n",
       "    .dataframe tbody tr th {\n",
       "        vertical-align: top;\n",
       "    }\n",
       "\n",
       "    .dataframe thead th {\n",
       "        text-align: right;\n",
       "    }\n",
       "</style>\n",
       "<table border=\"1\" class=\"dataframe\">\n",
       "  <thead>\n",
       "    <tr style=\"text-align: right;\">\n",
       "      <th></th>\n",
       "      <th>order_id</th>\n",
       "      <th>user_id</th>\n",
       "      <th>eval_set</th>\n",
       "      <th>order_number</th>\n",
       "      <th>order_dow</th>\n",
       "      <th>order_hour_of_day</th>\n",
       "      <th>days_since_prior_order</th>\n",
       "      <th>order_dow_hod</th>\n",
       "      <th>days_since_first_order</th>\n",
       "      <th>days_since_prior_prior_order</th>\n",
       "      <th>days_since_prior_order_diff</th>\n",
       "      <th>order_number_desc</th>\n",
       "    </tr>\n",
       "  </thead>\n",
       "  <tbody>\n",
       "    <tr>\n",
       "      <th>0</th>\n",
       "      <td>2539329</td>\n",
       "      <td>1</td>\n",
       "      <td>prior</td>\n",
       "      <td>1</td>\n",
       "      <td>2</td>\n",
       "      <td>8</td>\n",
       "      <td>NaN</td>\n",
       "      <td>58</td>\n",
       "      <td>0.0</td>\n",
       "      <td>NaN</td>\n",
       "      <td>NaN</td>\n",
       "      <td>10</td>\n",
       "    </tr>\n",
       "    <tr>\n",
       "      <th>1</th>\n",
       "      <td>2398795</td>\n",
       "      <td>1</td>\n",
       "      <td>prior</td>\n",
       "      <td>2</td>\n",
       "      <td>3</td>\n",
       "      <td>7</td>\n",
       "      <td>15.0</td>\n",
       "      <td>82</td>\n",
       "      <td>15.0</td>\n",
       "      <td>NaN</td>\n",
       "      <td>NaN</td>\n",
       "      <td>9</td>\n",
       "    </tr>\n",
       "    <tr>\n",
       "      <th>2</th>\n",
       "      <td>473747</td>\n",
       "      <td>1</td>\n",
       "      <td>prior</td>\n",
       "      <td>3</td>\n",
       "      <td>3</td>\n",
       "      <td>12</td>\n",
       "      <td>21.0</td>\n",
       "      <td>87</td>\n",
       "      <td>36.0</td>\n",
       "      <td>36.0</td>\n",
       "      <td>6.0</td>\n",
       "      <td>8</td>\n",
       "    </tr>\n",
       "    <tr>\n",
       "      <th>3</th>\n",
       "      <td>2254736</td>\n",
       "      <td>1</td>\n",
       "      <td>prior</td>\n",
       "      <td>4</td>\n",
       "      <td>4</td>\n",
       "      <td>7</td>\n",
       "      <td>29.0</td>\n",
       "      <td>107</td>\n",
       "      <td>65.0</td>\n",
       "      <td>50.0</td>\n",
       "      <td>8.0</td>\n",
       "      <td>7</td>\n",
       "    </tr>\n",
       "    <tr>\n",
       "      <th>4</th>\n",
       "      <td>431534</td>\n",
       "      <td>1</td>\n",
       "      <td>prior</td>\n",
       "      <td>5</td>\n",
       "      <td>4</td>\n",
       "      <td>15</td>\n",
       "      <td>28.0</td>\n",
       "      <td>115</td>\n",
       "      <td>93.0</td>\n",
       "      <td>57.0</td>\n",
       "      <td>-1.0</td>\n",
       "      <td>6</td>\n",
       "    </tr>\n",
       "    <tr>\n",
       "      <th>5</th>\n",
       "      <td>3367565</td>\n",
       "      <td>1</td>\n",
       "      <td>prior</td>\n",
       "      <td>6</td>\n",
       "      <td>2</td>\n",
       "      <td>7</td>\n",
       "      <td>19.0</td>\n",
       "      <td>57</td>\n",
       "      <td>112.0</td>\n",
       "      <td>47.0</td>\n",
       "      <td>-9.0</td>\n",
       "      <td>5</td>\n",
       "    </tr>\n",
       "    <tr>\n",
       "      <th>6</th>\n",
       "      <td>550135</td>\n",
       "      <td>1</td>\n",
       "      <td>prior</td>\n",
       "      <td>7</td>\n",
       "      <td>1</td>\n",
       "      <td>9</td>\n",
       "      <td>20.0</td>\n",
       "      <td>34</td>\n",
       "      <td>132.0</td>\n",
       "      <td>39.0</td>\n",
       "      <td>1.0</td>\n",
       "      <td>4</td>\n",
       "    </tr>\n",
       "    <tr>\n",
       "      <th>7</th>\n",
       "      <td>3108588</td>\n",
       "      <td>1</td>\n",
       "      <td>prior</td>\n",
       "      <td>8</td>\n",
       "      <td>1</td>\n",
       "      <td>14</td>\n",
       "      <td>14.0</td>\n",
       "      <td>39</td>\n",
       "      <td>146.0</td>\n",
       "      <td>34.0</td>\n",
       "      <td>-6.0</td>\n",
       "      <td>3</td>\n",
       "    </tr>\n",
       "    <tr>\n",
       "      <th>8</th>\n",
       "      <td>2295261</td>\n",
       "      <td>1</td>\n",
       "      <td>prior</td>\n",
       "      <td>9</td>\n",
       "      <td>1</td>\n",
       "      <td>16</td>\n",
       "      <td>0.0</td>\n",
       "      <td>41</td>\n",
       "      <td>146.0</td>\n",
       "      <td>14.0</td>\n",
       "      <td>-14.0</td>\n",
       "      <td>2</td>\n",
       "    </tr>\n",
       "    <tr>\n",
       "      <th>9</th>\n",
       "      <td>2550362</td>\n",
       "      <td>1</td>\n",
       "      <td>prior</td>\n",
       "      <td>10</td>\n",
       "      <td>4</td>\n",
       "      <td>8</td>\n",
       "      <td>30.0</td>\n",
       "      <td>108</td>\n",
       "      <td>176.0</td>\n",
       "      <td>30.0</td>\n",
       "      <td>30.0</td>\n",
       "      <td>1</td>\n",
       "    </tr>\n",
       "  </tbody>\n",
       "</table>\n",
       "</div>"
      ],
      "text/plain": [
       "   order_id  user_id eval_set  order_number  order_dow  order_hour_of_day  \\\n",
       "0   2539329        1    prior             1          2                  8   \n",
       "1   2398795        1    prior             2          3                  7   \n",
       "2    473747        1    prior             3          3                 12   \n",
       "3   2254736        1    prior             4          4                  7   \n",
       "4    431534        1    prior             5          4                 15   \n",
       "5   3367565        1    prior             6          2                  7   \n",
       "6    550135        1    prior             7          1                  9   \n",
       "7   3108588        1    prior             8          1                 14   \n",
       "8   2295261        1    prior             9          1                 16   \n",
       "9   2550362        1    prior            10          4                  8   \n",
       "\n",
       "   days_since_prior_order  order_dow_hod  days_since_first_order  \\\n",
       "0                     NaN             58                     0.0   \n",
       "1                    15.0             82                    15.0   \n",
       "2                    21.0             87                    36.0   \n",
       "3                    29.0            107                    65.0   \n",
       "4                    28.0            115                    93.0   \n",
       "5                    19.0             57                   112.0   \n",
       "6                    20.0             34                   132.0   \n",
       "7                    14.0             39                   146.0   \n",
       "8                     0.0             41                   146.0   \n",
       "9                    30.0            108                   176.0   \n",
       "\n",
       "   days_since_prior_prior_order  days_since_prior_order_diff  \\\n",
       "0                           NaN                          NaN   \n",
       "1                           NaN                          NaN   \n",
       "2                          36.0                          6.0   \n",
       "3                          50.0                          8.0   \n",
       "4                          57.0                         -1.0   \n",
       "5                          47.0                         -9.0   \n",
       "6                          39.0                          1.0   \n",
       "7                          34.0                         -6.0   \n",
       "8                          14.0                        -14.0   \n",
       "9                          30.0                         30.0   \n",
       "\n",
       "   order_number_desc  \n",
       "0                 10  \n",
       "1                  9  \n",
       "2                  8  \n",
       "3                  7  \n",
       "4                  6  \n",
       "5                  5  \n",
       "6                  4  \n",
       "7                  3  \n",
       "8                  2  \n",
       "9                  1  "
      ]
     },
     "execution_count": 22,
     "metadata": {},
     "output_type": "execute_result"
    }
   ],
   "source": [
    "orders.head(10)"
   ]
  },
  {
   "cell_type": "markdown",
   "metadata": {},
   "source": [
    "#### user_id(order_id):nunique"
   ]
  },
  {
   "cell_type": "code",
   "execution_count": 23,
   "metadata": {},
   "outputs": [],
   "source": [
    "user_fea = pd.DataFrame()\n",
    "user_fea['user_id'] = orders['user_id'].unique()\n",
    "user_fea = user_fea[['user_id']].sort_values('user_id')"
   ]
  },
  {
   "cell_type": "code",
   "execution_count": 24,
   "metadata": {
    "scrolled": true
   },
   "outputs": [],
   "source": [
    "user_fea['user_orderid_nunique'] = orders.groupby('user_id')['order_id'].nunique().sort_index().values "
   ]
  },
  {
   "cell_type": "markdown",
   "metadata": {},
   "source": [
    "#### user_id(order_dow):mode1\n",
    "- order_dow本来就只有7个,我们取一个众数进行表示即可."
   ]
  },
  {
   "cell_type": "code",
   "execution_count": 25,
   "metadata": {},
   "outputs": [],
   "source": [
    "def mode_N(x,i):\n",
    "    m = x.value_counts().index\n",
    "    if len(m) > i: \n",
    "        return m[i] \n",
    "    return -1\n",
    "user_fea['user_order_dow_mode_1'] = orders.groupby('user_id')['order_dow'].apply(lambda x: mode_N(x,0)).sort_index().values"
   ]
  },
  {
   "cell_type": "markdown",
   "metadata": {},
   "source": [
    "#### user_id(order_hour_of_day):mode1,mode2 "
   ]
  },
  {
   "cell_type": "code",
   "execution_count": 26,
   "metadata": {},
   "outputs": [],
   "source": [
    "user_fea['user_order_hour_of_day_mode_1'] = orders.groupby('user_id')['order_hour_of_day'].apply(lambda x: mode_N(x,0)).sort_index().values\n",
    "user_fea['user_order_hour_of_day_mode_2'] = orders.groupby('user_id')['order_hour_of_day'].apply(lambda x: mode_N(x,1)).sort_index().values "
   ]
  },
  {
   "cell_type": "markdown",
   "metadata": {},
   "source": [
    "#### user_id(order_dow_hod):mode1,mode2  "
   ]
  },
  {
   "cell_type": "code",
   "execution_count": 27,
   "metadata": {},
   "outputs": [],
   "source": [
    "user_fea['user_order_dow_hod_mode_1'] = orders.groupby('user_id')['order_dow_hod'].apply(lambda x: mode_N(x,0)).sort_index().values\n",
    "user_fea['user_order_dow_hod_mode_2'] = orders.groupby('user_id')['order_dow_hod'].apply(lambda x: mode_N(x,1)).sort_index().values "
   ]
  },
  {
   "cell_type": "markdown",
   "metadata": {},
   "source": [
    "#### user_id(days_since_prior_order):mode1,mean,std,max\n",
    "- days_since_prior_order我们取一个众数进行表示即可.\n"
   ]
  },
  {
   "cell_type": "code",
   "execution_count": 28,
   "metadata": {},
   "outputs": [],
   "source": [
    "user_fea['user_days_since_prior_order_mean'] = orders.groupby('user_id')['days_since_prior_order'].mean().sort_index().values \n",
    "user_fea['user_days_since_prior_order_std'] = orders.groupby('user_id')['days_since_prior_order'].std().sort_index().values \n",
    "\n",
    "user_fea['user_days_since_prior_order_mode_1'] = orders.groupby('user_id')['days_since_prior_order'].apply(lambda x: mode_N(x,0)).sort_index().values\n",
    "user_fea['user_days_since_prior_order_max'] = orders.groupby('user_id')['days_since_prior_order'].max().sort_index().values  "
   ]
  },
  {
   "cell_type": "markdown",
   "metadata": {},
   "source": [
    "#### user_id(days_since_prior_prior_order):mean,std,max"
   ]
  },
  {
   "cell_type": "code",
   "execution_count": 29,
   "metadata": {},
   "outputs": [],
   "source": [
    "user_fea['user_days_since_prior_prior_order_mean'] = orders.groupby('user_id')['days_since_prior_prior_order'].mean().sort_index().values \n",
    "user_fea['user_days_since_prior_prior_order_std'] = orders.groupby('user_id')['days_since_prior_prior_order'].std().sort_index().values  \n",
    "user_fea['user_days_since_prior_prior_order_max'] = orders.groupby('user_id')['days_since_prior_prior_order'].max().sort_index().values  "
   ]
  },
  {
   "cell_type": "markdown",
   "metadata": {},
   "source": [
    "#### user_id(days_since_prior_order_diff):mean,std,max"
   ]
  },
  {
   "cell_type": "code",
   "execution_count": 30,
   "metadata": {},
   "outputs": [],
   "source": [
    "user_fea['user_days_since_prior_order_diff_mean'] = orders.groupby('user_id')['days_since_prior_order_diff'].mean().sort_index().values \n",
    "user_fea['user_days_since_prior_order_diff_std'] = orders.groupby('user_id')['days_since_prior_order_diff'].std().sort_index().values  \n",
    "user_fea['user_days_since_prior_order_diff_max'] = orders.groupby('user_id')['days_since_prior_order_diff'].max().sort_index().values  "
   ]
  },
  {
   "cell_type": "markdown",
   "metadata": {},
   "source": [
    "#### user_id(days_since_first_order):mean,std,max "
   ]
  },
  {
   "cell_type": "code",
   "execution_count": 32,
   "metadata": {},
   "outputs": [],
   "source": [
    "user_fea['user_days_since_first_order_mean'] = orders.groupby('user_id')['days_since_first_order'].mean().sort_index().values \n",
    "user_fea['user_days_since_first_order_std'] = orders.groupby('user_id')['days_since_first_order'].std().sort_index().values  \n",
    "user_fea['user_days_since_first_order_max'] = orders.groupby('user_id')['days_since_first_order'].max().sort_index().values  "
   ]
  },
  {
   "cell_type": "code",
   "execution_count": 31,
   "metadata": {},
   "outputs": [
    {
     "data": {
      "text/html": [
       "<div>\n",
       "<style scoped>\n",
       "    .dataframe tbody tr th:only-of-type {\n",
       "        vertical-align: middle;\n",
       "    }\n",
       "\n",
       "    .dataframe tbody tr th {\n",
       "        vertical-align: top;\n",
       "    }\n",
       "\n",
       "    .dataframe thead th {\n",
       "        text-align: right;\n",
       "    }\n",
       "</style>\n",
       "<table border=\"1\" class=\"dataframe\">\n",
       "  <thead>\n",
       "    <tr style=\"text-align: right;\">\n",
       "      <th></th>\n",
       "      <th>order_id</th>\n",
       "      <th>user_id</th>\n",
       "      <th>eval_set</th>\n",
       "      <th>order_number</th>\n",
       "      <th>order_dow</th>\n",
       "      <th>order_hour_of_day</th>\n",
       "      <th>days_since_prior_order</th>\n",
       "      <th>order_dow_hod</th>\n",
       "      <th>days_since_first_order</th>\n",
       "      <th>days_since_prior_prior_order</th>\n",
       "      <th>days_since_prior_order_diff</th>\n",
       "      <th>order_number_desc</th>\n",
       "    </tr>\n",
       "  </thead>\n",
       "  <tbody>\n",
       "    <tr>\n",
       "      <th>0</th>\n",
       "      <td>2539329</td>\n",
       "      <td>1</td>\n",
       "      <td>prior</td>\n",
       "      <td>1</td>\n",
       "      <td>2</td>\n",
       "      <td>8</td>\n",
       "      <td>NaN</td>\n",
       "      <td>58</td>\n",
       "      <td>0.0</td>\n",
       "      <td>NaN</td>\n",
       "      <td>NaN</td>\n",
       "      <td>10</td>\n",
       "    </tr>\n",
       "    <tr>\n",
       "      <th>1</th>\n",
       "      <td>2398795</td>\n",
       "      <td>1</td>\n",
       "      <td>prior</td>\n",
       "      <td>2</td>\n",
       "      <td>3</td>\n",
       "      <td>7</td>\n",
       "      <td>15.0</td>\n",
       "      <td>82</td>\n",
       "      <td>15.0</td>\n",
       "      <td>NaN</td>\n",
       "      <td>NaN</td>\n",
       "      <td>9</td>\n",
       "    </tr>\n",
       "    <tr>\n",
       "      <th>2</th>\n",
       "      <td>473747</td>\n",
       "      <td>1</td>\n",
       "      <td>prior</td>\n",
       "      <td>3</td>\n",
       "      <td>3</td>\n",
       "      <td>12</td>\n",
       "      <td>21.0</td>\n",
       "      <td>87</td>\n",
       "      <td>36.0</td>\n",
       "      <td>36.0</td>\n",
       "      <td>6.0</td>\n",
       "      <td>8</td>\n",
       "    </tr>\n",
       "    <tr>\n",
       "      <th>3</th>\n",
       "      <td>2254736</td>\n",
       "      <td>1</td>\n",
       "      <td>prior</td>\n",
       "      <td>4</td>\n",
       "      <td>4</td>\n",
       "      <td>7</td>\n",
       "      <td>29.0</td>\n",
       "      <td>107</td>\n",
       "      <td>65.0</td>\n",
       "      <td>50.0</td>\n",
       "      <td>8.0</td>\n",
       "      <td>7</td>\n",
       "    </tr>\n",
       "    <tr>\n",
       "      <th>4</th>\n",
       "      <td>431534</td>\n",
       "      <td>1</td>\n",
       "      <td>prior</td>\n",
       "      <td>5</td>\n",
       "      <td>4</td>\n",
       "      <td>15</td>\n",
       "      <td>28.0</td>\n",
       "      <td>115</td>\n",
       "      <td>93.0</td>\n",
       "      <td>57.0</td>\n",
       "      <td>-1.0</td>\n",
       "      <td>6</td>\n",
       "    </tr>\n",
       "  </tbody>\n",
       "</table>\n",
       "</div>"
      ],
      "text/plain": [
       "   order_id  user_id eval_set  order_number  order_dow  order_hour_of_day  \\\n",
       "0   2539329        1    prior             1          2                  8   \n",
       "1   2398795        1    prior             2          3                  7   \n",
       "2    473747        1    prior             3          3                 12   \n",
       "3   2254736        1    prior             4          4                  7   \n",
       "4    431534        1    prior             5          4                 15   \n",
       "\n",
       "   days_since_prior_order  order_dow_hod  days_since_first_order  \\\n",
       "0                     NaN             58                     0.0   \n",
       "1                    15.0             82                    15.0   \n",
       "2                    21.0             87                    36.0   \n",
       "3                    29.0            107                    65.0   \n",
       "4                    28.0            115                    93.0   \n",
       "\n",
       "   days_since_prior_prior_order  days_since_prior_order_diff  \\\n",
       "0                           NaN                          NaN   \n",
       "1                           NaN                          NaN   \n",
       "2                          36.0                          6.0   \n",
       "3                          50.0                          8.0   \n",
       "4                          57.0                         -1.0   \n",
       "\n",
       "   order_number_desc  \n",
       "0                 10  \n",
       "1                  9  \n",
       "2                  8  \n",
       "3                  7  \n",
       "4                  6  "
      ]
     },
     "execution_count": 31,
     "metadata": {},
     "output_type": "execute_result"
    }
   ],
   "source": [
    "orders.head()"
   ]
  },
  {
   "cell_type": "markdown",
   "metadata": {},
   "source": [
    "### 局部特征:从orders表格进行提取特征\n",
    "\n",
    "- 此处我们提取用户订单的最后三条记录作为我们的局部特征数据集"
   ]
  },
  {
   "cell_type": "code",
   "execution_count": 34,
   "metadata": {},
   "outputs": [
    {
     "data": {
      "text/html": [
       "<div>\n",
       "<style scoped>\n",
       "    .dataframe tbody tr th:only-of-type {\n",
       "        vertical-align: middle;\n",
       "    }\n",
       "\n",
       "    .dataframe tbody tr th {\n",
       "        vertical-align: top;\n",
       "    }\n",
       "\n",
       "    .dataframe thead th {\n",
       "        text-align: right;\n",
       "    }\n",
       "</style>\n",
       "<table border=\"1\" class=\"dataframe\">\n",
       "  <thead>\n",
       "    <tr style=\"text-align: right;\">\n",
       "      <th></th>\n",
       "      <th>order_id</th>\n",
       "      <th>user_id</th>\n",
       "      <th>eval_set</th>\n",
       "      <th>order_number</th>\n",
       "      <th>order_dow</th>\n",
       "      <th>order_hour_of_day</th>\n",
       "      <th>days_since_prior_order</th>\n",
       "      <th>order_dow_hod</th>\n",
       "      <th>days_since_first_order</th>\n",
       "      <th>days_since_prior_prior_order</th>\n",
       "      <th>days_since_prior_order_diff</th>\n",
       "      <th>order_number_desc</th>\n",
       "    </tr>\n",
       "  </thead>\n",
       "  <tbody>\n",
       "    <tr>\n",
       "      <th>7</th>\n",
       "      <td>3108588</td>\n",
       "      <td>1</td>\n",
       "      <td>prior</td>\n",
       "      <td>8</td>\n",
       "      <td>1</td>\n",
       "      <td>14</td>\n",
       "      <td>14.0</td>\n",
       "      <td>39</td>\n",
       "      <td>146.0</td>\n",
       "      <td>34.0</td>\n",
       "      <td>-6.0</td>\n",
       "      <td>3</td>\n",
       "    </tr>\n",
       "    <tr>\n",
       "      <th>8</th>\n",
       "      <td>2295261</td>\n",
       "      <td>1</td>\n",
       "      <td>prior</td>\n",
       "      <td>9</td>\n",
       "      <td>1</td>\n",
       "      <td>16</td>\n",
       "      <td>0.0</td>\n",
       "      <td>41</td>\n",
       "      <td>146.0</td>\n",
       "      <td>14.0</td>\n",
       "      <td>-14.0</td>\n",
       "      <td>2</td>\n",
       "    </tr>\n",
       "    <tr>\n",
       "      <th>9</th>\n",
       "      <td>2550362</td>\n",
       "      <td>1</td>\n",
       "      <td>prior</td>\n",
       "      <td>10</td>\n",
       "      <td>4</td>\n",
       "      <td>8</td>\n",
       "      <td>30.0</td>\n",
       "      <td>108</td>\n",
       "      <td>176.0</td>\n",
       "      <td>30.0</td>\n",
       "      <td>30.0</td>\n",
       "      <td>1</td>\n",
       "    </tr>\n",
       "    <tr>\n",
       "      <th>22</th>\n",
       "      <td>3186735</td>\n",
       "      <td>2</td>\n",
       "      <td>prior</td>\n",
       "      <td>12</td>\n",
       "      <td>1</td>\n",
       "      <td>9</td>\n",
       "      <td>28.0</td>\n",
       "      <td>34</td>\n",
       "      <td>155.0</td>\n",
       "      <td>58.0</td>\n",
       "      <td>-2.0</td>\n",
       "      <td>3</td>\n",
       "    </tr>\n",
       "    <tr>\n",
       "      <th>23</th>\n",
       "      <td>3268552</td>\n",
       "      <td>2</td>\n",
       "      <td>prior</td>\n",
       "      <td>13</td>\n",
       "      <td>4</td>\n",
       "      <td>11</td>\n",
       "      <td>30.0</td>\n",
       "      <td>111</td>\n",
       "      <td>185.0</td>\n",
       "      <td>58.0</td>\n",
       "      <td>2.0</td>\n",
       "      <td>2</td>\n",
       "    </tr>\n",
       "  </tbody>\n",
       "</table>\n",
       "</div>"
      ],
      "text/plain": [
       "    order_id  user_id eval_set  order_number  order_dow  order_hour_of_day  \\\n",
       "7    3108588        1    prior             8          1                 14   \n",
       "8    2295261        1    prior             9          1                 16   \n",
       "9    2550362        1    prior            10          4                  8   \n",
       "22   3186735        2    prior            12          1                  9   \n",
       "23   3268552        2    prior            13          4                 11   \n",
       "\n",
       "    days_since_prior_order  order_dow_hod  days_since_first_order  \\\n",
       "7                     14.0             39                   146.0   \n",
       "8                      0.0             41                   146.0   \n",
       "9                     30.0            108                   176.0   \n",
       "22                    28.0             34                   155.0   \n",
       "23                    30.0            111                   185.0   \n",
       "\n",
       "    days_since_prior_prior_order  days_since_prior_order_diff  \\\n",
       "7                           34.0                         -6.0   \n",
       "8                           14.0                        -14.0   \n",
       "9                           30.0                         30.0   \n",
       "22                          58.0                         -2.0   \n",
       "23                          58.0                          2.0   \n",
       "\n",
       "    order_number_desc  \n",
       "7                   3  \n",
       "8                   2  \n",
       "9                   1  \n",
       "22                  3  \n",
       "23                  2  "
      ]
     },
     "execution_count": 34,
     "metadata": {},
     "output_type": "execute_result"
    }
   ],
   "source": [
    "order_last_3 = orders.loc[orders.eval_set == 'prior']\n",
    "order_last_3 = order_last_3.loc[order_last_3.order_number_desc < 4] \n",
    "order_last_3.head()"
   ]
  },
  {
   "cell_type": "markdown",
   "metadata": {},
   "source": [
    "#### user_id(days_since_prior_order):last,mean"
   ]
  },
  {
   "cell_type": "code",
   "execution_count": 35,
   "metadata": {},
   "outputs": [],
   "source": [
    "user_fea['user_order_days_since_prior_order_last_3_last'] = order_last_3.groupby('user_id')['days_since_prior_order'].last().sort_index().values \n",
    "user_fea['user_order_days_since_prior_order_last_3_mean'] = order_last_3.groupby('user_id')['days_since_prior_order'].mean().sort_index().values "
   ]
  },
  {
   "cell_type": "markdown",
   "metadata": {},
   "source": [
    "- 删除后续不会用到的特征列"
   ]
  },
  {
   "cell_type": "code",
   "execution_count": 36,
   "metadata": {},
   "outputs": [],
   "source": [
    "del orders['days_since_prior_prior_order'] "
   ]
  },
  {
   "cell_type": "markdown",
   "metadata": {},
   "source": [
    "### 全局特征:从orders + order_products_prior合并的表格中进行提取,顺带将product_id也拼接进来"
   ]
  },
  {
   "cell_type": "code",
   "execution_count": 37,
   "metadata": {},
   "outputs": [],
   "source": [
    "products_prior_orders = order_products__prior.merge(orders, on='order_id', how = 'left')\n",
    "products_prior_orders = products_prior_orders.merge(products, on='product_id', how = 'left')"
   ]
  },
  {
   "cell_type": "code",
   "execution_count": 38,
   "metadata": {},
   "outputs": [
    {
     "data": {
      "text/html": [
       "<div>\n",
       "<style scoped>\n",
       "    .dataframe tbody tr th:only-of-type {\n",
       "        vertical-align: middle;\n",
       "    }\n",
       "\n",
       "    .dataframe tbody tr th {\n",
       "        vertical-align: top;\n",
       "    }\n",
       "\n",
       "    .dataframe thead th {\n",
       "        text-align: right;\n",
       "    }\n",
       "</style>\n",
       "<table border=\"1\" class=\"dataframe\">\n",
       "  <thead>\n",
       "    <tr style=\"text-align: right;\">\n",
       "      <th></th>\n",
       "      <th>order_id</th>\n",
       "      <th>product_id</th>\n",
       "      <th>add_to_cart_order</th>\n",
       "      <th>reordered</th>\n",
       "      <th>user_id</th>\n",
       "      <th>order_number</th>\n",
       "      <th>order_dow</th>\n",
       "      <th>order_hour_of_day</th>\n",
       "      <th>days_since_prior_order</th>\n",
       "      <th>order_dow_hod</th>\n",
       "      <th>days_since_first_order</th>\n",
       "      <th>days_since_prior_order_diff</th>\n",
       "      <th>order_number_desc</th>\n",
       "      <th>aisle_id</th>\n",
       "      <th>department_id</th>\n",
       "    </tr>\n",
       "  </thead>\n",
       "  <tbody>\n",
       "    <tr>\n",
       "      <th>0</th>\n",
       "      <td>2</td>\n",
       "      <td>33120</td>\n",
       "      <td>1</td>\n",
       "      <td>1</td>\n",
       "      <td>202279</td>\n",
       "      <td>3</td>\n",
       "      <td>5</td>\n",
       "      <td>9</td>\n",
       "      <td>8.0</td>\n",
       "      <td>134</td>\n",
       "      <td>28.0</td>\n",
       "      <td>-12.0</td>\n",
       "      <td>6</td>\n",
       "      <td>86</td>\n",
       "      <td>16</td>\n",
       "    </tr>\n",
       "    <tr>\n",
       "      <th>1</th>\n",
       "      <td>2</td>\n",
       "      <td>28985</td>\n",
       "      <td>2</td>\n",
       "      <td>1</td>\n",
       "      <td>202279</td>\n",
       "      <td>3</td>\n",
       "      <td>5</td>\n",
       "      <td>9</td>\n",
       "      <td>8.0</td>\n",
       "      <td>134</td>\n",
       "      <td>28.0</td>\n",
       "      <td>-12.0</td>\n",
       "      <td>6</td>\n",
       "      <td>83</td>\n",
       "      <td>4</td>\n",
       "    </tr>\n",
       "    <tr>\n",
       "      <th>2</th>\n",
       "      <td>2</td>\n",
       "      <td>9327</td>\n",
       "      <td>3</td>\n",
       "      <td>0</td>\n",
       "      <td>202279</td>\n",
       "      <td>3</td>\n",
       "      <td>5</td>\n",
       "      <td>9</td>\n",
       "      <td>8.0</td>\n",
       "      <td>134</td>\n",
       "      <td>28.0</td>\n",
       "      <td>-12.0</td>\n",
       "      <td>6</td>\n",
       "      <td>104</td>\n",
       "      <td>13</td>\n",
       "    </tr>\n",
       "    <tr>\n",
       "      <th>3</th>\n",
       "      <td>2</td>\n",
       "      <td>45918</td>\n",
       "      <td>4</td>\n",
       "      <td>1</td>\n",
       "      <td>202279</td>\n",
       "      <td>3</td>\n",
       "      <td>5</td>\n",
       "      <td>9</td>\n",
       "      <td>8.0</td>\n",
       "      <td>134</td>\n",
       "      <td>28.0</td>\n",
       "      <td>-12.0</td>\n",
       "      <td>6</td>\n",
       "      <td>19</td>\n",
       "      <td>13</td>\n",
       "    </tr>\n",
       "    <tr>\n",
       "      <th>4</th>\n",
       "      <td>2</td>\n",
       "      <td>30035</td>\n",
       "      <td>5</td>\n",
       "      <td>0</td>\n",
       "      <td>202279</td>\n",
       "      <td>3</td>\n",
       "      <td>5</td>\n",
       "      <td>9</td>\n",
       "      <td>8.0</td>\n",
       "      <td>134</td>\n",
       "      <td>28.0</td>\n",
       "      <td>-12.0</td>\n",
       "      <td>6</td>\n",
       "      <td>17</td>\n",
       "      <td>13</td>\n",
       "    </tr>\n",
       "  </tbody>\n",
       "</table>\n",
       "</div>"
      ],
      "text/plain": [
       "   order_id  product_id  add_to_cart_order  reordered  user_id  order_number  \\\n",
       "0         2       33120                  1          1   202279             3   \n",
       "1         2       28985                  2          1   202279             3   \n",
       "2         2        9327                  3          0   202279             3   \n",
       "3         2       45918                  4          1   202279             3   \n",
       "4         2       30035                  5          0   202279             3   \n",
       "\n",
       "   order_dow  order_hour_of_day  days_since_prior_order  order_dow_hod  \\\n",
       "0          5                  9                     8.0            134   \n",
       "1          5                  9                     8.0            134   \n",
       "2          5                  9                     8.0            134   \n",
       "3          5                  9                     8.0            134   \n",
       "4          5                  9                     8.0            134   \n",
       "\n",
       "   days_since_first_order  days_since_prior_order_diff  order_number_desc  \\\n",
       "0                    28.0                        -12.0                  6   \n",
       "1                    28.0                        -12.0                  6   \n",
       "2                    28.0                        -12.0                  6   \n",
       "3                    28.0                        -12.0                  6   \n",
       "4                    28.0                        -12.0                  6   \n",
       "\n",
       "   aisle_id  department_id  \n",
       "0        86             16  \n",
       "1        83              4  \n",
       "2       104             13  \n",
       "3        19             13  \n",
       "4        17             13  "
      ]
     },
     "execution_count": 38,
     "metadata": {},
     "output_type": "execute_result"
    }
   ],
   "source": [
    "del products_prior_orders['product_name']\n",
    "del products_prior_orders['eval_set']\n",
    "gc.collect()\n",
    "products_prior_orders.head()"
   ]
  },
  {
   "cell_type": "markdown",
   "metadata": {},
   "source": [
    "#### user_id(product_id):count,nunique,mode1,mode2"
   ]
  },
  {
   "cell_type": "code",
   "execution_count": 39,
   "metadata": {},
   "outputs": [],
   "source": [
    "user_fea['user_product_nunique'] = products_prior_orders.groupby('user_id')['product_id'].nunique().sort_index().values\n",
    "user_fea['user_product_count']   = products_prior_orders.groupby('user_id')['product_id'].count().sort_index().values"
   ]
  },
  {
   "cell_type": "code",
   "execution_count": 40,
   "metadata": {},
   "outputs": [],
   "source": [
    "user_fea['user_product_mode_1'] = products_prior_orders.groupby('user_id')['product_id'].apply(lambda x: np.bincount(x).argmax()).sort_index().values \n",
    "user_fea['user_product_mode_2'] = products_prior_orders.groupby('user_id')['product_id'].apply(lambda x: mode_N(x,1)).sort_index().values  "
   ]
  },
  {
   "cell_type": "markdown",
   "metadata": {},
   "source": [
    "#### user_product_nunique / user_orderid_count; user_product_count / user_orderid_nunique"
   ]
  },
  {
   "cell_type": "code",
   "execution_count": 41,
   "metadata": {},
   "outputs": [],
   "source": [
    "user_fea['user_product_nunique_divide_nunique'] = user_fea['user_product_nunique'].values / user_fea['user_orderid_nunique'].values\n",
    "user_fea['user_product_count_divide_nunique']   = user_fea['user_product_count'].values   / user_fea['user_orderid_nunique'].values"
   ]
  },
  {
   "cell_type": "markdown",
   "metadata": {},
   "source": [
    "#### user_id(reordered):sum "
   ]
  },
  {
   "cell_type": "code",
   "execution_count": 42,
   "metadata": {},
   "outputs": [],
   "source": [
    "user_fea['user_reordered_sum'] = products_prior_orders.groupby('user_id')['reordered'].sum().sort_index().values \n",
    "# user_fea['user_reordered_mean'] = products_prior_orders.groupby('user_id')['reordered'].mean().sort_index().values  "
   ]
  },
  {
   "cell_type": "markdown",
   "metadata": {},
   "source": [
    "#### user_id(aisle_id)：nunique,mode1"
   ]
  },
  {
   "cell_type": "code",
   "execution_count": 43,
   "metadata": {},
   "outputs": [],
   "source": [
    "user_fea['user_aisle_count'] = products_prior_orders.groupby('user_id')['aisle_id'].nunique().sort_index().values  \n",
    "user_fea['user_aisle_mode_1'] = products_prior_orders.groupby('user_id')['aisle_id'].apply(lambda x: np.bincount(x).argmax()).sort_index().values "
   ]
  },
  {
   "cell_type": "markdown",
   "metadata": {},
   "source": [
    "#### user_id(department_id)：nunique,mode1"
   ]
  },
  {
   "cell_type": "code",
   "execution_count": 44,
   "metadata": {},
   "outputs": [],
   "source": [
    "user_fea['user_department_count']  = products_prior_orders.groupby('user_id')['department_id'].nunique().sort_index().values  \n",
    "user_fea['user_department_mode_1'] = products_prior_orders.groupby('user_id')['department_id'].apply(lambda x: np.bincount(x).argmax()).sort_index().values "
   ]
  },
  {
   "cell_type": "markdown",
   "metadata": {},
   "source": [
    "####  user_id(reordered == 0/1,pruduct): nunique, percentage"
   ]
  },
  {
   "cell_type": "code",
   "execution_count": 57,
   "metadata": {},
   "outputs": [],
   "source": [
    "tmp0 = products_prior_orders.loc[products_prior_orders.reordered ==0].groupby('user_id')['product_id'].nunique().reset_index()\n",
    "tmp0.columns = ['user_id', 'non_reordered_product_nunqiue']\n",
    "\n",
    "tmp1 = products_prior_orders.loc[products_prior_orders.reordered ==1].groupby('user_id')['product_id'].nunique().reset_index()\n",
    "tmp1.columns = ['user_id', 'reordered_product_nunqiue']\n",
    "\n",
    "user_fea = user_fea.merge(tmp0, on='user_id', how='left')\n",
    "user_fea = user_fea.merge(tmp1, on='user_id', how='left')\n",
    "\n",
    "user_fea['reordered_nonreordered_product_nunqiue_rate'] = (user_fea['reordered_product_nunqiue'].fillna(0).values) / (user_fea['non_reordered_product_nunqiue'].fillna(0).values + user_fea['last_3_reordered_product_nunqiue'].fillna(0).values)"
   ]
  },
  {
   "cell_type": "markdown",
   "metadata": {},
   "source": [
    "###  局部特征:从orders + order_products_prior合并的表格中进行提取,顺带将product_id也拼接进来\n",
    "- 我们取最近的三单最为我们的局部特征\n"
   ]
  },
  {
   "cell_type": "code",
   "execution_count": 47,
   "metadata": {
    "scrolled": true
   },
   "outputs": [
    {
     "data": {
      "text/html": [
       "<div>\n",
       "<style scoped>\n",
       "    .dataframe tbody tr th:only-of-type {\n",
       "        vertical-align: middle;\n",
       "    }\n",
       "\n",
       "    .dataframe tbody tr th {\n",
       "        vertical-align: top;\n",
       "    }\n",
       "\n",
       "    .dataframe thead th {\n",
       "        text-align: right;\n",
       "    }\n",
       "</style>\n",
       "<table border=\"1\" class=\"dataframe\">\n",
       "  <thead>\n",
       "    <tr style=\"text-align: right;\">\n",
       "      <th></th>\n",
       "      <th>order_id</th>\n",
       "      <th>product_id</th>\n",
       "      <th>add_to_cart_order</th>\n",
       "      <th>reordered</th>\n",
       "      <th>user_id</th>\n",
       "      <th>order_number</th>\n",
       "      <th>order_dow</th>\n",
       "      <th>order_hour_of_day</th>\n",
       "      <th>days_since_prior_order</th>\n",
       "      <th>order_dow_hod</th>\n",
       "      <th>days_since_first_order</th>\n",
       "      <th>days_since_prior_order_diff</th>\n",
       "      <th>order_number_desc</th>\n",
       "      <th>aisle_id</th>\n",
       "      <th>department_id</th>\n",
       "    </tr>\n",
       "  </thead>\n",
       "  <tbody>\n",
       "    <tr>\n",
       "      <th>59</th>\n",
       "      <td>7</td>\n",
       "      <td>34050</td>\n",
       "      <td>1</td>\n",
       "      <td>0</td>\n",
       "      <td>142903</td>\n",
       "      <td>11</td>\n",
       "      <td>2</td>\n",
       "      <td>14</td>\n",
       "      <td>30.0</td>\n",
       "      <td>64</td>\n",
       "      <td>150.0</td>\n",
       "      <td>0.0</td>\n",
       "      <td>2</td>\n",
       "      <td>31</td>\n",
       "      <td>7</td>\n",
       "    </tr>\n",
       "    <tr>\n",
       "      <th>60</th>\n",
       "      <td>7</td>\n",
       "      <td>46802</td>\n",
       "      <td>2</td>\n",
       "      <td>0</td>\n",
       "      <td>142903</td>\n",
       "      <td>11</td>\n",
       "      <td>2</td>\n",
       "      <td>14</td>\n",
       "      <td>30.0</td>\n",
       "      <td>64</td>\n",
       "      <td>150.0</td>\n",
       "      <td>0.0</td>\n",
       "      <td>2</td>\n",
       "      <td>116</td>\n",
       "      <td>1</td>\n",
       "    </tr>\n",
       "    <tr>\n",
       "      <th>125</th>\n",
       "      <td>14</td>\n",
       "      <td>20392</td>\n",
       "      <td>1</td>\n",
       "      <td>1</td>\n",
       "      <td>18194</td>\n",
       "      <td>49</td>\n",
       "      <td>3</td>\n",
       "      <td>15</td>\n",
       "      <td>3.0</td>\n",
       "      <td>90</td>\n",
       "      <td>340.0</td>\n",
       "      <td>-11.0</td>\n",
       "      <td>3</td>\n",
       "      <td>26</td>\n",
       "      <td>7</td>\n",
       "    </tr>\n",
       "    <tr>\n",
       "      <th>126</th>\n",
       "      <td>14</td>\n",
       "      <td>27845</td>\n",
       "      <td>2</td>\n",
       "      <td>1</td>\n",
       "      <td>18194</td>\n",
       "      <td>49</td>\n",
       "      <td>3</td>\n",
       "      <td>15</td>\n",
       "      <td>3.0</td>\n",
       "      <td>90</td>\n",
       "      <td>340.0</td>\n",
       "      <td>-11.0</td>\n",
       "      <td>3</td>\n",
       "      <td>84</td>\n",
       "      <td>16</td>\n",
       "    </tr>\n",
       "    <tr>\n",
       "      <th>127</th>\n",
       "      <td>14</td>\n",
       "      <td>162</td>\n",
       "      <td>3</td>\n",
       "      <td>1</td>\n",
       "      <td>18194</td>\n",
       "      <td>49</td>\n",
       "      <td>3</td>\n",
       "      <td>15</td>\n",
       "      <td>3.0</td>\n",
       "      <td>90</td>\n",
       "      <td>340.0</td>\n",
       "      <td>-11.0</td>\n",
       "      <td>3</td>\n",
       "      <td>52</td>\n",
       "      <td>1</td>\n",
       "    </tr>\n",
       "  </tbody>\n",
       "</table>\n",
       "</div>"
      ],
      "text/plain": [
       "     order_id  product_id  add_to_cart_order  reordered  user_id  \\\n",
       "59          7       34050                  1          0   142903   \n",
       "60          7       46802                  2          0   142903   \n",
       "125        14       20392                  1          1    18194   \n",
       "126        14       27845                  2          1    18194   \n",
       "127        14         162                  3          1    18194   \n",
       "\n",
       "     order_number  order_dow  order_hour_of_day  days_since_prior_order  \\\n",
       "59             11          2                 14                    30.0   \n",
       "60             11          2                 14                    30.0   \n",
       "125            49          3                 15                     3.0   \n",
       "126            49          3                 15                     3.0   \n",
       "127            49          3                 15                     3.0   \n",
       "\n",
       "     order_dow_hod  days_since_first_order  days_since_prior_order_diff  \\\n",
       "59              64                   150.0                          0.0   \n",
       "60              64                   150.0                          0.0   \n",
       "125             90                   340.0                        -11.0   \n",
       "126             90                   340.0                        -11.0   \n",
       "127             90                   340.0                        -11.0   \n",
       "\n",
       "     order_number_desc  aisle_id  department_id  \n",
       "59                   2        31              7  \n",
       "60                   2       116              1  \n",
       "125                  3        26              7  \n",
       "126                  3        84             16  \n",
       "127                  3        52              1  "
      ]
     },
     "execution_count": 47,
     "metadata": {},
     "output_type": "execute_result"
    }
   ],
   "source": [
    "products_prior_orders_last_3 = products_prior_orders.loc[products_prior_orders.order_number_desc < 4] \n",
    "products_prior_orders_last_3.head()"
   ]
  },
  {
   "cell_type": "markdown",
   "metadata": {},
   "source": [
    "#### user_id(product_id):count  "
   ]
  },
  {
   "cell_type": "code",
   "execution_count": 48,
   "metadata": {},
   "outputs": [],
   "source": [
    "user_fea['user_product_last_3_count']   = products_prior_orders_last_3.groupby('user_id')['product_id'].count().sort_index().values"
   ]
  },
  {
   "cell_type": "markdown",
   "metadata": {},
   "source": [
    "#### user_id(days_since_prior_order):mean,max "
   ]
  },
  {
   "cell_type": "code",
   "execution_count": 49,
   "metadata": {},
   "outputs": [],
   "source": [
    "user_fea['user_days_since_prior_order_last_3_max']   = products_prior_orders_last_3.groupby('user_id')['days_since_prior_order'].max().sort_index().values\n",
    "user_fea['user_days_since_prior_order_last_3_mean']   = products_prior_orders_last_3.groupby('user_id')['days_since_prior_order'].mean().sort_index().values"
   ]
  },
  {
   "cell_type": "markdown",
   "metadata": {},
   "source": [
    "#### user_id(reordered):sum "
   ]
  },
  {
   "cell_type": "code",
   "execution_count": 50,
   "metadata": {},
   "outputs": [],
   "source": [
    "user_fea['user_reordered_last_3_sum'] = products_prior_orders_last_3.groupby('user_id')['reordered'].sum().sort_index().values "
   ]
  },
  {
   "cell_type": "markdown",
   "metadata": {},
   "source": [
    "#### user_id(reordered == 0/1,pruduct): nunique, percentage "
   ]
  },
  {
   "cell_type": "code",
   "execution_count": 52,
   "metadata": {},
   "outputs": [],
   "source": [
    "tmp0 = products_prior_orders_last_3.loc[products_prior_orders_last_3.reordered ==0].groupby('user_id')['product_id'].nunique().reset_index()\n",
    "tmp0.columns = ['user_id', 'last_3_non_reordered_product_nunqiue']\n",
    "\n",
    "tmp1 = products_prior_orders_last_3.loc[products_prior_orders_last_3.reordered ==1].groupby('user_id')['product_id'].nunique().reset_index()\n",
    "tmp1.columns = ['user_id', 'last_3_reordered_product_nunqiue']\n",
    "\n",
    "user_fea = user_fea.merge(tmp0, on='user_id', how='left')\n",
    "user_fea = user_fea.merge(tmp1, on='user_id', how='left')\n",
    "\n",
    "user_fea['last_3_reordered_nonreordered_product_nunqiue_rate'] = (user_fea['last_3_reordered_product_nunqiue'].fillna(0).values) / (user_fea['last_3_non_reordered_product_nunqiue'].fillna(0).values + user_fea['last_3_reordered_product_nunqiue'].fillna(0).values)"
   ]
  },
  {
   "cell_type": "code",
   "execution_count": 58,
   "metadata": {},
   "outputs": [
    {
     "data": {
      "text/html": [
       "<div>\n",
       "<style scoped>\n",
       "    .dataframe tbody tr th:only-of-type {\n",
       "        vertical-align: middle;\n",
       "    }\n",
       "\n",
       "    .dataframe tbody tr th {\n",
       "        vertical-align: top;\n",
       "    }\n",
       "\n",
       "    .dataframe thead th {\n",
       "        text-align: right;\n",
       "    }\n",
       "</style>\n",
       "<table border=\"1\" class=\"dataframe\">\n",
       "  <thead>\n",
       "    <tr style=\"text-align: right;\">\n",
       "      <th></th>\n",
       "      <th>order_id</th>\n",
       "      <th>product_id</th>\n",
       "      <th>add_to_cart_order</th>\n",
       "      <th>reordered</th>\n",
       "      <th>user_id</th>\n",
       "      <th>order_number</th>\n",
       "      <th>order_dow</th>\n",
       "      <th>order_hour_of_day</th>\n",
       "      <th>days_since_prior_order</th>\n",
       "      <th>order_dow_hod</th>\n",
       "      <th>days_since_first_order</th>\n",
       "      <th>days_since_prior_order_diff</th>\n",
       "      <th>order_number_desc</th>\n",
       "      <th>aisle_id</th>\n",
       "      <th>department_id</th>\n",
       "    </tr>\n",
       "  </thead>\n",
       "  <tbody>\n",
       "    <tr>\n",
       "      <th>59</th>\n",
       "      <td>7</td>\n",
       "      <td>34050</td>\n",
       "      <td>1</td>\n",
       "      <td>0</td>\n",
       "      <td>142903</td>\n",
       "      <td>11</td>\n",
       "      <td>2</td>\n",
       "      <td>14</td>\n",
       "      <td>30.0</td>\n",
       "      <td>64</td>\n",
       "      <td>150.0</td>\n",
       "      <td>0.0</td>\n",
       "      <td>2</td>\n",
       "      <td>31</td>\n",
       "      <td>7</td>\n",
       "    </tr>\n",
       "    <tr>\n",
       "      <th>60</th>\n",
       "      <td>7</td>\n",
       "      <td>46802</td>\n",
       "      <td>2</td>\n",
       "      <td>0</td>\n",
       "      <td>142903</td>\n",
       "      <td>11</td>\n",
       "      <td>2</td>\n",
       "      <td>14</td>\n",
       "      <td>30.0</td>\n",
       "      <td>64</td>\n",
       "      <td>150.0</td>\n",
       "      <td>0.0</td>\n",
       "      <td>2</td>\n",
       "      <td>116</td>\n",
       "      <td>1</td>\n",
       "    </tr>\n",
       "    <tr>\n",
       "      <th>125</th>\n",
       "      <td>14</td>\n",
       "      <td>20392</td>\n",
       "      <td>1</td>\n",
       "      <td>1</td>\n",
       "      <td>18194</td>\n",
       "      <td>49</td>\n",
       "      <td>3</td>\n",
       "      <td>15</td>\n",
       "      <td>3.0</td>\n",
       "      <td>90</td>\n",
       "      <td>340.0</td>\n",
       "      <td>-11.0</td>\n",
       "      <td>3</td>\n",
       "      <td>26</td>\n",
       "      <td>7</td>\n",
       "    </tr>\n",
       "    <tr>\n",
       "      <th>126</th>\n",
       "      <td>14</td>\n",
       "      <td>27845</td>\n",
       "      <td>2</td>\n",
       "      <td>1</td>\n",
       "      <td>18194</td>\n",
       "      <td>49</td>\n",
       "      <td>3</td>\n",
       "      <td>15</td>\n",
       "      <td>3.0</td>\n",
       "      <td>90</td>\n",
       "      <td>340.0</td>\n",
       "      <td>-11.0</td>\n",
       "      <td>3</td>\n",
       "      <td>84</td>\n",
       "      <td>16</td>\n",
       "    </tr>\n",
       "    <tr>\n",
       "      <th>127</th>\n",
       "      <td>14</td>\n",
       "      <td>162</td>\n",
       "      <td>3</td>\n",
       "      <td>1</td>\n",
       "      <td>18194</td>\n",
       "      <td>49</td>\n",
       "      <td>3</td>\n",
       "      <td>15</td>\n",
       "      <td>3.0</td>\n",
       "      <td>90</td>\n",
       "      <td>340.0</td>\n",
       "      <td>-11.0</td>\n",
       "      <td>3</td>\n",
       "      <td>52</td>\n",
       "      <td>1</td>\n",
       "    </tr>\n",
       "  </tbody>\n",
       "</table>\n",
       "</div>"
      ],
      "text/plain": [
       "     order_id  product_id  add_to_cart_order  reordered  user_id  \\\n",
       "59          7       34050                  1          0   142903   \n",
       "60          7       46802                  2          0   142903   \n",
       "125        14       20392                  1          1    18194   \n",
       "126        14       27845                  2          1    18194   \n",
       "127        14         162                  3          1    18194   \n",
       "\n",
       "     order_number  order_dow  order_hour_of_day  days_since_prior_order  \\\n",
       "59             11          2                 14                    30.0   \n",
       "60             11          2                 14                    30.0   \n",
       "125            49          3                 15                     3.0   \n",
       "126            49          3                 15                     3.0   \n",
       "127            49          3                 15                     3.0   \n",
       "\n",
       "     order_dow_hod  days_since_first_order  days_since_prior_order_diff  \\\n",
       "59              64                   150.0                          0.0   \n",
       "60              64                   150.0                          0.0   \n",
       "125             90                   340.0                        -11.0   \n",
       "126             90                   340.0                        -11.0   \n",
       "127             90                   340.0                        -11.0   \n",
       "\n",
       "     order_number_desc  aisle_id  department_id  \n",
       "59                   2        31              7  \n",
       "60                   2       116              1  \n",
       "125                  3        26              7  \n",
       "126                  3        84             16  \n",
       "127                  3        52              1  "
      ]
     },
     "execution_count": 58,
     "metadata": {},
     "output_type": "execute_result"
    }
   ],
   "source": [
    "products_prior_orders_last_3.head()"
   ]
  },
  {
   "cell_type": "markdown",
   "metadata": {},
   "source": [
    "### 衍生表的全局特征: 从orders+order_products_prior衍生的一张order_sts表格"
   ]
  },
  {
   "cell_type": "code",
   "execution_count": 59,
   "metadata": {},
   "outputs": [],
   "source": [
    "order_sts = products_prior_orders.groupby(['user_id','order_id'])['product_id'].count().sort_index().reset_index()\n",
    "order_sts.columns = ['user_id','order_id','order_product_count']"
   ]
  },
  {
   "cell_type": "code",
   "execution_count": 60,
   "metadata": {},
   "outputs": [],
   "source": [
    "order_sts['order_reordered_sum'] = products_prior_orders.groupby(['user_id','order_id'])['reordered'].sum().sort_index().valuestmp0\n",
    "order_sts['order_aisle_nunique'] = products_prior_orders.groupby(['user_id','order_id'])['aisle_id'].nunique().sort_index().values\n",
    "order_sts['order_department_nunique'] = products_prior_orders.groupby(['user_id','order_id'])['department_id'].nunique().sort_index().values"
   ]
  },
  {
   "cell_type": "code",
   "execution_count": 61,
   "metadata": {
    "scrolled": true
   },
   "outputs": [
    {
     "data": {
      "text/html": [
       "<div>\n",
       "<style scoped>\n",
       "    .dataframe tbody tr th:only-of-type {\n",
       "        vertical-align: middle;\n",
       "    }\n",
       "\n",
       "    .dataframe tbody tr th {\n",
       "        vertical-align: top;\n",
       "    }\n",
       "\n",
       "    .dataframe thead th {\n",
       "        text-align: right;\n",
       "    }\n",
       "</style>\n",
       "<table border=\"1\" class=\"dataframe\">\n",
       "  <thead>\n",
       "    <tr style=\"text-align: right;\">\n",
       "      <th></th>\n",
       "      <th>user_id</th>\n",
       "      <th>order_id</th>\n",
       "      <th>order_product_count</th>\n",
       "      <th>order_reordered_sum</th>\n",
       "      <th>order_aisle_nunique</th>\n",
       "      <th>order_department_nunique</th>\n",
       "    </tr>\n",
       "  </thead>\n",
       "  <tbody>\n",
       "    <tr>\n",
       "      <th>0</th>\n",
       "      <td>1</td>\n",
       "      <td>431534</td>\n",
       "      <td>8</td>\n",
       "      <td>5</td>\n",
       "      <td>5</td>\n",
       "      <td>4</td>\n",
       "    </tr>\n",
       "    <tr>\n",
       "      <th>1</th>\n",
       "      <td>1</td>\n",
       "      <td>473747</td>\n",
       "      <td>5</td>\n",
       "      <td>3</td>\n",
       "      <td>5</td>\n",
       "      <td>4</td>\n",
       "    </tr>\n",
       "    <tr>\n",
       "      <th>2</th>\n",
       "      <td>1</td>\n",
       "      <td>550135</td>\n",
       "      <td>5</td>\n",
       "      <td>5</td>\n",
       "      <td>5</td>\n",
       "      <td>4</td>\n",
       "    </tr>\n",
       "    <tr>\n",
       "      <th>3</th>\n",
       "      <td>1</td>\n",
       "      <td>2254736</td>\n",
       "      <td>5</td>\n",
       "      <td>5</td>\n",
       "      <td>5</td>\n",
       "      <td>4</td>\n",
       "    </tr>\n",
       "    <tr>\n",
       "      <th>4</th>\n",
       "      <td>1</td>\n",
       "      <td>2295261</td>\n",
       "      <td>6</td>\n",
       "      <td>6</td>\n",
       "      <td>5</td>\n",
       "      <td>3</td>\n",
       "    </tr>\n",
       "  </tbody>\n",
       "</table>\n",
       "</div>"
      ],
      "text/plain": [
       "   user_id  order_id  order_product_count  order_reordered_sum  \\\n",
       "0        1    431534                    8                    5   \n",
       "1        1    473747                    5                    3   \n",
       "2        1    550135                    5                    5   \n",
       "3        1   2254736                    5                    5   \n",
       "4        1   2295261                    6                    6   \n",
       "\n",
       "   order_aisle_nunique  order_department_nunique  \n",
       "0                    5                         4  \n",
       "1                    5                         4  \n",
       "2                    5                         4  \n",
       "3                    5                         4  \n",
       "4                    5                         3  "
      ]
     },
     "execution_count": 61,
     "metadata": {},
     "output_type": "execute_result"
    }
   ],
   "source": [
    "order_sts.head()"
   ]
  },
  {
   "cell_type": "markdown",
   "metadata": {},
   "source": [
    "#### 加入每个订单中重购买商品数以及非重购商品数的信息"
   ]
  },
  {
   "cell_type": "code",
   "execution_count": 64,
   "metadata": {},
   "outputs": [],
   "source": [
    "tmp0 = products_prior_orders.loc[products_prior_orders.reordered == 0].groupby(['user_id','order_id'])['product_id'].count().sort_index().reset_index()\n",
    "tmp0.columns = ['user_id','order_id', 'non_reordered_product_count'] \n",
    "tmp1 = products_prior_orders.loc[products_prior_orders.reordered == 1].groupby(['user_id','order_id'])['product_id'].count().sort_index().reset_index()\n",
    "tmp1.columns = ['user_id','order_id', 'reordered_product_count']\n",
    "\n",
    "order_sts = order_sts.merge(tmp0, on=['user_id','order_id'], how='left')\n",
    "order_sts = order_sts.merge(tmp1, on=['user_id','order_id'], how='left')"
   ]
  },
  {
   "cell_type": "code",
   "execution_count": 70,
   "metadata": {},
   "outputs": [
    {
     "name": "stderr",
     "output_type": "stream",
     "text": [
      "/opt/conda/envs/zjpy36/lib/python3.6/site-packages/ipykernel_launcher.py:1: RuntimeWarning: divide by zero encountered in true_divide\n",
      "  \"\"\"Entry point for launching an IPython kernel.\n"
     ]
    }
   ],
   "source": [
    "order_sts['reordered_product_count_percent'] = order_sts['reordered_product_count'].fillna(0).values / (order_sts['non_reordered_product_count'].fillna(0).values)"
   ]
  },
  {
   "cell_type": "markdown",
   "metadata": {},
   "source": [
    "#### user_id(order_product_count)：mean,std,min,max"
   ]
  },
  {
   "cell_type": "code",
   "execution_count": 71,
   "metadata": {},
   "outputs": [],
   "source": [
    "user_fea['user_order_product_count_mean'] = order_sts.groupby('user_id')['order_product_count'].mean().sort_index().values \n",
    "user_fea['user_order_product_count_std']  = order_sts.groupby('user_id')['order_product_count'].std().sort_index().values  \n",
    "user_fea['user_order_product_count_min']  = order_sts.groupby('user_id')['order_product_count'].min().sort_index().values  \n",
    "user_fea['user_order_product_count_max']  = order_sts.groupby('user_id')['order_product_count'].max().sort_index().values  "
   ]
  },
  {
   "cell_type": "markdown",
   "metadata": {},
   "source": [
    "#### user_id(order_reordered_sum)：mean,std,max"
   ]
  },
  {
   "cell_type": "code",
   "execution_count": 72,
   "metadata": {},
   "outputs": [],
   "source": [
    "user_fea['user_order_reordered_sum_mean'] = order_sts.groupby('user_id')['order_reordered_sum'].mean().sort_index().values \n",
    "user_fea['user_order_reordered_sum_std'] = order_sts.groupby('user_id')['order_reordered_sum'].std().sort_index().values  \n",
    "user_fea['user_order_reordered_sum_max'] = order_sts.groupby('user_id')['order_reordered_sum'].max().sort_index().values  "
   ]
  },
  {
   "cell_type": "markdown",
   "metadata": {},
   "source": [
    "#### user_id(order_aisle_nunique)：mean,max"
   ]
  },
  {
   "cell_type": "code",
   "execution_count": 73,
   "metadata": {
    "scrolled": true
   },
   "outputs": [],
   "source": [
    "user_fea['user_order_aisle_nunique_mean'] = order_sts.groupby('user_id')['order_aisle_nunique'].mean().sort_index().values \n",
    "# user_fea['user_order_aisle_nunique_std'] = order_sts.groupby('user_id')['order_aisle_nunique'].std().sort_index().values  \n",
    "user_fea['user_order_aisle_nunique_max'] = order_sts.groupby('user_id')['order_aisle_nunique'].max().sort_index().values  "
   ]
  },
  {
   "cell_type": "markdown",
   "metadata": {},
   "source": [
    "#### user_id(order_department_nunique)：mean,max"
   ]
  },
  {
   "cell_type": "code",
   "execution_count": 74,
   "metadata": {},
   "outputs": [],
   "source": [
    "user_fea['user_order_department_nunique_mean'] = order_sts.groupby('user_id')['order_department_nunique'].mean().sort_index().values \n",
    "# user_fea['user_order_department_nunique_std'] = order_sts.groupby('user_id')['order_department_nunique'].std().sort_index().values  \n",
    "user_fea['user_order_department_nunique_max'] = order_sts.groupby('user_id')['order_department_nunique'].max().sort_index().values  "
   ]
  },
  {
   "cell_type": "markdown",
   "metadata": {},
   "source": [
    "####  user_id(reordered_product_count)：mean,max"
   ]
  },
  {
   "cell_type": "code",
   "execution_count": 76,
   "metadata": {},
   "outputs": [],
   "source": [
    "user_fea['user_order_reordered_product_count_mean'] = order_sts.groupby('user_id')['reordered_product_count'].mean().sort_index().values  \n",
    "user_fea['user_order_reordered_product_count_max'] = order_sts.groupby('user_id')['reordered_product_count'].max().sort_index().values  "
   ]
  },
  {
   "cell_type": "markdown",
   "metadata": {},
   "source": [
    "####  user_id(reordered_product_count_percent)：mean,max"
   ]
  },
  {
   "cell_type": "code",
   "execution_count": 75,
   "metadata": {},
   "outputs": [],
   "source": [
    "user_fea['user_order_reordered_product_count_percent_mean'] = order_sts.groupby('user_id')['reordered_product_count_percent'].mean().sort_index().values  \n",
    "user_fea['user_order_reordered_product_count_percent_max'] = order_sts.groupby('user_id')['reordered_product_count_percent'].max().sort_index().values  "
   ]
  },
  {
   "cell_type": "code",
   "execution_count": 77,
   "metadata": {},
   "outputs": [],
   "source": [
    "user_fea.to_csv('/data/Inscart/middle_features/user_first_fea.csv',index = None)"
   ]
  },
  {
   "cell_type": "markdown",
   "metadata": {},
   "source": [
    "## 用户产品交叉特征\n",
    "### 全局特征:从orders + order_products_prior合并的表格中进行提取,顺带将product_id也拼接进来"
   ]
  },
  {
   "cell_type": "code",
   "execution_count": 78,
   "metadata": {
    "scrolled": true
   },
   "outputs": [],
   "source": [
    "products_prior_orders['user_product'] = products_prior_orders['user_id'].values * 10**5 + products_prior_orders['product_id'].values\n",
    "\n",
    "userXproduct_fea = pd.DataFrame()\n",
    "userXproduct_fea['user_product'] = products_prior_orders['user_product'].unique() \n",
    "userXproduct_fea = userXproduct_fea[['user_product']].sort_values('user_product')"
   ]
  },
  {
   "cell_type": "markdown",
   "metadata": {},
   "source": [
    "#### userXproduct(order_id):nunique"
   ]
  },
  {
   "cell_type": "code",
   "execution_count": 79,
   "metadata": {},
   "outputs": [
    {
     "data": {
      "text/html": [
       "<div>\n",
       "<style scoped>\n",
       "    .dataframe tbody tr th:only-of-type {\n",
       "        vertical-align: middle;\n",
       "    }\n",
       "\n",
       "    .dataframe tbody tr th {\n",
       "        vertical-align: top;\n",
       "    }\n",
       "\n",
       "    .dataframe thead th {\n",
       "        text-align: right;\n",
       "    }\n",
       "</style>\n",
       "<table border=\"1\" class=\"dataframe\">\n",
       "  <thead>\n",
       "    <tr style=\"text-align: right;\">\n",
       "      <th></th>\n",
       "      <th>user_product</th>\n",
       "    </tr>\n",
       "  </thead>\n",
       "  <tbody>\n",
       "    <tr>\n",
       "      <th>3105781</th>\n",
       "      <td>100196</td>\n",
       "    </tr>\n",
       "    <tr>\n",
       "      <th>3105783</th>\n",
       "      <td>110258</td>\n",
       "    </tr>\n",
       "    <tr>\n",
       "      <th>3105785</th>\n",
       "      <td>110326</td>\n",
       "    </tr>\n",
       "    <tr>\n",
       "      <th>3105782</th>\n",
       "      <td>112427</td>\n",
       "    </tr>\n",
       "    <tr>\n",
       "      <th>3767345</th>\n",
       "      <td>113032</td>\n",
       "    </tr>\n",
       "  </tbody>\n",
       "</table>\n",
       "</div>"
      ],
      "text/plain": [
       "         user_product\n",
       "3105781        100196\n",
       "3105783        110258\n",
       "3105785        110326\n",
       "3105782        112427\n",
       "3767345        113032"
      ]
     },
     "execution_count": 79,
     "metadata": {},
     "output_type": "execute_result"
    }
   ],
   "source": [
    "userXproduct_fea.head()"
   ]
  },
  {
   "cell_type": "code",
   "execution_count": 80,
   "metadata": {},
   "outputs": [],
   "source": [
    "userXproduct_fea['UP_order_nunique'] = products_prior_orders.groupby('user_product')['order_id'].nunique().sort_index().values "
   ]
  },
  {
   "cell_type": "markdown",
   "metadata": {},
   "source": [
    "#### userXproduct(add_to_cart_order):mean,std,mode_1"
   ]
  },
  {
   "cell_type": "code",
   "execution_count": 81,
   "metadata": {},
   "outputs": [],
   "source": [
    "userXproduct_fea['UP_add_to_cart_order_mean'] = products_prior_orders.groupby('user_product')['add_to_cart_order'].mean().sort_index().values \n",
    "userXproduct_fea['UP_add_to_cart_order_std'] = products_prior_orders.groupby('user_product')['add_to_cart_order'].std().sort_index().values \n",
    "userXproduct_fea['UP_add_to_cart_order_model_1'] = products_prior_orders.groupby('user_product')['add_to_cart_order'].apply(lambda x: np.bincount(x).argmax()).sort_index().values "
   ]
  },
  {
   "cell_type": "markdown",
   "metadata": {},
   "source": [
    "#### userXproduct(order_dow):mode_1"
   ]
  },
  {
   "cell_type": "code",
   "execution_count": 83,
   "metadata": {},
   "outputs": [],
   "source": [
    "userXproduct_fea['UP_order_dow_mode_1'] = products_prior_orders.groupby('user_product')['order_dow'].apply(lambda x: np.bincount(x).argmax()).sort_index().values "
   ]
  },
  {
   "cell_type": "markdown",
   "metadata": {},
   "source": [
    "#### userXproduct(days_since_prior_order):mean,max,min"
   ]
  },
  {
   "cell_type": "code",
   "execution_count": 85,
   "metadata": {},
   "outputs": [],
   "source": [
    "userXproduct_fea['UP_days_since_prior_order_mean'] = products_prior_orders.groupby('user_product')['days_since_prior_order'].mean().sort_index().values \n",
    "userXproduct_fea['UP_days_since_prior_order_max'] = products_prior_orders.groupby('user_product')['days_since_prior_order'].max().sort_index().values \n",
    "userXproduct_fea['UP_days_since_prior_order_min'] = products_prior_orders.groupby('user_product')['days_since_prior_order'].min().sort_index().values \n",
    "userXproduct_fea['UP_days_since_prior_order_std'] = products_prior_orders.groupby('user_product')['days_since_prior_order'].std().sort_index().values "
   ]
  },
  {
   "cell_type": "markdown",
   "metadata": {},
   "source": [
    "#### userXproduct(days_since_prior_order_diff):mean,max  "
   ]
  },
  {
   "cell_type": "code",
   "execution_count": 86,
   "metadata": {},
   "outputs": [],
   "source": [
    "userXproduct_fea['UP_days_since_prior_order_diff_mean'] = products_prior_orders.groupby('user_product')['days_since_prior_order_diff'].mean().sort_index().values \n",
    "userXproduct_fea['UP_days_since_prior_order_diff_max'] = products_prior_orders.groupby('user_product')['days_since_prior_order_diff'].max().sort_index().values  "
   ]
  },
  {
   "cell_type": "markdown",
   "metadata": {},
   "source": [
    "#### userXproduct(order_number):max,min,max-min"
   ]
  },
  {
   "cell_type": "code",
   "execution_count": 87,
   "metadata": {},
   "outputs": [],
   "source": [
    "userXproduct_fea['UP_last_order'] = products_prior_orders.groupby('user_product')['order_number'].max().sort_index().values \n",
    "userXproduct_fea['UP_first_order'] = products_prior_orders.groupby('user_product')['order_number'].min().sort_index().values \n",
    "userXproduct_fea['UP_first_to_last_order'] = userXproduct_fea['UP_last_order'].values - userXproduct_fea['UP_first_order'].values "
   ]
  },
  {
   "cell_type": "markdown",
   "metadata": {},
   "source": [
    "#### userXproduct(order_number):2nd_max,2nd_min,max-2nd_max, 2nd_min - min"
   ]
  },
  {
   "cell_type": "code",
   "execution_count": 88,
   "metadata": {},
   "outputs": [],
   "source": [
    "UP_order_max = products_prior_orders.groupby('user_product')['order_number'].max().to_dict()\n",
    "products_prior_orders['order_max'] = products_prior_orders['user_product'].apply(lambda x:UP_order_max[x])\n",
    "\n",
    "UP_order_min = products_prior_orders.groupby('user_product')['order_number'].min().to_dict()\n",
    "products_prior_orders['order_min'] = products_prior_orders['user_product'].apply(lambda x:UP_order_min[x])"
   ]
  },
  {
   "cell_type": "markdown",
   "metadata": {},
   "source": [
    "####  product_strike特征,userXproduct(product_strike):sum,max "
   ]
  },
  {
   "cell_type": "code",
   "execution_count": 89,
   "metadata": {},
   "outputs": [
    {
     "name": "stderr",
     "output_type": "stream",
     "text": [
      "/opt/conda/envs/zjpy36/lib/python3.6/site-packages/ipykernel_launcher.py:1: RuntimeWarning: divide by zero encountered in true_divide\n",
      "  \"\"\"Entry point for launching an IPython kernel.\n"
     ]
    }
   ],
   "source": [
    "products_prior_orders['product_strike'] = 1.0 / 2 **(products_prior_orders['order_number_desc'].values -1)"
   ]
  },
  {
   "cell_type": "code",
   "execution_count": 91,
   "metadata": {},
   "outputs": [],
   "source": [
    "userXproduct_fea['UP_strike_sum'] = products_prior_orders.groupby('user_product')['product_strike'].sum().sort_index().values \n",
    "userXproduct_fea['UP_strike_max'] = products_prior_orders.groupby('user_product')['product_strike'].max().sort_index().values   "
   ]
  },
  {
   "cell_type": "markdown",
   "metadata": {},
   "source": [
    "#### product_date_strike特征,userXproduct(product_date_strike):sum,max"
   ]
  },
  {
   "cell_type": "code",
   "execution_count": 93,
   "metadata": {},
   "outputs": [],
   "source": [
    "products_prior_orders['days_since_first_order_desc'] = products_prior_orders.groupby('user_product')['days_since_first_order'].transform('max').values\n",
    "products_prior_orders['days_since_first_order_desc'] = products_prior_orders['days_since_first_order_desc'].values - products_prior_orders['days_since_first_order'].values "
   ]
  },
  {
   "cell_type": "code",
   "execution_count": 97,
   "metadata": {
    "scrolled": true
   },
   "outputs": [],
   "source": [
    "products_prior_orders['product_date_strike'] = 1.0 / 2 **(products_prior_orders['days_since_first_order_desc'].fillna(0).values / 7) "
   ]
  },
  {
   "cell_type": "code",
   "execution_count": 98,
   "metadata": {},
   "outputs": [],
   "source": [
    "userXproduct_fea['UP_date_strike_sum'] = products_prior_orders.groupby('user_product')['product_date_strike'].sum().sort_index().values \n",
    "userXproduct_fea['UP_date_strike_max'] = products_prior_orders.groupby('user_product')['product_date_strike'].max().sort_index().values   "
   ]
  },
  {
   "cell_type": "code",
   "execution_count": null,
   "metadata": {},
   "outputs": [],
   "source": [
    "userXproduct_fea['UP_last_order'] = products_prior_orders.groupby('user_product')['order_number'].max().sort_index().values \n",
    "userXproduct_fea['UP_first_order'] = products_prior_orders.groupby('user_product')['order_number'].min().sort_index().values \n",
    "userXproduct_fea['UP_first_to_last_order'] = userXproduct_fea['UP_last_order'].values - userXproduct_fea['UP_first_order'].values "
   ]
  },
  {
   "cell_type": "code",
   "execution_count": 99,
   "metadata": {},
   "outputs": [],
   "source": [
    "def trans(dic,x):\n",
    "    try:\n",
    "        return dic[x]\n",
    "    except:\n",
    "        return np.nan"
   ]
  },
  {
   "cell_type": "code",
   "execution_count": 100,
   "metadata": {},
   "outputs": [],
   "source": [
    "tmp = products_prior_orders.loc[products_prior_orders.order_number != products_prior_orders.order_max]\n",
    "tmp_dic = tmp.groupby('user_product')['order_number'].max().to_dict()\n",
    "userXproduct_fea['UP_last_second_order'] = userXproduct_fea['user_product'].apply(lambda x: trans(tmp_dic,x))"
   ]
  },
  {
   "cell_type": "code",
   "execution_count": 101,
   "metadata": {
    "scrolled": true
   },
   "outputs": [
    {
     "data": {
      "text/plain": [
       "540"
      ]
     },
     "execution_count": 101,
     "metadata": {},
     "output_type": "execute_result"
    }
   ],
   "source": [
    "tmp = products_prior_orders.loc[products_prior_orders.order_number != products_prior_orders.order_min]\n",
    "tmp_dic = tmp.groupby('user_product')['order_number'].min().to_dict()\n",
    "userXproduct_fea['UP_first_second_order'] = userXproduct_fea['user_product'].apply(lambda x: trans(tmp_dic,x))  \n",
    "\n",
    "del tmp_dic\n",
    "gc.collect()"
   ]
  },
  {
   "cell_type": "code",
   "execution_count": 102,
   "metadata": {},
   "outputs": [],
   "source": [
    "userXproduct_fea['UP_last_first_second_diff'] = userXproduct_fea['UP_last_order'].values - userXproduct_fea['UP_last_second_order'].values \n",
    "userXproduct_fea['UP_first_second_first_diff'] = userXproduct_fea['UP_first_second_order'].values - userXproduct_fea['UP_first_order'].values "
   ]
  },
  {
   "cell_type": "code",
   "execution_count": 103,
   "metadata": {},
   "outputs": [],
   "source": [
    "userXproduct_fea['UP__percentage_from_first_to_last_order'] = userXproduct_fea['UP_order_nunique'].values / (userXproduct_fea['UP_first_to_last_order'].values + 0.01)"
   ]
  },
  {
   "cell_type": "code",
   "execution_count": 104,
   "metadata": {},
   "outputs": [
    {
     "data": {
      "text/plain": [
       "28"
      ]
     },
     "execution_count": 104,
     "metadata": {},
     "output_type": "execute_result"
    }
   ],
   "source": [
    "del products_prior_orders['order_max']\n",
    "del products_prior_orders['order_min']\n",
    "gc.collect()"
   ]
  },
  {
   "cell_type": "code",
   "execution_count": 105,
   "metadata": {},
   "outputs": [
    {
     "data": {
      "text/html": [
       "<div>\n",
       "<style scoped>\n",
       "    .dataframe tbody tr th:only-of-type {\n",
       "        vertical-align: middle;\n",
       "    }\n",
       "\n",
       "    .dataframe tbody tr th {\n",
       "        vertical-align: top;\n",
       "    }\n",
       "\n",
       "    .dataframe thead th {\n",
       "        text-align: right;\n",
       "    }\n",
       "</style>\n",
       "<table border=\"1\" class=\"dataframe\">\n",
       "  <thead>\n",
       "    <tr style=\"text-align: right;\">\n",
       "      <th></th>\n",
       "      <th>order_id</th>\n",
       "      <th>product_id</th>\n",
       "      <th>add_to_cart_order</th>\n",
       "      <th>reordered</th>\n",
       "      <th>user_id</th>\n",
       "      <th>order_number</th>\n",
       "      <th>order_dow</th>\n",
       "      <th>order_hour_of_day</th>\n",
       "      <th>days_since_prior_order</th>\n",
       "      <th>order_dow_hod</th>\n",
       "      <th>days_since_first_order</th>\n",
       "      <th>days_since_prior_order_diff</th>\n",
       "      <th>order_number_desc</th>\n",
       "      <th>aisle_id</th>\n",
       "      <th>department_id</th>\n",
       "      <th>user_product</th>\n",
       "      <th>product_strike</th>\n",
       "      <th>days_since_first_order_desc</th>\n",
       "      <th>product_date_strike</th>\n",
       "    </tr>\n",
       "  </thead>\n",
       "  <tbody>\n",
       "    <tr>\n",
       "      <th>0</th>\n",
       "      <td>2</td>\n",
       "      <td>33120</td>\n",
       "      <td>1</td>\n",
       "      <td>1</td>\n",
       "      <td>202279</td>\n",
       "      <td>3</td>\n",
       "      <td>5</td>\n",
       "      <td>9</td>\n",
       "      <td>8.0</td>\n",
       "      <td>134</td>\n",
       "      <td>28.0</td>\n",
       "      <td>-12.0</td>\n",
       "      <td>6</td>\n",
       "      <td>86</td>\n",
       "      <td>16</td>\n",
       "      <td>20227933120</td>\n",
       "      <td>0.03125</td>\n",
       "      <td>123.0</td>\n",
       "      <td>0.000005</td>\n",
       "    </tr>\n",
       "    <tr>\n",
       "      <th>1</th>\n",
       "      <td>2</td>\n",
       "      <td>28985</td>\n",
       "      <td>2</td>\n",
       "      <td>1</td>\n",
       "      <td>202279</td>\n",
       "      <td>3</td>\n",
       "      <td>5</td>\n",
       "      <td>9</td>\n",
       "      <td>8.0</td>\n",
       "      <td>134</td>\n",
       "      <td>28.0</td>\n",
       "      <td>-12.0</td>\n",
       "      <td>6</td>\n",
       "      <td>83</td>\n",
       "      <td>4</td>\n",
       "      <td>20227928985</td>\n",
       "      <td>0.03125</td>\n",
       "      <td>69.0</td>\n",
       "      <td>0.001078</td>\n",
       "    </tr>\n",
       "    <tr>\n",
       "      <th>2</th>\n",
       "      <td>2</td>\n",
       "      <td>9327</td>\n",
       "      <td>3</td>\n",
       "      <td>0</td>\n",
       "      <td>202279</td>\n",
       "      <td>3</td>\n",
       "      <td>5</td>\n",
       "      <td>9</td>\n",
       "      <td>8.0</td>\n",
       "      <td>134</td>\n",
       "      <td>28.0</td>\n",
       "      <td>-12.0</td>\n",
       "      <td>6</td>\n",
       "      <td>104</td>\n",
       "      <td>13</td>\n",
       "      <td>20227909327</td>\n",
       "      <td>0.03125</td>\n",
       "      <td>0.0</td>\n",
       "      <td>1.000000</td>\n",
       "    </tr>\n",
       "    <tr>\n",
       "      <th>3</th>\n",
       "      <td>2</td>\n",
       "      <td>45918</td>\n",
       "      <td>4</td>\n",
       "      <td>1</td>\n",
       "      <td>202279</td>\n",
       "      <td>3</td>\n",
       "      <td>5</td>\n",
       "      <td>9</td>\n",
       "      <td>8.0</td>\n",
       "      <td>134</td>\n",
       "      <td>28.0</td>\n",
       "      <td>-12.0</td>\n",
       "      <td>6</td>\n",
       "      <td>19</td>\n",
       "      <td>13</td>\n",
       "      <td>20227945918</td>\n",
       "      <td>0.03125</td>\n",
       "      <td>93.0</td>\n",
       "      <td>0.000100</td>\n",
       "    </tr>\n",
       "    <tr>\n",
       "      <th>4</th>\n",
       "      <td>2</td>\n",
       "      <td>30035</td>\n",
       "      <td>5</td>\n",
       "      <td>0</td>\n",
       "      <td>202279</td>\n",
       "      <td>3</td>\n",
       "      <td>5</td>\n",
       "      <td>9</td>\n",
       "      <td>8.0</td>\n",
       "      <td>134</td>\n",
       "      <td>28.0</td>\n",
       "      <td>-12.0</td>\n",
       "      <td>6</td>\n",
       "      <td>17</td>\n",
       "      <td>13</td>\n",
       "      <td>20227930035</td>\n",
       "      <td>0.03125</td>\n",
       "      <td>93.0</td>\n",
       "      <td>0.000100</td>\n",
       "    </tr>\n",
       "  </tbody>\n",
       "</table>\n",
       "</div>"
      ],
      "text/plain": [
       "   order_id  product_id  add_to_cart_order  reordered  user_id  order_number  \\\n",
       "0         2       33120                  1          1   202279             3   \n",
       "1         2       28985                  2          1   202279             3   \n",
       "2         2        9327                  3          0   202279             3   \n",
       "3         2       45918                  4          1   202279             3   \n",
       "4         2       30035                  5          0   202279             3   \n",
       "\n",
       "   order_dow  order_hour_of_day  days_since_prior_order  order_dow_hod  \\\n",
       "0          5                  9                     8.0            134   \n",
       "1          5                  9                     8.0            134   \n",
       "2          5                  9                     8.0            134   \n",
       "3          5                  9                     8.0            134   \n",
       "4          5                  9                     8.0            134   \n",
       "\n",
       "   days_since_first_order  days_since_prior_order_diff  order_number_desc  \\\n",
       "0                    28.0                        -12.0                  6   \n",
       "1                    28.0                        -12.0                  6   \n",
       "2                    28.0                        -12.0                  6   \n",
       "3                    28.0                        -12.0                  6   \n",
       "4                    28.0                        -12.0                  6   \n",
       "\n",
       "   aisle_id  department_id  user_product  product_strike  \\\n",
       "0        86             16   20227933120         0.03125   \n",
       "1        83              4   20227928985         0.03125   \n",
       "2       104             13   20227909327         0.03125   \n",
       "3        19             13   20227945918         0.03125   \n",
       "4        17             13   20227930035         0.03125   \n",
       "\n",
       "   days_since_first_order_desc  product_date_strike  \n",
       "0                        123.0             0.000005  \n",
       "1                         69.0             0.001078  \n",
       "2                          0.0             1.000000  \n",
       "3                         93.0             0.000100  \n",
       "4                         93.0             0.000100  "
      ]
     },
     "execution_count": 105,
     "metadata": {},
     "output_type": "execute_result"
    }
   ],
   "source": [
    "products_prior_orders.head()"
   ]
  },
  {
   "cell_type": "markdown",
   "metadata": {},
   "source": [
    "#### userXproduct(reorder = 1,product_nunique) & userXproduct(reorder = 1,product_id):nunique / userXproduct(reorder = 0,product_id):nunique  \n",
    "\n",
    "注意reordered = 0 & reorder = 1这种细节"
   ]
  },
  {
   "cell_type": "code",
   "execution_count": 106,
   "metadata": {},
   "outputs": [],
   "source": [
    "tmp_1 = products_prior_orders.loc[products_prior_orders.reordered == 1]\n",
    "tmp_0 = products_prior_orders.loc[products_prior_orders.reordered == 0]"
   ]
  },
  {
   "cell_type": "code",
   "execution_count": 107,
   "metadata": {
    "scrolled": true
   },
   "outputs": [],
   "source": [
    "user_product_reordered_nunique = tmp_1.groupby('user_product')['order_id'].nunique().reset_index()\n",
    "user_product_reordered_nunique.columns = ['user_product','UP_reordered_orderid_nuniuqe']\n",
    "userXproduct_fea = userXproduct_fea.merge(user_product_reordered_nunique, on='user_product', how='left')\n",
    "## 根据特征重要性进行删除 ##\n",
    "# userXproduct_fea['UP_order_reordered_rate'] = userXproduct_fea['UP_reordered_orderid_nuniuqe'] / userXproduct_fea['UP_order_nunique']"
   ]
  },
  {
   "cell_type": "markdown",
   "metadata": {},
   "source": [
    "### 局部特征:从orders + order_products_prior合并的表格中进行提取,顺带将product_id也拼接进来 "
   ]
  },
  {
   "cell_type": "code",
   "execution_count": 108,
   "metadata": {},
   "outputs": [],
   "source": [
    "products_prior_orders_last_3= products_prior_orders.loc[products_prior_orders.order_number_desc <4 ].copy()"
   ]
  },
  {
   "cell_type": "markdown",
   "metadata": {},
   "source": [
    "####  userXproduct(order_id):count  "
   ]
  },
  {
   "cell_type": "code",
   "execution_count": 109,
   "metadata": {},
   "outputs": [],
   "source": [
    "tmp = products_prior_orders_last_3.groupby('user_product')['order_id'].count().reset_index()\n",
    "tmp.columns = ['user_product','last_3_user_product_order_count']"
   ]
  },
  {
   "cell_type": "code",
   "execution_count": 111,
   "metadata": {},
   "outputs": [],
   "source": [
    "userXproduct_fea = userXproduct_fea.merge(tmp, on='user_product', how='left')\n",
    "userXproduct_fea['last_3_user_product_order_count'] = userXproduct_fea['last_3_user_product_order_count'].fillna(0)"
   ]
  },
  {
   "cell_type": "markdown",
   "metadata": {},
   "source": [
    "####  userXproduct(reordered):sum, rate  "
   ]
  },
  {
   "cell_type": "code",
   "execution_count": 113,
   "metadata": {},
   "outputs": [],
   "source": [
    "tmp = products_prior_orders_last_3.groupby('user_product')['reordered'].sum().reset_index()\n",
    "tmp.columns = ['user_product','last_3_user_product_reordered_sum']"
   ]
  },
  {
   "cell_type": "code",
   "execution_count": 114,
   "metadata": {},
   "outputs": [],
   "source": [
    "userXproduct_fea = userXproduct_fea.merge(tmp, on='user_product', how='left')\n",
    "userXproduct_fea['last_3_user_product_order_reordered_rate'] = userXproduct_fea['last_3_user_product_reordered_sum'].fillna(0).values / (userXproduct_fea['last_3_user_product_order_count'].fillna(0).values + 0.01)"
   ]
  },
  {
   "cell_type": "code",
   "execution_count": 116,
   "metadata": {},
   "outputs": [],
   "source": [
    "userXproduct_fea.to_csv('/data/Inscart/middle_features/user_product_second_fea.csv',index = None)"
   ]
  },
  {
   "cell_type": "markdown",
   "metadata": {},
   "source": [
    "## 用户Aisle交叉特征：User_X_Aisle\n",
    "因为该特征是辅助特征,所以我们仅仅提取部分我们认为相对重要的特征。\n",
    "\n",
    "### 全局特征:从orders + order_products_prior合并的表格中进行提取,顺带将product_id也拼接进来"
   ]
  },
  {
   "cell_type": "code",
   "execution_count": 117,
   "metadata": {
    "scrolled": true
   },
   "outputs": [],
   "source": [
    "products_prior_orders['user_aisle'] = products_prior_orders['user_id'].values * 10**5 + products_prior_orders['aisle_id'].values\n",
    "\n",
    "userXaisle_fea = pd.DataFrame()\n",
    "userXaisle_fea['user_aisle'] = products_prior_orders['user_aisle'].unique() \n",
    "userXaisle_fea = userXaisle_fea[['user_aisle']].sort_values('user_aisle')"
   ]
  },
  {
   "cell_type": "markdown",
   "metadata": {},
   "source": [
    "#### user_aisle(order_id):nunique,count"
   ]
  },
  {
   "cell_type": "code",
   "execution_count": 118,
   "metadata": {},
   "outputs": [],
   "source": [
    "userXaisle_fea['UA_order_nunique'] = products_prior_orders.groupby('user_aisle')['order_id'].nunique().sort_index().values\n",
    "userXaisle_fea['UA_order_count']   = products_prior_orders.groupby('user_aisle')['order_id'].count().sort_index().values"
   ]
  },
  {
   "cell_type": "markdown",
   "metadata": {},
   "source": [
    "#### user_aisle(product_id):nunique"
   ]
  },
  {
   "cell_type": "code",
   "execution_count": 119,
   "metadata": {},
   "outputs": [],
   "source": [
    "userXaisle_fea['UA_product_nunique'] = products_prior_orders.groupby('user_aisle')['product_id'].nunique().sort_index().values"
   ]
  },
  {
   "cell_type": "markdown",
   "metadata": {},
   "source": [
    "#### user_aisle(reordered):sum"
   ]
  },
  {
   "cell_type": "code",
   "execution_count": 120,
   "metadata": {},
   "outputs": [],
   "source": [
    "userXaisle_fea['UA_reordered_sum'] = products_prior_orders.groupby('user_aisle')['reordered'].sum().sort_index().values"
   ]
  },
  {
   "cell_type": "markdown",
   "metadata": {},
   "source": [
    "####  user_aisle(days_since_prior_order):mean,std,max "
   ]
  },
  {
   "cell_type": "code",
   "execution_count": 121,
   "metadata": {
    "scrolled": true
   },
   "outputs": [],
   "source": [
    "userXaisle_fea['UA_days_since_prior_order_mean'] = products_prior_orders.groupby('user_aisle')['days_since_prior_order'].mean().sort_index().values\n",
    "userXaisle_fea['UA_days_since_prior_order_std'] = products_prior_orders.groupby('user_aisle')['days_since_prior_order'].std().sort_index().values\n",
    "userXaisle_fea['UA_days_since_prior_order_max'] = products_prior_orders.groupby('user_aisle')['days_since_prior_order'].max().sort_index().values"
   ]
  },
  {
   "cell_type": "code",
   "execution_count": 124,
   "metadata": {},
   "outputs": [],
   "source": [
    "userXaisle_fea.to_csv('/data/Inscart/middle_features/user_aisle_second_fea.csv',index = None)"
   ]
  },
  {
   "cell_type": "markdown",
   "metadata": {},
   "source": [
    "## 用户Department交叉特征：User_X_Department\n",
    "因为该特征是辅助特征,所以我们仅仅提取部分我们认为相对重要的特征。\n",
    "\n",
    "###  全局特征:从orders + order_products_prior合并的表格中进行提取,顺带将product_id也拼接进来"
   ]
  },
  {
   "cell_type": "code",
   "execution_count": 125,
   "metadata": {},
   "outputs": [],
   "source": [
    "products_prior_orders['user_department'] = products_prior_orders['user_id'].values * 10**5 + products_prior_orders['department_id'].values\n",
    "\n",
    "userXdepartment_fea = pd.DataFrame()\n",
    "userXdepartment_fea['user_department'] = products_prior_orders['user_department'].unique() \n",
    "userXdepartment_fea = userXdepartment_fea[['user_department']].sort_values('user_department')"
   ]
  },
  {
   "cell_type": "markdown",
   "metadata": {},
   "source": [
    "#### user_department(order_id):nunique,count"
   ]
  },
  {
   "cell_type": "code",
   "execution_count": 126,
   "metadata": {},
   "outputs": [],
   "source": [
    "userXdepartment_fea['UD_order_nunique'] = products_prior_orders.groupby('user_department')['order_id'].nunique().sort_index().values\n",
    "userXdepartment_fea['UD_order_count']   = products_prior_orders.groupby('user_department')['order_id'].count().sort_index().values"
   ]
  },
  {
   "cell_type": "markdown",
   "metadata": {},
   "source": [
    "#### user_department(product_id):nunique"
   ]
  },
  {
   "cell_type": "code",
   "execution_count": 127,
   "metadata": {},
   "outputs": [],
   "source": [
    "userXdepartment_fea['UD_product_nunique'] = products_prior_orders.groupby('user_department')['product_id'].nunique().sort_index().values"
   ]
  },
  {
   "cell_type": "markdown",
   "metadata": {},
   "source": [
    "#### user_department(reordered):sum"
   ]
  },
  {
   "cell_type": "code",
   "execution_count": 128,
   "metadata": {},
   "outputs": [],
   "source": [
    "userXdepartment_fea['UD_reordered_sum'] = products_prior_orders.groupby('user_department')['reordered'].sum().sort_index().values"
   ]
  },
  {
   "cell_type": "markdown",
   "metadata": {},
   "source": [
    "#### user_department(days_since_prior_order):mean,std,max"
   ]
  },
  {
   "cell_type": "code",
   "execution_count": 129,
   "metadata": {},
   "outputs": [],
   "source": [
    "userXdepartment_fea['UD_days_since_prior_order_mean'] = products_prior_orders.groupby('user_department')['days_since_prior_order'].mean().sort_index().values\n",
    "userXdepartment_fea['UD_days_since_prior_order_std'] = products_prior_orders.groupby('user_department')['days_since_prior_order'].std().sort_index().values\n",
    "userXdepartment_fea['UD_days_since_prior_order_max'] = products_prior_orders.groupby('user_department')['days_since_prior_order'].max().sort_index().values"
   ]
  },
  {
   "cell_type": "code",
   "execution_count": 130,
   "metadata": {},
   "outputs": [],
   "source": [
    "userXdepartment_fea.to_csv('/data/Inscart/middle_features/user_department_second_fea.csv',index = None)"
   ]
  },
  {
   "cell_type": "markdown",
   "metadata": {},
   "source": [
    "## 用户hod交叉特征：User_X_hod\n",
    "因为该特征是辅助特征,所以我们仅仅提取部分我们认为相对重要的特征。\n",
    "\n",
    "###  全局特征:从orders + order_products_prior合并的表格中进行提取,顺带将product_id也拼接进来"
   ]
  },
  {
   "cell_type": "code",
   "execution_count": 131,
   "metadata": {
    "scrolled": true
   },
   "outputs": [],
   "source": [
    "products_prior_orders['user_hod'] = products_prior_orders['user_id'].values * 10**5 + products_prior_orders['order_hour_of_day'].values\n",
    "\n",
    "userXhod_fea = pd.DataFrame()\n",
    "userXhod_fea['user_hod'] = products_prior_orders['user_hod'].unique() \n",
    "userXhod_fea = userXhod_fea[['user_hod']].sort_values('user_hod')"
   ]
  },
  {
   "cell_type": "code",
   "execution_count": 132,
   "metadata": {
    "scrolled": true
   },
   "outputs": [
    {
     "data": {
      "text/html": [
       "<div>\n",
       "<style scoped>\n",
       "    .dataframe tbody tr th:only-of-type {\n",
       "        vertical-align: middle;\n",
       "    }\n",
       "\n",
       "    .dataframe tbody tr th {\n",
       "        vertical-align: top;\n",
       "    }\n",
       "\n",
       "    .dataframe thead th {\n",
       "        text-align: right;\n",
       "    }\n",
       "</style>\n",
       "<table border=\"1\" class=\"dataframe\">\n",
       "  <thead>\n",
       "    <tr style=\"text-align: right;\">\n",
       "      <th></th>\n",
       "      <th>order_id</th>\n",
       "      <th>product_id</th>\n",
       "      <th>add_to_cart_order</th>\n",
       "      <th>reordered</th>\n",
       "      <th>user_id</th>\n",
       "      <th>order_number</th>\n",
       "      <th>order_dow</th>\n",
       "      <th>order_hour_of_day</th>\n",
       "      <th>days_since_prior_order</th>\n",
       "      <th>order_dow_hod</th>\n",
       "      <th>...</th>\n",
       "      <th>order_number_desc</th>\n",
       "      <th>aisle_id</th>\n",
       "      <th>department_id</th>\n",
       "      <th>user_product</th>\n",
       "      <th>product_strike</th>\n",
       "      <th>days_since_first_order_desc</th>\n",
       "      <th>product_date_strike</th>\n",
       "      <th>user_aisle</th>\n",
       "      <th>user_department</th>\n",
       "      <th>user_hod</th>\n",
       "    </tr>\n",
       "  </thead>\n",
       "  <tbody>\n",
       "    <tr>\n",
       "      <th>0</th>\n",
       "      <td>2</td>\n",
       "      <td>33120</td>\n",
       "      <td>1</td>\n",
       "      <td>1</td>\n",
       "      <td>202279</td>\n",
       "      <td>3</td>\n",
       "      <td>5</td>\n",
       "      <td>9</td>\n",
       "      <td>8.0</td>\n",
       "      <td>134</td>\n",
       "      <td>...</td>\n",
       "      <td>6</td>\n",
       "      <td>86</td>\n",
       "      <td>16</td>\n",
       "      <td>20227933120</td>\n",
       "      <td>0.03125</td>\n",
       "      <td>123.0</td>\n",
       "      <td>0.000005</td>\n",
       "      <td>20227900086</td>\n",
       "      <td>20227900016</td>\n",
       "      <td>20227900009</td>\n",
       "    </tr>\n",
       "    <tr>\n",
       "      <th>1</th>\n",
       "      <td>2</td>\n",
       "      <td>28985</td>\n",
       "      <td>2</td>\n",
       "      <td>1</td>\n",
       "      <td>202279</td>\n",
       "      <td>3</td>\n",
       "      <td>5</td>\n",
       "      <td>9</td>\n",
       "      <td>8.0</td>\n",
       "      <td>134</td>\n",
       "      <td>...</td>\n",
       "      <td>6</td>\n",
       "      <td>83</td>\n",
       "      <td>4</td>\n",
       "      <td>20227928985</td>\n",
       "      <td>0.03125</td>\n",
       "      <td>69.0</td>\n",
       "      <td>0.001078</td>\n",
       "      <td>20227900083</td>\n",
       "      <td>20227900004</td>\n",
       "      <td>20227900009</td>\n",
       "    </tr>\n",
       "    <tr>\n",
       "      <th>2</th>\n",
       "      <td>2</td>\n",
       "      <td>9327</td>\n",
       "      <td>3</td>\n",
       "      <td>0</td>\n",
       "      <td>202279</td>\n",
       "      <td>3</td>\n",
       "      <td>5</td>\n",
       "      <td>9</td>\n",
       "      <td>8.0</td>\n",
       "      <td>134</td>\n",
       "      <td>...</td>\n",
       "      <td>6</td>\n",
       "      <td>104</td>\n",
       "      <td>13</td>\n",
       "      <td>20227909327</td>\n",
       "      <td>0.03125</td>\n",
       "      <td>0.0</td>\n",
       "      <td>1.000000</td>\n",
       "      <td>20227900104</td>\n",
       "      <td>20227900013</td>\n",
       "      <td>20227900009</td>\n",
       "    </tr>\n",
       "    <tr>\n",
       "      <th>3</th>\n",
       "      <td>2</td>\n",
       "      <td>45918</td>\n",
       "      <td>4</td>\n",
       "      <td>1</td>\n",
       "      <td>202279</td>\n",
       "      <td>3</td>\n",
       "      <td>5</td>\n",
       "      <td>9</td>\n",
       "      <td>8.0</td>\n",
       "      <td>134</td>\n",
       "      <td>...</td>\n",
       "      <td>6</td>\n",
       "      <td>19</td>\n",
       "      <td>13</td>\n",
       "      <td>20227945918</td>\n",
       "      <td>0.03125</td>\n",
       "      <td>93.0</td>\n",
       "      <td>0.000100</td>\n",
       "      <td>20227900019</td>\n",
       "      <td>20227900013</td>\n",
       "      <td>20227900009</td>\n",
       "    </tr>\n",
       "    <tr>\n",
       "      <th>4</th>\n",
       "      <td>2</td>\n",
       "      <td>30035</td>\n",
       "      <td>5</td>\n",
       "      <td>0</td>\n",
       "      <td>202279</td>\n",
       "      <td>3</td>\n",
       "      <td>5</td>\n",
       "      <td>9</td>\n",
       "      <td>8.0</td>\n",
       "      <td>134</td>\n",
       "      <td>...</td>\n",
       "      <td>6</td>\n",
       "      <td>17</td>\n",
       "      <td>13</td>\n",
       "      <td>20227930035</td>\n",
       "      <td>0.03125</td>\n",
       "      <td>93.0</td>\n",
       "      <td>0.000100</td>\n",
       "      <td>20227900017</td>\n",
       "      <td>20227900013</td>\n",
       "      <td>20227900009</td>\n",
       "    </tr>\n",
       "  </tbody>\n",
       "</table>\n",
       "<p>5 rows × 22 columns</p>\n",
       "</div>"
      ],
      "text/plain": [
       "   order_id  product_id  add_to_cart_order  reordered  user_id  order_number  \\\n",
       "0         2       33120                  1          1   202279             3   \n",
       "1         2       28985                  2          1   202279             3   \n",
       "2         2        9327                  3          0   202279             3   \n",
       "3         2       45918                  4          1   202279             3   \n",
       "4         2       30035                  5          0   202279             3   \n",
       "\n",
       "   order_dow  order_hour_of_day  days_since_prior_order  order_dow_hod  \\\n",
       "0          5                  9                     8.0            134   \n",
       "1          5                  9                     8.0            134   \n",
       "2          5                  9                     8.0            134   \n",
       "3          5                  9                     8.0            134   \n",
       "4          5                  9                     8.0            134   \n",
       "\n",
       "      ...       order_number_desc  aisle_id  department_id  user_product  \\\n",
       "0     ...                       6        86             16   20227933120   \n",
       "1     ...                       6        83              4   20227928985   \n",
       "2     ...                       6       104             13   20227909327   \n",
       "3     ...                       6        19             13   20227945918   \n",
       "4     ...                       6        17             13   20227930035   \n",
       "\n",
       "   product_strike  days_since_first_order_desc  product_date_strike  \\\n",
       "0         0.03125                        123.0             0.000005   \n",
       "1         0.03125                         69.0             0.001078   \n",
       "2         0.03125                          0.0             1.000000   \n",
       "3         0.03125                         93.0             0.000100   \n",
       "4         0.03125                         93.0             0.000100   \n",
       "\n",
       "    user_aisle  user_department     user_hod  \n",
       "0  20227900086      20227900016  20227900009  \n",
       "1  20227900083      20227900004  20227900009  \n",
       "2  20227900104      20227900013  20227900009  \n",
       "3  20227900019      20227900013  20227900009  \n",
       "4  20227900017      20227900013  20227900009  \n",
       "\n",
       "[5 rows x 22 columns]"
      ]
     },
     "execution_count": 132,
     "metadata": {},
     "output_type": "execute_result"
    }
   ],
   "source": [
    "products_prior_orders.head()"
   ]
  },
  {
   "cell_type": "markdown",
   "metadata": {},
   "source": [
    "#### user_hod(order_id):nunique,count"
   ]
  },
  {
   "cell_type": "code",
   "execution_count": 133,
   "metadata": {},
   "outputs": [],
   "source": [
    "userXhod_fea['UH_order_count']   = products_prior_orders.groupby('user_hod')['order_id'].count().sort_index().values"
   ]
  },
  {
   "cell_type": "markdown",
   "metadata": {},
   "source": [
    "#### user_hod(product_id):nunique"
   ]
  },
  {
   "cell_type": "code",
   "execution_count": 134,
   "metadata": {},
   "outputs": [],
   "source": [
    "userXhod_fea['UH_product_nunique'] = products_prior_orders.groupby('user_hod')['product_id'].nunique().sort_index().values "
   ]
  },
  {
   "cell_type": "markdown",
   "metadata": {},
   "source": [
    "#### user_hod(add_to_cart_order):mean"
   ]
  },
  {
   "cell_type": "code",
   "execution_count": 135,
   "metadata": {},
   "outputs": [],
   "source": [
    "userXhod_fea['UH_add_to_cart_order_sum'] = products_prior_orders.groupby('user_hod')['add_to_cart_order'].mean().sort_index().values"
   ]
  },
  {
   "cell_type": "code",
   "execution_count": 136,
   "metadata": {},
   "outputs": [],
   "source": [
    "userXhod_fea.to_csv('/data/Inscart/middle_features/user_hod_second_fea.csv',index = None)"
   ]
  },
  {
   "cell_type": "markdown",
   "metadata": {},
   "source": [
    " ## 用户dow特征：User_X_dow\n",
    "因为该特征是辅助特征,所以我们仅仅提取部分我们认为相对重要的特征。\n",
    "\n",
    "###  全局特征:从orders + order_products_prior合并的表格中进行提取,顺带将product_id也拼接进来"
   ]
  },
  {
   "cell_type": "code",
   "execution_count": 137,
   "metadata": {},
   "outputs": [],
   "source": [
    "products_prior_orders['user_dow'] = products_prior_orders['user_id'].values * 10**5 + products_prior_orders['order_dow'].values\n",
    "\n",
    "userXdow_fea = pd.DataFrame()\n",
    "userXdow_fea['user_dow'] = products_prior_orders['user_dow'].unique() \n",
    "userXdow_fea = userXdow_fea[['user_dow']].sort_values('user_dow')"
   ]
  },
  {
   "cell_type": "markdown",
   "metadata": {},
   "source": [
    "#### user_dow(order_id): count"
   ]
  },
  {
   "cell_type": "code",
   "execution_count": 138,
   "metadata": {},
   "outputs": [],
   "source": [
    "userXdow_fea['UDW_order_count']   = products_prior_orders.groupby('user_dow')['order_id'].count().sort_index().values"
   ]
  },
  {
   "cell_type": "markdown",
   "metadata": {},
   "source": [
    "#### user_dow(product_id):nunique"
   ]
  },
  {
   "cell_type": "code",
   "execution_count": 139,
   "metadata": {},
   "outputs": [],
   "source": [
    "userXdow_fea['UDW_product_nunique'] = products_prior_orders.groupby('user_dow')['product_id'].nunique().sort_index().values "
   ]
  },
  {
   "cell_type": "markdown",
   "metadata": {},
   "source": [
    "#### user_dow(add_to_cart_order):mean"
   ]
  },
  {
   "cell_type": "code",
   "execution_count": 140,
   "metadata": {
    "scrolled": true
   },
   "outputs": [],
   "source": [
    "userXdow_fea['UDW_add_to_cart_order_mean'] = products_prior_orders.groupby('user_dow')['add_to_cart_order'].mean().sort_index().values"
   ]
  },
  {
   "cell_type": "code",
   "execution_count": 141,
   "metadata": {},
   "outputs": [],
   "source": [
    "userXdow_fea.to_csv('/data/Inscart/middle_features/user_dow_second_fea.csv',index = None)"
   ]
  },
  {
   "cell_type": "markdown",
   "metadata": {},
   "source": [
    "# 产品特征\n",
    " \n",
    "## 全局产品特征\n",
    "### 全局特征:从orders + order_products_prior合并的表格中进行提取,顺带将product_id也拼接进来"
   ]
  },
  {
   "cell_type": "code",
   "execution_count": 142,
   "metadata": {
    "scrolled": true
   },
   "outputs": [],
   "source": [
    "product_fea = pd.DataFrame()\n",
    "product_fea['product_id'] = products_prior_orders['product_id'].unique()\n",
    "product_fea = product_fea[['product_id']].sort_values('product_id') "
   ]
  },
  {
   "cell_type": "markdown",
   "metadata": {},
   "source": [
    "#### product_id(order_id):count,nunique"
   ]
  },
  {
   "cell_type": "code",
   "execution_count": 143,
   "metadata": {},
   "outputs": [],
   "source": [
    "product_fea['product_order_count'] = products_prior_orders.groupby('product_id')['order_id'].count().sort_index().values \n",
    "product_fea['product_order_nunique'] = products_prior_orders.groupby('product_id')['order_id'].nunique().sort_index().values "
   ]
  },
  {
   "cell_type": "markdown",
   "metadata": {},
   "source": [
    "#### product_id(user_id):nunique"
   ]
  },
  {
   "cell_type": "code",
   "execution_count": 144,
   "metadata": {},
   "outputs": [],
   "source": [
    "product_fea['product_user_nunique'] = products_prior_orders.groupby('product_id')['user_id'].nunique().sort_index().values "
   ]
  },
  {
   "cell_type": "markdown",
   "metadata": {},
   "source": [
    "#### product_id(add_to_cart_order):mean,std"
   ]
  },
  {
   "cell_type": "code",
   "execution_count": 145,
   "metadata": {},
   "outputs": [],
   "source": [
    "product_fea['product_add_to_cart_order_mean'] = products_prior_orders.groupby('product_id')['add_to_cart_order'].mean().sort_index().values \n",
    "product_fea['product_add_to_cart_order_std'] = products_prior_orders.groupby('product_id')['add_to_cart_order'].std().sort_index().values "
   ]
  },
  {
   "cell_type": "markdown",
   "metadata": {},
   "source": [
    "#### product_id(order_dow):mode_1 "
   ]
  },
  {
   "cell_type": "code",
   "execution_count": 146,
   "metadata": {},
   "outputs": [],
   "source": [
    "product_fea['product_dow_mode_1'] = products_prior_orders.groupby('product_id')['order_dow'].apply(lambda x: mode_N(x,0)).sort_index().values"
   ]
  },
  {
   "cell_type": "markdown",
   "metadata": {},
   "source": [
    "#### product_id(order_hour_of_day):mode_1  "
   ]
  },
  {
   "cell_type": "code",
   "execution_count": 147,
   "metadata": {},
   "outputs": [],
   "source": [
    "product_fea['product_hour_of_day_mode_1'] = products_prior_orders.groupby('product_id')['order_hour_of_day'].apply(lambda x: mode_N(x,0)).sort_index().values"
   ]
  },
  {
   "cell_type": "markdown",
   "metadata": {},
   "source": [
    "#### product_id(order_dow_hod):mode_1 "
   ]
  },
  {
   "cell_type": "code",
   "execution_count": 148,
   "metadata": {},
   "outputs": [],
   "source": [
    "product_fea['product_order_dow_hod_mode_1'] = products_prior_orders.groupby('product_id')['order_dow_hod'].apply(lambda x: mode_N(x,0)).sort_index().values\n",
    "# product_fea['product_order_dow_hod_mode_2'] = products_prior_orders.groupby('product_id')['order_dow_hod'].apply(lambda x: mode_N(x,1)).sort_index().values"
   ]
  },
  {
   "cell_type": "markdown",
   "metadata": {},
   "source": [
    "#### product_id(days_since_prior_order):mode_1,mean"
   ]
  },
  {
   "cell_type": "code",
   "execution_count": 149,
   "metadata": {},
   "outputs": [],
   "source": [
    "product_fea['product_days_since_prior_order_mode_1'] = products_prior_orders.groupby('product_id')['days_since_prior_order'].apply(lambda x: mode_N(x,0)).sort_index().values\n",
    "product_fea['product_days_since_prior_order_mean'] = products_prior_orders.groupby('product_id')['days_since_prior_order'].mean().sort_index().values"
   ]
  },
  {
   "cell_type": "markdown",
   "metadata": {},
   "source": [
    "####  product_id(days_since_prior_order_diff):mean "
   ]
  },
  {
   "cell_type": "code",
   "execution_count": 150,
   "metadata": {},
   "outputs": [],
   "source": [
    "product_fea['product_days_since_prior_order_diff_mean'] = products_prior_orders.groupby('product_id')['days_since_prior_order_diff'].mean().sort_index().values"
   ]
  },
  {
   "cell_type": "markdown",
   "metadata": {},
   "source": [
    "#### product_id(reordered):mean,std,sum"
   ]
  },
  {
   "cell_type": "code",
   "execution_count": 152,
   "metadata": {},
   "outputs": [],
   "source": [
    "product_fea['product_reordered_mean'] = products_prior_orders.groupby('product_id')['reordered'].mean().sort_index().values \n",
    "product_fea['product_reordered_std'] = products_prior_orders.groupby('product_id')['reordered'].std().sort_index().values \n",
    "product_fea['product_reordered_sum'] = products_prior_orders.groupby('product_id')['reordered'].sum().sort_index().values "
   ]
  },
  {
   "cell_type": "markdown",
   "metadata": {},
   "source": [
    "### 局部特征:从orders + order_products_prior合并的表格中进行提取,顺带将product_id也拼接进来"
   ]
  },
  {
   "cell_type": "code",
   "execution_count": 155,
   "metadata": {},
   "outputs": [
    {
     "data": {
      "text/html": [
       "<div>\n",
       "<style scoped>\n",
       "    .dataframe tbody tr th:only-of-type {\n",
       "        vertical-align: middle;\n",
       "    }\n",
       "\n",
       "    .dataframe tbody tr th {\n",
       "        vertical-align: top;\n",
       "    }\n",
       "\n",
       "    .dataframe thead th {\n",
       "        text-align: right;\n",
       "    }\n",
       "</style>\n",
       "<table border=\"1\" class=\"dataframe\">\n",
       "  <thead>\n",
       "    <tr style=\"text-align: right;\">\n",
       "      <th></th>\n",
       "      <th>order_id</th>\n",
       "      <th>product_id</th>\n",
       "      <th>add_to_cart_order</th>\n",
       "      <th>reordered</th>\n",
       "      <th>user_id</th>\n",
       "      <th>order_number</th>\n",
       "      <th>order_dow</th>\n",
       "      <th>order_hour_of_day</th>\n",
       "      <th>days_since_prior_order</th>\n",
       "      <th>order_dow_hod</th>\n",
       "      <th>...</th>\n",
       "      <th>aisle_id</th>\n",
       "      <th>department_id</th>\n",
       "      <th>user_product</th>\n",
       "      <th>product_strike</th>\n",
       "      <th>days_since_first_order_desc</th>\n",
       "      <th>product_date_strike</th>\n",
       "      <th>user_aisle</th>\n",
       "      <th>user_department</th>\n",
       "      <th>user_hod</th>\n",
       "      <th>user_dow</th>\n",
       "    </tr>\n",
       "  </thead>\n",
       "  <tbody>\n",
       "    <tr>\n",
       "      <th>59</th>\n",
       "      <td>7</td>\n",
       "      <td>34050</td>\n",
       "      <td>1</td>\n",
       "      <td>0</td>\n",
       "      <td>142903</td>\n",
       "      <td>11</td>\n",
       "      <td>2</td>\n",
       "      <td>14</td>\n",
       "      <td>30.0</td>\n",
       "      <td>64</td>\n",
       "      <td>...</td>\n",
       "      <td>31</td>\n",
       "      <td>7</td>\n",
       "      <td>14290334050</td>\n",
       "      <td>0.50</td>\n",
       "      <td>0.0</td>\n",
       "      <td>1.00</td>\n",
       "      <td>14290300031</td>\n",
       "      <td>14290300007</td>\n",
       "      <td>14290300014</td>\n",
       "      <td>14290300002</td>\n",
       "    </tr>\n",
       "    <tr>\n",
       "      <th>60</th>\n",
       "      <td>7</td>\n",
       "      <td>46802</td>\n",
       "      <td>2</td>\n",
       "      <td>0</td>\n",
       "      <td>142903</td>\n",
       "      <td>11</td>\n",
       "      <td>2</td>\n",
       "      <td>14</td>\n",
       "      <td>30.0</td>\n",
       "      <td>64</td>\n",
       "      <td>...</td>\n",
       "      <td>116</td>\n",
       "      <td>1</td>\n",
       "      <td>14290346802</td>\n",
       "      <td>0.50</td>\n",
       "      <td>0.0</td>\n",
       "      <td>1.00</td>\n",
       "      <td>14290300116</td>\n",
       "      <td>14290300001</td>\n",
       "      <td>14290300014</td>\n",
       "      <td>14290300002</td>\n",
       "    </tr>\n",
       "    <tr>\n",
       "      <th>125</th>\n",
       "      <td>14</td>\n",
       "      <td>20392</td>\n",
       "      <td>1</td>\n",
       "      <td>1</td>\n",
       "      <td>18194</td>\n",
       "      <td>49</td>\n",
       "      <td>3</td>\n",
       "      <td>15</td>\n",
       "      <td>3.0</td>\n",
       "      <td>90</td>\n",
       "      <td>...</td>\n",
       "      <td>26</td>\n",
       "      <td>7</td>\n",
       "      <td>1819420392</td>\n",
       "      <td>0.25</td>\n",
       "      <td>0.0</td>\n",
       "      <td>1.00</td>\n",
       "      <td>1819400026</td>\n",
       "      <td>1819400007</td>\n",
       "      <td>1819400015</td>\n",
       "      <td>1819400003</td>\n",
       "    </tr>\n",
       "    <tr>\n",
       "      <th>126</th>\n",
       "      <td>14</td>\n",
       "      <td>27845</td>\n",
       "      <td>2</td>\n",
       "      <td>1</td>\n",
       "      <td>18194</td>\n",
       "      <td>49</td>\n",
       "      <td>3</td>\n",
       "      <td>15</td>\n",
       "      <td>3.0</td>\n",
       "      <td>90</td>\n",
       "      <td>...</td>\n",
       "      <td>84</td>\n",
       "      <td>16</td>\n",
       "      <td>1819427845</td>\n",
       "      <td>0.25</td>\n",
       "      <td>0.0</td>\n",
       "      <td>1.00</td>\n",
       "      <td>1819400084</td>\n",
       "      <td>1819400016</td>\n",
       "      <td>1819400015</td>\n",
       "      <td>1819400003</td>\n",
       "    </tr>\n",
       "    <tr>\n",
       "      <th>127</th>\n",
       "      <td>14</td>\n",
       "      <td>162</td>\n",
       "      <td>3</td>\n",
       "      <td>1</td>\n",
       "      <td>18194</td>\n",
       "      <td>49</td>\n",
       "      <td>3</td>\n",
       "      <td>15</td>\n",
       "      <td>3.0</td>\n",
       "      <td>90</td>\n",
       "      <td>...</td>\n",
       "      <td>52</td>\n",
       "      <td>1</td>\n",
       "      <td>1819400162</td>\n",
       "      <td>0.25</td>\n",
       "      <td>14.0</td>\n",
       "      <td>0.25</td>\n",
       "      <td>1819400052</td>\n",
       "      <td>1819400001</td>\n",
       "      <td>1819400015</td>\n",
       "      <td>1819400003</td>\n",
       "    </tr>\n",
       "  </tbody>\n",
       "</table>\n",
       "<p>5 rows × 23 columns</p>\n",
       "</div>"
      ],
      "text/plain": [
       "     order_id  product_id  add_to_cart_order  reordered  user_id  \\\n",
       "59          7       34050                  1          0   142903   \n",
       "60          7       46802                  2          0   142903   \n",
       "125        14       20392                  1          1    18194   \n",
       "126        14       27845                  2          1    18194   \n",
       "127        14         162                  3          1    18194   \n",
       "\n",
       "     order_number  order_dow  order_hour_of_day  days_since_prior_order  \\\n",
       "59             11          2                 14                    30.0   \n",
       "60             11          2                 14                    30.0   \n",
       "125            49          3                 15                     3.0   \n",
       "126            49          3                 15                     3.0   \n",
       "127            49          3                 15                     3.0   \n",
       "\n",
       "     order_dow_hod     ...       aisle_id  department_id  user_product  \\\n",
       "59              64     ...             31              7   14290334050   \n",
       "60              64     ...            116              1   14290346802   \n",
       "125             90     ...             26              7    1819420392   \n",
       "126             90     ...             84             16    1819427845   \n",
       "127             90     ...             52              1    1819400162   \n",
       "\n",
       "     product_strike  days_since_first_order_desc  product_date_strike  \\\n",
       "59             0.50                          0.0                 1.00   \n",
       "60             0.50                          0.0                 1.00   \n",
       "125            0.25                          0.0                 1.00   \n",
       "126            0.25                          0.0                 1.00   \n",
       "127            0.25                         14.0                 0.25   \n",
       "\n",
       "      user_aisle  user_department     user_hod     user_dow  \n",
       "59   14290300031      14290300007  14290300014  14290300002  \n",
       "60   14290300116      14290300001  14290300014  14290300002  \n",
       "125   1819400026       1819400007   1819400015   1819400003  \n",
       "126   1819400084       1819400016   1819400015   1819400003  \n",
       "127   1819400052       1819400001   1819400015   1819400003  \n",
       "\n",
       "[5 rows x 23 columns]"
      ]
     },
     "execution_count": 155,
     "metadata": {},
     "output_type": "execute_result"
    }
   ],
   "source": [
    "products_prior_orders_last_3 = products_prior_orders.loc[products_prior_orders.order_number_desc < 4] \n",
    "products_prior_orders_last_3.head()"
   ]
  },
  {
   "cell_type": "markdown",
   "metadata": {},
   "source": [
    " #### product_id(order_id):count,nunique "
   ]
  },
  {
   "cell_type": "code",
   "execution_count": 157,
   "metadata": {
    "scrolled": true
   },
   "outputs": [],
   "source": [
    "tmp = products_prior_orders_last_3.groupby('product_id')['order_id'].count().sort_index().reset_index()\n",
    "tmp.columns = ['product_id','last_3_product_order_count']\n",
    "product_fea = product_fea .merge(tmp, on='product_id' , how='left')"
   ]
  },
  {
   "cell_type": "code",
   "execution_count": 158,
   "metadata": {},
   "outputs": [],
   "source": [
    "tmp = products_prior_orders_last_3.groupby('product_id')['order_id'].nunique().sort_index().reset_index()\n",
    "tmp.columns = ['product_id','last_3_product_order_nunique']\n",
    "product_fea = product_fea.merge(tmp, on='product_id' , how='left') "
   ]
  },
  {
   "cell_type": "markdown",
   "metadata": {},
   "source": [
    "#### product_id(user_id):nunique "
   ]
  },
  {
   "cell_type": "code",
   "execution_count": 159,
   "metadata": {},
   "outputs": [],
   "source": [
    "tmp = products_prior_orders_last_3.groupby('product_id')['user_id'].nunique().sort_index().reset_index()\n",
    "tmp.columns = ['product_id','last_3_product_user_nunique']\n",
    "product_fea = product_fea.merge(tmp, on='product_id' , how='left') "
   ]
  },
  {
   "cell_type": "markdown",
   "metadata": {},
   "source": [
    "#### product_id(product_strike):sum "
   ]
  },
  {
   "cell_type": "code",
   "execution_count": 161,
   "metadata": {},
   "outputs": [],
   "source": [
    "tmp = products_prior_orders_last_3.groupby('product_id')['product_strike'].sum().sort_index().reset_index()\n",
    "tmp.columns = ['product_id','last_3_product_strike_sum']\n",
    "product_fea = product_fea.merge(tmp, on='product_id' , how='left') "
   ]
  },
  {
   "cell_type": "markdown",
   "metadata": {},
   "source": [
    "#### product_id(add_to_cart_order):sum "
   ]
  },
  {
   "cell_type": "code",
   "execution_count": 162,
   "metadata": {},
   "outputs": [],
   "source": [
    "tmp = products_prior_orders_last_3.groupby('product_id')['add_to_cart_order'].mean().sort_index().reset_index()\n",
    "tmp.columns = ['product_id','last_3_product_add_to_cart_order_mean']\n",
    "product_fea = product_fea.merge(tmp, on='product_id' , how='left') "
   ]
  },
  {
   "cell_type": "code",
   "execution_count": 163,
   "metadata": {},
   "outputs": [],
   "source": [
    "product_fea.to_csv('/data/Inscart/middle_features/product_first_fea.csv',index = None)"
   ]
  },
  {
   "cell_type": "markdown",
   "metadata": {},
   "source": [
    "# 辅助特征\n",
    " \n",
    "## Aisle特征\n",
    "### 全局特征:从orders + order_products_prior合并的表格中进行提取,顺带将product_id也拼接进来"
   ]
  },
  {
   "cell_type": "code",
   "execution_count": 164,
   "metadata": {},
   "outputs": [],
   "source": [
    "aisle_fea = pd.DataFrame()\n",
    "aisle_fea['aisle_id'] = products_prior_orders['aisle_id'].unique()\n",
    "aisle_fea = aisle_fea[['aisle_id']].sort_values('aisle_id') "
   ]
  },
  {
   "cell_type": "markdown",
   "metadata": {},
   "source": [
    "#### aisle_id(order_id):count,nunique,count/nunique"
   ]
  },
  {
   "cell_type": "code",
   "execution_count": 165,
   "metadata": {},
   "outputs": [],
   "source": [
    "aisle_fea['aisle_order_count'] = products_prior_orders.groupby('aisle_id')['order_id'].count().sort_index().values \n",
    "aisle_fea['aisle_order_nunique'] = products_prior_orders.groupby('aisle_id')['order_id'].nunique().sort_index().values "
   ]
  },
  {
   "cell_type": "code",
   "execution_count": 166,
   "metadata": {},
   "outputs": [],
   "source": [
    "aisle_fea['aisle_order_count_divide_nunique'] = aisle_fea['aisle_order_count'].values  / aisle_fea['aisle_order_nunique'].values "
   ]
  },
  {
   "cell_type": "markdown",
   "metadata": {},
   "source": [
    "#### aisle_id(product_id):nunique"
   ]
  },
  {
   "cell_type": "code",
   "execution_count": 167,
   "metadata": {},
   "outputs": [],
   "source": [
    "aisle_fea['aisle_product_nunique'] = products_prior_orders.groupby('aisle_id')['product_id'].nunique().sort_index().values "
   ]
  },
  {
   "cell_type": "markdown",
   "metadata": {},
   "source": [
    "#### aisle_id(user_id):nunique, aisle_id(order_id)count / aisle_id(user_id):nunique"
   ]
  },
  {
   "cell_type": "code",
   "execution_count": 168,
   "metadata": {},
   "outputs": [],
   "source": [
    "aisle_fea['aisle_user_nunique'] = products_prior_orders.groupby('aisle_id')['user_id'].nunique().sort_index().values \n",
    "aisle_fea['aisle_order_count_divide_user_nunique'] =  aisle_fea['aisle_order_count'].values  / aisle_fea['aisle_user_nunique'].values "
   ]
  },
  {
   "cell_type": "markdown",
   "metadata": {},
   "source": [
    "#### aisle_id(days_since_prior_order):mean"
   ]
  },
  {
   "cell_type": "code",
   "execution_count": 169,
   "metadata": {},
   "outputs": [],
   "source": [
    "aisle_fea['aisle_days_since_prior_order_mean'] = products_prior_orders.groupby('aisle_id')['days_since_prior_order'].mean().sort_index().values "
   ]
  },
  {
   "cell_type": "code",
   "execution_count": 170,
   "metadata": {},
   "outputs": [],
   "source": [
    "aisle_fea.to_csv('/data/Inscart/middle_features/aisle_first_fea.csv',index = None)"
   ]
  },
  {
   "cell_type": "markdown",
   "metadata": {},
   "source": [
    "\n",
    "## Department特征\n",
    "### 全局特征:从orders + order_products_prior合并的表格中进行提取,顺带将product_id也拼接进来"
   ]
  },
  {
   "cell_type": "code",
   "execution_count": 171,
   "metadata": {},
   "outputs": [],
   "source": [
    "department_fea = pd.DataFrame()\n",
    "department_fea['department_id'] = products_prior_orders['department_id'].unique()\n",
    "department_fea = department_fea[['department_id']].sort_values('department_id') "
   ]
  },
  {
   "cell_type": "markdown",
   "metadata": {},
   "source": [
    "#### department_id(order_id):count,nunique,count/nunique"
   ]
  },
  {
   "cell_type": "code",
   "execution_count": 172,
   "metadata": {},
   "outputs": [],
   "source": [
    "department_fea['department_order_count'] = products_prior_orders.groupby('department_id')['order_id'].count().sort_index().values "
   ]
  },
  {
   "cell_type": "markdown",
   "metadata": {},
   "source": [
    "#### department_id(product_id):nunique"
   ]
  },
  {
   "cell_type": "code",
   "execution_count": 174,
   "metadata": {},
   "outputs": [],
   "source": [
    "department_fea['department_product_nunique'] = products_prior_orders.groupby('department_id')['product_id'].nunique().sort_index().values "
   ]
  },
  {
   "cell_type": "markdown",
   "metadata": {},
   "source": [
    "#### department_id(days_since_prior_order):mean "
   ]
  },
  {
   "cell_type": "code",
   "execution_count": 176,
   "metadata": {},
   "outputs": [],
   "source": [
    "department_fea['department_days_since_prior_order_mean'] = products_prior_orders.groupby('department_id')['days_since_prior_order'].mean().sort_index().values "
   ]
  },
  {
   "cell_type": "code",
   "execution_count": 177,
   "metadata": {},
   "outputs": [],
   "source": [
    "department_fea.to_csv('/data/Inscart/middle_features/department_first_fea.csv',index = None)"
   ]
  },
  {
   "cell_type": "markdown",
   "metadata": {},
   "source": [
    "\n",
    "## Order_Hour_Of_Day特征\n",
    "### 全局特征:从orders + order_products_prior合并的表格中进行提取,顺带将product_id也拼接进来"
   ]
  },
  {
   "cell_type": "code",
   "execution_count": 178,
   "metadata": {},
   "outputs": [],
   "source": [
    "hod_fea = pd.DataFrame()\n",
    "hod_fea['order_hour_of_day'] = products_prior_orders['order_hour_of_day'].unique()\n",
    "hod_fea = hod_fea[['order_hour_of_day']].sort_values('order_hour_of_day') "
   ]
  },
  {
   "cell_type": "code",
   "execution_count": 179,
   "metadata": {},
   "outputs": [
    {
     "data": {
      "text/html": [
       "<div>\n",
       "<style scoped>\n",
       "    .dataframe tbody tr th:only-of-type {\n",
       "        vertical-align: middle;\n",
       "    }\n",
       "\n",
       "    .dataframe tbody tr th {\n",
       "        vertical-align: top;\n",
       "    }\n",
       "\n",
       "    .dataframe thead th {\n",
       "        text-align: right;\n",
       "    }\n",
       "</style>\n",
       "<table border=\"1\" class=\"dataframe\">\n",
       "  <thead>\n",
       "    <tr style=\"text-align: right;\">\n",
       "      <th></th>\n",
       "      <th>order_hour_of_day</th>\n",
       "    </tr>\n",
       "  </thead>\n",
       "  <tbody>\n",
       "    <tr>\n",
       "      <th>14</th>\n",
       "      <td>0</td>\n",
       "    </tr>\n",
       "    <tr>\n",
       "      <th>18</th>\n",
       "      <td>1</td>\n",
       "    </tr>\n",
       "    <tr>\n",
       "      <th>20</th>\n",
       "      <td>2</td>\n",
       "    </tr>\n",
       "    <tr>\n",
       "      <th>23</th>\n",
       "      <td>3</td>\n",
       "    </tr>\n",
       "    <tr>\n",
       "      <th>21</th>\n",
       "      <td>4</td>\n",
       "    </tr>\n",
       "  </tbody>\n",
       "</table>\n",
       "</div>"
      ],
      "text/plain": [
       "    order_hour_of_day\n",
       "14                  0\n",
       "18                  1\n",
       "20                  2\n",
       "23                  3\n",
       "21                  4"
      ]
     },
     "execution_count": 179,
     "metadata": {},
     "output_type": "execute_result"
    }
   ],
   "source": [
    "hod_fea.head()"
   ]
  },
  {
   "cell_type": "markdown",
   "metadata": {},
   "source": [
    "#### order_hour_of_day(order_id):count,nunique,count/nunique"
   ]
  },
  {
   "cell_type": "code",
   "execution_count": 180,
   "metadata": {},
   "outputs": [],
   "source": [
    "hod_fea['hod_order_count'] = products_prior_orders.groupby('order_hour_of_day')['order_id'].count().sort_index().values  "
   ]
  },
  {
   "cell_type": "markdown",
   "metadata": {},
   "source": [
    "#### order_hour_of_day(product_id):nunique"
   ]
  },
  {
   "cell_type": "code",
   "execution_count": 182,
   "metadata": {},
   "outputs": [],
   "source": [
    "hod_fea['hod_product_nunique'] = products_prior_orders.groupby('order_hour_of_day')['product_id'].nunique().sort_index().values "
   ]
  },
  {
   "cell_type": "code",
   "execution_count": 184,
   "metadata": {},
   "outputs": [],
   "source": [
    "hod_fea.to_csv('/data/Inscart/middle_features/hod_first_fea.csv',index = None)"
   ]
  },
  {
   "cell_type": "markdown",
   "metadata": {},
   "source": [
    "## Order_Dow特征\n",
    "### 全局特征:从orders + order_products_prior合并的表格中进行提取,顺带将product_id也拼接进来"
   ]
  },
  {
   "cell_type": "code",
   "execution_count": 185,
   "metadata": {},
   "outputs": [],
   "source": [
    "dow_fea = pd.DataFrame()\n",
    "dow_fea['order_dow'] = products_prior_orders['order_dow'].unique()\n",
    "dow_fea = dow_fea[['order_dow']].sort_values('order_dow') "
   ]
  },
  {
   "cell_type": "markdown",
   "metadata": {},
   "source": [
    "#### order_dow(order_id):count,nunique,count/nunique"
   ]
  },
  {
   "cell_type": "code",
   "execution_count": 186,
   "metadata": {},
   "outputs": [],
   "source": [
    "dow_fea['dow_order_count'] = products_prior_orders.groupby('order_dow')['order_id'].count().sort_index().values  "
   ]
  },
  {
   "cell_type": "code",
   "execution_count": 190,
   "metadata": {},
   "outputs": [],
   "source": [
    "dow_fea.to_csv('/data/Inscart/middle_features/dow_first_fea.csv',index = None)"
   ]
  },
  {
   "cell_type": "markdown",
   "metadata": {},
   "source": [
    "# 构建训练集 & 测试集\n",
    "具体的构建原理此处就不再阐述,具体的可以参见前一篇文章的内容:Instacart Market Basket Analysis：数据探索分析&Baseline(0.2428)"
   ]
  },
  {
   "cell_type": "code",
   "execution_count": 191,
   "metadata": {},
   "outputs": [
    {
     "data": {
      "text/plain": [
       "2950"
      ]
     },
     "execution_count": 191,
     "metadata": {},
     "output_type": "execute_result"
    }
   ],
   "source": [
    "del _\n",
    "gc.collect()"
   ]
  },
  {
   "cell_type": "code",
   "execution_count": 192,
   "metadata": {
    "scrolled": true
   },
   "outputs": [],
   "source": [
    "orders_prior_data = orders.loc[orders.eval_set == 'prior']\n",
    "orders_train_data = orders.loc[orders.eval_set == 'train'] \n",
    "orders_test_data  = orders.loc[orders.eval_set == 'test' ] \n",
    "\n",
    "priors = order_products__prior.merge(orders_prior_data, on =['order_id'], how='left')\n",
    "trains = order_products__train.merge(orders_train_data, on =['order_id'], how='left')"
   ]
  },
  {
   "cell_type": "code",
   "execution_count": 193,
   "metadata": {
    "scrolled": true
   },
   "outputs": [],
   "source": [
    "user_product = products_prior_orders[['user_id','product_id']].copy()\n",
    "user_product['user_product'] = user_product['user_id'].values* 10**5  + user_product['product_id'].values\n",
    "user_product = user_product.drop_duplicates(subset=['user_product'], keep = 'last') \n",
    "\n",
    "train_user_X_product = trains['user_id'].values* 10**5 + trains['product_id'].values"
   ]
  },
  {
   "cell_type": "code",
   "execution_count": 194,
   "metadata": {},
   "outputs": [],
   "source": [
    "test_user  = orders_test_data['user_id']\n",
    "train_user = orders_train_data['user_id']"
   ]
  },
  {
   "cell_type": "code",
   "execution_count": 195,
   "metadata": {},
   "outputs": [
    {
     "name": "stderr",
     "output_type": "stream",
     "text": [
      "/opt/conda/envs/zjpy36/lib/python3.6/site-packages/pandas/core/indexing.py:194: SettingWithCopyWarning: \n",
      "A value is trying to be set on a copy of a slice from a DataFrame\n",
      "\n",
      "See the caveats in the documentation: http://pandas.pydata.org/pandas-docs/stable/indexing.html#indexing-view-versus-copy\n",
      "  self._setitem_with_indexer(indexer, value)\n",
      "/opt/conda/envs/zjpy36/lib/python3.6/site-packages/ipykernel_launcher.py:3: SettingWithCopyWarning: \n",
      "A value is trying to be set on a copy of a slice from a DataFrame\n",
      "\n",
      "See the caveats in the documentation: http://pandas.pydata.org/pandas-docs/stable/indexing.html#indexing-view-versus-copy\n",
      "  This is separate from the ipykernel package so we can avoid doing imports until\n"
     ]
    }
   ],
   "source": [
    "user_product['label'] = 0\n",
    "train_data = user_product.loc[user_product.user_id.isin(train_user)]\n",
    "train_data.loc[train_data.user_product.isin(train_user_X_product), 'label'] = 1 "
   ]
  },
  {
   "cell_type": "code",
   "execution_count": 196,
   "metadata": {},
   "outputs": [
    {
     "data": {
      "text/plain": [
       "828824"
      ]
     },
     "execution_count": 196,
     "metadata": {},
     "output_type": "execute_result"
    }
   ],
   "source": [
    "train_data['label'].sum()"
   ]
  },
  {
   "cell_type": "code",
   "execution_count": 197,
   "metadata": {},
   "outputs": [
    {
     "data": {
      "text/plain": [
       "0.09780025419305857"
      ]
     },
     "execution_count": 197,
     "metadata": {},
     "output_type": "execute_result"
    }
   ],
   "source": [
    "train_data['label'].mean()"
   ]
  },
  {
   "cell_type": "code",
   "execution_count": 198,
   "metadata": {},
   "outputs": [
    {
     "data": {
      "text/html": [
       "<div>\n",
       "<style scoped>\n",
       "    .dataframe tbody tr th:only-of-type {\n",
       "        vertical-align: middle;\n",
       "    }\n",
       "\n",
       "    .dataframe tbody tr th {\n",
       "        vertical-align: top;\n",
       "    }\n",
       "\n",
       "    .dataframe thead th {\n",
       "        text-align: right;\n",
       "    }\n",
       "</style>\n",
       "<table border=\"1\" class=\"dataframe\">\n",
       "  <thead>\n",
       "    <tr style=\"text-align: right;\">\n",
       "      <th></th>\n",
       "      <th>order_id</th>\n",
       "      <th>user_id</th>\n",
       "      <th>eval_set</th>\n",
       "      <th>order_number</th>\n",
       "      <th>order_dow</th>\n",
       "      <th>order_hour_of_day</th>\n",
       "      <th>days_since_prior_order</th>\n",
       "      <th>order_dow_hod</th>\n",
       "      <th>days_since_first_order</th>\n",
       "      <th>days_since_prior_order_diff</th>\n",
       "      <th>order_number_desc</th>\n",
       "    </tr>\n",
       "  </thead>\n",
       "  <tbody>\n",
       "    <tr>\n",
       "      <th>10</th>\n",
       "      <td>1187899</td>\n",
       "      <td>1</td>\n",
       "      <td>train</td>\n",
       "      <td>11</td>\n",
       "      <td>4</td>\n",
       "      <td>8</td>\n",
       "      <td>14.0</td>\n",
       "      <td>108</td>\n",
       "      <td>190.0</td>\n",
       "      <td>-16.0</td>\n",
       "      <td>0</td>\n",
       "    </tr>\n",
       "    <tr>\n",
       "      <th>25</th>\n",
       "      <td>1492625</td>\n",
       "      <td>2</td>\n",
       "      <td>train</td>\n",
       "      <td>15</td>\n",
       "      <td>1</td>\n",
       "      <td>11</td>\n",
       "      <td>30.0</td>\n",
       "      <td>36</td>\n",
       "      <td>228.0</td>\n",
       "      <td>17.0</td>\n",
       "      <td>0</td>\n",
       "    </tr>\n",
       "    <tr>\n",
       "      <th>49</th>\n",
       "      <td>2196797</td>\n",
       "      <td>5</td>\n",
       "      <td>train</td>\n",
       "      <td>5</td>\n",
       "      <td>0</td>\n",
       "      <td>11</td>\n",
       "      <td>6.0</td>\n",
       "      <td>11</td>\n",
       "      <td>46.0</td>\n",
       "      <td>-13.0</td>\n",
       "      <td>0</td>\n",
       "    </tr>\n",
       "    <tr>\n",
       "      <th>74</th>\n",
       "      <td>525192</td>\n",
       "      <td>7</td>\n",
       "      <td>train</td>\n",
       "      <td>21</td>\n",
       "      <td>2</td>\n",
       "      <td>11</td>\n",
       "      <td>6.0</td>\n",
       "      <td>61</td>\n",
       "      <td>209.0</td>\n",
       "      <td>-1.0</td>\n",
       "      <td>0</td>\n",
       "    </tr>\n",
       "    <tr>\n",
       "      <th>78</th>\n",
       "      <td>880375</td>\n",
       "      <td>8</td>\n",
       "      <td>train</td>\n",
       "      <td>4</td>\n",
       "      <td>1</td>\n",
       "      <td>14</td>\n",
       "      <td>10.0</td>\n",
       "      <td>39</td>\n",
       "      <td>70.0</td>\n",
       "      <td>-20.0</td>\n",
       "      <td>0</td>\n",
       "    </tr>\n",
       "  </tbody>\n",
       "</table>\n",
       "</div>"
      ],
      "text/plain": [
       "    order_id  user_id eval_set  order_number  order_dow  order_hour_of_day  \\\n",
       "10   1187899        1    train            11          4                  8   \n",
       "25   1492625        2    train            15          1                 11   \n",
       "49   2196797        5    train             5          0                 11   \n",
       "74    525192        7    train            21          2                 11   \n",
       "78    880375        8    train             4          1                 14   \n",
       "\n",
       "    days_since_prior_order  order_dow_hod  days_since_first_order  \\\n",
       "10                    14.0            108                   190.0   \n",
       "25                    30.0             36                   228.0   \n",
       "49                     6.0             11                    46.0   \n",
       "74                     6.0             61                   209.0   \n",
       "78                    10.0             39                    70.0   \n",
       "\n",
       "    days_since_prior_order_diff  order_number_desc  \n",
       "10                        -16.0                  0  \n",
       "25                         17.0                  0  \n",
       "49                        -13.0                  0  \n",
       "74                         -1.0                  0  \n",
       "78                        -20.0                  0  "
      ]
     },
     "execution_count": 198,
     "metadata": {},
     "output_type": "execute_result"
    }
   ],
   "source": [
    "orders_train_data.head()"
   ]
  },
  {
   "cell_type": "code",
   "execution_count": 199,
   "metadata": {},
   "outputs": [],
   "source": [
    "train_data = train_data.merge(orders_train_data,on ='user_id', how='left')"
   ]
  },
  {
   "cell_type": "code",
   "execution_count": 200,
   "metadata": {},
   "outputs": [],
   "source": [
    "test_data  = user_product.loc[user_product.user_id.isin(test_user)]\n",
    "test_data = test_data.merge(orders_test_data,on ='user_id', how='left')"
   ]
  },
  {
   "cell_type": "code",
   "execution_count": 203,
   "metadata": {},
   "outputs": [
    {
     "data": {
      "text/plain": [
       "73"
      ]
     },
     "execution_count": 203,
     "metadata": {},
     "output_type": "execute_result"
    }
   ],
   "source": [
    "del priors,trains\n",
    "gc.collect()"
   ]
  },
  {
   "cell_type": "code",
   "execution_count": 204,
   "metadata": {},
   "outputs": [
    {
     "data": {
      "text/html": [
       "<div>\n",
       "<style scoped>\n",
       "    .dataframe tbody tr th:only-of-type {\n",
       "        vertical-align: middle;\n",
       "    }\n",
       "\n",
       "    .dataframe tbody tr th {\n",
       "        vertical-align: top;\n",
       "    }\n",
       "\n",
       "    .dataframe thead th {\n",
       "        text-align: right;\n",
       "    }\n",
       "</style>\n",
       "<table border=\"1\" class=\"dataframe\">\n",
       "  <thead>\n",
       "    <tr style=\"text-align: right;\">\n",
       "      <th></th>\n",
       "      <th>user_id</th>\n",
       "      <th>product_id</th>\n",
       "      <th>user_product</th>\n",
       "      <th>label</th>\n",
       "      <th>order_id</th>\n",
       "      <th>eval_set</th>\n",
       "      <th>order_number</th>\n",
       "      <th>order_dow</th>\n",
       "      <th>order_hour_of_day</th>\n",
       "      <th>days_since_prior_order</th>\n",
       "      <th>order_dow_hod</th>\n",
       "      <th>days_since_first_order</th>\n",
       "      <th>days_since_prior_order_diff</th>\n",
       "      <th>order_number_desc</th>\n",
       "    </tr>\n",
       "  </thead>\n",
       "  <tbody>\n",
       "    <tr>\n",
       "      <th>0</th>\n",
       "      <td>202279</td>\n",
       "      <td>9327</td>\n",
       "      <td>20227909327</td>\n",
       "      <td>0</td>\n",
       "      <td>1050357</td>\n",
       "      <td>train</td>\n",
       "      <td>9</td>\n",
       "      <td>1</td>\n",
       "      <td>14</td>\n",
       "      <td>30.0</td>\n",
       "      <td>39</td>\n",
       "      <td>181.0</td>\n",
       "      <td>0.0</td>\n",
       "      <td>0</td>\n",
       "    </tr>\n",
       "    <tr>\n",
       "      <th>1</th>\n",
       "      <td>156122</td>\n",
       "      <td>47209</td>\n",
       "      <td>15612247209</td>\n",
       "      <td>0</td>\n",
       "      <td>1277092</td>\n",
       "      <td>train</td>\n",
       "      <td>53</td>\n",
       "      <td>1</td>\n",
       "      <td>11</td>\n",
       "      <td>5.0</td>\n",
       "      <td>36</td>\n",
       "      <td>347.0</td>\n",
       "      <td>-2.0</td>\n",
       "      <td>0</td>\n",
       "    </tr>\n",
       "    <tr>\n",
       "      <th>2</th>\n",
       "      <td>156122</td>\n",
       "      <td>46522</td>\n",
       "      <td>15612246522</td>\n",
       "      <td>0</td>\n",
       "      <td>1277092</td>\n",
       "      <td>train</td>\n",
       "      <td>53</td>\n",
       "      <td>1</td>\n",
       "      <td>11</td>\n",
       "      <td>5.0</td>\n",
       "      <td>36</td>\n",
       "      <td>347.0</td>\n",
       "      <td>-2.0</td>\n",
       "      <td>0</td>\n",
       "    </tr>\n",
       "    <tr>\n",
       "      <th>3</th>\n",
       "      <td>156122</td>\n",
       "      <td>38693</td>\n",
       "      <td>15612238693</td>\n",
       "      <td>0</td>\n",
       "      <td>1277092</td>\n",
       "      <td>train</td>\n",
       "      <td>53</td>\n",
       "      <td>1</td>\n",
       "      <td>11</td>\n",
       "      <td>5.0</td>\n",
       "      <td>36</td>\n",
       "      <td>347.0</td>\n",
       "      <td>-2.0</td>\n",
       "      <td>0</td>\n",
       "    </tr>\n",
       "    <tr>\n",
       "      <th>4</th>\n",
       "      <td>156122</td>\n",
       "      <td>48825</td>\n",
       "      <td>15612248825</td>\n",
       "      <td>0</td>\n",
       "      <td>1277092</td>\n",
       "      <td>train</td>\n",
       "      <td>53</td>\n",
       "      <td>1</td>\n",
       "      <td>11</td>\n",
       "      <td>5.0</td>\n",
       "      <td>36</td>\n",
       "      <td>347.0</td>\n",
       "      <td>-2.0</td>\n",
       "      <td>0</td>\n",
       "    </tr>\n",
       "  </tbody>\n",
       "</table>\n",
       "</div>"
      ],
      "text/plain": [
       "   user_id  product_id  user_product  label  order_id eval_set  order_number  \\\n",
       "0   202279        9327   20227909327      0   1050357    train             9   \n",
       "1   156122       47209   15612247209      0   1277092    train            53   \n",
       "2   156122       46522   15612246522      0   1277092    train            53   \n",
       "3   156122       38693   15612238693      0   1277092    train            53   \n",
       "4   156122       48825   15612248825      0   1277092    train            53   \n",
       "\n",
       "   order_dow  order_hour_of_day  days_since_prior_order  order_dow_hod  \\\n",
       "0          1                 14                    30.0             39   \n",
       "1          1                 11                     5.0             36   \n",
       "2          1                 11                     5.0             36   \n",
       "3          1                 11                     5.0             36   \n",
       "4          1                 11                     5.0             36   \n",
       "\n",
       "   days_since_first_order  days_since_prior_order_diff  order_number_desc  \n",
       "0                   181.0                          0.0                  0  \n",
       "1                   347.0                         -2.0                  0  \n",
       "2                   347.0                         -2.0                  0  \n",
       "3                   347.0                         -2.0                  0  \n",
       "4                   347.0                         -2.0                  0  "
      ]
     },
     "execution_count": 204,
     "metadata": {},
     "output_type": "execute_result"
    }
   ],
   "source": [
    "pd.set_option('display.max_columns',200)\n",
    "train_data.head()"
   ]
  },
  {
   "cell_type": "markdown",
   "metadata": {},
   "source": [
    "## 特征拼接"
   ]
  },
  {
   "cell_type": "code",
   "execution_count": 205,
   "metadata": {
    "scrolled": true
   },
   "outputs": [],
   "source": [
    "train_data = train_data.merge(user_fea, on='user_id', how='left')\n",
    "train_data = train_data.merge(product_fea, on='product_id', how='left')\n",
    "\n",
    "train_data  =  train_data.merge(products, on='product_id', how= 'left') \n",
    "train_data = train_data.merge(userXproduct_fea, on='user_product', how='left') \n",
    "  \n",
    "train_data['user_dow'] = train_data['user_id'].values * 10**5 + train_data['order_dow'].values\n",
    "train_data['user_hod'] = train_data['user_id'].values * 10**5 + train_data['order_hour_of_day'].values\n",
    "train_data['user_department'] = train_data['user_id'].values * 10**5 + train_data['department_id'].values\n",
    "train_data['user_aisle'] = train_data['user_id'].values * 10**5 + train_data['aisle_id'].values \n",
    "\n",
    "train_data = train_data.merge(userXdow_fea, on='user_dow', how='left')\n",
    "train_data = train_data.merge(userXhod_fea, on='user_hod', how='left')  \n",
    "train_data = train_data.merge(userXdepartment_fea, on='user_department', how='left')\n",
    "train_data = train_data.merge(userXaisle_fea, on='user_aisle', how='left')  \n",
    "\n",
    "train_data = train_data.merge(hod_fea, on='order_hour_of_day', how='left') \n",
    "train_data = train_data.merge(dow_fea, on='order_dow', how='left')  \n",
    "train_data = train_data.merge(aisle_fea, on='aisle_id', how='left')\n",
    "train_data = train_data.merge(department_fea, on='department_id', how='left')"
   ]
  },
  {
   "cell_type": "code",
   "execution_count": 206,
   "metadata": {
    "scrolled": true
   },
   "outputs": [],
   "source": [
    "test_data = test_data.merge(user_fea, on='user_id', how='left')\n",
    "test_data = test_data.merge(product_fea, on='product_id', how='left')\n",
    "test_data  =  test_data.merge(products, on='product_id', how= 'left') \n",
    "\n",
    "test_data = test_data.merge(userXproduct_fea, on='user_product', how='left') \n",
    "  \n",
    "test_data['user_dow'] = test_data['user_id'].values * 10**5 + test_data['order_dow'].values\n",
    "test_data['user_hod'] = test_data['user_id'].values * 10**5 + test_data['order_hour_of_day'].values\n",
    "test_data['user_department'] = test_data['user_id'].values * 10**5 + test_data['department_id'].values\n",
    "test_data['user_aisle'] = test_data['user_id'].values * 10**5 + test_data['aisle_id'].values \n",
    "\n",
    "test_data = test_data.merge(userXdow_fea, on='user_dow', how='left')\n",
    "test_data = test_data.merge(userXhod_fea, on='user_hod', how='left')  \n",
    "test_data = test_data.merge(userXdepartment_fea, on='user_department', how='left')\n",
    "test_data = test_data.merge(userXaisle_fea, on='user_aisle', how='left') \n",
    "\n",
    "test_data = test_data.merge(hod_fea, on='order_hour_of_day', how='left') \n",
    "test_data = test_data.merge(dow_fea, on='order_dow', how='left')  \n",
    "test_data = test_data.merge(aisle_fea, on='aisle_id', how='left')\n",
    "test_data = test_data.merge(department_fea, on='department_id', how='left')"
   ]
  },
  {
   "cell_type": "markdown",
   "metadata": {},
   "source": [
    "# 补充数据集之间的百分比 & 时间相关的差值特征\n",
    "## 基于user_fea & userXproduct_fea 的百分比特征 \n",
    "1. UP_order_nunique/user_orderid_nunique\n",
    "2. user_orderid_nunique - UP_last_order: 距离预测的order的时间差\n",
    "3. user_orderid_nunique - UP_last_second_order\n",
    "4. user_orderid_nunique - UP_first_order\n",
    "5. user_orderid_nunique - UP_first_second_order\n"
   ]
  },
  {
   "cell_type": "code",
   "execution_count": 207,
   "metadata": {},
   "outputs": [],
   "source": [
    "train_data['UP_count_percent']  = train_data['UP_order_nunique'] * 1.0 / train_data['user_orderid_nunique']\n",
    "test_data['UP_count_percent']   = test_data['UP_order_nunique'] * 1.0  / test_data['user_orderid_nunique']\n",
    "\n",
    "train_data['user_product_last_to_now']   = train_data['user_orderid_nunique']    - train_data['UP_last_order']\n",
    "test_data['user_product_last_to_now']   = test_data['user_orderid_nunique']    - test_data['UP_last_order']\n",
    "\n",
    "train_data['user_product_last_second_to_now']   = train_data['user_orderid_nunique']    - train_data['UP_last_second_order']\n",
    "test_data['user_product_last_second_to_now']   = test_data['user_orderid_nunique']    - test_data['UP_last_second_order']\n",
    "\n",
    "train_data['user_product_first_to_now']   = train_data['user_orderid_nunique']    - train_data['UP_first_order']\n",
    "test_data['user_product_first_to_now']   = test_data['user_orderid_nunique']    - test_data['UP_first_order'] \n",
    " \n",
    "train_data['user_product_first_second_to_now']   = train_data['user_orderid_nunique']    - train_data['UP_first_second_order']\n",
    "test_data['user_product_first_second_to_now']   = test_data['user_orderid_nunique']    - test_data['UP_first_second_order']  "
   ]
  },
  {
   "cell_type": "markdown",
   "metadata": {},
   "source": [
    "## 基于user_fea & userXdow_fea 的百分比特征 \n",
    "1. UDW_order_count/user_product_count\n",
    "2. UDW_order_nunique/user_orderid_nunique\n",
    "3. UDW_product_nunique/user_product_nunique"
   ]
  },
  {
   "cell_type": "code",
   "execution_count": 209,
   "metadata": {
    "scrolled": true
   },
   "outputs": [],
   "source": [
    "train_data['UDW_order_count___user_product_count']  = train_data['UDW_order_count'] * 1.0 / train_data['user_product_count']\n",
    "test_data['UDW_order_count___user_product_count']   = test_data['UDW_order_count'] * 1.0  / test_data['user_product_count'] \n",
    "\n",
    "train_data['UDW_product_nunique___user_product_nunique']  = train_data['UDW_product_nunique'] * 1.0 / train_data['user_product_nunique']\n",
    "test_data['UDW_product_nunique___user_product_nunique']   = test_data['UDW_product_nunique'] * 1.0  / test_data['user_product_nunique'] "
   ]
  },
  {
   "cell_type": "markdown",
   "metadata": {},
   "source": [
    "## 基于user_fea & userXhod_fea 的百分比特征 \n",
    "1. UH_order_nunique / user_orderid_nunique\n",
    "2. UH_order_count / user_product_count\n",
    "3. UH_product_nunique/user_product_nunique"
   ]
  },
  {
   "cell_type": "code",
   "execution_count": 211,
   "metadata": {
    "scrolled": true
   },
   "outputs": [],
   "source": [
    "train_data['UH_order_count___user_product_count']  = train_data['UH_order_count'] * 1.0 / train_data['user_product_count']\n",
    "test_data['UH_order_count___user_product_count']   = test_data['UH_order_count'] * 1.0  / test_data['user_product_count'] \n",
    "\n",
    "train_data['UH_product_nunique___user_product_nunique']  = train_data['UH_product_nunique'] * 1.0 / train_data['user_product_nunique']\n",
    "test_data['UH_product_nunique___user_product_nunique']   = test_data['UH_product_nunique'] * 1.0  / test_data['user_product_nunique'] "
   ]
  },
  {
   "cell_type": "markdown",
   "metadata": {},
   "source": [
    "## 基于user_fea & userXdepartment_fea 的百分比特征 \n",
    "1. UD_order_count / user_orderid_nunique\n",
    "2. UD_order_nunique / user_product_count\n",
    "3. UD_product_nunique/user_product_nunique"
   ]
  },
  {
   "cell_type": "code",
   "execution_count": 212,
   "metadata": {},
   "outputs": [],
   "source": [
    "train_data['UD_order_count___user_product_count']  = train_data['UD_order_count'] * 1.0 / train_data['user_product_count']\n",
    "test_data['UD_order_count___user_product_count']   = test_data['UD_order_count'] * 1.0  / test_data['user_product_count']\n",
    "\n",
    "train_data['UD_order_nunique___user_orderid_nunique']  = train_data['UD_order_nunique'] * 1.0 / train_data['user_orderid_nunique']\n",
    "test_data['UD_order_nunique___user_orderid_nunique']   = test_data['UD_order_nunique'] * 1.0  / test_data['user_orderid_nunique'] \n",
    "\n",
    "train_data['UD_product_nunique___user_product_nunique']  = train_data['UD_product_nunique'] * 1.0 / train_data['user_product_nunique']\n",
    "test_data['UD_product_nunique___user_product_nunique']   = test_data['UD_product_nunique'] * 1.0  / test_data['user_product_nunique'] "
   ]
  },
  {
   "cell_type": "markdown",
   "metadata": {},
   "source": [
    "## 基于user_fea & userXaisle_fea 的百分比特征 \n",
    "1. UA_order_count / user_orderid_nunique\n",
    "2. UA_order_nunique / user_product_count\n",
    "3. UA_product_nunique/user_product_nunique"
   ]
  },
  {
   "cell_type": "code",
   "execution_count": 213,
   "metadata": {},
   "outputs": [],
   "source": [
    "train_data['UA_order_count___user_product_count']  = train_data['UA_order_count'] * 1.0 / train_data['user_product_count']\n",
    "test_data['UA_order_count___user_product_count']   = test_data['UA_order_count'] * 1.0  / test_data['user_product_count']\n",
    "\n",
    "train_data['UA_order_nunique___user_orderid_nunique']  = train_data['UA_order_nunique'] * 1.0 / train_data['user_orderid_nunique']\n",
    "test_data['UA_order_nunique___user_orderid_nunique']   = test_data['UA_order_nunique'] * 1.0  / test_data['user_orderid_nunique'] \n",
    "\n",
    "train_data['UA_product_nunique___user_product_nunique']  = train_data['UA_product_nunique'] * 1.0 / train_data['user_product_nunique']\n",
    "test_data['UA_product_nunique___user_product_nunique']   = test_data['UA_product_nunique'] * 1.0  / test_data['user_product_nunique'] "
   ]
  },
  {
   "cell_type": "markdown",
   "metadata": {},
   "source": [
    "## 基于aisle_fea & userXaisle_fea 的百分比特征 \n",
    "1. UA_order_count / aisle_order_count\n",
    "2. UA_order_nunique / aisle_order_nunique\n",
    "3. UA_product_nunique/aisle_product_nunique"
   ]
  },
  {
   "cell_type": "code",
   "execution_count": 214,
   "metadata": {},
   "outputs": [],
   "source": [
    "train_data['UA_order_count___aisle_order_count']  = train_data['UA_order_count'] * 1.0 / train_data['aisle_order_count']\n",
    "test_data['UA_order_count___aisle_order_count']   = test_data['UA_order_count'] * 1.0  / test_data['aisle_order_count']\n",
    "\n",
    "train_data['UA_order_nunique___aisle_order_nunique']  = train_data['UA_order_nunique'] * 1.0 / train_data['aisle_order_nunique']\n",
    "test_data['UA_order_nunique___aisle_order_nunique']   = test_data['UA_order_nunique'] * 1.0  / test_data['aisle_order_nunique'] \n",
    "\n",
    "train_data['UA_product_nunique___aisle_product_nunique']  = train_data['UA_product_nunique'] * 1.0 / train_data['aisle_product_nunique']\n",
    "test_data['UA_product_nunique___aisle_product_nunique']   = test_data['UA_product_nunique'] * 1.0  / test_data['aisle_product_nunique'] "
   ]
  },
  {
   "cell_type": "markdown",
   "metadata": {},
   "source": [
    "## 基于department_fea& userXdepartment_fea 的百分比特征 \n",
    "1. UA_order_count / aisle_order_count\n",
    "2. UA_order_nunique / aisle_order_nunique\n",
    "3. UA_product_nunique/aisle_product_nunique"
   ]
  },
  {
   "cell_type": "code",
   "execution_count": 215,
   "metadata": {},
   "outputs": [],
   "source": [
    "train_data['UD_order_count___department_order_count']  = train_data['UD_order_count'] * 1.0 / train_data['department_order_count']\n",
    "test_data['UD_order_count___department_order_count']   = test_data['UD_order_count'] * 1.0  / test_data['department_order_count']\n",
    " \n",
    "train_data['UD_product_nunique___department_product_nunique']  = train_data['UD_product_nunique'] * 1.0 / train_data['department_product_nunique']\n",
    "test_data['UD_product_nunique___department_product_nunique']   = test_data['UD_product_nunique'] * 1.0  / test_data['department_product_nunique'] "
   ]
  },
  {
   "cell_type": "markdown",
   "metadata": {},
   "source": [
    "## hod_fea& userXhod_fea 的百分比特征 \n",
    "1. UH_order_count / hod_order_count\n",
    "2. UH_order_nunique / hod_order_nunique\n",
    "3. UH_order_nunique/hod_product_nunique"
   ]
  },
  {
   "cell_type": "code",
   "execution_count": null,
   "metadata": {},
   "outputs": [],
   "source": [
    "train_data['UH_order_count___hod_order_count']  = train_data['UH_order_count'] * 1.0 / train_data['hod_order_count']\n",
    "test_data['UH_order_count___hod_order_count']   = test_data['UH_order_count'] * 1.0  / test_data['hod_order_count']\n",
    " \n",
    "train_data['UH_product_nunique___hod_product_nunique']  = train_data['UH_order_nunique'] * 1.0 / train_data['hod_product_nunique']\n",
    "test_data['UH_product_nunique___hod_product_nunique']   = test_data['UH_order_nunique'] * 1.0  / test_data['hod_product_nunique'] "
   ]
  },
  {
   "cell_type": "markdown",
   "metadata": {},
   "source": [
    "## dow_fea& userXdow_fea 的百分比特征 \n",
    "1. UDW_order_count / dow_order_count\n",
    "2. UDW_order_nunique / dow_order_nunique\n",
    "3. UDW_product_nunique/dow_product_nunique"
   ]
  },
  {
   "cell_type": "code",
   "execution_count": 216,
   "metadata": {},
   "outputs": [],
   "source": [
    "train_data['UDW_order_count___dow_order_count']  = train_data['UDW_order_count'] * 1.0 / train_data['dow_order_count']\n",
    "test_data['UDW_order_count___dow_order_count']   = test_data['UDW_order_count'] * 1.0  / test_data['dow_order_count'] "
   ]
  },
  {
   "cell_type": "markdown",
   "metadata": {},
   "source": [
    "## product_fea& userXproduct_fea 的百分比特征 \n",
    "1. UP_order_nunique / product_order_nunique"
   ]
  },
  {
   "cell_type": "code",
   "execution_count": 217,
   "metadata": {},
   "outputs": [],
   "source": [
    "train_data['UP_order_nunique___product_order_nunique']  = train_data['UP_order_nunique'] * 1.0 / train_data['product_order_nunique']\n",
    "test_data['UP_order_nunique___product_order_nunique']   = test_data['UP_order_nunique'] * 1.0  / test_data['product_order_nunique'] "
   ]
  },
  {
   "cell_type": "code",
   "execution_count": null,
   "metadata": {},
   "outputs": [],
   "source": [
    " "
   ]
  },
  {
   "cell_type": "code",
   "execution_count": 218,
   "metadata": {},
   "outputs": [],
   "source": [
    "def validation_sample(order_ids, frac = 0.2):\n",
    "    import random\n",
    "    sample_number = int(frac * len(order_ids))\n",
    "    sample_val_order = random.sample( order_ids , sample_number) \n",
    "    sample_train_order = list(set(order_ids) - set(sample_val_order))\n",
    "    return sample_train_order,sample_val_order\n",
    "sample_train_order,sample_val_order = validation_sample(list(train_data['order_id'].unique()))"
   ]
  },
  {
   "cell_type": "code",
   "execution_count": 219,
   "metadata": {},
   "outputs": [],
   "source": [
    "fea_not_need = ['user_id','user_product','user_aisle','user_hod','user_dow','user_department','product_order_count','order_id','eval_set','product_name','label']\n",
    "feature_cols = [col for col in train_data.columns if col not in fea_not_need]\n",
    "label_cols = 'label'"
   ]
  },
  {
   "cell_type": "code",
   "execution_count": 221,
   "metadata": {},
   "outputs": [
    {
     "data": {
      "text/plain": [
       "168"
      ]
     },
     "execution_count": 221,
     "metadata": {},
     "output_type": "execute_result"
    }
   ],
   "source": [
    "len(feature_cols)"
   ]
  },
  {
   "cell_type": "code",
   "execution_count": 222,
   "metadata": {},
   "outputs": [],
   "source": [
    "train = train_data.loc[train_data.order_id.isin(sample_train_order)]\n",
    "val   = train_data.loc[train_data.order_id.isin(sample_val_order)]"
   ]
  },
  {
   "cell_type": "markdown",
   "metadata": {},
   "source": [
    "## 模型验证\n",
    "### 近似的评价指标"
   ]
  },
  {
   "cell_type": "code",
   "execution_count": 223,
   "metadata": {},
   "outputs": [],
   "source": [
    "import lightgbm as lgb\n",
    "\n",
    "from sklearn.metrics import f1_score\n",
    "def lgb_f1_score(y_hat, data):\n",
    "    y_true = data.get_label() \n",
    "    y_hat = np.round(y_hat >= 0.2) # scikits f1 doesn't like probabilities \n",
    "    return 'f1', f1_score(y_true, y_hat), True"
   ]
  },
  {
   "cell_type": "markdown",
   "metadata": {},
   "source": [
    "### 模型验证 \n",
    "此处是近似的验证,我们仅仅作为参考(未加入None等),在测试集上应该会有波动(我们的训练集&测试集的比例和线上不是一致的,为了方便我们此处随机采样了20%)\n",
    "\n",
    "<font color=red>注意: 此处我们的F1并不是Mean F1 Score,具体的Mean F1 Score的函数我们会在下一次给出,所以这边的线下的F1 Score和线上的Mean F1 Score基本是不符的。 </font>"
   ]
  },
  {
   "cell_type": "code",
   "execution_count": 224,
   "metadata": {},
   "outputs": [
    {
     "data": {
      "text/plain": [
       "1086"
      ]
     },
     "execution_count": 224,
     "metadata": {},
     "output_type": "execute_result"
    }
   ],
   "source": [
    "del _\n",
    "gc.collect()"
   ]
  },
  {
   "cell_type": "code",
   "execution_count": 225,
   "metadata": {
    "scrolled": true
   },
   "outputs": [
    {
     "name": "stdout",
     "output_type": "stream",
     "text": [
      "light GBM train :-)\n"
     ]
    },
    {
     "name": "stderr",
     "output_type": "stream",
     "text": [
      "/opt/conda/envs/zjpy36/lib/python3.6/site-packages/sklearn/metrics/classification.py:1135: UndefinedMetricWarning: F-score is ill-defined and being set to 0.0 due to no predicted samples.\n",
      "  'precision', 'predicted', average, warn_for)\n"
     ]
    },
    {
     "name": "stdout",
     "output_type": "stream",
     "text": [
      "[10]\ttraining's binary_logloss: 0.274063\ttraining's f1: 0.389345\tvalid_1's binary_logloss: 0.272968\tvalid_1's f1: 0.390796\n",
      "[20]\ttraining's binary_logloss: 0.259027\ttraining's f1: 0.432135\tvalid_1's binary_logloss: 0.257875\tvalid_1's f1: 0.432688\n",
      "[30]\ttraining's binary_logloss: 0.252336\ttraining's f1: 0.437894\tvalid_1's binary_logloss: 0.251165\tvalid_1's f1: 0.438538\n",
      "[40]\ttraining's binary_logloss: 0.249034\ttraining's f1: 0.439678\tvalid_1's binary_logloss: 0.247859\tvalid_1's f1: 0.439989\n",
      "[50]\ttraining's binary_logloss: 0.247254\ttraining's f1: 0.440788\tvalid_1's binary_logloss: 0.246098\tvalid_1's f1: 0.440947\n",
      "[60]\ttraining's binary_logloss: 0.246156\ttraining's f1: 0.441773\tvalid_1's binary_logloss: 0.245041\tvalid_1's f1: 0.441765\n",
      "[70]\ttraining's binary_logloss: 0.245482\ttraining's f1: 0.44234\tvalid_1's binary_logloss: 0.244416\tvalid_1's f1: 0.442107\n",
      "[80]\ttraining's binary_logloss: 0.245018\ttraining's f1: 0.442787\tvalid_1's binary_logloss: 0.244016\tvalid_1's f1: 0.44229\n",
      "[90]\ttraining's binary_logloss: 0.244641\ttraining's f1: 0.443199\tvalid_1's binary_logloss: 0.243713\tvalid_1's f1: 0.442703\n",
      "[100]\ttraining's binary_logloss: 0.24434\ttraining's f1: 0.443634\tvalid_1's binary_logloss: 0.243491\tvalid_1's f1: 0.443083\n",
      "[110]\ttraining's binary_logloss: 0.244067\ttraining's f1: 0.444119\tvalid_1's binary_logloss: 0.24333\tvalid_1's f1: 0.4434\n",
      "[120]\ttraining's binary_logloss: 0.24384\ttraining's f1: 0.444571\tvalid_1's binary_logloss: 0.243187\tvalid_1's f1: 0.443712\n",
      "[130]\ttraining's binary_logloss: 0.243625\ttraining's f1: 0.445063\tvalid_1's binary_logloss: 0.243046\tvalid_1's f1: 0.444032\n",
      "[140]\ttraining's binary_logloss: 0.243445\ttraining's f1: 0.445441\tvalid_1's binary_logloss: 0.242939\tvalid_1's f1: 0.444321\n",
      "[150]\ttraining's binary_logloss: 0.243235\ttraining's f1: 0.445997\tvalid_1's binary_logloss: 0.242811\tvalid_1's f1: 0.44472\n",
      "[160]\ttraining's binary_logloss: 0.243071\ttraining's f1: 0.446338\tvalid_1's binary_logloss: 0.242718\tvalid_1's f1: 0.444818\n",
      "[170]\ttraining's binary_logloss: 0.242904\ttraining's f1: 0.446639\tvalid_1's binary_logloss: 0.242644\tvalid_1's f1: 0.444915\n",
      "[180]\ttraining's binary_logloss: 0.242739\ttraining's f1: 0.447043\tvalid_1's binary_logloss: 0.242559\tvalid_1's f1: 0.445212\n",
      "[190]\ttraining's binary_logloss: 0.242606\ttraining's f1: 0.44731\tvalid_1's binary_logloss: 0.242497\tvalid_1's f1: 0.445219\n",
      "[200]\ttraining's binary_logloss: 0.242465\ttraining's f1: 0.44768\tvalid_1's binary_logloss: 0.242454\tvalid_1's f1: 0.445186\n",
      "[210]\ttraining's binary_logloss: 0.242342\ttraining's f1: 0.447921\tvalid_1's binary_logloss: 0.242403\tvalid_1's f1: 0.445274\n",
      "[220]\ttraining's binary_logloss: 0.242213\ttraining's f1: 0.448158\tvalid_1's binary_logloss: 0.242359\tvalid_1's f1: 0.445441\n",
      "[230]\ttraining's binary_logloss: 0.242091\ttraining's f1: 0.448442\tvalid_1's binary_logloss: 0.242323\tvalid_1's f1: 0.44552\n",
      "[240]\ttraining's binary_logloss: 0.241974\ttraining's f1: 0.448674\tvalid_1's binary_logloss: 0.242279\tvalid_1's f1: 0.445614\n",
      "[250]\ttraining's binary_logloss: 0.241871\ttraining's f1: 0.448901\tvalid_1's binary_logloss: 0.242245\tvalid_1's f1: 0.445745\n"
     ]
    }
   ],
   "source": [
    "d_train = lgb.Dataset(train[feature_cols], label=train[label_cols].values)   \n",
    "d_val   = lgb.Dataset(val[feature_cols], label=val[label_cols].values,reference=d_train)    \n",
    "\n",
    "params = {\n",
    "    'task': 'train',\n",
    "    'boosting_type': 'gbdt',\n",
    "    'objective': 'binary',\n",
    "    'metric': {'binary_logloss'},\n",
    "    'num_leaves': 2 ** 6,\n",
    "    'max_depth': 6,\n",
    "    'learning_rate':0.05,\n",
    "    'feature_fraction': 0.9,\n",
    "    'bagging_fraction': 0.9,\n",
    "    'bagging_freq': 5\n",
    "}\n",
    "ROUNDS = 250\n",
    "print('light GBM train :-)')\n",
    "bst = lgb.train(params, d_train, ROUNDS, valid_sets=[d_train,d_val], feval =lgb_f1_score,verbose_eval=10)\n",
    "del d_train "
   ]
  },
  {
   "cell_type": "code",
   "execution_count": 226,
   "metadata": {
    "scrolled": true
   },
   "outputs": [
    {
     "data": {
      "text/html": [
       "<div>\n",
       "<style scoped>\n",
       "    .dataframe tbody tr th:only-of-type {\n",
       "        vertical-align: middle;\n",
       "    }\n",
       "\n",
       "    .dataframe tbody tr th {\n",
       "        vertical-align: top;\n",
       "    }\n",
       "\n",
       "    .dataframe thead th {\n",
       "        text-align: right;\n",
       "    }\n",
       "</style>\n",
       "<table border=\"1\" class=\"dataframe\">\n",
       "  <thead>\n",
       "    <tr style=\"text-align: right;\">\n",
       "      <th></th>\n",
       "      <th>fea</th>\n",
       "      <th>imp</th>\n",
       "    </tr>\n",
       "  </thead>\n",
       "  <tbody>\n",
       "    <tr>\n",
       "      <th>4</th>\n",
       "      <td>days_since_prior_order</td>\n",
       "      <td>986</td>\n",
       "    </tr>\n",
       "    <tr>\n",
       "      <th>100</th>\n",
       "      <td>UP_strike_sum</td>\n",
       "      <td>614</td>\n",
       "    </tr>\n",
       "    <tr>\n",
       "      <th>147</th>\n",
       "      <td>user_product_last_to_now</td>\n",
       "      <td>483</td>\n",
       "    </tr>\n",
       "    <tr>\n",
       "      <th>77</th>\n",
       "      <td>product_reordered_mean</td>\n",
       "      <td>440</td>\n",
       "    </tr>\n",
       "    <tr>\n",
       "      <th>146</th>\n",
       "      <td>UP_count_percent</td>\n",
       "      <td>404</td>\n",
       "    </tr>\n",
       "    <tr>\n",
       "      <th>50</th>\n",
       "      <td>reordered_nonreordered_product_nunqiue_rate</td>\n",
       "      <td>300</td>\n",
       "    </tr>\n",
       "    <tr>\n",
       "      <th>82</th>\n",
       "      <td>last_3_product_strike_sum</td>\n",
       "      <td>274</td>\n",
       "    </tr>\n",
       "    <tr>\n",
       "      <th>108</th>\n",
       "      <td>UP__percentage_from_first_to_last_order</td>\n",
       "      <td>264</td>\n",
       "    </tr>\n",
       "    <tr>\n",
       "      <th>30</th>\n",
       "      <td>user_product_nunique</td>\n",
       "      <td>253</td>\n",
       "    </tr>\n",
       "    <tr>\n",
       "      <th>7</th>\n",
       "      <td>days_since_prior_order_diff</td>\n",
       "      <td>236</td>\n",
       "    </tr>\n",
       "    <tr>\n",
       "      <th>78</th>\n",
       "      <td>product_reordered_std</td>\n",
       "      <td>209</td>\n",
       "    </tr>\n",
       "    <tr>\n",
       "      <th>102</th>\n",
       "      <td>UP_date_strike_sum</td>\n",
       "      <td>209</td>\n",
       "    </tr>\n",
       "    <tr>\n",
       "      <th>87</th>\n",
       "      <td>UP_add_to_cart_order_mean</td>\n",
       "      <td>194</td>\n",
       "    </tr>\n",
       "    <tr>\n",
       "      <th>29</th>\n",
       "      <td>user_order_days_since_prior_order_last_3_mean</td>\n",
       "      <td>184</td>\n",
       "    </tr>\n",
       "    <tr>\n",
       "      <th>34</th>\n",
       "      <td>user_product_nunique_divide_nunique</td>\n",
       "      <td>175</td>\n",
       "    </tr>\n",
       "    <tr>\n",
       "      <th>159</th>\n",
       "      <td>UA_order_nunique___user_orderid_nunique</td>\n",
       "      <td>170</td>\n",
       "    </tr>\n",
       "    <tr>\n",
       "      <th>74</th>\n",
       "      <td>product_days_since_prior_order_mean</td>\n",
       "      <td>169</td>\n",
       "    </tr>\n",
       "    <tr>\n",
       "      <th>67</th>\n",
       "      <td>product_user_nunique</td>\n",
       "      <td>165</td>\n",
       "    </tr>\n",
       "    <tr>\n",
       "      <th>149</th>\n",
       "      <td>user_product_first_to_now</td>\n",
       "      <td>159</td>\n",
       "    </tr>\n",
       "    <tr>\n",
       "      <th>148</th>\n",
       "      <td>user_product_last_second_to_now</td>\n",
       "      <td>152</td>\n",
       "    </tr>\n",
       "    <tr>\n",
       "      <th>81</th>\n",
       "      <td>last_3_product_user_nunique</td>\n",
       "      <td>149</td>\n",
       "    </tr>\n",
       "    <tr>\n",
       "      <th>22</th>\n",
       "      <td>user_days_since_prior_order_diff_mean</td>\n",
       "      <td>148</td>\n",
       "    </tr>\n",
       "    <tr>\n",
       "      <th>152</th>\n",
       "      <td>UDW_product_nunique___user_product_nunique</td>\n",
       "      <td>147</td>\n",
       "    </tr>\n",
       "    <tr>\n",
       "      <th>91</th>\n",
       "      <td>UP_days_since_prior_order_mean</td>\n",
       "      <td>142</td>\n",
       "    </tr>\n",
       "    <tr>\n",
       "      <th>55</th>\n",
       "      <td>user_order_reordered_sum_mean</td>\n",
       "      <td>138</td>\n",
       "    </tr>\n",
       "    <tr>\n",
       "      <th>26</th>\n",
       "      <td>user_days_since_first_order_std</td>\n",
       "      <td>135</td>\n",
       "    </tr>\n",
       "    <tr>\n",
       "      <th>44</th>\n",
       "      <td>user_reordered_last_3_sum</td>\n",
       "      <td>129</td>\n",
       "    </tr>\n",
       "    <tr>\n",
       "      <th>93</th>\n",
       "      <td>UP_days_since_prior_order_min</td>\n",
       "      <td>123</td>\n",
       "    </tr>\n",
       "    <tr>\n",
       "      <th>142</th>\n",
       "      <td>aisle_days_since_prior_order_mean</td>\n",
       "      <td>123</td>\n",
       "    </tr>\n",
       "    <tr>\n",
       "      <th>64</th>\n",
       "      <td>user_order_reordered_product_count_mean</td>\n",
       "      <td>122</td>\n",
       "    </tr>\n",
       "    <tr>\n",
       "      <th>...</th>\n",
       "      <td>...</td>\n",
       "      <td>...</td>\n",
       "    </tr>\n",
       "    <tr>\n",
       "      <th>49</th>\n",
       "      <td>reordered_product_nunqiue</td>\n",
       "      <td>32</td>\n",
       "    </tr>\n",
       "    <tr>\n",
       "      <th>120</th>\n",
       "      <td>UD_order_count</td>\n",
       "      <td>31</td>\n",
       "    </tr>\n",
       "    <tr>\n",
       "      <th>117</th>\n",
       "      <td>UH_product_nunique</td>\n",
       "      <td>31</td>\n",
       "    </tr>\n",
       "    <tr>\n",
       "      <th>140</th>\n",
       "      <td>aisle_user_nunique</td>\n",
       "      <td>30</td>\n",
       "    </tr>\n",
       "    <tr>\n",
       "      <th>136</th>\n",
       "      <td>aisle_order_count</td>\n",
       "      <td>30</td>\n",
       "    </tr>\n",
       "    <tr>\n",
       "      <th>126</th>\n",
       "      <td>UA_order_nunique</td>\n",
       "      <td>29</td>\n",
       "    </tr>\n",
       "    <tr>\n",
       "      <th>18</th>\n",
       "      <td>user_days_since_prior_order_max</td>\n",
       "      <td>29</td>\n",
       "    </tr>\n",
       "    <tr>\n",
       "      <th>84</th>\n",
       "      <td>aisle_id</td>\n",
       "      <td>29</td>\n",
       "    </tr>\n",
       "    <tr>\n",
       "      <th>39</th>\n",
       "      <td>user_department_count</td>\n",
       "      <td>28</td>\n",
       "    </tr>\n",
       "    <tr>\n",
       "      <th>71</th>\n",
       "      <td>product_hour_of_day_mode_1</td>\n",
       "      <td>28</td>\n",
       "    </tr>\n",
       "    <tr>\n",
       "      <th>57</th>\n",
       "      <td>user_order_reordered_sum_max</td>\n",
       "      <td>23</td>\n",
       "    </tr>\n",
       "    <tr>\n",
       "      <th>132</th>\n",
       "      <td>UA_days_since_prior_order_max</td>\n",
       "      <td>22</td>\n",
       "    </tr>\n",
       "    <tr>\n",
       "      <th>125</th>\n",
       "      <td>UD_days_since_prior_order_max</td>\n",
       "      <td>21</td>\n",
       "    </tr>\n",
       "    <tr>\n",
       "      <th>90</th>\n",
       "      <td>UP_order_dow_mode_1</td>\n",
       "      <td>19</td>\n",
       "    </tr>\n",
       "    <tr>\n",
       "      <th>63</th>\n",
       "      <td>user_order_reordered_product_count_percent_max</td>\n",
       "      <td>19</td>\n",
       "    </tr>\n",
       "    <tr>\n",
       "      <th>80</th>\n",
       "      <td>last_3_product_order_nunique</td>\n",
       "      <td>17</td>\n",
       "    </tr>\n",
       "    <tr>\n",
       "      <th>119</th>\n",
       "      <td>UD_order_nunique</td>\n",
       "      <td>17</td>\n",
       "    </tr>\n",
       "    <tr>\n",
       "      <th>112</th>\n",
       "      <td>last_3_user_product_order_reordered_rate</td>\n",
       "      <td>16</td>\n",
       "    </tr>\n",
       "    <tr>\n",
       "      <th>10</th>\n",
       "      <td>user_order_dow_mode_1</td>\n",
       "      <td>16</td>\n",
       "    </tr>\n",
       "    <tr>\n",
       "      <th>48</th>\n",
       "      <td>non_reordered_product_nunqiue</td>\n",
       "      <td>14</td>\n",
       "    </tr>\n",
       "    <tr>\n",
       "      <th>65</th>\n",
       "      <td>user_order_reordered_product_count_max</td>\n",
       "      <td>13</td>\n",
       "    </tr>\n",
       "    <tr>\n",
       "      <th>137</th>\n",
       "      <td>aisle_order_nunique</td>\n",
       "      <td>11</td>\n",
       "    </tr>\n",
       "    <tr>\n",
       "      <th>134</th>\n",
       "      <td>hod_product_nunique</td>\n",
       "      <td>11</td>\n",
       "    </tr>\n",
       "    <tr>\n",
       "      <th>70</th>\n",
       "      <td>product_dow_mode_1</td>\n",
       "      <td>9</td>\n",
       "    </tr>\n",
       "    <tr>\n",
       "      <th>9</th>\n",
       "      <td>user_orderid_nunique</td>\n",
       "      <td>6</td>\n",
       "    </tr>\n",
       "    <tr>\n",
       "      <th>73</th>\n",
       "      <td>product_days_since_prior_order_mode_1</td>\n",
       "      <td>6</td>\n",
       "    </tr>\n",
       "    <tr>\n",
       "      <th>2</th>\n",
       "      <td>order_dow</td>\n",
       "      <td>5</td>\n",
       "    </tr>\n",
       "    <tr>\n",
       "      <th>27</th>\n",
       "      <td>user_days_since_first_order_max</td>\n",
       "      <td>5</td>\n",
       "    </tr>\n",
       "    <tr>\n",
       "      <th>103</th>\n",
       "      <td>UP_date_strike_max</td>\n",
       "      <td>0</td>\n",
       "    </tr>\n",
       "    <tr>\n",
       "      <th>8</th>\n",
       "      <td>order_number_desc</td>\n",
       "      <td>0</td>\n",
       "    </tr>\n",
       "  </tbody>\n",
       "</table>\n",
       "<p>168 rows × 2 columns</p>\n",
       "</div>"
      ],
      "text/plain": [
       "                                                fea  imp\n",
       "4                            days_since_prior_order  986\n",
       "100                                   UP_strike_sum  614\n",
       "147                        user_product_last_to_now  483\n",
       "77                           product_reordered_mean  440\n",
       "146                                UP_count_percent  404\n",
       "50      reordered_nonreordered_product_nunqiue_rate  300\n",
       "82                        last_3_product_strike_sum  274\n",
       "108         UP__percentage_from_first_to_last_order  264\n",
       "30                             user_product_nunique  253\n",
       "7                       days_since_prior_order_diff  236\n",
       "78                            product_reordered_std  209\n",
       "102                              UP_date_strike_sum  209\n",
       "87                        UP_add_to_cart_order_mean  194\n",
       "29    user_order_days_since_prior_order_last_3_mean  184\n",
       "34              user_product_nunique_divide_nunique  175\n",
       "159         UA_order_nunique___user_orderid_nunique  170\n",
       "74              product_days_since_prior_order_mean  169\n",
       "67                             product_user_nunique  165\n",
       "149                       user_product_first_to_now  159\n",
       "148                 user_product_last_second_to_now  152\n",
       "81                      last_3_product_user_nunique  149\n",
       "22            user_days_since_prior_order_diff_mean  148\n",
       "152      UDW_product_nunique___user_product_nunique  147\n",
       "91                   UP_days_since_prior_order_mean  142\n",
       "55                    user_order_reordered_sum_mean  138\n",
       "26                  user_days_since_first_order_std  135\n",
       "44                        user_reordered_last_3_sum  129\n",
       "93                    UP_days_since_prior_order_min  123\n",
       "142               aisle_days_since_prior_order_mean  123\n",
       "64          user_order_reordered_product_count_mean  122\n",
       "..                                              ...  ...\n",
       "49                        reordered_product_nunqiue   32\n",
       "120                                  UD_order_count   31\n",
       "117                              UH_product_nunique   31\n",
       "140                              aisle_user_nunique   30\n",
       "136                               aisle_order_count   30\n",
       "126                                UA_order_nunique   29\n",
       "18                  user_days_since_prior_order_max   29\n",
       "84                                         aisle_id   29\n",
       "39                            user_department_count   28\n",
       "71                       product_hour_of_day_mode_1   28\n",
       "57                     user_order_reordered_sum_max   23\n",
       "132                   UA_days_since_prior_order_max   22\n",
       "125                   UD_days_since_prior_order_max   21\n",
       "90                              UP_order_dow_mode_1   19\n",
       "63   user_order_reordered_product_count_percent_max   19\n",
       "80                     last_3_product_order_nunique   17\n",
       "119                                UD_order_nunique   17\n",
       "112        last_3_user_product_order_reordered_rate   16\n",
       "10                            user_order_dow_mode_1   16\n",
       "48                    non_reordered_product_nunqiue   14\n",
       "65           user_order_reordered_product_count_max   13\n",
       "137                             aisle_order_nunique   11\n",
       "134                             hod_product_nunique   11\n",
       "70                               product_dow_mode_1    9\n",
       "9                              user_orderid_nunique    6\n",
       "73            product_days_since_prior_order_mode_1    6\n",
       "2                                         order_dow    5\n",
       "27                  user_days_since_first_order_max    5\n",
       "103                              UP_date_strike_max    0\n",
       "8                                 order_number_desc    0\n",
       "\n",
       "[168 rows x 2 columns]"
      ]
     },
     "execution_count": 226,
     "metadata": {},
     "output_type": "execute_result"
    }
   ],
   "source": [
    "pd.DataFrame({'fea':feature_cols, 'imp':bst.feature_importance()}).sort_values('imp',ascending = False)"
   ]
  },
  {
   "cell_type": "markdown",
   "metadata": {},
   "source": [
    "# 模型训练&提交\n",
    "## 模型训练\n",
    "### 训练5折模型：0.3871218(594/2623)"
   ]
  },
  {
   "cell_type": "code",
   "execution_count": 227,
   "metadata": {
    "scrolled": true
   },
   "outputs": [
    {
     "name": "stderr",
     "output_type": "stream",
     "text": [
      "/opt/conda/envs/zjpy36/lib/python3.6/site-packages/sklearn/cross_validation.py:41: DeprecationWarning: This module was deprecated in version 0.18 in favor of the model_selection module into which all the refactored classes and functions are moved. Also note that the interface of the new CV iterators are different from that of this module. This module will be removed in 0.20.\n",
      "  \"This module will be removed in 0.20.\", DeprecationWarning)\n"
     ]
    },
    {
     "name": "stdout",
     "output_type": "stream",
     "text": [
      "1\n",
      "training\n",
      "2\n",
      "training\n",
      "3\n",
      "training\n",
      "4\n",
      "training\n",
      "5\n",
      "training\n"
     ]
    }
   ],
   "source": [
    "train_num = train_data.shape[0]\n",
    "from sklearn.cross_validation import KFold\n",
    "kf=KFold(train_num,5,random_state=2017)\n",
    "\n",
    "st=0 \n",
    "preds1 = []\n",
    "models = []\n",
    "j=0 \n",
    "for tr_index,te_index in kf:  \n",
    "    print(j + 1)\n",
    "    j += 1\n",
    "    train_ = train_data.iloc[tr_index]\n",
    "    val_   = train_data.iloc[te_index]\n",
    " \n",
    "    tr_x = lgb.Dataset(train_[feature_cols], label= train_[label_cols].values)\n",
    "    te_x = lgb.Dataset(val_[feature_cols], label= val_[label_cols].values) \n",
    " \n",
    "    params = {\n",
    "        'boosting_type': 'gbdt',\n",
    "        'objective': 'binary',\n",
    "        'metric': 'binary_logloss',\n",
    "        'learning_rate': 0.05,\n",
    "        'num_leaves': 2 ** 6,\n",
    "        'max_depth': 6,\n",
    "        'feature_fraction': 0.9,\n",
    "        'bagging_fraction': 0.9,\n",
    "        'bagging_freq': 5,\n",
    "        'seed': 2018\n",
    "    }\n",
    "    num_round = 2500\n",
    "    print('training')\n",
    "    model = lgb.train(params, tr_x, num_round) # valid_sets=te_x,early_stopping_rounds=50, verbose_eval=10\n",
    "\n",
    "    # 线下评分\n",
    "    pre_score = model.predict(test_data[feature_cols], num_iteration=model.best_iteration)    \n",
    "    preds1.append(pre_score)\n",
    "    models.append(model)\n",
    "    del tr_x,te_x\n",
    "    gc.collect()"
   ]
  },
  {
   "cell_type": "code",
   "execution_count": null,
   "metadata": {},
   "outputs": [],
   "source": [
    "test_data['pred'] = np.mean(preds1,axis=0) \n",
    "test_data['product_id'] = test_data['product_id'].astype(str)\n",
    "order_product = {}\n",
    "for order_id, val, product_id in test_data[['order_id','pred','product_id']].values:\n",
    "    if order_id in order_product.keys():\n",
    "        if val >= 0.2:\n",
    "            if order_product[order_id] == '':\n",
    "                order_product[order_id] = str(product_id )\n",
    "            else:\n",
    "                order_product[order_id] += ' ' + str(product_id )\n",
    "    else:\n",
    "        order_product[order_id] = ''\n",
    "        if val >= 0.2:\n",
    "            order_product[order_id] = str(product_id ) \n",
    "\n",
    "sub = pd.DataFrame.from_dict(order_product, orient='index')\n",
    "sub.reset_index(inplace=True)\n",
    "sub.columns = ['order_id', 'products']\n",
    "sub.loc[sub.products =='', 'products'] = 'None'\n",
    "sub.to_csv('2500_mean.csv',index = None)"
   ]
  },
  {
   "cell_type": "markdown",
   "metadata": {},
   "source": [
    "### 全数据训练单模型：0.3863552(597/2623)"
   ]
  },
  {
   "cell_type": "code",
   "execution_count": 235,
   "metadata": {
    "scrolled": true
   },
   "outputs": [
    {
     "name": "stdout",
     "output_type": "stream",
     "text": [
      "light GBM train :-)\n"
     ]
    },
    {
     "name": "stderr",
     "output_type": "stream",
     "text": [
      "/opt/conda/envs/zjpy36/lib/python3.6/site-packages/sklearn/metrics/classification.py:1135: UndefinedMetricWarning: F-score is ill-defined and being set to 0.0 due to no predicted samples.\n",
      "  'precision', 'predicted', average, warn_for)\n"
     ]
    },
    {
     "name": "stdout",
     "output_type": "stream",
     "text": [
      "[10]\ttraining's binary_logloss: 0.27379\ttraining's f1: 0.388848\n",
      "[20]\ttraining's binary_logloss: 0.258763\ttraining's f1: 0.431862\n",
      "[30]\ttraining's binary_logloss: 0.25208\ttraining's f1: 0.438223\n",
      "[40]\ttraining's binary_logloss: 0.248755\ttraining's f1: 0.440211\n",
      "[50]\ttraining's binary_logloss: 0.246961\ttraining's f1: 0.441122\n",
      "[60]\ttraining's binary_logloss: 0.24588\ttraining's f1: 0.441895\n",
      "[70]\ttraining's binary_logloss: 0.245257\ttraining's f1: 0.442391\n",
      "[80]\ttraining's binary_logloss: 0.244792\ttraining's f1: 0.442862\n",
      "[90]\ttraining's binary_logloss: 0.244429\ttraining's f1: 0.443276\n",
      "[100]\ttraining's binary_logloss: 0.244133\ttraining's f1: 0.443797\n",
      "[110]\ttraining's binary_logloss: 0.243876\ttraining's f1: 0.444165\n",
      "[120]\ttraining's binary_logloss: 0.243629\ttraining's f1: 0.444664\n",
      "[130]\ttraining's binary_logloss: 0.243418\ttraining's f1: 0.445101\n",
      "[140]\ttraining's binary_logloss: 0.243245\ttraining's f1: 0.445455\n",
      "[150]\ttraining's binary_logloss: 0.243071\ttraining's f1: 0.445854\n",
      "[160]\ttraining's binary_logloss: 0.242915\ttraining's f1: 0.44624\n",
      "[170]\ttraining's binary_logloss: 0.242752\ttraining's f1: 0.446507\n",
      "[180]\ttraining's binary_logloss: 0.242619\ttraining's f1: 0.446818\n",
      "[190]\ttraining's binary_logloss: 0.24249\ttraining's f1: 0.447105\n",
      "[200]\ttraining's binary_logloss: 0.242366\ttraining's f1: 0.447405\n",
      "[210]\ttraining's binary_logloss: 0.242247\ttraining's f1: 0.447694\n",
      "[220]\ttraining's binary_logloss: 0.242147\ttraining's f1: 0.447876\n",
      "[230]\ttraining's binary_logloss: 0.242053\ttraining's f1: 0.448075\n",
      "[240]\ttraining's binary_logloss: 0.241931\ttraining's f1: 0.448336\n",
      "[250]\ttraining's binary_logloss: 0.241825\ttraining's f1: 0.448584\n",
      "[260]\ttraining's binary_logloss: 0.241722\ttraining's f1: 0.44889\n",
      "[270]\ttraining's binary_logloss: 0.241624\ttraining's f1: 0.449197\n",
      "[280]\ttraining's binary_logloss: 0.241526\ttraining's f1: 0.449429\n",
      "[290]\ttraining's binary_logloss: 0.241433\ttraining's f1: 0.449648\n",
      "[300]\ttraining's binary_logloss: 0.241329\ttraining's f1: 0.449862\n",
      "[310]\ttraining's binary_logloss: 0.241239\ttraining's f1: 0.450037\n",
      "[320]\ttraining's binary_logloss: 0.24115\ttraining's f1: 0.450267\n",
      "[330]\ttraining's binary_logloss: 0.241072\ttraining's f1: 0.450412\n",
      "[340]\ttraining's binary_logloss: 0.240987\ttraining's f1: 0.450518\n",
      "[350]\ttraining's binary_logloss: 0.240916\ttraining's f1: 0.45072\n",
      "[360]\ttraining's binary_logloss: 0.240826\ttraining's f1: 0.450992\n",
      "[370]\ttraining's binary_logloss: 0.240736\ttraining's f1: 0.451206\n",
      "[380]\ttraining's binary_logloss: 0.240672\ttraining's f1: 0.451291\n",
      "[390]\ttraining's binary_logloss: 0.240585\ttraining's f1: 0.451495\n",
      "[400]\ttraining's binary_logloss: 0.240505\ttraining's f1: 0.451662\n",
      "[410]\ttraining's binary_logloss: 0.240429\ttraining's f1: 0.451863\n",
      "[420]\ttraining's binary_logloss: 0.240358\ttraining's f1: 0.452013\n",
      "[430]\ttraining's binary_logloss: 0.240281\ttraining's f1: 0.452204\n",
      "[440]\ttraining's binary_logloss: 0.240226\ttraining's f1: 0.452311\n",
      "[450]\ttraining's binary_logloss: 0.240156\ttraining's f1: 0.452529\n",
      "[460]\ttraining's binary_logloss: 0.2401\ttraining's f1: 0.452647\n",
      "[470]\ttraining's binary_logloss: 0.240035\ttraining's f1: 0.452773\n",
      "[480]\ttraining's binary_logloss: 0.23996\ttraining's f1: 0.45299\n",
      "[490]\ttraining's binary_logloss: 0.239896\ttraining's f1: 0.453146\n",
      "[500]\ttraining's binary_logloss: 0.239837\ttraining's f1: 0.453285\n",
      "[510]\ttraining's binary_logloss: 0.239762\ttraining's f1: 0.453467\n",
      "[520]\ttraining's binary_logloss: 0.239699\ttraining's f1: 0.453584\n",
      "[530]\ttraining's binary_logloss: 0.239624\ttraining's f1: 0.453811\n",
      "[540]\ttraining's binary_logloss: 0.239561\ttraining's f1: 0.453931\n",
      "[550]\ttraining's binary_logloss: 0.239495\ttraining's f1: 0.454099\n",
      "[560]\ttraining's binary_logloss: 0.239443\ttraining's f1: 0.454215\n",
      "[570]\ttraining's binary_logloss: 0.239381\ttraining's f1: 0.454281\n",
      "[580]\ttraining's binary_logloss: 0.239326\ttraining's f1: 0.454385\n",
      "[590]\ttraining's binary_logloss: 0.239261\ttraining's f1: 0.45453\n",
      "[600]\ttraining's binary_logloss: 0.239193\ttraining's f1: 0.454689\n",
      "[610]\ttraining's binary_logloss: 0.239134\ttraining's f1: 0.454818\n",
      "[620]\ttraining's binary_logloss: 0.239069\ttraining's f1: 0.455012\n",
      "[630]\ttraining's binary_logloss: 0.239009\ttraining's f1: 0.45517\n",
      "[640]\ttraining's binary_logloss: 0.238954\ttraining's f1: 0.455279\n",
      "[650]\ttraining's binary_logloss: 0.238885\ttraining's f1: 0.455407\n",
      "[660]\ttraining's binary_logloss: 0.238823\ttraining's f1: 0.455557\n",
      "[670]\ttraining's binary_logloss: 0.23876\ttraining's f1: 0.455739\n",
      "[680]\ttraining's binary_logloss: 0.23871\ttraining's f1: 0.455852\n",
      "[690]\ttraining's binary_logloss: 0.238645\ttraining's f1: 0.45592\n",
      "[700]\ttraining's binary_logloss: 0.238593\ttraining's f1: 0.456035\n",
      "[710]\ttraining's binary_logloss: 0.23853\ttraining's f1: 0.456142\n",
      "[720]\ttraining's binary_logloss: 0.238466\ttraining's f1: 0.456268\n",
      "[730]\ttraining's binary_logloss: 0.238401\ttraining's f1: 0.456426\n",
      "[740]\ttraining's binary_logloss: 0.238339\ttraining's f1: 0.456563\n",
      "[750]\ttraining's binary_logloss: 0.238281\ttraining's f1: 0.456711\n",
      "[760]\ttraining's binary_logloss: 0.238226\ttraining's f1: 0.456852\n",
      "[770]\ttraining's binary_logloss: 0.238163\ttraining's f1: 0.457024\n",
      "[780]\ttraining's binary_logloss: 0.238114\ttraining's f1: 0.457173\n",
      "[790]\ttraining's binary_logloss: 0.23806\ttraining's f1: 0.457337\n",
      "[800]\ttraining's binary_logloss: 0.238007\ttraining's f1: 0.457488\n",
      "[810]\ttraining's binary_logloss: 0.237944\ttraining's f1: 0.457636\n",
      "[820]\ttraining's binary_logloss: 0.237868\ttraining's f1: 0.457821\n",
      "[830]\ttraining's binary_logloss: 0.23782\ttraining's f1: 0.457977\n",
      "[840]\ttraining's binary_logloss: 0.237758\ttraining's f1: 0.458087\n",
      "[850]\ttraining's binary_logloss: 0.237698\ttraining's f1: 0.458243\n",
      "[860]\ttraining's binary_logloss: 0.237648\ttraining's f1: 0.458402\n",
      "[870]\ttraining's binary_logloss: 0.237592\ttraining's f1: 0.458507\n",
      "[880]\ttraining's binary_logloss: 0.237536\ttraining's f1: 0.458614\n",
      "[890]\ttraining's binary_logloss: 0.237478\ttraining's f1: 0.458715\n",
      "[900]\ttraining's binary_logloss: 0.237427\ttraining's f1: 0.458782\n",
      "[910]\ttraining's binary_logloss: 0.237381\ttraining's f1: 0.458857\n",
      "[920]\ttraining's binary_logloss: 0.237331\ttraining's f1: 0.459007\n",
      "[930]\ttraining's binary_logloss: 0.237282\ttraining's f1: 0.459148\n",
      "[940]\ttraining's binary_logloss: 0.237223\ttraining's f1: 0.459307\n",
      "[950]\ttraining's binary_logloss: 0.237179\ttraining's f1: 0.459387\n",
      "[960]\ttraining's binary_logloss: 0.237129\ttraining's f1: 0.459492\n",
      "[970]\ttraining's binary_logloss: 0.237071\ttraining's f1: 0.459654\n",
      "[980]\ttraining's binary_logloss: 0.237021\ttraining's f1: 0.45975\n",
      "[990]\ttraining's binary_logloss: 0.236966\ttraining's f1: 0.459856\n",
      "[1000]\ttraining's binary_logloss: 0.23692\ttraining's f1: 0.459996\n",
      "[1010]\ttraining's binary_logloss: 0.23686\ttraining's f1: 0.460081\n",
      "[1020]\ttraining's binary_logloss: 0.236809\ttraining's f1: 0.46019\n",
      "[1030]\ttraining's binary_logloss: 0.236759\ttraining's f1: 0.460258\n",
      "[1040]\ttraining's binary_logloss: 0.23671\ttraining's f1: 0.460403\n",
      "[1050]\ttraining's binary_logloss: 0.236661\ttraining's f1: 0.460547\n",
      "[1060]\ttraining's binary_logloss: 0.236614\ttraining's f1: 0.460611\n",
      "[1070]\ttraining's binary_logloss: 0.236566\ttraining's f1: 0.460693\n",
      "[1080]\ttraining's binary_logloss: 0.236511\ttraining's f1: 0.46083\n",
      "[1090]\ttraining's binary_logloss: 0.236457\ttraining's f1: 0.46098\n",
      "[1100]\ttraining's binary_logloss: 0.236406\ttraining's f1: 0.461137\n",
      "[1110]\ttraining's binary_logloss: 0.236353\ttraining's f1: 0.461283\n",
      "[1120]\ttraining's binary_logloss: 0.23631\ttraining's f1: 0.461395\n",
      "[1130]\ttraining's binary_logloss: 0.236262\ttraining's f1: 0.461566\n",
      "[1140]\ttraining's binary_logloss: 0.236209\ttraining's f1: 0.461659\n",
      "[1150]\ttraining's binary_logloss: 0.236163\ttraining's f1: 0.461774\n",
      "[1160]\ttraining's binary_logloss: 0.236115\ttraining's f1: 0.461892\n",
      "[1170]\ttraining's binary_logloss: 0.236068\ttraining's f1: 0.461977\n",
      "[1180]\ttraining's binary_logloss: 0.236012\ttraining's f1: 0.46213\n",
      "[1190]\ttraining's binary_logloss: 0.235962\ttraining's f1: 0.462233\n",
      "[1200]\ttraining's binary_logloss: 0.235918\ttraining's f1: 0.46238\n",
      "[1210]\ttraining's binary_logloss: 0.235859\ttraining's f1: 0.462484\n",
      "[1220]\ttraining's binary_logloss: 0.23581\ttraining's f1: 0.46258\n",
      "[1230]\ttraining's binary_logloss: 0.23576\ttraining's f1: 0.46274\n",
      "[1240]\ttraining's binary_logloss: 0.235711\ttraining's f1: 0.462821\n",
      "[1250]\ttraining's binary_logloss: 0.235663\ttraining's f1: 0.462906\n"
     ]
    },
    {
     "name": "stdout",
     "output_type": "stream",
     "text": [
      "[1260]\ttraining's binary_logloss: 0.235623\ttraining's f1: 0.462968\n",
      "[1270]\ttraining's binary_logloss: 0.235581\ttraining's f1: 0.463061\n",
      "[1280]\ttraining's binary_logloss: 0.235538\ttraining's f1: 0.463164\n",
      "[1290]\ttraining's binary_logloss: 0.23549\ttraining's f1: 0.463315\n",
      "[1300]\ttraining's binary_logloss: 0.235435\ttraining's f1: 0.463476\n",
      "[1310]\ttraining's binary_logloss: 0.235383\ttraining's f1: 0.463559\n",
      "[1320]\ttraining's binary_logloss: 0.235337\ttraining's f1: 0.463683\n",
      "[1330]\ttraining's binary_logloss: 0.235297\ttraining's f1: 0.463761\n",
      "[1340]\ttraining's binary_logloss: 0.235242\ttraining's f1: 0.463909\n",
      "[1350]\ttraining's binary_logloss: 0.235199\ttraining's f1: 0.463999\n",
      "[1360]\ttraining's binary_logloss: 0.235161\ttraining's f1: 0.464078\n",
      "[1370]\ttraining's binary_logloss: 0.235109\ttraining's f1: 0.46421\n",
      "[1380]\ttraining's binary_logloss: 0.23507\ttraining's f1: 0.464314\n",
      "[1390]\ttraining's binary_logloss: 0.235023\ttraining's f1: 0.464442\n",
      "[1400]\ttraining's binary_logloss: 0.234969\ttraining's f1: 0.464563\n",
      "[1410]\ttraining's binary_logloss: 0.234921\ttraining's f1: 0.464682\n",
      "[1420]\ttraining's binary_logloss: 0.234882\ttraining's f1: 0.46474\n",
      "[1430]\ttraining's binary_logloss: 0.234842\ttraining's f1: 0.4648\n",
      "[1440]\ttraining's binary_logloss: 0.234788\ttraining's f1: 0.464917\n",
      "[1450]\ttraining's binary_logloss: 0.23475\ttraining's f1: 0.465033\n",
      "[1460]\ttraining's binary_logloss: 0.234702\ttraining's f1: 0.465148\n",
      "[1470]\ttraining's binary_logloss: 0.234655\ttraining's f1: 0.465248\n",
      "[1480]\ttraining's binary_logloss: 0.234615\ttraining's f1: 0.465385\n",
      "[1490]\ttraining's binary_logloss: 0.234583\ttraining's f1: 0.465459\n",
      "[1500]\ttraining's binary_logloss: 0.234528\ttraining's f1: 0.465546\n",
      "[1510]\ttraining's binary_logloss: 0.234478\ttraining's f1: 0.465655\n",
      "[1520]\ttraining's binary_logloss: 0.234431\ttraining's f1: 0.465791\n",
      "[1530]\ttraining's binary_logloss: 0.234383\ttraining's f1: 0.465903\n",
      "[1540]\ttraining's binary_logloss: 0.234341\ttraining's f1: 0.465978\n",
      "[1550]\ttraining's binary_logloss: 0.234303\ttraining's f1: 0.466047\n",
      "[1560]\ttraining's binary_logloss: 0.234266\ttraining's f1: 0.466115\n",
      "[1570]\ttraining's binary_logloss: 0.234222\ttraining's f1: 0.466236\n",
      "[1580]\ttraining's binary_logloss: 0.234176\ttraining's f1: 0.466371\n",
      "[1590]\ttraining's binary_logloss: 0.23413\ttraining's f1: 0.466451\n",
      "[1600]\ttraining's binary_logloss: 0.234084\ttraining's f1: 0.466574\n",
      "[1610]\ttraining's binary_logloss: 0.234041\ttraining's f1: 0.46667\n",
      "[1620]\ttraining's binary_logloss: 0.234001\ttraining's f1: 0.466768\n",
      "[1630]\ttraining's binary_logloss: 0.233952\ttraining's f1: 0.466891\n",
      "[1640]\ttraining's binary_logloss: 0.233906\ttraining's f1: 0.467034\n",
      "[1650]\ttraining's binary_logloss: 0.233866\ttraining's f1: 0.467091\n",
      "[1660]\ttraining's binary_logloss: 0.233818\ttraining's f1: 0.467209\n",
      "[1670]\ttraining's binary_logloss: 0.233773\ttraining's f1: 0.46735\n",
      "[1680]\ttraining's binary_logloss: 0.233731\ttraining's f1: 0.467421\n",
      "[1690]\ttraining's binary_logloss: 0.233687\ttraining's f1: 0.467514\n",
      "[1700]\ttraining's binary_logloss: 0.233643\ttraining's f1: 0.46764\n",
      "[1710]\ttraining's binary_logloss: 0.233596\ttraining's f1: 0.467736\n",
      "[1720]\ttraining's binary_logloss: 0.233552\ttraining's f1: 0.467872\n",
      "[1730]\ttraining's binary_logloss: 0.233505\ttraining's f1: 0.467976\n",
      "[1740]\ttraining's binary_logloss: 0.233466\ttraining's f1: 0.468068\n",
      "[1750]\ttraining's binary_logloss: 0.233425\ttraining's f1: 0.468142\n",
      "[1760]\ttraining's binary_logloss: 0.233377\ttraining's f1: 0.468269\n",
      "[1770]\ttraining's binary_logloss: 0.233335\ttraining's f1: 0.46838\n",
      "[1780]\ttraining's binary_logloss: 0.233287\ttraining's f1: 0.468476\n",
      "[1790]\ttraining's binary_logloss: 0.233243\ttraining's f1: 0.468616\n",
      "[1800]\ttraining's binary_logloss: 0.233203\ttraining's f1: 0.468708\n",
      "[1810]\ttraining's binary_logloss: 0.233161\ttraining's f1: 0.468776\n",
      "[1820]\ttraining's binary_logloss: 0.233124\ttraining's f1: 0.468854\n",
      "[1830]\ttraining's binary_logloss: 0.233082\ttraining's f1: 0.46896\n",
      "[1840]\ttraining's binary_logloss: 0.233038\ttraining's f1: 0.469097\n",
      "[1850]\ttraining's binary_logloss: 0.23299\ttraining's f1: 0.469267\n",
      "[1860]\ttraining's binary_logloss: 0.232947\ttraining's f1: 0.469347\n",
      "[1870]\ttraining's binary_logloss: 0.232898\ttraining's f1: 0.469471\n",
      "[1880]\ttraining's binary_logloss: 0.232856\ttraining's f1: 0.469502\n",
      "[1890]\ttraining's binary_logloss: 0.23281\ttraining's f1: 0.469618\n",
      "[1900]\ttraining's binary_logloss: 0.232762\ttraining's f1: 0.469736\n",
      "[1910]\ttraining's binary_logloss: 0.232719\ttraining's f1: 0.469825\n",
      "[1920]\ttraining's binary_logloss: 0.232675\ttraining's f1: 0.469947\n",
      "[1930]\ttraining's binary_logloss: 0.232632\ttraining's f1: 0.470067\n",
      "[1940]\ttraining's binary_logloss: 0.232583\ttraining's f1: 0.470144\n",
      "[1950]\ttraining's binary_logloss: 0.232545\ttraining's f1: 0.470222\n",
      "[1960]\ttraining's binary_logloss: 0.232509\ttraining's f1: 0.470315\n",
      "[1970]\ttraining's binary_logloss: 0.232461\ttraining's f1: 0.470389\n",
      "[1980]\ttraining's binary_logloss: 0.23242\ttraining's f1: 0.470495\n",
      "[1990]\ttraining's binary_logloss: 0.232377\ttraining's f1: 0.470627\n",
      "[2000]\ttraining's binary_logloss: 0.232342\ttraining's f1: 0.470732\n",
      "[2010]\ttraining's binary_logloss: 0.232305\ttraining's f1: 0.47078\n",
      "[2020]\ttraining's binary_logloss: 0.232267\ttraining's f1: 0.470847\n",
      "[2030]\ttraining's binary_logloss: 0.232218\ttraining's f1: 0.470954\n",
      "[2040]\ttraining's binary_logloss: 0.23219\ttraining's f1: 0.47101\n",
      "[2050]\ttraining's binary_logloss: 0.232147\ttraining's f1: 0.471136\n",
      "[2060]\ttraining's binary_logloss: 0.232113\ttraining's f1: 0.471215\n",
      "[2070]\ttraining's binary_logloss: 0.23208\ttraining's f1: 0.471305\n",
      "[2080]\ttraining's binary_logloss: 0.23203\ttraining's f1: 0.471422\n",
      "[2090]\ttraining's binary_logloss: 0.23198\ttraining's f1: 0.471515\n",
      "[2100]\ttraining's binary_logloss: 0.231938\ttraining's f1: 0.471612\n",
      "[2110]\ttraining's binary_logloss: 0.2319\ttraining's f1: 0.471719\n",
      "[2120]\ttraining's binary_logloss: 0.231867\ttraining's f1: 0.471816\n",
      "[2130]\ttraining's binary_logloss: 0.231815\ttraining's f1: 0.471937\n",
      "[2140]\ttraining's binary_logloss: 0.231771\ttraining's f1: 0.47204\n",
      "[2150]\ttraining's binary_logloss: 0.231731\ttraining's f1: 0.472151\n",
      "[2160]\ttraining's binary_logloss: 0.231691\ttraining's f1: 0.472228\n",
      "[2170]\ttraining's binary_logloss: 0.231653\ttraining's f1: 0.472293\n",
      "[2180]\ttraining's binary_logloss: 0.231611\ttraining's f1: 0.472398\n",
      "[2190]\ttraining's binary_logloss: 0.23157\ttraining's f1: 0.472506\n",
      "[2200]\ttraining's binary_logloss: 0.231529\ttraining's f1: 0.472643\n",
      "[2210]\ttraining's binary_logloss: 0.231492\ttraining's f1: 0.472692\n",
      "[2220]\ttraining's binary_logloss: 0.231454\ttraining's f1: 0.472785\n",
      "[2230]\ttraining's binary_logloss: 0.231413\ttraining's f1: 0.472899\n",
      "[2240]\ttraining's binary_logloss: 0.231367\ttraining's f1: 0.472995\n",
      "[2250]\ttraining's binary_logloss: 0.231333\ttraining's f1: 0.473054\n",
      "[2260]\ttraining's binary_logloss: 0.231292\ttraining's f1: 0.473159\n",
      "[2270]\ttraining's binary_logloss: 0.231253\ttraining's f1: 0.47322\n",
      "[2280]\ttraining's binary_logloss: 0.231212\ttraining's f1: 0.47333\n",
      "[2290]\ttraining's binary_logloss: 0.231178\ttraining's f1: 0.47344\n",
      "[2300]\ttraining's binary_logloss: 0.23114\ttraining's f1: 0.473552\n",
      "[2310]\ttraining's binary_logloss: 0.231099\ttraining's f1: 0.473623\n",
      "[2320]\ttraining's binary_logloss: 0.231048\ttraining's f1: 0.473735\n",
      "[2330]\ttraining's binary_logloss: 0.23101\ttraining's f1: 0.473815\n",
      "[2340]\ttraining's binary_logloss: 0.230967\ttraining's f1: 0.473935\n",
      "[2350]\ttraining's binary_logloss: 0.23093\ttraining's f1: 0.474012\n",
      "[2360]\ttraining's binary_logloss: 0.230896\ttraining's f1: 0.474092\n",
      "[2370]\ttraining's binary_logloss: 0.230848\ttraining's f1: 0.474175\n",
      "[2380]\ttraining's binary_logloss: 0.230816\ttraining's f1: 0.474233\n",
      "[2390]\ttraining's binary_logloss: 0.230777\ttraining's f1: 0.474341\n",
      "[2400]\ttraining's binary_logloss: 0.230736\ttraining's f1: 0.474472\n",
      "[2410]\ttraining's binary_logloss: 0.2307\ttraining's f1: 0.474526\n",
      "[2420]\ttraining's binary_logloss: 0.230667\ttraining's f1: 0.474613\n",
      "[2430]\ttraining's binary_logloss: 0.230632\ttraining's f1: 0.474719\n",
      "[2440]\ttraining's binary_logloss: 0.230591\ttraining's f1: 0.474824\n",
      "[2450]\ttraining's binary_logloss: 0.230549\ttraining's f1: 0.474939\n",
      "[2460]\ttraining's binary_logloss: 0.230514\ttraining's f1: 0.475016\n",
      "[2470]\ttraining's binary_logloss: 0.230472\ttraining's f1: 0.475135\n",
      "[2480]\ttraining's binary_logloss: 0.230443\ttraining's f1: 0.475188\n"
     ]
    },
    {
     "name": "stdout",
     "output_type": "stream",
     "text": [
      "[2490]\ttraining's binary_logloss: 0.230405\ttraining's f1: 0.475281\n",
      "[2500]\ttraining's binary_logloss: 0.230372\ttraining's f1: 0.47539\n"
     ]
    }
   ],
   "source": [
    "import lightgbm as lgb\n",
    "d_train = lgb.Dataset(train_data[feature_cols], label=train_data[label_cols].values)    \n",
    "\n",
    "params = {\n",
    "        'boosting_type': 'gbdt',\n",
    "        'objective': 'binary',\n",
    "        'metric': 'binary_logloss',\n",
    "        'learning_rate': 0.05,\n",
    "        'num_leaves': 2 ** 6,\n",
    "        'max_depth': 6,\n",
    "        'feature_fraction': 0.9,\n",
    "        'bagging_fraction': 0.9,\n",
    "        'bagging_freq': 5,\n",
    "        'seed': 2018\n",
    "    }\n",
    "ROUNDS = 2500 \n",
    "print('light GBM train :-)')\n",
    "bst = lgb.train(params, d_train, ROUNDS, valid_sets=[d_train], feval =lgb_f1_score,verbose_eval=10)"
   ]
  },
  {
   "cell_type": "code",
   "execution_count": 236,
   "metadata": {},
   "outputs": [],
   "source": [
    "test_data['product_id'] = test_data['product_id'].astype(int)\n",
    "pred2 = bst.predict(test_data[feature_cols])"
   ]
  },
  {
   "cell_type": "code",
   "execution_count": 237,
   "metadata": {},
   "outputs": [],
   "source": [
    "test_data['pred'] = pred2\n",
    "\n",
    "test_data['product_id'] = test_data['product_id'].astype(str)\n",
    "order_product = {}\n",
    "for order_id, val, product_id in test_data[['order_id','pred','product_id']].values:\n",
    "    if order_id in order_product.keys():\n",
    "        if val >= 0.2:\n",
    "            if order_product[order_id] == '':\n",
    "                order_product[order_id] = str(product_id )\n",
    "            else:\n",
    "                order_product[order_id] += ' ' + str(product_id )\n",
    "    else:\n",
    "        order_product[order_id] = ''\n",
    "        if val >= 0.2:\n",
    "            order_product[order_id] = str(product_id ) \n",
    "\n",
    "sub = pd.DataFrame.from_dict(order_product, orient='index')\n",
    "sub.reset_index(inplace=True)\n",
    "sub.columns = ['order_id', 'products']\n",
    "sub.loc[sub.products =='', 'products'] = 'None'\n",
    "sub.to_csv('single_2500.csv',index = None)"
   ]
  },
  {
   "cell_type": "markdown",
   "metadata": {},
   "source": [
    "### 二者简单加权融合(85:15): 0.3873238"
   ]
  },
  {
   "cell_type": "code",
   "execution_count": 245,
   "metadata": {},
   "outputs": [],
   "source": [
    "test_data['pred'] = np.mean(preds1,axis=0)  * 0.85 + 0.15 * pred2\n",
    "order_product = {}\n",
    "for order_id, val, product_id in test_data[['order_id','pred','product_id']].values:\n",
    "    if order_id in order_product.keys():\n",
    "        if val >= 0.2:\n",
    "            if order_product[order_id] == '':\n",
    "                order_product[order_id] = str(product_id )\n",
    "            else:\n",
    "                order_product[order_id] += ' ' + str(product_id )\n",
    "    else:\n",
    "        order_product[order_id] = ''\n",
    "        if val >= 0.2:\n",
    "            order_product[order_id] = str(product_id ) \n",
    "\n",
    "sub = pd.DataFrame.from_dict(order_product, orient='index')\n",
    "sub.reset_index(inplace=True)\n",
    "sub.columns = ['order_id', 'products']\n",
    "sub.loc[sub.products =='', 'products'] = 'None'\n",
    "sub.to_csv('2500_mean_merge_single_8515.csv',index = None)"
   ]
  },
  {
   "cell_type": "markdown",
   "metadata": {},
   "source": [
    "### 二者简单加权融合(8:2):  0.3873331(592/2623)"
   ]
  },
  {
   "cell_type": "code",
   "execution_count": 247,
   "metadata": {},
   "outputs": [],
   "source": [
    "test_data['pred'] = np.mean(preds1,axis=0)  * 0.8 + 0.2 * pred2\n",
    "order_product = {}\n",
    "for order_id, val, product_id in test_data[['order_id','pred','product_id']].values:\n",
    "    if order_id in order_product.keys():\n",
    "        if val >= 0.2:\n",
    "            if order_product[order_id] == '':\n",
    "                order_product[order_id] = str(product_id )\n",
    "            else:\n",
    "                order_product[order_id] += ' ' + str(product_id )\n",
    "    else:\n",
    "        order_product[order_id] = ''\n",
    "        if val >= 0.2:\n",
    "            order_product[order_id] = str(product_id ) \n",
    "\n",
    "sub = pd.DataFrame.from_dict(order_product, orient='index')\n",
    "sub.reset_index(inplace=True)\n",
    "sub.columns = ['order_id', 'products']\n",
    "sub.loc[sub.products =='', 'products'] = 'None'\n",
    "sub.to_csv('2500_mean_merge_single_8020.csv',index = None)"
   ]
  },
  {
   "cell_type": "markdown",
   "metadata": {},
   "source": [
    "### 0.3873905(592/2623)"
   ]
  },
  {
   "cell_type": "code",
   "execution_count": 255,
   "metadata": {},
   "outputs": [],
   "source": [
    "test_data['pred'] = np.median(preds1,axis=0)  * 0.8 + 0.2 * pred2\n",
    "order_product = {}\n",
    "for order_id, val, product_id in test_data[['order_id','pred','product_id']].values:\n",
    "    if order_id in order_product.keys():\n",
    "        if val >= 0.2:\n",
    "            if order_product[order_id] == '':\n",
    "                order_product[order_id] = str(product_id )\n",
    "            else:\n",
    "                order_product[order_id] += ' ' + str(product_id )\n",
    "    else:\n",
    "        order_product[order_id] = ''\n",
    "        if val >= 0.2:\n",
    "            order_product[order_id] = str(product_id ) \n",
    "\n",
    "sub = pd.DataFrame.from_dict(order_product, orient='index')\n",
    "sub.reset_index(inplace=True)\n",
    "sub.columns = ['order_id', 'products']\n",
    "sub.loc[sub.products =='', 'products'] = 'None'\n",
    "sub.to_csv('2500_median_merge_single_8020.csv',index = None)"
   ]
  },
  {
   "cell_type": "markdown",
   "metadata": {},
   "source": [
    "# 采用Faron的Kernel对预测结果进行后处理:0.4036596(161/2623)\n",
    "## 优化Mean-F1 Score的代码"
   ]
  },
  {
   "cell_type": "code",
   "execution_count": 233,
   "metadata": {},
   "outputs": [],
   "source": [
    "\"\"\"\n",
    "@author: Faron\n",
    "\"\"\"\n",
    "import numpy as np\n",
    "import pandas as pd\n",
    "from datetime import datetime\n",
    "\n",
    "'''\n",
    "This kernel implements the O(n²) F1-Score expectation maximization algorithm presented in\n",
    "\"Ye, N., Chai, K., Lee, W., and Chieu, H.  Optimizing F-measures: A Tale of Two Approaches. In ICML, 2012.\"\n",
    "\n",
    "It solves argmax_(0 <= k <= n,[[None]]) E[F1(P,k,[[None]])]\n",
    "with [[None]] being the indicator for predicting label \"None\"\n",
    "given posteriors P = [p_1, p_2, ... , p_n], where p_1 > p_2 > ... > p_n\n",
    "under label independence assumption by means of dynamic programming in O(n²).\n",
    "'''\n",
    "\n",
    "\n",
    "class F1Optimizer():\n",
    "    def __init__(self):\n",
    "        pass\n",
    "\n",
    "    @staticmethod\n",
    "    def get_expectations(P, pNone=None):\n",
    "        expectations = []\n",
    "        P = np.sort(P)[::-1]\n",
    "\n",
    "        n = np.array(P).shape[0]\n",
    "        DP_C = np.zeros((n + 2, n + 1))\n",
    "        if pNone is None:\n",
    "            pNone = (1.0 - P).prod()\n",
    "\n",
    "        DP_C[0][0] = 1.0\n",
    "        for j in range(1, n):\n",
    "            DP_C[0][j] = (1.0 - P[j - 1]) * DP_C[0, j - 1]\n",
    "\n",
    "        for i in range(1, n + 1):\n",
    "            DP_C[i, i] = DP_C[i - 1, i - 1] * P[i - 1]\n",
    "            for j in range(i + 1, n + 1):\n",
    "                DP_C[i, j] = P[j - 1] * DP_C[i - 1, j - 1] + (1.0 - P[j - 1]) * DP_C[i, j - 1]\n",
    "\n",
    "        DP_S = np.zeros((2 * n + 1,))\n",
    "        DP_SNone = np.zeros((2 * n + 1,))\n",
    "        for i in range(1, 2 * n + 1):\n",
    "            DP_S[i] = 1. / (1. * i)\n",
    "            DP_SNone[i] = 1. / (1. * i + 1)\n",
    "        for k in range(n + 1)[::-1]:\n",
    "            f1 = 0\n",
    "            f1None = 0\n",
    "            for k1 in range(n + 1):\n",
    "                f1 += 2 * k1 * DP_C[k1][k] * DP_S[k + k1]\n",
    "                f1None += 2 * k1 * DP_C[k1][k] * DP_SNone[k + k1]\n",
    "            for i in range(1, 2 * k - 1):\n",
    "                DP_S[i] = (1 - P[k - 1]) * DP_S[i] + P[k - 1] * DP_S[i + 1]\n",
    "                DP_SNone[i] = (1 - P[k - 1]) * DP_SNone[i] + P[k - 1] * DP_SNone[i + 1]\n",
    "            expectations.append([f1None + 2 * pNone / (2 + k), f1])\n",
    "\n",
    "        return np.array(expectations[::-1]).T\n",
    "\n",
    "    @staticmethod\n",
    "    def maximize_expectation(P, pNone=None):\n",
    "        expectations = F1Optimizer.get_expectations(P, pNone)\n",
    "\n",
    "        ix_max = np.unravel_index(expectations.argmax(), expectations.shape)\n",
    "        max_f1 = expectations[ix_max]\n",
    "\n",
    "        predNone = True if ix_max[0] == 0 else False\n",
    "        best_k = ix_max[1]\n",
    "\n",
    "        return best_k, predNone, max_f1\n",
    "\n",
    "    @staticmethod\n",
    "    def _F1(tp, fp, fn):\n",
    "        return 2 * tp / (2 * tp + fp + fn)\n",
    "\n",
    "    @staticmethod\n",
    "    def _Fbeta(tp, fp, fn, beta=1.0):\n",
    "        beta_squared = beta ** 2\n",
    "        return (1.0 + beta_squared) * tp / ((1.0 + beta_squared) * tp + fp + beta_squared * fn)\n",
    "\n",
    "\n",
    "def play(l,num,ifnone):\n",
    "    if num==0:\n",
    "        return \"None\"\n",
    "    if ifnone==1:\n",
    "        add=[\"None\"]\n",
    "    else:\n",
    "        add=[]\n",
    "    if not l:\n",
    "        return \"None\"\n",
    "    else:\n",
    "        return \" \".join(add+l[:num]) "
   ]
  },
  {
   "cell_type": "markdown",
   "metadata": {},
   "source": [
    "## 对上面的预测结果直接采用Faron的代码进行优化"
   ]
  },
  {
   "cell_type": "code",
   "execution_count": 256,
   "metadata": {
    "scrolled": true
   },
   "outputs": [],
   "source": [
    "data = test_data[['order_id','product_id','pred']].copy()\n",
    "data['product_id'] = data['product_id'].astype(str)\n",
    "data=data.sort_values([\"order_id\",\"pred\"],ascending=False)\n",
    "\n",
    "pre=pd.DataFrame(data.groupby([\"order_id\"]).pred.apply(list)).reset_index()\n",
    "pre.columns=[\"order_id\",\"pred_list\"]\n",
    "\n",
    "f1=F1Optimizer() \n",
    "pre[\"processed\"] = pre[\"pred_list\"].map(lambda x:f1.maximize_expectation(x))\n",
    "\n",
    "pre[\"if_none\"]=pre[\"processed\"].apply(lambda x:1 if x[1] else 0)\n",
    "pre[\"best_num\"]=pre[\"processed\"].apply(lambda x:x[0]) "
   ]
  },
  {
   "cell_type": "code",
   "execution_count": 257,
   "metadata": {},
   "outputs": [],
   "source": [
    "pre=pre[[\"order_id\",\"if_none\",\"best_num\"]] \n",
    "sub=pd.DataFrame(data.groupby([\"order_id\"]).product_id.apply(list)).reset_index()\n",
    "sub.columns=[\"order_id\",\"product_list\"] \n",
    "sub=sub.merge(pre,on=\"order_id\",how=\"left\")\n",
    "sub[\"products\"]=list(map(lambda a,b,c:play(a,b,c),sub[\"product_list\"],sub[\"best_num\"],sub[\"if_none\"])) \n",
    "sub=sub[[\"order_id\",\"products\"]]\n",
    "sub.to_csv('merge_5fold_single_faron.csv',index = None)"
   ]
  },
  {
   "cell_type": "markdown",
   "metadata": {},
   "source": [
    "## 成绩\n",
    "\n",
    "按照上面的代码直接运行应该可以直接得到下面的成绩。对应到排行榜大概是161名左右的成绩。\n",
    "\n",
    "![](./pic/score1.png)\n",
    "\n",
    "其实像上面这种我5折的迭代的次数都比较高，有3000轮，这个时候还可以利用前面的迭代次数进行预测再集成，具体怎么操作在后续的文章中会提到，我通过这种集成大概可以拿到下面的分数，也就是银牌的分数了。\n",
    "\n",
    "![](./pic/score2.png)\n",
    "\n",
    "\n"
   ]
  },
  {
   "cell_type": "markdown",
   "metadata": {},
   "source": [
    "# 小结\n",
    "\n",
    "初学者可以按照我上面的方法来对类似的关系表之间的数据竞赛进行特征工程的构建。到上面这个分数其实也花了我10个晚上，因为基于LGB的代码运行相对较慢,加上中间的一些小小的bug, 但是想要进入金牌区可能还得花较多的时间去挖掘更多的特征，上面提到的是两种提取特征的方式:<font color=red>全局 & 局部； 单表 & 交叉表</font>。 例如本次比赛的第二名纯特征工程就能做到0.407左右的分数,虽然相差不大，但是真的做也不是每个人可以达到的。\n",
    "\n",
    "这篇文章还有很多可以提升的地方可以帮助大家达到金牌区附近的分数, 鼓励大家自己去尝试一下：\n",
    "\n",
    "1. 提取更多的特征,例如基于product_id的文本特征;\n",
    "2. 通过扩充候选集的方案增加训练集的量,这个是非常大概率可以提升分数的;\n",
    "3. 尝试优化Faron的代码;\n",
    "4. 学习第三名的神经网络代码;"
   ]
  },
  {
   "cell_type": "code",
   "execution_count": null,
   "metadata": {},
   "outputs": [],
   "source": []
  },
  {
   "cell_type": "code",
   "execution_count": null,
   "metadata": {},
   "outputs": [],
   "source": []
  },
  {
   "cell_type": "code",
   "execution_count": null,
   "metadata": {},
   "outputs": [],
   "source": []
  },
  {
   "cell_type": "code",
   "execution_count": null,
   "metadata": {},
   "outputs": [],
   "source": []
  }
 ],
 "metadata": {
  "kernelspec": {
   "display_name": "Python 3",
   "language": "python",
   "name": "python3"
  },
  "language_info": {
   "codemirror_mode": {
    "name": "ipython",
    "version": 3
   },
   "file_extension": ".py",
   "mimetype": "text/x-python",
   "name": "python",
   "nbconvert_exporter": "python",
   "pygments_lexer": "ipython3",
   "version": "3.6.4"
  },
  "toc": {
   "nav_menu": {},
   "number_sections": true,
   "sideBar": true,
   "skip_h1_title": false,
   "title_cell": "Table of Contents",
   "title_sidebar": "Contents",
   "toc_cell": true,
   "toc_position": {
    "height": "calc(100% - 180px)",
    "left": "10px",
    "top": "150px",
    "width": "384px"
   },
   "toc_section_display": true,
   "toc_window_display": true
  }
 },
 "nbformat": 4,
 "nbformat_minor": 2
}
