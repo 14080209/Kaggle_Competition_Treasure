{
 "cells": [
  {
   "cell_type": "markdown",
   "metadata": {
    "toc": true
   },
   "source": [
    "<h1>Table of Contents<span class=\"tocSkip\"></span></h1>\n",
    "<div class=\"toc\"><ul class=\"toc-item\"><li><span><a href=\"#简介\" data-toc-modified-id=\"简介-1\"><span class=\"toc-item-num\">1&nbsp;&nbsp;</span>简介</a></span><ul class=\"toc-item\"><li><span><a href=\"#赛题细节\" data-toc-modified-id=\"赛题细节-1.1\"><span class=\"toc-item-num\">1.1&nbsp;&nbsp;</span>赛题细节</a></span><ul class=\"toc-item\"><li><span><a href=\"#赛题背景\" data-toc-modified-id=\"赛题背景-1.1.1\"><span class=\"toc-item-num\">1.1.1&nbsp;&nbsp;</span>赛题背景</a></span></li><li><span><a href=\"#比赛规则\" data-toc-modified-id=\"比赛规则-1.1.2\"><span class=\"toc-item-num\">1.1.2&nbsp;&nbsp;</span>比赛规则</a></span><ul class=\"toc-item\"><li><span><a href=\"#比赛时间\" data-toc-modified-id=\"比赛时间-1.1.2.1\"><span class=\"toc-item-num\">1.1.2.1&nbsp;&nbsp;</span>比赛时间</a></span></li><li><span><a href=\"#赛制规则\" data-toc-modified-id=\"赛制规则-1.1.2.2\"><span class=\"toc-item-num\">1.1.2.2&nbsp;&nbsp;</span>赛制规则</a></span></li></ul></li></ul></li><li><span><a href=\"#数据说明\" data-toc-modified-id=\"数据说明-1.2\"><span class=\"toc-item-num\">1.2&nbsp;&nbsp;</span>数据说明</a></span><ul class=\"toc-item\"><li><span><a href=\"#详细数据\" data-toc-modified-id=\"详细数据-1.2.1\"><span class=\"toc-item-num\">1.2.1&nbsp;&nbsp;</span>详细数据</a></span></li><li><span><a href=\"#提交格式\" data-toc-modified-id=\"提交格式-1.2.2\"><span class=\"toc-item-num\">1.2.2&nbsp;&nbsp;</span>提交格式</a></span></li><li><span><a href=\"#评分指标\" data-toc-modified-id=\"评分指标-1.2.3\"><span class=\"toc-item-num\">1.2.3&nbsp;&nbsp;</span>评分指标</a></span></li></ul></li><li><span><a href=\"#赛题难点-&amp;-注意事项\" data-toc-modified-id=\"赛题难点-&amp;-注意事项-1.3\"><span class=\"toc-item-num\">1.3&nbsp;&nbsp;</span>赛题难点 &amp; 注意事项</a></span><ul class=\"toc-item\"><li><span><a href=\"#赛题难点\" data-toc-modified-id=\"赛题难点-1.3.1\"><span class=\"toc-item-num\">1.3.1&nbsp;&nbsp;</span>赛题难点</a></span></li><li><span><a href=\"#注意事项\" data-toc-modified-id=\"注意事项-1.3.2\"><span class=\"toc-item-num\">1.3.2&nbsp;&nbsp;</span>注意事项</a></span></li></ul></li><li><span><a href=\"#小结\" data-toc-modified-id=\"小结-1.4\"><span class=\"toc-item-num\">1.4&nbsp;&nbsp;</span>小结</a></span></li></ul></li></ul></div>"
   ]
  },
  {
   "cell_type": "markdown",
   "metadata": {},
   "source": [
    "# 简介\n",
    "\n",
    "![](./pic/Corp.png)\n",
    "\n",
    "本篇文章我们对“Web Traffic Time Series Forecasting”赛题进行分析，本文是该比赛的第一部分，赛题解析，\n",
    "\n",
    "- 在这一部分，我们会介绍该比赛的赛题背景，比赛的规则，包括时间、赛制规则、评测指标，数据的说明，提交的格式；然后我们会介绍此类问题所存在的难点以及经常需要注意的事项等；\n",
    "\n",
    "在接下来的内容中，我们首先对本次赛题的内容进行回顾，包括本次比赛的应用场景，赛题的意义；比赛规则的内容（该比赛已经结束，此处我们为了文章的完整性还是选择将其加入）以及赛题中我们所能获得的数据；然后我们对此类问题中需要注意的细节以及对应的难点进行简要的分析与阐述。"
   ]
  },
  {
   "cell_type": "markdown",
   "metadata": {},
   "source": [
    "## 赛题细节\n",
    "### 赛题背景\n",
    "\n",
    "本次赛题的重点是预测多个时间序列的未来值，这个问题一直是时间序列领域最具挑战性的问题之一。更具体地说，我们的目标是测试参赛者在预测大约145000篇维基百科文章的在未来的网络流量这个问题上所设计的方法的效果。\n",
    "\n",
    "从生物数据、金融市场、天气预报到音频和视频处理，在许多关键的现实问题中都出现了顺序或时间观测。时间序列领域包含了许多不同的问题，从分析和推理到分类和预测。那么你能做些什么来帮助预测未来的结果？\n",
    "\n",
    "这次比赛分为两个阶段并且将包括对未来实际事件的预测。在第一阶段，排行榜将基于历史数据进行打分，在第二个阶段，参赛者的提交结果将基于真实的未来事件进行评分。\n",
    "\n",
    "您可以完全自由地生成预测：例如使用单变量和多变量模型、使用元数据（文章标识符）、分层时间序列建模（针对不同类型的流量）、数据扩充（例如使用Google趋势数据扩展数据集）、异常值检测和清理，不同的缺失值插补策略，以及更多其它类型的方法。"
   ]
  },
  {
   "cell_type": "markdown",
   "metadata": {},
   "source": [
    "### 比赛规则\n",
    "本次比赛的重要时间段信息如下：\n",
    "\n",
    "#### 比赛时间\n",
    "- 2017 年 09 月 01日 比赛报名截止。您必须在此日期之前接受比赛规则才能参加比赛；\n",
    "- 2017 年 09 月 01日 团队合并截止日期。这是参与者加入或合并团队的最后一天；\n",
    "- 2017 年 09 月 01日 最终数据集发布。\n",
    "- 2017 年 09 月 12日 最终提交截止日期\n",
    " \n",
    "比赛获胜者将于2017年11月13日后公布。除非另有说明，否则所有截止日期均为相应日期的UTC时间晚上11:59。 比赛组织者保留在认为必要时更新比赛时间表的权利。\n",
    " \n",
    "\n",
    "#### 赛制规则\n",
    "本次比赛的参赛对象以及组队提交规则如下：\n",
    "1. 参赛对象\n",
    "> a.比赛对美国和世界各地的居民开放，除非您是克里米亚、古巴、伊朗、叙利亚、朝鲜、苏丹的居民，或者受到美国出口管制或制裁，否则您不得参加比赛。<br />\n",
    "> b.其他当地法规可能适用于您，因此请检查您的当地法律，以确保您有资格参加基于技能的比赛。\n",
    "2. 组队和提交\n",
    "> a.团队成员人数无上限；<br />\n",
    "> b.提交限制：每天最多五次提交；<br />\n",
    "> c.在每轮比赛中，你可以选择至多 2 份最终的参赛作品进行评判。"
   ]
  },
  {
   "cell_type": "markdown",
   "metadata": {},
   "source": [
    "## 数据说明\n",
    "- 赛题的数据可以通过点击下面的链接进行下载: 数据下载链接:https://www.kaggle.com/c/web-traffic-time-series-forecasting/data\n",
    "\n",
    "训练数据集由约145k个时间序列组成。从2015年7月1日到2016年12月31日，每个时间序列代表不同维基百科文章的每日浏览次数。训练阶段的排行榜是基于2017年1月1日至2017年3月1日的流量。\n",
    "\n",
    "第二阶段将使用截止到2017年9月1日的训练数据。比赛的最终排名将基于对数据集中每一篇文章在2017年9月13日至2017年11月13日期间每日浏览量的预测。您需要在9月12日之前提交这些日期的预测。\n",
    "\n",
    "对于每个时间序列，都会提供文章的名称以及此时间序列表示的流量类型（全部、移动、桌面、蜘蛛）。您可以使用这些元数据和任何其他公开可用的数据进行预测。不幸的是，此数据集的数据源没有区分零流量值和缺失值。丢失的值可能意味着流量为零，或者数据当天不可获取。\n",
    "\n",
    "为了减小提交文件的大小，每个页面和日期组合都给出了一个对应的短的ID。页面名称和提交ID之间的映射也都已经在关键文件中给出了。\n",
    "\n",
    "### 详细数据\n",
    "用于第一阶段的文件将以“_1”结尾。用于第二阶段的文件将以“_2”结尾。两者的格式相同。第二阶段的完整培训数据将在第二阶段之前提供。\n",
    "\n",
    "--------\n",
    "\n",
    "** train_\\*.csv**\n",
    "- 包含了流量数据。这是一个csv文件，其中每一行对应一篇特定的文章，每一列对应一个特定的日期。某些条目是缺失数据。页面名称包含维基百科项目（例如en.wikipedia.org）、访问类型（例如桌面）和代理类型（例如spider）。换言之，每一篇文章的名称都有以下格式：“name_project_access_agent”（例如“akb48_zh.wikipedia.org_all-access_spider”）。\n",
    "\n",
    "--------\n",
    "** key_\\*.csv**\n",
    "- 提供用于预测的页名称和缩短的ID列之间的映射.\n",
    "\n",
    "--------\n",
    "**sample\\_submission_\\*.csv**\n",
    "- 正确格式的提交文件  \n",
    "\n",
    "--------\n",
    " \n",
    "### 提交格式\n",
    "\n",
    "对于每个文章和日期组合（请参见key.csv），您必须预测Web流量。该文件应当包含一个标题，并具有以下格式：\n",
    "\n",
    "![](./web_pic/submit_format.jpg)\n",
    "\n",
    "### 评分指标\n",
    "\n",
    "评测指标使用SMAPE对预测值和真实值之间进行评测，当实际值和预测值都为0时，我们定义SMAPE = 0.\n",
    "\n",
    "- SMAPE-对称平均绝对百分比误差（Symmetric Mean Absolute Percentage Error）,它对应的公式如下：\n",
    "\n",
    "![](./web_pic/SMAPE.jpg)\n",
    "\n",
    "- 关于SMAPE的详细信息可以参考wiki:https://en.wikipedia.org/wiki/Symmetric_mean_absolute_percentage_error"
   ]
  },
  {
   "cell_type": "markdown",
   "metadata": {},
   "source": [
    "## 赛题难点 & 注意事项\n",
    "在这一部分我们对本次赛题中存在的难点进行分析并给出需要重点注意的事项。"
   ]
  },
  {
   "cell_type": "markdown",
   "metadata": {},
   "source": [
    "### 赛题难点\n",
    "\n",
    "该赛题和Corp比赛不一样,Corp比赛预测的时间段相对较短，给的数据信息也相对较多，而Web流量预测比赛的数据相对简单，同时预测的时间段也要长很多。此处\n",
    "我们将本赛题的难点归结为如下四点:\n",
    "\n",
    "1. 如何对时间跨度大的问题进行建模，传统的基于LGB的方案是否仍然有效？\n",
    "2. 如何保证模型的泛化性,我们需要预测未来60+天每一天的流量,如何寻找合适的验证集做到线下和线上一致？\n",
    "3. 如何对145K的时间序列进行预测，因为这个量是非常大的，采用传统的Arima等方法可能需要非常长的时间.\n",
    "4. 如何处理噪音问题，此处我们将噪音划分为如下的情况:\n",
    "\n",
    "> 4.1 训练集中的“噪音”，几乎在所有的时序类问题中，或多或少都会存在“噪音”，这些噪音会较大地影响我们的建模，此处我们将噪音细分为下面的三类噪音。\n",
    "> > a.随机噪音，这类噪音是不可避免的，也是无法预测的；<br />\n",
    "> > b.局部大噪音/局部奇异值，这类噪音有些时候是可以遇见的，我们经常也会称之为奇异值，最典型的案例如，某些文章在某些特定的时间段因为某些特殊的时间突然流量暴涨等。<br />\n",
    "> >c.长时间带来的噪音，此类噪音的造成原因往往是随着时间的发展带来的噪音，一年前网站文章的流量和一年后的分布是不一致的，如何选取时间段。<br />\n",
    "\n",
    "> 4.2 测试集中的“噪音”，测试集中的噪音和训练集是类似的，本赛题中我们需要预测的测试集的范围相对有些大，有 60 多天，而且包含了一些特殊时间，这些可能会对预测带来一定的困难。\n",
    "\n",
    "### 注意事项  \n",
    "\n",
    "\n",
    "** 评价指标问题**\n",
    "\n",
    "本赛题的指标SMAPE(Symmetric Mean Absolute Percentage Error) 和我们平时见到的很多回归的指标不一样，我们知道如果我们能直接优化问题的评估指标往往可以获得最优的效果， 能都找到SMAPE的近似函数或者直接求导得到其导数。\n",
    " \n",
    "\n",
    "\n"
   ]
  },
  {
   "cell_type": "markdown",
   "metadata": {},
   "source": [
    "## 小结\n",
    "\n",
    "在本篇文章中,我们对Web Traffic Time Series Forecasting比赛进行了基础的分析,包括赛题可能存在的问题，以及一些需要注意的事项等。再下一章节，我们将对这些数据进行进一步的分析，展开更加细致的数据探索。 "
   ]
  }
 ],
 "metadata": {
  "kernelspec": {
   "display_name": "Python 3",
   "language": "python",
   "name": "python3"
  },
  "language_info": {
   "codemirror_mode": {
    "name": "ipython",
    "version": 3
   },
   "file_extension": ".py",
   "mimetype": "text/x-python",
   "name": "python",
   "nbconvert_exporter": "python",
   "pygments_lexer": "ipython3",
   "version": "3.6.4"
  },
  "toc": {
   "nav_menu": {},
   "number_sections": true,
   "sideBar": true,
   "skip_h1_title": false,
   "title_cell": "Table of Contents",
   "title_sidebar": "Contents",
   "toc_cell": true,
   "toc_position": {},
   "toc_section_display": true,
   "toc_window_display": true
  }
 },
 "nbformat": 4,
 "nbformat_minor": 2
}
