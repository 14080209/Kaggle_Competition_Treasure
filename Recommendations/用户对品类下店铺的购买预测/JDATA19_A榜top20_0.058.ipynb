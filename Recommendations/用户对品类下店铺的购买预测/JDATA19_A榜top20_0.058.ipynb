{
 "cells": [
  {
   "cell_type": "markdown",
   "metadata": {
    "toc": true
   },
   "source": [
    "<h1>Table of Contents<span class=\"tocSkip\"></span></h1>\n",
    "<div class=\"toc\"><ul class=\"toc-item\"><li><span><a href=\"#工具包导入&amp;数据读取\" data-toc-modified-id=\"工具包导入&amp;数据读取-1\"><span class=\"toc-item-num\">1&nbsp;&nbsp;</span>工具包导入&amp;数据读取</a></span><ul class=\"toc-item\"><li><span><a href=\"#工具包导入\" data-toc-modified-id=\"工具包导入-1.1\"><span class=\"toc-item-num\">1.1&nbsp;&nbsp;</span>工具包导入</a></span></li><li><span><a href=\"#自定义工具包\" data-toc-modified-id=\"自定义工具包-1.2\"><span class=\"toc-item-num\">1.2&nbsp;&nbsp;</span>自定义工具包</a></span></li><li><span><a href=\"#并行工具包\" data-toc-modified-id=\"并行工具包-1.3\"><span class=\"toc-item-num\">1.3&nbsp;&nbsp;</span>并行工具包</a></span></li><li><span><a href=\"#数据读取\" data-toc-modified-id=\"数据读取-1.4\"><span class=\"toc-item-num\">1.4&nbsp;&nbsp;</span>数据读取</a></span><ul class=\"toc-item\"><li><span><a href=\"#数据预处理(排序)\" data-toc-modified-id=\"数据预处理(排序)-1.4.1\"><span class=\"toc-item-num\">1.4.1&nbsp;&nbsp;</span>数据预处理(排序)</a></span></li></ul></li></ul></li><li><span><a href=\"#训练集&amp;测试集构建\" data-toc-modified-id=\"训练集&amp;测试集构建-2\"><span class=\"toc-item-num\">2&nbsp;&nbsp;</span>训练集&amp;测试集构建</a></span><ul class=\"toc-item\"><li><span><a href=\"#构建时间信息,方便划分训练集&amp;测试集\" data-toc-modified-id=\"构建时间信息,方便划分训练集&amp;测试集-2.1\"><span class=\"toc-item-num\">2.1&nbsp;&nbsp;</span>构建时间信息,方便划分训练集&amp;测试集</a></span></li><li><span><a href=\"#训练集&amp;测试集构建\" data-toc-modified-id=\"训练集&amp;测试集构建-2.2\"><span class=\"toc-item-num\">2.2&nbsp;&nbsp;</span>训练集&amp;测试集构建</a></span><ul class=\"toc-item\"><li><span><a href=\"#构建验证集\" data-toc-modified-id=\"构建验证集-2.2.1\"><span class=\"toc-item-num\">2.2.1&nbsp;&nbsp;</span>构建验证集</a></span></li><li><span><a href=\"#构建训练集\" data-toc-modified-id=\"构建训练集-2.2.2\"><span class=\"toc-item-num\">2.2.2&nbsp;&nbsp;</span>构建训练集</a></span></li></ul></li></ul></li><li><span><a href=\"#特征工程-&amp;-模型验证\" data-toc-modified-id=\"特征工程-&amp;-模型验证-3\"><span class=\"toc-item-num\">3&nbsp;&nbsp;</span>特征工程 &amp; 模型验证</a></span><ul class=\"toc-item\"><li><span><a href=\"#user+cate+shopid特征\" data-toc-modified-id=\"user+cate+shopid特征-3.1\"><span class=\"toc-item-num\">3.1&nbsp;&nbsp;</span>user+cate+shopid特征</a></span><ul class=\"toc-item\"><li><span><a href=\"#训练集特征提取\" data-toc-modified-id=\"训练集特征提取-3.1.1\"><span class=\"toc-item-num\">3.1.1&nbsp;&nbsp;</span>训练集特征提取</a></span></li><li><span><a href=\"#验证集特征提取\" data-toc-modified-id=\"验证集特征提取-3.1.2\"><span class=\"toc-item-num\">3.1.2&nbsp;&nbsp;</span>验证集特征提取</a></span></li></ul></li><li><span><a href=\"#user-+-cate特征\" data-toc-modified-id=\"user-+-cate特征-3.2\"><span class=\"toc-item-num\">3.2&nbsp;&nbsp;</span>user + cate特征</a></span><ul class=\"toc-item\"><li><span><a href=\"#训练集特征提取\" data-toc-modified-id=\"训练集特征提取-3.2.1\"><span class=\"toc-item-num\">3.2.1&nbsp;&nbsp;</span>训练集特征提取</a></span></li><li><span><a href=\"#验证集特征提取\" data-toc-modified-id=\"验证集特征提取-3.2.2\"><span class=\"toc-item-num\">3.2.2&nbsp;&nbsp;</span>验证集特征提取</a></span></li></ul></li><li><span><a href=\"#user特征\" data-toc-modified-id=\"user特征-3.3\"><span class=\"toc-item-num\">3.3&nbsp;&nbsp;</span>user特征</a></span></li><li><span><a href=\"#测试集用户相关特征提取\" data-toc-modified-id=\"测试集用户相关特征提取-3.4\"><span class=\"toc-item-num\">3.4&nbsp;&nbsp;</span><font color=\"red\">测试集用户相关特征提取</font></a></span><ul class=\"toc-item\"><li><span><a href=\"#构建测试集\" data-toc-modified-id=\"构建测试集-3.4.1\"><span class=\"toc-item-num\">3.4.1&nbsp;&nbsp;</span>构建测试集</a></span></li><li><span><a href=\"#测试集用户特征提取\" data-toc-modified-id=\"测试集用户特征提取-3.4.2\"><span class=\"toc-item-num\">3.4.2&nbsp;&nbsp;</span>测试集用户特征提取</a></span><ul class=\"toc-item\"><li><span><a href=\"#user-+cate+shopid特征提取\" data-toc-modified-id=\"user-+cate+shopid特征提取-3.4.2.1\"><span class=\"toc-item-num\">3.4.2.1&nbsp;&nbsp;</span>user +cate+shopid特征提取</a></span></li><li><span><a href=\"#user-+cate特征提取\" data-toc-modified-id=\"user-+cate特征提取-3.4.2.2\"><span class=\"toc-item-num\">3.4.2.2&nbsp;&nbsp;</span>user +cate特征提取</a></span></li><li><span><a href=\"#user-特征提取\" data-toc-modified-id=\"user-特征提取-3.4.2.3\"><span class=\"toc-item-num\">3.4.2.3&nbsp;&nbsp;</span>user 特征提取</a></span></li></ul></li></ul></li><li><span><a href=\"#shop特征\" data-toc-modified-id=\"shop特征-3.5\"><span class=\"toc-item-num\">3.5&nbsp;&nbsp;</span>shop特征</a></span><ul class=\"toc-item\"><li><span><a href=\"#shop的meta特征\" data-toc-modified-id=\"shop的meta特征-3.5.1\"><span class=\"toc-item-num\">3.5.1&nbsp;&nbsp;</span>shop的meta特征</a></span></li><li><span><a href=\"#训练集&amp;验证集&amp;测试集特征提取\" data-toc-modified-id=\"训练集&amp;验证集&amp;测试集特征提取-3.5.2\"><span class=\"toc-item-num\">3.5.2&nbsp;&nbsp;</span>训练集&amp;验证集&amp;测试集特征提取</a></span></li></ul></li></ul></li><li><span><a href=\"#模型训练&amp;测试:0.058左右\" data-toc-modified-id=\"模型训练&amp;测试:0.058左右-4\"><span class=\"toc-item-num\">4&nbsp;&nbsp;</span>模型训练&amp;测试:0.058左右</a></span><ul class=\"toc-item\"><li><span><a href=\"#模型训练\" data-toc-modified-id=\"模型训练-4.1\"><span class=\"toc-item-num\">4.1&nbsp;&nbsp;</span>模型训练</a></span></li><li><span><a href=\"#预测结果提交\" data-toc-modified-id=\"预测结果提交-4.2\"><span class=\"toc-item-num\">4.2&nbsp;&nbsp;</span>预测结果提交</a></span></li></ul></li></ul></div>"
   ]
  },
  {
   "cell_type": "markdown",
   "metadata": {},
   "source": [
    "# 工具包导入&数据读取\n",
    "## 工具包导入"
   ]
  },
  {
   "cell_type": "code",
   "execution_count": 1,
   "metadata": {},
   "outputs": [],
   "source": [
    "import numpy as np\n",
    "import pandas as pd\n",
    "import os \n",
    "from tqdm import tqdm_notebook\n",
    "from sklearn.preprocessing import StandardScaler\n",
    "from sklearn.svm import NuSVR, SVR\n",
    "from sklearn.metrics import mean_absolute_error\n",
    "import lightgbm as lgb\n",
    "import xgboost as xgb\n",
    "import time\n",
    "import datetime \n",
    "from sklearn.preprocessing import LabelEncoder\n",
    "from sklearn.model_selection import StratifiedKFold, KFold, RepeatedKFold\n",
    "from sklearn.metrics import mean_absolute_error\n",
    "from sklearn.linear_model import LinearRegression\n",
    "import gc\n",
    "import joblib\n",
    "\n",
    "from scipy.signal import hilbert\n",
    "from scipy.signal import hann\n",
    "from scipy.signal import convolve\n",
    "from scipy import stats\n",
    "from sklearn.kernel_ridge import KernelRidge\n",
    " \n",
    "from collections import Counter \n",
    "from statistics import mode \n",
    "    \n",
    "import seaborn as sns\n",
    "import matplotlib.pyplot as plt\n",
    "%matplotlib inline\n",
    "\n",
    "import warnings\n",
    "warnings.filterwarnings(\"ignore\")\n",
    "\n",
    "from tqdm import tqdm\n",
    "import json \n",
    "from sklearn.metrics import f1_score\n",
    "from sklearn.metrics import roc_auc_score\n",
    "from sklearn.model_selection import StratifiedKFold\n",
    "from itertools import product\n",
    "import ast \n",
    "tqdm.pandas()"
   ]
  },
  {
   "cell_type": "markdown",
   "metadata": {},
   "source": [
    "## 自定义工具包\n",
    "- 该工具包用于降低数据的内存"
   ]
  },
  {
   "cell_type": "code",
   "execution_count": 2,
   "metadata": {},
   "outputs": [],
   "source": [
    "import numpy as np\n",
    "import pandas as pd\n",
    "from tqdm import tqdm  \n",
    "\n",
    "class _Data_Preprocess:\n",
    "    def __init__(self):\n",
    "        self.int8_max = np.iinfo(np.int8).max\n",
    "        self.int8_min = np.iinfo(np.int8).min\n",
    "\n",
    "        self.int16_max = np.iinfo(np.int16).max\n",
    "        self.int16_min = np.iinfo(np.int16).min\n",
    "\n",
    "        self.int32_max = np.iinfo(np.int32).max\n",
    "        self.int32_min = np.iinfo(np.int32).min\n",
    "\n",
    "        self.int64_max = np.iinfo(np.int64).max\n",
    "        self.int64_min = np.iinfo(np.int64).min\n",
    "\n",
    "        self.float16_max = np.finfo(np.float16).max\n",
    "        self.float16_min = np.finfo(np.float16).min\n",
    "\n",
    "        self.float32_max = np.finfo(np.float32).max\n",
    "        self.float32_min = np.finfo(np.float32).min\n",
    "\n",
    "        self.float64_max = np.finfo(np.float64).max\n",
    "        self.float64_min = np.finfo(np.float64).min\n",
    "\n",
    "    '''\n",
    "    function: _get_type(self,min_val, max_val, types)\n",
    "       get the correct types that our columns can trans to\n",
    "\n",
    "    '''\n",
    "\n",
    "    def _get_type(self, min_val, max_val, types):\n",
    "        if types == 'int':\n",
    "            if max_val <= self.int8_max and min_val >= self.int8_min:\n",
    "                return np.int8\n",
    "            elif max_val <= self.int16_max <= max_val and min_val >= self.int16_min:\n",
    "                return np.int16\n",
    "            elif max_val <= self.int32_max and min_val >= self.int32_min:\n",
    "                return np.int32\n",
    "            return None\n",
    "\n",
    "        elif types == 'float':\n",
    "            if max_val <= self.float16_max and min_val >= self.float16_min:\n",
    "                return np.float16\n",
    "            if max_val <= self.float32_max and min_val >= self.float32_min:\n",
    "                return np.float32\n",
    "            if max_val <= self.float64_max and min_val >= self.float64_min:\n",
    "                return np.float64\n",
    "            return None\n",
    "\n",
    "    '''\n",
    "    function: _memory_process(self,df) \n",
    "       column data types trans, to save more memory\n",
    "    '''\n",
    "\n",
    "    def _memory_process(self, df):\n",
    "        init_memory = df.memory_usage().sum() / 1024 ** 2 / 1024\n",
    "        print('Original data occupies {} GB memory.'.format(init_memory))\n",
    "        df_cols = df.columns\n",
    "\n",
    "          \n",
    "        for col in tqdm_notebook(df_cols):\n",
    "            try:\n",
    "                if 'float' in str(df[col].dtypes):\n",
    "                    max_val = df[col].max()\n",
    "                    min_val = df[col].min()\n",
    "                    trans_types = self._get_type(min_val, max_val, 'float')\n",
    "                    if trans_types is not None:\n",
    "                        df[col] = df[col].astype(trans_types)\n",
    "                elif 'int' in str(df[col].dtypes):\n",
    "                    max_val = df[col].max()\n",
    "                    min_val = df[col].min()\n",
    "                    trans_types = self._get_type(min_val, max_val, 'int')\n",
    "                    if trans_types is not None:\n",
    "                        df[col] = df[col].astype(trans_types)\n",
    "            except:\n",
    "                print(' Can not do any process for column, {}.'.format(col)) \n",
    "        afterprocess_memory = df.memory_usage().sum() / 1024 ** 2 / 1024\n",
    "        print('After processing, the data occupies {} GB memory.'.format(afterprocess_memory))\n",
    "        return df"
   ]
  },
  {
   "cell_type": "code",
   "execution_count": 3,
   "metadata": {},
   "outputs": [],
   "source": [
    "memory_preprocess = _Data_Preprocess()"
   ]
  },
  {
   "cell_type": "markdown",
   "metadata": {},
   "source": [
    "## 并行工具包\n",
    "- 该工具包用于特征的并行提取"
   ]
  },
  {
   "cell_type": "code",
   "execution_count": 4,
   "metadata": {},
   "outputs": [],
   "source": [
    "import multiprocessing\n",
    "\n",
    "def fun(f, q_in, q_out):\n",
    "    while True:\n",
    "        i, x = q_in.get()\n",
    "        if i is None:\n",
    "            break\n",
    "        q_out.put((i, f(x)))\n",
    "\n",
    "#### 默认用20个核并行提取特征 ####\n",
    "def parmap(f, X, nprocs= 20):\n",
    "    q_in = multiprocessing.Queue(1)\n",
    "    q_out = multiprocessing.Queue()\n",
    "    proc = [multiprocessing.Process(target=fun, args=(f, q_in, q_out))\n",
    "                for _ in range(nprocs)]\n",
    "    for p in proc:\n",
    "        p.daemon = True\n",
    "        p.start()\n",
    "    sent = [q_in.put((i, x)) for i, x in enumerate(X)]\n",
    "    [q_in.put((None, None)) for _ in range(nprocs)]\n",
    "    res = [q_out.get() for _ in range(len(sent))]\n",
    "    [p.join() for p in proc]\n",
    "    return [x for i, x in sorted(res)]"
   ]
  },
  {
   "cell_type": "markdown",
   "metadata": {},
   "source": [
    "## 数据读取\n",
    "- 将数据全部存于data文件夹下面"
   ]
  },
  {
   "cell_type": "code",
   "execution_count": 5,
   "metadata": {},
   "outputs": [],
   "source": [
    "path = './data/'\n",
    "jdata_action  = pd.read_csv(path + 'jdata_action.csv',date_parser = 'action_time')\n",
    "jdata_user    = pd.read_csv(path + 'jdata_user.csv',date_parser = 'user_reg_tm')\n",
    "jdata_comment = pd.read_csv(path + 'jdata_comment.csv')\n",
    "jdata_product = pd.read_csv(path + 'jdata_product.csv',date_parser='market_time')\n",
    "jdata_shop    = pd.read_csv(path + 'jdata_shop.csv',date_parser='shop_reg_tm')"
   ]
  },
  {
   "cell_type": "code",
   "execution_count": 6,
   "metadata": {},
   "outputs": [
    {
     "data": {
      "text/html": [
       "<div>\n",
       "<style>\n",
       "    .dataframe thead tr:only-child th {\n",
       "        text-align: right;\n",
       "    }\n",
       "\n",
       "    .dataframe thead th {\n",
       "        text-align: left;\n",
       "    }\n",
       "\n",
       "    .dataframe tbody tr th {\n",
       "        vertical-align: top;\n",
       "    }\n",
       "</style>\n",
       "<table border=\"1\" class=\"dataframe\">\n",
       "  <thead>\n",
       "    <tr style=\"text-align: right;\">\n",
       "      <th></th>\n",
       "      <th>user_id</th>\n",
       "      <th>sku_id</th>\n",
       "      <th>action_time</th>\n",
       "      <th>module_id</th>\n",
       "      <th>type</th>\n",
       "    </tr>\n",
       "  </thead>\n",
       "  <tbody>\n",
       "    <tr>\n",
       "      <th>0</th>\n",
       "      <td>937922</td>\n",
       "      <td>357022</td>\n",
       "      <td>2018-02-04 08:28:15</td>\n",
       "      <td>8107857</td>\n",
       "      <td>1</td>\n",
       "    </tr>\n",
       "    <tr>\n",
       "      <th>1</th>\n",
       "      <td>937922</td>\n",
       "      <td>73</td>\n",
       "      <td>2018-02-04 08:27:07</td>\n",
       "      <td>8107857</td>\n",
       "      <td>1</td>\n",
       "    </tr>\n",
       "    <tr>\n",
       "      <th>2</th>\n",
       "      <td>937922</td>\n",
       "      <td>29583</td>\n",
       "      <td>2018-02-04 08:26:31</td>\n",
       "      <td>8107857</td>\n",
       "      <td>1</td>\n",
       "    </tr>\n",
       "    <tr>\n",
       "      <th>3</th>\n",
       "      <td>937922</td>\n",
       "      <td>108763</td>\n",
       "      <td>2018-02-04 08:26:10</td>\n",
       "      <td>8107857</td>\n",
       "      <td>1</td>\n",
       "    </tr>\n",
       "    <tr>\n",
       "      <th>4</th>\n",
       "      <td>1369473</td>\n",
       "      <td>331139</td>\n",
       "      <td>2018-02-03 21:55:49</td>\n",
       "      <td>3712240</td>\n",
       "      <td>1</td>\n",
       "    </tr>\n",
       "  </tbody>\n",
       "</table>\n",
       "</div>"
      ],
      "text/plain": [
       "   user_id  sku_id          action_time  module_id  type\n",
       "0   937922  357022  2018-02-04 08:28:15    8107857     1\n",
       "1   937922      73  2018-02-04 08:27:07    8107857     1\n",
       "2   937922   29583  2018-02-04 08:26:31    8107857     1\n",
       "3   937922  108763  2018-02-04 08:26:10    8107857     1\n",
       "4  1369473  331139  2018-02-03 21:55:49    3712240     1"
      ]
     },
     "execution_count": 6,
     "metadata": {},
     "output_type": "execute_result"
    }
   ],
   "source": [
    "jdata_action.head()"
   ]
  },
  {
   "cell_type": "markdown",
   "metadata": {},
   "source": [
    "### 数据预处理(排序)\n",
    "- 用于后续的时间特征提取"
   ]
  },
  {
   "cell_type": "code",
   "execution_count": 7,
   "metadata": {},
   "outputs": [],
   "source": [
    "jdata_action['action_time'] = pd.to_datetime(jdata_action['action_time'])\n",
    "jdata_action = jdata_action.sort_values('action_time')"
   ]
  },
  {
   "cell_type": "markdown",
   "metadata": {},
   "source": [
    "# 训练集&测试集构建\n",
    "## 构建时间信息,方便划分训练集&测试集\n",
    "- month_day字段用于辅助后续进行标签的划分使用"
   ]
  },
  {
   "cell_type": "code",
   "execution_count": 8,
   "metadata": {
    "scrolled": true
   },
   "outputs": [],
   "source": [
    "jdata_action['month']       = jdata_action['action_time'].dt.month\n",
    "jdata_action['day']         = jdata_action['action_time'].dt.day\n",
    "\n",
    "data = jdata_action.merge(jdata_product, on ='sku_id', how='left')\n",
    "data['month_day'] = data['month'].values * 100 + data['day'].values"
   ]
  },
  {
   "cell_type": "code",
   "execution_count": 10,
   "metadata": {},
   "outputs": [
    {
     "data": {
      "text/html": [
       "<div>\n",
       "<style>\n",
       "    .dataframe thead tr:only-child th {\n",
       "        text-align: right;\n",
       "    }\n",
       "\n",
       "    .dataframe thead th {\n",
       "        text-align: left;\n",
       "    }\n",
       "\n",
       "    .dataframe tbody tr th {\n",
       "        vertical-align: top;\n",
       "    }\n",
       "</style>\n",
       "<table border=\"1\" class=\"dataframe\">\n",
       "  <thead>\n",
       "    <tr style=\"text-align: right;\">\n",
       "      <th></th>\n",
       "      <th>user_id</th>\n",
       "      <th>sku_id</th>\n",
       "      <th>action_time</th>\n",
       "      <th>module_id</th>\n",
       "      <th>type</th>\n",
       "      <th>month</th>\n",
       "      <th>day</th>\n",
       "      <th>brand</th>\n",
       "      <th>shop_id</th>\n",
       "      <th>cate</th>\n",
       "      <th>market_time</th>\n",
       "      <th>month_day</th>\n",
       "    </tr>\n",
       "  </thead>\n",
       "  <tbody>\n",
       "    <tr>\n",
       "      <th>0</th>\n",
       "      <td>270769</td>\n",
       "      <td>55143</td>\n",
       "      <td>2018-02-01</td>\n",
       "      <td>126713</td>\n",
       "      <td>1</td>\n",
       "      <td>2</td>\n",
       "      <td>1</td>\n",
       "      <td>6062.0</td>\n",
       "      <td>9445.0</td>\n",
       "      <td>81.0</td>\n",
       "      <td>2016-04-22 17:22:53.0</td>\n",
       "      <td>201</td>\n",
       "    </tr>\n",
       "    <tr>\n",
       "      <th>1</th>\n",
       "      <td>492809</td>\n",
       "      <td>127095</td>\n",
       "      <td>2018-02-01</td>\n",
       "      <td>10670532</td>\n",
       "      <td>1</td>\n",
       "      <td>2</td>\n",
       "      <td>1</td>\n",
       "      <td>2777.0</td>\n",
       "      <td>5523.0</td>\n",
       "      <td>12.0</td>\n",
       "      <td>2016-09-23 13:34:42.0</td>\n",
       "      <td>201</td>\n",
       "    </tr>\n",
       "    <tr>\n",
       "      <th>2</th>\n",
       "      <td>438196</td>\n",
       "      <td>341353</td>\n",
       "      <td>2018-02-01</td>\n",
       "      <td>6681819</td>\n",
       "      <td>1</td>\n",
       "      <td>2</td>\n",
       "      <td>1</td>\n",
       "      <td>10072.0</td>\n",
       "      <td>2435.0</td>\n",
       "      <td>23.0</td>\n",
       "      <td>2016-12-05 15:10:18.0</td>\n",
       "      <td>201</td>\n",
       "    </tr>\n",
       "    <tr>\n",
       "      <th>3</th>\n",
       "      <td>49368</td>\n",
       "      <td>218375</td>\n",
       "      <td>2018-02-01</td>\n",
       "      <td>9130343</td>\n",
       "      <td>1</td>\n",
       "      <td>2</td>\n",
       "      <td>1</td>\n",
       "      <td>3448.0</td>\n",
       "      <td>8039.0</td>\n",
       "      <td>7.0</td>\n",
       "      <td>2013-07-04 18:49:17.0</td>\n",
       "      <td>201</td>\n",
       "    </tr>\n",
       "    <tr>\n",
       "      <th>4</th>\n",
       "      <td>715642</td>\n",
       "      <td>186437</td>\n",
       "      <td>2018-02-01</td>\n",
       "      <td>2545488</td>\n",
       "      <td>1</td>\n",
       "      <td>2</td>\n",
       "      <td>1</td>\n",
       "      <td>7163.0</td>\n",
       "      <td>8952.0</td>\n",
       "      <td>7.0</td>\n",
       "      <td>2017-06-08 18:01:45.0</td>\n",
       "      <td>201</td>\n",
       "    </tr>\n",
       "  </tbody>\n",
       "</table>\n",
       "</div>"
      ],
      "text/plain": [
       "   user_id  sku_id action_time  module_id  type  month  day    brand  shop_id  \\\n",
       "0   270769   55143  2018-02-01     126713     1      2    1   6062.0   9445.0   \n",
       "1   492809  127095  2018-02-01   10670532     1      2    1   2777.0   5523.0   \n",
       "2   438196  341353  2018-02-01    6681819     1      2    1  10072.0   2435.0   \n",
       "3    49368  218375  2018-02-01    9130343     1      2    1   3448.0   8039.0   \n",
       "4   715642  186437  2018-02-01    2545488     1      2    1   7163.0   8952.0   \n",
       "\n",
       "   cate            market_time  month_day  \n",
       "0  81.0  2016-04-22 17:22:53.0        201  \n",
       "1  12.0  2016-09-23 13:34:42.0        201  \n",
       "2  23.0  2016-12-05 15:10:18.0        201  \n",
       "3   7.0  2013-07-04 18:49:17.0        201  \n",
       "4   7.0  2017-06-08 18:01:45.0        201  "
      ]
     },
     "execution_count": 10,
     "metadata": {},
     "output_type": "execute_result"
    }
   ],
   "source": [
    "data.head()"
   ]
  },
  {
   "cell_type": "markdown",
   "metadata": {},
   "source": [
    "## 训练集&测试集构建 \n",
    "- 我们使用最后7天的数据进行标签的构建,当然这么干有一个问题,这么type=5的数据就没法使用了,所以后面可以采用滑动三天等的形式进行建模(此处我们还是暂时使用的7天数据进行候选集的构建同时用后7天的数据来打标签)"
   ]
  },
  {
   "cell_type": "code",
   "execution_count": 11,
   "metadata": {},
   "outputs": [],
   "source": [
    "def _label_trans(x, dic_):\n",
    "    try:\n",
    "        return dic_[x]\n",
    "    except:\n",
    "        return 0\n",
    "\n",
    "def get_label(df, label_st = (4,9), label_en = (4,15),candidate_st = (4,2), candidate_en = (4,8), fea_en = (4,8)):\n",
    "    # label_st ->label_en             --> 标签  \n",
    "    # candidate_st + candidate_en     -->  候选集\n",
    "    # <= fea_en                       -->  特征\n",
    "    \n",
    "    lb_st        = df.loc[(df['month'] == label_st[0]) & (df['day'] == label_st[1]),   'month_day'].values[0]\n",
    "    lb_en        = df.loc[(df['month'] == label_en[0]) & (df['day'] == label_en[1]),   'month_day'].values[0]\n",
    "    \n",
    "    cand_st      = df.loc[(df['month'] == candidate_st[0]) & (df['day'] == candidate_st[1]),   'month_day'].values[0]\n",
    "    cand_en      = df.loc[(df['month'] == candidate_en[0]) & (df['day'] == candidate_en[1]),   'month_day'].values[0]\n",
    "    \n",
    "    fea_position = df.loc[(df['month'] == fea_en[0]) & (df['day'] == fea_en[1]),   'month_day'].values[0]\n",
    "    \n",
    "\n",
    "    ind_label     = (df['month_day']>= lb_st) & (df['month_day']<= lb_en) & (df['type'] ==2)\n",
    "    ind_candidate = (df['month_day']>= cand_st) & (df['month_day']<= cand_en)\n",
    "    ind_fea       = (df['month_day']<= fea_position) \n",
    "    \n",
    "    data_label      = df.loc[ind_label].copy()\n",
    "    data_fea        = df.loc[ind_fea].copy() # 用来构建特征集合\n",
    "    data_candidates = df.loc[ind_candidate].copy() \n",
    "    \n",
    "    # 构建候选集#\n",
    "    df_candidates  =  data_candidates[['user_id','cate','shop_id']].copy()    \n",
    "    df_candidates  =  df_candidates.drop_duplicates(subset = ['user_id','cate','shop_id']) \n",
    "    df_candidates  =  df_candidates.loc[(df_candidates.cate.isnull() == False) & (df_candidates.shop_id.isnull() == False)]\n",
    "\n",
    "    # 构建标签 #\n",
    "    label          = data_label[['user_id','cate','shop_id','day']].copy() \n",
    "    \n",
    "    print('get label')\n",
    "    # 打标签 #\n",
    "    df_candidates['label_cnt']         = 0 \n",
    "    df_candidates['label_days']        = 0 \n",
    "    df_candidates['user_cate_shop_id'] = df_candidates['user_id'].astype(str)+'_' + df_candidates['cate'].astype(str)+ '_' + df_candidates['shop_id'].astype(str)\n",
    "     \n",
    "    label['user_cate_shop_id']    = label['user_id'].astype(str)+'_' + label['cate'].astype(str)+'_' + label['shop_id'].astype(str)\n",
    "    dic_cnt  = label['user_cate_shop_id'].value_counts().to_dict()\n",
    "    dic_days = label.groupby('user_cate_shop_id')['day'].nunique().to_dict()  \n",
    "    df_candidates['label_cnt']   =  df_candidates['user_cate_shop_id'].apply(lambda x:_label_trans(x,dic_cnt)).values\n",
    "    df_candidates['label_days']  =  df_candidates['user_cate_shop_id'].apply(lambda x:_label_trans(x,dic_days)).values\n",
    "     \n",
    "    print('finish')\n",
    "    return df_candidates,data_fea"
   ]
  },
  {
   "cell_type": "markdown",
   "metadata": {},
   "source": [
    "### 构建验证集"
   ]
  },
  {
   "cell_type": "code",
   "execution_count": 13,
   "metadata": {},
   "outputs": [
    {
     "name": "stdout",
     "output_type": "stream",
     "text": [
      "get label\n",
      "finish\n",
      "CPU times: user 9.33 s, sys: 5.4 s, total: 14.7 s\n",
      "Wall time: 14.7 s\n"
     ]
    }
   ],
   "source": [
    "%%time\n",
    "df_valid_label,data_valid_fea = get_label(data,label_st = (4,9), label_en = (4,15),candidate_st = (4,2), candidate_en = (4,8), fea_en = (4,8))"
   ]
  },
  {
   "cell_type": "markdown",
   "metadata": {},
   "source": [
    "### 构建训练集 "
   ]
  },
  {
   "cell_type": "code",
   "execution_count": 14,
   "metadata": {},
   "outputs": [
    {
     "name": "stdout",
     "output_type": "stream",
     "text": [
      "get label\n",
      "finish\n",
      "CPU times: user 7.51 s, sys: 3.5 s, total: 11 s\n",
      "Wall time: 11 s\n"
     ]
    }
   ],
   "source": [
    "%%time\n",
    "df_train_label1,data_train_fea1 = get_label(data,label_st = (4,2), label_en = (4,8),candidate_st = (3,26), candidate_en = (4,1), fea_en = (4,1))"
   ]
  },
  {
   "cell_type": "markdown",
   "metadata": {},
   "source": [
    "# 特征工程 & 模型验证\n"
   ]
  },
  {
   "cell_type": "markdown",
   "metadata": {},
   "source": [
    "## user+cate+shopid特征\n",
    "\n",
    "- 该特征用来刻画用户对于某一个商店的消费特性\n",
    " "
   ]
  },
  {
   "cell_type": "code",
   "execution_count": 23,
   "metadata": {},
   "outputs": [],
   "source": [
    "def get_ucs_parallel(userids):  \n",
    "    df                      = df_.loc[df_.user_id.isin(userids)].copy()  \n",
    "    df['user_cate_shop_id'] = df['user_id'].astype(str)+'_' + df['cate'].astype(str)+ '_' + df['shop_id'].astype(str) \n",
    "    \n",
    "    df_fea                  = df[['user_cate_shop_id']].copy()\n",
    "    df_fea                  = df_fea.drop_duplicates(subset = ['user_cate_shop_id'])\n",
    "    \n",
    "    # 1.宏观的特征: 不管是浏览还是其他操作，我们往下瞬移一个单位 #\n",
    "    df['action_time_diff']  = df.groupby('user_cate_shop_id')['action_time'].shift().values\n",
    "    print('shift')\n",
    "    \n",
    "    df['action_time_diff']    = df['action_time'] - df['action_time_diff']\n",
    "    df['action_time_diff']    = df['action_time_diff'].dt.seconds // 60 \n",
    "    \n",
    "    df['action_time_to_now']  = st_time - df['action_time']\n",
    "    df['action_time_to_now']  = df['action_time_to_now'].dt.seconds // 60 \n",
    "    \n",
    "#     #  最后一次操作距离上一次操作的时间 # \n",
    "#     dic_ = df.groupby('user_cate_shop_id')['action_time_diff'].last().to_dict()\n",
    "#     df_fea['user_cate_shop_id_timediff_last'] = df_fea['user_cate_shop_id'].map(dic_).values\n",
    "    \n",
    "    # 最后一次操作距离当前的时间 #\n",
    "    dic_ = df.groupby('user_cate_shop_id')['action_time_to_now'].min().to_dict()\n",
    "    df_fea['user_cate_shop_id_action_time_to_now_last']  = df_fea['user_cate_shop_id'].map(dic_).values\n",
    "     \n",
    "     \n",
    "    # 以当前位置为核心位置往前移动,过去三周每周的情况 #\n",
    "    for days in tqdm([0,1,3,7,14,21]): \n",
    "        tmp_ind = (df['action_time'] >= st_time + datetime.timedelta(days=-1 * days))  # &(df['action_time'] <= st_time \n",
    "        \n",
    "        # 相邻两次操作 #\n",
    "        df_tmp = df[tmp_ind].copy()  \n",
    "        \n",
    "        dic_ = df_tmp.groupby('user_cate_shop_id')['day'].count().to_dict() \n",
    "        df_fea['user_cate_shop_id_{}_day_cnt'.format(days)] = df_fea['user_cate_shop_id'].map(dic_).values \n",
    "        dic_ = df_tmp.groupby('user_cate_shop_id')['day'].nunique().to_dict()\n",
    "        df_fea['user_cate_shop_id_{}_day_nunique_pct'.format(days)] = df_fea['user_cate_shop_id'].map(dic_).values  * 1.0 / days\n",
    "        \n",
    "        dic_ = df_tmp.groupby('user_cate_shop_id')['action_time_diff'].mean().to_dict()\n",
    "        df_fea['user_cate_shop_id_{}_timediff_mean'.format(days)] = df_fea['user_cate_shop_id'].map(dic_).values \n",
    "        dic_ = df_tmp.groupby('user_cate_shop_id')['action_time_diff'].std().to_dict()\n",
    "        df_fea['user_cate_shop_id_{}_timediff_std'.format(days)] = df_fea['user_cate_shop_id'].map(dic_).values \n",
    "        dic_ = df_tmp.groupby('user_cate_shop_id')['action_time_diff'].median().to_dict()\n",
    "        df_fea['user_cate_shop_id_{}_timediff_median'.format(days)] = df_fea['user_cate_shop_id'].map(dic_).values \n",
    "        dic_ = df_tmp.groupby('user_cate_shop_id')['action_time_diff'].skew().to_dict()\n",
    "        df_fea['user_cate_shop_id_{}_timediff_skew'.format(days)] = df_fea['user_cate_shop_id'].map(dic_).values \n",
    "         \n",
    "        for type_ in [1,2,3,4]:\n",
    "            ind_type = df['type'] == type_\n",
    "            ind = tmp_ind & ind_type \n",
    "            df_tmp = df[ind].copy()  \n",
    "            ###### user_cate_shop_id 特征 ##########\n",
    "            dic_ = df_tmp.groupby('user_cate_shop_id')['day'].count().to_dict() \n",
    "            df_fea['type_{}_user_cate_shop_id_{}_day_cnt'.format(type_,days)] = df_fea['user_cate_shop_id'].map(dic_).values \n",
    "             \n",
    "            \n",
    "            if days > 1 and type_ == 2: \n",
    "                # 本次下单距离上一次下单的时间差的统计特征 #\n",
    "                df_tmp['action_time_diff']  = df_tmp.groupby('user_cate_shop_id')['action_time'].shift().values \n",
    "                df_tmp['action_time_diff']  = df_tmp['action_time'] - df_tmp['action_time_diff']\n",
    "                df_tmp['action_time_diff']  = df_tmp['action_time_diff'].dt.seconds // 60 \n",
    "                \n",
    "                dic_ = df_tmp.groupby('user_cate_shop_id')['day'].nunique().to_dict()\n",
    "                df_fea['type_{}_user_cate_shop_id_{}_day_nunique_pct'.format(type_,days)] = df_fea['user_cate_shop_id'].map(dic_).values  * 1.0 / days\n",
    "\n",
    "                dic_ = df_tmp.groupby('user_cate_shop_id')['action_time_diff'].mean().to_dict()\n",
    "                df_fea['type_{}_user_cate_shop_id_{}_timediff_mean'.format(type_,days)] = df_fea['user_cate_shop_id'].map(dic_).values\n",
    "\n",
    "                dic_ = df_tmp.groupby('user_cate_shop_id')['action_time_diff'].std().to_dict()\n",
    "                df_fea['type_{}_user_cate_shop_id_{}_timediff_std'.format(type_,days)] = df_fea['user_cate_shop_id'].map(dic_).values\n",
    "\n",
    "                dic_ = df_tmp.groupby('user_cate_shop_id')['action_time_diff'].median().to_dict()\n",
    "                df_fea['type_{}_user_cate_shop_id_{}_timediff_median'.format(type_,days)] = df_fea['user_cate_shop_id'].map(dic_).values\n",
    "                \n",
    "                dic_ = df_tmp.groupby('user_cate_shop_id')['action_time_diff'].skew().to_dict()\n",
    "                df_fea['user_cate_shop_id_{}_timediff_skew'.format(type_,days)] = df_fea['user_cate_shop_id'].map(dic_).values \n",
    "               \n",
    "                \n",
    "    df_fea = memory_preprocess._memory_process(df_fea)\n",
    "    return df_fea  "
   ]
  },
  {
   "cell_type": "markdown",
   "metadata": {},
   "source": [
    "### 训练集特征提取\n",
    "因为数据集较大,我们划分用户进行特征的并行提取\n"
   ]
  },
  {
   "cell_type": "code",
   "execution_count": 24,
   "metadata": {},
   "outputs": [],
   "source": [
    "df_ = data_train_fea1.copy()\n",
    "st_time = datetime.datetime(2018, 4, 1)"
   ]
  },
  {
   "cell_type": "code",
   "execution_count": 25,
   "metadata": {},
   "outputs": [],
   "source": [
    "users = df_['user_id'].unique() \n",
    "len_ = len(users)\n",
    "cut_len = 150000\n",
    "user_indexs = [users[i:i+cut_len] for i in range(0,len_,cut_len)] "
   ]
  },
  {
   "cell_type": "code",
   "execution_count": 26,
   "metadata": {
    "scrolled": true
   },
   "outputs": [
    {
     "name": "stdout",
     "output_type": "stream",
     "text": [
      "shift\n",
      "shift\n"
     ]
    },
    {
     "name": "stderr",
     "output_type": "stream",
     "text": [
      "\r",
      "  0%|          | 0/6 [00:00<?, ?it/s]"
     ]
    },
    {
     "name": "stdout",
     "output_type": "stream",
     "text": [
      "shift\n",
      "shift\n",
      "shift\n",
      "shift\n"
     ]
    },
    {
     "name": "stderr",
     "output_type": "stream",
     "text": [
      "\r",
      " 17%|█▋        | 1/6 [00:07<00:38,  7.79s/it]"
     ]
    },
    {
     "name": "stdout",
     "output_type": "stream",
     "text": [
      "shift\n"
     ]
    },
    {
     "name": "stderr",
     "output_type": "stream",
     "text": [
      "\r",
      "  0%|          | 0/6 [00:00<?, ?it/s]"
     ]
    },
    {
     "name": "stdout",
     "output_type": "stream",
     "text": [
      "shift\n",
      "shift\n"
     ]
    },
    {
     "name": "stderr",
     "output_type": "stream",
     "text": [
      " 17%|█▋        | 1/6 [00:03<00:15,  3.16s/it]"
     ]
    },
    {
     "name": "stdout",
     "output_type": "stream",
     "text": [
      "shift\n"
     ]
    },
    {
     "name": "stderr",
     "output_type": "stream",
     "text": [
      "100%|██████████| 6/6 [02:03<00:00, 20.55s/it]\n"
     ]
    },
    {
     "name": "stdout",
     "output_type": "stream",
     "text": [
      "Original data occupies 0.46517249196767807 GB memory.\n"
     ]
    },
    {
     "data": {
      "application/vnd.jupyter.widget-view+json": {
       "model_id": "622bc0788f994cf3b2750b229f3a9b80",
       "version_major": 2,
       "version_minor": 0
      },
      "text/html": [
       "<p>Failed to display Jupyter Widget of type <code>HBox</code>.</p>\n",
       "<p>\n",
       "  If you're reading this message in Jupyter Notebook or JupyterLab, it may mean\n",
       "  that the widgets JavaScript is still loading. If this message persists, it\n",
       "  likely means that the widgets JavaScript library is either not installed or\n",
       "  not enabled. See the <a href=\"https://ipywidgets.readthedocs.io/en/stable/user_install.html\">Jupyter\n",
       "  Widgets Documentation</a> for setup instructions.\n",
       "</p>\n",
       "<p>\n",
       "  If you're reading this message in another notebook frontend (for example, a static\n",
       "  rendering on GitHub or <a href=\"https://nbviewer.jupyter.org/\">NBViewer</a>),\n",
       "  it may mean that your frontend doesn't currently support widgets.\n",
       "</p>\n"
      ],
      "text/plain": [
       "HBox(children=(IntProgress(value=0, max=80), HTML(value='')))"
      ]
     },
     "metadata": {},
     "output_type": "display_data"
    },
    {
     "name": "stderr",
     "output_type": "stream",
     "text": [
      "\r",
      " 83%|████████▎ | 5/6 [02:20<00:28, 28.04s/it]"
     ]
    },
    {
     "name": "stdout",
     "output_type": "stream",
     "text": [
      "\n",
      "After processing, the data occupies 0.13065029866993427 GB memory.\n"
     ]
    },
    {
     "name": "stderr",
     "output_type": "stream",
     "text": [
      "100%|██████████| 6/6 [02:04<00:00, 20.69s/it]\n"
     ]
    },
    {
     "name": "stdout",
     "output_type": "stream",
     "text": [
      "Original data occupies 0.549284890294075 GB memory.\n"
     ]
    },
    {
     "data": {
      "application/vnd.jupyter.widget-view+json": {
       "model_id": "ff309b2fe3bd49609e8a2db812f713e3",
       "version_major": 2,
       "version_minor": 0
      },
      "text/html": [
       "<p>Failed to display Jupyter Widget of type <code>HBox</code>.</p>\n",
       "<p>\n",
       "  If you're reading this message in Jupyter Notebook or JupyterLab, it may mean\n",
       "  that the widgets JavaScript is still loading. If this message persists, it\n",
       "  likely means that the widgets JavaScript library is either not installed or\n",
       "  not enabled. See the <a href=\"https://ipywidgets.readthedocs.io/en/stable/user_install.html\">Jupyter\n",
       "  Widgets Documentation</a> for setup instructions.\n",
       "</p>\n",
       "<p>\n",
       "  If you're reading this message in another notebook frontend (for example, a static\n",
       "  rendering on GitHub or <a href=\"https://nbviewer.jupyter.org/\">NBViewer</a>),\n",
       "  it may mean that your frontend doesn't currently support widgets.\n",
       "</p>\n"
      ],
      "text/plain": [
       "HBox(children=(IntProgress(value=0, max=80), HTML(value='')))"
      ]
     },
     "metadata": {},
     "output_type": "display_data"
    },
    {
     "name": "stdout",
     "output_type": "stream",
     "text": [
      "\n",
      "After processing, the data occupies 0.15427445992827415 GB memory.\n"
     ]
    },
    {
     "name": "stderr",
     "output_type": "stream",
     "text": [
      "100%|██████████| 6/6 [02:50<00:00, 28.39s/it]\n"
     ]
    },
    {
     "name": "stdout",
     "output_type": "stream",
     "text": [
      "Original data occupies 0.39724769443273544 GB memory.\n"
     ]
    },
    {
     "data": {
      "application/vnd.jupyter.widget-view+json": {
       "model_id": "4d6f6004cafc4a428f879bf319b274dd",
       "version_major": 2,
       "version_minor": 0
      },
      "text/html": [
       "<p>Failed to display Jupyter Widget of type <code>HBox</code>.</p>\n",
       "<p>\n",
       "  If you're reading this message in Jupyter Notebook or JupyterLab, it may mean\n",
       "  that the widgets JavaScript is still loading. If this message persists, it\n",
       "  likely means that the widgets JavaScript library is either not installed or\n",
       "  not enabled. See the <a href=\"https://ipywidgets.readthedocs.io/en/stable/user_install.html\">Jupyter\n",
       "  Widgets Documentation</a> for setup instructions.\n",
       "</p>\n",
       "<p>\n",
       "  If you're reading this message in another notebook frontend (for example, a static\n",
       "  rendering on GitHub or <a href=\"https://nbviewer.jupyter.org/\">NBViewer</a>),\n",
       "  it may mean that your frontend doesn't currently support widgets.\n",
       "</p>\n"
      ],
      "text/plain": [
       "HBox(children=(IntProgress(value=0, max=80), HTML(value='')))"
      ]
     },
     "metadata": {},
     "output_type": "display_data"
    },
    {
     "name": "stdout",
     "output_type": "stream",
     "text": [
      "\n",
      "After processing, the data occupies 0.11157265491783619 GB memory.\n"
     ]
    },
    {
     "name": "stderr",
     "output_type": "stream",
     "text": [
      "100%|██████████| 6/6 [03:43<00:00, 37.23s/it]\n"
     ]
    },
    {
     "name": "stdout",
     "output_type": "stream",
     "text": [
      "Original data occupies 0.14529673755168915 GB memory.\n"
     ]
    },
    {
     "data": {
      "application/vnd.jupyter.widget-view+json": {
       "model_id": "a400c4e8554a41588a2b2f8500ad3fb1",
       "version_major": 2,
       "version_minor": 0
      },
      "text/html": [
       "<p>Failed to display Jupyter Widget of type <code>HBox</code>.</p>\n",
       "<p>\n",
       "  If you're reading this message in Jupyter Notebook or JupyterLab, it may mean\n",
       "  that the widgets JavaScript is still loading. If this message persists, it\n",
       "  likely means that the widgets JavaScript library is either not installed or\n",
       "  not enabled. See the <a href=\"https://ipywidgets.readthedocs.io/en/stable/user_install.html\">Jupyter\n",
       "  Widgets Documentation</a> for setup instructions.\n",
       "</p>\n",
       "<p>\n",
       "  If you're reading this message in another notebook frontend (for example, a static\n",
       "  rendering on GitHub or <a href=\"https://nbviewer.jupyter.org/\">NBViewer</a>),\n",
       "  it may mean that your frontend doesn't currently support widgets.\n",
       "</p>\n"
      ],
      "text/plain": [
       "HBox(children=(IntProgress(value=0, max=80), HTML(value='')))"
      ]
     },
     "metadata": {},
     "output_type": "display_data"
    },
    {
     "name": "stdout",
     "output_type": "stream",
     "text": [
      "\n",
      "After processing, the data occupies 0.040135981515049934 GB memory.\n"
     ]
    },
    {
     "name": "stderr",
     "output_type": "stream",
     "text": [
      "100%|██████████| 6/6 [03:02<00:00, 30.49s/it]\n"
     ]
    },
    {
     "name": "stdout",
     "output_type": "stream",
     "text": [
      "Original data occupies 0.7606186866760254 GB memory.\n"
     ]
    },
    {
     "data": {
      "application/vnd.jupyter.widget-view+json": {
       "model_id": "1af62e665ae848a4a9bbdef7f0a4142f",
       "version_major": 2,
       "version_minor": 0
      },
      "text/html": [
       "<p>Failed to display Jupyter Widget of type <code>HBox</code>.</p>\n",
       "<p>\n",
       "  If you're reading this message in Jupyter Notebook or JupyterLab, it may mean\n",
       "  that the widgets JavaScript is still loading. If this message persists, it\n",
       "  likely means that the widgets JavaScript library is either not installed or\n",
       "  not enabled. See the <a href=\"https://ipywidgets.readthedocs.io/en/stable/user_install.html\">Jupyter\n",
       "  Widgets Documentation</a> for setup instructions.\n",
       "</p>\n",
       "<p>\n",
       "  If you're reading this message in another notebook frontend (for example, a static\n",
       "  rendering on GitHub or <a href=\"https://nbviewer.jupyter.org/\">NBViewer</a>),\n",
       "  it may mean that your frontend doesn't currently support widgets.\n",
       "</p>\n"
      ],
      "text/plain": [
       "HBox(children=(IntProgress(value=0, max=80), HTML(value='')))"
      ]
     },
     "metadata": {},
     "output_type": "display_data"
    },
    {
     "name": "stdout",
     "output_type": "stream",
     "text": [
      "\n",
      "After processing, the data occupies 0.2136305570602417 GB memory.\n"
     ]
    },
    {
     "name": "stderr",
     "output_type": "stream",
     "text": [
      "100%|██████████| 6/6 [03:16<00:00, 32.74s/it]\n"
     ]
    },
    {
     "name": "stdout",
     "output_type": "stream",
     "text": [
      "Original data occupies 0.8764864951372147 GB memory.\n"
     ]
    },
    {
     "data": {
      "application/vnd.jupyter.widget-view+json": {
       "model_id": "b00e6457b0004fbaa1f3966cd35b08ee",
       "version_major": 2,
       "version_minor": 0
      },
      "text/html": [
       "<p>Failed to display Jupyter Widget of type <code>HBox</code>.</p>\n",
       "<p>\n",
       "  If you're reading this message in Jupyter Notebook or JupyterLab, it may mean\n",
       "  that the widgets JavaScript is still loading. If this message persists, it\n",
       "  likely means that the widgets JavaScript library is either not installed or\n",
       "  not enabled. See the <a href=\"https://ipywidgets.readthedocs.io/en/stable/user_install.html\">Jupyter\n",
       "  Widgets Documentation</a> for setup instructions.\n",
       "</p>\n",
       "<p>\n",
       "  If you're reading this message in another notebook frontend (for example, a static\n",
       "  rendering on GitHub or <a href=\"https://nbviewer.jupyter.org/\">NBViewer</a>),\n",
       "  it may mean that your frontend doesn't currently support widgets.\n",
       "</p>\n"
      ],
      "text/plain": [
       "HBox(children=(IntProgress(value=0, max=80), HTML(value='')))"
      ]
     },
     "metadata": {},
     "output_type": "display_data"
    },
    {
     "name": "stdout",
     "output_type": "stream",
     "text": [
      "\n",
      "After processing, the data occupies 0.2461736761033535 GB memory.\n"
     ]
    },
    {
     "name": "stderr",
     "output_type": "stream",
     "text": [
      "100%|██████████| 6/6 [04:09<00:00, 41.65s/it]\n"
     ]
    },
    {
     "name": "stdout",
     "output_type": "stream",
     "text": [
      "Original data occupies 0.322339229285717 GB memory.\n"
     ]
    },
    {
     "data": {
      "application/vnd.jupyter.widget-view+json": {
       "model_id": "e7ddfcbc6127410ba9107541cafbfe1d",
       "version_major": 2,
       "version_minor": 0
      },
      "text/html": [
       "<p>Failed to display Jupyter Widget of type <code>HBox</code>.</p>\n",
       "<p>\n",
       "  If you're reading this message in Jupyter Notebook or JupyterLab, it may mean\n",
       "  that the widgets JavaScript is still loading. If this message persists, it\n",
       "  likely means that the widgets JavaScript library is either not installed or\n",
       "  not enabled. See the <a href=\"https://ipywidgets.readthedocs.io/en/stable/user_install.html\">Jupyter\n",
       "  Widgets Documentation</a> for setup instructions.\n",
       "</p>\n",
       "<p>\n",
       "  If you're reading this message in another notebook frontend (for example, a static\n",
       "  rendering on GitHub or <a href=\"https://nbviewer.jupyter.org/\">NBViewer</a>),\n",
       "  it may mean that your frontend doesn't currently support widgets.\n",
       "</p>\n"
      ],
      "text/plain": [
       "HBox(children=(IntProgress(value=0, max=80), HTML(value='')))"
      ]
     },
     "metadata": {},
     "output_type": "display_data"
    },
    {
     "name": "stdout",
     "output_type": "stream",
     "text": [
      "\n",
      "After processing, the data occupies 0.09152842313051224 GB memory.\n"
     ]
    },
    {
     "name": "stderr",
     "output_type": "stream",
     "text": [
      "100%|██████████| 6/6 [03:29<00:00, 34.99s/it]\n"
     ]
    },
    {
     "name": "stdout",
     "output_type": "stream",
     "text": [
      "Original data occupies 1.006659597158432 GB memory.\n"
     ]
    },
    {
     "data": {
      "application/vnd.jupyter.widget-view+json": {
       "model_id": "abd6058c462048bba97b2fcd6ef9dae5",
       "version_major": 2,
       "version_minor": 0
      },
      "text/html": [
       "<p>Failed to display Jupyter Widget of type <code>HBox</code>.</p>\n",
       "<p>\n",
       "  If you're reading this message in Jupyter Notebook or JupyterLab, it may mean\n",
       "  that the widgets JavaScript is still loading. If this message persists, it\n",
       "  likely means that the widgets JavaScript library is either not installed or\n",
       "  not enabled. See the <a href=\"https://ipywidgets.readthedocs.io/en/stable/user_install.html\">Jupyter\n",
       "  Widgets Documentation</a> for setup instructions.\n",
       "</p>\n",
       "<p>\n",
       "  If you're reading this message in another notebook frontend (for example, a static\n",
       "  rendering on GitHub or <a href=\"https://nbviewer.jupyter.org/\">NBViewer</a>),\n",
       "  it may mean that your frontend doesn't currently support widgets.\n",
       "</p>\n"
      ],
      "text/plain": [
       "HBox(children=(IntProgress(value=0, max=80), HTML(value='')))"
      ]
     },
     "metadata": {},
     "output_type": "display_data"
    },
    {
     "name": "stdout",
     "output_type": "stream",
     "text": [
      "\n",
      "After processing, the data occupies 0.282734639942646 GB memory.\n"
     ]
    },
    {
     "name": "stderr",
     "output_type": "stream",
     "text": [
      "100%|██████████| 6/6 [04:28<00:00, 44.74s/it]\n"
     ]
    },
    {
     "name": "stdout",
     "output_type": "stream",
     "text": [
      "Original data occupies 1.2624011188745499 GB memory.\n"
     ]
    },
    {
     "data": {
      "application/vnd.jupyter.widget-view+json": {
       "model_id": "0440601f13db47dc88cad863a149bf72",
       "version_major": 2,
       "version_minor": 0
      },
      "text/html": [
       "<p>Failed to display Jupyter Widget of type <code>HBox</code>.</p>\n",
       "<p>\n",
       "  If you're reading this message in Jupyter Notebook or JupyterLab, it may mean\n",
       "  that the widgets JavaScript is still loading. If this message persists, it\n",
       "  likely means that the widgets JavaScript library is either not installed or\n",
       "  not enabled. See the <a href=\"https://ipywidgets.readthedocs.io/en/stable/user_install.html\">Jupyter\n",
       "  Widgets Documentation</a> for setup instructions.\n",
       "</p>\n",
       "<p>\n",
       "  If you're reading this message in another notebook frontend (for example, a static\n",
       "  rendering on GitHub or <a href=\"https://nbviewer.jupyter.org/\">NBViewer</a>),\n",
       "  it may mean that your frontend doesn't currently support widgets.\n",
       "</p>\n"
      ],
      "text/plain": [
       "HBox(children=(IntProgress(value=0, max=80), HTML(value='')))"
      ]
     },
     "metadata": {},
     "output_type": "display_data"
    },
    {
     "name": "stdout",
     "output_type": "stream",
     "text": [
      "\n",
      "After processing, the data occupies 0.35456327721476555 GB memory.\n"
     ]
    },
    {
     "name": "stderr",
     "output_type": "stream",
     "text": [
      "100%|██████████| 6/6 [07:26<00:00, 74.35s/it]\n"
     ]
    },
    {
     "name": "stdout",
     "output_type": "stream",
     "text": [
      "Original data occupies 1.9042377099394798 GB memory.\n"
     ]
    },
    {
     "data": {
      "application/vnd.jupyter.widget-view+json": {
       "model_id": "9a1e5d30404548e1a8b5bf2f4fd5d770",
       "version_major": 2,
       "version_minor": 0
      },
      "text/html": [
       "<p>Failed to display Jupyter Widget of type <code>HBox</code>.</p>\n",
       "<p>\n",
       "  If you're reading this message in Jupyter Notebook or JupyterLab, it may mean\n",
       "  that the widgets JavaScript is still loading. If this message persists, it\n",
       "  likely means that the widgets JavaScript library is either not installed or\n",
       "  not enabled. See the <a href=\"https://ipywidgets.readthedocs.io/en/stable/user_install.html\">Jupyter\n",
       "  Widgets Documentation</a> for setup instructions.\n",
       "</p>\n",
       "<p>\n",
       "  If you're reading this message in another notebook frontend (for example, a static\n",
       "  rendering on GitHub or <a href=\"https://nbviewer.jupyter.org/\">NBViewer</a>),\n",
       "  it may mean that your frontend doesn't currently support widgets.\n",
       "</p>\n"
      ],
      "text/plain": [
       "HBox(children=(IntProgress(value=0, max=80), HTML(value='')))"
      ]
     },
     "metadata": {},
     "output_type": "display_data"
    },
    {
     "name": "stdout",
     "output_type": "stream",
     "text": [
      "\n",
      "After processing, the data occupies 0.5348321963101625 GB memory.\n"
     ]
    },
    {
     "data": {
      "application/vnd.jupyter.widget-view+json": {
       "model_id": "83093496ab4745178748115ecd98c864",
       "version_major": 2,
       "version_minor": 0
      },
      "text/html": [
       "<p>Failed to display Jupyter Widget of type <code>HBox</code>.</p>\n",
       "<p>\n",
       "  If you're reading this message in Jupyter Notebook or JupyterLab, it may mean\n",
       "  that the widgets JavaScript is still loading. If this message persists, it\n",
       "  likely means that the widgets JavaScript library is either not installed or\n",
       "  not enabled. See the <a href=\"https://ipywidgets.readthedocs.io/en/stable/user_install.html\">Jupyter\n",
       "  Widgets Documentation</a> for setup instructions.\n",
       "</p>\n",
       "<p>\n",
       "  If you're reading this message in another notebook frontend (for example, a static\n",
       "  rendering on GitHub or <a href=\"https://nbviewer.jupyter.org/\">NBViewer</a>),\n",
       "  it may mean that your frontend doesn't currently support widgets.\n",
       "</p>\n"
      ],
      "text/plain": [
       "HBox(children=(IntProgress(value=0, max=10), HTML(value='')))"
      ]
     },
     "metadata": {},
     "output_type": "display_data"
    },
    {
     "name": "stdout",
     "output_type": "stream",
     "text": [
      "\n",
      "CPU times: user 22.1 s, sys: 36 s, total: 58.2 s\n",
      "Wall time: 11min 34s\n"
     ]
    }
   ],
   "source": [
    "%%time\n",
    "res = parmap(get_ucs_parallel,user_indexs, nprocs=10) \n",
    "ucs_fea_train = None\n",
    "for i in tqdm_notebook(range(len(res))):\n",
    "    if i == 0:\n",
    "        ucs_fea_train = res[0]\n",
    "    else:\n",
    "        ucs_fea_train = pd.concat([ucs_fea_train,res[i]], axis=0, ignore_index=True)"
   ]
  },
  {
   "cell_type": "markdown",
   "metadata": {},
   "source": [
    "\n",
    "### 验证集特征提取"
   ]
  },
  {
   "cell_type": "code",
   "execution_count": 27,
   "metadata": {
    "scrolled": true
   },
   "outputs": [],
   "source": [
    "df_ = data_valid_fea.copy()\n",
    "st_time = datetime.datetime(2018, 4, 8)"
   ]
  },
  {
   "cell_type": "code",
   "execution_count": 28,
   "metadata": {},
   "outputs": [
    {
     "name": "stdout",
     "output_type": "stream",
     "text": [
      "1530159\n"
     ]
    }
   ],
   "source": [
    "users = df_['user_id'].unique() \n",
    "len_ = len(users)\n",
    "print(len_)\n",
    "cut_len = 154000\n",
    "user_indexs = [users[i:i+cut_len] for i in range(0,len_,cut_len)] "
   ]
  },
  {
   "cell_type": "code",
   "execution_count": 29,
   "metadata": {
    "scrolled": true
   },
   "outputs": [
    {
     "name": "stdout",
     "output_type": "stream",
     "text": [
      "shift\n",
      "shift\n",
      "shift\n",
      "shift\n",
      "shift\n",
      "shift\n"
     ]
    },
    {
     "name": "stderr",
     "output_type": "stream",
     "text": [
      "\r",
      "  0%|          | 0/6 [00:00<?, ?it/s]"
     ]
    },
    {
     "name": "stdout",
     "output_type": "stream",
     "text": [
      "shift\n",
      "shift\n"
     ]
    },
    {
     "name": "stderr",
     "output_type": "stream",
     "text": [
      "\r",
      "  0%|          | 0/6 [00:00<?, ?it/s]"
     ]
    },
    {
     "name": "stdout",
     "output_type": "stream",
     "text": [
      "shift\n"
     ]
    },
    {
     "name": "stderr",
     "output_type": "stream",
     "text": [
      " 33%|███▎      | 2/6 [00:08<00:16,  4.16s/it]"
     ]
    },
    {
     "name": "stdout",
     "output_type": "stream",
     "text": [
      "shift\n"
     ]
    },
    {
     "name": "stderr",
     "output_type": "stream",
     "text": [
      "100%|██████████| 6/6 [01:59<00:00, 19.97s/it]\n"
     ]
    },
    {
     "name": "stdout",
     "output_type": "stream",
     "text": [
      "Original data occupies 0.43093670904636383 GB memory.\n"
     ]
    },
    {
     "data": {
      "application/vnd.jupyter.widget-view+json": {
       "model_id": "12db2990b20d40e381685404e0f01426",
       "version_major": 2,
       "version_minor": 0
      },
      "text/html": [
       "<p>Failed to display Jupyter Widget of type <code>HBox</code>.</p>\n",
       "<p>\n",
       "  If you're reading this message in Jupyter Notebook or JupyterLab, it may mean\n",
       "  that the widgets JavaScript is still loading. If this message persists, it\n",
       "  likely means that the widgets JavaScript library is either not installed or\n",
       "  not enabled. See the <a href=\"https://ipywidgets.readthedocs.io/en/stable/user_install.html\">Jupyter\n",
       "  Widgets Documentation</a> for setup instructions.\n",
       "</p>\n",
       "<p>\n",
       "  If you're reading this message in another notebook frontend (for example, a static\n",
       "  rendering on GitHub or <a href=\"https://nbviewer.jupyter.org/\">NBViewer</a>),\n",
       "  it may mean that your frontend doesn't currently support widgets.\n",
       "</p>\n"
      ],
      "text/plain": [
       "HBox(children=(IntProgress(value=0, max=80), HTML(value='')))"
      ]
     },
     "metadata": {},
     "output_type": "display_data"
    },
    {
     "name": "stdout",
     "output_type": "stream",
     "text": [
      "\n",
      "After processing, the data occupies 0.12103469297289848 GB memory.\n"
     ]
    },
    {
     "name": "stderr",
     "output_type": "stream",
     "text": [
      "100%|██████████| 6/6 [02:00<00:00, 20.08s/it]\n"
     ]
    },
    {
     "name": "stdout",
     "output_type": "stream",
     "text": [
      "Original data occupies 0.5031952187418938 GB memory.\n"
     ]
    },
    {
     "data": {
      "application/vnd.jupyter.widget-view+json": {
       "model_id": "35955b7f655a4c968f6f2b0b55a1281b",
       "version_major": 2,
       "version_minor": 0
      },
      "text/html": [
       "<p>Failed to display Jupyter Widget of type <code>HBox</code>.</p>\n",
       "<p>\n",
       "  If you're reading this message in Jupyter Notebook or JupyterLab, it may mean\n",
       "  that the widgets JavaScript is still loading. If this message persists, it\n",
       "  likely means that the widgets JavaScript library is either not installed or\n",
       "  not enabled. See the <a href=\"https://ipywidgets.readthedocs.io/en/stable/user_install.html\">Jupyter\n",
       "  Widgets Documentation</a> for setup instructions.\n",
       "</p>\n",
       "<p>\n",
       "  If you're reading this message in another notebook frontend (for example, a static\n",
       "  rendering on GitHub or <a href=\"https://nbviewer.jupyter.org/\">NBViewer</a>),\n",
       "  it may mean that your frontend doesn't currently support widgets.\n",
       "</p>\n"
      ],
      "text/plain": [
       "HBox(children=(IntProgress(value=0, max=80), HTML(value='')))"
      ]
     },
     "metadata": {},
     "output_type": "display_data"
    },
    {
     "name": "stdout",
     "output_type": "stream",
     "text": [
      "\n",
      "After processing, the data occupies 0.14132952131330967 GB memory.\n"
     ]
    },
    {
     "name": "stderr",
     "output_type": "stream",
     "text": [
      "100%|██████████| 6/6 [02:04<00:00, 20.82s/it]\n"
     ]
    },
    {
     "name": "stdout",
     "output_type": "stream",
     "text": [
      "Original data occupies 0.586974486708641 GB memory.\n"
     ]
    },
    {
     "data": {
      "application/vnd.jupyter.widget-view+json": {
       "model_id": "614c9ae521ef44cca9f0422fc97fb007",
       "version_major": 2,
       "version_minor": 0
      },
      "text/html": [
       "<p>Failed to display Jupyter Widget of type <code>HBox</code>.</p>\n",
       "<p>\n",
       "  If you're reading this message in Jupyter Notebook or JupyterLab, it may mean\n",
       "  that the widgets JavaScript is still loading. If this message persists, it\n",
       "  likely means that the widgets JavaScript library is either not installed or\n",
       "  not enabled. See the <a href=\"https://ipywidgets.readthedocs.io/en/stable/user_install.html\">Jupyter\n",
       "  Widgets Documentation</a> for setup instructions.\n",
       "</p>\n",
       "<p>\n",
       "  If you're reading this message in another notebook frontend (for example, a static\n",
       "  rendering on GitHub or <a href=\"https://nbviewer.jupyter.org/\">NBViewer</a>),\n",
       "  it may mean that your frontend doesn't currently support widgets.\n",
       "</p>\n"
      ],
      "text/plain": [
       "HBox(children=(IntProgress(value=0, max=80), HTML(value='')))"
      ]
     },
     "metadata": {},
     "output_type": "display_data"
    },
    {
     "name": "stdout",
     "output_type": "stream",
     "text": [
      "\n",
      "After processing, the data occupies 0.16486011818051338 GB memory.\n"
     ]
    },
    {
     "name": "stderr",
     "output_type": "stream",
     "text": [
      "100%|██████████| 6/6 [03:22<00:00, 33.75s/it]\n"
     ]
    },
    {
     "name": "stdout",
     "output_type": "stream",
     "text": [
      "Original data occupies 0.33272360265254974 GB memory.\n"
     ]
    },
    {
     "data": {
      "application/vnd.jupyter.widget-view+json": {
       "model_id": "a074d9a3fd4b4c1eab154bbcdb304e6a",
       "version_major": 2,
       "version_minor": 0
      },
      "text/html": [
       "<p>Failed to display Jupyter Widget of type <code>HBox</code>.</p>\n",
       "<p>\n",
       "  If you're reading this message in Jupyter Notebook or JupyterLab, it may mean\n",
       "  that the widgets JavaScript is still loading. If this message persists, it\n",
       "  likely means that the widgets JavaScript library is either not installed or\n",
       "  not enabled. See the <a href=\"https://ipywidgets.readthedocs.io/en/stable/user_install.html\">Jupyter\n",
       "  Widgets Documentation</a> for setup instructions.\n",
       "</p>\n",
       "<p>\n",
       "  If you're reading this message in another notebook frontend (for example, a static\n",
       "  rendering on GitHub or <a href=\"https://nbviewer.jupyter.org/\">NBViewer</a>),\n",
       "  it may mean that your frontend doesn't currently support widgets.\n",
       "</p>\n"
      ],
      "text/plain": [
       "HBox(children=(IntProgress(value=0, max=80), HTML(value='')))"
      ]
     },
     "metadata": {},
     "output_type": "display_data"
    },
    {
     "name": "stdout",
     "output_type": "stream",
     "text": [
      "\n",
      "After processing, the data occupies 0.0934501476585865 GB memory.\n"
     ]
    },
    {
     "name": "stderr",
     "output_type": "stream",
     "text": [
      "100%|██████████| 6/6 [02:54<00:00, 29.05s/it]\n"
     ]
    },
    {
     "name": "stdout",
     "output_type": "stream",
     "text": [
      "Original data occupies 0.8085912689566612 GB memory.\n"
     ]
    },
    {
     "data": {
      "application/vnd.jupyter.widget-view+json": {
       "model_id": "f96befa6b8344c3da049ef825bd1a6c6",
       "version_major": 2,
       "version_minor": 0
      },
      "text/html": [
       "<p>Failed to display Jupyter Widget of type <code>HBox</code>.</p>\n",
       "<p>\n",
       "  If you're reading this message in Jupyter Notebook or JupyterLab, it may mean\n",
       "  that the widgets JavaScript is still loading. If this message persists, it\n",
       "  likely means that the widgets JavaScript library is either not installed or\n",
       "  not enabled. See the <a href=\"https://ipywidgets.readthedocs.io/en/stable/user_install.html\">Jupyter\n",
       "  Widgets Documentation</a> for setup instructions.\n",
       "</p>\n",
       "<p>\n",
       "  If you're reading this message in another notebook frontend (for example, a static\n",
       "  rendering on GitHub or <a href=\"https://nbviewer.jupyter.org/\">NBViewer</a>),\n",
       "  it may mean that your frontend doesn't currently support widgets.\n",
       "</p>\n"
      ],
      "text/plain": [
       "HBox(children=(IntProgress(value=0, max=80), HTML(value='')))"
      ]
     },
     "metadata": {},
     "output_type": "display_data"
    },
    {
     "name": "stdout",
     "output_type": "stream",
     "text": [
      "\n",
      "After processing, the data occupies 0.22710433788597584 GB memory.\n"
     ]
    },
    {
     "name": "stderr",
     "output_type": "stream",
     "text": [
      "100%|██████████| 6/6 [03:13<00:00, 32.28s/it]\n"
     ]
    },
    {
     "name": "stdout",
     "output_type": "stream",
     "text": [
      "Original data occupies 0.9502115026116371 GB memory.\n"
     ]
    },
    {
     "data": {
      "application/vnd.jupyter.widget-view+json": {
       "model_id": "6289ecf076354718943c66dc9b6bb12e",
       "version_major": 2,
       "version_minor": 0
      },
      "text/html": [
       "<p>Failed to display Jupyter Widget of type <code>HBox</code>.</p>\n",
       "<p>\n",
       "  If you're reading this message in Jupyter Notebook or JupyterLab, it may mean\n",
       "  that the widgets JavaScript is still loading. If this message persists, it\n",
       "  likely means that the widgets JavaScript library is either not installed or\n",
       "  not enabled. See the <a href=\"https://ipywidgets.readthedocs.io/en/stable/user_install.html\">Jupyter\n",
       "  Widgets Documentation</a> for setup instructions.\n",
       "</p>\n",
       "<p>\n",
       "  If you're reading this message in another notebook frontend (for example, a static\n",
       "  rendering on GitHub or <a href=\"https://nbviewer.jupyter.org/\">NBViewer</a>),\n",
       "  it may mean that your frontend doesn't currently support widgets.\n",
       "</p>\n"
      ],
      "text/plain": [
       "HBox(children=(IntProgress(value=0, max=80), HTML(value='')))"
      ]
     },
     "metadata": {},
     "output_type": "display_data"
    },
    {
     "name": "stdout",
     "output_type": "stream",
     "text": [
      "\n",
      "After processing, the data occupies 0.26688039116561413 GB memory.\n"
     ]
    },
    {
     "name": "stderr",
     "output_type": "stream",
     "text": [
      "100%|██████████| 6/6 [03:23<00:00, 33.90s/it]\n"
     ]
    },
    {
     "name": "stdout",
     "output_type": "stream",
     "text": [
      "Original data occupies 1.0928196609020233 GB memory.\n"
     ]
    },
    {
     "data": {
      "application/vnd.jupyter.widget-view+json": {
       "model_id": "b5039be183534046a060fe3b48e50510",
       "version_major": 2,
       "version_minor": 0
      },
      "text/html": [
       "<p>Failed to display Jupyter Widget of type <code>HBox</code>.</p>\n",
       "<p>\n",
       "  If you're reading this message in Jupyter Notebook or JupyterLab, it may mean\n",
       "  that the widgets JavaScript is still loading. If this message persists, it\n",
       "  likely means that the widgets JavaScript library is either not installed or\n",
       "  not enabled. See the <a href=\"https://ipywidgets.readthedocs.io/en/stable/user_install.html\">Jupyter\n",
       "  Widgets Documentation</a> for setup instructions.\n",
       "</p>\n",
       "<p>\n",
       "  If you're reading this message in another notebook frontend (for example, a static\n",
       "  rendering on GitHub or <a href=\"https://nbviewer.jupyter.org/\">NBViewer</a>),\n",
       "  it may mean that your frontend doesn't currently support widgets.\n",
       "</p>\n"
      ],
      "text/plain": [
       "HBox(children=(IntProgress(value=0, max=80), HTML(value='')))"
      ]
     },
     "metadata": {},
     "output_type": "display_data"
    },
    {
     "name": "stdout",
     "output_type": "stream",
     "text": [
      "\n",
      "After processing, the data occupies 0.3069339171051979 GB memory.\n"
     ]
    },
    {
     "name": "stderr",
     "output_type": "stream",
     "text": [
      "100%|██████████| 6/6 [05:27<00:00, 54.59s/it]\n"
     ]
    },
    {
     "name": "stdout",
     "output_type": "stream",
     "text": [
      "Original data occupies 0.2624071463942528 GB memory.\n"
     ]
    },
    {
     "data": {
      "application/vnd.jupyter.widget-view+json": {
       "model_id": "42f3ea09f9564fe7958a6741262b32bf",
       "version_major": 2,
       "version_minor": 0
      },
      "text/html": [
       "<p>Failed to display Jupyter Widget of type <code>HBox</code>.</p>\n",
       "<p>\n",
       "  If you're reading this message in Jupyter Notebook or JupyterLab, it may mean\n",
       "  that the widgets JavaScript is still loading. If this message persists, it\n",
       "  likely means that the widgets JavaScript library is either not installed or\n",
       "  not enabled. See the <a href=\"https://ipywidgets.readthedocs.io/en/stable/user_install.html\">Jupyter\n",
       "  Widgets Documentation</a> for setup instructions.\n",
       "</p>\n",
       "<p>\n",
       "  If you're reading this message in another notebook frontend (for example, a static\n",
       "  rendering on GitHub or <a href=\"https://nbviewer.jupyter.org/\">NBViewer</a>),\n",
       "  it may mean that your frontend doesn't currently support widgets.\n",
       "</p>\n"
      ],
      "text/plain": [
       "HBox(children=(IntProgress(value=0, max=80), HTML(value='')))"
      ]
     },
     "metadata": {},
     "output_type": "display_data"
    },
    {
     "name": "stdout",
     "output_type": "stream",
     "text": [
      "\n",
      "After processing, the data occupies 0.07289087399840355 GB memory.\n"
     ]
    },
    {
     "name": "stderr",
     "output_type": "stream",
     "text": [
      "100%|██████████| 6/6 [04:21<00:00, 43.58s/it]\n"
     ]
    },
    {
     "name": "stdout",
     "output_type": "stream",
     "text": [
      "Original data occupies 1.3662213161587715 GB memory.\n"
     ]
    },
    {
     "data": {
      "application/vnd.jupyter.widget-view+json": {
       "model_id": "b4da5e0642d84e509446420a7473cf35",
       "version_major": 2,
       "version_minor": 0
      },
      "text/html": [
       "<p>Failed to display Jupyter Widget of type <code>HBox</code>.</p>\n",
       "<p>\n",
       "  If you're reading this message in Jupyter Notebook or JupyterLab, it may mean\n",
       "  that the widgets JavaScript is still loading. If this message persists, it\n",
       "  likely means that the widgets JavaScript library is either not installed or\n",
       "  not enabled. See the <a href=\"https://ipywidgets.readthedocs.io/en/stable/user_install.html\">Jupyter\n",
       "  Widgets Documentation</a> for setup instructions.\n",
       "</p>\n",
       "<p>\n",
       "  If you're reading this message in another notebook frontend (for example, a static\n",
       "  rendering on GitHub or <a href=\"https://nbviewer.jupyter.org/\">NBViewer</a>),\n",
       "  it may mean that your frontend doesn't currently support widgets.\n",
       "</p>\n"
      ],
      "text/plain": [
       "HBox(children=(IntProgress(value=0, max=80), HTML(value='')))"
      ]
     },
     "metadata": {},
     "output_type": "display_data"
    },
    {
     "name": "stdout",
     "output_type": "stream",
     "text": [
      "\n",
      "After processing, the data occupies 0.38372265361249447 GB memory.\n"
     ]
    },
    {
     "name": "stderr",
     "output_type": "stream",
     "text": [
      "100%|██████████| 6/6 [07:04<00:00, 70.70s/it]\n"
     ]
    },
    {
     "name": "stdout",
     "output_type": "stream",
     "text": [
      "Original data occupies 2.0577136427164078 GB memory.\n"
     ]
    },
    {
     "data": {
      "application/vnd.jupyter.widget-view+json": {
       "model_id": "2aa59427d153487b8fce7512bfa8ad11",
       "version_major": 2,
       "version_minor": 0
      },
      "text/html": [
       "<p>Failed to display Jupyter Widget of type <code>HBox</code>.</p>\n",
       "<p>\n",
       "  If you're reading this message in Jupyter Notebook or JupyterLab, it may mean\n",
       "  that the widgets JavaScript is still loading. If this message persists, it\n",
       "  likely means that the widgets JavaScript library is either not installed or\n",
       "  not enabled. See the <a href=\"https://ipywidgets.readthedocs.io/en/stable/user_install.html\">Jupyter\n",
       "  Widgets Documentation</a> for setup instructions.\n",
       "</p>\n",
       "<p>\n",
       "  If you're reading this message in another notebook frontend (for example, a static\n",
       "  rendering on GitHub or <a href=\"https://nbviewer.jupyter.org/\">NBViewer</a>),\n",
       "  it may mean that your frontend doesn't currently support widgets.\n",
       "</p>\n"
      ],
      "text/plain": [
       "HBox(children=(IntProgress(value=0, max=80), HTML(value='')))"
      ]
     },
     "metadata": {},
     "output_type": "display_data"
    },
    {
     "name": "stdout",
     "output_type": "stream",
     "text": [
      "\n",
      "After processing, the data occupies 0.5779380910098553 GB memory.\n"
     ]
    },
    {
     "data": {
      "application/vnd.jupyter.widget-view+json": {
       "model_id": "18ff77ebd63f4ee891fd975c051aa54b",
       "version_major": 2,
       "version_minor": 0
      },
      "text/html": [
       "<p>Failed to display Jupyter Widget of type <code>HBox</code>.</p>\n",
       "<p>\n",
       "  If you're reading this message in Jupyter Notebook or JupyterLab, it may mean\n",
       "  that the widgets JavaScript is still loading. If this message persists, it\n",
       "  likely means that the widgets JavaScript library is either not installed or\n",
       "  not enabled. See the <a href=\"https://ipywidgets.readthedocs.io/en/stable/user_install.html\">Jupyter\n",
       "  Widgets Documentation</a> for setup instructions.\n",
       "</p>\n",
       "<p>\n",
       "  If you're reading this message in another notebook frontend (for example, a static\n",
       "  rendering on GitHub or <a href=\"https://nbviewer.jupyter.org/\">NBViewer</a>),\n",
       "  it may mean that your frontend doesn't currently support widgets.\n",
       "</p>\n"
      ],
      "text/plain": [
       "HBox(children=(IntProgress(value=0, max=10), HTML(value='')))"
      ]
     },
     "metadata": {},
     "output_type": "display_data"
    },
    {
     "name": "stdout",
     "output_type": "stream",
     "text": [
      "\n",
      "CPU times: user 29.6 s, sys: 47.4 s, total: 1min 17s\n",
      "Wall time: 11min 50s\n"
     ]
    }
   ],
   "source": [
    "%%time\n",
    "res = parmap(get_ucs_parallel,user_indexs, nprocs=10) \n",
    "ucs_fea_val = None\n",
    "for i in tqdm_notebook(range(len(res))):\n",
    "    if i == 0:\n",
    "        ucs_fea_val = res[0]\n",
    "    else:\n",
    "        ucs_fea_val = pd.concat([ucs_fea_val,res[i]], axis=0, ignore_index=True) "
   ]
  },
  {
   "cell_type": "markdown",
   "metadata": {},
   "source": [
    "## user + cate特征 \n",
    "\n",
    "- 该特征用来刻画用户对于某一类商店的消费特性\n",
    "\n",
    "所有的特征基本和上面的类似的,此处我们将主键改为user_id与cate的组合。\n"
   ]
  },
  {
   "cell_type": "code",
   "execution_count": 58,
   "metadata": {},
   "outputs": [],
   "source": [
    "def get_uc_parallel(userids):  \n",
    "    df                      = df_.loc[df_.user_id.isin(userids)].copy()  \n",
    "    df['user_cate']         = df['user_id'].astype(str)+'_' + df['cate'].astype(str)\n",
    "    \n",
    "    df_fea                  = df[['user_cate']].copy()\n",
    "    df_fea                  = df_fea.drop_duplicates(subset = ['user_cate'])\n",
    "    \n",
    "    # 1.宏观的特征: 不管是浏览还是其他操作，我们往下瞬移一个单位 #\n",
    "    df['action_time_diff']  = df.groupby('user_cate')['action_time'].shift().values\n",
    "    print('shift')\n",
    "    \n",
    "    df['action_time_diff']    = df['action_time'] - df['action_time_diff']\n",
    "    df['action_time_diff']    = df['action_time_diff'].dt.seconds // 60 \n",
    "    \n",
    "    df['action_time_to_now']  = st_time - df['action_time']\n",
    "    df['action_time_to_now']  = df['action_time_to_now'].dt.seconds // 60 \n",
    "     \n",
    "    # 最后一次操作距离当前的时间 #\n",
    "    dic_ = df.groupby('user_cate')['action_time_to_now'].min().to_dict()\n",
    "    df_fea['user_cate_action_time_to_now_last']  = df_fea['user_cate'].map(dic_).values\n",
    "     \n",
    "     \n",
    "    # 以当前位置为核心位置往前移动,过去三周每周的情况 #\n",
    "    for days in tqdm([1,3,7,14,21]): \n",
    "        tmp_ind = (df['action_time'] >= st_time + datetime.timedelta(days=-1 * days))  # &(df['action_time'] <= st_time \n",
    "        \n",
    "        # 相邻两次操作 #\n",
    "        df_tmp = df[tmp_ind].copy()  \n",
    "        \n",
    "        dic_ = df_tmp.groupby('user_cate')['day'].count().to_dict() \n",
    "        df_fea['user_cate_{}_day_cnt'.format(days)] = df_fea['user_cate'].map(dic_).values \n",
    "        dic_ = df_tmp.groupby('user_cate')['day'].nunique().to_dict()\n",
    "        df_fea['user_cate_{}_day_nunique_pct'.format(days)] = df_fea['user_cate'].map(dic_).values  * 1.0 / days\n",
    "        \n",
    "        dic_ = df_tmp.groupby('user_cate')['action_time_diff'].mean().to_dict()\n",
    "        df_fea['user_cate_{}_timediff_mean'.format(days)] = df_fea['user_cate'].map(dic_).values \n",
    "        dic_ = df_tmp.groupby('user_cate')['action_time_diff'].std().to_dict()\n",
    "        df_fea['user_cate_{}_timediff_std'.format(days)] = df_fea['user_cate'].map(dic_).values \n",
    "        dic_ = df_tmp.groupby('user_cate')['action_time_diff'].median().to_dict()\n",
    "        df_fea['user_cate_{}_timediff_median'.format(days)] = df_fea['user_cate'].map(dic_).values \n",
    "        dic_ = df_tmp.groupby('user_cate')['action_time_diff'].skew().to_dict()\n",
    "        df_fea['user_cate_{}_timediff_skew'.format(days)] = df_fea['user_cate'].map(dic_).values \n",
    "         \n",
    "        for type_ in [1,2,3,4]:\n",
    "            ind_type = df['type'] == type_\n",
    "            ind = tmp_ind & ind_type \n",
    "            df_tmp = df[ind].copy()  \n",
    "            ###### user_cate_shop_id 特征 ##########\n",
    "            dic_ = df_tmp.groupby('user_cate')['day'].count().to_dict() \n",
    "            df_fea['type_{}_user_cate_{}_day_cnt'.format(type_,days)] = df_fea['user_cate'].map(dic_).values \n",
    "             \n",
    "            \n",
    "            if days > 1 and type_ == 2: \n",
    "                # 本次下单距离上一次下单的时间差的统计特征 #\n",
    "                df_tmp['action_time_diff']  = df_tmp.groupby('user_cate')['action_time'].shift().values \n",
    "                df_tmp['action_time_diff']  = df_tmp['action_time'] - df_tmp['action_time_diff']\n",
    "                df_tmp['action_time_diff']  = df_tmp['action_time_diff'].dt.seconds // 60 \n",
    "                \n",
    "                dic_ = df_tmp.groupby('user_cate')['day'].nunique().to_dict()\n",
    "                df_fea['type_{}_user_cate_{}_day_nunique_pct'.format(type_,days)] = df_fea['user_cate'].map(dic_).values  * 1.0 / days\n",
    "\n",
    "                dic_ = df_tmp.groupby('user_cate')['action_time_diff'].mean().to_dict()\n",
    "                df_fea['type_{}_user_cate_{}_timediff_mean'.format(type_,days)] = df_fea['user_cate'].map(dic_).values\n",
    "\n",
    "                dic_ = df_tmp.groupby('user_cate')['action_time_diff'].std().to_dict()\n",
    "                df_fea['type_{}_user_cate_{}_timediff_std'.format(type_,days)] = df_fea['user_cate'].map(dic_).values\n",
    "\n",
    "                dic_ = df_tmp.groupby('user_cate')['action_time_diff'].median().to_dict()\n",
    "                df_fea['type_{}_user_cate_{}_timediff_median'.format(type_,days)] = df_fea['user_cate'].map(dic_).values\n",
    "                \n",
    "                dic_ = df_tmp.groupby('user_cate')['action_time_diff'].skew().to_dict()\n",
    "                df_fea['type_{}_user_cate_{}_timediff_skew'.format(type_,days)] = df_fea['user_cate'].map(dic_).values \n",
    "               \n",
    "                \n",
    "    df_fea = memory_preprocess._memory_process(df_fea)\n",
    "    return df_fea  "
   ]
  },
  {
   "cell_type": "markdown",
   "metadata": {},
   "source": [
    "\n",
    "### 训练集特征提取"
   ]
  },
  {
   "cell_type": "code",
   "execution_count": 64,
   "metadata": {
    "scrolled": true
   },
   "outputs": [
    {
     "name": "stdout",
     "output_type": "stream",
     "text": [
      "shift\n",
      "shift\n",
      "shift\n",
      "shift\n",
      "shift\n",
      "shift\n",
      "shift\n",
      "shift\n",
      "shift\n"
     ]
    },
    {
     "name": "stderr",
     "output_type": "stream",
     "text": [
      "\n",
      "  0%|          | 0/5 [00:00<?, ?it/s]\u001b[A"
     ]
    },
    {
     "name": "stdout",
     "output_type": "stream",
     "text": [
      "shift\n"
     ]
    },
    {
     "name": "stderr",
     "output_type": "stream",
     "text": [
      "\n",
      " 20%|██        | 1/5 [00:07<00:30,  7.54s/it]\u001b[A\n",
      "  0%|          | 0/5 [00:00<?, ?it/s]\u001b[A\n",
      "  0%|          | 0/5 [00:00<?, ?it/s]\u001b[A\n",
      " 20%|██        | 1/5 [00:03<00:12,  3.09s/it]\u001b[A\n",
      " 20%|██        | 1/5 [00:02<00:09,  2.50s/it]\u001b[A\n",
      "  0%|          | 0/5 [00:00<?, ?it/s]\u001b[A\n",
      " 20%|██        | 1/5 [00:02<00:11,  2.76s/it]\u001b[A\n",
      " 40%|████      | 2/5 [00:10<00:15,  5.15s/it]\u001b[A\n",
      " 40%|████      | 2/5 [00:07<00:11,  3.98s/it]\u001b[A\n",
      "  0%|          | 0/5 [00:00<?, ?it/s]\u001b[A\n",
      " 20%|██        | 1/5 [00:02<00:11,  2.93s/it]\u001b[A\n",
      " 40%|████      | 2/5 [00:08<00:12,  4.30s/it]\u001b[A\n",
      " 40%|████      | 2/5 [00:28<00:42, 14.18s/it]\u001b[A\n",
      " 60%|██████    | 3/5 [00:17<00:11,  5.76s/it]\u001b[A\n",
      " 40%|████      | 2/5 [00:09<00:13,  4.63s/it]\u001b[A\n",
      " 60%|██████    | 3/5 [00:25<00:16,  8.40s/it]\u001b[A\n",
      " 60%|██████    | 3/5 [00:18<00:12,  6.09s/it]\u001b[A\n",
      "  0%|          | 0/5 [00:00<?, ?it/s]\u001b[A\n",
      " 20%|██        | 1/5 [00:04<00:16,  4.15s/it]\u001b[A\n",
      " 60%|██████    | 3/5 [00:19<00:12,  6.37s/it]\u001b[A\n",
      "  0%|          | 0/5 [00:00<?, ?it/s]\u001b[A\n",
      " 40%|████      | 2/5 [00:12<00:18,  6.12s/it]\u001b[A\n",
      " 20%|██        | 1/5 [00:05<00:20,  5.06s/it]\u001b[A\n",
      " 80%|████████  | 4/5 [00:36<00:09,  9.16s/it]\u001b[A\n",
      " 80%|████████  | 4/5 [00:36<00:09,  9.04s/it]\u001b[A\n",
      "  0%|          | 0/5 [00:00<?, ?it/s]\u001b[A\n",
      " 40%|████      | 2/5 [00:14<00:21,  7.05s/it]\u001b[A\n",
      " 20%|██        | 1/5 [00:05<00:22,  5.70s/it]\u001b[A\n",
      " 80%|████████  | 4/5 [00:37<00:09,  9.46s/it]\u001b[A\n",
      " 60%|██████    | 3/5 [00:25<00:16,  8.35s/it]\u001b[A\n",
      " 60%|██████    | 3/5 [01:02<00:41, 20.70s/it]\u001b[A\n",
      " 40%|████      | 2/5 [00:16<00:24,  8.00s/it]\u001b[A\n",
      " 60%|██████    | 3/5 [00:28<00:19,  9.51s/it]\u001b[A\n",
      "100%|██████████| 5/5 [01:02<00:00, 12.57s/it]\u001b[A\n",
      "\u001b[A"
     ]
    },
    {
     "name": "stdout",
     "output_type": "stream",
     "text": [
      "Original data occupies 0.17221862822771072 GB memory.\n"
     ]
    },
    {
     "data": {
      "application/vnd.jupyter.widget-view+json": {
       "model_id": "a65ec58ee6c647e29e4a54652fcba5a4",
       "version_major": 2,
       "version_minor": 0
      },
      "text/html": [
       "<p>Failed to display Jupyter Widget of type <code>HBox</code>.</p>\n",
       "<p>\n",
       "  If you're reading this message in Jupyter Notebook or JupyterLab, it may mean\n",
       "  that the widgets JavaScript is still loading. If this message persists, it\n",
       "  likely means that the widgets JavaScript library is either not installed or\n",
       "  not enabled. See the <a href=\"https://ipywidgets.readthedocs.io/en/stable/user_install.html\">Jupyter\n",
       "  Widgets Documentation</a> for setup instructions.\n",
       "</p>\n",
       "<p>\n",
       "  If you're reading this message in another notebook frontend (for example, a static\n",
       "  rendering on GitHub or <a href=\"https://nbviewer.jupyter.org/\">NBViewer</a>),\n",
       "  it may mean that your frontend doesn't currently support widgets.\n",
       "</p>\n"
      ],
      "text/plain": [
       "HBox(children=(IntProgress(value=0, max=72), HTML(value='')))"
      ]
     },
     "metadata": {},
     "output_type": "display_data"
    },
    {
     "name": "stdout",
     "output_type": "stream",
     "text": [
      "\n",
      "After processing, the data occupies 0.04718318581581116 GB memory.\n"
     ]
    },
    {
     "name": "stderr",
     "output_type": "stream",
     "text": [
      "\n",
      "  0%|          | 0/5 [00:00<?, ?it/s]\u001b[A\n",
      " 60%|██████    | 3/5 [00:31<00:21, 10.58s/it]\u001b[A\n",
      " 80%|████████  | 4/5 [00:50<00:12, 12.54s/it]\u001b[A\n",
      "100%|██████████| 5/5 [01:05<00:00, 13.02s/it]\u001b[A\n",
      "\u001b[A"
     ]
    },
    {
     "name": "stdout",
     "output_type": "stream",
     "text": [
      "Original data occupies 0.19541672617197037 GB memory.\n"
     ]
    },
    {
     "data": {
      "application/vnd.jupyter.widget-view+json": {
       "model_id": "cceba3fc0558409abafd6dc7738db79d",
       "version_major": 2,
       "version_minor": 0
      },
      "text/html": [
       "<p>Failed to display Jupyter Widget of type <code>HBox</code>.</p>\n",
       "<p>\n",
       "  If you're reading this message in Jupyter Notebook or JupyterLab, it may mean\n",
       "  that the widgets JavaScript is still loading. If this message persists, it\n",
       "  likely means that the widgets JavaScript library is either not installed or\n",
       "  not enabled. See the <a href=\"https://ipywidgets.readthedocs.io/en/stable/user_install.html\">Jupyter\n",
       "  Widgets Documentation</a> for setup instructions.\n",
       "</p>\n",
       "<p>\n",
       "  If you're reading this message in another notebook frontend (for example, a static\n",
       "  rendering on GitHub or <a href=\"https://nbviewer.jupyter.org/\">NBViewer</a>),\n",
       "  it may mean that your frontend doesn't currently support widgets.\n",
       "</p>\n"
      ],
      "text/plain": [
       "HBox(children=(IntProgress(value=0, max=72), HTML(value='')))"
      ]
     },
     "metadata": {},
     "output_type": "display_data"
    },
    {
     "name": "stdout",
     "output_type": "stream",
     "text": [
      "\n",
      "After processing, the data occupies 0.05353882908821106 GB memory.\n"
     ]
    },
    {
     "name": "stderr",
     "output_type": "stream",
     "text": [
      "\n",
      " 20%|██        | 1/5 [00:06<00:25,  6.44s/it]\u001b[A\n",
      " 80%|████████  | 4/5 [01:20<00:20, 20.04s/it]\u001b[A\n",
      " 80%|████████  | 4/5 [01:36<00:24, 24.16s/it]\u001b[A\n",
      " 80%|████████  | 4/5 [00:55<00:13, 13.90s/it]\u001b[A\n",
      " 40%|████      | 2/5 [00:18<00:28,  9.37s/it]\u001b[A\n",
      "100%|██████████| 5/5 [01:31<00:00, 18.22s/it]\u001b[A\n",
      "\u001b[A"
     ]
    },
    {
     "name": "stdout",
     "output_type": "stream",
     "text": [
      "Original data occupies 0.15168941020965576 GB memory.\n"
     ]
    },
    {
     "data": {
      "application/vnd.jupyter.widget-view+json": {
       "model_id": "aceb29ea294444cbaebc2fda942c2512",
       "version_major": 2,
       "version_minor": 0
      },
      "text/html": [
       "<p>Failed to display Jupyter Widget of type <code>HBox</code>.</p>\n",
       "<p>\n",
       "  If you're reading this message in Jupyter Notebook or JupyterLab, it may mean\n",
       "  that the widgets JavaScript is still loading. If this message persists, it\n",
       "  likely means that the widgets JavaScript library is either not installed or\n",
       "  not enabled. See the <a href=\"https://ipywidgets.readthedocs.io/en/stable/user_install.html\">Jupyter\n",
       "  Widgets Documentation</a> for setup instructions.\n",
       "</p>\n",
       "<p>\n",
       "  If you're reading this message in another notebook frontend (for example, a static\n",
       "  rendering on GitHub or <a href=\"https://nbviewer.jupyter.org/\">NBViewer</a>),\n",
       "  it may mean that your frontend doesn't currently support widgets.\n",
       "</p>\n"
      ],
      "text/plain": [
       "HBox(children=(IntProgress(value=0, max=72), HTML(value='')))"
      ]
     },
     "metadata": {},
     "output_type": "display_data"
    },
    {
     "name": "stdout",
     "output_type": "stream",
     "text": [
      "\n",
      "After processing, the data occupies 0.04155874252319336 GB memory.\n"
     ]
    },
    {
     "name": "stderr",
     "output_type": "stream",
     "text": [
      "\n",
      " 80%|████████  | 4/5 [00:58<00:14, 14.68s/it]\u001b[A\n",
      " 60%|██████    | 3/5 [00:36<00:24, 12.25s/it]\u001b[A\n",
      "100%|██████████| 5/5 [01:24<00:00, 16.84s/it]\u001b[A\n",
      "\u001b[A"
     ]
    },
    {
     "name": "stdout",
     "output_type": "stream",
     "text": [
      "Original data occupies 0.24937520176172256 GB memory.\n"
     ]
    },
    {
     "data": {
      "application/vnd.jupyter.widget-view+json": {
       "model_id": "0a8337900eb84bff8355d138d02e87df",
       "version_major": 2,
       "version_minor": 0
      },
      "text/html": [
       "<p>Failed to display Jupyter Widget of type <code>HBox</code>.</p>\n",
       "<p>\n",
       "  If you're reading this message in Jupyter Notebook or JupyterLab, it may mean\n",
       "  that the widgets JavaScript is still loading. If this message persists, it\n",
       "  likely means that the widgets JavaScript library is either not installed or\n",
       "  not enabled. See the <a href=\"https://ipywidgets.readthedocs.io/en/stable/user_install.html\">Jupyter\n",
       "  Widgets Documentation</a> for setup instructions.\n",
       "</p>\n",
       "<p>\n",
       "  If you're reading this message in another notebook frontend (for example, a static\n",
       "  rendering on GitHub or <a href=\"https://nbviewer.jupyter.org/\">NBViewer</a>),\n",
       "  it may mean that your frontend doesn't currently support widgets.\n",
       "</p>\n"
      ],
      "text/plain": [
       "HBox(children=(IntProgress(value=0, max=72), HTML(value='')))"
      ]
     },
     "metadata": {},
     "output_type": "display_data"
    },
    {
     "name": "stdout",
     "output_type": "stream",
     "text": [
      "\n",
      "After processing, the data occupies 0.06832197308540344 GB memory.\n"
     ]
    },
    {
     "name": "stderr",
     "output_type": "stream",
     "text": [
      "\n",
      "100%|██████████| 5/5 [02:10<00:00, 26.15s/it]\u001b[A\n",
      "\u001b[A"
     ]
    },
    {
     "name": "stdout",
     "output_type": "stream",
     "text": [
      "Original data occupies 0.06972591578960419 GB memory.\n"
     ]
    },
    {
     "data": {
      "application/vnd.jupyter.widget-view+json": {
       "model_id": "2dfbc4f820e34c8ab6e8ebe2d593c718",
       "version_major": 2,
       "version_minor": 0
      },
      "text/html": [
       "<p>Failed to display Jupyter Widget of type <code>HBox</code>.</p>\n",
       "<p>\n",
       "  If you're reading this message in Jupyter Notebook or JupyterLab, it may mean\n",
       "  that the widgets JavaScript is still loading. If this message persists, it\n",
       "  likely means that the widgets JavaScript library is either not installed or\n",
       "  not enabled. See the <a href=\"https://ipywidgets.readthedocs.io/en/stable/user_install.html\">Jupyter\n",
       "  Widgets Documentation</a> for setup instructions.\n",
       "</p>\n",
       "<p>\n",
       "  If you're reading this message in another notebook frontend (for example, a static\n",
       "  rendering on GitHub or <a href=\"https://nbviewer.jupyter.org/\">NBViewer</a>),\n",
       "  it may mean that your frontend doesn't currently support widgets.\n",
       "</p>\n"
      ],
      "text/plain": [
       "HBox(children=(IntProgress(value=0, max=72), HTML(value='')))"
      ]
     },
     "metadata": {},
     "output_type": "display_data"
    },
    {
     "name": "stdout",
     "output_type": "stream",
     "text": [
      "\n",
      "After processing, the data occupies 0.01981935277581215 GB memory.\n"
     ]
    },
    {
     "name": "stderr",
     "output_type": "stream",
     "text": [
      "\n",
      "100%|██████████| 5/5 [01:33<00:00, 18.63s/it]\u001b[A\n",
      "\u001b[A"
     ]
    },
    {
     "name": "stdout",
     "output_type": "stream",
     "text": [
      "Original data occupies 0.27509696036577225 GB memory.\n"
     ]
    },
    {
     "data": {
      "application/vnd.jupyter.widget-view+json": {
       "model_id": "14f30686de1245b3951c7411a759d9d2",
       "version_major": 2,
       "version_minor": 0
      },
      "text/html": [
       "<p>Failed to display Jupyter Widget of type <code>HBox</code>.</p>\n",
       "<p>\n",
       "  If you're reading this message in Jupyter Notebook or JupyterLab, it may mean\n",
       "  that the widgets JavaScript is still loading. If this message persists, it\n",
       "  likely means that the widgets JavaScript library is either not installed or\n",
       "  not enabled. See the <a href=\"https://ipywidgets.readthedocs.io/en/stable/user_install.html\">Jupyter\n",
       "  Widgets Documentation</a> for setup instructions.\n",
       "</p>\n",
       "<p>\n",
       "  If you're reading this message in another notebook frontend (for example, a static\n",
       "  rendering on GitHub or <a href=\"https://nbviewer.jupyter.org/\">NBViewer</a>),\n",
       "  it may mean that your frontend doesn't currently support widgets.\n",
       "</p>\n"
      ],
      "text/plain": [
       "HBox(children=(IntProgress(value=0, max=72), HTML(value='')))"
      ]
     },
     "metadata": {},
     "output_type": "display_data"
    },
    {
     "name": "stdout",
     "output_type": "stream",
     "text": [
      "\n",
      "After processing, the data occupies 0.07536903023719788 GB memory.\n"
     ]
    },
    {
     "name": "stderr",
     "output_type": "stream",
     "text": [
      "\n",
      "  0%|          | 0/5 [00:00<?, ?it/s]\u001b[A\n",
      " 20%|██        | 1/5 [00:09<00:39,  9.77s/it]\u001b[A\n",
      "100%|██████████| 5/5 [01:36<00:00, 19.24s/it]\u001b[A\n",
      "\u001b[A"
     ]
    },
    {
     "name": "stdout",
     "output_type": "stream",
     "text": [
      "Original data occupies 0.29797035455703735 GB memory.\n"
     ]
    },
    {
     "data": {
      "application/vnd.jupyter.widget-view+json": {
       "model_id": "126f3c0ec1cd411e80e79b8b1658abc2",
       "version_major": 2,
       "version_minor": 0
      },
      "text/html": [
       "<p>Failed to display Jupyter Widget of type <code>HBox</code>.</p>\n",
       "<p>\n",
       "  If you're reading this message in Jupyter Notebook or JupyterLab, it may mean\n",
       "  that the widgets JavaScript is still loading. If this message persists, it\n",
       "  likely means that the widgets JavaScript library is either not installed or\n",
       "  not enabled. See the <a href=\"https://ipywidgets.readthedocs.io/en/stable/user_install.html\">Jupyter\n",
       "  Widgets Documentation</a> for setup instructions.\n",
       "</p>\n",
       "<p>\n",
       "  If you're reading this message in another notebook frontend (for example, a static\n",
       "  rendering on GitHub or <a href=\"https://nbviewer.jupyter.org/\">NBViewer</a>),\n",
       "  it may mean that your frontend doesn't currently support widgets.\n",
       "</p>\n"
      ],
      "text/plain": [
       "HBox(children=(IntProgress(value=0, max=72), HTML(value='')))"
      ]
     },
     "metadata": {},
     "output_type": "display_data"
    },
    {
     "name": "stderr",
     "output_type": "stream",
     "text": [
      "\n",
      " 80%|████████  | 4/5 [01:08<00:17, 17.03s/it]\u001b[A"
     ]
    },
    {
     "name": "stdout",
     "output_type": "stream",
     "text": [
      "\n",
      "After processing, the data occupies 0.08163571357727051 GB memory.\n"
     ]
    },
    {
     "name": "stderr",
     "output_type": "stream",
     "text": [
      "\n",
      "100%|██████████| 5/5 [02:22<00:00, 28.46s/it]\u001b[A\n",
      "\u001b[A"
     ]
    },
    {
     "name": "stdout",
     "output_type": "stream",
     "text": [
      "Original data occupies 0.13017411530017853 GB memory.\n"
     ]
    },
    {
     "data": {
      "application/vnd.jupyter.widget-view+json": {
       "model_id": "f1ae00cf20c748f08fc84f68bd25d1a6",
       "version_major": 2,
       "version_minor": 0
      },
      "text/html": [
       "<p>Failed to display Jupyter Widget of type <code>HBox</code>.</p>\n",
       "<p>\n",
       "  If you're reading this message in Jupyter Notebook or JupyterLab, it may mean\n",
       "  that the widgets JavaScript is still loading. If this message persists, it\n",
       "  likely means that the widgets JavaScript library is either not installed or\n",
       "  not enabled. See the <a href=\"https://ipywidgets.readthedocs.io/en/stable/user_install.html\">Jupyter\n",
       "  Widgets Documentation</a> for setup instructions.\n",
       "</p>\n",
       "<p>\n",
       "  If you're reading this message in another notebook frontend (for example, a static\n",
       "  rendering on GitHub or <a href=\"https://nbviewer.jupyter.org/\">NBViewer</a>),\n",
       "  it may mean that your frontend doesn't currently support widgets.\n",
       "</p>\n"
      ],
      "text/plain": [
       "HBox(children=(IntProgress(value=0, max=72), HTML(value='')))"
      ]
     },
     "metadata": {},
     "output_type": "display_data"
    },
    {
     "name": "stdout",
     "output_type": "stream",
     "text": [
      "\n",
      "After processing, the data occupies 0.03610994294285774 GB memory.\n"
     ]
    },
    {
     "name": "stderr",
     "output_type": "stream",
     "text": [
      "\n",
      " 40%|████      | 2/5 [00:25<00:38, 12.77s/it]\u001b[A\n",
      " 60%|██████    | 3/5 [00:48<00:32, 16.17s/it]\u001b[A\n",
      "100%|██████████| 5/5 [01:53<00:00, 22.75s/it]\u001b[A\n",
      "\u001b[A"
     ]
    },
    {
     "name": "stdout",
     "output_type": "stream",
     "text": [
      "Original data occupies 0.34581004083156586 GB memory.\n"
     ]
    },
    {
     "data": {
      "application/vnd.jupyter.widget-view+json": {
       "model_id": "9cc01763420649eba752058171e0545b",
       "version_major": 2,
       "version_minor": 0
      },
      "text/html": [
       "<p>Failed to display Jupyter Widget of type <code>HBox</code>.</p>\n",
       "<p>\n",
       "  If you're reading this message in Jupyter Notebook or JupyterLab, it may mean\n",
       "  that the widgets JavaScript is still loading. If this message persists, it\n",
       "  likely means that the widgets JavaScript library is either not installed or\n",
       "  not enabled. See the <a href=\"https://ipywidgets.readthedocs.io/en/stable/user_install.html\">Jupyter\n",
       "  Widgets Documentation</a> for setup instructions.\n",
       "</p>\n",
       "<p>\n",
       "  If you're reading this message in another notebook frontend (for example, a static\n",
       "  rendering on GitHub or <a href=\"https://nbviewer.jupyter.org/\">NBViewer</a>),\n",
       "  it may mean that your frontend doesn't currently support widgets.\n",
       "</p>\n"
      ],
      "text/plain": [
       "HBox(children=(IntProgress(value=0, max=72), HTML(value='')))"
      ]
     },
     "metadata": {},
     "output_type": "display_data"
    },
    {
     "name": "stdout",
     "output_type": "stream",
     "text": [
      "\n",
      "After processing, the data occupies 0.09474247694015503 GB memory.\n"
     ]
    },
    {
     "name": "stderr",
     "output_type": "stream",
     "text": [
      "\n",
      " 80%|████████  | 4/5 [01:29<00:22, 22.49s/it]\u001b[A\n",
      "100%|██████████| 5/5 [02:30<00:00, 30.04s/it]\u001b[A\n",
      "\u001b[A"
     ]
    },
    {
     "name": "stdout",
     "output_type": "stream",
     "text": [
      "Original data occupies 0.4268304258584976 GB memory.\n"
     ]
    },
    {
     "data": {
      "application/vnd.jupyter.widget-view+json": {
       "model_id": "ffc7611fd6a04264b50c3f47f2bb8a62",
       "version_major": 2,
       "version_minor": 0
      },
      "text/html": [
       "<p>Failed to display Jupyter Widget of type <code>HBox</code>.</p>\n",
       "<p>\n",
       "  If you're reading this message in Jupyter Notebook or JupyterLab, it may mean\n",
       "  that the widgets JavaScript is still loading. If this message persists, it\n",
       "  likely means that the widgets JavaScript library is either not installed or\n",
       "  not enabled. See the <a href=\"https://ipywidgets.readthedocs.io/en/stable/user_install.html\">Jupyter\n",
       "  Widgets Documentation</a> for setup instructions.\n",
       "</p>\n",
       "<p>\n",
       "  If you're reading this message in another notebook frontend (for example, a static\n",
       "  rendering on GitHub or <a href=\"https://nbviewer.jupyter.org/\">NBViewer</a>),\n",
       "  it may mean that your frontend doesn't currently support widgets.\n",
       "</p>\n"
      ],
      "text/plain": [
       "HBox(children=(IntProgress(value=0, max=72), HTML(value='')))"
      ]
     },
     "metadata": {},
     "output_type": "display_data"
    },
    {
     "name": "stdout",
     "output_type": "stream",
     "text": [
      "\n",
      "After processing, the data occupies 0.11693984270095825 GB memory.\n"
     ]
    },
    {
     "data": {
      "application/vnd.jupyter.widget-view+json": {
       "model_id": "1fd82b0d05714e379a23dae6716b1a2b",
       "version_major": 2,
       "version_minor": 0
      },
      "text/html": [
       "<p>Failed to display Jupyter Widget of type <code>HBox</code>.</p>\n",
       "<p>\n",
       "  If you're reading this message in Jupyter Notebook or JupyterLab, it may mean\n",
       "  that the widgets JavaScript is still loading. If this message persists, it\n",
       "  likely means that the widgets JavaScript library is either not installed or\n",
       "  not enabled. See the <a href=\"https://ipywidgets.readthedocs.io/en/stable/user_install.html\">Jupyter\n",
       "  Widgets Documentation</a> for setup instructions.\n",
       "</p>\n",
       "<p>\n",
       "  If you're reading this message in another notebook frontend (for example, a static\n",
       "  rendering on GitHub or <a href=\"https://nbviewer.jupyter.org/\">NBViewer</a>),\n",
       "  it may mean that your frontend doesn't currently support widgets.\n",
       "</p>\n"
      ],
      "text/plain": [
       "HBox(children=(IntProgress(value=0, max=10), HTML(value='')))"
      ]
     },
     "metadata": {},
     "output_type": "display_data"
    },
    {
     "name": "stdout",
     "output_type": "stream",
     "text": [
      "\n",
      "CPU times: user 5.12 s, sys: 13.9 s, total: 19 s\n",
      "Wall time: 5min 33s\n"
     ]
    }
   ],
   "source": [
    "%%time\n",
    "df_ = data_train_fea1.copy()\n",
    "st_time = datetime.datetime(2018, 4, 1)\n",
    "\n",
    "users = df_['user_id'].unique() \n",
    "len_ = len(users)\n",
    "cut_len = 150000\n",
    "user_indexs = [users[i:i+cut_len] for i in range(0,len_,cut_len)] \n",
    "res = parmap(get_uc_parallel,user_indexs, nprocs=10)  \n",
    "\n",
    "uc_fea_train = None\n",
    "for i in tqdm_notebook(range(len(res))):\n",
    "    if i == 0:\n",
    "        uc_fea_train = res[0]\n",
    "    else:\n",
    "        uc_fea_train = pd.concat([uc_fea_train, res[i]], axis=0, ignore_index=True)"
   ]
  },
  {
   "cell_type": "markdown",
   "metadata": {},
   "source": [
    "\n",
    "### 验证集特征提取"
   ]
  },
  {
   "cell_type": "code",
   "execution_count": 65,
   "metadata": {
    "scrolled": true
   },
   "outputs": [
    {
     "name": "stdout",
     "output_type": "stream",
     "text": [
      "1530159\n",
      "shift\n",
      "shift\n",
      "shift\n",
      "shift\n",
      "shift\n",
      "shift\n",
      "shift\n",
      "shift\n",
      "shift\n",
      "shift\n"
     ]
    },
    {
     "name": "stderr",
     "output_type": "stream",
     "text": [
      "\n",
      "  0%|          | 0/5 [00:00<?, ?it/s]\u001b[A\n",
      "  0%|          | 0/5 [00:00<?, ?it/s]\u001b[A\n",
      " 20%|██        | 1/5 [00:02<00:10,  2.54s/it]\u001b[A\n",
      "  0%|          | 0/5 [00:00<?, ?it/s]\u001b[A\n",
      " 40%|████      | 2/5 [00:07<00:11,  3.96s/it]\u001b[A\n",
      " 20%|██        | 1/5 [00:08<00:32,  8.15s/it]\u001b[A\n",
      " 20%|██        | 1/5 [00:02<00:10,  2.62s/it]\u001b[A\n",
      "  0%|          | 0/5 [00:00<?, ?it/s]\u001b[A\n",
      " 20%|██        | 1/5 [00:02<00:11,  2.76s/it]\u001b[A\n",
      " 40%|████      | 2/5 [00:08<00:12,  4.14s/it]\u001b[A\n",
      " 60%|██████    | 3/5 [00:17<00:11,  5.89s/it]\u001b[A\n",
      " 40%|████      | 2/5 [00:08<00:13,  4.44s/it]\u001b[A\n",
      "  0%|          | 0/5 [00:00<?, ?it/s]\u001b[A\n",
      " 20%|██        | 1/5 [00:03<00:12,  3.13s/it]\u001b[A\n",
      " 60%|██████    | 3/5 [00:17<00:11,  5.90s/it]\u001b[A\n",
      " 60%|██████    | 3/5 [00:18<00:12,  6.25s/it]\u001b[A\n",
      " 40%|████      | 2/5 [00:30<00:45, 15.11s/it]\u001b[A\n",
      " 40%|████      | 2/5 [00:09<00:14,  4.82s/it]\u001b[A\n",
      "  0%|          | 0/5 [00:00<?, ?it/s]\u001b[A\n",
      " 20%|██        | 1/5 [00:04<00:18,  4.67s/it]\u001b[A\n",
      " 60%|██████    | 3/5 [00:19<00:13,  6.63s/it]\u001b[A\n",
      " 80%|████████  | 4/5 [00:34<00:08,  8.63s/it]\u001b[A\n",
      "  0%|          | 0/5 [00:00<?, ?it/s]\u001b[A\n",
      " 80%|████████  | 4/5 [00:35<00:08,  8.79s/it]\u001b[A\n",
      " 40%|████      | 2/5 [00:13<00:20,  6.98s/it]\u001b[A\n",
      " 20%|██        | 1/5 [00:04<00:19,  4.90s/it]\u001b[A\n",
      " 80%|████████  | 4/5 [00:48<00:12, 12.20s/it]\u001b[A\n",
      "  0%|          | 0/5 [00:00<?, ?it/s]\u001b[A\n",
      " 20%|██        | 1/5 [00:05<00:20,  5.13s/it]\u001b[A\n",
      " 80%|████████  | 4/5 [00:36<00:09,  9.19s/it]\u001b[A\n",
      " 40%|████      | 2/5 [00:15<00:22,  7.55s/it]\u001b[A\n",
      " 60%|██████    | 3/5 [00:27<00:18,  9.33s/it]\u001b[A\n",
      " 40%|████      | 2/5 [00:15<00:22,  7.58s/it]\u001b[A\n",
      "100%|██████████| 5/5 [01:02<00:00, 12.55s/it]\u001b[A\n",
      "\u001b[A"
     ]
    },
    {
     "name": "stdout",
     "output_type": "stream",
     "text": [
      "Original data occupies 0.162455216050148 GB memory.\n"
     ]
    },
    {
     "data": {
      "application/vnd.jupyter.widget-view+json": {
       "model_id": "b31374f00ad74f8cafa1de6acd5998cd",
       "version_major": 2,
       "version_minor": 0
      },
      "text/html": [
       "<p>Failed to display Jupyter Widget of type <code>HBox</code>.</p>\n",
       "<p>\n",
       "  If you're reading this message in Jupyter Notebook or JupyterLab, it may mean\n",
       "  that the widgets JavaScript is still loading. If this message persists, it\n",
       "  likely means that the widgets JavaScript library is either not installed or\n",
       "  not enabled. See the <a href=\"https://ipywidgets.readthedocs.io/en/stable/user_install.html\">Jupyter\n",
       "  Widgets Documentation</a> for setup instructions.\n",
       "</p>\n",
       "<p>\n",
       "  If you're reading this message in another notebook frontend (for example, a static\n",
       "  rendering on GitHub or <a href=\"https://nbviewer.jupyter.org/\">NBViewer</a>),\n",
       "  it may mean that your frontend doesn't currently support widgets.\n",
       "</p>\n"
      ],
      "text/plain": [
       "HBox(children=(IntProgress(value=0, max=72), HTML(value='')))"
      ]
     },
     "metadata": {},
     "output_type": "display_data"
    },
    {
     "name": "stdout",
     "output_type": "stream",
     "text": [
      "\n",
      "After processing, the data occupies 0.044508278369903564 GB memory.\n"
     ]
    },
    {
     "name": "stderr",
     "output_type": "stream",
     "text": [
      "\n",
      "100%|██████████| 5/5 [01:00<00:00, 12.02s/it]\u001b[A\n",
      "\u001b[A"
     ]
    },
    {
     "name": "stdout",
     "output_type": "stream",
     "text": [
      "Original data occupies 0.18468409776687622 GB memory.\n"
     ]
    },
    {
     "data": {
      "application/vnd.jupyter.widget-view+json": {
       "model_id": "160a1803a3034353887dd62d27a760ab",
       "version_major": 2,
       "version_minor": 0
      },
      "text/html": [
       "<p>Failed to display Jupyter Widget of type <code>HBox</code>.</p>\n",
       "<p>\n",
       "  If you're reading this message in Jupyter Notebook or JupyterLab, it may mean\n",
       "  that the widgets JavaScript is still loading. If this message persists, it\n",
       "  likely means that the widgets JavaScript library is either not installed or\n",
       "  not enabled. See the <a href=\"https://ipywidgets.readthedocs.io/en/stable/user_install.html\">Jupyter\n",
       "  Widgets Documentation</a> for setup instructions.\n",
       "</p>\n",
       "<p>\n",
       "  If you're reading this message in another notebook frontend (for example, a static\n",
       "  rendering on GitHub or <a href=\"https://nbviewer.jupyter.org/\">NBViewer</a>),\n",
       "  it may mean that your frontend doesn't currently support widgets.\n",
       "</p>\n"
      ],
      "text/plain": [
       "HBox(children=(IntProgress(value=0, max=72), HTML(value='')))"
      ]
     },
     "metadata": {},
     "output_type": "display_data"
    },
    {
     "name": "stderr",
     "output_type": "stream",
     "text": [
      "\n",
      " 60%|██████    | 3/5 [01:10<00:47, 23.54s/it]\u001b[A"
     ]
    },
    {
     "name": "stdout",
     "output_type": "stream",
     "text": [
      "\n",
      "After processing, the data occupies 0.0505983829498291 GB memory.\n"
     ]
    },
    {
     "name": "stderr",
     "output_type": "stream",
     "text": [
      "\n",
      " 60%|██████    | 3/5 [00:31<00:20, 10.34s/it]\u001b[A\n",
      "  0%|          | 0/5 [00:00<?, ?it/s]\u001b[A\n",
      "100%|██████████| 5/5 [01:01<00:00, 12.24s/it]\u001b[A\n",
      "\u001b[A"
     ]
    },
    {
     "name": "stdout",
     "output_type": "stream",
     "text": [
      "Original data occupies 0.20828576385974884 GB memory.\n"
     ]
    },
    {
     "data": {
      "application/vnd.jupyter.widget-view+json": {
       "model_id": "690a2c2a846a414f817b34eb201efd90",
       "version_major": 2,
       "version_minor": 0
      },
      "text/html": [
       "<p>Failed to display Jupyter Widget of type <code>HBox</code>.</p>\n",
       "<p>\n",
       "  If you're reading this message in Jupyter Notebook or JupyterLab, it may mean\n",
       "  that the widgets JavaScript is still loading. If this message persists, it\n",
       "  likely means that the widgets JavaScript library is either not installed or\n",
       "  not enabled. See the <a href=\"https://ipywidgets.readthedocs.io/en/stable/user_install.html\">Jupyter\n",
       "  Widgets Documentation</a> for setup instructions.\n",
       "</p>\n",
       "<p>\n",
       "  If you're reading this message in another notebook frontend (for example, a static\n",
       "  rendering on GitHub or <a href=\"https://nbviewer.jupyter.org/\">NBViewer</a>),\n",
       "  it may mean that your frontend doesn't currently support widgets.\n",
       "</p>\n"
      ],
      "text/plain": [
       "HBox(children=(IntProgress(value=0, max=72), HTML(value='')))"
      ]
     },
     "metadata": {},
     "output_type": "display_data"
    },
    {
     "name": "stdout",
     "output_type": "stream",
     "text": [
      "\n",
      "After processing, the data occupies 0.057064592838287354 GB memory.\n"
     ]
    },
    {
     "name": "stderr",
     "output_type": "stream",
     "text": [
      "\n",
      " 60%|██████    | 3/5 [00:31<00:21, 10.54s/it]\u001b[A\n",
      " 80%|████████  | 4/5 [00:50<00:12, 12.71s/it]\u001b[A\n",
      " 20%|██        | 1/5 [00:06<00:26,  6.69s/it]\u001b[A\n",
      " 40%|████      | 2/5 [00:19<00:28,  9.56s/it]\u001b[A\n",
      " 80%|████████  | 4/5 [00:55<00:13, 13.95s/it]\u001b[A\n",
      " 80%|████████  | 4/5 [00:58<00:14, 14.52s/it]\u001b[A\n",
      "100%|██████████| 5/5 [01:51<00:00, 22.29s/it]\u001b[A\n",
      "\u001b[A"
     ]
    },
    {
     "name": "stdout",
     "output_type": "stream",
     "text": [
      "Original data occupies 0.13740244507789612 GB memory.\n"
     ]
    },
    {
     "data": {
      "application/vnd.jupyter.widget-view+json": {
       "model_id": "3812194546a8410fa2f648c4b6777b12",
       "version_major": 2,
       "version_minor": 0
      },
      "text/html": [
       "<p>Failed to display Jupyter Widget of type <code>HBox</code>.</p>\n",
       "<p>\n",
       "  If you're reading this message in Jupyter Notebook or JupyterLab, it may mean\n",
       "  that the widgets JavaScript is still loading. If this message persists, it\n",
       "  likely means that the widgets JavaScript library is either not installed or\n",
       "  not enabled. See the <a href=\"https://ipywidgets.readthedocs.io/en/stable/user_install.html\">Jupyter\n",
       "  Widgets Documentation</a> for setup instructions.\n",
       "</p>\n",
       "<p>\n",
       "  If you're reading this message in another notebook frontend (for example, a static\n",
       "  rendering on GitHub or <a href=\"https://nbviewer.jupyter.org/\">NBViewer</a>),\n",
       "  it may mean that your frontend doesn't currently support widgets.\n",
       "</p>\n"
      ],
      "text/plain": [
       "HBox(children=(IntProgress(value=0, max=72), HTML(value='')))"
      ]
     },
     "metadata": {},
     "output_type": "display_data"
    },
    {
     "name": "stdout",
     "output_type": "stream",
     "text": [
      "\n",
      "After processing, the data occupies 0.03764450550079346 GB memory.\n"
     ]
    },
    {
     "name": "stderr",
     "output_type": "stream",
     "text": [
      "\n",
      "100%|██████████| 5/5 [01:22<00:00, 16.56s/it]\u001b[A\n",
      "\u001b[A"
     ]
    },
    {
     "name": "stdout",
     "output_type": "stream",
     "text": [
      "Original data occupies 0.2655337005853653 GB memory.\n"
     ]
    },
    {
     "data": {
      "application/vnd.jupyter.widget-view+json": {
       "model_id": "7db783dabb5241e8afd5971fa86ab028",
       "version_major": 2,
       "version_minor": 0
      },
      "text/html": [
       "<p>Failed to display Jupyter Widget of type <code>HBox</code>.</p>\n",
       "<p>\n",
       "  If you're reading this message in Jupyter Notebook or JupyterLab, it may mean\n",
       "  that the widgets JavaScript is still loading. If this message persists, it\n",
       "  likely means that the widgets JavaScript library is either not installed or\n",
       "  not enabled. See the <a href=\"https://ipywidgets.readthedocs.io/en/stable/user_install.html\">Jupyter\n",
       "  Widgets Documentation</a> for setup instructions.\n",
       "</p>\n",
       "<p>\n",
       "  If you're reading this message in another notebook frontend (for example, a static\n",
       "  rendering on GitHub or <a href=\"https://nbviewer.jupyter.org/\">NBViewer</a>),\n",
       "  it may mean that your frontend doesn't currently support widgets.\n",
       "</p>\n"
      ],
      "text/plain": [
       "HBox(children=(IntProgress(value=0, max=72), HTML(value='')))"
      ]
     },
     "metadata": {},
     "output_type": "display_data"
    },
    {
     "name": "stdout",
     "output_type": "stream",
     "text": [
      "\n",
      "After processing, the data occupies 0.07274895906448364 GB memory.\n"
     ]
    },
    {
     "name": "stderr",
     "output_type": "stream",
     "text": [
      "\n",
      " 60%|██████    | 3/5 [00:40<00:27, 13.52s/it]\u001b[A\n",
      " 80%|████████  | 4/5 [02:06<00:31, 31.56s/it]\u001b[A\n",
      "100%|██████████| 5/5 [01:31<00:00, 18.21s/it]\u001b[A\n",
      "\u001b[A"
     ]
    },
    {
     "name": "stdout",
     "output_type": "stream",
     "text": [
      "Original data occupies 0.29759887605905533 GB memory.\n"
     ]
    },
    {
     "data": {
      "application/vnd.jupyter.widget-view+json": {
       "model_id": "b7b458eb851346cb809694e73fe6c73f",
       "version_major": 2,
       "version_minor": 0
      },
      "text/html": [
       "<p>Failed to display Jupyter Widget of type <code>HBox</code>.</p>\n",
       "<p>\n",
       "  If you're reading this message in Jupyter Notebook or JupyterLab, it may mean\n",
       "  that the widgets JavaScript is still loading. If this message persists, it\n",
       "  likely means that the widgets JavaScript library is either not installed or\n",
       "  not enabled. See the <a href=\"https://ipywidgets.readthedocs.io/en/stable/user_install.html\">Jupyter\n",
       "  Widgets Documentation</a> for setup instructions.\n",
       "</p>\n",
       "<p>\n",
       "  If you're reading this message in another notebook frontend (for example, a static\n",
       "  rendering on GitHub or <a href=\"https://nbviewer.jupyter.org/\">NBViewer</a>),\n",
       "  it may mean that your frontend doesn't currently support widgets.\n",
       "</p>\n"
      ],
      "text/plain": [
       "HBox(children=(IntProgress(value=0, max=72), HTML(value='')))"
      ]
     },
     "metadata": {},
     "output_type": "display_data"
    },
    {
     "name": "stdout",
     "output_type": "stream",
     "text": [
      "\n",
      "After processing, the data occupies 0.08153393864631653 GB memory.\n"
     ]
    },
    {
     "name": "stderr",
     "output_type": "stream",
     "text": [
      "\n",
      "100%|██████████| 5/5 [01:34<00:00, 18.91s/it]\u001b[A\n",
      "\u001b[A"
     ]
    },
    {
     "name": "stdout",
     "output_type": "stream",
     "text": [
      "Original data occupies 0.3224922865629196 GB memory.\n"
     ]
    },
    {
     "data": {
      "application/vnd.jupyter.widget-view+json": {
       "model_id": "9ceca397fd0749bda81d7a2e46d8f6f5",
       "version_major": 2,
       "version_minor": 0
      },
      "text/html": [
       "<p>Failed to display Jupyter Widget of type <code>HBox</code>.</p>\n",
       "<p>\n",
       "  If you're reading this message in Jupyter Notebook or JupyterLab, it may mean\n",
       "  that the widgets JavaScript is still loading. If this message persists, it\n",
       "  likely means that the widgets JavaScript library is either not installed or\n",
       "  not enabled. See the <a href=\"https://ipywidgets.readthedocs.io/en/stable/user_install.html\">Jupyter\n",
       "  Widgets Documentation</a> for setup instructions.\n",
       "</p>\n",
       "<p>\n",
       "  If you're reading this message in another notebook frontend (for example, a static\n",
       "  rendering on GitHub or <a href=\"https://nbviewer.jupyter.org/\">NBViewer</a>),\n",
       "  it may mean that your frontend doesn't currently support widgets.\n",
       "</p>\n"
      ],
      "text/plain": [
       "HBox(children=(IntProgress(value=0, max=72), HTML(value='')))"
      ]
     },
     "metadata": {},
     "output_type": "display_data"
    },
    {
     "name": "stdout",
     "output_type": "stream",
     "text": [
      "\n",
      "After processing, the data occupies 0.08835405111312866 GB memory.\n"
     ]
    },
    {
     "name": "stderr",
     "output_type": "stream",
     "text": [
      "\n",
      " 80%|████████  | 4/5 [01:11<00:17, 17.89s/it]\u001b[A\n",
      "  0%|          | 0/5 [00:00<?, ?it/s]\u001b[A\n",
      " 20%|██        | 1/5 [00:09<00:38,  9.58s/it]\u001b[A\n",
      "100%|██████████| 5/5 [02:58<00:00, 35.68s/it]\u001b[A\n",
      "\u001b[A"
     ]
    },
    {
     "name": "stdout",
     "output_type": "stream",
     "text": [
      "Original data occupies 0.11229365319013596 GB memory.\n"
     ]
    },
    {
     "data": {
      "application/vnd.jupyter.widget-view+json": {
       "model_id": "be494f8b6fbd4453bc5f55ba7797e28c",
       "version_major": 2,
       "version_minor": 0
      },
      "text/html": [
       "<p>Failed to display Jupyter Widget of type <code>HBox</code>.</p>\n",
       "<p>\n",
       "  If you're reading this message in Jupyter Notebook or JupyterLab, it may mean\n",
       "  that the widgets JavaScript is still loading. If this message persists, it\n",
       "  likely means that the widgets JavaScript library is either not installed or\n",
       "  not enabled. See the <a href=\"https://ipywidgets.readthedocs.io/en/stable/user_install.html\">Jupyter\n",
       "  Widgets Documentation</a> for setup instructions.\n",
       "</p>\n",
       "<p>\n",
       "  If you're reading this message in another notebook frontend (for example, a static\n",
       "  rendering on GitHub or <a href=\"https://nbviewer.jupyter.org/\">NBViewer</a>),\n",
       "  it may mean that your frontend doesn't currently support widgets.\n",
       "</p>\n"
      ],
      "text/plain": [
       "HBox(children=(IntProgress(value=0, max=72), HTML(value='')))"
      ]
     },
     "metadata": {},
     "output_type": "display_data"
    },
    {
     "name": "stdout",
     "output_type": "stream",
     "text": [
      "\n",
      "After processing, the data occupies 0.03153451904654503 GB memory.\n"
     ]
    },
    {
     "name": "stderr",
     "output_type": "stream",
     "text": [
      "\n",
      " 40%|████      | 2/5 [00:26<00:40, 13.44s/it]\u001b[A\n",
      "100%|██████████| 5/5 [01:54<00:00, 22.92s/it]\u001b[A\n",
      "\u001b[A"
     ]
    },
    {
     "name": "stdout",
     "output_type": "stream",
     "text": [
      "Original data occupies 0.3730759099125862 GB memory.\n"
     ]
    },
    {
     "data": {
      "application/vnd.jupyter.widget-view+json": {
       "model_id": "24882c8228ef4111a686b04a4bf4400b",
       "version_major": 2,
       "version_minor": 0
      },
      "text/html": [
       "<p>Failed to display Jupyter Widget of type <code>HBox</code>.</p>\n",
       "<p>\n",
       "  If you're reading this message in Jupyter Notebook or JupyterLab, it may mean\n",
       "  that the widgets JavaScript is still loading. If this message persists, it\n",
       "  likely means that the widgets JavaScript library is either not installed or\n",
       "  not enabled. See the <a href=\"https://ipywidgets.readthedocs.io/en/stable/user_install.html\">Jupyter\n",
       "  Widgets Documentation</a> for setup instructions.\n",
       "</p>\n",
       "<p>\n",
       "  If you're reading this message in another notebook frontend (for example, a static\n",
       "  rendering on GitHub or <a href=\"https://nbviewer.jupyter.org/\">NBViewer</a>),\n",
       "  it may mean that your frontend doesn't currently support widgets.\n",
       "</p>\n"
      ],
      "text/plain": [
       "HBox(children=(IntProgress(value=0, max=72), HTML(value='')))"
      ]
     },
     "metadata": {},
     "output_type": "display_data"
    },
    {
     "name": "stdout",
     "output_type": "stream",
     "text": [
      "\n",
      "After processing, the data occupies 0.1022125780582428 GB memory.\n"
     ]
    },
    {
     "name": "stderr",
     "output_type": "stream",
     "text": [
      "\n",
      " 60%|██████    | 3/5 [00:54<00:36, 18.10s/it]\u001b[A\n",
      " 80%|████████  | 4/5 [01:32<00:23, 23.12s/it]\u001b[A\n",
      "100%|██████████| 5/5 [02:30<00:00, 30.10s/it]\u001b[A\n",
      "\u001b[A"
     ]
    },
    {
     "name": "stdout",
     "output_type": "stream",
     "text": [
      "Original data occupies 0.46066814661026 GB memory.\n"
     ]
    },
    {
     "data": {
      "application/vnd.jupyter.widget-view+json": {
       "model_id": "04b30538cc6740ca92b7f6af7aa10fd1",
       "version_major": 2,
       "version_minor": 0
      },
      "text/html": [
       "<p>Failed to display Jupyter Widget of type <code>HBox</code>.</p>\n",
       "<p>\n",
       "  If you're reading this message in Jupyter Notebook or JupyterLab, it may mean\n",
       "  that the widgets JavaScript is still loading. If this message persists, it\n",
       "  likely means that the widgets JavaScript library is either not installed or\n",
       "  not enabled. See the <a href=\"https://ipywidgets.readthedocs.io/en/stable/user_install.html\">Jupyter\n",
       "  Widgets Documentation</a> for setup instructions.\n",
       "</p>\n",
       "<p>\n",
       "  If you're reading this message in another notebook frontend (for example, a static\n",
       "  rendering on GitHub or <a href=\"https://nbviewer.jupyter.org/\">NBViewer</a>),\n",
       "  it may mean that your frontend doesn't currently support widgets.\n",
       "</p>\n"
      ],
      "text/plain": [
       "HBox(children=(IntProgress(value=0, max=72), HTML(value='')))"
      ]
     },
     "metadata": {},
     "output_type": "display_data"
    },
    {
     "name": "stdout",
     "output_type": "stream",
     "text": [
      "\n",
      "After processing, the data occupies 0.12621045112609863 GB memory.\n"
     ]
    },
    {
     "data": {
      "application/vnd.jupyter.widget-view+json": {
       "model_id": "8ce0af7adb75407ea8e3653005cad1d2",
       "version_major": 2,
       "version_minor": 0
      },
      "text/html": [
       "<p>Failed to display Jupyter Widget of type <code>HBox</code>.</p>\n",
       "<p>\n",
       "  If you're reading this message in Jupyter Notebook or JupyterLab, it may mean\n",
       "  that the widgets JavaScript is still loading. If this message persists, it\n",
       "  likely means that the widgets JavaScript library is either not installed or\n",
       "  not enabled. See the <a href=\"https://ipywidgets.readthedocs.io/en/stable/user_install.html\">Jupyter\n",
       "  Widgets Documentation</a> for setup instructions.\n",
       "</p>\n",
       "<p>\n",
       "  If you're reading this message in another notebook frontend (for example, a static\n",
       "  rendering on GitHub or <a href=\"https://nbviewer.jupyter.org/\">NBViewer</a>),\n",
       "  it may mean that your frontend doesn't currently support widgets.\n",
       "</p>\n"
      ],
      "text/plain": [
       "HBox(children=(IntProgress(value=0, max=10), HTML(value='')))"
      ]
     },
     "metadata": {},
     "output_type": "display_data"
    },
    {
     "name": "stdout",
     "output_type": "stream",
     "text": [
      "\n",
      "CPU times: user 4.68 s, sys: 12.7 s, total: 17.4 s\n",
      "Wall time: 5min 57s\n"
     ]
    }
   ],
   "source": [
    "%%time \n",
    "df_ = data_valid_fea.copy()\n",
    "st_time = datetime.datetime(2018, 4, 8)\n",
    "\n",
    "users = df_['user_id'].unique() \n",
    "len_ = len(users)\n",
    "print(len_)\n",
    "cut_len = 154000\n",
    "user_indexs = [users[i:i+cut_len] for i in range(0,len_,cut_len)] \n",
    "res = parmap(get_uc_parallel,user_indexs, nprocs=10) \n",
    "uc_fea_val = None\n",
    "for i in tqdm_notebook(range(len(res))):\n",
    "    if i == 0:\n",
    "        uc_fea_val = res[0]\n",
    "    else:\n",
    "        uc_fea_val = pd.concat([uc_fea_val,res[i]], axis=0, ignore_index=True) "
   ]
  },
  {
   "cell_type": "markdown",
   "metadata": {},
   "source": [
    "## user特征 \n",
    "\n",
    "- 此处的特征主要用于刻画用户的消费属性\n"
   ]
  },
  {
   "cell_type": "code",
   "execution_count": 71,
   "metadata": {},
   "outputs": [],
   "source": [
    "def gen_action_freq_feats(df, start_date):\n",
    "#     action = load_action_df(start_date)\n",
    "    key = ['user_id']\n",
    "    action = df[key+['type', 'action_time']].copy()\n",
    "    feats = pd.DataFrame(action[key].drop_duplicates())\n",
    "    for w in tqdm([1, 3, 5, 7, 15, 30, 1000]):\n",
    " \n",
    "        bef_start_date = start_date - datetime.timedelta(days=w) \n",
    "        print(bef_start_date)\n",
    "        action_cl = action[action['action_time']>=bef_start_date].copy()\n",
    "        df = pd.get_dummies(action_cl['type'], prefix='_'.join(key)+'_last{}_days_action'.format(w))\n",
    "        action_cl = pd.concat([action_cl, df], axis=1)\n",
    "        action_cl = action_cl.groupby(key, as_index=False).sum()\n",
    "\n",
    "        action_cl['_'.join(key)+'_last{}_days_action_1_rt'.format(w)] = action_cl['_'.join(key)+'_last{}_days_action_2'.format(w)] / (1 + action_cl['_'.join(key)+'_last{}_days_action_1'.format(w)])\n",
    "        action_cl['_'.join(key)+'_last{}_days_action_3_rt'.format(w)] = action_cl['_'.join(key)+'_last{}_days_action_2'.format(w)] / (1 + action_cl['_'.join(key)+'_last{}_days_action_3'.format(w)])\n",
    "        action_cl['_'.join(key)+'_last{}_days_action_4_rt'.format(w)] = action_cl['_'.join(key)+'_last{}_days_action_2'.format(w)] / (1 + action_cl['_'.join(key)+'_last{}_days_action_4'.format(w)])\n",
    "    # action['_'.join(key)+'_action_5_rt'] = action['_'.join(key)+'_action_2'] / (1 + action['_'.join(key)+'_action_5'])\n",
    "\n",
    "        del action_cl['type']\n",
    "        feats = feats.merge(action_cl, on=key, how='left')\n",
    "    return feats"
   ]
  },
  {
   "cell_type": "code",
   "execution_count": 330,
   "metadata": {
    "scrolled": true
   },
   "outputs": [
    {
     "name": "stderr",
     "output_type": "stream",
     "text": [
      "\n",
      "  0%|          | 0/7 [00:00<?, ?it/s]\u001b[A"
     ]
    },
    {
     "name": "stdout",
     "output_type": "stream",
     "text": [
      "2018-03-31 00:00:00\n"
     ]
    },
    {
     "name": "stderr",
     "output_type": "stream",
     "text": [
      "\n",
      " 14%|█▍        | 1/7 [00:00<00:03,  1.61it/s]\u001b[A"
     ]
    },
    {
     "name": "stdout",
     "output_type": "stream",
     "text": [
      "2018-03-29 00:00:00\n"
     ]
    },
    {
     "name": "stderr",
     "output_type": "stream",
     "text": [
      "\n",
      " 29%|██▊       | 2/7 [00:01<00:03,  1.35it/s]\u001b[A"
     ]
    },
    {
     "name": "stdout",
     "output_type": "stream",
     "text": [
      "2018-03-27 00:00:00\n"
     ]
    },
    {
     "name": "stderr",
     "output_type": "stream",
     "text": [
      "\n",
      " 43%|████▎     | 3/7 [00:02<00:03,  1.24it/s]\u001b[A"
     ]
    },
    {
     "name": "stdout",
     "output_type": "stream",
     "text": [
      "2018-03-25 00:00:00\n"
     ]
    },
    {
     "name": "stderr",
     "output_type": "stream",
     "text": [
      "\n",
      " 57%|█████▋    | 4/7 [00:03<00:02,  1.07it/s]\u001b[A"
     ]
    },
    {
     "name": "stdout",
     "output_type": "stream",
     "text": [
      "2018-03-17 00:00:00\n"
     ]
    },
    {
     "name": "stderr",
     "output_type": "stream",
     "text": [
      "\n",
      " 71%|███████▏  | 5/7 [00:06<00:02,  1.23s/it]\u001b[A"
     ]
    },
    {
     "name": "stdout",
     "output_type": "stream",
     "text": [
      "2018-03-02 00:00:00\n"
     ]
    },
    {
     "name": "stderr",
     "output_type": "stream",
     "text": [
      "\n",
      " 86%|████████▌ | 6/7 [00:11<00:01,  1.85s/it]\u001b[A"
     ]
    },
    {
     "name": "stdout",
     "output_type": "stream",
     "text": [
      "2015-07-06 00:00:00\n"
     ]
    },
    {
     "name": "stderr",
     "output_type": "stream",
     "text": [
      "\n",
      "100%|██████████| 7/7 [00:20<00:00,  2.95s/it]\u001b[A\n",
      "\u001b[A\n",
      "  0%|          | 0/7 [00:00<?, ?it/s]\u001b[A"
     ]
    },
    {
     "name": "stdout",
     "output_type": "stream",
     "text": [
      "2018-04-07 00:00:00\n"
     ]
    },
    {
     "name": "stderr",
     "output_type": "stream",
     "text": [
      "\n",
      " 14%|█▍        | 1/7 [00:00<00:04,  1.50it/s]\u001b[A"
     ]
    },
    {
     "name": "stdout",
     "output_type": "stream",
     "text": [
      "2018-04-05 00:00:00\n"
     ]
    },
    {
     "name": "stderr",
     "output_type": "stream",
     "text": [
      "\n",
      " 29%|██▊       | 2/7 [00:01<00:04,  1.19it/s]\u001b[A"
     ]
    },
    {
     "name": "stdout",
     "output_type": "stream",
     "text": [
      "2018-04-03 00:00:00\n"
     ]
    },
    {
     "name": "stderr",
     "output_type": "stream",
     "text": [
      "\n",
      " 43%|████▎     | 3/7 [00:02<00:03,  1.06it/s]\u001b[A"
     ]
    },
    {
     "name": "stdout",
     "output_type": "stream",
     "text": [
      "2018-04-01 00:00:00\n"
     ]
    },
    {
     "name": "stderr",
     "output_type": "stream",
     "text": [
      "\n",
      " 57%|█████▋    | 4/7 [00:04<00:03,  1.09s/it]\u001b[A"
     ]
    },
    {
     "name": "stdout",
     "output_type": "stream",
     "text": [
      "2018-03-24 00:00:00\n"
     ]
    },
    {
     "name": "stderr",
     "output_type": "stream",
     "text": [
      "\n",
      " 71%|███████▏  | 5/7 [00:06<00:02,  1.36s/it]\u001b[A"
     ]
    },
    {
     "name": "stdout",
     "output_type": "stream",
     "text": [
      "2018-03-09 00:00:00\n"
     ]
    },
    {
     "name": "stderr",
     "output_type": "stream",
     "text": [
      "\n",
      " 86%|████████▌ | 6/7 [00:12<00:02,  2.00s/it]\u001b[A"
     ]
    },
    {
     "name": "stdout",
     "output_type": "stream",
     "text": [
      "2015-07-13 00:00:00\n"
     ]
    },
    {
     "name": "stderr",
     "output_type": "stream",
     "text": [
      "\n",
      "100%|██████████| 7/7 [00:23<00:00,  3.36s/it]\u001b[A\n",
      "\u001b[A\n",
      "  0%|          | 0/7 [00:00<?, ?it/s]\u001b[A"
     ]
    },
    {
     "name": "stdout",
     "output_type": "stream",
     "text": [
      "2018-04-14 00:00:00\n"
     ]
    },
    {
     "name": "stderr",
     "output_type": "stream",
     "text": [
      "\n",
      " 14%|█▍        | 1/7 [00:00<00:04,  1.44it/s]\u001b[A"
     ]
    },
    {
     "name": "stdout",
     "output_type": "stream",
     "text": [
      "2018-04-12 00:00:00\n"
     ]
    },
    {
     "name": "stderr",
     "output_type": "stream",
     "text": [
      "\n",
      " 29%|██▊       | 2/7 [00:01<00:04,  1.14it/s]\u001b[A"
     ]
    },
    {
     "name": "stdout",
     "output_type": "stream",
     "text": [
      "2018-04-10 00:00:00\n"
     ]
    },
    {
     "name": "stderr",
     "output_type": "stream",
     "text": [
      "\n",
      " 43%|████▎     | 3/7 [00:03<00:04,  1.02s/it]\u001b[A"
     ]
    },
    {
     "name": "stdout",
     "output_type": "stream",
     "text": [
      "2018-04-08 00:00:00\n"
     ]
    },
    {
     "name": "stderr",
     "output_type": "stream",
     "text": [
      "\n",
      " 57%|█████▋    | 4/7 [00:04<00:03,  1.19s/it]\u001b[A"
     ]
    },
    {
     "name": "stdout",
     "output_type": "stream",
     "text": [
      "2018-03-31 00:00:00\n"
     ]
    },
    {
     "name": "stderr",
     "output_type": "stream",
     "text": [
      "\n",
      " 71%|███████▏  | 5/7 [00:07<00:03,  1.52s/it]\u001b[A"
     ]
    },
    {
     "name": "stdout",
     "output_type": "stream",
     "text": [
      "2018-03-16 00:00:00\n"
     ]
    },
    {
     "name": "stderr",
     "output_type": "stream",
     "text": [
      "\n",
      " 86%|████████▌ | 6/7 [00:12<00:02,  2.14s/it]\u001b[A"
     ]
    },
    {
     "name": "stdout",
     "output_type": "stream",
     "text": [
      "2015-07-20 00:00:00\n"
     ]
    },
    {
     "name": "stderr",
     "output_type": "stream",
     "text": [
      "\n",
      "100%|██████████| 7/7 [00:25<00:00,  3.60s/it]\u001b[A\n",
      "\u001b[A"
     ]
    }
   ],
   "source": [
    "u_fea_train1 = gen_action_freq_feats(data_train_fea1, datetime.datetime(2018, 4, 1))\n",
    "u_fea_val1   = gen_action_freq_feats(data_valid_fea, datetime.datetime(2018, 4, 8))"
   ]
  },
  {
   "cell_type": "markdown",
   "metadata": {},
   "source": [
    "## <font color=red>测试集用户相关特征提取</font>\n",
    "### 构建测试集"
   ]
  },
  {
   "cell_type": "code",
   "execution_count": 140,
   "metadata": {},
   "outputs": [],
   "source": [
    "def get_test(df, candidate_st = (4,9), candidate_en = (4,15), fea_en = (4,8)):\n",
    "    st               = df.loc[(df['month']==candidate_st[0]) &(df['day']==candidate_st[1]), 'month_day'].values[0] \n",
    "    en               = df.loc[(df['month']==candidate_en[0]) &(df['day']==candidate_en[1]), 'month_day'].values[0] \n",
    "    fea_en           = df.loc[(df['month']==fea_en[0]) &(df['day']==fea_en[1]), 'month_day'].values[0] \n",
    "    \n",
    "    ind_candidates   = (df['month_day']<=en) & (df['month_day']>=st)\n",
    "    ind_fea          =  df['month_day'] <= fea_en\n",
    "     \n",
    "    \n",
    "    data_candidate    = df.loc[ind_candidates][['user_id','cate','shop_id']].drop_duplicates(subset = ['user_id','cate','shop_id']).copy() # 用来构建特征集合 \n",
    "    data_fea    = df.loc[ind_fea].copy() # 用来构建特征集合 \n",
    "    return data_candidate,data_fea \n",
    "\n",
    "df_label, df_test_fea = get_test(data, candidate_st = (4,9), candidate_en = (4,15), fea_en = (4,15))"
   ]
  },
  {
   "cell_type": "markdown",
   "metadata": {},
   "source": [
    "### 测试集用户特征提取"
   ]
  },
  {
   "cell_type": "markdown",
   "metadata": {},
   "source": [
    "#### user +cate+shopid特征提取"
   ]
  },
  {
   "cell_type": "code",
   "execution_count": 143,
   "metadata": {},
   "outputs": [
    {
     "name": "stdout",
     "output_type": "stream",
     "text": [
      "1608707\n",
      "CPU times: user 1.63 s, sys: 1.47 s, total: 3.11 s\n",
      "Wall time: 3.11 s\n"
     ]
    }
   ],
   "source": [
    "%%time \n",
    "df_     = df_test_fea.copy()\n",
    "st_time = datetime.datetime(2018, 4, 15)\n",
    "users   = df_['user_id'].unique() \n",
    "len_    = len(users)\n",
    "print(len_)\n",
    "cut_len = 160000\n",
    "user_indexs = [users[i:i+cut_len] for i in range(0,len_,cut_len)] "
   ]
  },
  {
   "cell_type": "code",
   "execution_count": 144,
   "metadata": {
    "scrolled": true
   },
   "outputs": [
    {
     "name": "stdout",
     "output_type": "stream",
     "text": [
      "shift\n",
      "shift\n",
      "shift\n",
      "shift\n",
      "shift\n",
      "shift\n",
      "shift\n",
      "shift\n"
     ]
    },
    {
     "name": "stderr",
     "output_type": "stream",
     "text": [
      "\n",
      "  0%|          | 0/6 [00:00<?, ?it/s]\u001b[A"
     ]
    },
    {
     "name": "stdout",
     "output_type": "stream",
     "text": [
      "shift\n"
     ]
    },
    {
     "name": "stderr",
     "output_type": "stream",
     "text": [
      "\n",
      " 17%|█▋        | 1/6 [00:04<00:22,  4.54s/it]\u001b[A\n",
      "  0%|          | 0/6 [00:00<?, ?it/s]\u001b[A\n",
      " 17%|█▋        | 1/6 [00:02<00:13,  2.80s/it]\u001b[A\n",
      "  0%|          | 0/6 [00:00<?, ?it/s]\u001b[A\n",
      " 33%|███▎      | 2/6 [00:07<00:14,  3.50s/it]\u001b[A\n",
      " 33%|███▎      | 2/6 [00:15<00:31,  7.82s/it]\u001b[A\n",
      " 17%|█▋        | 1/6 [00:03<00:16,  3.36s/it]\u001b[A\n",
      "  0%|          | 0/6 [00:00<?, ?it/s]\u001b[A\n",
      "  0%|          | 0/6 [00:00<?, ?it/s]\u001b[A\n",
      " 33%|███▎      | 2/6 [00:08<00:17,  4.33s/it]\u001b[A\n",
      " 50%|█████     | 3/6 [00:16<00:16,  5.33s/it]\u001b[A\n",
      " 17%|█▋        | 1/6 [00:03<00:18,  3.68s/it]\u001b[A"
     ]
    },
    {
     "name": "stdout",
     "output_type": "stream",
     "text": [
      "shift\n"
     ]
    },
    {
     "name": "stderr",
     "output_type": "stream",
     "text": [
      "\n",
      " 17%|█▋        | 1/6 [00:04<00:20,  4.03s/it]\u001b[A\n",
      " 33%|███▎      | 2/6 [00:09<00:18,  4.60s/it]\u001b[A\n",
      " 33%|███▎      | 2/6 [00:09<00:18,  4.71s/it]\u001b[A\n",
      " 50%|█████     | 3/6 [00:19<00:19,  6.46s/it]\u001b[A\n",
      " 50%|█████     | 3/6 [00:19<00:19,  6.63s/it]\u001b[A\n",
      "  0%|          | 0/6 [00:00<?, ?it/s]\u001b[A\n",
      " 67%|██████▋   | 4/6 [00:33<00:16,  8.39s/it]\u001b[A\n",
      " 50%|█████     | 3/6 [00:20<00:20,  6.99s/it]\u001b[A\n",
      " 17%|█▋        | 1/6 [00:05<00:25,  5.03s/it]\u001b[A\n",
      " 50%|█████     | 3/6 [00:48<00:48, 16.05s/it]\u001b[A\n",
      " 67%|██████▋   | 4/6 [00:38<00:19,  9.57s/it]\u001b[A\n",
      " 33%|███▎      | 2/6 [00:13<00:26,  6.53s/it]\u001b[A\n",
      " 67%|██████▋   | 4/6 [00:39<00:19,  9.82s/it]\u001b[A\n",
      "  0%|          | 0/6 [00:00<?, ?it/s]\u001b[A\n",
      " 67%|██████▋   | 4/6 [00:42<00:21, 10.73s/it]\u001b[A\n",
      " 50%|█████     | 3/6 [00:28<00:28,  9.65s/it]\u001b[A\n",
      " 17%|█▋        | 1/6 [00:07<00:39,  7.94s/it]\u001b[A\n",
      "  0%|          | 0/6 [00:00<?, ?it/s]\u001b[A\n",
      " 17%|█▋        | 1/6 [00:07<00:38,  7.65s/it]\u001b[A\n",
      " 83%|████████▎ | 5/6 [01:11<00:14, 14.26s/it]\u001b[A\n",
      " 33%|███▎      | 2/6 [00:18<00:36,  9.08s/it]\u001b[A\n",
      " 83%|████████▎ | 5/6 [01:10<00:14, 14.13s/it]\u001b[A\n",
      " 33%|███▎      | 2/6 [00:19<00:38,  9.64s/it]\u001b[A\n",
      " 83%|████████▎ | 5/6 [01:11<00:14, 14.21s/it]\u001b[A\n",
      " 67%|██████▋   | 4/6 [00:57<00:28, 14.38s/it]\u001b[A\n",
      " 50%|█████     | 3/6 [00:37<00:37, 12.65s/it]\u001b[A\n",
      " 83%|████████▎ | 5/6 [01:19<00:15, 16.00s/it]\u001b[A\n",
      "  0%|          | 0/6 [00:00<?, ?it/s]\u001b[A\n",
      " 50%|█████     | 3/6 [00:40<00:40, 13.41s/it]\u001b[A\n",
      " 67%|██████▋   | 4/6 [01:55<00:57, 28.91s/it]\u001b[A\n",
      " 17%|█▋        | 1/6 [00:10<00:51, 10.25s/it]\u001b[A\n",
      "100%|██████████| 6/6 [01:56<00:00, 19.48s/it]\u001b[A\n",
      "\u001b[A"
     ]
    },
    {
     "name": "stdout",
     "output_type": "stream",
     "text": [
      "Original data occupies 0.46202103048563004 GB memory.\n"
     ]
    },
    {
     "data": {
      "application/vnd.jupyter.widget-view+json": {
       "model_id": "065ceb2365c44f56b4b67ff6784ac944",
       "version_major": 2,
       "version_minor": 0
      },
      "text/html": [
       "<p>Failed to display Jupyter Widget of type <code>HBox</code>.</p>\n",
       "<p>\n",
       "  If you're reading this message in Jupyter Notebook or JupyterLab, it may mean\n",
       "  that the widgets JavaScript is still loading. If this message persists, it\n",
       "  likely means that the widgets JavaScript library is either not installed or\n",
       "  not enabled. See the <a href=\"https://ipywidgets.readthedocs.io/en/stable/user_install.html\">Jupyter\n",
       "  Widgets Documentation</a> for setup instructions.\n",
       "</p>\n",
       "<p>\n",
       "  If you're reading this message in another notebook frontend (for example, a static\n",
       "  rendering on GitHub or <a href=\"https://nbviewer.jupyter.org/\">NBViewer</a>),\n",
       "  it may mean that your frontend doesn't currently support widgets.\n",
       "</p>\n"
      ],
      "text/plain": [
       "HBox(children=(IntProgress(value=0, max=80), HTML(value='')))"
      ]
     },
     "metadata": {},
     "output_type": "display_data"
    },
    {
     "name": "stdout",
     "output_type": "stream",
     "text": [
      "\n",
      "After processing, the data occupies 0.12976516596972942 GB memory.\n"
     ]
    },
    {
     "name": "stderr",
     "output_type": "stream",
     "text": [
      "\n",
      " 33%|███▎      | 2/6 [00:25<00:51, 12.96s/it]\u001b[A\n",
      " 67%|██████▋   | 4/6 [01:13<00:36, 18.40s/it]\u001b[A\n",
      "100%|██████████| 6/6 [01:56<00:00, 19.47s/it]\u001b[A\n",
      "\u001b[A"
     ]
    },
    {
     "name": "stdout",
     "output_type": "stream",
     "text": [
      "Original data occupies 0.5391159653663635 GB memory.\n"
     ]
    },
    {
     "data": {
      "application/vnd.jupyter.widget-view+json": {
       "model_id": "c72373209fd54bd2b6962ad4d322cd54",
       "version_major": 2,
       "version_minor": 0
      },
      "text/html": [
       "<p>Failed to display Jupyter Widget of type <code>HBox</code>.</p>\n",
       "<p>\n",
       "  If you're reading this message in Jupyter Notebook or JupyterLab, it may mean\n",
       "  that the widgets JavaScript is still loading. If this message persists, it\n",
       "  likely means that the widgets JavaScript library is either not installed or\n",
       "  not enabled. See the <a href=\"https://ipywidgets.readthedocs.io/en/stable/user_install.html\">Jupyter\n",
       "  Widgets Documentation</a> for setup instructions.\n",
       "</p>\n",
       "<p>\n",
       "  If you're reading this message in another notebook frontend (for example, a static\n",
       "  rendering on GitHub or <a href=\"https://nbviewer.jupyter.org/\">NBViewer</a>),\n",
       "  it may mean that your frontend doesn't currently support widgets.\n",
       "</p>\n"
      ],
      "text/plain": [
       "HBox(children=(IntProgress(value=0, max=80), HTML(value='')))"
      ]
     },
     "metadata": {},
     "output_type": "display_data"
    },
    {
     "name": "stdout",
     "output_type": "stream",
     "text": [
      "\n",
      "After processing, the data occupies 0.15141837298870087 GB memory.\n",
      "shift\n"
     ]
    },
    {
     "name": "stderr",
     "output_type": "stream",
     "text": [
      "\n",
      "  0%|          | 0/6 [00:00<?, ?it/s]\u001b[A\n",
      " 83%|████████▎ | 5/6 [01:45<00:21, 21.16s/it]\u001b[A\n",
      " 17%|█▋        | 1/6 [00:03<00:15,  3.09s/it]\u001b[A\n",
      "100%|██████████| 6/6 [02:08<00:00, 21.38s/it]\u001b[A\n",
      "\u001b[A"
     ]
    },
    {
     "name": "stdout",
     "output_type": "stream",
     "text": [
      "Original data occupies 0.62856025993824 GB memory.\n"
     ]
    },
    {
     "data": {
      "application/vnd.jupyter.widget-view+json": {
       "model_id": "5d619565214a40248c0b1525c8b47af8",
       "version_major": 2,
       "version_minor": 0
      },
      "text/html": [
       "<p>Failed to display Jupyter Widget of type <code>HBox</code>.</p>\n",
       "<p>\n",
       "  If you're reading this message in Jupyter Notebook or JupyterLab, it may mean\n",
       "  that the widgets JavaScript is still loading. If this message persists, it\n",
       "  likely means that the widgets JavaScript library is either not installed or\n",
       "  not enabled. See the <a href=\"https://ipywidgets.readthedocs.io/en/stable/user_install.html\">Jupyter\n",
       "  Widgets Documentation</a> for setup instructions.\n",
       "</p>\n",
       "<p>\n",
       "  If you're reading this message in another notebook frontend (for example, a static\n",
       "  rendering on GitHub or <a href=\"https://nbviewer.jupyter.org/\">NBViewer</a>),\n",
       "  it may mean that your frontend doesn't currently support widgets.\n",
       "</p>\n"
      ],
      "text/plain": [
       "HBox(children=(IntProgress(value=0, max=80), HTML(value='')))"
      ]
     },
     "metadata": {},
     "output_type": "display_data"
    },
    {
     "name": "stderr",
     "output_type": "stream",
     "text": [
      "\n",
      " 67%|██████▋   | 4/6 [01:19<00:39, 19.80s/it]\u001b[A"
     ]
    },
    {
     "name": "stdout",
     "output_type": "stream",
     "text": [
      "\n",
      "After processing, the data occupies 0.1765400730073452 GB memory.\n"
     ]
    },
    {
     "name": "stderr",
     "output_type": "stream",
     "text": [
      "\n",
      " 33%|███▎      | 2/6 [00:06<00:12,  3.08s/it]\u001b[A\n",
      " 50%|█████     | 3/6 [00:10<00:10,  3.54s/it]\u001b[A\n",
      " 67%|██████▋   | 4/6 [00:15<00:07,  3.77s/it]\u001b[A\n",
      " 50%|█████     | 3/6 [00:55<00:55, 18.46s/it]\u001b[A\n",
      " 83%|████████▎ | 5/6 [00:19<00:03,  3.90s/it]\u001b[A\n",
      "100%|██████████| 6/6 [00:23<00:00,  3.99s/it]\u001b[A\n",
      "\u001b[A"
     ]
    },
    {
     "name": "stdout",
     "output_type": "stream",
     "text": [
      "Original data occupies 0.012123048305511475 GB memory.\n"
     ]
    },
    {
     "data": {
      "application/vnd.jupyter.widget-view+json": {
       "model_id": "11b40dde070f46db97a3a005ec20f667",
       "version_major": 2,
       "version_minor": 0
      },
      "text/html": [
       "<p>Failed to display Jupyter Widget of type <code>HBox</code>.</p>\n",
       "<p>\n",
       "  If you're reading this message in Jupyter Notebook or JupyterLab, it may mean\n",
       "  that the widgets JavaScript is still loading. If this message persists, it\n",
       "  likely means that the widgets JavaScript library is either not installed or\n",
       "  not enabled. See the <a href=\"https://ipywidgets.readthedocs.io/en/stable/user_install.html\">Jupyter\n",
       "  Widgets Documentation</a> for setup instructions.\n",
       "</p>\n",
       "<p>\n",
       "  If you're reading this message in another notebook frontend (for example, a static\n",
       "  rendering on GitHub or <a href=\"https://nbviewer.jupyter.org/\">NBViewer</a>),\n",
       "  it may mean that your frontend doesn't currently support widgets.\n",
       "</p>\n"
      ],
      "text/plain": [
       "HBox(children=(IntProgress(value=0, max=80), HTML(value='')))"
      ]
     },
     "metadata": {},
     "output_type": "display_data"
    },
    {
     "name": "stdout",
     "output_type": "stream",
     "text": [
      "\n",
      "After processing, the data occupies 0.003292679786682129 GB memory.\n"
     ]
    },
    {
     "name": "stderr",
     "output_type": "stream",
     "text": [
      "\n",
      "100%|██████████| 6/6 [02:46<00:00, 27.81s/it]\u001b[A\n",
      "\u001b[A"
     ]
    },
    {
     "name": "stdout",
     "output_type": "stream",
     "text": [
      "Original data occupies 0.3484211638569832 GB memory.\n"
     ]
    },
    {
     "data": {
      "application/vnd.jupyter.widget-view+json": {
       "model_id": "4a6607f3f9064de59a0b16bba9df3887",
       "version_major": 2,
       "version_minor": 0
      },
      "text/html": [
       "<p>Failed to display Jupyter Widget of type <code>HBox</code>.</p>\n",
       "<p>\n",
       "  If you're reading this message in Jupyter Notebook or JupyterLab, it may mean\n",
       "  that the widgets JavaScript is still loading. If this message persists, it\n",
       "  likely means that the widgets JavaScript library is either not installed or\n",
       "  not enabled. See the <a href=\"https://ipywidgets.readthedocs.io/en/stable/user_install.html\">Jupyter\n",
       "  Widgets Documentation</a> for setup instructions.\n",
       "</p>\n",
       "<p>\n",
       "  If you're reading this message in another notebook frontend (for example, a static\n",
       "  rendering on GitHub or <a href=\"https://nbviewer.jupyter.org/\">NBViewer</a>),\n",
       "  it may mean that your frontend doesn't currently support widgets.\n",
       "</p>\n"
      ],
      "text/plain": [
       "HBox(children=(IntProgress(value=0, max=80), HTML(value='')))"
      ]
     },
     "metadata": {},
     "output_type": "display_data"
    },
    {
     "name": "stdout",
     "output_type": "stream",
     "text": [
      "\n",
      "After processing, the data occupies 0.09785903058946133 GB memory.\n"
     ]
    },
    {
     "name": "stderr",
     "output_type": "stream",
     "text": [
      "\n",
      " 83%|████████▎ | 5/6 [02:10<00:26, 26.12s/it]\u001b[A\n",
      "  0%|          | 0/6 [00:00<?, ?it/s]\u001b[A\n",
      "100%|██████████| 6/6 [02:48<00:00, 28.11s/it]\u001b[A\n",
      "\u001b[A"
     ]
    },
    {
     "name": "stdout",
     "output_type": "stream",
     "text": [
      "Original data occupies 0.8385730013251305 GB memory.\n"
     ]
    },
    {
     "data": {
      "application/vnd.jupyter.widget-view+json": {
       "model_id": "d3bcf1c17b6542b486458a52997bd466",
       "version_major": 2,
       "version_minor": 0
      },
      "text/html": [
       "<p>Failed to display Jupyter Widget of type <code>HBox</code>.</p>\n",
       "<p>\n",
       "  If you're reading this message in Jupyter Notebook or JupyterLab, it may mean\n",
       "  that the widgets JavaScript is still loading. If this message persists, it\n",
       "  likely means that the widgets JavaScript library is either not installed or\n",
       "  not enabled. See the <a href=\"https://ipywidgets.readthedocs.io/en/stable/user_install.html\">Jupyter\n",
       "  Widgets Documentation</a> for setup instructions.\n",
       "</p>\n",
       "<p>\n",
       "  If you're reading this message in another notebook frontend (for example, a static\n",
       "  rendering on GitHub or <a href=\"https://nbviewer.jupyter.org/\">NBViewer</a>),\n",
       "  it may mean that your frontend doesn't currently support widgets.\n",
       "</p>\n"
      ],
      "text/plain": [
       "HBox(children=(IntProgress(value=0, max=80), HTML(value='')))"
      ]
     },
     "metadata": {},
     "output_type": "display_data"
    },
    {
     "name": "stderr",
     "output_type": "stream",
     "text": [
      "\n",
      " 67%|██████▋   | 4/6 [01:42<00:51, 25.72s/it]\u001b[A"
     ]
    },
    {
     "name": "stdout",
     "output_type": "stream",
     "text": [
      "\n",
      "After processing, the data occupies 0.2355251330882311 GB memory.\n"
     ]
    },
    {
     "name": "stderr",
     "output_type": "stream",
     "text": [
      "\n",
      " 83%|████████▎ | 5/6 [02:20<00:28, 28.04s/it]\u001b[A\n",
      " 17%|█▋        | 1/6 [00:16<01:20, 16.08s/it]\u001b[A\n",
      " 83%|████████▎ | 5/6 [03:44<00:44, 44.90s/it]\u001b[A\n",
      " 33%|███▎      | 2/6 [00:40<01:20, 20.13s/it]\u001b[A\n",
      "100%|██████████| 6/6 [03:30<00:00, 35.08s/it]\u001b[A\n",
      "\u001b[A"
     ]
    },
    {
     "name": "stdout",
     "output_type": "stream",
     "text": [
      "Original data occupies 1.0518868714571 GB memory.\n"
     ]
    },
    {
     "data": {
      "application/vnd.jupyter.widget-view+json": {
       "model_id": "b982e5dd064c46db948239a9f9622d51",
       "version_major": 2,
       "version_minor": 0
      },
      "text/html": [
       "<p>Failed to display Jupyter Widget of type <code>HBox</code>.</p>\n",
       "<p>\n",
       "  If you're reading this message in Jupyter Notebook or JupyterLab, it may mean\n",
       "  that the widgets JavaScript is still loading. If this message persists, it\n",
       "  likely means that the widgets JavaScript library is either not installed or\n",
       "  not enabled. See the <a href=\"https://ipywidgets.readthedocs.io/en/stable/user_install.html\">Jupyter\n",
       "  Widgets Documentation</a> for setup instructions.\n",
       "</p>\n",
       "<p>\n",
       "  If you're reading this message in another notebook frontend (for example, a static\n",
       "  rendering on GitHub or <a href=\"https://nbviewer.jupyter.org/\">NBViewer</a>),\n",
       "  it may mean that your frontend doesn't currently support widgets.\n",
       "</p>\n"
      ],
      "text/plain": [
       "HBox(children=(IntProgress(value=0, max=80), HTML(value='')))"
      ]
     },
     "metadata": {},
     "output_type": "display_data"
    },
    {
     "name": "stdout",
     "output_type": "stream",
     "text": [
      "\n",
      "After processing, the data occupies 0.29543736204504967 GB memory.\n"
     ]
    },
    {
     "name": "stderr",
     "output_type": "stream",
     "text": [
      "\n",
      " 83%|████████▎ | 5/6 [02:56<00:35, 35.21s/it]\u001b[A\n",
      " 50%|█████     | 3/6 [01:24<01:24, 28.21s/it]\u001b[A\n",
      "100%|██████████| 6/6 [03:42<00:00, 37.16s/it]\u001b[A\n",
      "\u001b[A"
     ]
    },
    {
     "name": "stdout",
     "output_type": "stream",
     "text": [
      "Original data occupies 1.1794438138604164 GB memory.\n"
     ]
    },
    {
     "data": {
      "application/vnd.jupyter.widget-view+json": {
       "model_id": "d0f27003a891445e81f73ee23989835c",
       "version_major": 2,
       "version_minor": 0
      },
      "text/html": [
       "<p>Failed to display Jupyter Widget of type <code>HBox</code>.</p>\n",
       "<p>\n",
       "  If you're reading this message in Jupyter Notebook or JupyterLab, it may mean\n",
       "  that the widgets JavaScript is still loading. If this message persists, it\n",
       "  likely means that the widgets JavaScript library is either not installed or\n",
       "  not enabled. See the <a href=\"https://ipywidgets.readthedocs.io/en/stable/user_install.html\">Jupyter\n",
       "  Widgets Documentation</a> for setup instructions.\n",
       "</p>\n",
       "<p>\n",
       "  If you're reading this message in another notebook frontend (for example, a static\n",
       "  rendering on GitHub or <a href=\"https://nbviewer.jupyter.org/\">NBViewer</a>),\n",
       "  it may mean that your frontend doesn't currently support widgets.\n",
       "</p>\n"
      ],
      "text/plain": [
       "HBox(children=(IntProgress(value=0, max=80), HTML(value='')))"
      ]
     },
     "metadata": {},
     "output_type": "display_data"
    },
    {
     "name": "stdout",
     "output_type": "stream",
     "text": [
      "\n",
      "After processing, the data occupies 0.3312635403126478 GB memory.\n"
     ]
    },
    {
     "name": "stderr",
     "output_type": "stream",
     "text": [
      "\n",
      "100%|██████████| 6/6 [05:26<00:00, 54.50s/it]\u001b[A\n",
      "\u001b[A"
     ]
    },
    {
     "name": "stdout",
     "output_type": "stream",
     "text": [
      "Original data occupies 0.3070472180843353 GB memory.\n"
     ]
    },
    {
     "data": {
      "application/vnd.jupyter.widget-view+json": {
       "model_id": "bf951ab001604b7da698178585b40eb4",
       "version_major": 2,
       "version_minor": 0
      },
      "text/html": [
       "<p>Failed to display Jupyter Widget of type <code>HBox</code>.</p>\n",
       "<p>\n",
       "  If you're reading this message in Jupyter Notebook or JupyterLab, it may mean\n",
       "  that the widgets JavaScript is still loading. If this message persists, it\n",
       "  likely means that the widgets JavaScript library is either not installed or\n",
       "  not enabled. See the <a href=\"https://ipywidgets.readthedocs.io/en/stable/user_install.html\">Jupyter\n",
       "  Widgets Documentation</a> for setup instructions.\n",
       "</p>\n",
       "<p>\n",
       "  If you're reading this message in another notebook frontend (for example, a static\n",
       "  rendering on GitHub or <a href=\"https://nbviewer.jupyter.org/\">NBViewer</a>),\n",
       "  it may mean that your frontend doesn't currently support widgets.\n",
       "</p>\n"
      ],
      "text/plain": [
       "HBox(children=(IntProgress(value=0, max=80), HTML(value='')))"
      ]
     },
     "metadata": {},
     "output_type": "display_data"
    },
    {
     "name": "stdout",
     "output_type": "stream",
     "text": [
      "\n",
      "After processing, the data occupies 0.08529089391231537 GB memory.\n"
     ]
    },
    {
     "name": "stderr",
     "output_type": "stream",
     "text": [
      "\n",
      " 67%|██████▋   | 4/6 [02:43<01:21, 40.90s/it]\u001b[A\n",
      "100%|██████████| 6/6 [04:40<00:00, 46.67s/it]\u001b[A\n",
      "\u001b[A"
     ]
    },
    {
     "name": "stdout",
     "output_type": "stream",
     "text": [
      "Original data occupies 1.484133169054985 GB memory.\n"
     ]
    },
    {
     "data": {
      "application/vnd.jupyter.widget-view+json": {
       "model_id": "79830da4eb12461e9529fd24e495b96c",
       "version_major": 2,
       "version_minor": 0
      },
      "text/html": [
       "<p>Failed to display Jupyter Widget of type <code>HBox</code>.</p>\n",
       "<p>\n",
       "  If you're reading this message in Jupyter Notebook or JupyterLab, it may mean\n",
       "  that the widgets JavaScript is still loading. If this message persists, it\n",
       "  likely means that the widgets JavaScript library is either not installed or\n",
       "  not enabled. See the <a href=\"https://ipywidgets.readthedocs.io/en/stable/user_install.html\">Jupyter\n",
       "  Widgets Documentation</a> for setup instructions.\n",
       "</p>\n",
       "<p>\n",
       "  If you're reading this message in another notebook frontend (for example, a static\n",
       "  rendering on GitHub or <a href=\"https://nbviewer.jupyter.org/\">NBViewer</a>),\n",
       "  it may mean that your frontend doesn't currently support widgets.\n",
       "</p>\n"
      ],
      "text/plain": [
       "HBox(children=(IntProgress(value=0, max=80), HTML(value='')))"
      ]
     },
     "metadata": {},
     "output_type": "display_data"
    },
    {
     "name": "stdout",
     "output_type": "stream",
     "text": [
      "\n",
      "After processing, the data occupies 0.4168398715555668 GB memory.\n"
     ]
    },
    {
     "name": "stderr",
     "output_type": "stream",
     "text": [
      "\n",
      " 83%|████████▎ | 5/6 [04:42<00:56, 56.55s/it]\u001b[A\n",
      "100%|██████████| 6/6 [07:24<00:00, 74.08s/it]\u001b[A\n",
      "\u001b[A"
     ]
    },
    {
     "name": "stdout",
     "output_type": "stream",
     "text": [
      "Original data occupies 2.241312526166439 GB memory.\n"
     ]
    },
    {
     "data": {
      "application/vnd.jupyter.widget-view+json": {
       "model_id": "53a92feba7444ea48e17c3b4697bcb4d",
       "version_major": 2,
       "version_minor": 0
      },
      "text/html": [
       "<p>Failed to display Jupyter Widget of type <code>HBox</code>.</p>\n",
       "<p>\n",
       "  If you're reading this message in Jupyter Notebook or JupyterLab, it may mean\n",
       "  that the widgets JavaScript is still loading. If this message persists, it\n",
       "  likely means that the widgets JavaScript library is either not installed or\n",
       "  not enabled. See the <a href=\"https://ipywidgets.readthedocs.io/en/stable/user_install.html\">Jupyter\n",
       "  Widgets Documentation</a> for setup instructions.\n",
       "</p>\n",
       "<p>\n",
       "  If you're reading this message in another notebook frontend (for example, a static\n",
       "  rendering on GitHub or <a href=\"https://nbviewer.jupyter.org/\">NBViewer</a>),\n",
       "  it may mean that your frontend doesn't currently support widgets.\n",
       "</p>\n"
      ],
      "text/plain": [
       "HBox(children=(IntProgress(value=0, max=80), HTML(value='')))"
      ]
     },
     "metadata": {},
     "output_type": "display_data"
    },
    {
     "name": "stdout",
     "output_type": "stream",
     "text": [
      "\n",
      "After processing, the data occupies 0.629504444077611 GB memory.\n"
     ]
    },
    {
     "data": {
      "application/vnd.jupyter.widget-view+json": {
       "model_id": "4dd940c1a34e422e83ad79ba9212cb18",
       "version_major": 2,
       "version_minor": 0
      },
      "text/html": [
       "<p>Failed to display Jupyter Widget of type <code>HBox</code>.</p>\n",
       "<p>\n",
       "  If you're reading this message in Jupyter Notebook or JupyterLab, it may mean\n",
       "  that the widgets JavaScript is still loading. If this message persists, it\n",
       "  likely means that the widgets JavaScript library is either not installed or\n",
       "  not enabled. See the <a href=\"https://ipywidgets.readthedocs.io/en/stable/user_install.html\">Jupyter\n",
       "  Widgets Documentation</a> for setup instructions.\n",
       "</p>\n",
       "<p>\n",
       "  If you're reading this message in another notebook frontend (for example, a static\n",
       "  rendering on GitHub or <a href=\"https://nbviewer.jupyter.org/\">NBViewer</a>),\n",
       "  it may mean that your frontend doesn't currently support widgets.\n",
       "</p>\n"
      ],
      "text/plain": [
       "HBox(children=(IntProgress(value=0, max=11), HTML(value='')))"
      ]
     },
     "metadata": {},
     "output_type": "display_data"
    },
    {
     "name": "stdout",
     "output_type": "stream",
     "text": [
      "\n",
      "CPU times: user 30.8 s, sys: 57.8 s, total: 1min 28s\n",
      "Wall time: 12min 51s\n"
     ]
    }
   ],
   "source": [
    "%%time\n",
    "res = parmap(get_ucs_parallel,user_indexs, nprocs=10) \n",
    "ucs_fea_test = None\n",
    "for i in tqdm_notebook(range(len(res))):\n",
    "    if i == 0:\n",
    "        ucs_fea_test = res[0]\n",
    "    else:\n",
    "        ucs_fea_test = pd.concat([ucs_fea_test,res[i]], axis=0, ignore_index=True)\n",
    "# joblib.dump(ucs_fea_test,        path+ '/cache/ucs_fea_test.jl.z') "
   ]
  },
  {
   "cell_type": "markdown",
   "metadata": {},
   "source": [
    "#### user +cate特征提取"
   ]
  },
  {
   "cell_type": "code",
   "execution_count": 145,
   "metadata": {
    "scrolled": true
   },
   "outputs": [
    {
     "name": "stdout",
     "output_type": "stream",
     "text": [
      "shift\n",
      "shift\n",
      "shift\n",
      "shift\n",
      "shift\n",
      "shift\n",
      "shift\n",
      "shift\n",
      "shift\n"
     ]
    },
    {
     "name": "stderr",
     "output_type": "stream",
     "text": [
      "\n",
      "  0%|          | 0/5 [00:00<?, ?it/s]\u001b[A"
     ]
    },
    {
     "name": "stdout",
     "output_type": "stream",
     "text": [
      "shift\n"
     ]
    },
    {
     "name": "stderr",
     "output_type": "stream",
     "text": [
      "\n",
      "  0%|          | 0/5 [00:00<?, ?it/s]\u001b[A\n",
      "  0%|          | 0/5 [00:00<?, ?it/s]\u001b[A\n",
      " 20%|██        | 1/5 [00:02<00:09,  2.44s/it]\u001b[A\n",
      " 20%|██        | 1/5 [00:05<00:23,  5.92s/it]\u001b[A\n",
      " 20%|██        | 1/5 [00:02<00:10,  2.65s/it]\u001b[A\n",
      "  0%|          | 0/5 [00:00<?, ?it/s]\u001b[A\n",
      " 40%|████      | 2/5 [00:07<00:11,  3.86s/it]\u001b[A\n",
      " 20%|██        | 1/5 [00:02<00:11,  2.84s/it]\u001b[A\n",
      " 40%|████      | 2/5 [00:08<00:12,  4.18s/it]\u001b[A\n",
      " 40%|████      | 2/5 [00:08<00:13,  4.46s/it]\u001b[A\n",
      " 60%|██████    | 3/5 [00:17<00:11,  5.90s/it]\u001b[A\n",
      " 60%|██████    | 3/5 [00:18<00:12,  6.14s/it]\u001b[A\n",
      "  0%|          | 0/5 [00:00<?, ?it/s]\u001b[A\n",
      " 40%|████      | 2/5 [00:25<00:37, 12.51s/it]\u001b[A\n",
      " 20%|██        | 1/5 [00:02<00:11,  2.95s/it]\u001b[A\n",
      " 60%|██████    | 3/5 [00:19<00:12,  6.45s/it]\u001b[A\n",
      "  0%|          | 0/5 [00:00<?, ?it/s]\u001b[A\n",
      " 40%|████      | 2/5 [00:09<00:13,  4.57s/it]\u001b[A\n",
      " 20%|██        | 1/5 [00:04<00:17,  4.37s/it]\u001b[A\n",
      " 80%|████████  | 4/5 [00:35<00:08,  8.80s/it]\u001b[A\n",
      " 80%|████████  | 4/5 [00:38<00:09,  9.62s/it]\u001b[A\n",
      "  0%|          | 0/5 [00:00<?, ?it/s]\u001b[A\n",
      " 40%|████      | 2/5 [00:12<00:18,  6.13s/it]\u001b[A\n",
      " 60%|██████    | 3/5 [00:20<00:13,  6.79s/it]\u001b[A\n",
      " 80%|████████  | 4/5 [00:36<00:09,  9.07s/it]\u001b[A\n",
      " 20%|██        | 1/5 [00:05<00:22,  5.54s/it]\u001b[A\n",
      " 60%|██████    | 3/5 [00:25<00:17,  8.66s/it]\u001b[A\n",
      " 40%|████      | 2/5 [00:15<00:23,  7.72s/it]\u001b[A\n",
      "  0%|          | 0/5 [00:00<?, ?it/s]\u001b[A\n",
      " 80%|████████  | 4/5 [00:38<00:09,  9.70s/it]\u001b[A\n",
      "100%|██████████| 5/5 [01:00<00:00, 12.11s/it]\u001b[A\n",
      "\u001b[A"
     ]
    },
    {
     "name": "stdout",
     "output_type": "stream",
     "text": [
      "Original data occupies 0.1737980917096138 GB memory.\n"
     ]
    },
    {
     "data": {
      "application/vnd.jupyter.widget-view+json": {
       "model_id": "a4144135e92d4fab88e27a61d35e3365",
       "version_major": 2,
       "version_minor": 0
      },
      "text/html": [
       "<p>Failed to display Jupyter Widget of type <code>HBox</code>.</p>\n",
       "<p>\n",
       "  If you're reading this message in Jupyter Notebook or JupyterLab, it may mean\n",
       "  that the widgets JavaScript is still loading. If this message persists, it\n",
       "  likely means that the widgets JavaScript library is either not installed or\n",
       "  not enabled. See the <a href=\"https://ipywidgets.readthedocs.io/en/stable/user_install.html\">Jupyter\n",
       "  Widgets Documentation</a> for setup instructions.\n",
       "</p>\n",
       "<p>\n",
       "  If you're reading this message in another notebook frontend (for example, a static\n",
       "  rendering on GitHub or <a href=\"https://nbviewer.jupyter.org/\">NBViewer</a>),\n",
       "  it may mean that your frontend doesn't currently support widgets.\n",
       "</p>\n"
      ],
      "text/plain": [
       "HBox(children=(IntProgress(value=0, max=72), HTML(value='')))"
      ]
     },
     "metadata": {},
     "output_type": "display_data"
    },
    {
     "name": "stdout",
     "output_type": "stream",
     "text": [
      "\n",
      "After processing, the data occupies 0.04761591553688049 GB memory.\n"
     ]
    },
    {
     "name": "stderr",
     "output_type": "stream",
     "text": [
      "\n",
      " 60%|██████    | 3/5 [01:06<00:44, 22.11s/it]\u001b[A\n",
      " 20%|██        | 1/5 [00:06<00:24,  6.06s/it]\u001b[A\n",
      "100%|██████████| 5/5 [01:00<00:00, 12.07s/it]\u001b[A\n",
      "\u001b[A"
     ]
    },
    {
     "name": "stdout",
     "output_type": "stream",
     "text": [
      "Original data occupies 0.19691351801156998 GB memory.\n"
     ]
    },
    {
     "data": {
      "application/vnd.jupyter.widget-view+json": {
       "model_id": "1c8c6c1482b1449497b7d517f71ce0d2",
       "version_major": 2,
       "version_minor": 0
      },
      "text/html": [
       "<p>Failed to display Jupyter Widget of type <code>HBox</code>.</p>\n",
       "<p>\n",
       "  If you're reading this message in Jupyter Notebook or JupyterLab, it may mean\n",
       "  that the widgets JavaScript is still loading. If this message persists, it\n",
       "  likely means that the widgets JavaScript library is either not installed or\n",
       "  not enabled. See the <a href=\"https://ipywidgets.readthedocs.io/en/stable/user_install.html\">Jupyter\n",
       "  Widgets Documentation</a> for setup instructions.\n",
       "</p>\n",
       "<p>\n",
       "  If you're reading this message in another notebook frontend (for example, a static\n",
       "  rendering on GitHub or <a href=\"https://nbviewer.jupyter.org/\">NBViewer</a>),\n",
       "  it may mean that your frontend doesn't currently support widgets.\n",
       "</p>\n"
      ],
      "text/plain": [
       "HBox(children=(IntProgress(value=0, max=72), HTML(value='')))"
      ]
     },
     "metadata": {},
     "output_type": "display_data"
    },
    {
     "name": "stdout",
     "output_type": "stream",
     "text": [
      "\n",
      "After processing, the data occupies 0.05394890904426575 GB memory.\n"
     ]
    },
    {
     "name": "stderr",
     "output_type": "stream",
     "text": [
      "\n",
      " 60%|██████    | 3/5 [00:33<00:22, 11.04s/it]\u001b[A\n",
      " 40%|████      | 2/5 [00:17<00:25,  8.60s/it]\u001b[A"
     ]
    },
    {
     "name": "stdout",
     "output_type": "stream",
     "text": [
      "shift\n"
     ]
    },
    {
     "name": "stderr",
     "output_type": "stream",
     "text": [
      "\n",
      "  0%|          | 0/5 [00:00<?, ?it/s]\u001b[A\n",
      " 20%|██        | 1/5 [00:01<00:06,  1.65s/it]\u001b[A\n",
      "  0%|          | 0/5 [00:00<?, ?it/s]\u001b[A\n",
      " 80%|████████  | 4/5 [00:52<00:13, 13.00s/it]\u001b[A\n",
      " 40%|████      | 2/5 [00:04<00:07,  2.35s/it]\u001b[A\n",
      " 60%|██████    | 3/5 [00:07<00:05,  2.57s/it]\u001b[A\n",
      "100%|██████████| 5/5 [01:04<00:00, 12.82s/it]\u001b[A\n",
      "\u001b[A"
     ]
    },
    {
     "name": "stdout",
     "output_type": "stream",
     "text": [
      "Original data occupies 0.22337714582681656 GB memory.\n"
     ]
    },
    {
     "data": {
      "application/vnd.jupyter.widget-view+json": {
       "model_id": "6a26827677a44d9eac1ae5ce2556bf5e",
       "version_major": 2,
       "version_minor": 0
      },
      "text/html": [
       "<p>Failed to display Jupyter Widget of type <code>HBox</code>.</p>\n",
       "<p>\n",
       "  If you're reading this message in Jupyter Notebook or JupyterLab, it may mean\n",
       "  that the widgets JavaScript is still loading. If this message persists, it\n",
       "  likely means that the widgets JavaScript library is either not installed or\n",
       "  not enabled. See the <a href=\"https://ipywidgets.readthedocs.io/en/stable/user_install.html\">Jupyter\n",
       "  Widgets Documentation</a> for setup instructions.\n",
       "</p>\n",
       "<p>\n",
       "  If you're reading this message in another notebook frontend (for example, a static\n",
       "  rendering on GitHub or <a href=\"https://nbviewer.jupyter.org/\">NBViewer</a>),\n",
       "  it may mean that your frontend doesn't currently support widgets.\n",
       "</p>\n"
      ],
      "text/plain": [
       "HBox(children=(IntProgress(value=0, max=72), HTML(value='')))"
      ]
     },
     "metadata": {},
     "output_type": "display_data"
    },
    {
     "name": "stdout",
     "output_type": "stream",
     "text": [
      "\n"
     ]
    },
    {
     "name": "stderr",
     "output_type": "stream",
     "text": [
      "\n",
      " 20%|██        | 1/5 [00:06<00:27,  6.90s/it]\u001b[A"
     ]
    },
    {
     "name": "stdout",
     "output_type": "stream",
     "text": [
      "After processing, the data occupies 0.06119921803474426 GB memory.\n"
     ]
    },
    {
     "name": "stderr",
     "output_type": "stream",
     "text": [
      "\n",
      " 80%|████████  | 4/5 [00:10<00:02,  2.69s/it]\u001b[A\n",
      "100%|██████████| 5/5 [00:13<00:00,  2.77s/it]\u001b[A\n",
      "\u001b[A"
     ]
    },
    {
     "name": "stdout",
     "output_type": "stream",
     "text": [
      "Original data occupies 0.005862072110176086 GB memory.\n"
     ]
    },
    {
     "data": {
      "application/vnd.jupyter.widget-view+json": {
       "model_id": "559cac5d729e48b3915357c80efc9df0",
       "version_major": 2,
       "version_minor": 0
      },
      "text/html": [
       "<p>Failed to display Jupyter Widget of type <code>HBox</code>.</p>\n",
       "<p>\n",
       "  If you're reading this message in Jupyter Notebook or JupyterLab, it may mean\n",
       "  that the widgets JavaScript is still loading. If this message persists, it\n",
       "  likely means that the widgets JavaScript library is either not installed or\n",
       "  not enabled. See the <a href=\"https://ipywidgets.readthedocs.io/en/stable/user_install.html\">Jupyter\n",
       "  Widgets Documentation</a> for setup instructions.\n",
       "</p>\n",
       "<p>\n",
       "  If you're reading this message in another notebook frontend (for example, a static\n",
       "  rendering on GitHub or <a href=\"https://nbviewer.jupyter.org/\">NBViewer</a>),\n",
       "  it may mean that your frontend doesn't currently support widgets.\n",
       "</p>\n"
      ],
      "text/plain": [
       "HBox(children=(IntProgress(value=0, max=72), HTML(value='')))"
      ]
     },
     "metadata": {},
     "output_type": "display_data"
    },
    {
     "name": "stdout",
     "output_type": "stream",
     "text": [
      "\n",
      "After processing, the data occupies 0.0015558581799268723 GB memory.\n"
     ]
    },
    {
     "name": "stderr",
     "output_type": "stream",
     "text": [
      "\n",
      "100%|██████████| 5/5 [01:31<00:00, 18.23s/it]\u001b[A\n",
      "\u001b[A"
     ]
    },
    {
     "name": "stdout",
     "output_type": "stream",
     "text": [
      "Original data occupies 0.1457424908876419 GB memory.\n"
     ]
    },
    {
     "data": {
      "application/vnd.jupyter.widget-view+json": {
       "model_id": "23081697f43147afbf53c8c03a824064",
       "version_major": 2,
       "version_minor": 0
      },
      "text/html": [
       "<p>Failed to display Jupyter Widget of type <code>HBox</code>.</p>\n",
       "<p>\n",
       "  If you're reading this message in Jupyter Notebook or JupyterLab, it may mean\n",
       "  that the widgets JavaScript is still loading. If this message persists, it\n",
       "  likely means that the widgets JavaScript library is either not installed or\n",
       "  not enabled. See the <a href=\"https://ipywidgets.readthedocs.io/en/stable/user_install.html\">Jupyter\n",
       "  Widgets Documentation</a> for setup instructions.\n",
       "</p>\n",
       "<p>\n",
       "  If you're reading this message in another notebook frontend (for example, a static\n",
       "  rendering on GitHub or <a href=\"https://nbviewer.jupyter.org/\">NBViewer</a>),\n",
       "  it may mean that your frontend doesn't currently support widgets.\n",
       "</p>\n"
      ],
      "text/plain": [
       "HBox(children=(IntProgress(value=0, max=72), HTML(value='')))"
      ]
     },
     "metadata": {},
     "output_type": "display_data"
    },
    {
     "name": "stdout",
     "output_type": "stream",
     "text": [
      "\n",
      "After processing, the data occupies 0.03992944955825806 GB memory.\n"
     ]
    },
    {
     "name": "stderr",
     "output_type": "stream",
     "text": [
      "\n",
      " 60%|██████    | 3/5 [00:36<00:24, 12.14s/it]\u001b[A\n",
      " 40%|████      | 2/5 [00:19<00:29,  9.84s/it]\u001b[A\n",
      " 80%|████████  | 4/5 [01:01<00:15, 15.29s/it]\u001b[A\n",
      "100%|██████████| 5/5 [01:22<00:00, 16.56s/it]\u001b[A\n",
      "\u001b[A"
     ]
    },
    {
     "name": "stdout",
     "output_type": "stream",
     "text": [
      "Original data occupies 0.27757928520441055 GB memory.\n"
     ]
    },
    {
     "data": {
      "application/vnd.jupyter.widget-view+json": {
       "model_id": "d6babe29f2f7407eb7185487dd504ed7",
       "version_major": 2,
       "version_minor": 0
      },
      "text/html": [
       "<p>Failed to display Jupyter Widget of type <code>HBox</code>.</p>\n",
       "<p>\n",
       "  If you're reading this message in Jupyter Notebook or JupyterLab, it may mean\n",
       "  that the widgets JavaScript is still loading. If this message persists, it\n",
       "  likely means that the widgets JavaScript library is either not installed or\n",
       "  not enabled. See the <a href=\"https://ipywidgets.readthedocs.io/en/stable/user_install.html\">Jupyter\n",
       "  Widgets Documentation</a> for setup instructions.\n",
       "</p>\n",
       "<p>\n",
       "  If you're reading this message in another notebook frontend (for example, a static\n",
       "  rendering on GitHub or <a href=\"https://nbviewer.jupyter.org/\">NBViewer</a>),\n",
       "  it may mean that your frontend doesn't currently support widgets.\n",
       "</p>\n"
      ],
      "text/plain": [
       "HBox(children=(IntProgress(value=0, max=72), HTML(value='')))"
      ]
     },
     "metadata": {},
     "output_type": "display_data"
    },
    {
     "name": "stdout",
     "output_type": "stream",
     "text": [
      "\n",
      "After processing, the data occupies 0.07604911923408508 GB memory.\n"
     ]
    },
    {
     "name": "stderr",
     "output_type": "stream",
     "text": [
      "\n",
      " 60%|██████    | 3/5 [00:40<00:26, 13.38s/it]\u001b[A\n",
      " 80%|████████  | 4/5 [01:07<00:16, 16.80s/it]\u001b[A\n",
      " 80%|████████  | 4/5 [02:12<00:33, 33.18s/it]\u001b[A\n",
      "100%|██████████| 5/5 [01:37<00:00, 19.43s/it]\u001b[A\n",
      "\u001b[A"
     ]
    },
    {
     "name": "stdout",
     "output_type": "stream",
     "text": [
      "Original data occupies 0.3272741883993149 GB memory.\n"
     ]
    },
    {
     "data": {
      "application/vnd.jupyter.widget-view+json": {
       "model_id": "cc6ca5d3030948b591d374b2eea9608a",
       "version_major": 2,
       "version_minor": 0
      },
      "text/html": [
       "<p>Failed to display Jupyter Widget of type <code>HBox</code>.</p>\n",
       "<p>\n",
       "  If you're reading this message in Jupyter Notebook or JupyterLab, it may mean\n",
       "  that the widgets JavaScript is still loading. If this message persists, it\n",
       "  likely means that the widgets JavaScript library is either not installed or\n",
       "  not enabled. See the <a href=\"https://ipywidgets.readthedocs.io/en/stable/user_install.html\">Jupyter\n",
       "  Widgets Documentation</a> for setup instructions.\n",
       "</p>\n",
       "<p>\n",
       "  If you're reading this message in another notebook frontend (for example, a static\n",
       "  rendering on GitHub or <a href=\"https://nbviewer.jupyter.org/\">NBViewer</a>),\n",
       "  it may mean that your frontend doesn't currently support widgets.\n",
       "</p>\n"
      ],
      "text/plain": [
       "HBox(children=(IntProgress(value=0, max=72), HTML(value='')))"
      ]
     },
     "metadata": {},
     "output_type": "display_data"
    },
    {
     "name": "stdout",
     "output_type": "stream",
     "text": [
      "\n",
      "After processing, the data occupies 0.08966416120529175 GB memory.\n"
     ]
    },
    {
     "name": "stderr",
     "output_type": "stream",
     "text": [
      "\n",
      " 80%|████████  | 4/5 [01:13<00:18, 18.44s/it]\u001b[A\n",
      "  0%|          | 0/5 [00:00<?, ?it/s]\u001b[A\n",
      "100%|██████████| 5/5 [01:43<00:00, 20.73s/it]\u001b[A\n",
      "\u001b[A"
     ]
    },
    {
     "name": "stdout",
     "output_type": "stream",
     "text": [
      "Original data occupies 0.35019490122795105 GB memory.\n"
     ]
    },
    {
     "data": {
      "application/vnd.jupyter.widget-view+json": {
       "model_id": "6f64a595a39b4b2880a8d5c03438208f",
       "version_major": 2,
       "version_minor": 0
      },
      "text/html": [
       "<p>Failed to display Jupyter Widget of type <code>HBox</code>.</p>\n",
       "<p>\n",
       "  If you're reading this message in Jupyter Notebook or JupyterLab, it may mean\n",
       "  that the widgets JavaScript is still loading. If this message persists, it\n",
       "  likely means that the widgets JavaScript library is either not installed or\n",
       "  not enabled. See the <a href=\"https://ipywidgets.readthedocs.io/en/stable/user_install.html\">Jupyter\n",
       "  Widgets Documentation</a> for setup instructions.\n",
       "</p>\n",
       "<p>\n",
       "  If you're reading this message in another notebook frontend (for example, a static\n",
       "  rendering on GitHub or <a href=\"https://nbviewer.jupyter.org/\">NBViewer</a>),\n",
       "  it may mean that your frontend doesn't currently support widgets.\n",
       "</p>\n"
      ],
      "text/plain": [
       "HBox(children=(IntProgress(value=0, max=72), HTML(value='')))"
      ]
     },
     "metadata": {},
     "output_type": "display_data"
    },
    {
     "name": "stdout",
     "output_type": "stream",
     "text": [
      "\n",
      "After processing, the data occupies 0.09594380855560303 GB memory.\n"
     ]
    },
    {
     "name": "stderr",
     "output_type": "stream",
     "text": [
      "\n",
      " 20%|██        | 1/5 [00:10<00:41, 10.25s/it]\u001b[A\n",
      " 40%|████      | 2/5 [00:28<00:42, 14.28s/it]\u001b[A\n",
      "100%|██████████| 5/5 [01:56<00:00, 23.23s/it]\u001b[A\n",
      "\u001b[A"
     ]
    },
    {
     "name": "stdout",
     "output_type": "stream",
     "text": [
      "Original data occupies 0.4043361246585846 GB memory.\n"
     ]
    },
    {
     "data": {
      "application/vnd.jupyter.widget-view+json": {
       "model_id": "d29ac94feb0a410aad96ae6fc0c2db7d",
       "version_major": 2,
       "version_minor": 0
      },
      "text/html": [
       "<p>Failed to display Jupyter Widget of type <code>HBox</code>.</p>\n",
       "<p>\n",
       "  If you're reading this message in Jupyter Notebook or JupyterLab, it may mean\n",
       "  that the widgets JavaScript is still loading. If this message persists, it\n",
       "  likely means that the widgets JavaScript library is either not installed or\n",
       "  not enabled. See the <a href=\"https://ipywidgets.readthedocs.io/en/stable/user_install.html\">Jupyter\n",
       "  Widgets Documentation</a> for setup instructions.\n",
       "</p>\n",
       "<p>\n",
       "  If you're reading this message in another notebook frontend (for example, a static\n",
       "  rendering on GitHub or <a href=\"https://nbviewer.jupyter.org/\">NBViewer</a>),\n",
       "  it may mean that your frontend doesn't currently support widgets.\n",
       "</p>\n"
      ],
      "text/plain": [
       "HBox(children=(IntProgress(value=0, max=72), HTML(value='')))"
      ]
     },
     "metadata": {},
     "output_type": "display_data"
    },
    {
     "name": "stdout",
     "output_type": "stream",
     "text": [
      "\n",
      "After processing, the data occupies 0.11077702045440674 GB memory.\n"
     ]
    },
    {
     "name": "stderr",
     "output_type": "stream",
     "text": [
      "\n",
      "100%|██████████| 5/5 [03:19<00:00, 39.86s/it]\u001b[A\n",
      "\u001b[A"
     ]
    },
    {
     "name": "stdout",
     "output_type": "stream",
     "text": [
      "Original data occupies 0.1288214549422264 GB memory.\n"
     ]
    },
    {
     "data": {
      "application/vnd.jupyter.widget-view+json": {
       "model_id": "715ef10ab5eb42f185fbf2dad7bd871a",
       "version_major": 2,
       "version_minor": 0
      },
      "text/html": [
       "<p>Failed to display Jupyter Widget of type <code>HBox</code>.</p>\n",
       "<p>\n",
       "  If you're reading this message in Jupyter Notebook or JupyterLab, it may mean\n",
       "  that the widgets JavaScript is still loading. If this message persists, it\n",
       "  likely means that the widgets JavaScript library is either not installed or\n",
       "  not enabled. See the <a href=\"https://ipywidgets.readthedocs.io/en/stable/user_install.html\">Jupyter\n",
       "  Widgets Documentation</a> for setup instructions.\n",
       "</p>\n",
       "<p>\n",
       "  If you're reading this message in another notebook frontend (for example, a static\n",
       "  rendering on GitHub or <a href=\"https://nbviewer.jupyter.org/\">NBViewer</a>),\n",
       "  it may mean that your frontend doesn't currently support widgets.\n",
       "</p>\n"
      ],
      "text/plain": [
       "HBox(children=(IntProgress(value=0, max=72), HTML(value='')))"
      ]
     },
     "metadata": {},
     "output_type": "display_data"
    },
    {
     "name": "stdout",
     "output_type": "stream",
     "text": [
      "\n",
      "After processing, the data occupies 0.036175888031721115 GB memory.\n"
     ]
    },
    {
     "name": "stderr",
     "output_type": "stream",
     "text": [
      "\n",
      " 60%|██████    | 3/5 [00:57<00:38, 19.07s/it]\u001b[A\n",
      " 80%|████████  | 4/5 [01:42<00:25, 25.55s/it]\u001b[A\n",
      "100%|██████████| 5/5 [02:40<00:00, 32.17s/it]\u001b[A\n",
      "\u001b[A"
     ]
    },
    {
     "name": "stdout",
     "output_type": "stream",
     "text": [
      "Original data occupies 0.5020175650715828 GB memory.\n"
     ]
    },
    {
     "data": {
      "application/vnd.jupyter.widget-view+json": {
       "model_id": "acf1e12c3c004f6f933b00489fb58eff",
       "version_major": 2,
       "version_minor": 0
      },
      "text/html": [
       "<p>Failed to display Jupyter Widget of type <code>HBox</code>.</p>\n",
       "<p>\n",
       "  If you're reading this message in Jupyter Notebook or JupyterLab, it may mean\n",
       "  that the widgets JavaScript is still loading. If this message persists, it\n",
       "  likely means that the widgets JavaScript library is either not installed or\n",
       "  not enabled. See the <a href=\"https://ipywidgets.readthedocs.io/en/stable/user_install.html\">Jupyter\n",
       "  Widgets Documentation</a> for setup instructions.\n",
       "</p>\n",
       "<p>\n",
       "  If you're reading this message in another notebook frontend (for example, a static\n",
       "  rendering on GitHub or <a href=\"https://nbviewer.jupyter.org/\">NBViewer</a>),\n",
       "  it may mean that your frontend doesn't currently support widgets.\n",
       "</p>\n"
      ],
      "text/plain": [
       "HBox(children=(IntProgress(value=0, max=72), HTML(value='')))"
      ]
     },
     "metadata": {},
     "output_type": "display_data"
    },
    {
     "name": "stdout",
     "output_type": "stream",
     "text": [
      "\n",
      "After processing, the data occupies 0.1375390589237213 GB memory.\n"
     ]
    },
    {
     "data": {
      "application/vnd.jupyter.widget-view+json": {
       "model_id": "6dd221cd8e194291856f5bea240080a7",
       "version_major": 2,
       "version_minor": 0
      },
      "text/html": [
       "<p>Failed to display Jupyter Widget of type <code>HBox</code>.</p>\n",
       "<p>\n",
       "  If you're reading this message in Jupyter Notebook or JupyterLab, it may mean\n",
       "  that the widgets JavaScript is still loading. If this message persists, it\n",
       "  likely means that the widgets JavaScript library is either not installed or\n",
       "  not enabled. See the <a href=\"https://ipywidgets.readthedocs.io/en/stable/user_install.html\">Jupyter\n",
       "  Widgets Documentation</a> for setup instructions.\n",
       "</p>\n",
       "<p>\n",
       "  If you're reading this message in another notebook frontend (for example, a static\n",
       "  rendering on GitHub or <a href=\"https://nbviewer.jupyter.org/\">NBViewer</a>),\n",
       "  it may mean that your frontend doesn't currently support widgets.\n",
       "</p>\n"
      ],
      "text/plain": [
       "HBox(children=(IntProgress(value=0, max=11), HTML(value='')))"
      ]
     },
     "metadata": {},
     "output_type": "display_data"
    },
    {
     "name": "stdout",
     "output_type": "stream",
     "text": [
      "\n"
     ]
    }
   ],
   "source": [
    "res = parmap(get_uc_parallel,user_indexs, nprocs=10)  \n",
    "uc_fea_test = None\n",
    "for i in tqdm_notebook(range(len(res))):\n",
    "    if i == 0:\n",
    "        uc_fea_test = res[0]\n",
    "    else:\n",
    "        uc_fea_test = pd.concat([uc_fea_test, res[i]], axis=0, ignore_index=True)\n",
    "# joblib.dump(uc_fea_test,        path+ '/cache/uc_fea_test.jl.z') "
   ]
  },
  {
   "cell_type": "markdown",
   "metadata": {},
   "source": [
    "#### user 特征提取"
   ]
  },
  {
   "cell_type": "code",
   "execution_count": 146,
   "metadata": {
    "scrolled": true
   },
   "outputs": [
    {
     "name": "stderr",
     "output_type": "stream",
     "text": [
      "\n",
      "  0%|          | 0/7 [00:00<?, ?it/s]\u001b[A"
     ]
    },
    {
     "name": "stdout",
     "output_type": "stream",
     "text": [
      "2018-04-14 00:00:00\n"
     ]
    },
    {
     "name": "stderr",
     "output_type": "stream",
     "text": [
      "\n",
      " 14%|█▍        | 1/7 [00:00<00:04,  1.38it/s]\u001b[A"
     ]
    },
    {
     "name": "stdout",
     "output_type": "stream",
     "text": [
      "2018-04-12 00:00:00\n"
     ]
    },
    {
     "name": "stderr",
     "output_type": "stream",
     "text": [
      "\n",
      " 29%|██▊       | 2/7 [00:01<00:04,  1.18it/s]\u001b[A"
     ]
    },
    {
     "name": "stdout",
     "output_type": "stream",
     "text": [
      "2018-04-10 00:00:00\n"
     ]
    },
    {
     "name": "stderr",
     "output_type": "stream",
     "text": [
      "\n",
      " 43%|████▎     | 3/7 [00:02<00:03,  1.03it/s]\u001b[A"
     ]
    },
    {
     "name": "stdout",
     "output_type": "stream",
     "text": [
      "2018-04-08 00:00:00\n"
     ]
    },
    {
     "name": "stderr",
     "output_type": "stream",
     "text": [
      "\n",
      " 57%|█████▋    | 4/7 [00:04<00:03,  1.12s/it]\u001b[A"
     ]
    },
    {
     "name": "stdout",
     "output_type": "stream",
     "text": [
      "2018-03-31 00:00:00\n"
     ]
    },
    {
     "name": "stderr",
     "output_type": "stream",
     "text": [
      "\n",
      " 71%|███████▏  | 5/7 [00:07<00:02,  1.41s/it]\u001b[A"
     ]
    },
    {
     "name": "stdout",
     "output_type": "stream",
     "text": [
      "2018-03-16 00:00:00\n"
     ]
    },
    {
     "name": "stderr",
     "output_type": "stream",
     "text": [
      "\n",
      " 86%|████████▌ | 6/7 [00:11<00:01,  1.97s/it]\u001b[A"
     ]
    },
    {
     "name": "stdout",
     "output_type": "stream",
     "text": [
      "2015-07-20 00:00:00\n"
     ]
    },
    {
     "name": "stderr",
     "output_type": "stream",
     "text": [
      "\n",
      "100%|██████████| 7/7 [00:25<00:00,  3.60s/it]\u001b[A\n",
      "\u001b[A"
     ]
    }
   ],
   "source": [
    "u_fea_test  = gen_action_freq_feats(df_test_fea, datetime.datetime(2018, 4, 15))"
   ]
  },
  {
   "cell_type": "markdown",
   "metadata": {},
   "source": [
    "## shop特征\n",
    "### shop的meta特征 "
   ]
  },
  {
   "cell_type": "code",
   "execution_count": 225,
   "metadata": {
    "scrolled": true
   },
   "outputs": [],
   "source": [
    "def gen_shopmeta_feats(df_product, df_shop, st): \n",
    "    df_product['cate']                = df_product['cate'].fillna(-1)\n",
    "    df_shop['cate']                   = df_shop['cate'].fillna(-1)\n",
    "     \n",
    "    df_shop_fea                          = df_shop.copy()\n",
    "    df_shop_fea['fans_num_div_vip_num']  = df_shop_fea['fans_num'] / df_shop_fea['vip_num']\n",
    "    \n",
    "    df_shop_fea['shop_reg_tm']           = pd.to_datetime(df_shop_fea['shop_reg_tm'])\n",
    "    df_shop_fea['shop_reg_year']         = df_shop_fea['shop_reg_tm'].dt.year\n",
    "    df_shop_fea['shop_reg_month']        = df_shop_fea['shop_reg_tm'].dt.month\n",
    "    \n",
    "    df_shop_fea['shop_reg_month_to_now'] = st - df_shop_fea['shop_reg_tm']\n",
    "    df_shop_fea['shop_reg_month_to_now'] = df_shop_fea['shop_reg_month_to_now'].dt.seconds \n",
    "    \n",
    "    del df_shop_fea['shop_reg_tm']\n",
    "    \n",
    "    \n",
    "    # df_shop #\n",
    "    for col in ['cate','vender_id']: \n",
    "        dic_                                =  df_shop[col].value_counts().to_dict()\n",
    "        df_shop_fea['{}_cnt'.format(col)]   =  df_shop_fea[col].map(dic_).values \n",
    "        \n",
    "    for col in ['fans_num','shop_score','vip_num']: \n",
    "        dic_                                      =  df_shop.groupby('cate')[col].mean().to_dict()\n",
    "        df_shop_fea['cate_{}_mean'.format(col)]   =  df_shop_fea[col].map(dic_).values \n",
    "    \n",
    "    \n",
    "    # df_product #\n",
    "    for col in ['sku_id','brand']: \n",
    "        dic_                                            =  df_product.groupby('shop_id')[col].nunique()\n",
    "        df_shop_fea['shop_id_{}_nunique'.format(col)]   =  df_shop_fea['shop_id'].map(dic_).values \n",
    "        \n",
    "    for col in ['sku_id','brand']: \n",
    "        dic_                                            =  df_product.groupby('cate')[col].nunique()\n",
    "        df_shop_fea['cate_{}_nunique'.format(col)]   =  df_shop_fea['cate'].map(dic_).values \n",
    "    \n",
    "    df_shop_fea = memory_preprocess._memory_process(df_shop_fea)\n",
    "    del df_shop_fea['cate']\n",
    "    return df_shop_fea"
   ]
  },
  {
   "cell_type": "markdown",
   "metadata": {},
   "source": [
    "### 训练集&验证集&测试集特征提取"
   ]
  },
  {
   "cell_type": "code",
   "execution_count": 226,
   "metadata": {
    "scrolled": true
   },
   "outputs": [
    {
     "name": "stdout",
     "output_type": "stream",
     "text": [
      "Original data occupies 0.0014721676707267761 GB memory.\n"
     ]
    },
    {
     "data": {
      "application/vnd.jupyter.widget-view+json": {
       "model_id": "4c4816cf0f504a2c85e852ed896c5255",
       "version_major": 2,
       "version_minor": 0
      },
      "text/html": [
       "<p>Failed to display Jupyter Widget of type <code>HBox</code>.</p>\n",
       "<p>\n",
       "  If you're reading this message in Jupyter Notebook or JupyterLab, it may mean\n",
       "  that the widgets JavaScript is still loading. If this message persists, it\n",
       "  likely means that the widgets JavaScript library is either not installed or\n",
       "  not enabled. See the <a href=\"https://ipywidgets.readthedocs.io/en/stable/user_install.html\">Jupyter\n",
       "  Widgets Documentation</a> for setup instructions.\n",
       "</p>\n",
       "<p>\n",
       "  If you're reading this message in another notebook frontend (for example, a static\n",
       "  rendering on GitHub or <a href=\"https://nbviewer.jupyter.org/\">NBViewer</a>),\n",
       "  it may mean that your frontend doesn't currently support widgets.\n",
       "</p>\n"
      ],
      "text/plain": [
       "HBox(children=(IntProgress(value=0, max=19), HTML(value='')))"
      ]
     },
     "metadata": {},
     "output_type": "display_data"
    },
    {
     "name": "stdout",
     "output_type": "stream",
     "text": [
      "\n",
      "After processing, the data occupies 0.0006199032068252563 GB memory.\n",
      "Original data occupies 0.0014721676707267761 GB memory.\n"
     ]
    },
    {
     "data": {
      "application/vnd.jupyter.widget-view+json": {
       "model_id": "353d76ae31dd4569b89be49c52d385db",
       "version_major": 2,
       "version_minor": 0
      },
      "text/html": [
       "<p>Failed to display Jupyter Widget of type <code>HBox</code>.</p>\n",
       "<p>\n",
       "  If you're reading this message in Jupyter Notebook or JupyterLab, it may mean\n",
       "  that the widgets JavaScript is still loading. If this message persists, it\n",
       "  likely means that the widgets JavaScript library is either not installed or\n",
       "  not enabled. See the <a href=\"https://ipywidgets.readthedocs.io/en/stable/user_install.html\">Jupyter\n",
       "  Widgets Documentation</a> for setup instructions.\n",
       "</p>\n",
       "<p>\n",
       "  If you're reading this message in another notebook frontend (for example, a static\n",
       "  rendering on GitHub or <a href=\"https://nbviewer.jupyter.org/\">NBViewer</a>),\n",
       "  it may mean that your frontend doesn't currently support widgets.\n",
       "</p>\n"
      ],
      "text/plain": [
       "HBox(children=(IntProgress(value=0, max=19), HTML(value='')))"
      ]
     },
     "metadata": {},
     "output_type": "display_data"
    },
    {
     "name": "stdout",
     "output_type": "stream",
     "text": [
      "\n",
      "After processing, the data occupies 0.0006199032068252563 GB memory.\n"
     ]
    }
   ],
   "source": [
    "shop_fea_train1 = gen_shopmeta_feats(jdata_product,jdata_shop,  datetime.datetime(2018, 4, 1))\n",
    "shop_fea_val1   = gen_shopmeta_feats(jdata_product,jdata_shop, datetime.datetime(2018, 4, 8))\n",
    "shop_fea_test   = gen_shopmeta_feats(jdata_product,jdata_shop, datetime.datetime(2018, 4, 15))"
   ]
  },
  {
   "cell_type": "markdown",
   "metadata": {},
   "source": [
    "# 模型训练&测试:0.058左右\n",
    "- 训练集的数据是用来进行线下验证的；\n",
    "- 此处我们只用验证集的数据进行训练并对测试集进行预测。\n"
   ]
  },
  {
   "cell_type": "code",
   "execution_count": 336,
   "metadata": {},
   "outputs": [],
   "source": [
    "%%time\n",
    "ucs_fea_cols   = [col for col in ucs_fea_val.columns if col not in ['user_cate_shop_id']]\n",
    "uc_fea_cols    = [col for col in uc_fea_val.columns if col not in ['user_cate']]\n",
    "u_fea_cols1    = [col for col in u_fea_val1.columns if col not in ['user_id']]  \n",
    "u_fea_cols2    = [col for col in jdata_user.columns if col not in ['user_id']]  \n",
    "s_fea_cols     = [col for col in shop_fea_train1.columns if col not in ['shop_id','cate']]  \n",
    "main_cols         =  ['user_id','cate','shop_id']\n",
    "train_cols        = main_cols + ucs_fea_cols + uc_fea_cols + u_fea_cols1 + u_fea_cols2 + s_fea_cols\n",
    "train_cols.remove('user_reg_tm')\n",
    "label_col         = 'label'\n",
    "\n",
    " \n",
    "df_valid_label['user_cate'] = df_valid_label['user_id'].astype(str) +'_' +  df_valid_label['cate'].astype(str)\n",
    "df_val            =  df_valid_label.merge(ucs_fea_val, on ='user_cate_shop_id', how='left') \n",
    "df_val            =  df_val.merge(uc_fea_val, on ='user_cate', how='left') \n",
    "df_val            =  df_val.merge(u_fea_val1, on ='user_id', how='left') \n",
    "df_val            =  df_val.merge(shop_fea_val1, on ='shop_id', how='left') \n",
    "df_val            =  df_val.merge(jdata_user, on ='user_id', how='left')  \n",
    "\n",
    "df_val['label']   =  df_val['label_cnt'] > 0\n",
    "df_val['label']   =  df_val['label'].astype(int) \n",
    "\n",
    "df_label['user_cate_shop_id'] =  df_label['user_id'].astype(str)+'_' + df_label['cate'].astype(str)+ '_' + df_label['shop_id'].astype(str)\n",
    "df_label['user_cate']         =  df_label['user_id'].astype(str)+'_' + df_label['cate'].astype(str)\n",
    "\n",
    "df_test                       =  df_label.merge(ucs_fea_test, on ='user_cate_shop_id', how='left')\n",
    "df_test                       =  df_test.merge(uc_fea_test, on ='user_cate', how='left')\n",
    "df_test                       =  df_test.merge(u_fea_test, on ='user_id', how='left')  \n",
    "df_test                       =  df_test.merge(shop_fea_test, on ='shop_id', how='left')  \n",
    "df_test                       =  df_test.merge(jdata_user, on ='user_id', how='left')  "
   ]
  },
  {
   "cell_type": "code",
   "execution_count": null,
   "metadata": {},
   "outputs": [],
   "source": [
    "df_val['shop_id']   = df_val['shop_id'].astype(int) \n",
    "df_test             = df_test.loc[df_test.shop_id.isnull() == False]\n",
    "df_test['shop_id']  = df_test['shop_id'].astype(int)"
   ]
  },
  {
   "cell_type": "markdown",
   "metadata": {},
   "source": [
    "## 模型训练"
   ]
  },
  {
   "cell_type": "code",
   "execution_count": 2,
   "metadata": {},
   "outputs": [],
   "source": [
    "%%time\n",
    "eval_set = [(df_val[train_cols], df_val[label_col])]\n",
    "lgb_model = lgb.LGBMClassifier(boosting_type=\"gbdt\", num_leaves=100, reg_alpha=0, reg_lambda=0.01,\n",
    "    max_depth=-1, n_estimators=150, objective='binary',subsample=0.9, colsample_bytree=0.85, subsample_freq=1, min_child_samples = 25,\n",
    "    learning_rate=0.1, random_state=2019, metric=\"None\",n_jobs =20,) \n",
    "\n",
    "lgb_model.fit(df_val[train_cols], df_val[label_col] , eval_set = eval_set, eval_metric='auc', verbose=50, early_stopping_rounds=100)"
   ]
  },
  {
   "cell_type": "markdown",
   "metadata": {},
   "source": [
    "## 预测结果提交"
   ]
  },
  {
   "cell_type": "code",
   "execution_count": 339,
   "metadata": {},
   "outputs": [],
   "source": [
    "df_submit            = pd.DataFrame()\n",
    "pred_proba           = lgb_model.predict_proba(df_test[train_cols])[:,1]\n",
    "df_submit['user_id'] = df_test['user_id'].values\n",
    "df_submit['cate']    = df_test['cate'].values\n",
    "df_submit['shop_id'] = df_test['shop_id'].values\n",
    "df_submit['prob']    = pred_proba \n",
    "df_submit = df_submit.drop_duplicates(subset=['user_id','cate','shop_id']) \n",
    "df_submit = df_submit.loc[(df_submit.shop_id.isnull() == False) & (df_submit.cate.isnull() == False)]  \n",
    "\n",
    "df_submit_ = df_submit.loc[df_submit.prob >= 0.06].copy()\n",
    "df_submit_['shop_id'] = df_submit_['shop_id'].astype(int)\n",
    "df_submit_['cate']    = df_submit_['cate'].astype(int) \n",
    "df_submit_[['user_id','cate','shop_id']].to_csv('baseline.csv',index = None )"
   ]
  }
 ],
 "metadata": {
  "kernelspec": {
   "display_name": "Python 3",
   "language": "python",
   "name": "python3"
  },
  "language_info": {
   "codemirror_mode": {
    "name": "ipython",
    "version": 3
   },
   "file_extension": ".py",
   "mimetype": "text/x-python",
   "name": "python",
   "nbconvert_exporter": "python",
   "pygments_lexer": "ipython3",
   "version": "3.6.3"
  },
  "toc": {
   "nav_menu": {},
   "number_sections": true,
   "sideBar": true,
   "skip_h1_title": false,
   "title_cell": "Table of Contents",
   "title_sidebar": "Contents",
   "toc_cell": true,
   "toc_position": {
    "height": "calc(100% - 180px)",
    "left": "10px",
    "top": "150px",
    "width": "349px"
   },
   "toc_section_display": true,
   "toc_window_display": true
  }
 },
 "nbformat": 4,
 "nbformat_minor": 2
}
