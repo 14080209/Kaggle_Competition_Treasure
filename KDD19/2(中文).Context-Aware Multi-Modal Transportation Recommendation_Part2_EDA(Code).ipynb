{
 "cells": [
  {
   "cell_type": "markdown",
   "metadata": {
    "toc": true
   },
   "source": [
    "<h1>Table of Contents<span class=\"tocSkip\"></span></h1>\n",
    "<div class=\"toc\"><ul class=\"toc-item\"><li><span><a href=\"#工具包导入&amp;数据读取\" data-toc-modified-id=\"工具包导入&amp;数据读取-1\"><span class=\"toc-item-num\">1&nbsp;&nbsp;</span>工具包导入&amp;数据读取</a></span><ul class=\"toc-item\"><li><span><a href=\"#工具包导入\" data-toc-modified-id=\"工具包导入-1.1\"><span class=\"toc-item-num\">1.1&nbsp;&nbsp;</span>工具包导入</a></span></li><li><span><a href=\"#数据读取\" data-toc-modified-id=\"数据读取-1.2\"><span class=\"toc-item-num\">1.2&nbsp;&nbsp;</span>数据读取</a></span></li></ul></li><li><span><a href=\"#训练数据EDA\" data-toc-modified-id=\"训练数据EDA-2\"><span class=\"toc-item-num\">2&nbsp;&nbsp;</span>训练数据EDA</a></span><ul class=\"toc-item\"><li><span><a href=\"#train_queries数据集\" data-toc-modified-id=\"train_queries数据集-2.1\"><span class=\"toc-item-num\">2.1&nbsp;&nbsp;</span>train_queries数据集</a></span><ul class=\"toc-item\"><li><span><a href=\"#数据类型&amp;大小\" data-toc-modified-id=\"数据类型&amp;大小-2.1.1\"><span class=\"toc-item-num\">2.1.1&nbsp;&nbsp;</span>数据类型&amp;大小</a></span></li><li><span><a href=\"#数据缺失情况探索\" data-toc-modified-id=\"数据缺失情况探索-2.1.2\"><span class=\"toc-item-num\">2.1.2&nbsp;&nbsp;</span>数据缺失情况探索</a></span></li><li><span><a href=\"#数据nunique分布\" data-toc-modified-id=\"数据nunique分布-2.1.3\"><span class=\"toc-item-num\">2.1.3&nbsp;&nbsp;</span>数据nunique分布</a></span></li><li><span><a href=\"#o&amp;d的奇怪现象探索\" data-toc-modified-id=\"o&amp;d的奇怪现象探索-2.1.4\"><span class=\"toc-item-num\">2.1.4&nbsp;&nbsp;</span>o&amp;d的奇怪现象探索</a></span></li><li><span><a href=\"#o的可视化\" data-toc-modified-id=\"o的可视化-2.1.5\"><span class=\"toc-item-num\">2.1.5&nbsp;&nbsp;</span>o的可视化</a></span></li></ul></li><li><span><a href=\"#train_plans数据集\" data-toc-modified-id=\"train_plans数据集-2.2\"><span class=\"toc-item-num\">2.2&nbsp;&nbsp;</span>train_plans数据集</a></span><ul class=\"toc-item\"><li><span><a href=\"#数据类型&amp;大小\" data-toc-modified-id=\"数据类型&amp;大小-2.2.1\"><span class=\"toc-item-num\">2.2.1&nbsp;&nbsp;</span>数据类型&amp;大小</a></span></li><li><span><a href=\"#plans-分析\" data-toc-modified-id=\"plans-分析-2.2.2\"><span class=\"toc-item-num\">2.2.2&nbsp;&nbsp;</span>plans 分析</a></span></li><li><span><a href=\"#transport_mode猜测\" data-toc-modified-id=\"transport_mode猜测-2.2.3\"><span class=\"toc-item-num\">2.2.3&nbsp;&nbsp;</span>transport_mode猜测</a></span></li><li><span><a href=\"#细节探索\" data-toc-modified-id=\"细节探索-2.2.4\"><span class=\"toc-item-num\">2.2.4&nbsp;&nbsp;</span>细节探索</a></span></li></ul></li><li><span><a href=\"#train_clicks数据集\" data-toc-modified-id=\"train_clicks数据集-2.3\"><span class=\"toc-item-num\">2.3&nbsp;&nbsp;</span>train_clicks数据集</a></span><ul class=\"toc-item\"><li><span><a href=\"#数据类型&amp;大小\" data-toc-modified-id=\"数据类型&amp;大小-2.3.1\"><span class=\"toc-item-num\">2.3.1&nbsp;&nbsp;</span>数据类型&amp;大小</a></span></li><li><span><a href=\"#数据缺失情况探索\" data-toc-modified-id=\"数据缺失情况探索-2.3.2\"><span class=\"toc-item-num\">2.3.2&nbsp;&nbsp;</span>数据缺失情况探索</a></span></li><li><span><a href=\"#数据nunique分布\" data-toc-modified-id=\"数据nunique分布-2.3.3\"><span class=\"toc-item-num\">2.3.3&nbsp;&nbsp;</span>数据nunique分布</a></span></li><li><span><a href=\"#标签分布探索\" data-toc-modified-id=\"标签分布探索-2.3.4\"><span class=\"toc-item-num\">2.3.4&nbsp;&nbsp;</span>标签分布探索</a></span></li></ul></li><li><span><a href=\"#profiles\" data-toc-modified-id=\"profiles-2.4\"><span class=\"toc-item-num\">2.4&nbsp;&nbsp;</span>profiles</a></span><ul class=\"toc-item\"><li><span><a href=\"#数据类型&amp;大小\" data-toc-modified-id=\"数据类型&amp;大小-2.4.1\"><span class=\"toc-item-num\">2.4.1&nbsp;&nbsp;</span>数据类型&amp;大小</a></span></li><li><span><a href=\"#数据缺失情况探索\" data-toc-modified-id=\"数据缺失情况探索-2.4.2\"><span class=\"toc-item-num\">2.4.2&nbsp;&nbsp;</span>数据缺失情况探索</a></span></li><li><span><a href=\"#数据nunique分布\" data-toc-modified-id=\"数据nunique分布-2.4.3\"><span class=\"toc-item-num\">2.4.3&nbsp;&nbsp;</span>数据nunique分布</a></span></li></ul></li><li><span><a href=\"#train_clicks&amp;train_plans&amp;train_queries比较\" data-toc-modified-id=\"train_clicks&amp;train_plans&amp;train_queries比较-2.5\"><span class=\"toc-item-num\">2.5&nbsp;&nbsp;</span>train_clicks&amp;train_plans&amp;train_queries比较</a></span></li></ul></li><li><span><a href=\"#测试数据EDA\" data-toc-modified-id=\"测试数据EDA-3\"><span class=\"toc-item-num\">3&nbsp;&nbsp;</span>测试数据EDA</a></span><ul class=\"toc-item\"><li><span><a href=\"#test_queries数据集\" data-toc-modified-id=\"test_queries数据集-3.1\"><span class=\"toc-item-num\">3.1&nbsp;&nbsp;</span>test_queries数据集</a></span><ul class=\"toc-item\"><li><span><a href=\"#数据类型&amp;大小\" data-toc-modified-id=\"数据类型&amp;大小-3.1.1\"><span class=\"toc-item-num\">3.1.1&nbsp;&nbsp;</span>数据类型&amp;大小</a></span></li><li><span><a href=\"#数据缺失情况探索\" data-toc-modified-id=\"数据缺失情况探索-3.1.2\"><span class=\"toc-item-num\">3.1.2&nbsp;&nbsp;</span>数据缺失情况探索</a></span></li><li><span><a href=\"#数据nunique分布\" data-toc-modified-id=\"数据nunique分布-3.1.3\"><span class=\"toc-item-num\">3.1.3&nbsp;&nbsp;</span>数据nunique分布</a></span></li><li><span><a href=\"#测试集中位置的分布和训练集类似\" data-toc-modified-id=\"测试集中位置的分布和训练集类似-3.1.4\"><span class=\"toc-item-num\">3.1.4&nbsp;&nbsp;</span>测试集中位置的分布和训练集类似</a></span></li></ul></li><li><span><a href=\"#test_plans数据集\" data-toc-modified-id=\"test_plans数据集-3.2\"><span class=\"toc-item-num\">3.2&nbsp;&nbsp;</span>test_plans数据集</a></span><ul class=\"toc-item\"><li><span><a href=\"#数据类型&amp;大小\" data-toc-modified-id=\"数据类型&amp;大小-3.2.1\"><span class=\"toc-item-num\">3.2.1&nbsp;&nbsp;</span>数据类型&amp;大小</a></span></li><li><span><a href=\"#细节探索\" data-toc-modified-id=\"细节探索-3.2.2\"><span class=\"toc-item-num\">3.2.2&nbsp;&nbsp;</span>细节探索</a></span></li></ul></li></ul></li><li><span><a href=\"#提交格式EDA\" data-toc-modified-id=\"提交格式EDA-4\"><span class=\"toc-item-num\">4&nbsp;&nbsp;</span>提交格式EDA</a></span></li><li><span><a href=\"#小结\" data-toc-modified-id=\"小结-5\"><span class=\"toc-item-num\">5&nbsp;&nbsp;</span>小结</a></span></li></ul></div>"
   ]
  },
  {
   "cell_type": "markdown",
   "metadata": {},
   "source": [
    "# 工具包导入&数据读取\n",
    "## 工具包导入"
   ]
  },
  {
   "cell_type": "code",
   "execution_count": 1,
   "metadata": {},
   "outputs": [
    {
     "name": "stderr",
     "output_type": "stream",
     "text": [
      "/opt/conda/envs/zjpy36/lib/python3.6/site-packages/sklearn/cross_validation.py:41: DeprecationWarning: This module was deprecated in version 0.18 in favor of the model_selection module into which all the refactored classes and functions are moved. Also note that the interface of the new CV iterators are different from that of this module. This module will be removed in 0.20.\n",
      "  \"This module will be removed in 0.20.\", DeprecationWarning)\n"
     ]
    }
   ],
   "source": [
    "import numpy as np\n",
    "import pandas as pd\n",
    "import os\n",
    "import ast\n",
    "from sklearn.cluster import KMeans\n",
    "from tqdm import tqdm_notebook\n",
    "from sklearn.preprocessing import StandardScaler\n",
    "from sklearn.svm import NuSVR, SVR\n",
    "from sklearn.metrics import mean_absolute_error\n",
    "\n",
    "import lightgbm as lgb\n",
    "import xgboost as xgb\n",
    "import time\n",
    "import datetime\n",
    "from catboost import CatBoostRegressor\n",
    "from sklearn.preprocessing import LabelEncoder\n",
    "from sklearn.model_selection import StratifiedKFold, KFold, RepeatedKFold\n",
    "from sklearn.metrics import mean_absolute_error\n",
    "from sklearn.linear_model import LinearRegression\n",
    "import gc\n",
    "\n",
    "from scipy.signal import hilbert\n",
    "from scipy.signal import hann\n",
    "from scipy.signal import convolve\n",
    "from scipy import stats\n",
    "from sklearn.kernel_ridge import KernelRidge\n",
    "\n",
    "import seaborn as sns\n",
    "import matplotlib.pyplot as plt\n",
    "from tqdm import tqdm\n",
    "%matplotlib inline\n",
    "\n",
    "import warnings\n",
    "warnings.filterwarnings(\"ignore\")\n",
    "# pd.options.display.precision = 15"
   ]
  },
  {
   "cell_type": "markdown",
   "metadata": {},
   "source": [
    "## 数据读取"
   ]
  },
  {
   "cell_type": "code",
   "execution_count": 2,
   "metadata": {},
   "outputs": [],
   "source": [
    "path = '/data/Data_JieZhang/KDD/'\n",
    "\n",
    "train_queries = pd.read_csv(path + 'train_queries.csv')\n",
    "train_plans   = pd.read_csv(path + 'train_plans.csv')\n",
    "train_clicks  = pd.read_csv(path + 'train_clicks.csv')\n",
    "profiles      = pd.read_csv(path + 'profiles.csv') \n",
    "\n",
    "test_queries  = pd.read_csv(path + 'test_queries.csv')\n",
    "test_plans    = pd.read_csv(path + 'test_plans.csv')"
   ]
  },
  {
   "cell_type": "markdown",
   "metadata": {},
   "source": [
    "# 训练数据EDA\n",
    "## train_queries数据集\n",
    "### 数据类型&大小\n",
    "\n",
    "1. 数据中有1个int64类型的数据和3个object类型和1个float的数据组成\n",
    "2. 整个数据集的大小有19.1+MB\n",
    "3. 数据一共有500000条记录\n",
    "\n",
    "注意下面表格中字段的含义:\n",
    "```\n",
    "sid:会话ID, \n",
    "pid:(profile)配置文件ID\n",
    "req_time：请求时间戳\n",
    "o: 原始点的坐标\n",
    "d: 目的地的坐标\n",
    "```"
   ]
  },
  {
   "cell_type": "code",
   "execution_count": 3,
   "metadata": {},
   "outputs": [
    {
     "data": {
      "text/html": [
       "<div>\n",
       "<style scoped>\n",
       "    .dataframe tbody tr th:only-of-type {\n",
       "        vertical-align: middle;\n",
       "    }\n",
       "\n",
       "    .dataframe tbody tr th {\n",
       "        vertical-align: top;\n",
       "    }\n",
       "\n",
       "    .dataframe thead th {\n",
       "        text-align: right;\n",
       "    }\n",
       "</style>\n",
       "<table border=\"1\" class=\"dataframe\">\n",
       "  <thead>\n",
       "    <tr style=\"text-align: right;\">\n",
       "      <th></th>\n",
       "      <th>sid</th>\n",
       "      <th>pid</th>\n",
       "      <th>req_time</th>\n",
       "      <th>o</th>\n",
       "      <th>d</th>\n",
       "    </tr>\n",
       "  </thead>\n",
       "  <tbody>\n",
       "    <tr>\n",
       "      <th>0</th>\n",
       "      <td>3000821</td>\n",
       "      <td>NaN</td>\n",
       "      <td>2018-11-02 17:54:30</td>\n",
       "      <td>116.29,39.97</td>\n",
       "      <td>116.32,39.96</td>\n",
       "    </tr>\n",
       "    <tr>\n",
       "      <th>1</th>\n",
       "      <td>3085857</td>\n",
       "      <td>210736.0</td>\n",
       "      <td>2018-11-16 10:53:10</td>\n",
       "      <td>116.39,39.84</td>\n",
       "      <td>116.33,39.79</td>\n",
       "    </tr>\n",
       "    <tr>\n",
       "      <th>2</th>\n",
       "      <td>2944522</td>\n",
       "      <td>NaN</td>\n",
       "      <td>2018-10-06 10:33:58</td>\n",
       "      <td>116.31,39.93</td>\n",
       "      <td>116.27,40.00</td>\n",
       "    </tr>\n",
       "    <tr>\n",
       "      <th>3</th>\n",
       "      <td>559931</td>\n",
       "      <td>202427.0</td>\n",
       "      <td>2018-11-23 14:54:11</td>\n",
       "      <td>116.27,39.88</td>\n",
       "      <td>116.39,39.90</td>\n",
       "    </tr>\n",
       "    <tr>\n",
       "      <th>4</th>\n",
       "      <td>2819352</td>\n",
       "      <td>172251.0</td>\n",
       "      <td>2018-10-30 11:48:41</td>\n",
       "      <td>116.34,39.96</td>\n",
       "      <td>116.37,39.86</td>\n",
       "    </tr>\n",
       "  </tbody>\n",
       "</table>\n",
       "</div>"
      ],
      "text/plain": [
       "       sid       pid             req_time             o             d\n",
       "0  3000821       NaN  2018-11-02 17:54:30  116.29,39.97  116.32,39.96\n",
       "1  3085857  210736.0  2018-11-16 10:53:10  116.39,39.84  116.33,39.79\n",
       "2  2944522       NaN  2018-10-06 10:33:58  116.31,39.93  116.27,40.00\n",
       "3   559931  202427.0  2018-11-23 14:54:11  116.27,39.88  116.39,39.90\n",
       "4  2819352  172251.0  2018-10-30 11:48:41  116.34,39.96  116.37,39.86"
      ]
     },
     "execution_count": 3,
     "metadata": {},
     "output_type": "execute_result"
    }
   ],
   "source": [
    "train_queries.head()"
   ]
  },
  {
   "cell_type": "code",
   "execution_count": 4,
   "metadata": {},
   "outputs": [
    {
     "name": "stdout",
     "output_type": "stream",
     "text": [
      "<class 'pandas.core.frame.DataFrame'>\n",
      "RangeIndex: 500000 entries, 0 to 499999\n",
      "Data columns (total 5 columns):\n",
      "sid         500000 non-null int64\n",
      "pid         336021 non-null float64\n",
      "req_time    500000 non-null object\n",
      "o           500000 non-null object\n",
      "d           500000 non-null object\n",
      "dtypes: float64(1), int64(1), object(3)\n",
      "memory usage: 19.1+ MB\n"
     ]
    }
   ],
   "source": [
    "train_queries.info()"
   ]
  },
  {
   "cell_type": "markdown",
   "metadata": {},
   "source": [
    "### 数据缺失情况探索\n",
    "1. pid存在缺失的情况,缺失了163979个,缺失比例为32.7958%\n"
   ]
  },
  {
   "cell_type": "code",
   "execution_count": 5,
   "metadata": {},
   "outputs": [
    {
     "data": {
      "text/plain": [
       "sid              0\n",
       "pid         163979\n",
       "req_time         0\n",
       "o                0\n",
       "d                0\n",
       "dtype: int64"
      ]
     },
     "execution_count": 5,
     "metadata": {},
     "output_type": "execute_result"
    }
   ],
   "source": [
    "train_queries.isnull().sum()"
   ]
  },
  {
   "cell_type": "code",
   "execution_count": 6,
   "metadata": {},
   "outputs": [
    {
     "data": {
      "text/plain": [
       "0.327958"
      ]
     },
     "execution_count": 6,
     "metadata": {},
     "output_type": "execute_result"
    }
   ],
   "source": [
    "163979 / train_queries.shape[0]"
   ]
  },
  {
   "cell_type": "markdown",
   "metadata": {},
   "source": [
    "### 数据nunique分布\n",
    "1. sid的是唯一的,\n",
    "2. pid占据了9.23%\n",
    "3. o和d占据了1%左右,很奇怪的现象,应该是相同地点搜路线的用户很多,相同目的地的用户也很多"
   ]
  },
  {
   "cell_type": "code",
   "execution_count": 7,
   "metadata": {},
   "outputs": [
    {
     "data": {
      "text/plain": [
       "sid         1.000000\n",
       "pid         0.092382\n",
       "req_time    0.928422\n",
       "o           0.010920\n",
       "d           0.009846\n",
       "dtype: float64"
      ]
     },
     "execution_count": 7,
     "metadata": {},
     "output_type": "execute_result"
    }
   ],
   "source": [
    "train_queries.nunique() / train_queries.shape[0]"
   ]
  },
  {
   "cell_type": "markdown",
   "metadata": {},
   "source": [
    "### o&d的奇怪现象探索\n",
    "\n",
    "- 我们发现o中最多的是(116.37,39.86),这个地址是北京市昌平区生命园路1号,貌似是医院。\n",
    "\n",
    "![](./pic/original_most.png)"
   ]
  },
  {
   "cell_type": "code",
   "execution_count": 67,
   "metadata": {
    "scrolled": true
   },
   "outputs": [
    {
     "data": {
      "text/plain": [
       "116.37,39.86    5993\n",
       "116.32,39.89    5930\n",
       "116.42,39.90    5819\n",
       "116.41,39.91    5616\n",
       "116.37,39.91    5246\n",
       "116.40,39.91    5156\n",
       "116.39,39.90    4366\n",
       "116.35,39.94    3674\n",
       "116.39,39.91    3048\n",
       "116.41,39.90    3048\n",
       "116.31,39.98    2997\n",
       "116.39,39.89    2953\n",
       "116.39,39.94    2834\n",
       "116.40,39.93    2662\n",
       "116.43,39.94    2660\n",
       "116.31,39.89    2615\n",
       "116.47,39.91    2564\n",
       "116.41,39.92    2509\n",
       "116.39,39.92    2458\n",
       "116.45,39.93    2454\n",
       "116.33,39.99    2447\n",
       "116.45,39.91    2446\n",
       "116.30,40.05    2246\n",
       "116.45,39.92    2181\n",
       "116.35,39.91    2093\n",
       "116.32,39.90    2065\n",
       "116.37,39.95    1995\n",
       "116.42,39.84    1877\n",
       "116.43,39.92    1851\n",
       "116.39,40.00    1824\n",
       "                ... \n",
       "116.44,39.56       1\n",
       "116.06,40.21       1\n",
       "116.08,40.55       1\n",
       "117.16,40.44       1\n",
       "115.93,40.43       1\n",
       "116.37,39.64       1\n",
       "116.22,40.57       1\n",
       "116.19,39.98       1\n",
       "116.76,39.68       1\n",
       "116.48,39.64       1\n",
       "116.72,40.78       1\n",
       "117.20,40.12       1\n",
       "116.43,39.54       1\n",
       "116.01,40.14       1\n",
       "116.33,39.52       1\n",
       "117.28,40.63       1\n",
       "116.05,39.68       1\n",
       "115.81,39.58       1\n",
       "116.71,40.38       1\n",
       "116.10,40.49       1\n",
       "116.85,39.81       1\n",
       "116.78,39.70       1\n",
       "117.24,40.69       1\n",
       "115.71,39.58       1\n",
       "116.77,40.40       1\n",
       "115.98,39.80       1\n",
       "116.74,40.34       1\n",
       "116.53,40.27       1\n",
       "116.62,39.63       1\n",
       "116.44,40.21       1\n",
       "Name: o, Length: 5460, dtype: int64"
      ]
     },
     "execution_count": 67,
     "metadata": {},
     "output_type": "execute_result"
    }
   ],
   "source": [
    "train_queries['o'].value_counts()"
   ]
  },
  {
   "cell_type": "markdown",
   "metadata": {},
   "source": [
    "### o的可视化"
   ]
  },
  {
   "cell_type": "code",
   "execution_count": 55,
   "metadata": {},
   "outputs": [],
   "source": [
    "train_queries['o_lng'] = train_queries['o'].apply(lambda x: float(x.split(',')[0]))\n",
    "train_queries['o_lat'] = train_queries['o'].apply(lambda x: float(x.split(',')[1]))\n",
    "\n",
    "id_n=8\n",
    "kmeans   = KMeans(n_clusters=id_n, random_state=0).fit(train_queries[['o_lng','o_lat']].values)\n",
    "id_label = kmeans.labels_"
   ]
  },
  {
   "cell_type": "code",
   "execution_count": 66,
   "metadata": {},
   "outputs": [
    {
     "data": {
      "image/png": "[encoded data removed]",
      "text/plain": [
       "<matplotlib.figure.Figure at 0x7ff919e16128>"
      ]
     },
     "metadata": {},
     "output_type": "display_data"
    }
   ],
   "source": [
    "#plot result\n",
    "ptsymb = np.array(['b.','r.','m.','g.','c.','k.','b*','r*','m*','r^'])\n",
    "plt.figure(figsize=(8,8))\n",
    "plt.ylabel('Longitude', fontsize=12)\n",
    "plt.xlabel('Latitude', fontsize=12)\n",
    "for i in range(id_n):\n",
    "    cluster = np.where(id_label==i)[0]\n",
    "    plt.plot(train_queries['o_lng'].values[cluster],train_queries['o_lat'].values[cluster],ptsymb[i])"
   ]
  },
  {
   "cell_type": "markdown",
   "metadata": {},
   "source": [
    "\n",
    "- 我们发现d中最多的是(116.32,39.89),(116.37,39.86)这些,这些也都是医院。\n"
   ]
  },
  {
   "cell_type": "markdown",
   "metadata": {},
   "source": [
    "![](./pic/destination_most.png)"
   ]
  },
  {
   "cell_type": "code",
   "execution_count": 9,
   "metadata": {
    "scrolled": true
   },
   "outputs": [
    {
     "data": {
      "text/plain": [
       "116.32,39.89    16503\n",
       "116.37,39.86    13124\n",
       "116.42,39.90    11256\n",
       "116.39,39.90     7575\n",
       "116.39,39.91     7571\n",
       "116.41,39.91     6348\n",
       "116.37,39.91     5665\n",
       "116.45,39.93     5357\n",
       "116.27,40.00     4222\n",
       "116.40,39.93     3782\n",
       "116.39,39.92     3704\n",
       "116.31,39.98     3445\n",
       "116.18,39.99     3431\n",
       "116.00,40.35     3376\n",
       "116.40,39.91     3135\n",
       "116.39,39.99     2914\n",
       "116.38,39.94     2869\n",
       "116.59,40.08     2867\n",
       "116.41,39.90     2699\n",
       "116.39,39.89     2677\n",
       "116.33,39.99     2564\n",
       "116.60,40.08     2527\n",
       "116.49,39.98     2491\n",
       "116.33,39.94     2482\n",
       "116.45,39.91     2463\n",
       "116.43,39.94     2367\n",
       "116.47,39.91     2362\n",
       "116.45,39.92     2279\n",
       "116.39,39.94     2264\n",
       "116.35,39.94     2081\n",
       "                ...  \n",
       "116.76,39.99        1\n",
       "116.23,40.55        1\n",
       "116.10,39.85        1\n",
       "116.03,40.16        1\n",
       "116.98,40.17        1\n",
       "116.78,40.32        1\n",
       "116.68,40.21        1\n",
       "117.24,40.66        1\n",
       "116.85,40.25        1\n",
       "116.27,40.39        1\n",
       "116.11,40.13        1\n",
       "116.66,40.44        1\n",
       "116.39,39.61        1\n",
       "116.99,40.05        1\n",
       "116.78,39.59        1\n",
       "116.65,39.78        1\n",
       "116.16,39.99        1\n",
       "117.05,40.40        1\n",
       "115.96,39.66        1\n",
       "116.48,39.68        1\n",
       "116.04,40.15        1\n",
       "116.25,39.58        1\n",
       "116.65,39.62        1\n",
       "116.95,40.37        1\n",
       "116.00,40.10        1\n",
       "116.15,40.27        1\n",
       "116.44,40.22        1\n",
       "116.72,39.66        1\n",
       "116.48,40.07        1\n",
       "116.69,40.31        1\n",
       "Name: d, Length: 4923, dtype: int64"
      ]
     },
     "execution_count": 9,
     "metadata": {},
     "output_type": "execute_result"
    }
   ],
   "source": [
    "train_queries['d'].value_counts()"
   ]
  },
  {
   "cell_type": "code",
   "execution_count": 75,
   "metadata": {},
   "outputs": [],
   "source": [
    "train_queries['d_lng'] = train_queries['d'].apply(lambda x: float(x.split(',')[0]))\n",
    "train_queries['d_lat'] = train_queries['d'].apply(lambda x: float(x.split(',')[1]))\n",
    "\n",
    "id_n=8\n",
    "kmeans   = KMeans(n_clusters=id_n, random_state=0).fit(train_queries[['d_lng','d_lat']].values)\n",
    "id_label = kmeans.labels_"
   ]
  },
  {
   "cell_type": "code",
   "execution_count": 76,
   "metadata": {},
   "outputs": [
    {
     "data": {
      "image/png": "[encoded data removed]",
      "text/plain": [
       "<matplotlib.figure.Figure at 0x7ff919b84160>"
      ]
     },
     "metadata": {},
     "output_type": "display_data"
    }
   ],
   "source": [
    "#plot result\n",
    "ptsymb = np.array(['b.','r.','m.','g.','c.','k.','b*','r*','m*','r^'])\n",
    "plt.figure(figsize=(8,8))\n",
    "plt.ylabel('Longitude', fontsize=12)\n",
    "plt.xlabel('Latitude', fontsize=12)\n",
    "for i in range(id_n):\n",
    "    cluster = np.where(id_label==i)[0]\n",
    "    plt.plot(train_queries['d_lng'].values[cluster],train_queries['d_lat'].values[cluster],ptsymb[i])"
   ]
  },
  {
   "cell_type": "markdown",
   "metadata": {},
   "source": [
    "## train_plans数据集\n",
    "### 数据类型&大小\n",
    "\n",
    "1. 数据中有1个int64类型的数据和2个object类型\n",
    "2. 整个数据集的大小有11.2+MB\n",
    "3. 数据一共有491054条记录\n",
    "\n",
    "注意下面表格中字段的含义:\n",
    "```\n",
    "sid:会话ID, \n",
    "plan_time:一个时间戳\n",
    "plans：各种计划,计划中包含距离(distance),价格(price),以及出行方式(transport_mode)估计到达的时间(ETA)\n",
    "```"
   ]
  },
  {
   "cell_type": "code",
   "execution_count": 10,
   "metadata": {},
   "outputs": [
    {
     "data": {
      "text/html": [
       "<div>\n",
       "<style scoped>\n",
       "    .dataframe tbody tr th:only-of-type {\n",
       "        vertical-align: middle;\n",
       "    }\n",
       "\n",
       "    .dataframe tbody tr th {\n",
       "        vertical-align: top;\n",
       "    }\n",
       "\n",
       "    .dataframe thead th {\n",
       "        text-align: right;\n",
       "    }\n",
       "</style>\n",
       "<table border=\"1\" class=\"dataframe\">\n",
       "  <thead>\n",
       "    <tr style=\"text-align: right;\">\n",
       "      <th></th>\n",
       "      <th>sid</th>\n",
       "      <th>plan_time</th>\n",
       "      <th>plans</th>\n",
       "    </tr>\n",
       "  </thead>\n",
       "  <tbody>\n",
       "    <tr>\n",
       "      <th>0</th>\n",
       "      <td>1709112</td>\n",
       "      <td>2018-11-04 11:45:04</td>\n",
       "      <td>[{\"distance\": 32303, \"price\": 600, \"eta\": 5087...</td>\n",
       "    </tr>\n",
       "    <tr>\n",
       "      <th>1</th>\n",
       "      <td>3327773</td>\n",
       "      <td>2018-10-16 19:09:29</td>\n",
       "      <td>[{\"distance\": 3427, \"price\": 300, \"eta\": 627, ...</td>\n",
       "    </tr>\n",
       "    <tr>\n",
       "      <th>2</th>\n",
       "      <td>3285959</td>\n",
       "      <td>2018-11-25 15:05:22</td>\n",
       "      <td>[{\"distance\": 36234, \"price\": 1100, \"eta\": 931...</td>\n",
       "    </tr>\n",
       "    <tr>\n",
       "      <th>3</th>\n",
       "      <td>1616170</td>\n",
       "      <td>2018-10-03 14:42:40</td>\n",
       "      <td>[{\"distance\": 11450, \"price\": 400, \"eta\": 2801...</td>\n",
       "    </tr>\n",
       "    <tr>\n",
       "      <th>4</th>\n",
       "      <td>351369</td>\n",
       "      <td>2018-10-05 19:52:37</td>\n",
       "      <td>[{\"distance\": 18495, \"price\": 600, \"eta\": 4271...</td>\n",
       "    </tr>\n",
       "  </tbody>\n",
       "</table>\n",
       "</div>"
      ],
      "text/plain": [
       "       sid            plan_time  \\\n",
       "0  1709112  2018-11-04 11:45:04   \n",
       "1  3327773  2018-10-16 19:09:29   \n",
       "2  3285959  2018-11-25 15:05:22   \n",
       "3  1616170  2018-10-03 14:42:40   \n",
       "4   351369  2018-10-05 19:52:37   \n",
       "\n",
       "                                               plans  \n",
       "0  [{\"distance\": 32303, \"price\": 600, \"eta\": 5087...  \n",
       "1  [{\"distance\": 3427, \"price\": 300, \"eta\": 627, ...  \n",
       "2  [{\"distance\": 36234, \"price\": 1100, \"eta\": 931...  \n",
       "3  [{\"distance\": 11450, \"price\": 400, \"eta\": 2801...  \n",
       "4  [{\"distance\": 18495, \"price\": 600, \"eta\": 4271...  "
      ]
     },
     "execution_count": 10,
     "metadata": {},
     "output_type": "execute_result"
    }
   ],
   "source": [
    "train_plans.head()"
   ]
  },
  {
   "cell_type": "code",
   "execution_count": 11,
   "metadata": {},
   "outputs": [
    {
     "data": {
      "text/plain": [
       "'[{\"distance\": 32303, \"price\": 600, \"eta\": 5087, \"transport_mode\": 9}, {\"distance\": 33678, \"price\": \"\", \"eta\": 3149, \"transport_mode\": 3}, {\"distance\": 33678, \"price\": 10000, \"eta\": 3269, \"transport_mode\": 4}, {\"distance\": 32099, \"price\": 600, \"eta\": 5996, \"transport_mode\": 2}, {\"distance\": 30446, \"price\": 900, \"eta\": 6494, \"transport_mode\": 1}]'"
      ]
     },
     "execution_count": 11,
     "metadata": {},
     "output_type": "execute_result"
    }
   ],
   "source": [
    "train_plans['plans'].values[0]"
   ]
  },
  {
   "cell_type": "code",
   "execution_count": 12,
   "metadata": {},
   "outputs": [
    {
     "name": "stdout",
     "output_type": "stream",
     "text": [
      "<class 'pandas.core.frame.DataFrame'>\n",
      "RangeIndex: 491054 entries, 0 to 491053\n",
      "Data columns (total 3 columns):\n",
      "sid          491054 non-null int64\n",
      "plan_time    491054 non-null object\n",
      "plans        491054 non-null object\n",
      "dtypes: int64(1), object(2)\n",
      "memory usage: 11.2+ MB\n"
     ]
    }
   ],
   "source": [
    "train_plans.info()"
   ]
  },
  {
   "cell_type": "markdown",
   "metadata": {},
   "source": [
    "### plans 分析"
   ]
  },
  {
   "cell_type": "code",
   "execution_count": 83,
   "metadata": {},
   "outputs": [],
   "source": [
    "train_plans['plans'] = train_plans['plans'].apply(ast.literal_eval) \n",
    "def get_plans_info(sid_plans):\n",
    "    plans = []\n",
    "    for sid,val in tqdm(sid_plans):\n",
    "        len_val = len(val) \n",
    "        for i in range(len_val):\n",
    "            x = val[i]\n",
    "            if x['price'] == '':\n",
    "                plans.append((sid,x['transport_mode'],x['distance'],0,x['eta'],i+1))\n",
    "            else:\n",
    "                plans.append((sid,x['transport_mode'],x['distance'],x['price'],x['eta'],i+1))\n",
    "    return plans"
   ]
  },
  {
   "cell_type": "code",
   "execution_count": 88,
   "metadata": {
    "scrolled": true
   },
   "outputs": [
    {
     "name": "stderr",
     "output_type": "stream",
     "text": [
      "100%|██████████| 491054/491054 [00:02<00:00, 179066.97it/s]\n"
     ]
    }
   ],
   "source": [
    "plans = get_plans_info(train_plans[['sid','plans']].values)"
   ]
  },
  {
   "cell_type": "code",
   "execution_count": 90,
   "metadata": {},
   "outputs": [],
   "source": [
    "plans_df = pd.DataFrame(data = plans)\n",
    "plans_df.columns = ['sid', 'transport_mode', 'distance','price', 'eta', 'ranks']"
   ]
  },
  {
   "cell_type": "code",
   "execution_count": 94,
   "metadata": {},
   "outputs": [
    {
     "data": {
      "text/html": [
       "<div>\n",
       "<style scoped>\n",
       "    .dataframe tbody tr th:only-of-type {\n",
       "        vertical-align: middle;\n",
       "    }\n",
       "\n",
       "    .dataframe tbody tr th {\n",
       "        vertical-align: top;\n",
       "    }\n",
       "\n",
       "    .dataframe thead th {\n",
       "        text-align: right;\n",
       "    }\n",
       "</style>\n",
       "<table border=\"1\" class=\"dataframe\">\n",
       "  <thead>\n",
       "    <tr style=\"text-align: right;\">\n",
       "      <th></th>\n",
       "      <th>sid</th>\n",
       "      <th>transport_mode</th>\n",
       "      <th>distance</th>\n",
       "      <th>price</th>\n",
       "      <th>eta</th>\n",
       "      <th>ranks</th>\n",
       "    </tr>\n",
       "  </thead>\n",
       "  <tbody>\n",
       "    <tr>\n",
       "      <th>0</th>\n",
       "      <td>1709112</td>\n",
       "      <td>9</td>\n",
       "      <td>32303</td>\n",
       "      <td>600</td>\n",
       "      <td>5087</td>\n",
       "      <td>1</td>\n",
       "    </tr>\n",
       "    <tr>\n",
       "      <th>1</th>\n",
       "      <td>1709112</td>\n",
       "      <td>3</td>\n",
       "      <td>33678</td>\n",
       "      <td>0</td>\n",
       "      <td>3149</td>\n",
       "      <td>2</td>\n",
       "    </tr>\n",
       "    <tr>\n",
       "      <th>2</th>\n",
       "      <td>1709112</td>\n",
       "      <td>4</td>\n",
       "      <td>33678</td>\n",
       "      <td>10000</td>\n",
       "      <td>3269</td>\n",
       "      <td>3</td>\n",
       "    </tr>\n",
       "    <tr>\n",
       "      <th>3</th>\n",
       "      <td>1709112</td>\n",
       "      <td>2</td>\n",
       "      <td>32099</td>\n",
       "      <td>600</td>\n",
       "      <td>5996</td>\n",
       "      <td>4</td>\n",
       "    </tr>\n",
       "    <tr>\n",
       "      <th>4</th>\n",
       "      <td>1709112</td>\n",
       "      <td>1</td>\n",
       "      <td>30446</td>\n",
       "      <td>900</td>\n",
       "      <td>6494</td>\n",
       "      <td>5</td>\n",
       "    </tr>\n",
       "  </tbody>\n",
       "</table>\n",
       "</div>"
      ],
      "text/plain": [
       "       sid  transport_mode  distance  price   eta  ranks\n",
       "0  1709112               9     32303    600  5087      1\n",
       "1  1709112               3     33678      0  3149      2\n",
       "2  1709112               4     33678  10000  3269      3\n",
       "3  1709112               2     32099    600  5996      4\n",
       "4  1709112               1     30446    900  6494      5"
      ]
     },
     "execution_count": 94,
     "metadata": {},
     "output_type": "execute_result"
    }
   ],
   "source": [
    "plans_df.head()"
   ]
  },
  {
   "cell_type": "code",
   "execution_count": 99,
   "metadata": {},
   "outputs": [],
   "source": [
    "plans_df['speed'] = plans_df['distance'] / plans_df['eta']"
   ]
  },
  {
   "cell_type": "markdown",
   "metadata": {},
   "source": [
    "### transport_mode猜测\n",
    "- 通过推荐的价格信息以及速度信息,我们可以很容易可以猜出transport_mode应该是步行,因为我们的价格是0,而且速度是最慢的.6可能是骑自行车,因为它的速度不是很快,同时它的价格也为0;而3应该是自驾,因为它的速度非常快,因为是自己的车,所以我们不需要向外支出.\n",
    "- 2,9可能是地铁和公交之类的,因为它们对应的价格相对较低,但是速度还是挺快的。\n",
    "- ......"
   ]
  },
  {
   "cell_type": "code",
   "execution_count": 97,
   "metadata": {},
   "outputs": [
    {
     "data": {
      "text/plain": [
       "transport_mode\n",
       "1      502.345424\n",
       "2      539.708916\n",
       "3        0.000000\n",
       "4     5805.797245\n",
       "5        0.000000\n",
       "6        0.000000\n",
       "7      844.193436\n",
       "8     3085.709651\n",
       "9      518.866908\n",
       "10    2640.551983\n",
       "11     816.554801\n",
       "Name: price, dtype: float64"
      ]
     },
     "execution_count": 97,
     "metadata": {},
     "output_type": "execute_result"
    }
   ],
   "source": [
    "plans_df.groupby('transport_mode')['price'].mean()"
   ]
  },
  {
   "cell_type": "code",
   "execution_count": 103,
   "metadata": {},
   "outputs": [
    {
     "data": {
      "text/plain": [
       "<matplotlib.axes._subplots.AxesSubplot at 0x7ff8b77d39e8>"
      ]
     },
     "execution_count": 103,
     "metadata": {},
     "output_type": "execute_result"
    },
    {
     "data": {
      "image/png": "[encoded data removed]",
      "text/plain": [
       "<matplotlib.figure.Figure at 0x7ff893269438>"
      ]
     },
     "metadata": {},
     "output_type": "display_data"
    }
   ],
   "source": [
    "plt.ylabel('Mean price')\n",
    "plans_df.groupby('transport_mode')['price'].mean().plot(kind = 'bar')"
   ]
  },
  {
   "cell_type": "code",
   "execution_count": 101,
   "metadata": {},
   "outputs": [
    {
     "data": {
      "text/plain": [
       "<matplotlib.axes._subplots.AxesSubplot at 0x7ff919c48a20>"
      ]
     },
     "execution_count": 101,
     "metadata": {},
     "output_type": "execute_result"
    },
    {
     "data": {
      "image/png": "[encoded data removed]",
      "text/plain": [
       "<matplotlib.figure.Figure at 0x7ff8b793d5f8>"
      ]
     },
     "metadata": {},
     "output_type": "display_data"
    }
   ],
   "source": [
    "plt.ylabel('Speed')\n",
    "plans_df.groupby('transport_mode')['speed'].mean().plot(kind = 'bar')"
   ]
  },
  {
   "cell_type": "markdown",
   "metadata": {},
   "source": [
    "### 细节探索\n",
    "\n",
    "我们发现train_plans和之前的train_queries都含有sid字段以及时间的信息,需要看一下这些字段是否有些许差别.通过探索,我们发现:\n",
    "1. train_plans中的所有sid都在train_queries中\n",
    "2. train_plans中的时间和train_queries中的时间信息99%是一样的,也出现了2000多条不一样的情况"
   ]
  },
  {
   "cell_type": "code",
   "execution_count": 13,
   "metadata": {},
   "outputs": [],
   "source": [
    "train_plans.set_index('sid',inplace=True)\n",
    "train_queries.set_index('sid',inplace=True)"
   ]
  },
  {
   "cell_type": "code",
   "execution_count": 14,
   "metadata": {},
   "outputs": [
    {
     "data": {
      "text/plain": [
       "set()"
      ]
     },
     "execution_count": 14,
     "metadata": {},
     "output_type": "execute_result"
    }
   ],
   "source": [
    "set(train_plans.index) - set(train_queries.index)"
   ]
  },
  {
   "cell_type": "markdown",
   "metadata": {},
   "source": [
    "- 时间观察"
   ]
  },
  {
   "cell_type": "code",
   "execution_count": 15,
   "metadata": {
    "scrolled": true
   },
   "outputs": [
    {
     "data": {
      "text/plain": [
       "488638"
      ]
     },
     "execution_count": 15,
     "metadata": {},
     "output_type": "execute_result"
    }
   ],
   "source": [
    "np.sum(train_plans['plan_time'] == train_queries.loc[train_plans.index, 'req_time'])"
   ]
  },
  {
   "cell_type": "code",
   "execution_count": 16,
   "metadata": {
    "scrolled": true
   },
   "outputs": [
    {
     "data": {
      "text/html": [
       "<div>\n",
       "<style scoped>\n",
       "    .dataframe tbody tr th:only-of-type {\n",
       "        vertical-align: middle;\n",
       "    }\n",
       "\n",
       "    .dataframe tbody tr th {\n",
       "        vertical-align: top;\n",
       "    }\n",
       "\n",
       "    .dataframe thead th {\n",
       "        text-align: right;\n",
       "    }\n",
       "</style>\n",
       "<table border=\"1\" class=\"dataframe\">\n",
       "  <thead>\n",
       "    <tr style=\"text-align: right;\">\n",
       "      <th></th>\n",
       "      <th>plan_time</th>\n",
       "      <th>plans</th>\n",
       "    </tr>\n",
       "    <tr>\n",
       "      <th>sid</th>\n",
       "      <th></th>\n",
       "      <th></th>\n",
       "    </tr>\n",
       "  </thead>\n",
       "  <tbody>\n",
       "    <tr>\n",
       "      <th>2441261</th>\n",
       "      <td>2018-11-30 11:07:09</td>\n",
       "      <td>[{\"distance\": 501, \"price\": \"\", \"eta\": 428, \"t...</td>\n",
       "    </tr>\n",
       "    <tr>\n",
       "      <th>2450885</th>\n",
       "      <td>2018-11-30 22:45:19</td>\n",
       "      <td>[{\"distance\": 2371, \"price\": 300, \"eta\": 1454,...</td>\n",
       "    </tr>\n",
       "    <tr>\n",
       "      <th>1147757</th>\n",
       "      <td>2018-10-15 22:46:21</td>\n",
       "      <td>[{\"distance\": 22097, \"price\": \"\", \"eta\": 1582,...</td>\n",
       "    </tr>\n",
       "    <tr>\n",
       "      <th>385914</th>\n",
       "      <td>2018-10-05 10:31:24</td>\n",
       "      <td>[{\"distance\": 6785, \"price\": 200, \"eta\": 3277,...</td>\n",
       "    </tr>\n",
       "    <tr>\n",
       "      <th>2200737</th>\n",
       "      <td>2018-11-20 15:20:01</td>\n",
       "      <td>[{\"distance\": 694, \"price\": \"\", \"eta\": 591, \"t...</td>\n",
       "    </tr>\n",
       "    <tr>\n",
       "      <th>1325706</th>\n",
       "      <td>2018-11-06 20:59:12</td>\n",
       "      <td>[{\"distance\": 26992, \"price\": 700, \"eta\": 5694...</td>\n",
       "    </tr>\n",
       "    <tr>\n",
       "      <th>227922</th>\n",
       "      <td>2018-10-17 19:41:05</td>\n",
       "      <td>[{\"distance\": 38049, \"price\": 700, \"eta\": 5772...</td>\n",
       "    </tr>\n",
       "    <tr>\n",
       "      <th>1304339</th>\n",
       "      <td>2018-11-06 05:37:15</td>\n",
       "      <td>[{\"distance\": 7328, \"price\": 400, \"eta\": 1444,...</td>\n",
       "    </tr>\n",
       "    <tr>\n",
       "      <th>2226856</th>\n",
       "      <td>2018-10-13 13:11:16</td>\n",
       "      <td>[{\"distance\": 29489, \"price\": 600, \"eta\": 5902...</td>\n",
       "    </tr>\n",
       "    <tr>\n",
       "      <th>1579205</th>\n",
       "      <td>2018-10-03 08:03:06</td>\n",
       "      <td>[{\"distance\": 28607, \"price\": 600, \"eta\": 3929...</td>\n",
       "    </tr>\n",
       "    <tr>\n",
       "      <th>183650</th>\n",
       "      <td>2018-10-20 14:27:40</td>\n",
       "      <td>[{\"distance\": 418, \"price\": \"\", \"eta\": 387, \"t...</td>\n",
       "    </tr>\n",
       "    <tr>\n",
       "      <th>2537489</th>\n",
       "      <td>2018-11-19 12:28:03</td>\n",
       "      <td>[{\"distance\": 16487, \"price\": 500, \"eta\": 3186...</td>\n",
       "    </tr>\n",
       "    <tr>\n",
       "      <th>3058182</th>\n",
       "      <td>2018-11-16 09:02:00</td>\n",
       "      <td>[{\"distance\": 1044, \"price\": \"\", \"eta\": 931, \"...</td>\n",
       "    </tr>\n",
       "    <tr>\n",
       "      <th>2837021</th>\n",
       "      <td>2018-11-17 12:20:28</td>\n",
       "      <td>[{\"distance\": 549, \"price\": \"\", \"eta\": 469, \"t...</td>\n",
       "    </tr>\n",
       "    <tr>\n",
       "      <th>964413</th>\n",
       "      <td>2018-10-24 19:06:02</td>\n",
       "      <td>[{\"distance\": 27295, \"price\": 500, \"eta\": 4017...</td>\n",
       "    </tr>\n",
       "    <tr>\n",
       "      <th>2873877</th>\n",
       "      <td>2018-11-17 12:31:48</td>\n",
       "      <td>[{\"distance\": 15566, \"price\": 700, \"eta\": 2850...</td>\n",
       "    </tr>\n",
       "    <tr>\n",
       "      <th>2612955</th>\n",
       "      <td>2018-11-01 13:01:03</td>\n",
       "      <td>[{\"distance\": 5419, \"price\": 200, \"eta\": 1855,...</td>\n",
       "    </tr>\n",
       "    <tr>\n",
       "      <th>804669</th>\n",
       "      <td>2018-10-29 08:23:52</td>\n",
       "      <td>[{\"distance\": 76666, \"price\": 2000, \"eta\": 974...</td>\n",
       "    </tr>\n",
       "    <tr>\n",
       "      <th>2955353</th>\n",
       "      <td>2018-11-02 10:52:02</td>\n",
       "      <td>[{\"distance\": 567, \"price\": \"\", \"eta\": 486, \"t...</td>\n",
       "    </tr>\n",
       "    <tr>\n",
       "      <th>2773862</th>\n",
       "      <td>2018-10-18 08:12:42</td>\n",
       "      <td>[{\"distance\": 19564, \"price\": 2800, \"eta\": 291...</td>\n",
       "    </tr>\n",
       "    <tr>\n",
       "      <th>3368238</th>\n",
       "      <td>2018-11-24 11:38:26</td>\n",
       "      <td>[{\"distance\": 12378, \"price\": 300, \"eta\": 3275...</td>\n",
       "    </tr>\n",
       "    <tr>\n",
       "      <th>929164</th>\n",
       "      <td>2018-10-24 15:44:45</td>\n",
       "      <td>[{\"distance\": 7526, \"price\": 400, \"eta\": 1207,...</td>\n",
       "    </tr>\n",
       "    <tr>\n",
       "      <th>3294959</th>\n",
       "      <td>2018-10-16 05:24:08</td>\n",
       "      <td>[{\"distance\": 14369, \"price\": 400, \"eta\": 3890...</td>\n",
       "    </tr>\n",
       "    <tr>\n",
       "      <th>3304903</th>\n",
       "      <td>2018-10-16 09:42:25</td>\n",
       "      <td>[{\"distance\": 1484, \"price\": \"\", \"eta\": 1399, ...</td>\n",
       "    </tr>\n",
       "    <tr>\n",
       "      <th>782237</th>\n",
       "      <td>2018-10-01 13:10:35</td>\n",
       "      <td>[{\"distance\": 19368, \"price\": 500, \"eta\": 3357...</td>\n",
       "    </tr>\n",
       "    <tr>\n",
       "      <th>171395</th>\n",
       "      <td>2018-10-20 21:31:05</td>\n",
       "      <td>[{\"distance\": 12029, \"price\": 3700, \"eta\": 112...</td>\n",
       "    </tr>\n",
       "    <tr>\n",
       "      <th>170113</th>\n",
       "      <td>2018-10-20 07:29:09</td>\n",
       "      <td>[{\"distance\": 23298, \"price\": 900, \"eta\": 4323...</td>\n",
       "    </tr>\n",
       "    <tr>\n",
       "      <th>1485992</th>\n",
       "      <td>2018-10-27 12:22:56</td>\n",
       "      <td>[{\"distance\": 426, \"price\": \"\", \"eta\": 404, \"t...</td>\n",
       "    </tr>\n",
       "    <tr>\n",
       "      <th>3223152</th>\n",
       "      <td>2018-11-07 23:51:39</td>\n",
       "      <td>[{\"distance\": 25937, \"price\": 8000, \"eta\": 230...</td>\n",
       "    </tr>\n",
       "    <tr>\n",
       "      <th>3279181</th>\n",
       "      <td>2018-11-25 13:24:51</td>\n",
       "      <td>[{\"distance\": 739, \"price\": \"\", \"eta\": 632, \"t...</td>\n",
       "    </tr>\n",
       "    <tr>\n",
       "      <th>...</th>\n",
       "      <td>...</td>\n",
       "      <td>...</td>\n",
       "    </tr>\n",
       "    <tr>\n",
       "      <th>852181</th>\n",
       "      <td>2018-11-26 08:37:37</td>\n",
       "      <td>[{\"distance\": 10530, \"price\": \"\", \"eta\": 2102,...</td>\n",
       "    </tr>\n",
       "    <tr>\n",
       "      <th>602826</th>\n",
       "      <td>2018-11-11 14:23:55</td>\n",
       "      <td>[{\"distance\": 2893, \"price\": 200, \"eta\": 1907,...</td>\n",
       "    </tr>\n",
       "    <tr>\n",
       "      <th>1806671</th>\n",
       "      <td>2018-11-29 18:31:49</td>\n",
       "      <td>[{\"distance\": 427, \"price\": \"\", \"eta\": 365, \"t...</td>\n",
       "    </tr>\n",
       "    <tr>\n",
       "      <th>1790465</th>\n",
       "      <td>2018-11-29 08:36:58</td>\n",
       "      <td>[{\"distance\": 13526, \"price\": 600, \"eta\": 3458...</td>\n",
       "    </tr>\n",
       "    <tr>\n",
       "      <th>3066624</th>\n",
       "      <td>2018-11-16 20:49:09</td>\n",
       "      <td>[{\"distance\": 8132, \"price\": 200, \"eta\": 2375,...</td>\n",
       "    </tr>\n",
       "    <tr>\n",
       "      <th>732606</th>\n",
       "      <td>2018-10-01 21:40:15</td>\n",
       "      <td>[{\"distance\": 84245, \"price\": \"\", \"eta\": 4876,...</td>\n",
       "    </tr>\n",
       "    <tr>\n",
       "      <th>1035348</th>\n",
       "      <td>2018-11-27 17:23:13</td>\n",
       "      <td>[{\"distance\": 6217, \"price\": 500, \"eta\": 3069,...</td>\n",
       "    </tr>\n",
       "    <tr>\n",
       "      <th>2430831</th>\n",
       "      <td>2018-11-30 20:15:13</td>\n",
       "      <td>[{\"distance\": 493, \"price\": \"\", \"eta\": 452, \"t...</td>\n",
       "    </tr>\n",
       "    <tr>\n",
       "      <th>804091</th>\n",
       "      <td>2018-10-29 15:37:34</td>\n",
       "      <td>[{\"distance\": 1665, \"price\": 200, \"eta\": 1083,...</td>\n",
       "    </tr>\n",
       "    <tr>\n",
       "      <th>2524703</th>\n",
       "      <td>2018-10-07 10:47:36</td>\n",
       "      <td>[{\"distance\": 7596, \"price\": 400, \"eta\": 1753,...</td>\n",
       "    </tr>\n",
       "    <tr>\n",
       "      <th>137642</th>\n",
       "      <td>2018-10-08 11:09:59</td>\n",
       "      <td>[{\"distance\": 39991, \"price\": 900, \"eta\": 5722...</td>\n",
       "    </tr>\n",
       "    <tr>\n",
       "      <th>819854</th>\n",
       "      <td>2018-10-29 22:44:14</td>\n",
       "      <td>[{\"distance\": 22717, \"price\": \"\", \"eta\": 1822,...</td>\n",
       "    </tr>\n",
       "    <tr>\n",
       "      <th>2114039</th>\n",
       "      <td>2018-11-18 10:15:31</td>\n",
       "      <td>[{\"distance\": 17706, \"price\": \"\", \"eta\": 3398,...</td>\n",
       "    </tr>\n",
       "    <tr>\n",
       "      <th>2671355</th>\n",
       "      <td>2018-10-12 06:30:10</td>\n",
       "      <td>[{\"distance\": 74935, \"price\": 7300, \"eta\": 746...</td>\n",
       "    </tr>\n",
       "    <tr>\n",
       "      <th>472151</th>\n",
       "      <td>2018-11-09 14:43:53</td>\n",
       "      <td>[{\"distance\": 9240, \"price\": 200, \"eta\": 2449,...</td>\n",
       "    </tr>\n",
       "    <tr>\n",
       "      <th>832406</th>\n",
       "      <td>2018-10-29 21:39:47</td>\n",
       "      <td>[{\"distance\": 15706, \"price\": 5000, \"eta\": 171...</td>\n",
       "    </tr>\n",
       "    <tr>\n",
       "      <th>733821</th>\n",
       "      <td>2018-10-01 08:04:33</td>\n",
       "      <td>[{\"distance\": 52081, \"price\": 1200, \"eta\": 826...</td>\n",
       "    </tr>\n",
       "    <tr>\n",
       "      <th>93291</th>\n",
       "      <td>2018-10-31 17:52:22</td>\n",
       "      <td>[{\"distance\": 174, \"price\": \"\", \"eta\": 169, \"t...</td>\n",
       "    </tr>\n",
       "    <tr>\n",
       "      <th>3181768</th>\n",
       "      <td>2018-11-21 11:23:00</td>\n",
       "      <td>[{\"distance\": 5022, \"price\": 200, \"eta\": 1673,...</td>\n",
       "    </tr>\n",
       "    <tr>\n",
       "      <th>385427</th>\n",
       "      <td>2018-10-05 10:36:12</td>\n",
       "      <td>[{\"distance\": 18948, \"price\": 700, \"eta\": 3940...</td>\n",
       "    </tr>\n",
       "    <tr>\n",
       "      <th>1294892</th>\n",
       "      <td>2018-11-06 18:54:08</td>\n",
       "      <td>[{\"distance\": 7185, \"price\": 300, \"eta\": 2127,...</td>\n",
       "    </tr>\n",
       "    <tr>\n",
       "      <th>2605909</th>\n",
       "      <td>2018-11-01 03:00:57</td>\n",
       "      <td>[{\"distance\": 1264, \"price\": \"\", \"eta\": 1130, ...</td>\n",
       "    </tr>\n",
       "    <tr>\n",
       "      <th>1160255</th>\n",
       "      <td>2018-10-15 15:37:03</td>\n",
       "      <td>[{\"distance\": 98, \"price\": \"\", \"eta\": 83, \"tra...</td>\n",
       "    </tr>\n",
       "    <tr>\n",
       "      <th>3367183</th>\n",
       "      <td>2018-11-24 14:36:38</td>\n",
       "      <td>[{\"distance\": 478, \"price\": \"\", \"eta\": 409, \"t...</td>\n",
       "    </tr>\n",
       "    <tr>\n",
       "      <th>1455702</th>\n",
       "      <td>2018-10-27 18:14:24</td>\n",
       "      <td>[{\"distance\": 359, \"price\": \"\", \"eta\": 306, \"t...</td>\n",
       "    </tr>\n",
       "    <tr>\n",
       "      <th>68714</th>\n",
       "      <td>2018-10-31 17:54:45</td>\n",
       "      <td>[{\"distance\": 20, \"price\": \"\", \"eta\": 17, \"tra...</td>\n",
       "    </tr>\n",
       "    <tr>\n",
       "      <th>1286464</th>\n",
       "      <td>2018-11-06 08:04:31</td>\n",
       "      <td>[{\"distance\": 10599, \"price\": 400, \"eta\": 1818...</td>\n",
       "    </tr>\n",
       "    <tr>\n",
       "      <th>310387</th>\n",
       "      <td>2018-10-04 19:10:10</td>\n",
       "      <td>[{\"distance\": 23806, \"price\": 700, \"eta\": 3870...</td>\n",
       "    </tr>\n",
       "    <tr>\n",
       "      <th>734654</th>\n",
       "      <td>2018-10-01 22:56:29</td>\n",
       "      <td>[{\"distance\": 30510, \"price\": \"\", \"eta\": 2257,...</td>\n",
       "    </tr>\n",
       "    <tr>\n",
       "      <th>566700</th>\n",
       "      <td>2018-11-23 16:31:50</td>\n",
       "      <td>[{\"distance\": 6591, \"price\": 200, \"eta\": 2653,...</td>\n",
       "    </tr>\n",
       "  </tbody>\n",
       "</table>\n",
       "<p>2416 rows × 2 columns</p>\n",
       "</div>"
      ],
      "text/plain": [
       "                   plan_time  \\\n",
       "sid                            \n",
       "2441261  2018-11-30 11:07:09   \n",
       "2450885  2018-11-30 22:45:19   \n",
       "1147757  2018-10-15 22:46:21   \n",
       "385914   2018-10-05 10:31:24   \n",
       "2200737  2018-11-20 15:20:01   \n",
       "1325706  2018-11-06 20:59:12   \n",
       "227922   2018-10-17 19:41:05   \n",
       "1304339  2018-11-06 05:37:15   \n",
       "2226856  2018-10-13 13:11:16   \n",
       "1579205  2018-10-03 08:03:06   \n",
       "183650   2018-10-20 14:27:40   \n",
       "2537489  2018-11-19 12:28:03   \n",
       "3058182  2018-11-16 09:02:00   \n",
       "2837021  2018-11-17 12:20:28   \n",
       "964413   2018-10-24 19:06:02   \n",
       "2873877  2018-11-17 12:31:48   \n",
       "2612955  2018-11-01 13:01:03   \n",
       "804669   2018-10-29 08:23:52   \n",
       "2955353  2018-11-02 10:52:02   \n",
       "2773862  2018-10-18 08:12:42   \n",
       "3368238  2018-11-24 11:38:26   \n",
       "929164   2018-10-24 15:44:45   \n",
       "3294959  2018-10-16 05:24:08   \n",
       "3304903  2018-10-16 09:42:25   \n",
       "782237   2018-10-01 13:10:35   \n",
       "171395   2018-10-20 21:31:05   \n",
       "170113   2018-10-20 07:29:09   \n",
       "1485992  2018-10-27 12:22:56   \n",
       "3223152  2018-11-07 23:51:39   \n",
       "3279181  2018-11-25 13:24:51   \n",
       "...                      ...   \n",
       "852181   2018-11-26 08:37:37   \n",
       "602826   2018-11-11 14:23:55   \n",
       "1806671  2018-11-29 18:31:49   \n",
       "1790465  2018-11-29 08:36:58   \n",
       "3066624  2018-11-16 20:49:09   \n",
       "732606   2018-10-01 21:40:15   \n",
       "1035348  2018-11-27 17:23:13   \n",
       "2430831  2018-11-30 20:15:13   \n",
       "804091   2018-10-29 15:37:34   \n",
       "2524703  2018-10-07 10:47:36   \n",
       "137642   2018-10-08 11:09:59   \n",
       "819854   2018-10-29 22:44:14   \n",
       "2114039  2018-11-18 10:15:31   \n",
       "2671355  2018-10-12 06:30:10   \n",
       "472151   2018-11-09 14:43:53   \n",
       "832406   2018-10-29 21:39:47   \n",
       "733821   2018-10-01 08:04:33   \n",
       "93291    2018-10-31 17:52:22   \n",
       "3181768  2018-11-21 11:23:00   \n",
       "385427   2018-10-05 10:36:12   \n",
       "1294892  2018-11-06 18:54:08   \n",
       "2605909  2018-11-01 03:00:57   \n",
       "1160255  2018-10-15 15:37:03   \n",
       "3367183  2018-11-24 14:36:38   \n",
       "1455702  2018-10-27 18:14:24   \n",
       "68714    2018-10-31 17:54:45   \n",
       "1286464  2018-11-06 08:04:31   \n",
       "310387   2018-10-04 19:10:10   \n",
       "734654   2018-10-01 22:56:29   \n",
       "566700   2018-11-23 16:31:50   \n",
       "\n",
       "                                                     plans  \n",
       "sid                                                         \n",
       "2441261  [{\"distance\": 501, \"price\": \"\", \"eta\": 428, \"t...  \n",
       "2450885  [{\"distance\": 2371, \"price\": 300, \"eta\": 1454,...  \n",
       "1147757  [{\"distance\": 22097, \"price\": \"\", \"eta\": 1582,...  \n",
       "385914   [{\"distance\": 6785, \"price\": 200, \"eta\": 3277,...  \n",
       "2200737  [{\"distance\": 694, \"price\": \"\", \"eta\": 591, \"t...  \n",
       "1325706  [{\"distance\": 26992, \"price\": 700, \"eta\": 5694...  \n",
       "227922   [{\"distance\": 38049, \"price\": 700, \"eta\": 5772...  \n",
       "1304339  [{\"distance\": 7328, \"price\": 400, \"eta\": 1444,...  \n",
       "2226856  [{\"distance\": 29489, \"price\": 600, \"eta\": 5902...  \n",
       "1579205  [{\"distance\": 28607, \"price\": 600, \"eta\": 3929...  \n",
       "183650   [{\"distance\": 418, \"price\": \"\", \"eta\": 387, \"t...  \n",
       "2537489  [{\"distance\": 16487, \"price\": 500, \"eta\": 3186...  \n",
       "3058182  [{\"distance\": 1044, \"price\": \"\", \"eta\": 931, \"...  \n",
       "2837021  [{\"distance\": 549, \"price\": \"\", \"eta\": 469, \"t...  \n",
       "964413   [{\"distance\": 27295, \"price\": 500, \"eta\": 4017...  \n",
       "2873877  [{\"distance\": 15566, \"price\": 700, \"eta\": 2850...  \n",
       "2612955  [{\"distance\": 5419, \"price\": 200, \"eta\": 1855,...  \n",
       "804669   [{\"distance\": 76666, \"price\": 2000, \"eta\": 974...  \n",
       "2955353  [{\"distance\": 567, \"price\": \"\", \"eta\": 486, \"t...  \n",
       "2773862  [{\"distance\": 19564, \"price\": 2800, \"eta\": 291...  \n",
       "3368238  [{\"distance\": 12378, \"price\": 300, \"eta\": 3275...  \n",
       "929164   [{\"distance\": 7526, \"price\": 400, \"eta\": 1207,...  \n",
       "3294959  [{\"distance\": 14369, \"price\": 400, \"eta\": 3890...  \n",
       "3304903  [{\"distance\": 1484, \"price\": \"\", \"eta\": 1399, ...  \n",
       "782237   [{\"distance\": 19368, \"price\": 500, \"eta\": 3357...  \n",
       "171395   [{\"distance\": 12029, \"price\": 3700, \"eta\": 112...  \n",
       "170113   [{\"distance\": 23298, \"price\": 900, \"eta\": 4323...  \n",
       "1485992  [{\"distance\": 426, \"price\": \"\", \"eta\": 404, \"t...  \n",
       "3223152  [{\"distance\": 25937, \"price\": 8000, \"eta\": 230...  \n",
       "3279181  [{\"distance\": 739, \"price\": \"\", \"eta\": 632, \"t...  \n",
       "...                                                    ...  \n",
       "852181   [{\"distance\": 10530, \"price\": \"\", \"eta\": 2102,...  \n",
       "602826   [{\"distance\": 2893, \"price\": 200, \"eta\": 1907,...  \n",
       "1806671  [{\"distance\": 427, \"price\": \"\", \"eta\": 365, \"t...  \n",
       "1790465  [{\"distance\": 13526, \"price\": 600, \"eta\": 3458...  \n",
       "3066624  [{\"distance\": 8132, \"price\": 200, \"eta\": 2375,...  \n",
       "732606   [{\"distance\": 84245, \"price\": \"\", \"eta\": 4876,...  \n",
       "1035348  [{\"distance\": 6217, \"price\": 500, \"eta\": 3069,...  \n",
       "2430831  [{\"distance\": 493, \"price\": \"\", \"eta\": 452, \"t...  \n",
       "804091   [{\"distance\": 1665, \"price\": 200, \"eta\": 1083,...  \n",
       "2524703  [{\"distance\": 7596, \"price\": 400, \"eta\": 1753,...  \n",
       "137642   [{\"distance\": 39991, \"price\": 900, \"eta\": 5722...  \n",
       "819854   [{\"distance\": 22717, \"price\": \"\", \"eta\": 1822,...  \n",
       "2114039  [{\"distance\": 17706, \"price\": \"\", \"eta\": 3398,...  \n",
       "2671355  [{\"distance\": 74935, \"price\": 7300, \"eta\": 746...  \n",
       "472151   [{\"distance\": 9240, \"price\": 200, \"eta\": 2449,...  \n",
       "832406   [{\"distance\": 15706, \"price\": 5000, \"eta\": 171...  \n",
       "733821   [{\"distance\": 52081, \"price\": 1200, \"eta\": 826...  \n",
       "93291    [{\"distance\": 174, \"price\": \"\", \"eta\": 169, \"t...  \n",
       "3181768  [{\"distance\": 5022, \"price\": 200, \"eta\": 1673,...  \n",
       "385427   [{\"distance\": 18948, \"price\": 700, \"eta\": 3940...  \n",
       "1294892  [{\"distance\": 7185, \"price\": 300, \"eta\": 2127,...  \n",
       "2605909  [{\"distance\": 1264, \"price\": \"\", \"eta\": 1130, ...  \n",
       "1160255  [{\"distance\": 98, \"price\": \"\", \"eta\": 83, \"tra...  \n",
       "3367183  [{\"distance\": 478, \"price\": \"\", \"eta\": 409, \"t...  \n",
       "1455702  [{\"distance\": 359, \"price\": \"\", \"eta\": 306, \"t...  \n",
       "68714    [{\"distance\": 20, \"price\": \"\", \"eta\": 17, \"tra...  \n",
       "1286464  [{\"distance\": 10599, \"price\": 400, \"eta\": 1818...  \n",
       "310387   [{\"distance\": 23806, \"price\": 700, \"eta\": 3870...  \n",
       "734654   [{\"distance\": 30510, \"price\": \"\", \"eta\": 2257,...  \n",
       "566700   [{\"distance\": 6591, \"price\": 200, \"eta\": 2653,...  \n",
       "\n",
       "[2416 rows x 2 columns]"
      ]
     },
     "execution_count": 16,
     "metadata": {},
     "output_type": "execute_result"
    }
   ],
   "source": [
    "train_plans.loc[train_plans['plan_time'] != train_queries.loc[train_plans.index, 'req_time']]"
   ]
  },
  {
   "cell_type": "code",
   "execution_count": 17,
   "metadata": {
    "scrolled": true
   },
   "outputs": [
    {
     "data": {
      "text/html": [
       "<div>\n",
       "<style scoped>\n",
       "    .dataframe tbody tr th:only-of-type {\n",
       "        vertical-align: middle;\n",
       "    }\n",
       "\n",
       "    .dataframe tbody tr th {\n",
       "        vertical-align: top;\n",
       "    }\n",
       "\n",
       "    .dataframe thead th {\n",
       "        text-align: right;\n",
       "    }\n",
       "</style>\n",
       "<table border=\"1\" class=\"dataframe\">\n",
       "  <thead>\n",
       "    <tr style=\"text-align: right;\">\n",
       "      <th></th>\n",
       "      <th>pid</th>\n",
       "      <th>req_time</th>\n",
       "      <th>o</th>\n",
       "      <th>d</th>\n",
       "    </tr>\n",
       "    <tr>\n",
       "      <th>sid</th>\n",
       "      <th></th>\n",
       "      <th></th>\n",
       "      <th></th>\n",
       "      <th></th>\n",
       "    </tr>\n",
       "  </thead>\n",
       "  <tbody>\n",
       "    <tr>\n",
       "      <th>2441261</th>\n",
       "      <td>135832.0</td>\n",
       "      <td>2018-11-30 11:07:08</td>\n",
       "      <td>116.30,40.05</td>\n",
       "      <td>116.30,40.05</td>\n",
       "    </tr>\n",
       "    <tr>\n",
       "      <th>2450885</th>\n",
       "      <td>112043.0</td>\n",
       "      <td>2018-11-30 22:45:17</td>\n",
       "      <td>116.42,39.90</td>\n",
       "      <td>116.42,39.90</td>\n",
       "    </tr>\n",
       "    <tr>\n",
       "      <th>1147757</th>\n",
       "      <td>NaN</td>\n",
       "      <td>2018-10-15 22:46:19</td>\n",
       "      <td>116.34,40.00</td>\n",
       "      <td>116.42,39.86</td>\n",
       "    </tr>\n",
       "    <tr>\n",
       "      <th>385914</th>\n",
       "      <td>NaN</td>\n",
       "      <td>2018-10-05 10:31:23</td>\n",
       "      <td>116.39,39.87</td>\n",
       "      <td>116.39,39.92</td>\n",
       "    </tr>\n",
       "    <tr>\n",
       "      <th>2200737</th>\n",
       "      <td>NaN</td>\n",
       "      <td>2018-11-20 15:19:59</td>\n",
       "      <td>116.29,39.82</td>\n",
       "      <td>116.29,39.82</td>\n",
       "    </tr>\n",
       "    <tr>\n",
       "      <th>1325706</th>\n",
       "      <td>NaN</td>\n",
       "      <td>2018-11-06 20:59:10</td>\n",
       "      <td>116.21,40.10</td>\n",
       "      <td>116.32,39.95</td>\n",
       "    </tr>\n",
       "    <tr>\n",
       "      <th>227922</th>\n",
       "      <td>NaN</td>\n",
       "      <td>2018-10-17 19:41:03</td>\n",
       "      <td>116.29,40.16</td>\n",
       "      <td>116.32,39.89</td>\n",
       "    </tr>\n",
       "    <tr>\n",
       "      <th>1304339</th>\n",
       "      <td>142281.0</td>\n",
       "      <td>2018-11-06 05:37:13</td>\n",
       "      <td>116.42,39.84</td>\n",
       "      <td>116.41,39.90</td>\n",
       "    </tr>\n",
       "    <tr>\n",
       "      <th>2226856</th>\n",
       "      <td>148002.0</td>\n",
       "      <td>2018-10-13 13:11:14</td>\n",
       "      <td>116.37,39.86</td>\n",
       "      <td>116.18,39.99</td>\n",
       "    </tr>\n",
       "    <tr>\n",
       "      <th>1579205</th>\n",
       "      <td>NaN</td>\n",
       "      <td>2018-10-03 08:03:04</td>\n",
       "      <td>116.41,40.07</td>\n",
       "      <td>116.37,39.86</td>\n",
       "    </tr>\n",
       "    <tr>\n",
       "      <th>183650</th>\n",
       "      <td>167770.0</td>\n",
       "      <td>2018-10-20 14:27:39</td>\n",
       "      <td>116.37,39.91</td>\n",
       "      <td>116.37,39.91</td>\n",
       "    </tr>\n",
       "    <tr>\n",
       "      <th>2537489</th>\n",
       "      <td>NaN</td>\n",
       "      <td>2018-11-19 12:28:01</td>\n",
       "      <td>116.46,39.91</td>\n",
       "      <td>116.35,39.97</td>\n",
       "    </tr>\n",
       "    <tr>\n",
       "      <th>3058182</th>\n",
       "      <td>192308.0</td>\n",
       "      <td>2018-11-16 09:01:58</td>\n",
       "      <td>116.41,39.91</td>\n",
       "      <td>116.41,39.91</td>\n",
       "    </tr>\n",
       "    <tr>\n",
       "      <th>2837021</th>\n",
       "      <td>NaN</td>\n",
       "      <td>2018-11-17 12:20:27</td>\n",
       "      <td>116.32,39.97</td>\n",
       "      <td>116.32,39.97</td>\n",
       "    </tr>\n",
       "    <tr>\n",
       "      <th>964413</th>\n",
       "      <td>NaN</td>\n",
       "      <td>2018-10-24 19:06:01</td>\n",
       "      <td>116.45,39.93</td>\n",
       "      <td>116.30,39.88</td>\n",
       "    </tr>\n",
       "    <tr>\n",
       "      <th>2873877</th>\n",
       "      <td>129678.0</td>\n",
       "      <td>2018-11-17 12:31:46</td>\n",
       "      <td>116.28,40.15</td>\n",
       "      <td>116.28,40.15</td>\n",
       "    </tr>\n",
       "    <tr>\n",
       "      <th>2612955</th>\n",
       "      <td>190953.0</td>\n",
       "      <td>2018-11-01 13:01:01</td>\n",
       "      <td>116.32,39.94</td>\n",
       "      <td>116.31,39.98</td>\n",
       "    </tr>\n",
       "    <tr>\n",
       "      <th>804669</th>\n",
       "      <td>211890.0</td>\n",
       "      <td>2018-10-29 08:23:50</td>\n",
       "      <td>116.64,40.34</td>\n",
       "      <td>116.34,39.85</td>\n",
       "    </tr>\n",
       "    <tr>\n",
       "      <th>2955353</th>\n",
       "      <td>NaN</td>\n",
       "      <td>2018-11-02 10:52:01</td>\n",
       "      <td>116.40,39.94</td>\n",
       "      <td>116.40,39.94</td>\n",
       "    </tr>\n",
       "    <tr>\n",
       "      <th>2773862</th>\n",
       "      <td>NaN</td>\n",
       "      <td>2018-10-18 08:12:40</td>\n",
       "      <td>116.31,39.83</td>\n",
       "      <td>116.42,39.90</td>\n",
       "    </tr>\n",
       "    <tr>\n",
       "      <th>3368238</th>\n",
       "      <td>112198.0</td>\n",
       "      <td>2018-11-24 11:38:24</td>\n",
       "      <td>116.42,39.82</td>\n",
       "      <td>116.31,39.84</td>\n",
       "    </tr>\n",
       "    <tr>\n",
       "      <th>929164</th>\n",
       "      <td>203487.0</td>\n",
       "      <td>2018-10-24 15:44:44</td>\n",
       "      <td>116.50,39.80</td>\n",
       "      <td>116.45,39.83</td>\n",
       "    </tr>\n",
       "    <tr>\n",
       "      <th>3294959</th>\n",
       "      <td>115301.0</td>\n",
       "      <td>2018-10-16 05:24:06</td>\n",
       "      <td>116.35,39.90</td>\n",
       "      <td>116.45,39.93</td>\n",
       "    </tr>\n",
       "    <tr>\n",
       "      <th>3304903</th>\n",
       "      <td>210494.0</td>\n",
       "      <td>2018-10-16 09:42:23</td>\n",
       "      <td>116.32,39.87</td>\n",
       "      <td>116.30,39.87</td>\n",
       "    </tr>\n",
       "    <tr>\n",
       "      <th>782237</th>\n",
       "      <td>NaN</td>\n",
       "      <td>2018-10-01 13:10:33</td>\n",
       "      <td>116.37,40.00</td>\n",
       "      <td>116.47,39.93</td>\n",
       "    </tr>\n",
       "    <tr>\n",
       "      <th>171395</th>\n",
       "      <td>124947.0</td>\n",
       "      <td>2018-10-20 21:31:03</td>\n",
       "      <td>116.13,39.74</td>\n",
       "      <td>116.03,39.78</td>\n",
       "    </tr>\n",
       "    <tr>\n",
       "      <th>170113</th>\n",
       "      <td>184718.0</td>\n",
       "      <td>2018-10-20 07:29:07</td>\n",
       "      <td>116.31,40.09</td>\n",
       "      <td>116.36,40.07</td>\n",
       "    </tr>\n",
       "    <tr>\n",
       "      <th>1485992</th>\n",
       "      <td>NaN</td>\n",
       "      <td>2018-10-27 12:22:54</td>\n",
       "      <td>116.43,39.99</td>\n",
       "      <td>116.43,39.99</td>\n",
       "    </tr>\n",
       "    <tr>\n",
       "      <th>3223152</th>\n",
       "      <td>212641.0</td>\n",
       "      <td>2018-11-07 23:51:37</td>\n",
       "      <td>116.41,39.90</td>\n",
       "      <td>116.55,39.76</td>\n",
       "    </tr>\n",
       "    <tr>\n",
       "      <th>3279181</th>\n",
       "      <td>104189.0</td>\n",
       "      <td>2018-11-25 13:24:49</td>\n",
       "      <td>116.21,40.04</td>\n",
       "      <td>116.18,40.04</td>\n",
       "    </tr>\n",
       "    <tr>\n",
       "      <th>...</th>\n",
       "      <td>...</td>\n",
       "      <td>...</td>\n",
       "      <td>...</td>\n",
       "      <td>...</td>\n",
       "    </tr>\n",
       "    <tr>\n",
       "      <th>852181</th>\n",
       "      <td>NaN</td>\n",
       "      <td>2018-11-26 08:37:35</td>\n",
       "      <td>116.44,40.04</td>\n",
       "      <td>116.48,39.99</td>\n",
       "    </tr>\n",
       "    <tr>\n",
       "      <th>602826</th>\n",
       "      <td>112198.0</td>\n",
       "      <td>2018-11-11 14:23:53</td>\n",
       "      <td>116.24,40.07</td>\n",
       "      <td>116.23,40.08</td>\n",
       "    </tr>\n",
       "    <tr>\n",
       "      <th>1806671</th>\n",
       "      <td>NaN</td>\n",
       "      <td>2018-11-29 18:31:48</td>\n",
       "      <td>116.39,39.90</td>\n",
       "      <td>116.39,39.90</td>\n",
       "    </tr>\n",
       "    <tr>\n",
       "      <th>1790465</th>\n",
       "      <td>199899.0</td>\n",
       "      <td>2018-11-29 08:36:57</td>\n",
       "      <td>116.46,40.01</td>\n",
       "      <td>116.36,39.99</td>\n",
       "    </tr>\n",
       "    <tr>\n",
       "      <th>3066624</th>\n",
       "      <td>135810.0</td>\n",
       "      <td>2018-11-16 20:49:07</td>\n",
       "      <td>116.46,40.01</td>\n",
       "      <td>116.41,39.97</td>\n",
       "    </tr>\n",
       "    <tr>\n",
       "      <th>732606</th>\n",
       "      <td>NaN</td>\n",
       "      <td>2018-10-01 21:40:14</td>\n",
       "      <td>116.64,39.89</td>\n",
       "      <td>116.02,40.36</td>\n",
       "    </tr>\n",
       "    <tr>\n",
       "      <th>1035348</th>\n",
       "      <td>NaN</td>\n",
       "      <td>2018-11-27 17:23:11</td>\n",
       "      <td>116.51,39.93</td>\n",
       "      <td>116.40,40.02</td>\n",
       "    </tr>\n",
       "    <tr>\n",
       "      <th>2430831</th>\n",
       "      <td>162724.0</td>\n",
       "      <td>2018-11-30 20:15:11</td>\n",
       "      <td>116.39,40.00</td>\n",
       "      <td>116.38,40.00</td>\n",
       "    </tr>\n",
       "    <tr>\n",
       "      <th>804091</th>\n",
       "      <td>100011.0</td>\n",
       "      <td>2018-10-29 15:37:32</td>\n",
       "      <td>116.31,39.90</td>\n",
       "      <td>116.40,39.88</td>\n",
       "    </tr>\n",
       "    <tr>\n",
       "      <th>2524703</th>\n",
       "      <td>129567.0</td>\n",
       "      <td>2018-10-07 10:47:34</td>\n",
       "      <td>116.42,39.90</td>\n",
       "      <td>116.47,39.92</td>\n",
       "    </tr>\n",
       "    <tr>\n",
       "      <th>137642</th>\n",
       "      <td>198447.0</td>\n",
       "      <td>2018-10-08 11:09:57</td>\n",
       "      <td>116.16,39.71</td>\n",
       "      <td>116.35,39.93</td>\n",
       "    </tr>\n",
       "    <tr>\n",
       "      <th>819854</th>\n",
       "      <td>NaN</td>\n",
       "      <td>2018-10-29 22:44:13</td>\n",
       "      <td>116.45,39.80</td>\n",
       "      <td>116.37,39.90</td>\n",
       "    </tr>\n",
       "    <tr>\n",
       "      <th>2114039</th>\n",
       "      <td>NaN</td>\n",
       "      <td>2018-11-18 10:15:29</td>\n",
       "      <td>116.30,39.87</td>\n",
       "      <td>116.41,39.94</td>\n",
       "    </tr>\n",
       "    <tr>\n",
       "      <th>2671355</th>\n",
       "      <td>NaN</td>\n",
       "      <td>2018-10-12 06:30:09</td>\n",
       "      <td>116.61,40.07</td>\n",
       "      <td>116.10,40.23</td>\n",
       "    </tr>\n",
       "    <tr>\n",
       "      <th>472151</th>\n",
       "      <td>NaN</td>\n",
       "      <td>2018-11-09 14:43:52</td>\n",
       "      <td>116.30,39.94</td>\n",
       "      <td>116.60,40.08</td>\n",
       "    </tr>\n",
       "    <tr>\n",
       "      <th>832406</th>\n",
       "      <td>125857.0</td>\n",
       "      <td>2018-10-29 21:39:46</td>\n",
       "      <td>116.53,39.80</td>\n",
       "      <td>116.47,39.89</td>\n",
       "    </tr>\n",
       "    <tr>\n",
       "      <th>733821</th>\n",
       "      <td>149504.0</td>\n",
       "      <td>2018-10-01 08:04:31</td>\n",
       "      <td>116.57,40.15</td>\n",
       "      <td>116.32,39.89</td>\n",
       "    </tr>\n",
       "    <tr>\n",
       "      <th>93291</th>\n",
       "      <td>207313.0</td>\n",
       "      <td>2018-10-31 17:52:20</td>\n",
       "      <td>116.43,39.94</td>\n",
       "      <td>116.41,39.94</td>\n",
       "    </tr>\n",
       "    <tr>\n",
       "      <th>3181768</th>\n",
       "      <td>NaN</td>\n",
       "      <td>2018-11-21 11:22:59</td>\n",
       "      <td>116.44,39.96</td>\n",
       "      <td>116.40,39.97</td>\n",
       "    </tr>\n",
       "    <tr>\n",
       "      <th>385427</th>\n",
       "      <td>129419.0</td>\n",
       "      <td>2018-10-05 10:36:10</td>\n",
       "      <td>116.32,40.06</td>\n",
       "      <td>116.33,39.94</td>\n",
       "    </tr>\n",
       "    <tr>\n",
       "      <th>1294892</th>\n",
       "      <td>148064.0</td>\n",
       "      <td>2018-11-06 18:54:06</td>\n",
       "      <td>116.47,39.89</td>\n",
       "      <td>116.48,39.94</td>\n",
       "    </tr>\n",
       "    <tr>\n",
       "      <th>2605909</th>\n",
       "      <td>138635.0</td>\n",
       "      <td>2018-11-01 03:00:55</td>\n",
       "      <td>116.44,39.96</td>\n",
       "      <td>116.43,39.95</td>\n",
       "    </tr>\n",
       "    <tr>\n",
       "      <th>1160255</th>\n",
       "      <td>144367.0</td>\n",
       "      <td>2018-10-15 15:37:01</td>\n",
       "      <td>116.37,39.86</td>\n",
       "      <td>116.37,39.87</td>\n",
       "    </tr>\n",
       "    <tr>\n",
       "      <th>3367183</th>\n",
       "      <td>NaN</td>\n",
       "      <td>2018-11-24 14:36:37</td>\n",
       "      <td>116.39,39.91</td>\n",
       "      <td>116.39,39.91</td>\n",
       "    </tr>\n",
       "    <tr>\n",
       "      <th>1455702</th>\n",
       "      <td>116668.0</td>\n",
       "      <td>2018-10-27 18:14:22</td>\n",
       "      <td>116.31,39.89</td>\n",
       "      <td>116.32,39.89</td>\n",
       "    </tr>\n",
       "    <tr>\n",
       "      <th>68714</th>\n",
       "      <td>158443.0</td>\n",
       "      <td>2018-10-31 17:54:43</td>\n",
       "      <td>116.37,39.91</td>\n",
       "      <td>116.37,39.91</td>\n",
       "    </tr>\n",
       "    <tr>\n",
       "      <th>1286464</th>\n",
       "      <td>NaN</td>\n",
       "      <td>2018-11-06 08:04:29</td>\n",
       "      <td>116.30,39.92</td>\n",
       "      <td>116.30,39.98</td>\n",
       "    </tr>\n",
       "    <tr>\n",
       "      <th>310387</th>\n",
       "      <td>NaN</td>\n",
       "      <td>2018-10-04 19:10:09</td>\n",
       "      <td>116.37,39.86</td>\n",
       "      <td>116.45,39.98</td>\n",
       "    </tr>\n",
       "    <tr>\n",
       "      <th>734654</th>\n",
       "      <td>196999.0</td>\n",
       "      <td>2018-10-01 22:56:27</td>\n",
       "      <td>116.33,39.89</td>\n",
       "      <td>116.17,39.74</td>\n",
       "    </tr>\n",
       "    <tr>\n",
       "      <th>566700</th>\n",
       "      <td>113325.0</td>\n",
       "      <td>2018-11-23 16:31:48</td>\n",
       "      <td>116.34,40.06</td>\n",
       "      <td>116.37,40.10</td>\n",
       "    </tr>\n",
       "  </tbody>\n",
       "</table>\n",
       "<p>2416 rows × 4 columns</p>\n",
       "</div>"
      ],
      "text/plain": [
       "              pid             req_time             o             d\n",
       "sid                                                               \n",
       "2441261  135832.0  2018-11-30 11:07:08  116.30,40.05  116.30,40.05\n",
       "2450885  112043.0  2018-11-30 22:45:17  116.42,39.90  116.42,39.90\n",
       "1147757       NaN  2018-10-15 22:46:19  116.34,40.00  116.42,39.86\n",
       "385914        NaN  2018-10-05 10:31:23  116.39,39.87  116.39,39.92\n",
       "2200737       NaN  2018-11-20 15:19:59  116.29,39.82  116.29,39.82\n",
       "1325706       NaN  2018-11-06 20:59:10  116.21,40.10  116.32,39.95\n",
       "227922        NaN  2018-10-17 19:41:03  116.29,40.16  116.32,39.89\n",
       "1304339  142281.0  2018-11-06 05:37:13  116.42,39.84  116.41,39.90\n",
       "2226856  148002.0  2018-10-13 13:11:14  116.37,39.86  116.18,39.99\n",
       "1579205       NaN  2018-10-03 08:03:04  116.41,40.07  116.37,39.86\n",
       "183650   167770.0  2018-10-20 14:27:39  116.37,39.91  116.37,39.91\n",
       "2537489       NaN  2018-11-19 12:28:01  116.46,39.91  116.35,39.97\n",
       "3058182  192308.0  2018-11-16 09:01:58  116.41,39.91  116.41,39.91\n",
       "2837021       NaN  2018-11-17 12:20:27  116.32,39.97  116.32,39.97\n",
       "964413        NaN  2018-10-24 19:06:01  116.45,39.93  116.30,39.88\n",
       "2873877  129678.0  2018-11-17 12:31:46  116.28,40.15  116.28,40.15\n",
       "2612955  190953.0  2018-11-01 13:01:01  116.32,39.94  116.31,39.98\n",
       "804669   211890.0  2018-10-29 08:23:50  116.64,40.34  116.34,39.85\n",
       "2955353       NaN  2018-11-02 10:52:01  116.40,39.94  116.40,39.94\n",
       "2773862       NaN  2018-10-18 08:12:40  116.31,39.83  116.42,39.90\n",
       "3368238  112198.0  2018-11-24 11:38:24  116.42,39.82  116.31,39.84\n",
       "929164   203487.0  2018-10-24 15:44:44  116.50,39.80  116.45,39.83\n",
       "3294959  115301.0  2018-10-16 05:24:06  116.35,39.90  116.45,39.93\n",
       "3304903  210494.0  2018-10-16 09:42:23  116.32,39.87  116.30,39.87\n",
       "782237        NaN  2018-10-01 13:10:33  116.37,40.00  116.47,39.93\n",
       "171395   124947.0  2018-10-20 21:31:03  116.13,39.74  116.03,39.78\n",
       "170113   184718.0  2018-10-20 07:29:07  116.31,40.09  116.36,40.07\n",
       "1485992       NaN  2018-10-27 12:22:54  116.43,39.99  116.43,39.99\n",
       "3223152  212641.0  2018-11-07 23:51:37  116.41,39.90  116.55,39.76\n",
       "3279181  104189.0  2018-11-25 13:24:49  116.21,40.04  116.18,40.04\n",
       "...           ...                  ...           ...           ...\n",
       "852181        NaN  2018-11-26 08:37:35  116.44,40.04  116.48,39.99\n",
       "602826   112198.0  2018-11-11 14:23:53  116.24,40.07  116.23,40.08\n",
       "1806671       NaN  2018-11-29 18:31:48  116.39,39.90  116.39,39.90\n",
       "1790465  199899.0  2018-11-29 08:36:57  116.46,40.01  116.36,39.99\n",
       "3066624  135810.0  2018-11-16 20:49:07  116.46,40.01  116.41,39.97\n",
       "732606        NaN  2018-10-01 21:40:14  116.64,39.89  116.02,40.36\n",
       "1035348       NaN  2018-11-27 17:23:11  116.51,39.93  116.40,40.02\n",
       "2430831  162724.0  2018-11-30 20:15:11  116.39,40.00  116.38,40.00\n",
       "804091   100011.0  2018-10-29 15:37:32  116.31,39.90  116.40,39.88\n",
       "2524703  129567.0  2018-10-07 10:47:34  116.42,39.90  116.47,39.92\n",
       "137642   198447.0  2018-10-08 11:09:57  116.16,39.71  116.35,39.93\n",
       "819854        NaN  2018-10-29 22:44:13  116.45,39.80  116.37,39.90\n",
       "2114039       NaN  2018-11-18 10:15:29  116.30,39.87  116.41,39.94\n",
       "2671355       NaN  2018-10-12 06:30:09  116.61,40.07  116.10,40.23\n",
       "472151        NaN  2018-11-09 14:43:52  116.30,39.94  116.60,40.08\n",
       "832406   125857.0  2018-10-29 21:39:46  116.53,39.80  116.47,39.89\n",
       "733821   149504.0  2018-10-01 08:04:31  116.57,40.15  116.32,39.89\n",
       "93291    207313.0  2018-10-31 17:52:20  116.43,39.94  116.41,39.94\n",
       "3181768       NaN  2018-11-21 11:22:59  116.44,39.96  116.40,39.97\n",
       "385427   129419.0  2018-10-05 10:36:10  116.32,40.06  116.33,39.94\n",
       "1294892  148064.0  2018-11-06 18:54:06  116.47,39.89  116.48,39.94\n",
       "2605909  138635.0  2018-11-01 03:00:55  116.44,39.96  116.43,39.95\n",
       "1160255  144367.0  2018-10-15 15:37:01  116.37,39.86  116.37,39.87\n",
       "3367183       NaN  2018-11-24 14:36:37  116.39,39.91  116.39,39.91\n",
       "1455702  116668.0  2018-10-27 18:14:22  116.31,39.89  116.32,39.89\n",
       "68714    158443.0  2018-10-31 17:54:43  116.37,39.91  116.37,39.91\n",
       "1286464       NaN  2018-11-06 08:04:29  116.30,39.92  116.30,39.98\n",
       "310387        NaN  2018-10-04 19:10:09  116.37,39.86  116.45,39.98\n",
       "734654   196999.0  2018-10-01 22:56:27  116.33,39.89  116.17,39.74\n",
       "566700   113325.0  2018-11-23 16:31:48  116.34,40.06  116.37,40.10\n",
       "\n",
       "[2416 rows x 4 columns]"
      ]
     },
     "execution_count": 17,
     "metadata": {},
     "output_type": "execute_result"
    }
   ],
   "source": [
    "train_queries.loc[train_plans[train_plans['plan_time'] != train_queries.loc[train_plans.index, 'req_time']].index]"
   ]
  },
  {
   "cell_type": "markdown",
   "metadata": {},
   "source": [
    "## train_clicks数据集\n",
    "\n",
    "### 数据类型&大小\n",
    "\n",
    "1. 数据中有2个int64类型的数据和1个object类型\n",
    "2. 整个数据集的大小有10.4+MB\n",
    "3. 数据一共有453336条记录\n",
    "\n",
    "注意下面表格中字段的含义:\n",
    "```\n",
    "sid:会话ID, \n",
    "plan_time:一个时间戳\n",
    "plans：各种计划,计划中包含距离(distance),价格(price),以及出行方式(transport_mode)估计到达的时间(ETA)\n",
    "```"
   ]
  },
  {
   "cell_type": "code",
   "execution_count": 18,
   "metadata": {},
   "outputs": [
    {
     "data": {
      "text/html": [
       "<div>\n",
       "<style scoped>\n",
       "    .dataframe tbody tr th:only-of-type {\n",
       "        vertical-align: middle;\n",
       "    }\n",
       "\n",
       "    .dataframe tbody tr th {\n",
       "        vertical-align: top;\n",
       "    }\n",
       "\n",
       "    .dataframe thead th {\n",
       "        text-align: right;\n",
       "    }\n",
       "</style>\n",
       "<table border=\"1\" class=\"dataframe\">\n",
       "  <thead>\n",
       "    <tr style=\"text-align: right;\">\n",
       "      <th></th>\n",
       "      <th>sid</th>\n",
       "      <th>click_time</th>\n",
       "      <th>click_mode</th>\n",
       "    </tr>\n",
       "  </thead>\n",
       "  <tbody>\n",
       "    <tr>\n",
       "      <th>0</th>\n",
       "      <td>2848914</td>\n",
       "      <td>2018-11-17 18:42:17</td>\n",
       "      <td>1</td>\n",
       "    </tr>\n",
       "    <tr>\n",
       "      <th>1</th>\n",
       "      <td>2629085</td>\n",
       "      <td>2018-10-12 16:28:13</td>\n",
       "      <td>3</td>\n",
       "    </tr>\n",
       "    <tr>\n",
       "      <th>2</th>\n",
       "      <td>602598</td>\n",
       "      <td>2018-11-11 16:38:42</td>\n",
       "      <td>2</td>\n",
       "    </tr>\n",
       "    <tr>\n",
       "      <th>3</th>\n",
       "      <td>2022975</td>\n",
       "      <td>2018-10-14 12:28:11</td>\n",
       "      <td>9</td>\n",
       "    </tr>\n",
       "    <tr>\n",
       "      <th>4</th>\n",
       "      <td>988425</td>\n",
       "      <td>2018-11-12 16:47:30</td>\n",
       "      <td>7</td>\n",
       "    </tr>\n",
       "  </tbody>\n",
       "</table>\n",
       "</div>"
      ],
      "text/plain": [
       "       sid           click_time  click_mode\n",
       "0  2848914  2018-11-17 18:42:17           1\n",
       "1  2629085  2018-10-12 16:28:13           3\n",
       "2   602598  2018-11-11 16:38:42           2\n",
       "3  2022975  2018-10-14 12:28:11           9\n",
       "4   988425  2018-11-12 16:47:30           7"
      ]
     },
     "execution_count": 18,
     "metadata": {},
     "output_type": "execute_result"
    }
   ],
   "source": [
    "train_clicks.head()"
   ]
  },
  {
   "cell_type": "code",
   "execution_count": 19,
   "metadata": {},
   "outputs": [
    {
     "name": "stdout",
     "output_type": "stream",
     "text": [
      "<class 'pandas.core.frame.DataFrame'>\n",
      "RangeIndex: 453336 entries, 0 to 453335\n",
      "Data columns (total 3 columns):\n",
      "sid           453336 non-null int64\n",
      "click_time    453336 non-null object\n",
      "click_mode    453336 non-null int64\n",
      "dtypes: int64(2), object(1)\n",
      "memory usage: 10.4+ MB\n"
     ]
    }
   ],
   "source": [
    "train_clicks.info()"
   ]
  },
  {
   "cell_type": "markdown",
   "metadata": {},
   "source": [
    "### 数据缺失情况探索\n",
    "1. 不存在缺失的情况"
   ]
  },
  {
   "cell_type": "code",
   "execution_count": 20,
   "metadata": {},
   "outputs": [
    {
     "data": {
      "text/plain": [
       "sid           0\n",
       "click_time    0\n",
       "click_mode    0\n",
       "dtype: int64"
      ]
     },
     "execution_count": 20,
     "metadata": {},
     "output_type": "execute_result"
    }
   ],
   "source": [
    "train_clicks.isnull().sum()"
   ]
  },
  {
   "cell_type": "markdown",
   "metadata": {},
   "source": [
    "### 数据nunique分布\n",
    "1. sid的是唯一的, \n",
    "3. click_mode一共有11种,和题目中的是一致的"
   ]
  },
  {
   "cell_type": "code",
   "execution_count": 21,
   "metadata": {},
   "outputs": [
    {
     "data": {
      "text/plain": [
       "sid           453336\n",
       "click_time    422100\n",
       "click_mode        11\n",
       "dtype: int64"
      ]
     },
     "execution_count": 21,
     "metadata": {},
     "output_type": "execute_result"
    }
   ],
   "source": [
    "train_clicks.nunique()"
   ]
  },
  {
   "cell_type": "markdown",
   "metadata": {},
   "source": [
    "### 标签分布探索\n",
    "\n",
    "- 2号,7号,1号,9号，5号是最多的,"
   ]
  },
  {
   "cell_type": "code",
   "execution_count": 22,
   "metadata": {},
   "outputs": [
    {
     "data": {
      "text/plain": [
       "2     136491\n",
       "7      78209\n",
       "1      70369\n",
       "9      48864\n",
       "5      47480\n",
       "3      24626\n",
       "10     14882\n",
       "4      12606\n",
       "6      11863\n",
       "11      6089\n",
       "8       1857\n",
       "Name: click_mode, dtype: int64"
      ]
     },
     "execution_count": 22,
     "metadata": {},
     "output_type": "execute_result"
    }
   ],
   "source": [
    "train_clicks['click_mode'].value_counts()"
   ]
  },
  {
   "cell_type": "code",
   "execution_count": 23,
   "metadata": {},
   "outputs": [
    {
     "data": {
      "text/plain": [
       "<matplotlib.axes._subplots.AxesSubplot at 0x7ffa08681198>"
      ]
     },
     "execution_count": 23,
     "metadata": {},
     "output_type": "execute_result"
    },
    {
     "data": {
      "image/png": "[encoded data removed]",
      "text/plain": [
       "<matplotlib.figure.Figure at 0x7ffa0927de10>"
      ]
     },
     "metadata": {},
     "output_type": "display_data"
    }
   ],
   "source": [
    "plt.figure(figsize=[15,7])\n",
    "plt.subplot(1, 2, 1)\n",
    "train_clicks['click_mode'].value_counts().plot(kind= 'bar')\n",
    "plt.subplot(1, 2, 2)\n",
    "train_clicks['click_mode'].value_counts().plot(kind= 'pie')"
   ]
  },
  {
   "cell_type": "code",
   "execution_count": 24,
   "metadata": {},
   "outputs": [
    {
     "data": {
      "text/plain": [
       "0.017527838071540756"
      ]
     },
     "execution_count": 24,
     "metadata": {},
     "output_type": "execute_result"
    }
   ],
   "source": [
    "(1857 + 6089) / train_clicks.shape[0]"
   ]
  },
  {
   "cell_type": "markdown",
   "metadata": {},
   "source": [
    "## profiles\n",
    "\n",
    "### 数据类型&大小\n",
    "\n",
    "1. 数据中有1个int64类型的数据和66个float64类型\n",
    "2. 整个数据集的大小有32.2+MB\n",
    "3. 数据一共有63090 条记录\n",
    "\n",
    "注意下面表格中字段的含义:\n",
    "```\n",
    "sid:会话ID, \n",
    "plan_time:一个时间戳\n",
    "plans：各种计划,计划中包含距离(distance),价格(price),以及出行方式(transport_mode)估计到达的时间(ETA)\n",
    "```"
   ]
  },
  {
   "cell_type": "code",
   "execution_count": 25,
   "metadata": {},
   "outputs": [
    {
     "data": {
      "text/html": [
       "<div>\n",
       "<style scoped>\n",
       "    .dataframe tbody tr th:only-of-type {\n",
       "        vertical-align: middle;\n",
       "    }\n",
       "\n",
       "    .dataframe tbody tr th {\n",
       "        vertical-align: top;\n",
       "    }\n",
       "\n",
       "    .dataframe thead th {\n",
       "        text-align: right;\n",
       "    }\n",
       "</style>\n",
       "<table border=\"1\" class=\"dataframe\">\n",
       "  <thead>\n",
       "    <tr style=\"text-align: right;\">\n",
       "      <th></th>\n",
       "      <th>pid</th>\n",
       "      <th>p0</th>\n",
       "      <th>p1</th>\n",
       "      <th>p2</th>\n",
       "      <th>p3</th>\n",
       "      <th>p4</th>\n",
       "      <th>p5</th>\n",
       "      <th>p6</th>\n",
       "      <th>p7</th>\n",
       "      <th>p8</th>\n",
       "      <th>...</th>\n",
       "      <th>p56</th>\n",
       "      <th>p57</th>\n",
       "      <th>p58</th>\n",
       "      <th>p59</th>\n",
       "      <th>p60</th>\n",
       "      <th>p61</th>\n",
       "      <th>p62</th>\n",
       "      <th>p63</th>\n",
       "      <th>p64</th>\n",
       "      <th>p65</th>\n",
       "    </tr>\n",
       "  </thead>\n",
       "  <tbody>\n",
       "    <tr>\n",
       "      <th>0</th>\n",
       "      <td>196356</td>\n",
       "      <td>1.0</td>\n",
       "      <td>0.0</td>\n",
       "      <td>0.0</td>\n",
       "      <td>0.0</td>\n",
       "      <td>0.0</td>\n",
       "      <td>0.0</td>\n",
       "      <td>0.0</td>\n",
       "      <td>0.0</td>\n",
       "      <td>1.0</td>\n",
       "      <td>...</td>\n",
       "      <td>0.0</td>\n",
       "      <td>0.0</td>\n",
       "      <td>0.0</td>\n",
       "      <td>0.0</td>\n",
       "      <td>0.0</td>\n",
       "      <td>0.0</td>\n",
       "      <td>0.0</td>\n",
       "      <td>0.0</td>\n",
       "      <td>0.0</td>\n",
       "      <td>0.0</td>\n",
       "    </tr>\n",
       "    <tr>\n",
       "      <th>1</th>\n",
       "      <td>204083</td>\n",
       "      <td>1.0</td>\n",
       "      <td>0.0</td>\n",
       "      <td>0.0</td>\n",
       "      <td>0.0</td>\n",
       "      <td>0.0</td>\n",
       "      <td>0.0</td>\n",
       "      <td>0.0</td>\n",
       "      <td>1.0</td>\n",
       "      <td>0.0</td>\n",
       "      <td>...</td>\n",
       "      <td>0.0</td>\n",
       "      <td>0.0</td>\n",
       "      <td>0.0</td>\n",
       "      <td>1.0</td>\n",
       "      <td>0.0</td>\n",
       "      <td>0.0</td>\n",
       "      <td>0.0</td>\n",
       "      <td>1.0</td>\n",
       "      <td>0.0</td>\n",
       "      <td>0.0</td>\n",
       "    </tr>\n",
       "    <tr>\n",
       "      <th>2</th>\n",
       "      <td>170667</td>\n",
       "      <td>0.0</td>\n",
       "      <td>0.0</td>\n",
       "      <td>1.0</td>\n",
       "      <td>0.0</td>\n",
       "      <td>0.0</td>\n",
       "      <td>0.0</td>\n",
       "      <td>0.0</td>\n",
       "      <td>1.0</td>\n",
       "      <td>0.0</td>\n",
       "      <td>...</td>\n",
       "      <td>0.0</td>\n",
       "      <td>0.0</td>\n",
       "      <td>0.0</td>\n",
       "      <td>0.0</td>\n",
       "      <td>0.0</td>\n",
       "      <td>0.0</td>\n",
       "      <td>1.0</td>\n",
       "      <td>0.0</td>\n",
       "      <td>0.0</td>\n",
       "      <td>0.0</td>\n",
       "    </tr>\n",
       "    <tr>\n",
       "      <th>3</th>\n",
       "      <td>115511</td>\n",
       "      <td>0.0</td>\n",
       "      <td>0.0</td>\n",
       "      <td>0.0</td>\n",
       "      <td>1.0</td>\n",
       "      <td>0.0</td>\n",
       "      <td>0.0</td>\n",
       "      <td>0.0</td>\n",
       "      <td>0.0</td>\n",
       "      <td>1.0</td>\n",
       "      <td>...</td>\n",
       "      <td>0.0</td>\n",
       "      <td>0.0</td>\n",
       "      <td>0.0</td>\n",
       "      <td>0.0</td>\n",
       "      <td>0.0</td>\n",
       "      <td>0.0</td>\n",
       "      <td>0.0</td>\n",
       "      <td>1.0</td>\n",
       "      <td>0.0</td>\n",
       "      <td>0.0</td>\n",
       "    </tr>\n",
       "    <tr>\n",
       "      <th>4</th>\n",
       "      <td>129719</td>\n",
       "      <td>0.0</td>\n",
       "      <td>0.0</td>\n",
       "      <td>1.0</td>\n",
       "      <td>0.0</td>\n",
       "      <td>0.0</td>\n",
       "      <td>0.0</td>\n",
       "      <td>0.0</td>\n",
       "      <td>0.0</td>\n",
       "      <td>1.0</td>\n",
       "      <td>...</td>\n",
       "      <td>0.0</td>\n",
       "      <td>0.0</td>\n",
       "      <td>0.0</td>\n",
       "      <td>0.0</td>\n",
       "      <td>1.0</td>\n",
       "      <td>0.0</td>\n",
       "      <td>0.0</td>\n",
       "      <td>0.0</td>\n",
       "      <td>0.0</td>\n",
       "      <td>0.0</td>\n",
       "    </tr>\n",
       "  </tbody>\n",
       "</table>\n",
       "<p>5 rows × 67 columns</p>\n",
       "</div>"
      ],
      "text/plain": [
       "      pid   p0   p1   p2   p3   p4   p5   p6   p7   p8  ...  p56  p57  p58  \\\n",
       "0  196356  1.0  0.0  0.0  0.0  0.0  0.0  0.0  0.0  1.0  ...  0.0  0.0  0.0   \n",
       "1  204083  1.0  0.0  0.0  0.0  0.0  0.0  0.0  1.0  0.0  ...  0.0  0.0  0.0   \n",
       "2  170667  0.0  0.0  1.0  0.0  0.0  0.0  0.0  1.0  0.0  ...  0.0  0.0  0.0   \n",
       "3  115511  0.0  0.0  0.0  1.0  0.0  0.0  0.0  0.0  1.0  ...  0.0  0.0  0.0   \n",
       "4  129719  0.0  0.0  1.0  0.0  0.0  0.0  0.0  0.0  1.0  ...  0.0  0.0  0.0   \n",
       "\n",
       "   p59  p60  p61  p62  p63  p64  p65  \n",
       "0  0.0  0.0  0.0  0.0  0.0  0.0  0.0  \n",
       "1  1.0  0.0  0.0  0.0  1.0  0.0  0.0  \n",
       "2  0.0  0.0  0.0  1.0  0.0  0.0  0.0  \n",
       "3  0.0  0.0  0.0  0.0  1.0  0.0  0.0  \n",
       "4  0.0  1.0  0.0  0.0  0.0  0.0  0.0  \n",
       "\n",
       "[5 rows x 67 columns]"
      ]
     },
     "execution_count": 25,
     "metadata": {},
     "output_type": "execute_result"
    }
   ],
   "source": [
    "profiles.head()"
   ]
  },
  {
   "cell_type": "code",
   "execution_count": 26,
   "metadata": {
    "scrolled": true
   },
   "outputs": [
    {
     "name": "stdout",
     "output_type": "stream",
     "text": [
      "<class 'pandas.core.frame.DataFrame'>\n",
      "RangeIndex: 63090 entries, 0 to 63089\n",
      "Data columns (total 67 columns):\n",
      "pid    63090 non-null int64\n",
      "p0     63090 non-null float64\n",
      "p1     63090 non-null float64\n",
      "p2     63090 non-null float64\n",
      "p3     63090 non-null float64\n",
      "p4     63090 non-null float64\n",
      "p5     63090 non-null float64\n",
      "p6     63090 non-null float64\n",
      "p7     63090 non-null float64\n",
      "p8     63090 non-null float64\n",
      "p9     63090 non-null float64\n",
      "p10    63090 non-null float64\n",
      "p11    63090 non-null float64\n",
      "p12    63090 non-null float64\n",
      "p13    63090 non-null float64\n",
      "p14    63090 non-null float64\n",
      "p15    63090 non-null float64\n",
      "p16    63090 non-null float64\n",
      "p17    63090 non-null float64\n",
      "p18    63090 non-null float64\n",
      "p19    63090 non-null float64\n",
      "p20    63090 non-null float64\n",
      "p21    63090 non-null float64\n",
      "p22    63090 non-null float64\n",
      "p23    63090 non-null float64\n",
      "p24    63090 non-null float64\n",
      "p25    63090 non-null float64\n",
      "p26    63090 non-null float64\n",
      "p27    63090 non-null float64\n",
      "p28    63090 non-null float64\n",
      "p29    63090 non-null float64\n",
      "p30    63090 non-null float64\n",
      "p31    63090 non-null float64\n",
      "p32    63090 non-null float64\n",
      "p33    63090 non-null float64\n",
      "p34    63090 non-null float64\n",
      "p35    63090 non-null float64\n",
      "p36    63090 non-null float64\n",
      "p37    63090 non-null float64\n",
      "p38    63090 non-null float64\n",
      "p39    63090 non-null float64\n",
      "p40    63090 non-null float64\n",
      "p41    63090 non-null float64\n",
      "p42    63090 non-null float64\n",
      "p43    63090 non-null float64\n",
      "p44    63090 non-null float64\n",
      "p45    63090 non-null float64\n",
      "p46    63090 non-null float64\n",
      "p47    63090 non-null float64\n",
      "p48    63090 non-null float64\n",
      "p49    63090 non-null float64\n",
      "p50    63090 non-null float64\n",
      "p51    63090 non-null float64\n",
      "p52    63090 non-null float64\n",
      "p53    63090 non-null float64\n",
      "p54    63090 non-null float64\n",
      "p55    63090 non-null float64\n",
      "p56    63090 non-null float64\n",
      "p57    63090 non-null float64\n",
      "p58    63090 non-null float64\n",
      "p59    63090 non-null float64\n",
      "p60    63090 non-null float64\n",
      "p61    63090 non-null float64\n",
      "p62    63090 non-null float64\n",
      "p63    63090 non-null float64\n",
      "p64    63090 non-null float64\n",
      "p65    63090 non-null float64\n",
      "dtypes: float64(66), int64(1)\n",
      "memory usage: 32.2 MB\n"
     ]
    }
   ],
   "source": [
    "profiles.info()"
   ]
  },
  {
   "cell_type": "markdown",
   "metadata": {},
   "source": [
    "### 数据缺失情况探索\n",
    "1. 不存在缺失的情况"
   ]
  },
  {
   "cell_type": "code",
   "execution_count": 27,
   "metadata": {
    "scrolled": true
   },
   "outputs": [
    {
     "data": {
      "text/plain": [
       "pid    0\n",
       "p34    0\n",
       "p35    0\n",
       "p36    0\n",
       "p37    0\n",
       "p38    0\n",
       "p39    0\n",
       "p40    0\n",
       "p41    0\n",
       "p42    0\n",
       "p43    0\n",
       "p44    0\n",
       "p45    0\n",
       "p46    0\n",
       "p47    0\n",
       "p33    0\n",
       "p48    0\n",
       "p50    0\n",
       "p51    0\n",
       "p52    0\n",
       "p53    0\n",
       "p54    0\n",
       "p55    0\n",
       "p56    0\n",
       "p57    0\n",
       "p58    0\n",
       "p59    0\n",
       "p60    0\n",
       "p61    0\n",
       "p62    0\n",
       "      ..\n",
       "p2     0\n",
       "p3     0\n",
       "p4     0\n",
       "p5     0\n",
       "p6     0\n",
       "p7     0\n",
       "p8     0\n",
       "p9     0\n",
       "p10    0\n",
       "p11    0\n",
       "p12    0\n",
       "p13    0\n",
       "p31    0\n",
       "p14    0\n",
       "p16    0\n",
       "p17    0\n",
       "p18    0\n",
       "p19    0\n",
       "p20    0\n",
       "p21    0\n",
       "p22    0\n",
       "p23    0\n",
       "p24    0\n",
       "p25    0\n",
       "p26    0\n",
       "p27    0\n",
       "p28    0\n",
       "p29    0\n",
       "p15    0\n",
       "p65    0\n",
       "Length: 67, dtype: int64"
      ]
     },
     "execution_count": 27,
     "metadata": {},
     "output_type": "execute_result"
    }
   ],
   "source": [
    "profiles.isnull().sum().sort_values()"
   ]
  },
  {
   "cell_type": "markdown",
   "metadata": {},
   "source": [
    "### 数据nunique分布\n",
    "1. pid的是唯一的;\n",
    "2. p0-p65都是二元的; "
   ]
  },
  {
   "cell_type": "code",
   "execution_count": 28,
   "metadata": {
    "scrolled": true
   },
   "outputs": [
    {
     "data": {
      "text/plain": [
       "p32        2\n",
       "p34        2\n",
       "p35        2\n",
       "p36        2\n",
       "p37        2\n",
       "p38        2\n",
       "p39        2\n",
       "p40        2\n",
       "p41        2\n",
       "p42        2\n",
       "p43        2\n",
       "p44        2\n",
       "p45        2\n",
       "p46        2\n",
       "p47        2\n",
       "p33        2\n",
       "p48        2\n",
       "p50        2\n",
       "p51        2\n",
       "p52        2\n",
       "p53        2\n",
       "p54        2\n",
       "p55        2\n",
       "p56        2\n",
       "p57        2\n",
       "p58        2\n",
       "p59        2\n",
       "p60        2\n",
       "p61        2\n",
       "p62        2\n",
       "       ...  \n",
       "p2         2\n",
       "p3         2\n",
       "p4         2\n",
       "p5         2\n",
       "p6         2\n",
       "p7         2\n",
       "p8         2\n",
       "p9         2\n",
       "p10        2\n",
       "p11        2\n",
       "p12        2\n",
       "p13        2\n",
       "p31        2\n",
       "p14        2\n",
       "p16        2\n",
       "p17        2\n",
       "p18        2\n",
       "p19        2\n",
       "p20        2\n",
       "p21        2\n",
       "p22        2\n",
       "p23        2\n",
       "p24        2\n",
       "p25        2\n",
       "p26        2\n",
       "p27        2\n",
       "p28        2\n",
       "p29        2\n",
       "p15        2\n",
       "pid    63090\n",
       "Length: 67, dtype: int64"
      ]
     },
     "execution_count": 28,
     "metadata": {},
     "output_type": "execute_result"
    }
   ],
   "source": [
    "profiles.nunique().sort_values()"
   ]
  },
  {
   "cell_type": "markdown",
   "metadata": {},
   "source": [
    "## train_clicks&train_plans&train_queries比较\n",
    "1. 所有出现在train_clicks或者train_plans中的sid全部出现在了train_queries中;\n",
    "2. 所有出现在clicks中的sid全部出现在了plans中,也就是说query但是没有plans的用户全部是0,这部分几乎不需要进行预测."
   ]
  },
  {
   "cell_type": "code",
   "execution_count": 29,
   "metadata": {},
   "outputs": [],
   "source": [
    "train_clicks.set_index('sid',inplace = True)"
   ]
  },
  {
   "cell_type": "code",
   "execution_count": 30,
   "metadata": {},
   "outputs": [
    {
     "data": {
      "text/plain": [
       "(500000, 4)"
      ]
     },
     "execution_count": 30,
     "metadata": {},
     "output_type": "execute_result"
    }
   ],
   "source": [
    "train_queries.shape"
   ]
  },
  {
   "cell_type": "code",
   "execution_count": 31,
   "metadata": {},
   "outputs": [
    {
     "data": {
      "text/plain": [
       "(491054, 2)"
      ]
     },
     "execution_count": 31,
     "metadata": {},
     "output_type": "execute_result"
    }
   ],
   "source": [
    "train_plans.shape"
   ]
  },
  {
   "cell_type": "code",
   "execution_count": 32,
   "metadata": {},
   "outputs": [
    {
     "data": {
      "text/plain": [
       "(453336, 2)"
      ]
     },
     "execution_count": 32,
     "metadata": {},
     "output_type": "execute_result"
    }
   ],
   "source": [
    "train_clicks.shape"
   ]
  },
  {
   "cell_type": "markdown",
   "metadata": {},
   "source": [
    "- 所有出现在train_clicks或者train_plans中的sid全部出现在了train_queries中;"
   ]
  },
  {
   "cell_type": "code",
   "execution_count": 33,
   "metadata": {},
   "outputs": [
    {
     "data": {
      "text/plain": [
       "0"
      ]
     },
     "execution_count": 33,
     "metadata": {},
     "output_type": "execute_result"
    }
   ],
   "source": [
    "plan_not_query = list(set(train_plans.index) - set(train_queries.index))\n",
    "len(plan_not_query)"
   ]
  },
  {
   "cell_type": "code",
   "execution_count": 34,
   "metadata": {},
   "outputs": [
    {
     "data": {
      "text/plain": [
       "0"
      ]
     },
     "execution_count": 34,
     "metadata": {},
     "output_type": "execute_result"
    }
   ],
   "source": [
    "plan_not_query = list(set(train_clicks.index) - set(train_queries.index))\n",
    "len(plan_not_query)"
   ]
  },
  {
   "cell_type": "markdown",
   "metadata": {},
   "source": [
    "- <font color=red>所有出现在clicks中的sid全部出现在了plans中,也就是说query但是没有plans的用户全部是0</font>"
   ]
  },
  {
   "cell_type": "code",
   "execution_count": 35,
   "metadata": {},
   "outputs": [
    {
     "data": {
      "text/plain": [
       "0"
      ]
     },
     "execution_count": 35,
     "metadata": {},
     "output_type": "execute_result"
    }
   ],
   "source": [
    "clicks_not_plans = list(set(train_clicks.index) - set(train_plans.index))\n",
    "len(clicks_not_plans)"
   ]
  },
  {
   "cell_type": "code",
   "execution_count": 36,
   "metadata": {
    "scrolled": true
   },
   "outputs": [
    {
     "data": {
      "text/html": [
       "<div>\n",
       "<style scoped>\n",
       "    .dataframe tbody tr th:only-of-type {\n",
       "        vertical-align: middle;\n",
       "    }\n",
       "\n",
       "    .dataframe tbody tr th {\n",
       "        vertical-align: top;\n",
       "    }\n",
       "\n",
       "    .dataframe thead th {\n",
       "        text-align: right;\n",
       "    }\n",
       "</style>\n",
       "<table border=\"1\" class=\"dataframe\">\n",
       "  <thead>\n",
       "    <tr style=\"text-align: right;\">\n",
       "      <th></th>\n",
       "      <th>click_time</th>\n",
       "      <th>click_mode</th>\n",
       "    </tr>\n",
       "    <tr>\n",
       "      <th>sid</th>\n",
       "      <th></th>\n",
       "      <th></th>\n",
       "    </tr>\n",
       "  </thead>\n",
       "  <tbody>\n",
       "  </tbody>\n",
       "</table>\n",
       "</div>"
      ],
      "text/plain": [
       "Empty DataFrame\n",
       "Columns: [click_time, click_mode]\n",
       "Index: []"
      ]
     },
     "execution_count": 36,
     "metadata": {},
     "output_type": "execute_result"
    }
   ],
   "source": [
    "train_clicks.loc[train_clicks.index.isin(list(set(train_queries.index) - set(train_plans.index)))]"
   ]
  },
  {
   "cell_type": "markdown",
   "metadata": {},
   "source": [
    "# 测试数据EDA\n",
    "## test_queries数据集\n",
    "### 数据类型&大小\n",
    "\n",
    "1. 数据中有1个int64类型的数据和3个object类型和1个float的数据组成\n",
    "2. 整个数据集的大小有3.6+ MB\n",
    "3. 数据一共有94358条记录\n",
    "\n",
    "注意下面表格中字段的含义:\n",
    "```\n",
    "sid:会话ID, \n",
    "pid:(profile)配置文件ID\n",
    "req_time：请求时间戳\n",
    "o: 原始点的坐标\n",
    "d: 目的地的坐标\n",
    "```"
   ]
  },
  {
   "cell_type": "code",
   "execution_count": 37,
   "metadata": {},
   "outputs": [
    {
     "data": {
      "text/html": [
       "<div>\n",
       "<style scoped>\n",
       "    .dataframe tbody tr th:only-of-type {\n",
       "        vertical-align: middle;\n",
       "    }\n",
       "\n",
       "    .dataframe tbody tr th {\n",
       "        vertical-align: top;\n",
       "    }\n",
       "\n",
       "    .dataframe thead th {\n",
       "        text-align: right;\n",
       "    }\n",
       "</style>\n",
       "<table border=\"1\" class=\"dataframe\">\n",
       "  <thead>\n",
       "    <tr style=\"text-align: right;\">\n",
       "      <th></th>\n",
       "      <th>sid</th>\n",
       "      <th>pid</th>\n",
       "      <th>req_time</th>\n",
       "      <th>o</th>\n",
       "      <th>d</th>\n",
       "    </tr>\n",
       "  </thead>\n",
       "  <tbody>\n",
       "    <tr>\n",
       "      <th>0</th>\n",
       "      <td>1126541</td>\n",
       "      <td>178395.0</td>\n",
       "      <td>2018-12-05 14:51:43</td>\n",
       "      <td>116.41,39.92</td>\n",
       "      <td>116.46,39.95</td>\n",
       "    </tr>\n",
       "    <tr>\n",
       "      <th>1</th>\n",
       "      <td>453685</td>\n",
       "      <td>179178.0</td>\n",
       "      <td>2018-12-01 12:50:33</td>\n",
       "      <td>116.39,39.90</td>\n",
       "      <td>116.41,39.91</td>\n",
       "    </tr>\n",
       "    <tr>\n",
       "      <th>2</th>\n",
       "      <td>2066073</td>\n",
       "      <td>184748.0</td>\n",
       "      <td>2018-12-07 10:17:35</td>\n",
       "      <td>116.37,39.71</td>\n",
       "      <td>116.31,39.89</td>\n",
       "    </tr>\n",
       "    <tr>\n",
       "      <th>3</th>\n",
       "      <td>452746</td>\n",
       "      <td>162795.0</td>\n",
       "      <td>2018-12-01 07:52:44</td>\n",
       "      <td>116.33,39.97</td>\n",
       "      <td>116.31,39.98</td>\n",
       "    </tr>\n",
       "    <tr>\n",
       "      <th>4</th>\n",
       "      <td>1431672</td>\n",
       "      <td>116384.0</td>\n",
       "      <td>2018-12-06 10:36:30</td>\n",
       "      <td>116.51,39.68</td>\n",
       "      <td>116.51,39.68</td>\n",
       "    </tr>\n",
       "  </tbody>\n",
       "</table>\n",
       "</div>"
      ],
      "text/plain": [
       "       sid       pid             req_time             o             d\n",
       "0  1126541  178395.0  2018-12-05 14:51:43  116.41,39.92  116.46,39.95\n",
       "1   453685  179178.0  2018-12-01 12:50:33  116.39,39.90  116.41,39.91\n",
       "2  2066073  184748.0  2018-12-07 10:17:35  116.37,39.71  116.31,39.89\n",
       "3   452746  162795.0  2018-12-01 07:52:44  116.33,39.97  116.31,39.98\n",
       "4  1431672  116384.0  2018-12-06 10:36:30  116.51,39.68  116.51,39.68"
      ]
     },
     "execution_count": 37,
     "metadata": {},
     "output_type": "execute_result"
    }
   ],
   "source": [
    "test_queries.head()"
   ]
  },
  {
   "cell_type": "code",
   "execution_count": 38,
   "metadata": {},
   "outputs": [
    {
     "name": "stdout",
     "output_type": "stream",
     "text": [
      "<class 'pandas.core.frame.DataFrame'>\n",
      "RangeIndex: 94358 entries, 0 to 94357\n",
      "Data columns (total 5 columns):\n",
      "sid         94358 non-null int64\n",
      "pid         62911 non-null float64\n",
      "req_time    94358 non-null object\n",
      "o           94358 non-null object\n",
      "d           94358 non-null object\n",
      "dtypes: float64(1), int64(1), object(3)\n",
      "memory usage: 3.6+ MB\n"
     ]
    }
   ],
   "source": [
    "test_queries.info()"
   ]
  },
  {
   "cell_type": "markdown",
   "metadata": {},
   "source": [
    "### 数据缺失情况探索\n",
    "1. pid存在缺失的情况,缺失了31447个,缺失比例为33.327%\n"
   ]
  },
  {
   "cell_type": "code",
   "execution_count": 39,
   "metadata": {},
   "outputs": [
    {
     "data": {
      "text/plain": [
       "sid             0\n",
       "pid         31447\n",
       "req_time        0\n",
       "o               0\n",
       "d               0\n",
       "dtype: int64"
      ]
     },
     "execution_count": 39,
     "metadata": {},
     "output_type": "execute_result"
    }
   ],
   "source": [
    "test_queries.isnull().sum()"
   ]
  },
  {
   "cell_type": "code",
   "execution_count": 40,
   "metadata": {},
   "outputs": [
    {
     "data": {
      "text/plain": [
       "0.3332732783653744"
      ]
     },
     "execution_count": 40,
     "metadata": {},
     "output_type": "execute_result"
    }
   ],
   "source": [
    "31447 / test_queries.shape[0]"
   ]
  },
  {
   "cell_type": "markdown",
   "metadata": {},
   "source": [
    "### 数据nunique分布\n",
    "1. sid的是唯一的,\n",
    "2. pid占据了14.0942%\n",
    "3. o和d占据了3%左右,很奇怪的现象,应该是相同地点搜路线的用户很多,相同目的地的用户也很多"
   ]
  },
  {
   "cell_type": "code",
   "execution_count": 41,
   "metadata": {},
   "outputs": [
    {
     "data": {
      "text/plain": [
       "sid         1.000000\n",
       "pid         0.140942\n",
       "req_time    0.891880\n",
       "o           0.034517\n",
       "d           0.030564\n",
       "dtype: float64"
      ]
     },
     "execution_count": 41,
     "metadata": {},
     "output_type": "execute_result"
    }
   ],
   "source": [
    "test_queries.nunique() / test_queries.shape[0]"
   ]
  },
  {
   "cell_type": "markdown",
   "metadata": {},
   "source": [
    "### 测试集中位置的分布和训练集类似"
   ]
  },
  {
   "cell_type": "code",
   "execution_count": 42,
   "metadata": {
    "scrolled": true
   },
   "outputs": [
    {
     "data": {
      "text/plain": [
       "116.32,39.89    1133\n",
       "116.37,39.86    1059\n",
       "116.42,39.90    1044\n",
       "116.37,39.91     985\n",
       "116.41,39.91     980\n",
       "116.40,39.91     911\n",
       "116.39,39.90     841\n",
       "116.35,39.94     690\n",
       "116.31,39.98     584\n",
       "116.39,39.89     583\n",
       "116.41,39.90     569\n",
       "116.43,39.94     556\n",
       "116.47,39.91     555\n",
       "116.45,39.91     537\n",
       "116.41,39.92     494\n",
       "116.30,40.05     489\n",
       "116.31,39.89     467\n",
       "116.43,39.92     438\n",
       "116.45,39.92     438\n",
       "116.45,39.93     435\n",
       "116.33,39.99     433\n",
       "116.39,39.94     427\n",
       "116.39,39.91     425\n",
       "116.40,39.93     410\n",
       "116.35,39.91     395\n",
       "116.45,39.96     394\n",
       "116.42,39.84     391\n",
       "116.46,39.93     362\n",
       "116.32,39.90     342\n",
       "116.37,39.90     327\n",
       "                ... \n",
       "116.35,39.68       1\n",
       "116.18,39.88       1\n",
       "116.65,39.96       1\n",
       "116.40,39.69       1\n",
       "116.19,39.97       1\n",
       "116.42,40.24       1\n",
       "116.10,39.74       1\n",
       "117.25,40.21       1\n",
       "116.58,40.14       1\n",
       "116.10,40.11       1\n",
       "116.48,40.11       1\n",
       "116.73,40.04       1\n",
       "116.61,39.81       1\n",
       "116.62,39.95       1\n",
       "116.35,40.17       1\n",
       "116.60,40.14       1\n",
       "116.77,39.92       1\n",
       "116.11,39.83       1\n",
       "116.17,40.08       1\n",
       "116.98,40.57       1\n",
       "116.17,39.70       1\n",
       "116.53,39.83       1\n",
       "116.20,40.10       1\n",
       "116.78,40.08       1\n",
       "116.81,40.31       1\n",
       "115.88,40.37       1\n",
       "116.15,40.16       1\n",
       "116.33,40.12       1\n",
       "116.35,39.65       1\n",
       "116.56,40.26       1\n",
       "Name: o, Length: 3257, dtype: int64"
      ]
     },
     "execution_count": 42,
     "metadata": {},
     "output_type": "execute_result"
    }
   ],
   "source": [
    "test_queries['o'].value_counts()"
   ]
  },
  {
   "cell_type": "code",
   "execution_count": 43,
   "metadata": {
    "scrolled": true
   },
   "outputs": [
    {
     "data": {
      "text/plain": [
       "116.32,39.89    3382\n",
       "116.37,39.86    2421\n",
       "116.42,39.90    2289\n",
       "116.37,39.91    1345\n",
       "116.39,39.90    1181\n",
       "116.41,39.91    1124\n",
       "116.39,39.91    1056\n",
       "116.45,39.93    1002\n",
       "116.31,39.98     768\n",
       "116.40,39.93     749\n",
       "116.60,40.08     638\n",
       "116.59,40.08     618\n",
       "116.47,39.91     544\n",
       "116.40,39.91     541\n",
       "116.45,39.91     527\n",
       "116.39,39.89     527\n",
       "116.33,39.99     513\n",
       "116.45,39.92     503\n",
       "116.41,39.90     501\n",
       "116.39,39.92     498\n",
       "116.39,39.78     483\n",
       "116.61,40.07     468\n",
       "116.40,39.90     454\n",
       "116.43,39.92     443\n",
       "116.00,40.35     432\n",
       "116.27,40.00     411\n",
       "116.43,39.94     409\n",
       "116.35,39.94     401\n",
       "116.35,39.91     372\n",
       "116.27,39.91     363\n",
       "                ... \n",
       "116.69,40.28       1\n",
       "116.83,39.79       1\n",
       "116.10,39.88       1\n",
       "115.71,39.58       1\n",
       "116.51,40.21       1\n",
       "116.88,39.82       1\n",
       "116.46,40.12       1\n",
       "116.29,39.71       1\n",
       "116.46,39.62       1\n",
       "116.67,40.02       1\n",
       "117.04,40.57       1\n",
       "116.13,39.89       1\n",
       "116.77,40.78       1\n",
       "116.62,40.12       1\n",
       "115.97,39.71       1\n",
       "116.38,39.72       1\n",
       "116.78,40.39       1\n",
       "115.97,39.99       1\n",
       "116.14,39.85       1\n",
       "116.74,39.68       1\n",
       "116.59,40.25       1\n",
       "116.66,40.18       1\n",
       "116.57,40.29       1\n",
       "116.91,40.57       1\n",
       "116.09,40.21       1\n",
       "116.27,39.52       1\n",
       "116.41,39.57       1\n",
       "117.25,40.18       1\n",
       "116.12,40.12       1\n",
       "116.65,39.96       1\n",
       "Name: d, Length: 2884, dtype: int64"
      ]
     },
     "execution_count": 43,
     "metadata": {},
     "output_type": "execute_result"
    }
   ],
   "source": [
    "test_queries['d'].value_counts()"
   ]
  },
  {
   "cell_type": "markdown",
   "metadata": {},
   "source": [
    "## test_plans数据集\n",
    "### 数据类型&大小\n",
    "\n",
    "1. 数据中有1个int64类型的数据和2个object类型\n",
    "2. 整个数据集的大小有2.1+ MB\n",
    "3. 数据一共有92571条记录\n",
    "\n",
    "注意下面表格中字段的含义:\n",
    "```\n",
    "sid:会话ID, \n",
    "plan_time:一个时间戳\n",
    "plans：各种计划,计划中包含距离(distance),价格(price),以及出行方式(transport_mode)估计到达的时间(ETA)\n",
    "```"
   ]
  },
  {
   "cell_type": "code",
   "execution_count": 44,
   "metadata": {},
   "outputs": [
    {
     "data": {
      "text/html": [
       "<div>\n",
       "<style scoped>\n",
       "    .dataframe tbody tr th:only-of-type {\n",
       "        vertical-align: middle;\n",
       "    }\n",
       "\n",
       "    .dataframe tbody tr th {\n",
       "        vertical-align: top;\n",
       "    }\n",
       "\n",
       "    .dataframe thead th {\n",
       "        text-align: right;\n",
       "    }\n",
       "</style>\n",
       "<table border=\"1\" class=\"dataframe\">\n",
       "  <thead>\n",
       "    <tr style=\"text-align: right;\">\n",
       "      <th></th>\n",
       "      <th>sid</th>\n",
       "      <th>plan_time</th>\n",
       "      <th>plans</th>\n",
       "    </tr>\n",
       "  </thead>\n",
       "  <tbody>\n",
       "    <tr>\n",
       "      <th>0</th>\n",
       "      <td>1112456</td>\n",
       "      <td>2018-12-05 17:39:47</td>\n",
       "      <td>[{\"distance\": 465, \"price\": \"\", \"eta\": 418, \"t...</td>\n",
       "    </tr>\n",
       "    <tr>\n",
       "      <th>1</th>\n",
       "      <td>1413458</td>\n",
       "      <td>2018-12-06 17:49:17</td>\n",
       "      <td>[{\"distance\": 28846, \"price\": 600, \"eta\": 4779...</td>\n",
       "    </tr>\n",
       "    <tr>\n",
       "      <th>2</th>\n",
       "      <td>1243160</td>\n",
       "      <td>2018-12-02 14:50:25</td>\n",
       "      <td>[{\"distance\": 24646, \"price\": 600, \"eta\": 3513...</td>\n",
       "    </tr>\n",
       "    <tr>\n",
       "      <th>3</th>\n",
       "      <td>2040494</td>\n",
       "      <td>2018-12-07 09:23:45</td>\n",
       "      <td>[{\"distance\": 32235, \"price\": 600, \"eta\": 4072...</td>\n",
       "    </tr>\n",
       "    <tr>\n",
       "      <th>4</th>\n",
       "      <td>1448779</td>\n",
       "      <td>2018-12-06 18:24:46</td>\n",
       "      <td>[{\"distance\": 13502, \"price\": 400, \"eta\": 3195...</td>\n",
       "    </tr>\n",
       "  </tbody>\n",
       "</table>\n",
       "</div>"
      ],
      "text/plain": [
       "       sid            plan_time  \\\n",
       "0  1112456  2018-12-05 17:39:47   \n",
       "1  1413458  2018-12-06 17:49:17   \n",
       "2  1243160  2018-12-02 14:50:25   \n",
       "3  2040494  2018-12-07 09:23:45   \n",
       "4  1448779  2018-12-06 18:24:46   \n",
       "\n",
       "                                               plans  \n",
       "0  [{\"distance\": 465, \"price\": \"\", \"eta\": 418, \"t...  \n",
       "1  [{\"distance\": 28846, \"price\": 600, \"eta\": 4779...  \n",
       "2  [{\"distance\": 24646, \"price\": 600, \"eta\": 3513...  \n",
       "3  [{\"distance\": 32235, \"price\": 600, \"eta\": 4072...  \n",
       "4  [{\"distance\": 13502, \"price\": 400, \"eta\": 3195...  "
      ]
     },
     "execution_count": 44,
     "metadata": {},
     "output_type": "execute_result"
    }
   ],
   "source": [
    "test_plans.head()"
   ]
  },
  {
   "cell_type": "code",
   "execution_count": 45,
   "metadata": {},
   "outputs": [
    {
     "name": "stdout",
     "output_type": "stream",
     "text": [
      "<class 'pandas.core.frame.DataFrame'>\n",
      "RangeIndex: 92571 entries, 0 to 92570\n",
      "Data columns (total 3 columns):\n",
      "sid          92571 non-null int64\n",
      "plan_time    92571 non-null object\n",
      "plans        92571 non-null object\n",
      "dtypes: int64(1), object(2)\n",
      "memory usage: 2.1+ MB\n"
     ]
    }
   ],
   "source": [
    "test_plans.info()"
   ]
  },
  {
   "cell_type": "markdown",
   "metadata": {},
   "source": [
    "### 细节探索\n",
    "\n",
    "我们发现test_plans和之前的test_queries都含有sid字段以及时间的信息,需要看一下这些字段是否有些许差别.通过探索,我们发现:\n",
    "1. test_plans中的所有sid都在test_queries中\n",
    "2. test_plans中的时间和test_queries中的时间信息99%是一样的,也出现了464多条不一样的情况"
   ]
  },
  {
   "cell_type": "code",
   "execution_count": 46,
   "metadata": {},
   "outputs": [
    {
     "data": {
      "text/plain": [
       "set()"
      ]
     },
     "execution_count": 46,
     "metadata": {},
     "output_type": "execute_result"
    }
   ],
   "source": [
    "test_plans.set_index('sid',inplace=True)\n",
    "test_queries.set_index('sid',inplace=True)\n",
    "set(test_plans.index) - set(test_queries.index)"
   ]
  },
  {
   "cell_type": "markdown",
   "metadata": {},
   "source": [
    "- 时间观察"
   ]
  },
  {
   "cell_type": "code",
   "execution_count": 47,
   "metadata": {},
   "outputs": [
    {
     "data": {
      "text/plain": [
       "92107"
      ]
     },
     "execution_count": 47,
     "metadata": {},
     "output_type": "execute_result"
    }
   ],
   "source": [
    "np.sum(test_plans['plan_time'] == test_queries.loc[test_plans.index, 'req_time'])"
   ]
  },
  {
   "cell_type": "code",
   "execution_count": 48,
   "metadata": {},
   "outputs": [
    {
     "data": {
      "text/plain": [
       "0.9949876311155762"
      ]
     },
     "execution_count": 48,
     "metadata": {},
     "output_type": "execute_result"
    }
   ],
   "source": [
    "92107 / test_plans.shape[0] "
   ]
  },
  {
   "cell_type": "code",
   "execution_count": 49,
   "metadata": {
    "scrolled": true
   },
   "outputs": [
    {
     "data": {
      "text/html": [
       "<div>\n",
       "<style scoped>\n",
       "    .dataframe tbody tr th:only-of-type {\n",
       "        vertical-align: middle;\n",
       "    }\n",
       "\n",
       "    .dataframe tbody tr th {\n",
       "        vertical-align: top;\n",
       "    }\n",
       "\n",
       "    .dataframe thead th {\n",
       "        text-align: right;\n",
       "    }\n",
       "</style>\n",
       "<table border=\"1\" class=\"dataframe\">\n",
       "  <thead>\n",
       "    <tr style=\"text-align: right;\">\n",
       "      <th></th>\n",
       "      <th>plan_time</th>\n",
       "      <th>plans</th>\n",
       "    </tr>\n",
       "    <tr>\n",
       "      <th>sid</th>\n",
       "      <th></th>\n",
       "      <th></th>\n",
       "    </tr>\n",
       "  </thead>\n",
       "  <tbody>\n",
       "    <tr>\n",
       "      <th>1267666</th>\n",
       "      <td>2018-12-02 21:18:11</td>\n",
       "      <td>[{\"distance\": 12704, \"price\": \"\", \"eta\": 1453,...</td>\n",
       "    </tr>\n",
       "    <tr>\n",
       "      <th>1416858</th>\n",
       "      <td>2018-12-06 19:13:32</td>\n",
       "      <td>[{\"distance\": 1107, \"price\": \"\", \"eta\": 968, \"...</td>\n",
       "    </tr>\n",
       "    <tr>\n",
       "      <th>1111170</th>\n",
       "      <td>2018-12-05 11:38:35</td>\n",
       "      <td>[{\"distance\": 31625, \"price\": 600, \"eta\": 4036...</td>\n",
       "    </tr>\n",
       "    <tr>\n",
       "      <th>1376486</th>\n",
       "      <td>2018-12-03 12:19:36</td>\n",
       "      <td>[{\"distance\": 2876, \"price\": 1300, \"eta\": 639,...</td>\n",
       "    </tr>\n",
       "    <tr>\n",
       "      <th>1400585</th>\n",
       "      <td>2018-12-03 15:27:25</td>\n",
       "      <td>[{\"distance\": 13252, \"price\": 300, \"eta\": 3555...</td>\n",
       "    </tr>\n",
       "    <tr>\n",
       "      <th>1343030</th>\n",
       "      <td>2018-12-04 22:07:07</td>\n",
       "      <td>[{\"distance\": 34540, \"price\": 4300, \"eta\": 489...</td>\n",
       "    </tr>\n",
       "    <tr>\n",
       "      <th>1362975</th>\n",
       "      <td>2018-12-04 13:42:23</td>\n",
       "      <td>[{\"distance\": 21239, \"price\": 500, \"eta\": 3593...</td>\n",
       "    </tr>\n",
       "    <tr>\n",
       "      <th>1390463</th>\n",
       "      <td>2018-12-03 18:15:07</td>\n",
       "      <td>[{\"distance\": 7388, \"price\": 400, \"eta\": 1769,...</td>\n",
       "    </tr>\n",
       "    <tr>\n",
       "      <th>1343757</th>\n",
       "      <td>2018-12-04 17:26:22</td>\n",
       "      <td>[{\"distance\": 1581, \"price\": 200, \"eta\": 1015,...</td>\n",
       "    </tr>\n",
       "    <tr>\n",
       "      <th>1432873</th>\n",
       "      <td>2018-12-06 18:13:06</td>\n",
       "      <td>[{\"distance\": 9264, \"price\": 400, \"eta\": 1954,...</td>\n",
       "    </tr>\n",
       "    <tr>\n",
       "      <th>1352815</th>\n",
       "      <td>2018-12-04 09:09:42</td>\n",
       "      <td>[{\"distance\": 13311, \"price\": 400, \"eta\": 4049...</td>\n",
       "    </tr>\n",
       "    <tr>\n",
       "      <th>420151</th>\n",
       "      <td>2018-12-01 06:36:07</td>\n",
       "      <td>[{\"distance\": 30970, \"price\": 800, \"eta\": 3890...</td>\n",
       "    </tr>\n",
       "    <tr>\n",
       "      <th>1128568</th>\n",
       "      <td>2018-12-05 11:05:48</td>\n",
       "      <td>[{\"distance\": 385, \"price\": \"\", \"eta\": 329, \"t...</td>\n",
       "    </tr>\n",
       "    <tr>\n",
       "      <th>1338172</th>\n",
       "      <td>2018-12-04 11:50:05</td>\n",
       "      <td>[{\"distance\": 816, \"price\": \"\", \"eta\": 698, \"t...</td>\n",
       "    </tr>\n",
       "    <tr>\n",
       "      <th>1339424</th>\n",
       "      <td>2018-12-04 17:40:51</td>\n",
       "      <td>[{\"distance\": 8283, \"price\": 500, \"eta\": 3068,...</td>\n",
       "    </tr>\n",
       "    <tr>\n",
       "      <th>1382403</th>\n",
       "      <td>2018-12-03 16:54:12</td>\n",
       "      <td>[{\"distance\": 13444, \"price\": 300, \"eta\": 4645...</td>\n",
       "    </tr>\n",
       "    <tr>\n",
       "      <th>439653</th>\n",
       "      <td>2018-12-01 15:13:05</td>\n",
       "      <td>[{\"distance\": 8542, \"price\": 200, \"eta\": 3325,...</td>\n",
       "    </tr>\n",
       "    <tr>\n",
       "      <th>1389058</th>\n",
       "      <td>2018-12-03 15:46:14</td>\n",
       "      <td>[{\"distance\": 9891, \"price\": 400, \"eta\": 2853,...</td>\n",
       "    </tr>\n",
       "    <tr>\n",
       "      <th>1109278</th>\n",
       "      <td>2018-12-05 18:23:38</td>\n",
       "      <td>[{\"distance\": 9762, \"price\": 200, \"eta\": 2747,...</td>\n",
       "    </tr>\n",
       "    <tr>\n",
       "      <th>1352515</th>\n",
       "      <td>2018-12-04 12:18:05</td>\n",
       "      <td>[{\"distance\": 9265, \"price\": 400, \"eta\": 1954,...</td>\n",
       "    </tr>\n",
       "    <tr>\n",
       "      <th>1269983</th>\n",
       "      <td>2018-12-02 11:59:57</td>\n",
       "      <td>[{\"distance\": 57481, \"price\": 900, \"eta\": 7376...</td>\n",
       "    </tr>\n",
       "    <tr>\n",
       "      <th>465405</th>\n",
       "      <td>2018-12-01 18:30:24</td>\n",
       "      <td>[{\"distance\": 9347, \"price\": 400, \"eta\": 2116,...</td>\n",
       "    </tr>\n",
       "    <tr>\n",
       "      <th>1256436</th>\n",
       "      <td>2018-12-02 18:52:50</td>\n",
       "      <td>[{\"distance\": 21382, \"price\": 500, \"eta\": 5538...</td>\n",
       "    </tr>\n",
       "    <tr>\n",
       "      <th>1246299</th>\n",
       "      <td>2018-12-02 14:02:46</td>\n",
       "      <td>[{\"distance\": 27383, \"price\": 600, \"eta\": 4146...</td>\n",
       "    </tr>\n",
       "    <tr>\n",
       "      <th>1416639</th>\n",
       "      <td>2018-12-06 12:06:56</td>\n",
       "      <td>[{\"distance\": 706, \"price\": \"\", \"eta\": 603, \"t...</td>\n",
       "    </tr>\n",
       "    <tr>\n",
       "      <th>422116</th>\n",
       "      <td>2018-12-01 12:43:04</td>\n",
       "      <td>[{\"distance\": 20498, \"price\": 3000, \"eta\": 387...</td>\n",
       "    </tr>\n",
       "    <tr>\n",
       "      <th>1343748</th>\n",
       "      <td>2018-12-04 18:47:13</td>\n",
       "      <td>[{\"distance\": 17340, \"price\": 600, \"eta\": 3746...</td>\n",
       "    </tr>\n",
       "    <tr>\n",
       "      <th>449648</th>\n",
       "      <td>2018-12-01 07:11:49</td>\n",
       "      <td>[{\"distance\": 13311, \"price\": 400, \"eta\": 3717...</td>\n",
       "    </tr>\n",
       "    <tr>\n",
       "      <th>469390</th>\n",
       "      <td>2018-12-01 09:43:52</td>\n",
       "      <td>[{\"distance\": 5921, \"price\": 200, \"eta\": 2482,...</td>\n",
       "    </tr>\n",
       "    <tr>\n",
       "      <th>1373627</th>\n",
       "      <td>2018-12-03 19:13:35</td>\n",
       "      <td>[{\"distance\": 3742, \"price\": 200, \"eta\": 1588,...</td>\n",
       "    </tr>\n",
       "    <tr>\n",
       "      <th>...</th>\n",
       "      <td>...</td>\n",
       "      <td>...</td>\n",
       "    </tr>\n",
       "    <tr>\n",
       "      <th>440894</th>\n",
       "      <td>2018-12-01 08:51:24</td>\n",
       "      <td>[{\"distance\": 103065, \"price\": 2500, \"eta\": 13...</td>\n",
       "    </tr>\n",
       "    <tr>\n",
       "      <th>1108609</th>\n",
       "      <td>2018-12-05 13:23:24</td>\n",
       "      <td>[{\"distance\": 30983, \"price\": 700, \"eta\": 6009...</td>\n",
       "    </tr>\n",
       "    <tr>\n",
       "      <th>426404</th>\n",
       "      <td>2018-12-01 10:15:40</td>\n",
       "      <td>[{\"distance\": 22279, \"price\": 700, \"eta\": 4685...</td>\n",
       "    </tr>\n",
       "    <tr>\n",
       "      <th>1333429</th>\n",
       "      <td>2018-12-04 09:38:54</td>\n",
       "      <td>[{\"distance\": 4067, \"price\": 500, \"eta\": 2259,...</td>\n",
       "    </tr>\n",
       "    <tr>\n",
       "      <th>1333402</th>\n",
       "      <td>2018-12-04 17:10:55</td>\n",
       "      <td>[{\"distance\": 4, \"price\": \"\", \"eta\": 3, \"trans...</td>\n",
       "    </tr>\n",
       "    <tr>\n",
       "      <th>1405593</th>\n",
       "      <td>2018-12-03 18:49:39</td>\n",
       "      <td>[{\"distance\": 32928, \"price\": 800, \"eta\": 6283...</td>\n",
       "    </tr>\n",
       "    <tr>\n",
       "      <th>450463</th>\n",
       "      <td>2018-12-01 19:38:24</td>\n",
       "      <td>[{\"distance\": 9265, \"price\": 400, \"eta\": 1954,...</td>\n",
       "    </tr>\n",
       "    <tr>\n",
       "      <th>436200</th>\n",
       "      <td>2018-12-01 13:08:37</td>\n",
       "      <td>[{\"distance\": 1098, \"price\": \"\", \"eta\": 969, \"...</td>\n",
       "    </tr>\n",
       "    <tr>\n",
       "      <th>1283997</th>\n",
       "      <td>2018-12-02 08:13:03</td>\n",
       "      <td>[{\"distance\": 10031, \"price\": 400, \"eta\": 4446...</td>\n",
       "    </tr>\n",
       "    <tr>\n",
       "      <th>420371</th>\n",
       "      <td>2018-12-01 12:15:38</td>\n",
       "      <td>[{\"distance\": 519, \"price\": \"\", \"eta\": 464, \"t...</td>\n",
       "    </tr>\n",
       "    <tr>\n",
       "      <th>1268649</th>\n",
       "      <td>2018-12-02 17:49:53</td>\n",
       "      <td>[{\"distance\": 31601, \"price\": 2900, \"eta\": 361...</td>\n",
       "    </tr>\n",
       "    <tr>\n",
       "      <th>462337</th>\n",
       "      <td>2018-12-01 15:50:20</td>\n",
       "      <td>[{\"distance\": 15495, \"price\": 500, \"eta\": 2564...</td>\n",
       "    </tr>\n",
       "    <tr>\n",
       "      <th>1341348</th>\n",
       "      <td>2018-12-04 14:18:14</td>\n",
       "      <td>[{\"distance\": 517, \"price\": \"\", \"eta\": 440, \"t...</td>\n",
       "    </tr>\n",
       "    <tr>\n",
       "      <th>1279895</th>\n",
       "      <td>2018-12-02 13:26:21</td>\n",
       "      <td>[{\"distance\": 3779, \"price\": 200, \"eta\": 1713,...</td>\n",
       "    </tr>\n",
       "    <tr>\n",
       "      <th>1267765</th>\n",
       "      <td>2018-12-02 12:29:24</td>\n",
       "      <td>[{\"distance\": 9265, \"price\": 400, \"eta\": 1954,...</td>\n",
       "    </tr>\n",
       "    <tr>\n",
       "      <th>2062060</th>\n",
       "      <td>2018-12-07 10:13:14</td>\n",
       "      <td>[{\"distance\": 13311, \"price\": 400, \"eta\": 3883...</td>\n",
       "    </tr>\n",
       "    <tr>\n",
       "      <th>2037690</th>\n",
       "      <td>2018-12-07 15:08:32</td>\n",
       "      <td>[{\"distance\": 2900, \"price\": 300, \"eta\": 1421,...</td>\n",
       "    </tr>\n",
       "    <tr>\n",
       "      <th>1335020</th>\n",
       "      <td>2018-12-04 22:15:17</td>\n",
       "      <td>[{\"distance\": 13513, \"price\": 400, \"eta\": 3060...</td>\n",
       "    </tr>\n",
       "    <tr>\n",
       "      <th>1251676</th>\n",
       "      <td>2018-12-02 12:44:43</td>\n",
       "      <td>[{\"distance\": 3517, \"price\": 200, \"eta\": 1970,...</td>\n",
       "    </tr>\n",
       "    <tr>\n",
       "      <th>453509</th>\n",
       "      <td>2018-12-01 14:17:47</td>\n",
       "      <td>[{\"distance\": 1345, \"price\": \"\", \"eta\": 1148, ...</td>\n",
       "    </tr>\n",
       "    <tr>\n",
       "      <th>1133247</th>\n",
       "      <td>2018-12-05 12:58:13</td>\n",
       "      <td>[{\"distance\": 555, \"price\": \"\", \"eta\": 474, \"t...</td>\n",
       "    </tr>\n",
       "    <tr>\n",
       "      <th>1357463</th>\n",
       "      <td>2018-12-04 09:44:02</td>\n",
       "      <td>[{\"distance\": 22011, \"price\": 500, \"eta\": 3453...</td>\n",
       "    </tr>\n",
       "    <tr>\n",
       "      <th>1433265</th>\n",
       "      <td>2018-12-06 18:33:41</td>\n",
       "      <td>[{\"distance\": 26706, \"price\": 600, \"eta\": 4014...</td>\n",
       "    </tr>\n",
       "    <tr>\n",
       "      <th>450401</th>\n",
       "      <td>2018-12-01 20:48:02</td>\n",
       "      <td>[{\"distance\": 9265, \"price\": 400, \"eta\": 1954,...</td>\n",
       "    </tr>\n",
       "    <tr>\n",
       "      <th>1386595</th>\n",
       "      <td>2018-12-03 08:11:03</td>\n",
       "      <td>[{\"distance\": 16564, \"price\": 500, \"eta\": 2405...</td>\n",
       "    </tr>\n",
       "    <tr>\n",
       "      <th>440914</th>\n",
       "      <td>2018-12-01 11:07:12</td>\n",
       "      <td>[{\"distance\": 50420, \"price\": 1100, \"eta\": 979...</td>\n",
       "    </tr>\n",
       "    <tr>\n",
       "      <th>2071461</th>\n",
       "      <td>2018-12-07 18:57:21</td>\n",
       "      <td>[{\"distance\": 847, \"price\": \"\", \"eta\": 744, \"t...</td>\n",
       "    </tr>\n",
       "    <tr>\n",
       "      <th>1382779</th>\n",
       "      <td>2018-12-03 19:52:28</td>\n",
       "      <td>[{\"distance\": 5876, \"price\": 200, \"eta\": 1815,...</td>\n",
       "    </tr>\n",
       "    <tr>\n",
       "      <th>1363752</th>\n",
       "      <td>2018-12-04 20:28:09</td>\n",
       "      <td>[{\"distance\": 11673, \"price\": 600, \"eta\": 2544...</td>\n",
       "    </tr>\n",
       "    <tr>\n",
       "      <th>1113881</th>\n",
       "      <td>2018-12-05 14:05:47</td>\n",
       "      <td>[{\"distance\": 218, \"price\": \"\", \"eta\": 185, \"t...</td>\n",
       "    </tr>\n",
       "  </tbody>\n",
       "</table>\n",
       "<p>464 rows × 2 columns</p>\n",
       "</div>"
      ],
      "text/plain": [
       "                   plan_time  \\\n",
       "sid                            \n",
       "1267666  2018-12-02 21:18:11   \n",
       "1416858  2018-12-06 19:13:32   \n",
       "1111170  2018-12-05 11:38:35   \n",
       "1376486  2018-12-03 12:19:36   \n",
       "1400585  2018-12-03 15:27:25   \n",
       "1343030  2018-12-04 22:07:07   \n",
       "1362975  2018-12-04 13:42:23   \n",
       "1390463  2018-12-03 18:15:07   \n",
       "1343757  2018-12-04 17:26:22   \n",
       "1432873  2018-12-06 18:13:06   \n",
       "1352815  2018-12-04 09:09:42   \n",
       "420151   2018-12-01 06:36:07   \n",
       "1128568  2018-12-05 11:05:48   \n",
       "1338172  2018-12-04 11:50:05   \n",
       "1339424  2018-12-04 17:40:51   \n",
       "1382403  2018-12-03 16:54:12   \n",
       "439653   2018-12-01 15:13:05   \n",
       "1389058  2018-12-03 15:46:14   \n",
       "1109278  2018-12-05 18:23:38   \n",
       "1352515  2018-12-04 12:18:05   \n",
       "1269983  2018-12-02 11:59:57   \n",
       "465405   2018-12-01 18:30:24   \n",
       "1256436  2018-12-02 18:52:50   \n",
       "1246299  2018-12-02 14:02:46   \n",
       "1416639  2018-12-06 12:06:56   \n",
       "422116   2018-12-01 12:43:04   \n",
       "1343748  2018-12-04 18:47:13   \n",
       "449648   2018-12-01 07:11:49   \n",
       "469390   2018-12-01 09:43:52   \n",
       "1373627  2018-12-03 19:13:35   \n",
       "...                      ...   \n",
       "440894   2018-12-01 08:51:24   \n",
       "1108609  2018-12-05 13:23:24   \n",
       "426404   2018-12-01 10:15:40   \n",
       "1333429  2018-12-04 09:38:54   \n",
       "1333402  2018-12-04 17:10:55   \n",
       "1405593  2018-12-03 18:49:39   \n",
       "450463   2018-12-01 19:38:24   \n",
       "436200   2018-12-01 13:08:37   \n",
       "1283997  2018-12-02 08:13:03   \n",
       "420371   2018-12-01 12:15:38   \n",
       "1268649  2018-12-02 17:49:53   \n",
       "462337   2018-12-01 15:50:20   \n",
       "1341348  2018-12-04 14:18:14   \n",
       "1279895  2018-12-02 13:26:21   \n",
       "1267765  2018-12-02 12:29:24   \n",
       "2062060  2018-12-07 10:13:14   \n",
       "2037690  2018-12-07 15:08:32   \n",
       "1335020  2018-12-04 22:15:17   \n",
       "1251676  2018-12-02 12:44:43   \n",
       "453509   2018-12-01 14:17:47   \n",
       "1133247  2018-12-05 12:58:13   \n",
       "1357463  2018-12-04 09:44:02   \n",
       "1433265  2018-12-06 18:33:41   \n",
       "450401   2018-12-01 20:48:02   \n",
       "1386595  2018-12-03 08:11:03   \n",
       "440914   2018-12-01 11:07:12   \n",
       "2071461  2018-12-07 18:57:21   \n",
       "1382779  2018-12-03 19:52:28   \n",
       "1363752  2018-12-04 20:28:09   \n",
       "1113881  2018-12-05 14:05:47   \n",
       "\n",
       "                                                     plans  \n",
       "sid                                                         \n",
       "1267666  [{\"distance\": 12704, \"price\": \"\", \"eta\": 1453,...  \n",
       "1416858  [{\"distance\": 1107, \"price\": \"\", \"eta\": 968, \"...  \n",
       "1111170  [{\"distance\": 31625, \"price\": 600, \"eta\": 4036...  \n",
       "1376486  [{\"distance\": 2876, \"price\": 1300, \"eta\": 639,...  \n",
       "1400585  [{\"distance\": 13252, \"price\": 300, \"eta\": 3555...  \n",
       "1343030  [{\"distance\": 34540, \"price\": 4300, \"eta\": 489...  \n",
       "1362975  [{\"distance\": 21239, \"price\": 500, \"eta\": 3593...  \n",
       "1390463  [{\"distance\": 7388, \"price\": 400, \"eta\": 1769,...  \n",
       "1343757  [{\"distance\": 1581, \"price\": 200, \"eta\": 1015,...  \n",
       "1432873  [{\"distance\": 9264, \"price\": 400, \"eta\": 1954,...  \n",
       "1352815  [{\"distance\": 13311, \"price\": 400, \"eta\": 4049...  \n",
       "420151   [{\"distance\": 30970, \"price\": 800, \"eta\": 3890...  \n",
       "1128568  [{\"distance\": 385, \"price\": \"\", \"eta\": 329, \"t...  \n",
       "1338172  [{\"distance\": 816, \"price\": \"\", \"eta\": 698, \"t...  \n",
       "1339424  [{\"distance\": 8283, \"price\": 500, \"eta\": 3068,...  \n",
       "1382403  [{\"distance\": 13444, \"price\": 300, \"eta\": 4645...  \n",
       "439653   [{\"distance\": 8542, \"price\": 200, \"eta\": 3325,...  \n",
       "1389058  [{\"distance\": 9891, \"price\": 400, \"eta\": 2853,...  \n",
       "1109278  [{\"distance\": 9762, \"price\": 200, \"eta\": 2747,...  \n",
       "1352515  [{\"distance\": 9265, \"price\": 400, \"eta\": 1954,...  \n",
       "1269983  [{\"distance\": 57481, \"price\": 900, \"eta\": 7376...  \n",
       "465405   [{\"distance\": 9347, \"price\": 400, \"eta\": 2116,...  \n",
       "1256436  [{\"distance\": 21382, \"price\": 500, \"eta\": 5538...  \n",
       "1246299  [{\"distance\": 27383, \"price\": 600, \"eta\": 4146...  \n",
       "1416639  [{\"distance\": 706, \"price\": \"\", \"eta\": 603, \"t...  \n",
       "422116   [{\"distance\": 20498, \"price\": 3000, \"eta\": 387...  \n",
       "1343748  [{\"distance\": 17340, \"price\": 600, \"eta\": 3746...  \n",
       "449648   [{\"distance\": 13311, \"price\": 400, \"eta\": 3717...  \n",
       "469390   [{\"distance\": 5921, \"price\": 200, \"eta\": 2482,...  \n",
       "1373627  [{\"distance\": 3742, \"price\": 200, \"eta\": 1588,...  \n",
       "...                                                    ...  \n",
       "440894   [{\"distance\": 103065, \"price\": 2500, \"eta\": 13...  \n",
       "1108609  [{\"distance\": 30983, \"price\": 700, \"eta\": 6009...  \n",
       "426404   [{\"distance\": 22279, \"price\": 700, \"eta\": 4685...  \n",
       "1333429  [{\"distance\": 4067, \"price\": 500, \"eta\": 2259,...  \n",
       "1333402  [{\"distance\": 4, \"price\": \"\", \"eta\": 3, \"trans...  \n",
       "1405593  [{\"distance\": 32928, \"price\": 800, \"eta\": 6283...  \n",
       "450463   [{\"distance\": 9265, \"price\": 400, \"eta\": 1954,...  \n",
       "436200   [{\"distance\": 1098, \"price\": \"\", \"eta\": 969, \"...  \n",
       "1283997  [{\"distance\": 10031, \"price\": 400, \"eta\": 4446...  \n",
       "420371   [{\"distance\": 519, \"price\": \"\", \"eta\": 464, \"t...  \n",
       "1268649  [{\"distance\": 31601, \"price\": 2900, \"eta\": 361...  \n",
       "462337   [{\"distance\": 15495, \"price\": 500, \"eta\": 2564...  \n",
       "1341348  [{\"distance\": 517, \"price\": \"\", \"eta\": 440, \"t...  \n",
       "1279895  [{\"distance\": 3779, \"price\": 200, \"eta\": 1713,...  \n",
       "1267765  [{\"distance\": 9265, \"price\": 400, \"eta\": 1954,...  \n",
       "2062060  [{\"distance\": 13311, \"price\": 400, \"eta\": 3883...  \n",
       "2037690  [{\"distance\": 2900, \"price\": 300, \"eta\": 1421,...  \n",
       "1335020  [{\"distance\": 13513, \"price\": 400, \"eta\": 3060...  \n",
       "1251676  [{\"distance\": 3517, \"price\": 200, \"eta\": 1970,...  \n",
       "453509   [{\"distance\": 1345, \"price\": \"\", \"eta\": 1148, ...  \n",
       "1133247  [{\"distance\": 555, \"price\": \"\", \"eta\": 474, \"t...  \n",
       "1357463  [{\"distance\": 22011, \"price\": 500, \"eta\": 3453...  \n",
       "1433265  [{\"distance\": 26706, \"price\": 600, \"eta\": 4014...  \n",
       "450401   [{\"distance\": 9265, \"price\": 400, \"eta\": 1954,...  \n",
       "1386595  [{\"distance\": 16564, \"price\": 500, \"eta\": 2405...  \n",
       "440914   [{\"distance\": 50420, \"price\": 1100, \"eta\": 979...  \n",
       "2071461  [{\"distance\": 847, \"price\": \"\", \"eta\": 744, \"t...  \n",
       "1382779  [{\"distance\": 5876, \"price\": 200, \"eta\": 1815,...  \n",
       "1363752  [{\"distance\": 11673, \"price\": 600, \"eta\": 2544...  \n",
       "1113881  [{\"distance\": 218, \"price\": \"\", \"eta\": 185, \"t...  \n",
       "\n",
       "[464 rows x 2 columns]"
      ]
     },
     "execution_count": 49,
     "metadata": {},
     "output_type": "execute_result"
    }
   ],
   "source": [
    "test_plans.loc[test_plans['plan_time'] != test_queries.loc[test_plans.index, 'req_time']]"
   ]
  },
  {
   "cell_type": "markdown",
   "metadata": {},
   "source": [
    "# 提交格式EDA\n",
    "- 提交的格式是两个int64的类型,最后注意格式,官方给的submission_example貌似有一些问题,没有header,注意自己加上去.\n"
   ]
  },
  {
   "cell_type": "code",
   "execution_count": 50,
   "metadata": {},
   "outputs": [
    {
     "name": "stdout",
     "output_type": "stream",
     "text": [
      "<class 'pandas.core.frame.DataFrame'>\n",
      "RangeIndex: 9 entries, 0 to 8\n",
      "Data columns (total 2 columns):\n",
      "1126541    9 non-null int64\n",
      "2          9 non-null int64\n",
      "dtypes: int64(2)\n",
      "memory usage: 224.0 bytes\n"
     ]
    }
   ],
   "source": [
    "submission_example = pd.read_csv(path + 'submission_example.csv')\n",
    "submission_example.info()"
   ]
  },
  {
   "cell_type": "markdown",
   "metadata": {},
   "source": [
    "# 小结 \n",
    "\n",
    "在这一块内容,我们对数据分别进行了训练数据集的分析, 测试数据集的分析以及提交格式需要注意的事项等.其中包含:\n",
    "- 数据集大小的分析;\n",
    "- 数据集确实情况的分析;\n",
    "- 数据集中sid交叉情况的分析等;\n",
    "\n",
    "这一节内容我们做了数据的第一步分析,在下一节的内容中,我们会对数据展开更加细致的分析.\n"
   ]
  }
 ],
 "metadata": {
  "kernelspec": {
   "display_name": "Python 3",
   "language": "python",
   "name": "python3"
  },
  "language_info": {
   "codemirror_mode": {
    "name": "ipython",
    "version": 3
   },
   "file_extension": ".py",
   "mimetype": "text/x-python",
   "name": "python",
   "nbconvert_exporter": "python",
   "pygments_lexer": "ipython3",
   "version": "3.6.4"
  },
  "toc": {
   "nav_menu": {},
   "number_sections": true,
   "sideBar": true,
   "skip_h1_title": false,
   "title_cell": "Table of Contents",
   "title_sidebar": "Contents",
   "toc_cell": true,
   "toc_position": {
    "height": "calc(100% - 180px)",
    "left": "10px",
    "top": "150px",
    "width": "349px"
   },
   "toc_section_display": true,
   "toc_window_display": true
  }
 },
 "nbformat": 4,
 "nbformat_minor": 2
}
