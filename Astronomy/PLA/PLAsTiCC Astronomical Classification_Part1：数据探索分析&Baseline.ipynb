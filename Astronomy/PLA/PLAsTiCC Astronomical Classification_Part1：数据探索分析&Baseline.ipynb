{
 "cells": [
  {
   "cell_type": "markdown",
   "metadata": {
    "toc": true
   },
   "source": [
    "<h1>Table of Contents<span class=\"tocSkip\"></span></h1>\n",
    "<div class=\"toc\"><ul class=\"toc-item\"><li><span><a href=\"#比赛介绍\" data-toc-modified-id=\"比赛介绍-1\"><span class=\"toc-item-num\">1&nbsp;&nbsp;</span>比赛介绍</a></span><ul class=\"toc-item\"><li><span><a href=\"#比赛背景\" data-toc-modified-id=\"比赛背景-1.1\"><span class=\"toc-item-num\">1.1&nbsp;&nbsp;</span>比赛背景</a></span></li><li><span><a href=\"#数据字段介绍\" data-toc-modified-id=\"数据字段介绍-1.2\"><span class=\"toc-item-num\">1.2&nbsp;&nbsp;</span>数据字段介绍</a></span><ul class=\"toc-item\"><li><span><a href=\"#Metadata.csv\" data-toc-modified-id=\"Metadata.csv-1.2.1\"><span class=\"toc-item-num\">1.2.1&nbsp;&nbsp;</span>Metadata.csv</a></span></li><li><span><a href=\"#Data-File-Column-Descriptions\" data-toc-modified-id=\"Data-File-Column-Descriptions-1.2.2\"><span class=\"toc-item-num\">1.2.2&nbsp;&nbsp;</span>Data File Column Descriptions</a></span></li></ul></li><li><span><a href=\"#评价指标\" data-toc-modified-id=\"评价指标-1.3\"><span class=\"toc-item-num\">1.3&nbsp;&nbsp;</span>评价指标</a></span></li></ul></li><li><span><a href=\"#EDA\" data-toc-modified-id=\"EDA-2\"><span class=\"toc-item-num\">2&nbsp;&nbsp;</span>EDA</a></span><ul class=\"toc-item\"><li><span><a href=\"#工具包-&amp;-数据导入\" data-toc-modified-id=\"工具包-&amp;-数据导入-2.1\"><span class=\"toc-item-num\">2.1&nbsp;&nbsp;</span>工具包 &amp; 数据导入</a></span><ul class=\"toc-item\"><li><span><a href=\"#工具包导入\" data-toc-modified-id=\"工具包导入-2.1.1\"><span class=\"toc-item-num\">2.1.1&nbsp;&nbsp;</span>工具包导入</a></span></li><li><span><a href=\"#数据导入\" data-toc-modified-id=\"数据导入-2.1.2\"><span class=\"toc-item-num\">2.1.2&nbsp;&nbsp;</span>数据导入</a></span></li></ul></li><li><span><a href=\"#数据探索（初步EDA）\" data-toc-modified-id=\"数据探索（初步EDA）-2.2\"><span class=\"toc-item-num\">2.2&nbsp;&nbsp;</span>数据探索（初步EDA）</a></span><ul class=\"toc-item\"><li><span><a href=\"#training_set数据集\" data-toc-modified-id=\"training_set数据集-2.2.1\"><span class=\"toc-item-num\">2.2.1&nbsp;&nbsp;</span>training_set数据集</a></span><ul class=\"toc-item\"><li><span><a href=\"#数据集初探\" data-toc-modified-id=\"数据集初探-2.2.1.1\"><span class=\"toc-item-num\">2.2.1.1&nbsp;&nbsp;</span>数据集初探</a></span></li><li><span><a href=\"#数据集大小\" data-toc-modified-id=\"数据集大小-2.2.1.2\"><span class=\"toc-item-num\">2.2.1.2&nbsp;&nbsp;</span>数据集大小</a></span></li><li><span><a href=\"#数据集不同样特征数\" data-toc-modified-id=\"数据集不同样特征数-2.2.1.3\"><span class=\"toc-item-num\">2.2.1.3&nbsp;&nbsp;</span>数据集不同样特征数</a></span></li><li><span><a href=\"#数据类型\" data-toc-modified-id=\"数据类型-2.2.1.4\"><span class=\"toc-item-num\">2.2.1.4&nbsp;&nbsp;</span>数据类型</a></span></li><li><span><a href=\"#数据集缺失情况\" data-toc-modified-id=\"数据集缺失情况-2.2.1.5\"><span class=\"toc-item-num\">2.2.1.5&nbsp;&nbsp;</span>数据集缺失情况</a></span></li><li><span><a href=\"#数据集统计特征\" data-toc-modified-id=\"数据集统计特征-2.2.1.6\"><span class=\"toc-item-num\">2.2.1.6&nbsp;&nbsp;</span>数据集统计特征</a></span></li></ul></li><li><span><a href=\"#training_set_metadata数据集\" data-toc-modified-id=\"training_set_metadata数据集-2.2.2\"><span class=\"toc-item-num\">2.2.2&nbsp;&nbsp;</span>training_set_metadata数据集</a></span><ul class=\"toc-item\"><li><span><a href=\"#数据集初探\" data-toc-modified-id=\"数据集初探-2.2.2.1\"><span class=\"toc-item-num\">2.2.2.1&nbsp;&nbsp;</span>数据集初探</a></span></li><li><span><a href=\"#数据集大小\" data-toc-modified-id=\"数据集大小-2.2.2.2\"><span class=\"toc-item-num\">2.2.2.2&nbsp;&nbsp;</span>数据集大小</a></span></li><li><span><a href=\"#数据集不同样特征数\" data-toc-modified-id=\"数据集不同样特征数-2.2.2.3\"><span class=\"toc-item-num\">2.2.2.3&nbsp;&nbsp;</span>数据集不同样特征数</a></span></li><li><span><a href=\"#数据类型\" data-toc-modified-id=\"数据类型-2.2.2.4\"><span class=\"toc-item-num\">2.2.2.4&nbsp;&nbsp;</span>数据类型</a></span></li><li><span><a href=\"#数据集缺失情况\" data-toc-modified-id=\"数据集缺失情况-2.2.2.5\"><span class=\"toc-item-num\">2.2.2.5&nbsp;&nbsp;</span>数据集缺失情况</a></span></li><li><span><a href=\"#数据集统计特征\" data-toc-modified-id=\"数据集统计特征-2.2.2.6\"><span class=\"toc-item-num\">2.2.2.6&nbsp;&nbsp;</span>数据集统计特征</a></span></li></ul></li></ul></li><li><span><a href=\"#数据初探（深入探索）\" data-toc-modified-id=\"数据初探（深入探索）-2.3\"><span class=\"toc-item-num\">2.3&nbsp;&nbsp;</span>数据初探（深入探索）</a></span><ul class=\"toc-item\"><li><span><a href=\"#标签分布\" data-toc-modified-id=\"标签分布-2.3.1\"><span class=\"toc-item-num\">2.3.1&nbsp;&nbsp;</span>标签分布</a></span></li><li><span><a href=\"#training_set_metadata数据集(主看特征与标签的关系)\" data-toc-modified-id=\"training_set_metadata数据集(主看特征与标签的关系)-2.3.2\"><span class=\"toc-item-num\">2.3.2&nbsp;&nbsp;</span>training_set_metadata数据集(主看特征与标签的关系)</a></span><ul class=\"toc-item\"><li><span><a href=\"#DDF与标签的关系\" data-toc-modified-id=\"DDF与标签的关系-2.3.2.1\"><span class=\"toc-item-num\">2.3.2.1&nbsp;&nbsp;</span>DDF与标签的关系</a></span></li><li><span><a href=\"#ra与标签的关系\" data-toc-modified-id=\"ra与标签的关系-2.3.2.2\"><span class=\"toc-item-num\">2.3.2.2&nbsp;&nbsp;</span>ra与标签的关系</a></span></li><li><span><a href=\"#hostgal_photoz_err与标签的关系\" data-toc-modified-id=\"hostgal_photoz_err与标签的关系-2.3.2.3\"><span class=\"toc-item-num\">2.3.2.3&nbsp;&nbsp;</span>hostgal_photoz_err与标签的关系</a></span></li><li><span><a href=\"#mwebv与标签的关系\" data-toc-modified-id=\"mwebv与标签的关系-2.3.2.4\"><span class=\"toc-item-num\">2.3.2.4&nbsp;&nbsp;</span>mwebv与标签的关系</a></span></li><li><span><a href=\"#hostgal_specz-&amp;-hostgal_photoz与标签的关系\" data-toc-modified-id=\"hostgal_specz-&amp;-hostgal_photoz与标签的关系-2.3.2.5\"><span class=\"toc-item-num\">2.3.2.5&nbsp;&nbsp;</span>hostgal_specz &amp; hostgal_photoz与标签的关系</a></span></li><li><span><a href=\"#gal_l-&amp;-gal_b与标签的关系\" data-toc-modified-id=\"gal_l-&amp;-gal_b与标签的关系-2.3.2.6\"><span class=\"toc-item-num\">2.3.2.6&nbsp;&nbsp;</span>gal_l &amp; gal_b与标签的关系</a></span></li></ul></li><li><span><a href=\"#training_set数据集(主看object_id与特征之间的关系)\" data-toc-modified-id=\"training_set数据集(主看object_id与特征之间的关系)-2.3.3\"><span class=\"toc-item-num\">2.3.3&nbsp;&nbsp;</span>training_set数据集(主看object_id与特征之间的关系)</a></span><ul class=\"toc-item\"><li><span><a href=\"#object_id\" data-toc-modified-id=\"object_id-2.3.3.1\"><span class=\"toc-item-num\">2.3.3.1&nbsp;&nbsp;</span>object_id</a></span></li><li><span><a href=\"#object_id&amp;passband的关系\" data-toc-modified-id=\"object_id&amp;passband的关系-2.3.3.2\"><span class=\"toc-item-num\">2.3.3.2&nbsp;&nbsp;</span>object_id&amp;passband的关系</a></span></li><li><span><a href=\"#object_id&amp;mjd的关系\" data-toc-modified-id=\"object_id&amp;mjd的关系-2.3.3.3\"><span class=\"toc-item-num\">2.3.3.3&nbsp;&nbsp;</span>object_id&amp;mjd的关系</a></span></li><li><span><a href=\"#object_id&amp;detected的关系\" data-toc-modified-id=\"object_id&amp;detected的关系-2.3.3.4\"><span class=\"toc-item-num\">2.3.3.4&nbsp;&nbsp;</span>object_id&amp;detected的关系</a></span></li></ul></li></ul></li></ul></li><li><span><a href=\"#特征工程&amp;Baseline\" data-toc-modified-id=\"特征工程&amp;Baseline-3\"><span class=\"toc-item-num\">3&nbsp;&nbsp;</span>特征工程&amp;Baseline</a></span><ul class=\"toc-item\"><li><span><a href=\"#准备\" data-toc-modified-id=\"准备-3.1\"><span class=\"toc-item-num\">3.1&nbsp;&nbsp;</span>准备</a></span><ul class=\"toc-item\"><li><span><a href=\"#线上线下label转换\" data-toc-modified-id=\"线上线下label转换-3.1.1\"><span class=\"toc-item-num\">3.1.1&nbsp;&nbsp;</span>线上线下label转换</a></span></li><li><span><a href=\"#lgb的评估指标设计\" data-toc-modified-id=\"lgb的评估指标设计-3.1.2\"><span class=\"toc-item-num\">3.1.2&nbsp;&nbsp;</span>lgb的评估指标设计</a></span></li></ul></li><li><span><a href=\"#特征工程：-基于training_set的特征工程\" data-toc-modified-id=\"特征工程：-基于training_set的特征工程-3.2\"><span class=\"toc-item-num\">3.2&nbsp;&nbsp;</span>特征工程： 基于training_set的特征工程</a></span><ul class=\"toc-item\"><li><span><a href=\"#数据集扩充\" data-toc-modified-id=\"数据集扩充-3.2.1\"><span class=\"toc-item-num\">3.2.1&nbsp;&nbsp;</span>数据集扩充</a></span></li><li><span><a href=\"#特征工程\" data-toc-modified-id=\"特征工程-3.2.2\"><span class=\"toc-item-num\">3.2.2&nbsp;&nbsp;</span>特征工程</a></span><ul class=\"toc-item\"><li><span><a href=\"#object_id:count\" data-toc-modified-id=\"object_id:count-3.2.2.1\"><span class=\"toc-item-num\">3.2.2.1&nbsp;&nbsp;</span>object_id:count</a></span></li><li><span><a href=\"#object_id(passband)-:--mode\" data-toc-modified-id=\"object_id(passband)-:--mode-3.2.2.2\"><span class=\"toc-item-num\">3.2.2.2&nbsp;&nbsp;</span>object_id(passband) :  mode</a></span></li><li><span><a href=\"#object_id(flux,flux_err,flux_div_flux_err)-:-mean,std,sum,max,min,range(max-min),quantile\" data-toc-modified-id=\"object_id(flux,flux_err,flux_div_flux_err)-:-mean,std,sum,max,min,range(max-min),quantile-3.2.2.3\"><span class=\"toc-item-num\">3.2.2.3&nbsp;&nbsp;</span>object_id(flux,flux_err,flux_div_flux_err) : mean,std,sum,max,min,range(max-min),quantile</a></span></li><li><span><a href=\"#object_id(detected)-:-sum,mean\" data-toc-modified-id=\"object_id(detected)-:-sum,mean-3.2.2.4\"><span class=\"toc-item-num\">3.2.2.4&nbsp;&nbsp;</span>object_id(detected) : sum,mean</a></span></li><li><span><a href=\"#object_id(mjd)-:-max,min,mean,range\" data-toc-modified-id=\"object_id(mjd)-:-max,min,mean,range-3.2.2.5\"><span class=\"toc-item-num\">3.2.2.5&nbsp;&nbsp;</span>object_id(mjd) : max,min,mean,range</a></span></li><li><span><a href=\"#加入training_set_metadata的部分特征\" data-toc-modified-id=\"加入training_set_metadata的部分特征-3.2.2.6\"><span class=\"toc-item-num\">3.2.2.6&nbsp;&nbsp;</span>加入training_set_metadata的部分特征</a></span></li></ul></li><li><span><a href=\"#模型验证\" data-toc-modified-id=\"模型验证-3.2.3\"><span class=\"toc-item-num\">3.2.3&nbsp;&nbsp;</span>模型验证</a></span><ul class=\"toc-item\"><li><span><a href=\"#简单模型的5折验证（不加权重）:1.18653\" data-toc-modified-id=\"简单模型的5折验证（不加权重）:1.18653-3.2.3.1\"><span class=\"toc-item-num\">3.2.3.1&nbsp;&nbsp;</span>简单模型的5折验证（不加权重）:1.18653</a></span></li><li><span><a href=\"#加权重(-0.94215-)\" data-toc-modified-id=\"加权重(-0.94215-)-3.2.3.2\"><span class=\"toc-item-num\">3.2.3.2&nbsp;&nbsp;</span>加权重( 0.94215 )</a></span></li></ul></li><li><span><a href=\"#特征重要性分析\" data-toc-modified-id=\"特征重要性分析-3.2.4\"><span class=\"toc-item-num\">3.2.4&nbsp;&nbsp;</span>特征重要性分析</a></span></li><li><span><a href=\"#模型测试\" data-toc-modified-id=\"模型测试-3.2.5\"><span class=\"toc-item-num\">3.2.5&nbsp;&nbsp;</span>模型测试</a></span><ul class=\"toc-item\"><li><span><a href=\"#特征工程pipeline\" data-toc-modified-id=\"特征工程pipeline-3.2.5.1\"><span class=\"toc-item-num\">3.2.5.1&nbsp;&nbsp;</span>特征工程pipeline</a></span></li><li><span><a href=\"#获取模型\" data-toc-modified-id=\"获取模型-3.2.5.2\"><span class=\"toc-item-num\">3.2.5.2&nbsp;&nbsp;</span>获取模型</a></span></li><li><span><a href=\"#模型预测\" data-toc-modified-id=\"模型预测-3.2.5.3\"><span class=\"toc-item-num\">3.2.5.3&nbsp;&nbsp;</span>模型预测</a></span></li></ul></li><li><span><a href=\"#预测结果提交\" data-toc-modified-id=\"预测结果提交-3.2.6\"><span class=\"toc-item-num\">3.2.6&nbsp;&nbsp;</span>预测结果提交</a></span><ul class=\"toc-item\"><li><span><a href=\"#预测结果后处理\" data-toc-modified-id=\"预测结果后处理-3.2.6.1\"><span class=\"toc-item-num\">3.2.6.1&nbsp;&nbsp;</span>预测结果后处理</a></span></li><li><span><a href=\"#header处理\" data-toc-modified-id=\"header处理-3.2.6.2\"><span class=\"toc-item-num\">3.2.6.2&nbsp;&nbsp;</span>header处理</a></span></li><li><span><a href=\"#预测结果的类型转换\" data-toc-modified-id=\"预测结果的类型转换-3.2.6.3\"><span class=\"toc-item-num\">3.2.6.3&nbsp;&nbsp;</span>预测结果的类型转换</a></span></li><li><span><a href=\"#得分:-1.37856,-排名:-575-/-1094\" data-toc-modified-id=\"得分:-1.37856,-排名:-575-/-1094-3.2.6.4\"><span class=\"toc-item-num\">3.2.6.4&nbsp;&nbsp;</span>得分: 1.37856, 排名: 575 / 1094</a></span></li></ul></li></ul></li></ul></li><li><span><a href=\"#小结\" data-toc-modified-id=\"小结-4\"><span class=\"toc-item-num\">4&nbsp;&nbsp;</span>小结</a></span></li></ul></div>"
   ]
  },
  {
   "cell_type": "markdown",
   "metadata": {},
   "source": [
    "# 比赛介绍\n",
    "\n",
    "- 比赛链接:https://www.kaggle.com/c/PLAsTiCC-2018\n",
    "\n",
    "## 比赛背景\n",
    "\n",
    "此次竞赛的目的是帮助一些世界顶尖的天文学家掌握宇宙最深的特性。\n",
    "\n",
    "数百年来，人眼一直是夜空中的天文源分类的仲裁者。但是一个全新的设备--大口径全景巡天望远镜(LSST),即将使这个领域发生革命,它能发现比我们所知道的10到100倍以上在夜空中变化的天文来源,一些源可能是前所未有的,即之前所未被发现过的.\n",
    "\n",
    "光度LSST天文时间序列分类挑战(PLAsTiCC)邀请Kagglers来帮助对这项新调查的数据进行分类,竞赛者需要将随时间不断变化的天文源进行分类。 从小的训练集扩展到LSST将发现的类型的非常大的测试集。 <br /> <br />\n",
    " \n",
    " \n",
    "<font color=blue>英文原文 </font>\n",
    " \n",
    "Help some of the world's leading astronomers grasp the deepest properties of the universe.\n",
    "\n",
    "The human eye has been the arbiter for the classification of astronomical sources in the night sky for hundreds of years. But a new facility -- the Large Synoptic Survey Telescope (LSST) -- is about to revolutionize the field, discovering 10 to 100 times more astronomical sources that vary in the night sky than we've ever known. Some of these sources will be completely unprecedented!\n",
    "\n",
    "The Photometric LSST Astronomical Time-Series Classification Challenge (PLAsTiCC) asks Kagglers to help prepare to classify the data from this new survey. Competitors will classify astronomical sources that vary with time into different classes, scaling from a small training set to a very large test set of the type the LSST will discover.\n",
    "\n",
    "More background information is available here. \n",
    " "
   ]
  },
  {
   "cell_type": "markdown",
   "metadata": {},
   "source": [
    "## 数据字段介绍\n",
    "\n",
    "因为我未曾研究过天文学,所以对于字段的释义不再进行翻译(主要翻译不专业......)\n",
    "\n",
    "### Metadata.csv\n",
    "1. object_id: unique object identifier. Int32\n",
    "2. ra: right ascension, sky coordinate: co-longitude in degrees. Float32\n",
    "3. decl: declination, sky coordinate: co-latitude in degrees. Float32\n",
    "4. gal_l: galactic longitude in degrees. Float32\n",
    "5. gal_b: galactic latitude in degrees. Float32\n",
    "6. ddf: A flag to identify the object as coming from the DDF survey area (with value DDF = 1 for the DDF, DDF = 0 for the WFD survey). Note that while the DDF fields are contained within the full WFD survey area, the DDF fluxes have significantly smaller uncertainties. Boolean\n",
    "7. hostgal_specz: the spectroscopic redshift of the source. This is an extremely accurate measure of redshift, available for the training set and a small fraction of the test set. Float32\n",
    "8. hostgal_photoz: The photometric redshift of the host galaxy of the astronomical source. While this is meant to be a proxy for hostgal_specz, there can be large differences between the two and should be regarded as a far less accurate version of hostgal_specz. Float32\n",
    "9. hostgal_photoz_err: The uncertainty on the hostgal_photoz based on LSST survey projections. Float32\n",
    "10. distmod: The distance to the source calculated from hostgal_photoz and using general relativity. Float32\n",
    "11. mwebv: MW E(B-V). this ‘extinction’ of light is a property of the Milky Way (MW) dust along the line of sight to the astronomical source, and is thus a function of the sky coordinates of the source ra, decl. This is used to determine a passband dependent dimming and redenning of light from astronomical sources as described in subsection 2.1, and based on the Schlafly et al. (2011) and Schlegel et al. (1998) dust models. Float32\n",
    "12. target: The class of the astronomical source. This is provided in the training data. Correctly determining the target (correctly assigning classification probabilities to the objects) is the ‘goal’ of the classification challenge for the test data. Note that there is one class in the test set that does not occur in the training set: class_99 serves as an \"other\" class for objects that don't belong in any of the 14 classes in the training set. Int8\n",
    "\n",
    "### Data File Column Descriptions\n",
    "1. object_id: Foreign key with the metadata. Int32\n",
    "2. mjd: the time in Modified Julian Date (MJD) of the observation. Can be read as days since November 17, 1858. Can be converted to Unix epoch time with the formula unix_time = (MJD−40587)×86400. Float64\n",
    "3. passband: The specific LSST passband integer, such that u, g, r, i, z, Y = 0, 1, 2, 3, 4, 5 in which it was viewed. Int8\n",
    "4. flux: the measured flux (brightness) in the passband of observation as listed in the passband column. These values have already been corrected for dust extinction (mwebv), though heavily extincted objects will have larger uncertainties (flux_err) in spite of the correction. Float32\n",
    "5. flux_err: the uncertainty on the measurement of the flux listed above. Float32\n",
    "6. detected: If 1, the object's brightness is significantly different at the 3-sigma level relative to the reference template. Only objects with at least 2 detections are included in the dataset. Boolean"
   ]
  },
  {
   "cell_type": "markdown",
   "metadata": {},
   "source": [
    "## 评价指标\n",
    "\n",
    "每个比赛评价指标的设计都十分的重要，错误的指标往往会导致模型最后没法直接使用到真实的问题当中。本次天文比赛的指标是加权的多分类logloss,对应的公式如下,至于为什么选择这个指标,天文学的专家也做了很深入的探讨,感兴趣的可以自行的搜索对应的论文。\n",
    "\n",
    "![](./pic/loss.png)"
   ]
  },
  {
   "cell_type": "markdown",
   "metadata": {},
   "source": [
    "# EDA\n",
    "## 工具包 & 数据导入\n",
    "### 工具包导入"
   ]
  },
  {
   "cell_type": "code",
   "execution_count": 2,
   "metadata": {
    "scrolled": true
   },
   "outputs": [],
   "source": [
    "## 数据工具包\n",
    "import numpy as np\n",
    "np.random.seed(100)\n",
    "import pandas as pd\n",
    "from scipy.sparse import vstack,hstack\n",
    "\n",
    "from sklearn.preprocessing import StandardScaler\n",
    "from sklearn.model_selection import train_test_split\n",
    "from sklearn.model_selection import KFold \n",
    "\n",
    "import warnings\n",
    "warnings.filterwarnings('ignore')\n",
    "\n",
    "import xgboost as xgb\n",
    "import lightgbm as lgb\n",
    "\n",
    "import os \n",
    "import gc\n",
    "import time\n",
    "\n",
    "## 绘图工具 \n",
    "import matplotlib.pyplot as plt\n",
    "import seaborn as sns\n",
    "%matplotlib inline"
   ]
  },
  {
   "cell_type": "markdown",
   "metadata": {},
   "source": [
    "### 数据导入\n",
    "- 训练集测试集的导入"
   ]
  },
  {
   "cell_type": "code",
   "execution_count": 3,
   "metadata": {},
   "outputs": [],
   "source": [
    "path = '/data/Data_JieZhang/PLA/'\n",
    "training_set = pd.read_csv(path + 'training_set.csv')\n",
    "training_set_metadata = pd.read_csv(path + 'training_set_metadata.csv') "
   ]
  },
  {
   "cell_type": "markdown",
   "metadata": {},
   "source": [
    "## 数据探索（初步EDA）"
   ]
  },
  {
   "cell_type": "markdown",
   "metadata": {},
   "source": [
    "### training_set数据集\n",
    "\n",
    "我习惯把对于每一个数据集的分析的结论都放在开头或者末尾,这样下次我需要看的时候可以直接看到所有的结论,节省我的时间。同样地,此处我把一些必须分析的内容放开头,有兴趣的可以自己往下看具体的分析.\n",
    "\n",
    "1.training_set的大小为1421705<br />\n",
    "2.training_set中存在：\n",
    "\n",
    "- 7848个不一样的object_id\n",
    "- 282504个不一样的mjd\n",
    "- 6个不一样的passband\n",
    "- 1387857个不一样的flux\n",
    "- 1327198个不一样的flux_err     \n",
    "- 2个不一样的detected\n",
    "\n",
    "3.所有的数据类型全部都是整形或者浮点型<br />\n",
    "4.数据集中不存在缺失值<br />\n",
    "5.flux,flux_err的波动特别大(std较大)，其余的相对正常"
   ]
  },
  {
   "cell_type": "markdown",
   "metadata": {},
   "source": [
    "#### 数据集初探\n",
    "training_set的大小为1421705"
   ]
  },
  {
   "cell_type": "code",
   "execution_count": 4,
   "metadata": {},
   "outputs": [
    {
     "data": {
      "text/html": [
       "<div>\n",
       "<style scoped>\n",
       "    .dataframe tbody tr th:only-of-type {\n",
       "        vertical-align: middle;\n",
       "    }\n",
       "\n",
       "    .dataframe tbody tr th {\n",
       "        vertical-align: top;\n",
       "    }\n",
       "\n",
       "    .dataframe thead th {\n",
       "        text-align: right;\n",
       "    }\n",
       "</style>\n",
       "<table border=\"1\" class=\"dataframe\">\n",
       "  <thead>\n",
       "    <tr style=\"text-align: right;\">\n",
       "      <th></th>\n",
       "      <th>object_id</th>\n",
       "      <th>mjd</th>\n",
       "      <th>passband</th>\n",
       "      <th>flux</th>\n",
       "      <th>flux_err</th>\n",
       "      <th>detected</th>\n",
       "    </tr>\n",
       "  </thead>\n",
       "  <tbody>\n",
       "    <tr>\n",
       "      <th>0</th>\n",
       "      <td>615</td>\n",
       "      <td>59750.4229</td>\n",
       "      <td>2</td>\n",
       "      <td>-544.810303</td>\n",
       "      <td>3.622952</td>\n",
       "      <td>1</td>\n",
       "    </tr>\n",
       "    <tr>\n",
       "      <th>1</th>\n",
       "      <td>615</td>\n",
       "      <td>59750.4306</td>\n",
       "      <td>1</td>\n",
       "      <td>-816.434326</td>\n",
       "      <td>5.553370</td>\n",
       "      <td>1</td>\n",
       "    </tr>\n",
       "    <tr>\n",
       "      <th>2</th>\n",
       "      <td>615</td>\n",
       "      <td>59750.4383</td>\n",
       "      <td>3</td>\n",
       "      <td>-471.385529</td>\n",
       "      <td>3.801213</td>\n",
       "      <td>1</td>\n",
       "    </tr>\n",
       "    <tr>\n",
       "      <th>3</th>\n",
       "      <td>615</td>\n",
       "      <td>59750.4450</td>\n",
       "      <td>4</td>\n",
       "      <td>-388.984985</td>\n",
       "      <td>11.395031</td>\n",
       "      <td>1</td>\n",
       "    </tr>\n",
       "    <tr>\n",
       "      <th>4</th>\n",
       "      <td>615</td>\n",
       "      <td>59752.4070</td>\n",
       "      <td>2</td>\n",
       "      <td>-681.858887</td>\n",
       "      <td>4.041204</td>\n",
       "      <td>1</td>\n",
       "    </tr>\n",
       "  </tbody>\n",
       "</table>\n",
       "</div>"
      ],
      "text/plain": [
       "   object_id         mjd  passband        flux   flux_err  detected\n",
       "0        615  59750.4229         2 -544.810303   3.622952         1\n",
       "1        615  59750.4306         1 -816.434326   5.553370         1\n",
       "2        615  59750.4383         3 -471.385529   3.801213         1\n",
       "3        615  59750.4450         4 -388.984985  11.395031         1\n",
       "4        615  59752.4070         2 -681.858887   4.041204         1"
      ]
     },
     "execution_count": 4,
     "metadata": {},
     "output_type": "execute_result"
    }
   ],
   "source": [
    "training_set.head()"
   ]
  },
  {
   "cell_type": "markdown",
   "metadata": {},
   "source": [
    "#### 数据集大小"
   ]
  },
  {
   "cell_type": "code",
   "execution_count": 5,
   "metadata": {},
   "outputs": [
    {
     "data": {
      "text/plain": [
       "(1421705, 6)"
      ]
     },
     "execution_count": 5,
     "metadata": {},
     "output_type": "execute_result"
    }
   ],
   "source": [
    "training_set.shape"
   ]
  },
  {
   "cell_type": "markdown",
   "metadata": {},
   "source": [
    "#### 数据集不同样特征数\n",
    "training_set中存在很多不一样的数据\n",
    "- 7848个不一样的object_id\n",
    "- 282504个不一样的mjd \n",
    "- 6个不一样的passband\n",
    "- 1387857个不一样的flux\n",
    "- 1327198个不一样的flux_err     \n",
    "- 2个不一样的detected"
   ]
  },
  {
   "cell_type": "code",
   "execution_count": 6,
   "metadata": {},
   "outputs": [
    {
     "data": {
      "text/plain": [
       "object_id       7848\n",
       "mjd           282504\n",
       "passband           6\n",
       "flux         1387857\n",
       "flux_err     1327198\n",
       "detected           2\n",
       "dtype: int64"
      ]
     },
     "execution_count": 6,
     "metadata": {},
     "output_type": "execute_result"
    }
   ],
   "source": [
    "training_set.nunique()"
   ]
  },
  {
   "cell_type": "markdown",
   "metadata": {},
   "source": [
    "#### 数据类型\n",
    "所有的数据类型全部都是整形或者浮点型"
   ]
  },
  {
   "cell_type": "code",
   "execution_count": 8,
   "metadata": {},
   "outputs": [
    {
     "data": {
      "text/plain": [
       "object_id      int64\n",
       "mjd          float64\n",
       "passband       int64\n",
       "flux         float64\n",
       "flux_err     float64\n",
       "detected       int64\n",
       "dtype: object"
      ]
     },
     "execution_count": 8,
     "metadata": {},
     "output_type": "execute_result"
    }
   ],
   "source": [
    "training_set.dtypes"
   ]
  },
  {
   "cell_type": "markdown",
   "metadata": {},
   "source": [
    "#### 数据集缺失情况\n",
    "- 数据集中不存在缺失值"
   ]
  },
  {
   "cell_type": "code",
   "execution_count": 9,
   "metadata": {},
   "outputs": [
    {
     "data": {
      "text/plain": [
       "object_id    0\n",
       "mjd          0\n",
       "passband     0\n",
       "flux         0\n",
       "flux_err     0\n",
       "detected     0\n",
       "dtype: int64"
      ]
     },
     "execution_count": 9,
     "metadata": {},
     "output_type": "execute_result"
    }
   ],
   "source": [
    "training_set.isnull().sum(axis=0)"
   ]
  },
  {
   "cell_type": "markdown",
   "metadata": {},
   "source": [
    "#### 数据集统计特征\n",
    "- flux,flux_err的波动特别大(std较大)，其余的相对正常"
   ]
  },
  {
   "cell_type": "code",
   "execution_count": 10,
   "metadata": {},
   "outputs": [
    {
     "data": {
      "text/html": [
       "<div>\n",
       "<style scoped>\n",
       "    .dataframe tbody tr th:only-of-type {\n",
       "        vertical-align: middle;\n",
       "    }\n",
       "\n",
       "    .dataframe tbody tr th {\n",
       "        vertical-align: top;\n",
       "    }\n",
       "\n",
       "    .dataframe thead th {\n",
       "        text-align: right;\n",
       "    }\n",
       "</style>\n",
       "<table border=\"1\" class=\"dataframe\">\n",
       "  <thead>\n",
       "    <tr style=\"text-align: right;\">\n",
       "      <th></th>\n",
       "      <th>object_id</th>\n",
       "      <th>mjd</th>\n",
       "      <th>passband</th>\n",
       "      <th>flux</th>\n",
       "      <th>flux_err</th>\n",
       "      <th>detected</th>\n",
       "    </tr>\n",
       "  </thead>\n",
       "  <tbody>\n",
       "    <tr>\n",
       "      <th>count</th>\n",
       "      <td>1.421705e+06</td>\n",
       "      <td>1.421705e+06</td>\n",
       "      <td>1.421705e+06</td>\n",
       "      <td>1.421705e+06</td>\n",
       "      <td>1.421705e+06</td>\n",
       "      <td>1.421705e+06</td>\n",
       "    </tr>\n",
       "    <tr>\n",
       "      <th>mean</th>\n",
       "      <td>3.392608e+07</td>\n",
       "      <td>6.017921e+04</td>\n",
       "      <td>2.783108e+00</td>\n",
       "      <td>2.468855e+01</td>\n",
       "      <td>2.548932e+01</td>\n",
       "      <td>1.666168e-01</td>\n",
       "    </tr>\n",
       "    <tr>\n",
       "      <th>std</th>\n",
       "      <td>4.258439e+07</td>\n",
       "      <td>3.092379e+02</td>\n",
       "      <td>1.703946e+00</td>\n",
       "      <td>3.684506e+03</td>\n",
       "      <td>3.814492e+03</td>\n",
       "      <td>3.726336e-01</td>\n",
       "    </tr>\n",
       "    <tr>\n",
       "      <th>min</th>\n",
       "      <td>6.150000e+02</td>\n",
       "      <td>5.958003e+04</td>\n",
       "      <td>0.000000e+00</td>\n",
       "      <td>-1.149388e+06</td>\n",
       "      <td>4.637530e-01</td>\n",
       "      <td>0.000000e+00</td>\n",
       "    </tr>\n",
       "    <tr>\n",
       "      <th>25%</th>\n",
       "      <td>1.843400e+05</td>\n",
       "      <td>5.989905e+04</td>\n",
       "      <td>1.000000e+00</td>\n",
       "      <td>-2.789418e+00</td>\n",
       "      <td>2.118670e+00</td>\n",
       "      <td>0.000000e+00</td>\n",
       "    </tr>\n",
       "    <tr>\n",
       "      <th>50%</th>\n",
       "      <td>4.548783e+06</td>\n",
       "      <td>6.019331e+04</td>\n",
       "      <td>3.000000e+00</td>\n",
       "      <td>7.331990e-01</td>\n",
       "      <td>4.708105e+00</td>\n",
       "      <td>0.000000e+00</td>\n",
       "    </tr>\n",
       "    <tr>\n",
       "      <th>75%</th>\n",
       "      <td>6.796280e+07</td>\n",
       "      <td>6.048722e+04</td>\n",
       "      <td>4.000000e+00</td>\n",
       "      <td>8.830932e+00</td>\n",
       "      <td>1.297371e+01</td>\n",
       "      <td>0.000000e+00</td>\n",
       "    </tr>\n",
       "    <tr>\n",
       "      <th>max</th>\n",
       "      <td>1.307798e+08</td>\n",
       "      <td>6.067436e+04</td>\n",
       "      <td>5.000000e+00</td>\n",
       "      <td>2.432809e+06</td>\n",
       "      <td>2.234069e+06</td>\n",
       "      <td>1.000000e+00</td>\n",
       "    </tr>\n",
       "  </tbody>\n",
       "</table>\n",
       "</div>"
      ],
      "text/plain": [
       "          object_id           mjd      passband          flux      flux_err  \\\n",
       "count  1.421705e+06  1.421705e+06  1.421705e+06  1.421705e+06  1.421705e+06   \n",
       "mean   3.392608e+07  6.017921e+04  2.783108e+00  2.468855e+01  2.548932e+01   \n",
       "std    4.258439e+07  3.092379e+02  1.703946e+00  3.684506e+03  3.814492e+03   \n",
       "min    6.150000e+02  5.958003e+04  0.000000e+00 -1.149388e+06  4.637530e-01   \n",
       "25%    1.843400e+05  5.989905e+04  1.000000e+00 -2.789418e+00  2.118670e+00   \n",
       "50%    4.548783e+06  6.019331e+04  3.000000e+00  7.331990e-01  4.708105e+00   \n",
       "75%    6.796280e+07  6.048722e+04  4.000000e+00  8.830932e+00  1.297371e+01   \n",
       "max    1.307798e+08  6.067436e+04  5.000000e+00  2.432809e+06  2.234069e+06   \n",
       "\n",
       "           detected  \n",
       "count  1.421705e+06  \n",
       "mean   1.666168e-01  \n",
       "std    3.726336e-01  \n",
       "min    0.000000e+00  \n",
       "25%    0.000000e+00  \n",
       "50%    0.000000e+00  \n",
       "75%    0.000000e+00  \n",
       "max    1.000000e+00  "
      ]
     },
     "execution_count": 10,
     "metadata": {},
     "output_type": "execute_result"
    }
   ],
   "source": [
    "training_set.describe()"
   ]
  },
  {
   "cell_type": "markdown",
   "metadata": {},
   "source": [
    "### training_set_metadata数据集\n",
    "\n",
    "\n",
    "我们先放一下重要的结论,有兴趣的可以自己往下看具体的分析.\n",
    "\n",
    "1.training_set_metadata的大小为7848<br />\n",
    "2.training_set_metadata中存在很多不一样的数据\n",
    "- 7848个不一样的object_id\n",
    "- 3009个不一样的ra\n",
    "- 403个不一样的decl\n",
    "- 5504个不一样的gal_l\n",
    "- 5504个不一样的gal_b\n",
    "- 2个不一样的ddf\n",
    "- 3750个不一样的hostgal_specz\n",
    "- 4025个不一样的hostgal_photoz\n",
    "- 2456个不一样的hostgal_photoz_err\n",
    "- 5300个不一样的distmod\n",
    "- 593个不一样的mwebv\n",
    "- 14个不一样的target\n",
    "\n",
    "3.所有的数据类型全部都是整形或者浮点型<br />\n",
    "4.数据集缺失情况¶:distmod特征缺失了2325个<br />\n",
    "5.数据看上去暂无较大异常<br />\n",
    "6.hostgal_specz,hostgal_photoz,hostgal_photoz_err这三个字段中存在一些奇异的情况,75%以上的值都是小于0.5的,但是最大值却明显大于这些值."
   ]
  },
  {
   "cell_type": "markdown",
   "metadata": {},
   "source": [
    "#### 数据集初探\n",
    "training_set_metadata的大小为7848"
   ]
  },
  {
   "cell_type": "code",
   "execution_count": 11,
   "metadata": {
    "scrolled": false
   },
   "outputs": [
    {
     "data": {
      "text/html": [
       "<div>\n",
       "<style scoped>\n",
       "    .dataframe tbody tr th:only-of-type {\n",
       "        vertical-align: middle;\n",
       "    }\n",
       "\n",
       "    .dataframe tbody tr th {\n",
       "        vertical-align: top;\n",
       "    }\n",
       "\n",
       "    .dataframe thead th {\n",
       "        text-align: right;\n",
       "    }\n",
       "</style>\n",
       "<table border=\"1\" class=\"dataframe\">\n",
       "  <thead>\n",
       "    <tr style=\"text-align: right;\">\n",
       "      <th></th>\n",
       "      <th>object_id</th>\n",
       "      <th>ra</th>\n",
       "      <th>decl</th>\n",
       "      <th>gal_l</th>\n",
       "      <th>gal_b</th>\n",
       "      <th>ddf</th>\n",
       "      <th>hostgal_specz</th>\n",
       "      <th>hostgal_photoz</th>\n",
       "      <th>hostgal_photoz_err</th>\n",
       "      <th>distmod</th>\n",
       "      <th>mwebv</th>\n",
       "      <th>target</th>\n",
       "    </tr>\n",
       "  </thead>\n",
       "  <tbody>\n",
       "    <tr>\n",
       "      <th>0</th>\n",
       "      <td>615</td>\n",
       "      <td>349.046051</td>\n",
       "      <td>-61.943836</td>\n",
       "      <td>320.796530</td>\n",
       "      <td>-51.753706</td>\n",
       "      <td>1</td>\n",
       "      <td>0.0000</td>\n",
       "      <td>0.0000</td>\n",
       "      <td>0.0000</td>\n",
       "      <td>NaN</td>\n",
       "      <td>0.017</td>\n",
       "      <td>92</td>\n",
       "    </tr>\n",
       "    <tr>\n",
       "      <th>1</th>\n",
       "      <td>713</td>\n",
       "      <td>53.085938</td>\n",
       "      <td>-27.784405</td>\n",
       "      <td>223.525509</td>\n",
       "      <td>-54.460748</td>\n",
       "      <td>1</td>\n",
       "      <td>1.8181</td>\n",
       "      <td>1.6267</td>\n",
       "      <td>0.2552</td>\n",
       "      <td>45.4063</td>\n",
       "      <td>0.007</td>\n",
       "      <td>88</td>\n",
       "    </tr>\n",
       "    <tr>\n",
       "      <th>2</th>\n",
       "      <td>730</td>\n",
       "      <td>33.574219</td>\n",
       "      <td>-6.579593</td>\n",
       "      <td>170.455585</td>\n",
       "      <td>-61.548219</td>\n",
       "      <td>1</td>\n",
       "      <td>0.2320</td>\n",
       "      <td>0.2262</td>\n",
       "      <td>0.0157</td>\n",
       "      <td>40.2561</td>\n",
       "      <td>0.021</td>\n",
       "      <td>42</td>\n",
       "    </tr>\n",
       "    <tr>\n",
       "      <th>3</th>\n",
       "      <td>745</td>\n",
       "      <td>0.189873</td>\n",
       "      <td>-45.586655</td>\n",
       "      <td>328.254458</td>\n",
       "      <td>-68.969298</td>\n",
       "      <td>1</td>\n",
       "      <td>0.3037</td>\n",
       "      <td>0.2813</td>\n",
       "      <td>1.1523</td>\n",
       "      <td>40.7951</td>\n",
       "      <td>0.007</td>\n",
       "      <td>90</td>\n",
       "    </tr>\n",
       "    <tr>\n",
       "      <th>4</th>\n",
       "      <td>1124</td>\n",
       "      <td>352.711273</td>\n",
       "      <td>-63.823658</td>\n",
       "      <td>316.922299</td>\n",
       "      <td>-51.059403</td>\n",
       "      <td>1</td>\n",
       "      <td>0.1934</td>\n",
       "      <td>0.2415</td>\n",
       "      <td>0.0176</td>\n",
       "      <td>40.4166</td>\n",
       "      <td>0.024</td>\n",
       "      <td>90</td>\n",
       "    </tr>\n",
       "  </tbody>\n",
       "</table>\n",
       "</div>"
      ],
      "text/plain": [
       "   object_id          ra       decl       gal_l      gal_b  ddf  \\\n",
       "0        615  349.046051 -61.943836  320.796530 -51.753706    1   \n",
       "1        713   53.085938 -27.784405  223.525509 -54.460748    1   \n",
       "2        730   33.574219  -6.579593  170.455585 -61.548219    1   \n",
       "3        745    0.189873 -45.586655  328.254458 -68.969298    1   \n",
       "4       1124  352.711273 -63.823658  316.922299 -51.059403    1   \n",
       "\n",
       "   hostgal_specz  hostgal_photoz  hostgal_photoz_err  distmod  mwebv  target  \n",
       "0         0.0000          0.0000              0.0000      NaN  0.017      92  \n",
       "1         1.8181          1.6267              0.2552  45.4063  0.007      88  \n",
       "2         0.2320          0.2262              0.0157  40.2561  0.021      42  \n",
       "3         0.3037          0.2813              1.1523  40.7951  0.007      90  \n",
       "4         0.1934          0.2415              0.0176  40.4166  0.024      90  "
      ]
     },
     "execution_count": 11,
     "metadata": {},
     "output_type": "execute_result"
    }
   ],
   "source": [
    "training_set_metadata.head()"
   ]
  },
  {
   "cell_type": "markdown",
   "metadata": {},
   "source": [
    "#### 数据集大小"
   ]
  },
  {
   "cell_type": "code",
   "execution_count": 12,
   "metadata": {},
   "outputs": [
    {
     "data": {
      "text/plain": [
       "(7848, 12)"
      ]
     },
     "execution_count": 12,
     "metadata": {},
     "output_type": "execute_result"
    }
   ],
   "source": [
    "training_set_metadata.shape"
   ]
  },
  {
   "cell_type": "markdown",
   "metadata": {},
   "source": [
    "#### 数据集不同样特征数\n",
    "training_set_metadata中存在很多不一样的数据\n",
    "- 7848个不一样的object_id\n",
    "- 3009个不一样的ra\n",
    "- 403个不一样的decl\n",
    "- 5504个不一样的gal_l\n",
    "- 5504个不一样的gal_b\n",
    "- 2个不一样的ddf\n",
    "- 3750个不一样的hostgal_specz\n",
    "- 4025个不一样的hostgal_photoz\n",
    "- 2456个不一样的hostgal_photoz_err\n",
    "- 5300个不一样的distmod\n",
    "- 593个不一样的mwebv\n",
    "- 14个不一样的target"
   ]
  },
  {
   "cell_type": "code",
   "execution_count": 13,
   "metadata": {},
   "outputs": [
    {
     "data": {
      "text/plain": [
       "object_id             7848\n",
       "ra                    3009\n",
       "decl                   403\n",
       "gal_l                 5504\n",
       "gal_b                 5504\n",
       "ddf                      2\n",
       "hostgal_specz         3750\n",
       "hostgal_photoz        4025\n",
       "hostgal_photoz_err    2456\n",
       "distmod               5300\n",
       "mwebv                  593\n",
       "target                  14\n",
       "dtype: int64"
      ]
     },
     "execution_count": 13,
     "metadata": {},
     "output_type": "execute_result"
    }
   ],
   "source": [
    "training_set_metadata.nunique()"
   ]
  },
  {
   "cell_type": "markdown",
   "metadata": {},
   "source": [
    "#### 数据类型\n",
    "所有的数据类型全部都是整形或者浮点型"
   ]
  },
  {
   "cell_type": "code",
   "execution_count": 14,
   "metadata": {},
   "outputs": [
    {
     "data": {
      "text/plain": [
       "object_id               int64\n",
       "ra                    float64\n",
       "decl                  float64\n",
       "gal_l                 float64\n",
       "gal_b                 float64\n",
       "ddf                     int64\n",
       "hostgal_specz         float64\n",
       "hostgal_photoz        float64\n",
       "hostgal_photoz_err    float64\n",
       "distmod               float64\n",
       "mwebv                 float64\n",
       "target                  int64\n",
       "dtype: object"
      ]
     },
     "execution_count": 14,
     "metadata": {},
     "output_type": "execute_result"
    }
   ],
   "source": [
    "training_set_metadata.dtypes"
   ]
  },
  {
   "cell_type": "markdown",
   "metadata": {},
   "source": [
    "#### 数据集缺失情况\n",
    "- distmod特征缺失了2325个"
   ]
  },
  {
   "cell_type": "code",
   "execution_count": 15,
   "metadata": {},
   "outputs": [
    {
     "data": {
      "text/plain": [
       "object_id                0\n",
       "ra                       0\n",
       "decl                     0\n",
       "gal_l                    0\n",
       "gal_b                    0\n",
       "ddf                      0\n",
       "hostgal_specz            0\n",
       "hostgal_photoz           0\n",
       "hostgal_photoz_err       0\n",
       "distmod               2325\n",
       "mwebv                    0\n",
       "target                   0\n",
       "dtype: int64"
      ]
     },
     "execution_count": 15,
     "metadata": {},
     "output_type": "execute_result"
    }
   ],
   "source": [
    "training_set_metadata.isnull().sum(axis=0)"
   ]
  },
  {
   "cell_type": "markdown",
   "metadata": {},
   "source": [
    "#### 数据集统计特征 \n",
    "- 数据看上去暂无较大异常\n",
    "- hostgal_specz,hostgal_photoz,hostgal_photoz_err这三个字段中存在一些奇异的情况,75%以上的值都是小于0.5的,但是最大值却明显大于这些值."
   ]
  },
  {
   "cell_type": "code",
   "execution_count": 16,
   "metadata": {},
   "outputs": [
    {
     "data": {
      "text/html": [
       "<div>\n",
       "<style scoped>\n",
       "    .dataframe tbody tr th:only-of-type {\n",
       "        vertical-align: middle;\n",
       "    }\n",
       "\n",
       "    .dataframe tbody tr th {\n",
       "        vertical-align: top;\n",
       "    }\n",
       "\n",
       "    .dataframe thead th {\n",
       "        text-align: right;\n",
       "    }\n",
       "</style>\n",
       "<table border=\"1\" class=\"dataframe\">\n",
       "  <thead>\n",
       "    <tr style=\"text-align: right;\">\n",
       "      <th></th>\n",
       "      <th>object_id</th>\n",
       "      <th>ra</th>\n",
       "      <th>decl</th>\n",
       "      <th>gal_l</th>\n",
       "      <th>gal_b</th>\n",
       "      <th>ddf</th>\n",
       "      <th>hostgal_specz</th>\n",
       "      <th>hostgal_photoz</th>\n",
       "      <th>hostgal_photoz_err</th>\n",
       "      <th>distmod</th>\n",
       "      <th>mwebv</th>\n",
       "      <th>target</th>\n",
       "    </tr>\n",
       "  </thead>\n",
       "  <tbody>\n",
       "    <tr>\n",
       "      <th>count</th>\n",
       "      <td>7.848000e+03</td>\n",
       "      <td>7848.000000</td>\n",
       "      <td>7848.000000</td>\n",
       "      <td>7848.000000</td>\n",
       "      <td>7848.000000</td>\n",
       "      <td>7848.000000</td>\n",
       "      <td>7848.000000</td>\n",
       "      <td>7848.000000</td>\n",
       "      <td>7848.000000</td>\n",
       "      <td>5523.000000</td>\n",
       "      <td>7848.000000</td>\n",
       "      <td>7848.000000</td>\n",
       "    </tr>\n",
       "    <tr>\n",
       "      <th>mean</th>\n",
       "      <td>4.810375e+07</td>\n",
       "      <td>169.719379</td>\n",
       "      <td>-27.254846</td>\n",
       "      <td>230.466784</td>\n",
       "      <td>-20.115526</td>\n",
       "      <td>0.269623</td>\n",
       "      <td>0.254436</td>\n",
       "      <td>0.357885</td>\n",
       "      <td>0.155695</td>\n",
       "      <td>41.263961</td>\n",
       "      <td>0.081953</td>\n",
       "      <td>60.895387</td>\n",
       "    </tr>\n",
       "    <tr>\n",
       "      <th>std</th>\n",
       "      <td>4.347364e+07</td>\n",
       "      <td>114.212761</td>\n",
       "      <td>20.248556</td>\n",
       "      <td>97.416392</td>\n",
       "      <td>40.390899</td>\n",
       "      <td>0.443792</td>\n",
       "      <td>0.330053</td>\n",
       "      <td>0.545552</td>\n",
       "      <td>0.300367</td>\n",
       "      <td>2.262711</td>\n",
       "      <td>0.150598</td>\n",
       "      <td>28.767984</td>\n",
       "    </tr>\n",
       "    <tr>\n",
       "      <th>min</th>\n",
       "      <td>6.150000e+02</td>\n",
       "      <td>0.175781</td>\n",
       "      <td>-64.760857</td>\n",
       "      <td>0.107681</td>\n",
       "      <td>-89.615573</td>\n",
       "      <td>0.000000</td>\n",
       "      <td>0.000000</td>\n",
       "      <td>0.000000</td>\n",
       "      <td>0.000000</td>\n",
       "      <td>31.996100</td>\n",
       "      <td>0.003000</td>\n",
       "      <td>6.000000</td>\n",
       "    </tr>\n",
       "    <tr>\n",
       "      <th>25%</th>\n",
       "      <td>3.180865e+05</td>\n",
       "      <td>62.402344</td>\n",
       "      <td>-44.597992</td>\n",
       "      <td>207.248509</td>\n",
       "      <td>-54.509752</td>\n",
       "      <td>0.000000</td>\n",
       "      <td>0.000000</td>\n",
       "      <td>0.000000</td>\n",
       "      <td>0.000000</td>\n",
       "      <td>39.845250</td>\n",
       "      <td>0.018000</td>\n",
       "      <td>42.000000</td>\n",
       "    </tr>\n",
       "    <tr>\n",
       "      <th>50%</th>\n",
       "      <td>4.131719e+07</td>\n",
       "      <td>150.996094</td>\n",
       "      <td>-27.279613</td>\n",
       "      <td>244.127187</td>\n",
       "      <td>-30.217582</td>\n",
       "      <td>0.000000</td>\n",
       "      <td>0.182750</td>\n",
       "      <td>0.210300</td>\n",
       "      <td>0.018000</td>\n",
       "      <td>41.167900</td>\n",
       "      <td>0.032000</td>\n",
       "      <td>65.000000</td>\n",
       "    </tr>\n",
       "    <tr>\n",
       "      <th>75%</th>\n",
       "      <td>8.665901e+07</td>\n",
       "      <td>282.875976</td>\n",
       "      <td>-8.838267</td>\n",
       "      <td>313.224277</td>\n",
       "      <td>16.913859</td>\n",
       "      <td>1.000000</td>\n",
       "      <td>0.350125</td>\n",
       "      <td>0.431200</td>\n",
       "      <td>0.122375</td>\n",
       "      <td>42.398550</td>\n",
       "      <td>0.076000</td>\n",
       "      <td>90.000000</td>\n",
       "    </tr>\n",
       "    <tr>\n",
       "      <th>max</th>\n",
       "      <td>1.307798e+08</td>\n",
       "      <td>359.824219</td>\n",
       "      <td>4.181528</td>\n",
       "      <td>359.943827</td>\n",
       "      <td>65.931317</td>\n",
       "      <td>1.000000</td>\n",
       "      <td>3.445100</td>\n",
       "      <td>2.999400</td>\n",
       "      <td>1.734800</td>\n",
       "      <td>47.025600</td>\n",
       "      <td>2.747000</td>\n",
       "      <td>95.000000</td>\n",
       "    </tr>\n",
       "  </tbody>\n",
       "</table>\n",
       "</div>"
      ],
      "text/plain": [
       "          object_id           ra         decl        gal_l        gal_b  \\\n",
       "count  7.848000e+03  7848.000000  7848.000000  7848.000000  7848.000000   \n",
       "mean   4.810375e+07   169.719379   -27.254846   230.466784   -20.115526   \n",
       "std    4.347364e+07   114.212761    20.248556    97.416392    40.390899   \n",
       "min    6.150000e+02     0.175781   -64.760857     0.107681   -89.615573   \n",
       "25%    3.180865e+05    62.402344   -44.597992   207.248509   -54.509752   \n",
       "50%    4.131719e+07   150.996094   -27.279613   244.127187   -30.217582   \n",
       "75%    8.665901e+07   282.875976    -8.838267   313.224277    16.913859   \n",
       "max    1.307798e+08   359.824219     4.181528   359.943827    65.931317   \n",
       "\n",
       "               ddf  hostgal_specz  hostgal_photoz  hostgal_photoz_err  \\\n",
       "count  7848.000000    7848.000000     7848.000000         7848.000000   \n",
       "mean      0.269623       0.254436        0.357885            0.155695   \n",
       "std       0.443792       0.330053        0.545552            0.300367   \n",
       "min       0.000000       0.000000        0.000000            0.000000   \n",
       "25%       0.000000       0.000000        0.000000            0.000000   \n",
       "50%       0.000000       0.182750        0.210300            0.018000   \n",
       "75%       1.000000       0.350125        0.431200            0.122375   \n",
       "max       1.000000       3.445100        2.999400            1.734800   \n",
       "\n",
       "           distmod        mwebv       target  \n",
       "count  5523.000000  7848.000000  7848.000000  \n",
       "mean     41.263961     0.081953    60.895387  \n",
       "std       2.262711     0.150598    28.767984  \n",
       "min      31.996100     0.003000     6.000000  \n",
       "25%      39.845250     0.018000    42.000000  \n",
       "50%      41.167900     0.032000    65.000000  \n",
       "75%      42.398550     0.076000    90.000000  \n",
       "max      47.025600     2.747000    95.000000  "
      ]
     },
     "execution_count": 16,
     "metadata": {},
     "output_type": "execute_result"
    }
   ],
   "source": [
    "training_set_metadata.describe()"
   ]
  },
  {
   "cell_type": "markdown",
   "metadata": {},
   "source": [
    "## 数据初探（深入探索）\n",
    "### 标签分布\n",
    "1. 一共有14类标签，而且标签分布很不平衡,属于90的有2313个,但是属于53的只有30个"
   ]
  },
  {
   "cell_type": "code",
   "execution_count": 17,
   "metadata": {},
   "outputs": [
    {
     "data": {
      "text/plain": [
       "object_id             7848\n",
       "ra                    3009\n",
       "decl                   403\n",
       "gal_l                 5504\n",
       "gal_b                 5504\n",
       "ddf                      2\n",
       "hostgal_specz         3750\n",
       "hostgal_photoz        4025\n",
       "hostgal_photoz_err    2456\n",
       "distmod               5300\n",
       "mwebv                  593\n",
       "target                  14\n",
       "dtype: int64"
      ]
     },
     "execution_count": 17,
     "metadata": {},
     "output_type": "execute_result"
    }
   ],
   "source": [
    "training_set_metadata.nunique()"
   ]
  },
  {
   "cell_type": "code",
   "execution_count": 18,
   "metadata": {},
   "outputs": [
    {
     "data": {
      "text/plain": [
       "90    2313\n",
       "42    1193\n",
       "65     981\n",
       "16     924\n",
       "15     495\n",
       "62     484\n",
       "88     370\n",
       "92     239\n",
       "67     208\n",
       "52     183\n",
       "95     175\n",
       "6      151\n",
       "64     102\n",
       "53      30\n",
       "Name: target, dtype: int64"
      ]
     },
     "execution_count": 18,
     "metadata": {},
     "output_type": "execute_result"
    }
   ],
   "source": [
    "target_dist = training_set_metadata['target'].value_counts()\n",
    "target_dist"
   ]
  },
  {
   "cell_type": "code",
   "execution_count": 19,
   "metadata": {},
   "outputs": [
    {
     "data": {
      "text/plain": [
       "<matplotlib.axes._subplots.AxesSubplot at 0x7f6c1a21a080>"
      ]
     },
     "execution_count": 19,
     "metadata": {},
     "output_type": "execute_result"
    },
    {
     "data": {
      "image/png": "[encoded data removed]",
      "text/plain": [
       "<matplotlib.figure.Figure at 0x7f6c1c27f5c0>"
      ]
     },
     "metadata": {},
     "output_type": "display_data"
    }
   ],
   "source": [
    "sns.barplot(x = target_dist.index.values, y =target_dist.values)"
   ]
  },
  {
   "cell_type": "markdown",
   "metadata": {},
   "source": [
    "### training_set_metadata数据集(主看特征与标签的关系)\n",
    "#### DDF与标签的关系\n",
    "- ddf为1的时候几乎不大可能是6,15或者64等,可以看出较为明显的分布差异\n"
   ]
  },
  {
   "cell_type": "code",
   "execution_count": 20,
   "metadata": {},
   "outputs": [
    {
     "data": {
      "text/plain": [
       "0    5732\n",
       "1    2116\n",
       "Name: ddf, dtype: int64"
      ]
     },
     "execution_count": 20,
     "metadata": {},
     "output_type": "execute_result"
    }
   ],
   "source": [
    "training_set_metadata['ddf'].value_counts()"
   ]
  },
  {
   "cell_type": "code",
   "execution_count": 21,
   "metadata": {
    "scrolled": true
   },
   "outputs": [],
   "source": [
    "tmp = training_set_metadata.groupby(['ddf','target'])['object_id'].agg({'count'}).reset_index()"
   ]
  },
  {
   "cell_type": "code",
   "execution_count": 22,
   "metadata": {},
   "outputs": [
    {
     "data": {
      "text/plain": [
       "<matplotlib.axes._subplots.AxesSubplot at 0x7f6c1a192ba8>"
      ]
     },
     "execution_count": 22,
     "metadata": {},
     "output_type": "execute_result"
    },
    {
     "data": {
      "image/png": "[encoded data removed]",
      "text/plain": [
       "<matplotlib.figure.Figure at 0x7f6c1a17da20>"
      ]
     },
     "metadata": {},
     "output_type": "display_data"
    }
   ],
   "source": [
    "sns.barplot(hue =tmp['ddf'],x=tmp['target'],y=tmp['count'] )"
   ]
  },
  {
   "cell_type": "markdown",
   "metadata": {},
   "source": [
    "\n",
    "#### ra与标签的关系\n",
    "- 一眼看上去看不太清楚有多大的关系......"
   ]
  },
  {
   "cell_type": "code",
   "execution_count": 23,
   "metadata": {},
   "outputs": [
    {
     "data": {
      "image/png": "[encoded data removed]",
      "text/plain": [
       "<matplotlib.figure.Figure at 0x7f6c1a0747b8>"
      ]
     },
     "metadata": {},
     "output_type": "display_data"
    }
   ],
   "source": [
    "import matplotlib.pyplot as plt\n",
    "sns.stripplot(x=\"target\", y=\"ra\", data=training_set_metadata); "
   ]
  },
  {
   "cell_type": "markdown",
   "metadata": {},
   "source": [
    "#### hostgal_photoz_err与标签的关系\n",
    "- 6,16,53,65,92这几个类的hostgal_photoz_err都普遍较小.\n",
    "- 90这个类的hostgal_photoz_err分布最广"
   ]
  },
  {
   "cell_type": "code",
   "execution_count": 24,
   "metadata": {},
   "outputs": [
    {
     "data": {
      "image/png": "[encoded data removed]",
      "text/plain": [
       "<matplotlib.figure.Figure at 0x7f6c1a07f5f8>"
      ]
     },
     "metadata": {},
     "output_type": "display_data"
    }
   ],
   "source": [
    "sns.stripplot(x=\"target\", y=\"hostgal_photoz_err\", data=training_set_metadata); "
   ]
  },
  {
   "cell_type": "markdown",
   "metadata": {},
   "source": [
    "#### mwebv与标签的关系 \n",
    "- 16,92这两个类的mwebv分布最广"
   ]
  },
  {
   "cell_type": "code",
   "execution_count": 25,
   "metadata": {},
   "outputs": [
    {
     "data": {
      "image/png": "[encoded data removed]",
      "text/plain": [
       "<matplotlib.figure.Figure at 0x7f6c1a074198>"
      ]
     },
     "metadata": {},
     "output_type": "display_data"
    }
   ],
   "source": [
    "sns.stripplot(x=\"target\", y=\"mwebv\", data=training_set_metadata); "
   ]
  },
  {
   "cell_type": "markdown",
   "metadata": {},
   "source": [
    "#### hostgal_specz & hostgal_photoz与标签的关系\n",
    "\n",
    "我主要看几个出现次数多的target对应的情况,感兴趣的可以全部加上。\n",
    "- 88的分布很广, hostgal_specz & hostgal_photoz同时大于2的时候基本全部都是88\n",
    "- 其他的可以自己细心观察"
   ]
  },
  {
   "cell_type": "code",
   "execution_count": 26,
   "metadata": {
    "scrolled": false
   },
   "outputs": [
    {
     "data": {
      "image/png": "[encoded data removed]",
      "text/plain": [
       "<matplotlib.figure.Figure at 0x7f6c19ecbe80>"
      ]
     },
     "metadata": {},
     "output_type": "display_data"
    }
   ],
   "source": [
    "fig, ax = plt.subplots(figsize = [15,10])\n",
    "colors = ['black','yellow','green','blue','grey','cyan','red','violet','brown']\n",
    "Label_Com = ['Component 1','Component 2','Component 3','Component 4']\n",
    "for index,target in enumerate([90,42,65,16,15,62,88,92,67]):\n",
    "    hostgal_specz  = training_set_metadata.loc[training_set_metadata['target'] == target]['hostgal_specz']\n",
    "    hostgal_photoz = training_set_metadata.loc[training_set_metadata['target'] == target]['hostgal_photoz'] \n",
    "    ax.scatter( hostgal_specz, hostgal_photoz, c=colors[index], cmap='brg', s=40, alpha=0.5, marker='8', linewidth=1)  # ,cMAP "
   ]
  },
  {
   "cell_type": "markdown",
   "metadata": {},
   "source": [
    "#### gal_l & gal_b与标签的关系\n",
    "\n",
    "感觉较为混乱,没有非常明显的特征，gal_l & gal_b的特征一眼看上去没发现非常特别的地方。。。。。。"
   ]
  },
  {
   "cell_type": "code",
   "execution_count": 27,
   "metadata": {},
   "outputs": [
    {
     "data": {
      "image/png": "[encoded data removed]",
      "text/plain": [
       "<matplotlib.figure.Figure at 0x7f6c19ea7dd8>"
      ]
     },
     "metadata": {},
     "output_type": "display_data"
    }
   ],
   "source": [
    "fig, ax = plt.subplots(figsize = [15,10])\n",
    "colors = ['black','yellow','green','blue','grey','cyan','red','violet','brown'] \n",
    "for index,target in enumerate([90,42,65,16,15,62,88,92,67]):\n",
    "    gal_l = training_set_metadata.loc[training_set_metadata['target'] == target]['gal_l']\n",
    "    gal_b = training_set_metadata.loc[training_set_metadata['target'] == target]['gal_b'] \n",
    "    ax.scatter( gal_l, gal_b, c=colors[index], cmap='brg', s=40, alpha=0.5, marker='8', linewidth=1)  # ,cMAP "
   ]
  },
  {
   "cell_type": "markdown",
   "metadata": {},
   "source": [
    "### training_set数据集(主看object_id与特征之间的关系)\n",
    "- unix_time与mjd时间的转换可以通过wiki直接找到,不过后面还是使用了mjd."
   ]
  },
  {
   "cell_type": "code",
   "execution_count": 28,
   "metadata": {},
   "outputs": [
    {
     "data": {
      "text/html": [
       "<div>\n",
       "<style scoped>\n",
       "    .dataframe tbody tr th:only-of-type {\n",
       "        vertical-align: middle;\n",
       "    }\n",
       "\n",
       "    .dataframe tbody tr th {\n",
       "        vertical-align: top;\n",
       "    }\n",
       "\n",
       "    .dataframe thead th {\n",
       "        text-align: right;\n",
       "    }\n",
       "</style>\n",
       "<table border=\"1\" class=\"dataframe\">\n",
       "  <thead>\n",
       "    <tr style=\"text-align: right;\">\n",
       "      <th></th>\n",
       "      <th>object_id</th>\n",
       "      <th>mjd</th>\n",
       "      <th>passband</th>\n",
       "      <th>flux</th>\n",
       "      <th>flux_err</th>\n",
       "      <th>detected</th>\n",
       "      <th>unix_time</th>\n",
       "    </tr>\n",
       "  </thead>\n",
       "  <tbody>\n",
       "    <tr>\n",
       "      <th>0</th>\n",
       "      <td>615</td>\n",
       "      <td>59750.4229</td>\n",
       "      <td>2</td>\n",
       "      <td>-544.810303</td>\n",
       "      <td>3.622952</td>\n",
       "      <td>1</td>\n",
       "      <td>1.655720e+09</td>\n",
       "    </tr>\n",
       "    <tr>\n",
       "      <th>1</th>\n",
       "      <td>615</td>\n",
       "      <td>59750.4306</td>\n",
       "      <td>1</td>\n",
       "      <td>-816.434326</td>\n",
       "      <td>5.553370</td>\n",
       "      <td>1</td>\n",
       "      <td>1.655720e+09</td>\n",
       "    </tr>\n",
       "    <tr>\n",
       "      <th>2</th>\n",
       "      <td>615</td>\n",
       "      <td>59750.4383</td>\n",
       "      <td>3</td>\n",
       "      <td>-471.385529</td>\n",
       "      <td>3.801213</td>\n",
       "      <td>1</td>\n",
       "      <td>1.655721e+09</td>\n",
       "    </tr>\n",
       "    <tr>\n",
       "      <th>3</th>\n",
       "      <td>615</td>\n",
       "      <td>59750.4450</td>\n",
       "      <td>4</td>\n",
       "      <td>-388.984985</td>\n",
       "      <td>11.395031</td>\n",
       "      <td>1</td>\n",
       "      <td>1.655722e+09</td>\n",
       "    </tr>\n",
       "    <tr>\n",
       "      <th>4</th>\n",
       "      <td>615</td>\n",
       "      <td>59752.4070</td>\n",
       "      <td>2</td>\n",
       "      <td>-681.858887</td>\n",
       "      <td>4.041204</td>\n",
       "      <td>1</td>\n",
       "      <td>1.655891e+09</td>\n",
       "    </tr>\n",
       "  </tbody>\n",
       "</table>\n",
       "</div>"
      ],
      "text/plain": [
       "   object_id         mjd  passband        flux   flux_err  detected  \\\n",
       "0        615  59750.4229         2 -544.810303   3.622952         1   \n",
       "1        615  59750.4306         1 -816.434326   5.553370         1   \n",
       "2        615  59750.4383         3 -471.385529   3.801213         1   \n",
       "3        615  59750.4450         4 -388.984985  11.395031         1   \n",
       "4        615  59752.4070         2 -681.858887   4.041204         1   \n",
       "\n",
       "      unix_time  \n",
       "0  1.655720e+09  \n",
       "1  1.655720e+09  \n",
       "2  1.655721e+09  \n",
       "3  1.655722e+09  \n",
       "4  1.655891e+09  "
      ]
     },
     "execution_count": 28,
     "metadata": {},
     "output_type": "execute_result"
    }
   ],
   "source": [
    "training_set['unix_time'] = training_set['mjd'].apply(lambda x:(x-40587)*86400)\n",
    "training_set.head()"
   ]
  },
  {
   "cell_type": "markdown",
   "metadata": {},
   "source": [
    "#### object_id \n",
    "- object_id最多对应352个不同的记录，最少对应47个不同的记录\n"
   ]
  },
  {
   "cell_type": "code",
   "execution_count": 29,
   "metadata": {},
   "outputs": [
    {
     "data": {
      "text/plain": [
       "104397    352\n",
       "7409      352\n",
       "248547    352\n",
       "238409    352\n",
       "Name: object_id, dtype: int64"
      ]
     },
     "execution_count": 29,
     "metadata": {},
     "output_type": "execute_result"
    }
   ],
   "source": [
    "training_set['object_id'].value_counts().head(4)"
   ]
  },
  {
   "cell_type": "code",
   "execution_count": 30,
   "metadata": {},
   "outputs": [
    {
     "data": {
      "text/plain": [
       "68643457     52\n",
       "119353712    52\n",
       "86237249     50\n",
       "49575267     47\n",
       "Name: object_id, dtype: int64"
      ]
     },
     "execution_count": 30,
     "metadata": {},
     "output_type": "execute_result"
    }
   ],
   "source": [
    "training_set['object_id'].value_counts().tail(4)"
   ]
  },
  {
   "cell_type": "markdown",
   "metadata": {},
   "source": [
    "#### object_id&passband的关系\n",
    "- 每个object_id对应6个passband"
   ]
  },
  {
   "cell_type": "code",
   "execution_count": 31,
   "metadata": {},
   "outputs": [
    {
     "data": {
      "text/plain": [
       "object_id\n",
       "615     6\n",
       "713     6\n",
       "730     6\n",
       "745     6\n",
       "1124    6\n",
       "1227    6\n",
       "1598    6\n",
       "1632    6\n",
       "1920    6\n",
       "1926    6\n",
       "Name: passband, dtype: int64"
      ]
     },
     "execution_count": 31,
     "metadata": {},
     "output_type": "execute_result"
    }
   ],
   "source": [
    "training_set.groupby('object_id')['passband'].nunique().head(10)"
   ]
  },
  {
   "cell_type": "code",
   "execution_count": 32,
   "metadata": {},
   "outputs": [
    {
     "data": {
      "text/plain": [
       "object_id\n",
       "130684460    6\n",
       "130695262    6\n",
       "130698059    6\n",
       "130716752    6\n",
       "130727624    6\n",
       "130739978    6\n",
       "130755807    6\n",
       "130762946    6\n",
       "130772921    6\n",
       "130779836    6\n",
       "Name: passband, dtype: int64"
      ]
     },
     "execution_count": 32,
     "metadata": {},
     "output_type": "execute_result"
    }
   ],
   "source": [
    "training_set.groupby('object_id')['passband'].nunique().tail(10)"
   ]
  },
  {
   "cell_type": "markdown",
   "metadata": {},
   "source": [
    "#### object_id&mjd的关系\n",
    "- object_id&mjd是按照顺序排列的"
   ]
  },
  {
   "cell_type": "code",
   "execution_count": 33,
   "metadata": {
    "scrolled": true
   },
   "outputs": [
    {
     "data": {
      "text/plain": [
       "0"
      ]
     },
     "execution_count": 33,
     "metadata": {},
     "output_type": "execute_result"
    }
   ],
   "source": [
    "np.sum(training_set['passband'] - training_set.sort_values(['object_id','mjd'])['passband'].values)"
   ]
  },
  {
   "cell_type": "markdown",
   "metadata": {},
   "source": [
    "#### object_id&detected的关系\n",
    "- 一个object_id对应2个不同的detected"
   ]
  },
  {
   "cell_type": "code",
   "execution_count": 34,
   "metadata": {},
   "outputs": [
    {
     "data": {
      "text/plain": [
       "object_id\n",
       "615    2\n",
       "713    2\n",
       "730    2\n",
       "Name: detected, dtype: int64"
      ]
     },
     "execution_count": 34,
     "metadata": {},
     "output_type": "execute_result"
    }
   ],
   "source": [
    "training_set.groupby('object_id')['detected'].nunique().head(3)"
   ]
  },
  {
   "cell_type": "code",
   "execution_count": 35,
   "metadata": {},
   "outputs": [
    {
     "data": {
      "text/plain": [
       "object_id\n",
       "130762946    2\n",
       "130772921    2\n",
       "130779836    2\n",
       "Name: detected, dtype: int64"
      ]
     },
     "execution_count": 35,
     "metadata": {},
     "output_type": "execute_result"
    }
   ],
   "source": [
    "training_set.groupby('object_id')['detected'].nunique().tail(3)"
   ]
  },
  {
   "cell_type": "markdown",
   "metadata": {},
   "source": [
    "# 特征工程&Baseline\n",
    "## 准备\n",
    "### 线上线下label转换\n",
    "\n",
    "- LGB等模型多分类问题中要求标签从0开始,所以这边需要构建两个字典,一个是将数据集中的标签转换为LGB中标签的字典,另外一个是将LGB中的标签转化为数据集中的标签。\n"
   ]
  },
  {
   "cell_type": "code",
   "execution_count": 36,
   "metadata": {},
   "outputs": [],
   "source": [
    "def get_label_dict(label):\n",
    "    underline_2_lb = dict()\n",
    "    lb_2_underline = dict()\n",
    "    unique_labels = np.unique(label)\n",
    "    for i,label in enumerate(unique_labels):\n",
    "        underline_2_lb[label] = i\n",
    "        lb_2_underline[i] = label\n",
    "    return underline_2_lb,lb_2_underline"
   ]
  },
  {
   "cell_type": "code",
   "execution_count": 37,
   "metadata": {},
   "outputs": [],
   "source": [
    "underline_2_lb,lb_2_underline = get_label_dict(training_set_metadata['target'])"
   ]
  },
  {
   "cell_type": "code",
   "execution_count": 38,
   "metadata": {},
   "outputs": [
    {
     "data": {
      "text/plain": [
       "{6: 0,\n",
       " 15: 1,\n",
       " 16: 2,\n",
       " 42: 3,\n",
       " 52: 4,\n",
       " 53: 5,\n",
       " 62: 6,\n",
       " 64: 7,\n",
       " 65: 8,\n",
       " 67: 9,\n",
       " 88: 10,\n",
       " 90: 11,\n",
       " 92: 12,\n",
       " 95: 13}"
      ]
     },
     "execution_count": 38,
     "metadata": {},
     "output_type": "execute_result"
    }
   ],
   "source": [
    "underline_2_lb"
   ]
  },
  {
   "cell_type": "markdown",
   "metadata": {},
   "source": [
    "### lgb的评估指标设计 \n",
    "\n",
    "\n",
    "- <font color=red>这边必须提一点,不管什么比赛必须要设计出和比赛要求一样的指标,这样才能评估出线上线下的差异,不然基本就是在摸奖。</font>\n",
    "\n",
    "下面的代码来源于olivier,链接和作者都直接标记在下面的代码中了。\n"
   ]
  },
  {
   "cell_type": "code",
   "execution_count": 104,
   "metadata": {},
   "outputs": [],
   "source": [
    "def multi_weighted_logloss(y_true, y_preds, classes, class_weights): \n",
    "    \"\"\"\n",
    "    refactor from\n",
    "    @author olivier https://www.kaggle.com/ogrellier\n",
    "    multi logloss for PLAsTiCC challenge\n",
    "    \"\"\"\n",
    "    y_p = y_preds.reshape(y_true.shape[0], len(classes), order='F')\n",
    "    # Trasform y_true in dummies\n",
    "    y_ohe = pd.get_dummies(y_true)\n",
    "    # Normalize rows and limit y_preds to 1e-15, 1-1e-15\n",
    "    y_p = np.clip(a=y_p, a_min=1e-15, a_max=1 - 1e-15)\n",
    "    # Transform to log\n",
    "    y_p_log = np.log(y_p)\n",
    "    # Get the log for ones, .values is used to drop the index of DataFrames\n",
    "    # Exclude class 99 for now, since there is no class99 in the training set\n",
    "    # we gave a special process for that class\n",
    "    y_log_ones = np.sum(y_ohe.values * y_p_log, axis=0)\n",
    "    # Get the number of positives for each class\n",
    "    nb_pos = y_ohe.sum(axis=0).values.astype(float)\n",
    "    # Weight average and divide by the number of positives\n",
    "    class_arr = np.array([class_weights[k] for k in sorted(class_weights.keys())])\n",
    "    y_w = y_log_ones * class_arr / nb_pos\n",
    "\n",
    "    loss = - np.sum(y_w) / np.sum(class_arr)\n",
    "    return loss\n",
    " \n",
    "def _get_multi_weighted_logloss(y_pred,y_true):\n",
    "    classes = [0, 1, 2, 3, 4, 5, 6, 7, 8, 9, 10, 11, 12, 13] \n",
    "    class_weights = {0: 1, 1: 2, 2: 1, 3: 1, 4: 1, 5: 1, 6: 1, 7: 2, 8: 1, 9: 1, 10: 1, 11: 1, 12: 1, 13: 1}\n",
    "         \n",
    "    loss = multi_weighted_logloss(y_true, y_pred, \n",
    "                                  classes, class_weights)\n",
    "    return loss\n",
    "\n",
    "####### 用于lgb.train ##########\n",
    "def lgb_multi_weighted_logloss(y_pred, y_true):\n",
    "    classes = [0, 1, 2, 3, 4, 5, 6, 7, 8, 9, 10, 11, 12, 13]\n",
    "#     class_weights = {6: 1, 15: 2, 16: 1, 42: 1, 52: 1, 53: 1, 62: 1, 64: 2, 65: 1, 67: 1, 88: 1, 90: 1, 92: 1, 95: 1}\n",
    "    class_weights = {0: 1, 1: 2, 2: 1, 3: 1, 4: 1, 5: 1, 6: 1, 7: 2, 8: 1, 9: 1, 10: 1, 11: 1, 12: 1, 13: 1}\n",
    "         \n",
    "    loss = multi_weighted_logloss(y_true.get_label(), y_pred, \n",
    "                                  classes, class_weights)\n",
    "    return 'wloss', loss, False\n",
    "\n",
    "######## 用于lgbClassifier.fit ############\n",
    "\n",
    "\n",
    "def lgbclassifier_multi_weighted_logloss(y_true, y_preds):\n",
    "    \"\"\"\n",
    "    @author olivier https://www.kaggle.com/ogrellier\n",
    "    multi logloss for PLAsTiCC challenge\n",
    "    \"\"\"\n",
    "    # class_weights taken from Giba's topic : https://www.kaggle.com/titericz\n",
    "    # https://www.kaggle.com/c/PLAsTiCC-2018/discussion/67194\n",
    "    # with Kyle Boone's post https://www.kaggle.com/kyleboone\n",
    "    classes = [6, 15, 16, 42, 52, 53, 62, 64, 65, 67, 88, 90, 92, 95]\n",
    "    class_weight = {6: 1, 15: 2, 16: 1, 42: 1, 52: 1, 53: 1, 62: 1, 64: 2, 65: 1, 67: 1, 88: 1, 90: 1, 92: 1, 95: 1}\n",
    "    if len(np.unique(y_true)) > 14:\n",
    "        classes.append(99)\n",
    "        class_weight[99] = 2\n",
    "    y_p = y_preds.reshape(y_true.shape[0], len(classes), order='F')\n",
    "\n",
    "    # Trasform y_true in dummies\n",
    "    y_ohe = pd.get_dummies(y_true)\n",
    "    # Normalize rows and limit y_preds to 1e-15, 1-1e-15\n",
    "    y_p = np.clip(a=y_p, a_min=1e-15, a_max=1 - 1e-15)\n",
    "    # Transform to log\n",
    "    y_p_log = np.log(y_p)\n",
    "    # Get the log for ones, .values is used to drop the index of DataFrames\n",
    "    # Exclude class 99 for now, since there is no class99 in the training set\n",
    "    # we gave a special process for that class\n",
    "    y_log_ones = np.sum(y_ohe.values * y_p_log, axis=0)\n",
    "    # Get the number of positives for each class\n",
    "    nb_pos = y_ohe.sum(axis=0).values.astype(float)\n",
    "    # Weight average and divide by the number of positives\n",
    "    class_arr = np.array([class_weight[k] for k in sorted(class_weight.keys())])\n",
    "    y_w = y_log_ones * class_arr / nb_pos\n",
    "\n",
    "    loss = - np.sum(y_w) / np.sum(class_arr)\n",
    "    return 'wloss', loss, False \n",
    " "
   ]
  },
  {
   "cell_type": "markdown",
   "metadata": {},
   "source": [
    "## 特征工程： 基于training_set的特征工程\n",
    "\n",
    "### 数据集扩充\n",
    "- 下面的这些扩充都来源于kernel,具体的构建原因需要有专业知识的帮助,有兴趣的可以去查看对应的kernel"
   ]
  },
  {
   "cell_type": "code",
   "execution_count": 40,
   "metadata": {},
   "outputs": [
    {
     "data": {
      "text/html": [
       "<div>\n",
       "<style scoped>\n",
       "    .dataframe tbody tr th:only-of-type {\n",
       "        vertical-align: middle;\n",
       "    }\n",
       "\n",
       "    .dataframe tbody tr th {\n",
       "        vertical-align: top;\n",
       "    }\n",
       "\n",
       "    .dataframe thead th {\n",
       "        text-align: right;\n",
       "    }\n",
       "</style>\n",
       "<table border=\"1\" class=\"dataframe\">\n",
       "  <thead>\n",
       "    <tr style=\"text-align: right;\">\n",
       "      <th></th>\n",
       "      <th>object_id</th>\n",
       "      <th>mjd</th>\n",
       "      <th>passband</th>\n",
       "      <th>flux</th>\n",
       "      <th>flux_err</th>\n",
       "      <th>detected</th>\n",
       "      <th>unix_time</th>\n",
       "      <th>flux_div_flux_err</th>\n",
       "      <th>flux_ratio_sq</th>\n",
       "      <th>flux_by_flux_ratio_sq</th>\n",
       "    </tr>\n",
       "  </thead>\n",
       "  <tbody>\n",
       "    <tr>\n",
       "      <th>0</th>\n",
       "      <td>615</td>\n",
       "      <td>59750.4229</td>\n",
       "      <td>2</td>\n",
       "      <td>-544.810303</td>\n",
       "      <td>3.622952</td>\n",
       "      <td>1</td>\n",
       "      <td>1.655720e+09</td>\n",
       "      <td>-150.377455</td>\n",
       "      <td>22613.379109</td>\n",
       "      <td>-1.232000e+07</td>\n",
       "    </tr>\n",
       "    <tr>\n",
       "      <th>1</th>\n",
       "      <td>615</td>\n",
       "      <td>59750.4306</td>\n",
       "      <td>1</td>\n",
       "      <td>-816.434326</td>\n",
       "      <td>5.553370</td>\n",
       "      <td>1</td>\n",
       "      <td>1.655720e+09</td>\n",
       "      <td>-147.016015</td>\n",
       "      <td>21613.708602</td>\n",
       "      <td>-1.764617e+07</td>\n",
       "    </tr>\n",
       "    <tr>\n",
       "      <th>2</th>\n",
       "      <td>615</td>\n",
       "      <td>59750.4383</td>\n",
       "      <td>3</td>\n",
       "      <td>-471.385529</td>\n",
       "      <td>3.801213</td>\n",
       "      <td>1</td>\n",
       "      <td>1.655721e+09</td>\n",
       "      <td>-124.009238</td>\n",
       "      <td>15378.291200</td>\n",
       "      <td>-7.249104e+06</td>\n",
       "    </tr>\n",
       "    <tr>\n",
       "      <th>3</th>\n",
       "      <td>615</td>\n",
       "      <td>59750.4450</td>\n",
       "      <td>4</td>\n",
       "      <td>-388.984985</td>\n",
       "      <td>11.395031</td>\n",
       "      <td>1</td>\n",
       "      <td>1.655722e+09</td>\n",
       "      <td>-34.136369</td>\n",
       "      <td>1165.291701</td>\n",
       "      <td>-4.532810e+05</td>\n",
       "    </tr>\n",
       "    <tr>\n",
       "      <th>4</th>\n",
       "      <td>615</td>\n",
       "      <td>59752.4070</td>\n",
       "      <td>2</td>\n",
       "      <td>-681.858887</td>\n",
       "      <td>4.041204</td>\n",
       "      <td>1</td>\n",
       "      <td>1.655891e+09</td>\n",
       "      <td>-168.726668</td>\n",
       "      <td>28468.688609</td>\n",
       "      <td>-1.941163e+07</td>\n",
       "    </tr>\n",
       "  </tbody>\n",
       "</table>\n",
       "</div>"
      ],
      "text/plain": [
       "   object_id         mjd  passband        flux   flux_err  detected  \\\n",
       "0        615  59750.4229         2 -544.810303   3.622952         1   \n",
       "1        615  59750.4306         1 -816.434326   5.553370         1   \n",
       "2        615  59750.4383         3 -471.385529   3.801213         1   \n",
       "3        615  59750.4450         4 -388.984985  11.395031         1   \n",
       "4        615  59752.4070         2 -681.858887   4.041204         1   \n",
       "\n",
       "      unix_time  flux_div_flux_err  flux_ratio_sq  flux_by_flux_ratio_sq  \n",
       "0  1.655720e+09        -150.377455   22613.379109          -1.232000e+07  \n",
       "1  1.655720e+09        -147.016015   21613.708602          -1.764617e+07  \n",
       "2  1.655721e+09        -124.009238   15378.291200          -7.249104e+06  \n",
       "3  1.655722e+09         -34.136369    1165.291701          -4.532810e+05  \n",
       "4  1.655891e+09        -168.726668   28468.688609          -1.941163e+07  "
      ]
     },
     "execution_count": 40,
     "metadata": {},
     "output_type": "execute_result"
    }
   ],
   "source": [
    "training_set['flux_div_flux_err'] =training_set['flux'] / training_set['flux_err']\n",
    "#### 来自于kernel #########\n",
    "training_set['flux_ratio_sq'] = np.power(training_set['flux'].values / training_set['flux_err'].values, 2.0)\n",
    "training_set['flux_by_flux_ratio_sq'] = training_set['flux'].values * training_set['flux_ratio_sq']\n",
    "\n",
    "training_set.head()"
   ]
  },
  {
   "cell_type": "markdown",
   "metadata": {},
   "source": [
    "### 特征工程\n",
    "#### object_id:count"
   ]
  },
  {
   "cell_type": "code",
   "execution_count": 43,
   "metadata": {},
   "outputs": [],
   "source": [
    "train_features = pd.DataFrame()\n",
    "train_features['object_id'] = training_set['object_id'].unique()\n",
    "train_features = train_features.sort_values('object_id')"
   ]
  },
  {
   "cell_type": "code",
   "execution_count": 44,
   "metadata": {},
   "outputs": [],
   "source": [
    "object_id_cnt = training_set['object_id'].value_counts().to_dict()\n",
    "train_features['object_id_cnt'] = train_features['object_id'].apply(lambda x:object_id_cnt[x]) "
   ]
  },
  {
   "cell_type": "code",
   "execution_count": 45,
   "metadata": {},
   "outputs": [
    {
     "data": {
      "text/html": [
       "<div>\n",
       "<style scoped>\n",
       "    .dataframe tbody tr th:only-of-type {\n",
       "        vertical-align: middle;\n",
       "    }\n",
       "\n",
       "    .dataframe tbody tr th {\n",
       "        vertical-align: top;\n",
       "    }\n",
       "\n",
       "    .dataframe thead th {\n",
       "        text-align: right;\n",
       "    }\n",
       "</style>\n",
       "<table border=\"1\" class=\"dataframe\">\n",
       "  <thead>\n",
       "    <tr style=\"text-align: right;\">\n",
       "      <th></th>\n",
       "      <th>object_id</th>\n",
       "      <th>object_id_cnt</th>\n",
       "    </tr>\n",
       "  </thead>\n",
       "  <tbody>\n",
       "    <tr>\n",
       "      <th>0</th>\n",
       "      <td>615</td>\n",
       "      <td>352</td>\n",
       "    </tr>\n",
       "    <tr>\n",
       "      <th>1</th>\n",
       "      <td>713</td>\n",
       "      <td>350</td>\n",
       "    </tr>\n",
       "    <tr>\n",
       "      <th>2</th>\n",
       "      <td>730</td>\n",
       "      <td>330</td>\n",
       "    </tr>\n",
       "    <tr>\n",
       "      <th>3</th>\n",
       "      <td>745</td>\n",
       "      <td>351</td>\n",
       "    </tr>\n",
       "    <tr>\n",
       "      <th>4</th>\n",
       "      <td>1124</td>\n",
       "      <td>352</td>\n",
       "    </tr>\n",
       "  </tbody>\n",
       "</table>\n",
       "</div>"
      ],
      "text/plain": [
       "   object_id  object_id_cnt\n",
       "0        615            352\n",
       "1        713            350\n",
       "2        730            330\n",
       "3        745            351\n",
       "4       1124            352"
      ]
     },
     "execution_count": 45,
     "metadata": {},
     "output_type": "execute_result"
    }
   ],
   "source": [
    "train_features.head()"
   ]
  },
  {
   "cell_type": "markdown",
   "metadata": {},
   "source": [
    "#### object_id(passband) :  mode\n",
    "- 用来判断object测量时出现最多的passband"
   ]
  },
  {
   "cell_type": "code",
   "execution_count": 46,
   "metadata": {
    "scrolled": true
   },
   "outputs": [],
   "source": [
    "def mode_N(x,i):\n",
    "    m =x.value_counts().index\n",
    "    if len(m) > i:\n",
    "        return m[i]\n",
    "    return -1\n",
    "train_features['passband_mode'] = training_set.groupby('object_id')['passband'].apply(lambda x:mode_N(x,0)).sort_index().values "
   ]
  },
  {
   "cell_type": "markdown",
   "metadata": {},
   "source": [
    "#### object_id(flux,flux_err,flux_div_flux_err) : mean,std,sum,max,min,range(max-min),quantile"
   ]
  },
  {
   "cell_type": "code",
   "execution_count": 47,
   "metadata": {
    "scrolled": true
   },
   "outputs": [],
   "source": [
    "for col in ['flux','flux_err','flux_div_flux_err','flux_ratio_sq','flux_by_flux_ratio_sq']: \n",
    "    \n",
    "    train_features[col + '_sum']   = training_set.groupby('object_id')[col].sum().sort_index().values \n",
    "    train_features[col + '_mean']  = training_set.groupby('object_id')[col].mean().sort_index().values \n",
    "    train_features[col + '_std']   = training_set.groupby('object_id')[col].std().sort_index().values \n",
    "    \n",
    "    train_features[col + '_quantile']   = training_set.groupby('object_id')[col].quantile().sort_index().values \n",
    "   \n",
    "    train_features[col + '_max']   = training_set.groupby('object_id')[col].max().sort_index().values \n",
    "    train_features[col + '_min']   = training_set.groupby('object_id')[col].min().sort_index().values \n",
    "    train_features[col + '_range'] = train_features[col + '_max'] - train_features[col + '_min']\n",
    "    \n",
    "    train_features[col + '_skew']  = training_set.groupby('object_id')[col].skew().sort_index().values \n",
    "    train_features[col + '_kurt']  = training_set.groupby('object_id')[col].apply(pd.DataFrame.kurt).sort_index().values  "
   ]
  },
  {
   "cell_type": "markdown",
   "metadata": {},
   "source": [
    "#### object_id(detected) : sum,mean"
   ]
  },
  {
   "cell_type": "code",
   "execution_count": 48,
   "metadata": {},
   "outputs": [],
   "source": [
    "for col in (['detected']):\n",
    "    train_features[col + '_sum']   = training_set.groupby('object_id')[col].sum().sort_index().values \n",
    "    train_features[col + '_mean']   = training_set.groupby('object_id')[col].mean().sort_index().values  "
   ]
  },
  {
   "cell_type": "markdown",
   "metadata": {},
   "source": [
    "#### object_id(mjd) : max,min,mean,range"
   ]
  },
  {
   "cell_type": "code",
   "execution_count": 49,
   "metadata": {},
   "outputs": [],
   "source": [
    "for col in ['mjd']: \n",
    "    train_features[col + '_mean']  = training_set.groupby('object_id')[col].mean().sort_index().values  \n",
    "    train_features[col + '_max']   = training_set.groupby('object_id')[col].max().sort_index().values \n",
    "    train_features[col + '_min']   = training_set.groupby('object_id')[col].min().sort_index().values \n",
    "    train_features[col + '_range'] = train_features[col + '_max'] - train_features[col + '_min'] "
   ]
  },
  {
   "cell_type": "markdown",
   "metadata": {},
   "source": [
    "- 每个object_id时间的差异较大,min,max不如range具有代表性,我们将其删除"
   ]
  },
  {
   "cell_type": "code",
   "execution_count": 50,
   "metadata": {},
   "outputs": [],
   "source": [
    "del train_features[col + '_max']\n",
    "del train_features[col + '_min']"
   ]
  },
  {
   "cell_type": "markdown",
   "metadata": {},
   "source": [
    "#### 加入training_set_metadata的部分特征 "
   ]
  },
  {
   "cell_type": "code",
   "execution_count": 56,
   "metadata": {},
   "outputs": [],
   "source": [
    "training_val_data = train_features.merge(training_set_metadata, on='object_id',how= 'left')\n",
    "col_fea = [col for col in training_val_data.columns if col!='object_id' and col!='target']\n",
    "training_val_data['target'] = training_val_data['target'].apply(lambda x:underline_2_lb[x])"
   ]
  },
  {
   "cell_type": "markdown",
   "metadata": {},
   "source": [
    "### 模型验证\n",
    "#### 简单模型的5折验证（不加权重）:1.18653 "
   ]
  },
  {
   "cell_type": "code",
   "execution_count": 70,
   "metadata": {
    "scrolled": true
   },
   "outputs": [
    {
     "name": "stdout",
     "output_type": "stream",
     "text": [
      "Training until validation scores don't improve for 10 rounds.\n",
      "[50]\ttraining's multi_logloss: 0.968913\ttraining's wloss: 1.27093\tvalid_1's multi_logloss: 1.03361\tvalid_1's wloss: 1.41986\n",
      "[100]\ttraining's multi_logloss: 0.756883\ttraining's wloss: 0.995765\tvalid_1's multi_logloss: 0.86511\tvalid_1's wloss: 1.23519\n",
      "[150]\ttraining's multi_logloss: 0.672436\ttraining's wloss: 0.863158\tvalid_1's multi_logloss: 0.822203\tvalid_1's wloss: 1.17966\n",
      "[200]\ttraining's multi_logloss: 0.617935\ttraining's wloss: 0.770677\tvalid_1's multi_logloss: 0.807274\tvalid_1's wloss: 1.15675\n",
      "[250]\ttraining's multi_logloss: 0.57809\ttraining's wloss: 0.703724\tvalid_1's multi_logloss: 0.799451\tvalid_1's wloss: 1.14304\n",
      "Early stopping, best iteration is:\n",
      "[280]\ttraining's multi_logloss: 0.557595\ttraining's wloss: 0.671723\tvalid_1's multi_logloss: 0.796795\tvalid_1's wloss: 1.13861\n",
      "1.1386060935768054\n",
      "Training until validation scores don't improve for 10 rounds.\n",
      "[50]\ttraining's multi_logloss: 0.975648\ttraining's wloss: 1.27435\tvalid_1's multi_logloss: 1.0195\tvalid_1's wloss: 1.41051\n",
      "[100]\ttraining's multi_logloss: 0.76646\ttraining's wloss: 1.0037\tvalid_1's multi_logloss: 0.842538\tvalid_1's wloss: 1.23392\n",
      "Did not meet early stopping. Best iteration is:\n",
      "[100]\ttraining's multi_logloss: 0.76646\ttraining's wloss: 1.0037\tvalid_1's multi_logloss: 0.842538\tvalid_1's wloss: 1.23392\n",
      "1.2339210445205286\n",
      "Training until validation scores don't improve for 10 rounds.\n",
      "[50]\ttraining's multi_logloss: 0.967845\ttraining's wloss: 1.27375\tvalid_1's multi_logloss: 1.03735\tvalid_1's wloss: 1.42509\n",
      "[100]\ttraining's multi_logloss: 0.757647\ttraining's wloss: 1.00591\tvalid_1's multi_logloss: 0.860696\tvalid_1's wloss: 1.21574\n",
      "Did not meet early stopping. Best iteration is:\n",
      "[100]\ttraining's multi_logloss: 0.757647\ttraining's wloss: 1.00591\tvalid_1's multi_logloss: 0.860696\tvalid_1's wloss: 1.21574\n",
      "1.2157371157523726\n",
      "Training until validation scores don't improve for 10 rounds.\n",
      "[50]\ttraining's multi_logloss: 0.968362\ttraining's wloss: 1.27023\tvalid_1's multi_logloss: 1.02756\tvalid_1's wloss: 1.36355\n",
      "[100]\ttraining's multi_logloss: 0.757453\ttraining's wloss: 0.992689\tvalid_1's multi_logloss: 0.851272\tvalid_1's wloss: 1.16359\n",
      "Did not meet early stopping. Best iteration is:\n",
      "[100]\ttraining's multi_logloss: 0.757453\ttraining's wloss: 0.992689\tvalid_1's multi_logloss: 0.851272\tvalid_1's wloss: 1.16359\n",
      "1.1635912084924769\n",
      "Training until validation scores don't improve for 10 rounds.\n",
      "[50]\ttraining's multi_logloss: 0.976993\ttraining's wloss: 1.27291\tvalid_1's multi_logloss: 1.0159\tvalid_1's wloss: 1.37058\n",
      "[100]\ttraining's multi_logloss: 0.767013\ttraining's wloss: 1.00568\tvalid_1's multi_logloss: 0.839679\tvalid_1's wloss: 1.18057\n",
      "Did not meet early stopping. Best iteration is:\n",
      "[100]\ttraining's multi_logloss: 0.767013\ttraining's wloss: 1.00568\tvalid_1's multi_logloss: 0.839679\tvalid_1's wloss: 1.18057\n",
      "1.1805749243910295\n",
      "MULTI WEIGHTED LOG LOSS : 1.18653 \n"
     ]
    }
   ],
   "source": [
    "from sklearn.model_selection import StratifiedKFold\n",
    "folds = StratifiedKFold(n_splits=5, shuffle=True, random_state=1)\n",
    "clfs = []\n",
    "importances = pd.DataFrame()\n",
    "lgb_params = {\n",
    "    'boosting_type': 'gbdt',\n",
    "    'objective': 'multiclass',\n",
    "    'num_class': 14,\n",
    "    'metric': 'multi_logloss',\n",
    "    'learning_rate': 0.05,\n",
    "    'subsample': .9,\n",
    "    'colsample_bytree': 0.5,\n",
    "    'reg_alpha': .01,\n",
    "    'reg_lambda': .01,\n",
    "    'min_split_gain': 0.01,\n",
    "    'min_child_weight': 10,\n",
    "    'n_estimators': 1000,\n",
    "    'silent': -1,\n",
    "    'verbose': -1,\n",
    "    'max_depth': 3\n",
    "}\n",
    "\n",
    "oof_preds = np.zeros((len(training_val_data), np.unique(training_val_data['target']).shape[0]))\n",
    "for fold_, (trn_, val_) in enumerate(folds.split(training_val_data['target'], training_val_data['target'])):\n",
    "    trn_x, trn_y = training_val_data.iloc[trn_][col_fea], training_val_data.iloc[trn_]['target']\n",
    "    val_x, val_y = training_val_data.iloc[val_][col_fea], training_val_data.iloc[val_]['target']\n",
    "\n",
    "    dtrain = lgb.Dataset(trn_x,trn_y.values)\n",
    "    dval   = lgb.Dataset(val_x,val_y.values,reference=dtrain)\n",
    "     \n",
    "    model = lgb.train(lgb_params, dtrain, \n",
    "        valid_sets=[dtrain, dval],\n",
    "        feval=lgb_multi_weighted_logloss,\n",
    "        verbose_eval=50,\n",
    "        early_stopping_rounds=10)\n",
    "    \n",
    "    oof_preds[val_, :] = model.predict(val_x, num_iteration=model.best_iteration)\n",
    "    print(_get_multi_weighted_logloss(oof_preds[val_, :],val_y)) \n",
    " \n",
    "    imp_df = pd.DataFrame()\n",
    "    imp_df['feature'] = training_val_data.iloc[val_][col_fea].columns\n",
    "    imp_df['gain'] = model.feature_importance()\n",
    "    imp_df['fold'] = fold_ + 1\n",
    "    importances = pd.concat([importances, imp_df], axis=0)\n",
    "\n",
    "    clfs.append(model)\n",
    "\n",
    "    (oof_preds[val_, :],val_y)\n",
    "    \n",
    "print('MULTI WEIGHTED LOG LOSS : %.5f ' % _get_multi_weighted_logloss(y_true=training_val_data['target'], y_pred=oof_preds))"
   ]
  },
  {
   "cell_type": "markdown",
   "metadata": {},
   "source": [
    "#### 加权重( 0.94215 )"
   ]
  },
  {
   "cell_type": "code",
   "execution_count": 109,
   "metadata": {
    "scrolled": true
   },
   "outputs": [
    {
     "name": "stdout",
     "output_type": "stream",
     "text": [
      "Training until validation scores don't improve for 10 rounds.\n",
      "[50]\ttraining's multi_logloss: 0.976079\ttraining's wloss: 0.987277\tvalid_1's multi_logloss: 1.32273\tvalid_1's wloss: 1.15174\n",
      "[100]\ttraining's multi_logloss: 0.72885\ttraining's wloss: 0.737958\tvalid_1's multi_logloss: 1.12144\tvalid_1's wloss: 0.978448\n",
      "[150]\ttraining's multi_logloss: 0.617719\ttraining's wloss: 0.625129\tvalid_1's multi_logloss: 1.04696\tvalid_1's wloss: 0.928022\n",
      "[200]\ttraining's multi_logloss: 0.546031\ttraining's wloss: 0.552771\tvalid_1's multi_logloss: 1.00939\tvalid_1's wloss: 0.913307\n",
      "Early stopping, best iteration is:\n",
      "[201]\ttraining's multi_logloss: 0.544982\ttraining's wloss: 0.551714\tvalid_1's multi_logloss: 1.00865\tvalid_1's wloss: 0.913136\n",
      "0.9131361750338777\n",
      "Training until validation scores don't improve for 10 rounds.\n",
      "[50]\ttraining's multi_logloss: 0.97786\ttraining's wloss: 0.99224\tvalid_1's multi_logloss: 1.31391\tvalid_1's wloss: 1.15447\n",
      "[100]\ttraining's multi_logloss: 0.731447\ttraining's wloss: 0.743724\tvalid_1's multi_logloss: 1.10607\tvalid_1's wloss: 0.971406\n",
      "Did not meet early stopping. Best iteration is:\n",
      "[100]\ttraining's multi_logloss: 0.731447\ttraining's wloss: 0.743724\tvalid_1's multi_logloss: 1.10607\tvalid_1's wloss: 0.971406\n",
      "0.9714064136923992\n",
      "Training until validation scores don't improve for 10 rounds.\n",
      "[50]\ttraining's multi_logloss: 0.971508\ttraining's wloss: 0.986293\tvalid_1's multi_logloss: 1.33052\tvalid_1's wloss: 1.15653\n",
      "[100]\ttraining's multi_logloss: 0.72718\ttraining's wloss: 0.738611\tvalid_1's multi_logloss: 1.12754\tvalid_1's wloss: 0.952612\n",
      "Did not meet early stopping. Best iteration is:\n",
      "[100]\ttraining's multi_logloss: 0.72718\ttraining's wloss: 0.738611\tvalid_1's multi_logloss: 1.12754\tvalid_1's wloss: 0.952612\n",
      "0.9526120319144185\n",
      "Training until validation scores don't improve for 10 rounds.\n",
      "[50]\ttraining's multi_logloss: 0.974925\ttraining's wloss: 0.986473\tvalid_1's multi_logloss: 1.32613\tvalid_1's wloss: 1.12504\n",
      "[100]\ttraining's multi_logloss: 0.728725\ttraining's wloss: 0.738229\tvalid_1's multi_logloss: 1.12354\tvalid_1's wloss: 0.938308\n",
      "Did not meet early stopping. Best iteration is:\n",
      "[100]\ttraining's multi_logloss: 0.728725\ttraining's wloss: 0.738229\tvalid_1's multi_logloss: 1.12354\tvalid_1's wloss: 0.938308\n",
      "0.9383084875611245\n",
      "Training until validation scores don't improve for 10 rounds.\n",
      "[50]\ttraining's multi_logloss: 0.974268\ttraining's wloss: 0.986074\tvalid_1's multi_logloss: 1.31535\tvalid_1's wloss: 1.13059\n",
      "[100]\ttraining's multi_logloss: 0.730108\ttraining's wloss: 0.739671\tvalid_1's multi_logloss: 1.10385\tvalid_1's wloss: 0.933985\n",
      "Did not meet early stopping. Best iteration is:\n",
      "[100]\ttraining's multi_logloss: 0.730108\ttraining's wloss: 0.739671\tvalid_1's multi_logloss: 1.10385\tvalid_1's wloss: 0.933985\n",
      "0.933985334732614\n",
      "MULTI WEIGHTED LOG LOSS : 0.94215 \n"
     ]
    }
   ],
   "source": [
    "from sklearn.model_selection import StratifiedKFold\n",
    "folds = StratifiedKFold(n_splits=5, shuffle=True, random_state=1)\n",
    "clfs = []\n",
    "importances = pd.DataFrame()\n",
    "lgb_params = {\n",
    "    'boosting_type': 'gbdt',\n",
    "    'objective': 'multiclass',\n",
    "    'num_class': 14,\n",
    "    'metric': 'multi_logloss',\n",
    "    'learning_rate': 0.05,\n",
    "    'subsample': .9,\n",
    "    'colsample_bytree': 0.5,\n",
    "    'reg_alpha': .01,\n",
    "    'reg_lambda': .01,\n",
    "    'min_split_gain': 0.01,\n",
    "    'min_child_weight': 10,\n",
    "    'n_estimators': 1000,\n",
    "    'silent': -1,\n",
    "    'verbose': -1,\n",
    "    'max_depth': 3\n",
    "}\n",
    "\n",
    "oof_preds = np.zeros((len(training_val_data), np.unique(training_val_data['target']).shape[0]))\n",
    "for fold_, (trn_, val_) in enumerate(folds.split(training_val_data['target'], training_val_data['target'])):\n",
    "    trn_x, trn_y = training_val_data.iloc[trn_][col_fea], training_val_data.iloc[trn_]['target']\n",
    "    val_x, val_y = training_val_data.iloc[val_][col_fea], training_val_data.iloc[val_]['target']\n",
    "\n",
    "    w = trn_y.value_counts()\n",
    "    weights = {i : np.sum(w) / w[i] for i in w.index}\n",
    "    \n",
    "    dtrain = lgb.Dataset(trn_x,trn_y.values, weight=trn_y.map(weights).values)\n",
    "    dval   = lgb.Dataset(val_x,val_y.values,reference=dtrain)\n",
    "     \n",
    "    model = lgb.train(lgb_params, dtrain, \n",
    "        valid_sets=[dtrain, dval],\n",
    "        feval= lgb_multi_weighted_logloss,\n",
    "        verbose_eval=50,\n",
    "        early_stopping_rounds=10)\n",
    "    \n",
    "    oof_preds[val_, :] = model.predict(val_x, num_iteration=model.best_iteration)\n",
    "    print(_get_multi_weighted_logloss(oof_preds[val_, :],val_y)) \n",
    " \n",
    "    imp_df = pd.DataFrame()\n",
    "    imp_df['feature'] = training_val_data.iloc[val_][col_fea].columns\n",
    "    imp_df['gain'] = model.feature_importance()\n",
    "    imp_df['fold'] = fold_ + 1\n",
    "    importances = pd.concat([importances, imp_df], axis=0)\n",
    "\n",
    "    clfs.append(model)\n",
    "\n",
    "    (oof_preds[val_, :],val_y)\n",
    "    \n",
    "print('MULTI WEIGHTED LOG LOSS : %.5f ' % _get_multi_weighted_logloss(y_true=training_val_data['target'], y_pred=oof_preds))"
   ]
  },
  {
   "cell_type": "code",
   "execution_count": null,
   "metadata": {},
   "outputs": [],
   "source": []
  },
  {
   "cell_type": "markdown",
   "metadata": {},
   "source": [
    "### 特征重要性分析\n",
    "因为非天文专业,所以此处做特征重要性分析的一个重要的原因是希望删除一些不重要的特征,这样可以减少内存(test数据集巨大......)"
   ]
  },
  {
   "cell_type": "code",
   "execution_count": 73,
   "metadata": {
    "scrolled": true
   },
   "outputs": [
    {
     "data": {
      "text/html": [
       "<div>\n",
       "<style scoped>\n",
       "    .dataframe tbody tr th:only-of-type {\n",
       "        vertical-align: middle;\n",
       "    }\n",
       "\n",
       "    .dataframe tbody tr th {\n",
       "        vertical-align: top;\n",
       "    }\n",
       "\n",
       "    .dataframe thead th {\n",
       "        text-align: right;\n",
       "    }\n",
       "</style>\n",
       "<table border=\"1\" class=\"dataframe\">\n",
       "  <thead>\n",
       "    <tr style=\"text-align: right;\">\n",
       "      <th></th>\n",
       "      <th>feature</th>\n",
       "      <th>gain</th>\n",
       "      <th>fold</th>\n",
       "    </tr>\n",
       "  </thead>\n",
       "  <tbody>\n",
       "    <tr>\n",
       "      <th>55</th>\n",
       "      <td>ddf</td>\n",
       "      <td>0</td>\n",
       "      <td>5</td>\n",
       "    </tr>\n",
       "    <tr>\n",
       "      <th>55</th>\n",
       "      <td>ddf</td>\n",
       "      <td>0</td>\n",
       "      <td>1</td>\n",
       "    </tr>\n",
       "    <tr>\n",
       "      <th>55</th>\n",
       "      <td>ddf</td>\n",
       "      <td>0</td>\n",
       "      <td>2</td>\n",
       "    </tr>\n",
       "    <tr>\n",
       "      <th>55</th>\n",
       "      <td>ddf</td>\n",
       "      <td>1</td>\n",
       "      <td>4</td>\n",
       "    </tr>\n",
       "    <tr>\n",
       "      <th>1</th>\n",
       "      <td>passband_mode</td>\n",
       "      <td>1</td>\n",
       "      <td>3</td>\n",
       "    </tr>\n",
       "    <tr>\n",
       "      <th>55</th>\n",
       "      <td>ddf</td>\n",
       "      <td>1</td>\n",
       "      <td>3</td>\n",
       "    </tr>\n",
       "    <tr>\n",
       "      <th>1</th>\n",
       "      <td>passband_mode</td>\n",
       "      <td>2</td>\n",
       "      <td>2</td>\n",
       "    </tr>\n",
       "    <tr>\n",
       "      <th>1</th>\n",
       "      <td>passband_mode</td>\n",
       "      <td>4</td>\n",
       "      <td>5</td>\n",
       "    </tr>\n",
       "    <tr>\n",
       "      <th>35</th>\n",
       "      <td>flux_ratio_sq_range</td>\n",
       "      <td>6</td>\n",
       "      <td>5</td>\n",
       "    </tr>\n",
       "    <tr>\n",
       "      <th>35</th>\n",
       "      <td>flux_ratio_sq_range</td>\n",
       "      <td>6</td>\n",
       "      <td>3</td>\n",
       "    </tr>\n",
       "    <tr>\n",
       "      <th>1</th>\n",
       "      <td>passband_mode</td>\n",
       "      <td>6</td>\n",
       "      <td>4</td>\n",
       "    </tr>\n",
       "    <tr>\n",
       "      <th>35</th>\n",
       "      <td>flux_ratio_sq_range</td>\n",
       "      <td>8</td>\n",
       "      <td>2</td>\n",
       "    </tr>\n",
       "    <tr>\n",
       "      <th>35</th>\n",
       "      <td>flux_ratio_sq_range</td>\n",
       "      <td>9</td>\n",
       "      <td>4</td>\n",
       "    </tr>\n",
       "    <tr>\n",
       "      <th>49</th>\n",
       "      <td>mjd_mean</td>\n",
       "      <td>9</td>\n",
       "      <td>2</td>\n",
       "    </tr>\n",
       "    <tr>\n",
       "      <th>60</th>\n",
       "      <td>mwebv</td>\n",
       "      <td>11</td>\n",
       "      <td>2</td>\n",
       "    </tr>\n",
       "    <tr>\n",
       "      <th>31</th>\n",
       "      <td>flux_ratio_sq_std</td>\n",
       "      <td>11</td>\n",
       "      <td>4</td>\n",
       "    </tr>\n",
       "    <tr>\n",
       "      <th>60</th>\n",
       "      <td>mwebv</td>\n",
       "      <td>13</td>\n",
       "      <td>5</td>\n",
       "    </tr>\n",
       "    <tr>\n",
       "      <th>49</th>\n",
       "      <td>mjd_mean</td>\n",
       "      <td>14</td>\n",
       "      <td>4</td>\n",
       "    </tr>\n",
       "    <tr>\n",
       "      <th>31</th>\n",
       "      <td>flux_ratio_sq_std</td>\n",
       "      <td>16</td>\n",
       "      <td>2</td>\n",
       "    </tr>\n",
       "    <tr>\n",
       "      <th>11</th>\n",
       "      <td>flux_err_sum</td>\n",
       "      <td>18</td>\n",
       "      <td>2</td>\n",
       "    </tr>\n",
       "    <tr>\n",
       "      <th>31</th>\n",
       "      <td>flux_ratio_sq_std</td>\n",
       "      <td>18</td>\n",
       "      <td>5</td>\n",
       "    </tr>\n",
       "    <tr>\n",
       "      <th>17</th>\n",
       "      <td>flux_err_range</td>\n",
       "      <td>18</td>\n",
       "      <td>5</td>\n",
       "    </tr>\n",
       "    <tr>\n",
       "      <th>53</th>\n",
       "      <td>gal_l</td>\n",
       "      <td>19</td>\n",
       "      <td>4</td>\n",
       "    </tr>\n",
       "    <tr>\n",
       "      <th>17</th>\n",
       "      <td>flux_err_range</td>\n",
       "      <td>19</td>\n",
       "      <td>2</td>\n",
       "    </tr>\n",
       "    <tr>\n",
       "      <th>38</th>\n",
       "      <td>flux_by_flux_ratio_sq_sum</td>\n",
       "      <td>19</td>\n",
       "      <td>4</td>\n",
       "    </tr>\n",
       "    <tr>\n",
       "      <th>49</th>\n",
       "      <td>mjd_mean</td>\n",
       "      <td>20</td>\n",
       "      <td>5</td>\n",
       "    </tr>\n",
       "    <tr>\n",
       "      <th>49</th>\n",
       "      <td>mjd_mean</td>\n",
       "      <td>21</td>\n",
       "      <td>3</td>\n",
       "    </tr>\n",
       "    <tr>\n",
       "      <th>1</th>\n",
       "      <td>passband_mode</td>\n",
       "      <td>21</td>\n",
       "      <td>1</td>\n",
       "    </tr>\n",
       "    <tr>\n",
       "      <th>52</th>\n",
       "      <td>decl</td>\n",
       "      <td>22</td>\n",
       "      <td>4</td>\n",
       "    </tr>\n",
       "    <tr>\n",
       "      <th>26</th>\n",
       "      <td>flux_div_flux_err_range</td>\n",
       "      <td>22</td>\n",
       "      <td>5</td>\n",
       "    </tr>\n",
       "    <tr>\n",
       "      <th>...</th>\n",
       "      <td>...</td>\n",
       "      <td>...</td>\n",
       "      <td>...</td>\n",
       "    </tr>\n",
       "    <tr>\n",
       "      <th>57</th>\n",
       "      <td>hostgal_photoz</td>\n",
       "      <td>315</td>\n",
       "      <td>2</td>\n",
       "    </tr>\n",
       "    <tr>\n",
       "      <th>10</th>\n",
       "      <td>flux_kurt</td>\n",
       "      <td>321</td>\n",
       "      <td>2</td>\n",
       "    </tr>\n",
       "    <tr>\n",
       "      <th>45</th>\n",
       "      <td>flux_by_flux_ratio_sq_skew</td>\n",
       "      <td>325</td>\n",
       "      <td>1</td>\n",
       "    </tr>\n",
       "    <tr>\n",
       "      <th>43</th>\n",
       "      <td>flux_by_flux_ratio_sq_min</td>\n",
       "      <td>328</td>\n",
       "      <td>1</td>\n",
       "    </tr>\n",
       "    <tr>\n",
       "      <th>10</th>\n",
       "      <td>flux_kurt</td>\n",
       "      <td>339</td>\n",
       "      <td>4</td>\n",
       "    </tr>\n",
       "    <tr>\n",
       "      <th>10</th>\n",
       "      <td>flux_kurt</td>\n",
       "      <td>346</td>\n",
       "      <td>5</td>\n",
       "    </tr>\n",
       "    <tr>\n",
       "      <th>28</th>\n",
       "      <td>flux_div_flux_err_kurt</td>\n",
       "      <td>347</td>\n",
       "      <td>1</td>\n",
       "    </tr>\n",
       "    <tr>\n",
       "      <th>41</th>\n",
       "      <td>flux_by_flux_ratio_sq_quantile</td>\n",
       "      <td>358</td>\n",
       "      <td>1</td>\n",
       "    </tr>\n",
       "    <tr>\n",
       "      <th>5</th>\n",
       "      <td>flux_quantile</td>\n",
       "      <td>368</td>\n",
       "      <td>1</td>\n",
       "    </tr>\n",
       "    <tr>\n",
       "      <th>4</th>\n",
       "      <td>flux_std</td>\n",
       "      <td>378</td>\n",
       "      <td>1</td>\n",
       "    </tr>\n",
       "    <tr>\n",
       "      <th>6</th>\n",
       "      <td>flux_max</td>\n",
       "      <td>383</td>\n",
       "      <td>1</td>\n",
       "    </tr>\n",
       "    <tr>\n",
       "      <th>23</th>\n",
       "      <td>flux_div_flux_err_quantile</td>\n",
       "      <td>396</td>\n",
       "      <td>1</td>\n",
       "    </tr>\n",
       "    <tr>\n",
       "      <th>59</th>\n",
       "      <td>distmod</td>\n",
       "      <td>397</td>\n",
       "      <td>2</td>\n",
       "    </tr>\n",
       "    <tr>\n",
       "      <th>58</th>\n",
       "      <td>hostgal_photoz_err</td>\n",
       "      <td>418</td>\n",
       "      <td>1</td>\n",
       "    </tr>\n",
       "    <tr>\n",
       "      <th>59</th>\n",
       "      <td>distmod</td>\n",
       "      <td>425</td>\n",
       "      <td>4</td>\n",
       "    </tr>\n",
       "    <tr>\n",
       "      <th>59</th>\n",
       "      <td>distmod</td>\n",
       "      <td>445</td>\n",
       "      <td>5</td>\n",
       "    </tr>\n",
       "    <tr>\n",
       "      <th>59</th>\n",
       "      <td>distmod</td>\n",
       "      <td>477</td>\n",
       "      <td>3</td>\n",
       "    </tr>\n",
       "    <tr>\n",
       "      <th>16</th>\n",
       "      <td>flux_err_min</td>\n",
       "      <td>483</td>\n",
       "      <td>1</td>\n",
       "    </tr>\n",
       "    <tr>\n",
       "      <th>25</th>\n",
       "      <td>flux_div_flux_err_min</td>\n",
       "      <td>498</td>\n",
       "      <td>1</td>\n",
       "    </tr>\n",
       "    <tr>\n",
       "      <th>57</th>\n",
       "      <td>hostgal_photoz</td>\n",
       "      <td>528</td>\n",
       "      <td>1</td>\n",
       "    </tr>\n",
       "    <tr>\n",
       "      <th>32</th>\n",
       "      <td>flux_ratio_sq_quantile</td>\n",
       "      <td>542</td>\n",
       "      <td>1</td>\n",
       "    </tr>\n",
       "    <tr>\n",
       "      <th>27</th>\n",
       "      <td>flux_div_flux_err_skew</td>\n",
       "      <td>599</td>\n",
       "      <td>1</td>\n",
       "    </tr>\n",
       "    <tr>\n",
       "      <th>59</th>\n",
       "      <td>distmod</td>\n",
       "      <td>628</td>\n",
       "      <td>1</td>\n",
       "    </tr>\n",
       "    <tr>\n",
       "      <th>9</th>\n",
       "      <td>flux_skew</td>\n",
       "      <td>652</td>\n",
       "      <td>1</td>\n",
       "    </tr>\n",
       "    <tr>\n",
       "      <th>10</th>\n",
       "      <td>flux_kurt</td>\n",
       "      <td>822</td>\n",
       "      <td>1</td>\n",
       "    </tr>\n",
       "    <tr>\n",
       "      <th>56</th>\n",
       "      <td>hostgal_specz</td>\n",
       "      <td>880</td>\n",
       "      <td>3</td>\n",
       "    </tr>\n",
       "    <tr>\n",
       "      <th>56</th>\n",
       "      <td>hostgal_specz</td>\n",
       "      <td>900</td>\n",
       "      <td>5</td>\n",
       "    </tr>\n",
       "    <tr>\n",
       "      <th>56</th>\n",
       "      <td>hostgal_specz</td>\n",
       "      <td>915</td>\n",
       "      <td>2</td>\n",
       "    </tr>\n",
       "    <tr>\n",
       "      <th>56</th>\n",
       "      <td>hostgal_specz</td>\n",
       "      <td>947</td>\n",
       "      <td>4</td>\n",
       "    </tr>\n",
       "    <tr>\n",
       "      <th>56</th>\n",
       "      <td>hostgal_specz</td>\n",
       "      <td>1747</td>\n",
       "      <td>1</td>\n",
       "    </tr>\n",
       "  </tbody>\n",
       "</table>\n",
       "<p>305 rows × 3 columns</p>\n",
       "</div>"
      ],
      "text/plain": [
       "                           feature  gain  fold\n",
       "55                             ddf     0     5\n",
       "55                             ddf     0     1\n",
       "55                             ddf     0     2\n",
       "55                             ddf     1     4\n",
       "1                    passband_mode     1     3\n",
       "55                             ddf     1     3\n",
       "1                    passband_mode     2     2\n",
       "1                    passband_mode     4     5\n",
       "35             flux_ratio_sq_range     6     5\n",
       "35             flux_ratio_sq_range     6     3\n",
       "1                    passband_mode     6     4\n",
       "35             flux_ratio_sq_range     8     2\n",
       "35             flux_ratio_sq_range     9     4\n",
       "49                        mjd_mean     9     2\n",
       "60                           mwebv    11     2\n",
       "31               flux_ratio_sq_std    11     4\n",
       "60                           mwebv    13     5\n",
       "49                        mjd_mean    14     4\n",
       "31               flux_ratio_sq_std    16     2\n",
       "11                    flux_err_sum    18     2\n",
       "31               flux_ratio_sq_std    18     5\n",
       "17                  flux_err_range    18     5\n",
       "53                           gal_l    19     4\n",
       "17                  flux_err_range    19     2\n",
       "38       flux_by_flux_ratio_sq_sum    19     4\n",
       "49                        mjd_mean    20     5\n",
       "49                        mjd_mean    21     3\n",
       "1                    passband_mode    21     1\n",
       "52                            decl    22     4\n",
       "26         flux_div_flux_err_range    22     5\n",
       "..                             ...   ...   ...\n",
       "57                  hostgal_photoz   315     2\n",
       "10                       flux_kurt   321     2\n",
       "45      flux_by_flux_ratio_sq_skew   325     1\n",
       "43       flux_by_flux_ratio_sq_min   328     1\n",
       "10                       flux_kurt   339     4\n",
       "10                       flux_kurt   346     5\n",
       "28          flux_div_flux_err_kurt   347     1\n",
       "41  flux_by_flux_ratio_sq_quantile   358     1\n",
       "5                    flux_quantile   368     1\n",
       "4                         flux_std   378     1\n",
       "6                         flux_max   383     1\n",
       "23      flux_div_flux_err_quantile   396     1\n",
       "59                         distmod   397     2\n",
       "58              hostgal_photoz_err   418     1\n",
       "59                         distmod   425     4\n",
       "59                         distmod   445     5\n",
       "59                         distmod   477     3\n",
       "16                    flux_err_min   483     1\n",
       "25           flux_div_flux_err_min   498     1\n",
       "57                  hostgal_photoz   528     1\n",
       "32          flux_ratio_sq_quantile   542     1\n",
       "27          flux_div_flux_err_skew   599     1\n",
       "59                         distmod   628     1\n",
       "9                        flux_skew   652     1\n",
       "10                       flux_kurt   822     1\n",
       "56                   hostgal_specz   880     3\n",
       "56                   hostgal_specz   900     5\n",
       "56                   hostgal_specz   915     2\n",
       "56                   hostgal_specz   947     4\n",
       "56                   hostgal_specz  1747     1\n",
       "\n",
       "[305 rows x 3 columns]"
      ]
     },
     "execution_count": 73,
     "metadata": {},
     "output_type": "execute_result"
    }
   ],
   "source": [
    "importances.sort_values('gain')"
   ]
  },
  {
   "cell_type": "markdown",
   "metadata": {},
   "source": [
    "### 模型测试"
   ]
  },
  {
   "cell_type": "code",
   "execution_count": 74,
   "metadata": {},
   "outputs": [
    {
     "name": "stdout",
     "output_type": "stream",
     "text": [
      "CPU times: user 3min 57s, sys: 3min, total: 6min 57s\n",
      "Wall time: 6min 57s\n"
     ]
    }
   ],
   "source": [
    "%%time\n",
    "test_set = pd.read_csv(path + 'test_set.csv')\n",
    "test_set_metadata = pd.read_csv(path + 'test_set_metadata.csv') "
   ]
  },
  {
   "cell_type": "code",
   "execution_count": 75,
   "metadata": {},
   "outputs": [
    {
     "data": {
      "text/plain": [
       "1364"
      ]
     },
     "execution_count": 75,
     "metadata": {},
     "output_type": "execute_result"
    }
   ],
   "source": [
    "### 删除上面重要性较低的\n",
    "del test_set_metadata['ddf']\n",
    "del test_set_metadata['mwebv']\n",
    "gc.collect()"
   ]
  },
  {
   "cell_type": "markdown",
   "metadata": {},
   "source": [
    "#### 特征工程pipeline"
   ]
  },
  {
   "cell_type": "code",
   "execution_count": 91,
   "metadata": {},
   "outputs": [],
   "source": [
    "from tqdm import tqdm\n",
    "from time import time\n",
    "\n",
    "def _get_baseline_features(df):\n",
    "    \n",
    "    df['flux_div_flux_err']     =  df['flux'] / df['flux_err']\n",
    "    #### 来自于kernel #########\n",
    "    df['flux_ratio_sq']         =  np.power(df['flux'].values / df['flux_err'].values, 2.0)\n",
    "    df['flux_by_flux_ratio_sq'] =  df['flux'].values * df['flux_ratio_sq']\n",
    " \n",
    "    features = pd.DataFrame()\n",
    "    features['object_id']     =   df['object_id'].unique()\n",
    "    features = features.sort_values('object_id')\n",
    "    \n",
    "    object_id_cnt             =   df['object_id'].value_counts().to_dict()\n",
    "    features['object_id_cnt'] =   features['object_id'].apply(lambda x:object_id_cnt[x])  \n",
    "    \n",
    "    for col in tqdm(['flux','flux_err','flux_div_flux_err','flux_ratio_sq','flux_by_flux_ratio_sq']): \n",
    "\n",
    "        features[col + '_sum']       =  df.groupby('object_id')[col].sum().sort_index().values \n",
    "        features[col + '_mean']      =  df.groupby('object_id')[col].mean().sort_index().values \n",
    "        features[col + '_std']       =  df.groupby('object_id')[col].std().sort_index().values \n",
    "        features[col + '_quantile']  =  df.groupby('object_id')[col].quantile().sort_index().values \n",
    "\n",
    "        features[col + '_max']       =  df.groupby('object_id')[col].max().sort_index().values \n",
    "        features[col + '_min']       =  df.groupby('object_id')[col].min().sort_index().values \n",
    "        features[col + '_range']     =  features[col + '_max'] - features[col + '_min']\n",
    "\n",
    "        features[col + '_skew']      =  df.groupby('object_id')[col].skew().sort_index().values \n",
    "        features[col + '_kurt']      =  df.groupby('object_id')[col].apply(pd.DataFrame.kurt).sort_index().values  \n",
    "    \n",
    "    for col in (['detected']):\n",
    "        features[col + '_sum']       =  df.groupby('object_id')[col].sum().sort_index().values \n",
    "        features[col + '_mean']      =  df.groupby('object_id')[col].mean().sort_index().values  \n",
    "\n",
    "    for col in ['mjd']: \n",
    "        features[col + '_mean']      =  df.groupby('object_id')[col].mean().sort_index().values  \n",
    "        features[col + '_max']       =  df.groupby('object_id')[col].max().sort_index().values \n",
    "        features[col + '_min']       =  df.groupby('object_id')[col].min().sort_index().values \n",
    "        features[col + '_range']     =  features[col + '_max'] - features[col + '_min'] \n",
    "        del features[col + '_max']\n",
    "        del features[col + '_min']\n",
    "        gc.collect()\n",
    "    return features\n",
    "\n",
    "def _features(df1, df2, is_Train = False):\n",
    "    ############## feature expend ####################  \n",
    "    data_features = _get_baseline_features(df1) \n",
    "    if is_Train:\n",
    "        training_val_data           = data_features.merge(df2, on='object_id',how= 'left')\n",
    "        training_val_data['target'] = training_val_data['target'].apply(lambda x:underline_2_lb[x])  \n",
    "    else:\n",
    "        training_val_data = data_features.merge(df2, on='object_id',how= 'left')\n",
    "     \n",
    "    del training_val_data['hostgal_specz']\n",
    "    del training_val_data['ra'], training_val_data['decl'], training_val_data['gal_l'], training_val_data['gal_b']\n",
    "    del training_val_data['ddf']\n",
    "    gc.collect()\n",
    "    return training_val_data"
   ]
  },
  {
   "cell_type": "code",
   "execution_count": 92,
   "metadata": {
    "scrolled": true
   },
   "outputs": [
    {
     "name": "stderr",
     "output_type": "stream",
     "text": [
      "\n",
      "  0%|          | 0/5 [00:00<?, ?it/s]\u001b[A\n",
      " 20%|██        | 1/5 [00:06<00:24,  6.09s/it]\u001b[A\n",
      " 40%|████      | 2/5 [00:11<00:17,  6.00s/it]\u001b[A\n",
      " 60%|██████    | 3/5 [00:17<00:11,  5.97s/it]\u001b[A\n",
      " 80%|████████  | 4/5 [00:23<00:05,  5.89s/it]\u001b[A\n",
      "100%|██████████| 5/5 [00:29<00:00,  5.86s/it]\u001b[A\n",
      "\u001b[A"
     ]
    },
    {
     "name": "stdout",
     "output_type": "stream",
     "text": [
      "CPU times: user 28.2 s, sys: 1.78 s, total: 30 s\n",
      "Wall time: 29.9 s\n"
     ]
    }
   ],
   "source": [
    "%%time\n",
    "train_features = _features(training_set,training_set_metadata,is_Train=True)"
   ]
  },
  {
   "cell_type": "markdown",
   "metadata": {},
   "source": [
    "#### 获取模型"
   ]
  },
  {
   "cell_type": "code",
   "execution_count": 105,
   "metadata": {},
   "outputs": [],
   "source": [
    "from sklearn.model_selection import StratifiedKFold\n",
    "def _get_lgb_models(train, train_label):\n",
    "    folds = StratifiedKFold(n_splits=5, shuffle=True, random_state=1)\n",
    "    models = [] \n",
    "    \n",
    "    lgb_params = {\n",
    "        'boosting_type': 'gbdt',\n",
    "        'objective': 'multiclass',\n",
    "        'num_class': 14,\n",
    "        'metric': 'multi_logloss',\n",
    "        'learning_rate': 0.03,\n",
    "        'subsample': .9,\n",
    "        'colsample_bytree': 0.5,\n",
    "        'reg_alpha': .01,\n",
    "        'reg_lambda': .01,\n",
    "        'min_split_gain': 0.01,\n",
    "        'min_child_weight': 10,\n",
    "        'n_estimators': 1000,\n",
    "        'silent': -1,\n",
    "        'verbose': -1,\n",
    "        'max_depth': 3\n",
    "    }\n",
    "      \n",
    "    for fold_, (trn_, val_) in enumerate(folds.split(train_label,train_label)):\n",
    "          \n",
    "        trn_x, trn_y = train.iloc[trn_], train_label[trn_]\n",
    "        val_x, val_y = train.iloc[val_], train_label[val_]\n",
    "        \n",
    "        w = trn_y.value_counts()\n",
    "        weights = {i : np.sum(w) / w[i] for i in w.index}\n",
    "        \n",
    "        model = lgb.LGBMClassifier(**lgb_params)\n",
    "        model.fit(\n",
    "            trn_x, trn_y.values,\n",
    "            eval_set=[(trn_x, trn_y.values), (val_x, val_y.values)],\n",
    "            eval_metric=lgbclassifier_multi_weighted_logloss,\n",
    "            verbose=100,\n",
    "            early_stopping_rounds=50,\n",
    "            sample_weight=trn_y.map(weights)\n",
    "        )     \n",
    "        models.append(model) \n",
    "        gc.collect()\n",
    "    return models "
   ]
  },
  {
   "cell_type": "code",
   "execution_count": 106,
   "metadata": {
    "scrolled": true
   },
   "outputs": [
    {
     "name": "stdout",
     "output_type": "stream",
     "text": [
      "Training until validation scores don't improve for 50 rounds.\n",
      "[100]\ttraining's multi_logloss: 0.905062\ttraining's wloss: 0.915955\tvalid_1's multi_logloss: 1.26331\tvalid_1's wloss: 1.10178\n",
      "[200]\ttraining's multi_logloss: 0.678437\ttraining's wloss: 0.686693\tvalid_1's multi_logloss: 1.0872\tvalid_1's wloss: 0.95543\n",
      "[300]\ttraining's multi_logloss: 0.574848\ttraining's wloss: 0.581771\tvalid_1's multi_logloss: 1.02401\tvalid_1's wloss: 0.924306\n",
      "[400]\ttraining's multi_logloss: 0.505809\ttraining's wloss: 0.512029\tvalid_1's multi_logloss: 0.99521\tvalid_1's wloss: 0.926879\n",
      "Early stopping, best iteration is:\n",
      "[352]\ttraining's multi_logloss: 0.53647\ttraining's wloss: 0.543017\tvalid_1's multi_logloss: 1.00666\tvalid_1's wloss: 0.92208\n",
      "Training until validation scores don't improve for 50 rounds.\n",
      "[100]\ttraining's multi_logloss: 0.907364\ttraining's wloss: 0.92175\tvalid_1's multi_logloss: 1.25082\tvalid_1's wloss: 1.0954\n",
      "[200]\ttraining's multi_logloss: 0.680592\ttraining's wloss: 0.691826\tvalid_1's multi_logloss: 1.07152\tvalid_1's wloss: 0.948757\n",
      "[300]\ttraining's multi_logloss: 0.572998\ttraining's wloss: 0.581999\tvalid_1's multi_logloss: 1.00828\tvalid_1's wloss: 0.929429\n",
      "Early stopping, best iteration is:\n",
      "[297]\ttraining's multi_logloss: 0.575419\ttraining's wloss: 0.584428\tvalid_1's multi_logloss: 1.00932\tvalid_1's wloss: 0.929146\n",
      "Training until validation scores don't improve for 50 rounds.\n",
      "[100]\ttraining's multi_logloss: 0.902896\ttraining's wloss: 0.91705\tvalid_1's multi_logloss: 1.27117\tvalid_1's wloss: 1.0932\n",
      "[200]\ttraining's multi_logloss: 0.675872\ttraining's wloss: 0.685971\tvalid_1's multi_logloss: 1.09223\tvalid_1's wloss: 0.921554\n",
      "[300]\ttraining's multi_logloss: 0.570942\ttraining's wloss: 0.578193\tvalid_1's multi_logloss: 1.02749\tvalid_1's wloss: 0.877048\n",
      "[400]\ttraining's multi_logloss: 0.499806\ttraining's wloss: 0.506082\tvalid_1's multi_logloss: 0.991495\tvalid_1's wloss: 0.864284\n",
      "[500]\ttraining's multi_logloss: 0.444687\ttraining's wloss: 0.450048\tvalid_1's multi_logloss: 0.965484\tvalid_1's wloss: 0.858897\n",
      "Early stopping, best iteration is:\n",
      "[497]\ttraining's multi_logloss: 0.446243\ttraining's wloss: 0.451612\tvalid_1's multi_logloss: 0.965932\tvalid_1's wloss: 0.858258\n",
      "Training until validation scores don't improve for 50 rounds.\n",
      "[100]\ttraining's multi_logloss: 0.902981\ttraining's wloss: 0.913736\tvalid_1's multi_logloss: 1.26314\tvalid_1's wloss: 1.06881\n",
      "[200]\ttraining's multi_logloss: 0.67839\ttraining's wloss: 0.687039\tvalid_1's multi_logloss: 1.08589\tvalid_1's wloss: 0.908758\n",
      "[300]\ttraining's multi_logloss: 0.567642\ttraining's wloss: 0.574711\tvalid_1's multi_logloss: 1.02294\tvalid_1's wloss: 0.876902\n",
      "Early stopping, best iteration is:\n",
      "[300]\ttraining's multi_logloss: 0.567642\ttraining's wloss: 0.574711\tvalid_1's multi_logloss: 1.02294\tvalid_1's wloss: 0.876902\n",
      "Training until validation scores don't improve for 50 rounds.\n",
      "[100]\ttraining's multi_logloss: 0.90557\ttraining's wloss: 0.917248\tvalid_1's multi_logloss: 1.25262\tvalid_1's wloss: 1.06981\n",
      "[200]\ttraining's multi_logloss: 0.682389\ttraining's wloss: 0.691213\tvalid_1's multi_logloss: 1.06881\tvalid_1's wloss: 0.904207\n",
      "[300]\ttraining's multi_logloss: 0.575084\ttraining's wloss: 0.582359\tvalid_1's multi_logloss: 0.999717\tvalid_1's wloss: 0.863495\n",
      "[400]\ttraining's multi_logloss: 0.501846\ttraining's wloss: 0.508179\tvalid_1's multi_logloss: 0.962162\tvalid_1's wloss: 0.854576\n",
      "Early stopping, best iteration is:\n",
      "[422]\ttraining's multi_logloss: 0.488397\ttraining's wloss: 0.494521\tvalid_1's multi_logloss: 0.955048\tvalid_1's wloss: 0.85305\n"
     ]
    }
   ],
   "source": [
    "col_fea = [col for col in train_features.columns if col!='object_id' and col!='target']\n",
    "models  =_get_lgb_models(train_features[col_fea], train_features['target']) "
   ]
  },
  {
   "cell_type": "markdown",
   "metadata": {},
   "source": [
    "#### 模型预测\n",
    "- 对一个chunk的数据进行预测"
   ]
  },
  {
   "cell_type": "code",
   "execution_count": 110,
   "metadata": {},
   "outputs": [],
   "source": [
    "def predict_chunk(df1, df2, models, used_features):\n",
    "    test_data = _features(df1, df2, is_Train=False)  \n",
    "     \n",
    "    preds = None\n",
    "    for clf in models:\n",
    "        if preds is None:\n",
    "            preds = clf.predict_proba(test_data[used_features])\n",
    "        else:\n",
    "            preds += clf.predict_proba(test_data[used_features])\n",
    "            \n",
    "    preds = preds / len(models)\n",
    " \n",
    "    # Create DataFrame from predictions\n",
    "    preds_df = pd.DataFrame(preds,columns=['class_{}'.format(s) for s in range(14)])\n",
    "    \n",
    "    preds_99 = np.ones(preds_df.shape[0])\n",
    "    for i in range(preds_df.shape[1]):\n",
    "        preds_99 *= (1 - preds_df.iloc[:, i])\n",
    "    preds_df['class_99'] = 0.14 * preds_99 / np.mean(preds_99)\n",
    "    preds_df['object_id'] = test_data['object_id']\n",
    "      \n",
    "    return preds_df"
   ]
  },
  {
   "cell_type": "code",
   "execution_count": 111,
   "metadata": {},
   "outputs": [],
   "source": [
    "def process_test(models,used_features,filename='predictions.csv',chunks=7000000):\n",
    "    start = time()  \n",
    "    test_set_metadata = pd.read_csv(path + 'test_set_metadata.csv')\n",
    "    remain_df = None\n",
    "    \n",
    "    for i_c, df in enumerate(pd.read_csv(path + 'test_set.csv', chunksize=chunks, iterator=True)):\n",
    "        # Check object_ids\n",
    "        # I believe np.unique keeps the order of group_ids as they appear in the file\n",
    "        unique_ids = np.unique(df['object_id'])\n",
    "        new_remain_df = df.loc[df['object_id'] == unique_ids[-1]].copy()\n",
    "        if remain_df is None:\n",
    "            df = df.loc[df['object_id'].isin(unique_ids[:-1])]\n",
    "        else:\n",
    "            df = pd.concat([remain_df, df.loc[df['object_id'].isin(unique_ids[:-1])]], axis=0)\n",
    "        # Create remaining samples df\n",
    "        remain_df = new_remain_df\n",
    "        \n",
    "        preds_df = predict_chunk(df1 = df, df2 = test_set_metadata.loc[test_set_metadata.object_id.isin(df['object_id'])],\n",
    "                                 models=models,used_features = used_features)\n",
    "    \n",
    "        if i_c == 0: \n",
    "            preds_df.to_csv('baseline_' + filename, header=True, mode='a', index=False)\n",
    "        else: \n",
    "            preds_df.to_csv('baseline_' + filename, header=False, mode='a', index=False)\n",
    "    \n",
    "        del preds_df \n",
    "        gc.collect()\n",
    "        print('{:15d} done in {:5.1f} minutes' .format(\n",
    "                chunks * (i_c + 1), (time() - start) / 60), flush=True)\n",
    "         \n",
    "    \n",
    "    preds_df= predict_chunk(df1 = remain_df, df2 = test_set_metadata.loc[test_set_metadata.object_id.isin(remain_df['object_id'])],\n",
    "                                 models=models,used_features = used_features)\n",
    "         \n",
    "    preds_df.to_csv('baseline_' + filename, header=False, mode='a', index=False)\n",
    "    return  "
   ]
  },
  {
   "cell_type": "code",
   "execution_count": 112,
   "metadata": {
    "scrolled": true
   },
   "outputs": [
    {
     "name": "stderr",
     "output_type": "stream",
     "text": [
      "\n",
      "  0%|          | 0/5 [00:00<?, ?it/s]\u001b[A\n",
      " 20%|██        | 1/5 [00:21<01:27, 21.91s/it]\u001b[A\n",
      " 40%|████      | 2/5 [00:42<01:04, 21.47s/it]\u001b[A\n",
      " 60%|██████    | 3/5 [01:02<00:42, 21.17s/it]\u001b[A\n",
      " 80%|████████  | 4/5 [01:23<00:20, 20.94s/it]\u001b[A\n",
      "100%|██████████| 5/5 [01:43<00:00, 20.79s/it]\u001b[A\n",
      "\u001b[A"
     ]
    },
    {
     "name": "stdout",
     "output_type": "stream",
     "text": [
      "        7000000 done in   2.0 minutes\n"
     ]
    },
    {
     "name": "stderr",
     "output_type": "stream",
     "text": [
      "\n",
      "  0%|          | 0/5 [00:00<?, ?it/s]\u001b[A\n",
      " 20%|██        | 1/5 [00:35<02:23, 35.96s/it]\u001b[A\n",
      " 40%|████      | 2/5 [01:07<01:44, 34.76s/it]\u001b[A\n",
      " 60%|██████    | 3/5 [01:40<01:07, 33.96s/it]\u001b[A\n",
      " 80%|████████  | 4/5 [02:12<00:33, 33.42s/it]\u001b[A\n",
      "100%|██████████| 5/5 [02:44<00:00, 32.98s/it]\u001b[A\n",
      "\u001b[A"
     ]
    },
    {
     "name": "stdout",
     "output_type": "stream",
     "text": [
      "       14000000 done in   5.1 minutes\n"
     ]
    },
    {
     "name": "stderr",
     "output_type": "stream",
     "text": [
      "\n",
      "  0%|          | 0/5 [00:00<?, ?it/s]\u001b[A\n",
      " 20%|██        | 1/5 [00:45<03:00, 45.03s/it]\u001b[A\n",
      " 40%|████      | 2/5 [01:27<02:12, 44.28s/it]\u001b[A\n",
      " 60%|██████    | 3/5 [02:09<01:27, 43.73s/it]\u001b[A\n",
      " 80%|████████  | 4/5 [02:52<00:43, 43.25s/it]\u001b[A\n",
      "100%|██████████| 5/5 [03:34<00:00, 42.92s/it]\u001b[A\n",
      "\u001b[A"
     ]
    },
    {
     "name": "stdout",
     "output_type": "stream",
     "text": [
      "       21000000 done in   9.0 minutes\n"
     ]
    },
    {
     "name": "stderr",
     "output_type": "stream",
     "text": [
      "\n",
      "  0%|          | 0/5 [00:00<?, ?it/s]\u001b[A\n",
      " 20%|██        | 1/5 [00:47<03:11, 47.95s/it]\u001b[A\n",
      " 40%|████      | 2/5 [01:32<02:20, 46.83s/it]\u001b[A\n",
      " 60%|██████    | 3/5 [02:16<01:32, 46.18s/it]\u001b[A\n",
      " 80%|████████  | 4/5 [03:01<00:45, 45.68s/it]\u001b[A\n",
      "100%|██████████| 5/5 [03:45<00:00, 45.30s/it]\u001b[A\n",
      "\u001b[A"
     ]
    },
    {
     "name": "stdout",
     "output_type": "stream",
     "text": [
      "       28000000 done in  13.1 minutes\n"
     ]
    },
    {
     "name": "stderr",
     "output_type": "stream",
     "text": [
      "\n",
      "  0%|          | 0/5 [00:00<?, ?it/s]\u001b[A\n",
      " 20%|██        | 1/5 [00:44<02:59, 44.98s/it]\u001b[A\n",
      " 40%|████      | 2/5 [01:27<02:12, 44.24s/it]\u001b[A\n",
      " 60%|██████    | 3/5 [02:09<01:27, 43.69s/it]\u001b[A\n",
      " 80%|████████  | 4/5 [02:52<00:43, 43.32s/it]\u001b[A\n",
      "100%|██████████| 5/5 [03:34<00:00, 42.93s/it]\u001b[A\n",
      "\u001b[A"
     ]
    },
    {
     "name": "stdout",
     "output_type": "stream",
     "text": [
      "       35000000 done in  17.0 minutes\n"
     ]
    },
    {
     "name": "stderr",
     "output_type": "stream",
     "text": [
      "\n",
      "  0%|          | 0/5 [00:00<?, ?it/s]\u001b[A\n",
      " 20%|██        | 1/5 [00:46<03:04, 46.22s/it]\u001b[A\n",
      " 40%|████      | 2/5 [01:28<02:15, 45.10s/it]\u001b[A\n",
      " 60%|██████    | 3/5 [02:11<01:28, 44.30s/it]\u001b[A\n",
      " 80%|████████  | 4/5 [02:53<00:43, 43.73s/it]\u001b[A\n",
      "100%|██████████| 5/5 [03:36<00:00, 43.44s/it]\u001b[A\n",
      "\u001b[A"
     ]
    },
    {
     "name": "stdout",
     "output_type": "stream",
     "text": [
      "       42000000 done in  20.9 minutes\n"
     ]
    },
    {
     "name": "stderr",
     "output_type": "stream",
     "text": [
      "\n",
      "  0%|          | 0/5 [00:00<?, ?it/s]\u001b[A\n",
      " 20%|██        | 1/5 [00:42<02:51, 43.00s/it]\u001b[A\n",
      " 40%|████      | 2/5 [01:23<02:06, 42.22s/it]\u001b[A\n",
      " 60%|██████    | 3/5 [02:04<01:23, 41.73s/it]\u001b[A\n",
      " 80%|████████  | 4/5 [02:44<00:41, 41.37s/it]\u001b[A\n",
      "100%|██████████| 5/5 [03:24<00:00, 41.07s/it]\u001b[A\n",
      "\u001b[A"
     ]
    },
    {
     "name": "stdout",
     "output_type": "stream",
     "text": [
      "       49000000 done in  24.6 minutes\n"
     ]
    },
    {
     "name": "stderr",
     "output_type": "stream",
     "text": [
      "\n",
      "  0%|          | 0/5 [00:00<?, ?it/s]\u001b[A\n",
      " 20%|██        | 1/5 [00:43<02:55, 43.84s/it]\u001b[A\n",
      " 40%|████      | 2/5 [01:24<02:08, 42.77s/it]\u001b[A\n",
      " 60%|██████    | 3/5 [02:04<01:24, 42.05s/it]\u001b[A\n",
      " 80%|████████  | 4/5 [02:44<00:41, 41.51s/it]\u001b[A\n",
      "100%|██████████| 5/5 [03:25<00:00, 41.15s/it]\u001b[A\n",
      "\u001b[A"
     ]
    },
    {
     "name": "stdout",
     "output_type": "stream",
     "text": [
      "       56000000 done in  28.4 minutes\n"
     ]
    },
    {
     "name": "stderr",
     "output_type": "stream",
     "text": [
      "\n",
      "  0%|          | 0/5 [00:00<?, ?it/s]\u001b[A\n",
      " 20%|██        | 1/5 [00:43<02:53, 43.26s/it]\u001b[A\n",
      " 40%|████      | 2/5 [01:23<02:07, 42.49s/it]\u001b[A\n",
      " 60%|██████    | 3/5 [02:04<01:24, 42.02s/it]\u001b[A\n",
      " 80%|████████  | 4/5 [02:45<00:41, 41.59s/it]\u001b[A\n",
      "100%|██████████| 5/5 [03:26<00:00, 41.30s/it]\u001b[A\n",
      "\u001b[A"
     ]
    },
    {
     "name": "stdout",
     "output_type": "stream",
     "text": [
      "       63000000 done in  32.1 minutes\n"
     ]
    },
    {
     "name": "stderr",
     "output_type": "stream",
     "text": [
      "\n",
      "  0%|          | 0/5 [00:00<?, ?it/s]\u001b[A\n",
      " 20%|██        | 1/5 [00:44<02:57, 44.35s/it]\u001b[A\n",
      " 40%|████      | 2/5 [01:24<02:09, 43.15s/it]\u001b[A\n",
      " 60%|██████    | 3/5 [02:05<01:24, 42.39s/it]\u001b[A\n",
      " 80%|████████  | 4/5 [02:45<00:41, 41.77s/it]\u001b[A\n",
      "100%|██████████| 5/5 [03:25<00:00, 41.32s/it]\u001b[A\n",
      "\u001b[A"
     ]
    },
    {
     "name": "stdout",
     "output_type": "stream",
     "text": [
      "       70000000 done in  35.9 minutes\n"
     ]
    },
    {
     "name": "stderr",
     "output_type": "stream",
     "text": [
      "\n",
      "  0%|          | 0/5 [00:00<?, ?it/s]\u001b[A\n",
      " 20%|██        | 1/5 [00:45<03:00, 45.14s/it]\u001b[A\n",
      " 40%|████      | 2/5 [01:27<02:12, 44.30s/it]\u001b[A\n",
      " 60%|██████    | 3/5 [02:09<01:27, 43.70s/it]\u001b[A\n",
      " 80%|████████  | 4/5 [02:52<00:43, 43.37s/it]\u001b[A\n",
      "100%|██████████| 5/5 [03:34<00:00, 43.12s/it]\u001b[A\n",
      "\u001b[A"
     ]
    },
    {
     "name": "stdout",
     "output_type": "stream",
     "text": [
      "       77000000 done in  39.8 minutes\n"
     ]
    },
    {
     "name": "stderr",
     "output_type": "stream",
     "text": [
      "\n",
      "  0%|          | 0/5 [00:00<?, ?it/s]\u001b[A\n",
      " 20%|██        | 1/5 [00:46<03:04, 46.23s/it]\u001b[A\n",
      " 40%|████      | 2/5 [01:28<02:15, 45.07s/it]\u001b[A\n",
      " 60%|██████    | 3/5 [02:10<01:28, 44.27s/it]\u001b[A\n",
      " 80%|████████  | 4/5 [02:53<00:43, 43.70s/it]\u001b[A\n",
      "100%|██████████| 5/5 [03:35<00:00, 43.28s/it]\u001b[A\n",
      "\u001b[A"
     ]
    },
    {
     "name": "stdout",
     "output_type": "stream",
     "text": [
      "       84000000 done in  43.7 minutes\n"
     ]
    },
    {
     "name": "stderr",
     "output_type": "stream",
     "text": [
      "\n",
      "  0%|          | 0/5 [00:00<?, ?it/s]\u001b[A\n",
      " 20%|██        | 1/5 [00:45<03:00, 45.18s/it]\u001b[A\n",
      " 40%|████      | 2/5 [01:27<02:13, 44.43s/it]\u001b[A\n",
      " 60%|██████    | 3/5 [02:10<01:27, 43.86s/it]\u001b[A\n",
      " 80%|████████  | 4/5 [02:52<00:43, 43.44s/it]\u001b[A\n",
      "100%|██████████| 5/5 [03:35<00:00, 43.13s/it]\u001b[A\n",
      "\u001b[A"
     ]
    },
    {
     "name": "stdout",
     "output_type": "stream",
     "text": [
      "       91000000 done in  47.7 minutes\n"
     ]
    },
    {
     "name": "stderr",
     "output_type": "stream",
     "text": [
      "\n",
      "  0%|          | 0/5 [00:00<?, ?it/s]\u001b[A\n",
      " 20%|██        | 1/5 [00:44<02:56, 44.13s/it]\u001b[A\n",
      " 40%|████      | 2/5 [01:24<02:09, 43.01s/it]\u001b[A\n",
      " 60%|██████    | 3/5 [02:04<01:24, 42.21s/it]\u001b[A\n",
      " 80%|████████  | 4/5 [02:45<00:41, 41.64s/it]\u001b[A\n",
      "100%|██████████| 5/5 [03:25<00:00, 41.22s/it]\u001b[A\n",
      "\u001b[A"
     ]
    },
    {
     "name": "stdout",
     "output_type": "stream",
     "text": [
      "       98000000 done in  51.4 minutes\n"
     ]
    },
    {
     "name": "stderr",
     "output_type": "stream",
     "text": [
      "\n",
      "  0%|          | 0/5 [00:00<?, ?it/s]\u001b[A\n",
      " 20%|██        | 1/5 [00:44<02:56, 44.18s/it]\u001b[A\n",
      " 40%|████      | 2/5 [01:25<02:10, 43.42s/it]\u001b[A\n",
      " 60%|██████    | 3/5 [02:07<01:25, 42.91s/it]\u001b[A\n",
      " 80%|████████  | 4/5 [02:49<00:42, 42.50s/it]\u001b[A\n",
      "100%|██████████| 5/5 [03:30<00:00, 42.18s/it]\u001b[A\n",
      "\u001b[A"
     ]
    },
    {
     "name": "stdout",
     "output_type": "stream",
     "text": [
      "      105000000 done in  55.2 minutes\n"
     ]
    },
    {
     "name": "stderr",
     "output_type": "stream",
     "text": [
      "\n",
      "  0%|          | 0/5 [00:00<?, ?it/s]\u001b[A\n",
      " 20%|██        | 1/5 [00:43<02:55, 43.97s/it]\u001b[A\n",
      " 40%|████      | 2/5 [01:24<02:08, 42.87s/it]\u001b[A\n",
      " 60%|██████    | 3/5 [02:04<01:24, 42.13s/it]\u001b[A\n",
      " 80%|████████  | 4/5 [02:44<00:41, 41.55s/it]\u001b[A\n",
      "100%|██████████| 5/5 [03:24<00:00, 41.09s/it]\u001b[A\n",
      "\u001b[A"
     ]
    },
    {
     "name": "stdout",
     "output_type": "stream",
     "text": [
      "      112000000 done in  59.0 minutes\n"
     ]
    },
    {
     "name": "stderr",
     "output_type": "stream",
     "text": [
      "\n",
      "  0%|          | 0/5 [00:00<?, ?it/s]\u001b[A\n",
      " 20%|██        | 1/5 [00:42<02:51, 42.85s/it]\u001b[A\n",
      " 40%|████      | 2/5 [01:23<02:06, 42.13s/it]\u001b[A\n",
      " 60%|██████    | 3/5 [02:03<01:23, 41.68s/it]\u001b[A\n",
      " 80%|████████  | 4/5 [02:44<00:41, 41.26s/it]\u001b[A\n",
      "100%|██████████| 5/5 [03:24<00:00, 40.92s/it]\u001b[A\n",
      "\u001b[A"
     ]
    },
    {
     "name": "stdout",
     "output_type": "stream",
     "text": [
      "      119000000 done in  62.7 minutes\n"
     ]
    },
    {
     "name": "stderr",
     "output_type": "stream",
     "text": [
      "\n",
      "  0%|          | 0/5 [00:00<?, ?it/s]\u001b[A\n",
      " 20%|██        | 1/5 [00:43<02:55, 43.94s/it]\u001b[A\n",
      " 40%|████      | 2/5 [01:24<02:08, 42.82s/it]\u001b[A\n",
      " 60%|██████    | 3/5 [02:04<01:24, 42.16s/it]\u001b[A\n",
      " 80%|████████  | 4/5 [02:44<00:41, 41.55s/it]\u001b[A\n",
      "100%|██████████| 5/5 [03:24<00:00, 41.06s/it]\u001b[A\n",
      "\u001b[A"
     ]
    },
    {
     "name": "stdout",
     "output_type": "stream",
     "text": [
      "      126000000 done in  66.4 minutes\n"
     ]
    },
    {
     "name": "stderr",
     "output_type": "stream",
     "text": [
      "\n",
      "  0%|          | 0/5 [00:00<?, ?it/s]\u001b[A\n",
      " 20%|██        | 1/5 [00:42<02:51, 42.95s/it]\u001b[A\n",
      " 40%|████      | 2/5 [01:23<02:06, 42.23s/it]\u001b[A\n",
      " 60%|██████    | 3/5 [02:03<01:23, 41.66s/it]\u001b[A\n",
      " 80%|████████  | 4/5 [02:44<00:41, 41.36s/it]\u001b[A\n",
      "100%|██████████| 5/5 [03:24<00:00, 41.05s/it]\u001b[A\n",
      "\u001b[A"
     ]
    },
    {
     "name": "stdout",
     "output_type": "stream",
     "text": [
      "      133000000 done in  70.1 minutes\n"
     ]
    },
    {
     "name": "stderr",
     "output_type": "stream",
     "text": [
      "\n",
      "  0%|          | 0/5 [00:00<?, ?it/s]\u001b[A\n",
      " 20%|██        | 1/5 [00:48<03:12, 48.16s/it]\u001b[A\n",
      " 40%|████      | 2/5 [01:32<02:21, 47.07s/it]\u001b[A\n",
      " 60%|██████    | 3/5 [02:17<01:32, 46.34s/it]\u001b[A\n",
      " 80%|████████  | 4/5 [03:01<00:45, 45.76s/it]\u001b[A\n",
      "100%|██████████| 5/5 [03:46<00:00, 45.32s/it]\u001b[A\n",
      "\u001b[A"
     ]
    },
    {
     "name": "stdout",
     "output_type": "stream",
     "text": [
      "      140000000 done in  74.3 minutes\n"
     ]
    },
    {
     "name": "stderr",
     "output_type": "stream",
     "text": [
      "\n",
      "  0%|          | 0/5 [00:00<?, ?it/s]\u001b[A\n",
      " 20%|██        | 1/5 [00:43<02:52, 43.19s/it]\u001b[A\n",
      " 40%|████      | 2/5 [01:23<02:06, 42.32s/it]\u001b[A\n",
      " 60%|██████    | 3/5 [02:04<01:23, 41.81s/it]\u001b[A\n",
      " 80%|████████  | 4/5 [02:44<00:41, 41.38s/it]\u001b[A\n",
      "100%|██████████| 5/5 [03:24<00:00, 41.07s/it]\u001b[A\n",
      "\u001b[A"
     ]
    },
    {
     "name": "stdout",
     "output_type": "stream",
     "text": [
      "      147000000 done in  78.0 minutes\n"
     ]
    },
    {
     "name": "stderr",
     "output_type": "stream",
     "text": [
      "\n",
      "  0%|          | 0/5 [00:00<?, ?it/s]\u001b[A\n",
      " 20%|██        | 1/5 [00:46<03:04, 46.10s/it]\u001b[A\n",
      " 40%|████      | 2/5 [01:28<02:14, 44.99s/it]\u001b[A\n",
      " 60%|██████    | 3/5 [02:10<01:28, 44.18s/it]\u001b[A\n",
      " 80%|████████  | 4/5 [02:53<00:43, 43.66s/it]\u001b[A\n",
      "100%|██████████| 5/5 [03:35<00:00, 43.26s/it]\u001b[A\n",
      "\u001b[A"
     ]
    },
    {
     "name": "stdout",
     "output_type": "stream",
     "text": [
      "      154000000 done in  81.9 minutes\n"
     ]
    },
    {
     "name": "stderr",
     "output_type": "stream",
     "text": [
      "\n",
      "  0%|          | 0/5 [00:00<?, ?it/s]\u001b[A\n",
      " 20%|██        | 1/5 [00:42<02:51, 42.81s/it]\u001b[A\n",
      " 40%|████      | 2/5 [01:22<02:05, 41.99s/it]\u001b[A\n",
      " 60%|██████    | 3/5 [02:03<01:22, 41.48s/it]\u001b[A\n",
      " 80%|████████  | 4/5 [02:43<00:41, 41.07s/it]\u001b[A\n",
      "100%|██████████| 5/5 [03:23<00:00, 40.86s/it]\u001b[A\n",
      "\u001b[A"
     ]
    },
    {
     "name": "stdout",
     "output_type": "stream",
     "text": [
      "      161000000 done in  85.6 minutes\n"
     ]
    },
    {
     "name": "stderr",
     "output_type": "stream",
     "text": [
      "\n",
      "  0%|          | 0/5 [00:00<?, ?it/s]\u001b[A\n",
      " 20%|██        | 1/5 [00:44<02:56, 44.09s/it]\u001b[A\n",
      " 40%|████      | 2/5 [01:24<02:08, 42.98s/it]\u001b[A\n",
      " 60%|██████    | 3/5 [02:04<01:24, 42.19s/it]\u001b[A\n",
      " 80%|████████  | 4/5 [02:45<00:41, 41.66s/it]\u001b[A\n",
      "100%|██████████| 5/5 [03:27<00:00, 41.93s/it]\u001b[A\n",
      "\u001b[A"
     ]
    },
    {
     "name": "stdout",
     "output_type": "stream",
     "text": [
      "      168000000 done in  89.4 minutes\n"
     ]
    },
    {
     "name": "stderr",
     "output_type": "stream",
     "text": [
      "\n",
      "  0%|          | 0/5 [00:00<?, ?it/s]\u001b[A\n",
      " 20%|██        | 1/5 [00:45<03:03, 45.95s/it]\u001b[A\n",
      " 40%|████      | 2/5 [01:30<02:16, 45.44s/it]\u001b[A\n",
      " 60%|██████    | 3/5 [02:14<01:30, 45.12s/it]\u001b[A\n",
      " 80%|████████  | 4/5 [02:58<00:44, 44.84s/it]\u001b[A\n",
      "100%|██████████| 5/5 [03:37<00:00, 42.90s/it]\u001b[A\n",
      "\u001b[A"
     ]
    },
    {
     "name": "stdout",
     "output_type": "stream",
     "text": [
      "      175000000 done in  93.3 minutes\n"
     ]
    },
    {
     "name": "stderr",
     "output_type": "stream",
     "text": [
      "\n",
      "  0%|          | 0/5 [00:00<?, ?it/s]\u001b[A\n",
      " 20%|██        | 1/5 [00:39<02:37, 39.35s/it]\u001b[A\n",
      " 40%|████      | 2/5 [01:18<01:57, 39.21s/it]\u001b[A\n",
      " 60%|██████    | 3/5 [01:56<01:17, 38.93s/it]\u001b[A\n",
      " 80%|████████  | 4/5 [02:34<00:38, 38.66s/it]\u001b[A\n",
      "100%|██████████| 5/5 [03:11<00:00, 38.03s/it]\u001b[A\n",
      "\u001b[A"
     ]
    },
    {
     "name": "stdout",
     "output_type": "stream",
     "text": [
      "      182000000 done in  96.7 minutes\n"
     ]
    },
    {
     "name": "stderr",
     "output_type": "stream",
     "text": [
      "\n",
      "  0%|          | 0/5 [00:00<?, ?it/s]\u001b[A\n",
      " 20%|██        | 1/5 [00:39<02:37, 39.42s/it]\u001b[A\n",
      " 40%|████      | 2/5 [01:17<01:57, 39.11s/it]\u001b[A\n",
      " 60%|██████    | 3/5 [01:56<01:17, 38.94s/it]\u001b[A\n",
      " 80%|████████  | 4/5 [02:34<00:38, 38.72s/it]\u001b[A\n",
      "100%|██████████| 5/5 [03:12<00:00, 38.61s/it]\u001b[A\n",
      "\u001b[A"
     ]
    },
    {
     "name": "stdout",
     "output_type": "stream",
     "text": [
      "      189000000 done in 100.1 minutes\n"
     ]
    },
    {
     "name": "stderr",
     "output_type": "stream",
     "text": [
      "\n",
      "  0%|          | 0/5 [00:00<?, ?it/s]\u001b[A\n",
      " 20%|██        | 1/5 [00:39<02:38, 39.63s/it]\u001b[A\n",
      " 40%|████      | 2/5 [01:18<01:57, 39.27s/it]\u001b[A\n",
      " 60%|██████    | 3/5 [01:56<01:18, 39.07s/it]\u001b[A\n",
      " 80%|████████  | 4/5 [02:35<00:38, 38.91s/it]\u001b[A\n",
      "100%|██████████| 5/5 [03:13<00:00, 38.79s/it]\u001b[A\n",
      "\u001b[A"
     ]
    },
    {
     "name": "stdout",
     "output_type": "stream",
     "text": [
      "      196000000 done in 103.5 minutes\n"
     ]
    },
    {
     "name": "stderr",
     "output_type": "stream",
     "text": [
      "\n",
      "  0%|          | 0/5 [00:00<?, ?it/s]\u001b[A\n",
      " 20%|██        | 1/5 [00:37<02:28, 37.06s/it]\u001b[A\n",
      " 40%|████      | 2/5 [01:13<01:50, 36.84s/it]\u001b[A\n",
      " 60%|██████    | 3/5 [01:49<01:13, 36.71s/it]\u001b[A\n",
      " 80%|████████  | 4/5 [02:26<00:36, 36.64s/it]\u001b[A\n",
      "100%|██████████| 5/5 [03:02<00:00, 36.42s/it]\u001b[A\n",
      "\u001b[A"
     ]
    },
    {
     "name": "stdout",
     "output_type": "stream",
     "text": [
      "      203000000 done in 106.8 minutes\n"
     ]
    },
    {
     "name": "stderr",
     "output_type": "stream",
     "text": [
      "\n",
      "  0%|          | 0/5 [00:00<?, ?it/s]\u001b[A\n",
      " 20%|██        | 1/5 [00:37<02:28, 37.14s/it]\u001b[A\n",
      " 40%|████      | 2/5 [01:12<01:50, 36.71s/it]\u001b[A\n",
      " 60%|██████    | 3/5 [01:48<01:12, 36.46s/it]\u001b[A\n",
      " 80%|████████  | 4/5 [02:24<00:36, 36.21s/it]\u001b[A\n",
      "100%|██████████| 5/5 [03:00<00:00, 36.05s/it]\u001b[A\n",
      "\u001b[A"
     ]
    },
    {
     "name": "stdout",
     "output_type": "stream",
     "text": [
      "      210000000 done in 110.0 minutes\n"
     ]
    },
    {
     "name": "stderr",
     "output_type": "stream",
     "text": [
      "\n",
      "  0%|          | 0/5 [00:00<?, ?it/s]\u001b[A\n",
      " 20%|██        | 1/5 [00:39<02:39, 39.77s/it]\u001b[A\n",
      " 40%|████      | 2/5 [01:18<01:58, 39.35s/it]\u001b[A\n",
      " 60%|██████    | 3/5 [01:56<01:18, 39.14s/it]\u001b[A\n",
      " 80%|████████  | 4/5 [02:35<00:38, 38.91s/it]\u001b[A\n",
      "100%|██████████| 5/5 [03:13<00:00, 38.72s/it]\u001b[A\n",
      "\u001b[A"
     ]
    },
    {
     "name": "stdout",
     "output_type": "stream",
     "text": [
      "      217000000 done in 113.4 minutes\n"
     ]
    },
    {
     "name": "stderr",
     "output_type": "stream",
     "text": [
      "\n",
      "  0%|          | 0/5 [00:00<?, ?it/s]\u001b[A\n",
      " 20%|██        | 1/5 [00:38<02:32, 38.18s/it]\u001b[A\n",
      " 40%|████      | 2/5 [01:14<01:53, 37.69s/it]\u001b[A\n",
      " 60%|██████    | 3/5 [01:51<01:14, 37.39s/it]\u001b[A\n",
      " 80%|████████  | 4/5 [02:28<00:37, 37.22s/it]\u001b[A\n",
      "100%|██████████| 5/5 [03:05<00:00, 37.08s/it]\u001b[A\n",
      "\u001b[A"
     ]
    },
    {
     "name": "stdout",
     "output_type": "stream",
     "text": [
      "      224000000 done in 116.7 minutes\n"
     ]
    },
    {
     "name": "stderr",
     "output_type": "stream",
     "text": [
      "\n",
      "  0%|          | 0/5 [00:00<?, ?it/s]\u001b[A\n",
      " 20%|██        | 1/5 [00:36<02:24, 36.09s/it]\u001b[A\n",
      " 40%|████      | 2/5 [01:11<01:47, 35.74s/it]\u001b[A\n",
      " 60%|██████    | 3/5 [01:46<01:11, 35.62s/it]\u001b[A\n",
      " 80%|████████  | 4/5 [02:21<00:35, 35.41s/it]\u001b[A\n",
      "100%|██████████| 5/5 [02:56<00:00, 35.21s/it]\u001b[A\n",
      "\u001b[A"
     ]
    },
    {
     "name": "stdout",
     "output_type": "stream",
     "text": [
      "      231000000 done in 119.8 minutes\n"
     ]
    },
    {
     "name": "stderr",
     "output_type": "stream",
     "text": [
      "\n",
      "  0%|          | 0/5 [00:00<?, ?it/s]\u001b[A\n",
      " 20%|██        | 1/5 [00:36<02:24, 36.20s/it]\u001b[A\n",
      " 40%|████      | 2/5 [01:11<01:47, 35.84s/it]\u001b[A\n",
      " 60%|██████    | 3/5 [01:46<01:11, 35.57s/it]\u001b[A\n",
      " 80%|████████  | 4/5 [02:21<00:35, 35.38s/it]\u001b[A\n",
      "100%|██████████| 5/5 [02:56<00:00, 35.28s/it]\u001b[A\n",
      "\u001b[A"
     ]
    },
    {
     "name": "stdout",
     "output_type": "stream",
     "text": [
      "      238000000 done in 122.9 minutes\n"
     ]
    },
    {
     "name": "stderr",
     "output_type": "stream",
     "text": [
      "\n",
      "  0%|          | 0/5 [00:00<?, ?it/s]\u001b[A\n",
      " 20%|██        | 1/5 [00:35<02:23, 35.88s/it]\u001b[A\n",
      " 40%|████      | 2/5 [01:10<01:46, 35.62s/it]\u001b[A\n",
      " 60%|██████    | 3/5 [01:46<01:10, 35.48s/it]\u001b[A\n",
      " 80%|████████  | 4/5 [02:20<00:35, 35.30s/it]\u001b[A\n",
      "100%|██████████| 5/5 [02:55<00:00, 35.10s/it]\u001b[A\n",
      "\u001b[A"
     ]
    },
    {
     "name": "stdout",
     "output_type": "stream",
     "text": [
      "      245000000 done in 126.1 minutes\n"
     ]
    },
    {
     "name": "stderr",
     "output_type": "stream",
     "text": [
      "\n",
      "  0%|          | 0/5 [00:00<?, ?it/s]\u001b[A\n",
      " 20%|██        | 1/5 [00:37<02:30, 37.56s/it]\u001b[A\n",
      " 40%|████      | 2/5 [01:13<01:51, 37.11s/it]\u001b[A\n",
      " 60%|██████    | 3/5 [01:50<01:13, 36.91s/it]\u001b[A\n",
      " 80%|████████  | 4/5 [02:26<00:36, 36.68s/it]\u001b[A\n",
      "100%|██████████| 5/5 [03:02<00:00, 36.55s/it]\u001b[A\n",
      "\u001b[A"
     ]
    },
    {
     "name": "stdout",
     "output_type": "stream",
     "text": [
      "      252000000 done in 129.3 minutes\n"
     ]
    },
    {
     "name": "stderr",
     "output_type": "stream",
     "text": [
      "\n",
      "  0%|          | 0/5 [00:00<?, ?it/s]\u001b[A\n",
      " 20%|██        | 1/5 [00:35<02:23, 35.86s/it]\u001b[A\n",
      " 40%|████      | 2/5 [01:10<01:46, 35.49s/it]\u001b[A\n",
      " 60%|██████    | 3/5 [01:45<01:10, 35.23s/it]\u001b[A\n",
      " 80%|████████  | 4/5 [02:19<00:35, 35.02s/it]\u001b[A\n",
      "100%|██████████| 5/5 [02:54<00:00, 34.86s/it]\u001b[A\n",
      "\u001b[A"
     ]
    },
    {
     "name": "stdout",
     "output_type": "stream",
     "text": [
      "      259000000 done in 132.4 minutes\n"
     ]
    },
    {
     "name": "stderr",
     "output_type": "stream",
     "text": [
      "\n",
      "  0%|          | 0/5 [00:00<?, ?it/s]\u001b[A\n",
      " 20%|██        | 1/5 [00:36<02:26, 36.56s/it]\u001b[A\n",
      " 40%|████      | 2/5 [01:11<01:48, 36.09s/it]\u001b[A\n",
      " 60%|██████    | 3/5 [01:46<01:11, 35.75s/it]\u001b[A\n",
      " 80%|████████  | 4/5 [02:21<00:35, 35.49s/it]\u001b[A\n",
      "100%|██████████| 5/5 [02:56<00:00, 35.36s/it]\u001b[A\n",
      "\u001b[A"
     ]
    },
    {
     "name": "stdout",
     "output_type": "stream",
     "text": [
      "      266000000 done in 135.5 minutes\n"
     ]
    },
    {
     "name": "stderr",
     "output_type": "stream",
     "text": [
      "\n",
      "  0%|          | 0/5 [00:00<?, ?it/s]\u001b[A\n",
      " 20%|██        | 1/5 [00:39<02:39, 39.78s/it]\u001b[A\n",
      " 40%|████      | 2/5 [01:18<01:58, 39.46s/it]\u001b[A\n",
      " 60%|██████    | 3/5 [01:56<01:18, 39.10s/it]\u001b[A\n",
      " 80%|████████  | 4/5 [02:35<00:38, 38.87s/it]\u001b[A\n",
      "100%|██████████| 5/5 [03:13<00:00, 38.76s/it]\u001b[A\n",
      "\u001b[A"
     ]
    },
    {
     "name": "stdout",
     "output_type": "stream",
     "text": [
      "      273000000 done in 139.0 minutes\n"
     ]
    },
    {
     "name": "stderr",
     "output_type": "stream",
     "text": [
      "\n",
      "  0%|          | 0/5 [00:00<?, ?it/s]\u001b[A\n",
      " 20%|██        | 1/5 [00:37<02:29, 37.34s/it]\u001b[A\n",
      " 40%|████      | 2/5 [01:13<01:50, 36.97s/it]\u001b[A\n",
      " 60%|██████    | 3/5 [01:49<01:13, 36.71s/it]\u001b[A\n",
      " 80%|████████  | 4/5 [02:26<00:36, 36.73s/it]\u001b[A\n",
      "100%|██████████| 5/5 [03:02<00:00, 36.50s/it]\u001b[A\n",
      "\u001b[A"
     ]
    },
    {
     "name": "stdout",
     "output_type": "stream",
     "text": [
      "      280000000 done in 142.2 minutes\n"
     ]
    },
    {
     "name": "stderr",
     "output_type": "stream",
     "text": [
      "\n",
      "  0%|          | 0/5 [00:00<?, ?it/s]\u001b[A\n",
      " 20%|██        | 1/5 [00:38<02:34, 38.61s/it]\u001b[A\n",
      " 40%|████      | 2/5 [01:15<01:54, 38.01s/it]\u001b[A\n",
      " 60%|██████    | 3/5 [01:51<01:15, 37.60s/it]\u001b[A\n",
      " 80%|████████  | 4/5 [02:28<00:37, 37.34s/it]\u001b[A\n",
      "100%|██████████| 5/5 [03:05<00:00, 37.11s/it]\u001b[A\n",
      "\u001b[A"
     ]
    },
    {
     "name": "stdout",
     "output_type": "stream",
     "text": [
      "      287000000 done in 145.5 minutes\n"
     ]
    },
    {
     "name": "stderr",
     "output_type": "stream",
     "text": [
      "\n",
      "  0%|          | 0/5 [00:00<?, ?it/s]\u001b[A\n",
      " 20%|██        | 1/5 [00:39<02:38, 39.65s/it]\u001b[A\n",
      " 40%|████      | 2/5 [01:18<01:58, 39.35s/it]\u001b[A\n",
      " 60%|██████    | 3/5 [01:57<01:18, 39.16s/it]\u001b[A\n",
      " 80%|████████  | 4/5 [02:35<00:38, 38.91s/it]\u001b[A\n",
      "100%|██████████| 5/5 [03:13<00:00, 38.76s/it]\u001b[A\n",
      "\u001b[A"
     ]
    },
    {
     "name": "stdout",
     "output_type": "stream",
     "text": [
      "      294000000 done in 148.9 minutes\n"
     ]
    },
    {
     "name": "stderr",
     "output_type": "stream",
     "text": [
      "\n",
      "  0%|          | 0/5 [00:00<?, ?it/s]\u001b[A\n",
      " 20%|██        | 1/5 [00:37<02:29, 37.45s/it]\u001b[A\n",
      " 40%|████      | 2/5 [01:13<01:51, 37.06s/it]\u001b[A\n",
      " 60%|██████    | 3/5 [01:49<01:13, 36.85s/it]\u001b[A\n",
      " 80%|████████  | 4/5 [02:26<00:36, 36.66s/it]\u001b[A\n",
      "100%|██████████| 5/5 [03:02<00:00, 36.46s/it]\u001b[A\n",
      "\u001b[A"
     ]
    },
    {
     "name": "stdout",
     "output_type": "stream",
     "text": [
      "      301000000 done in 152.1 minutes\n"
     ]
    },
    {
     "name": "stderr",
     "output_type": "stream",
     "text": [
      "\n",
      "  0%|          | 0/5 [00:00<?, ?it/s]\u001b[A\n",
      " 20%|██        | 1/5 [00:37<02:29, 37.46s/it]\u001b[A\n",
      " 40%|████      | 2/5 [01:14<01:51, 37.29s/it]\u001b[A\n",
      " 60%|██████    | 3/5 [01:50<01:14, 37.06s/it]\u001b[A\n",
      " 80%|████████  | 4/5 [02:26<00:36, 36.77s/it]\u001b[A\n",
      "100%|██████████| 5/5 [03:03<00:00, 36.61s/it]\u001b[A\n",
      "\u001b[A"
     ]
    },
    {
     "name": "stdout",
     "output_type": "stream",
     "text": [
      "      308000000 done in 155.4 minutes\n"
     ]
    },
    {
     "name": "stderr",
     "output_type": "stream",
     "text": [
      "\n",
      "  0%|          | 0/5 [00:00<?, ?it/s]\u001b[A\n",
      " 20%|██        | 1/5 [00:35<02:22, 35.69s/it]\u001b[A\n",
      " 40%|████      | 2/5 [01:10<01:46, 35.50s/it]\u001b[A\n",
      " 60%|██████    | 3/5 [01:45<01:10, 35.39s/it]\u001b[A\n",
      " 80%|████████  | 4/5 [02:20<00:35, 35.30s/it]\u001b[A\n",
      "100%|██████████| 5/5 [02:55<00:00, 35.09s/it]\u001b[A\n",
      "\u001b[A"
     ]
    },
    {
     "name": "stdout",
     "output_type": "stream",
     "text": [
      "      315000000 done in 158.5 minutes\n"
     ]
    },
    {
     "name": "stderr",
     "output_type": "stream",
     "text": [
      "\n",
      "  0%|          | 0/5 [00:00<?, ?it/s]\u001b[A\n",
      " 20%|██        | 1/5 [00:36<02:24, 36.06s/it]\u001b[A\n",
      " 40%|████      | 2/5 [01:11<01:47, 35.73s/it]\u001b[A\n",
      " 60%|██████    | 3/5 [01:46<01:11, 35.53s/it]\u001b[A\n",
      " 80%|████████  | 4/5 [02:21<00:35, 35.48s/it]\u001b[A\n",
      "100%|██████████| 5/5 [02:56<00:00, 35.25s/it]\u001b[A\n",
      "\u001b[A"
     ]
    },
    {
     "name": "stdout",
     "output_type": "stream",
     "text": [
      "      322000000 done in 161.6 minutes\n"
     ]
    },
    {
     "name": "stderr",
     "output_type": "stream",
     "text": [
      "\n",
      "  0%|          | 0/5 [00:00<?, ?it/s]\u001b[A\n",
      " 20%|██        | 1/5 [00:35<02:22, 35.75s/it]\u001b[A\n",
      " 40%|████      | 2/5 [01:10<01:46, 35.37s/it]\u001b[A\n",
      " 60%|██████    | 3/5 [01:44<01:10, 35.18s/it]\u001b[A\n",
      " 80%|████████  | 4/5 [02:19<00:34, 34.97s/it]\u001b[A\n",
      "100%|██████████| 5/5 [02:53<00:00, 34.81s/it]\u001b[A\n",
      "\u001b[A"
     ]
    },
    {
     "name": "stdout",
     "output_type": "stream",
     "text": [
      "      329000000 done in 164.7 minutes\n"
     ]
    },
    {
     "name": "stderr",
     "output_type": "stream",
     "text": [
      "\n",
      "  0%|          | 0/5 [00:00<?, ?it/s]\u001b[A\n",
      " 20%|██        | 1/5 [00:39<02:38, 39.71s/it]\u001b[A\n",
      " 40%|████      | 2/5 [01:18<01:57, 39.29s/it]\u001b[A\n",
      " 60%|██████    | 3/5 [01:56<01:18, 39.07s/it]\u001b[A\n",
      " 80%|████████  | 4/5 [02:35<00:38, 38.90s/it]\u001b[A\n",
      "100%|██████████| 5/5 [03:13<00:00, 38.78s/it]\u001b[A\n",
      "\u001b[A"
     ]
    },
    {
     "name": "stdout",
     "output_type": "stream",
     "text": [
      "      336000000 done in 168.2 minutes\n"
     ]
    },
    {
     "name": "stderr",
     "output_type": "stream",
     "text": [
      "\n",
      "  0%|          | 0/5 [00:00<?, ?it/s]\u001b[A\n",
      " 20%|██        | 1/5 [00:37<02:28, 37.12s/it]\u001b[A\n",
      " 40%|████      | 2/5 [01:12<01:49, 36.66s/it]\u001b[A\n",
      " 60%|██████    | 3/5 [01:48<01:12, 36.40s/it]\u001b[A\n",
      " 80%|████████  | 4/5 [02:24<00:36, 36.19s/it]\u001b[A\n",
      "100%|██████████| 5/5 [03:00<00:00, 36.13s/it]\u001b[A\n",
      "\u001b[A"
     ]
    },
    {
     "name": "stdout",
     "output_type": "stream",
     "text": [
      "      343000000 done in 171.3 minutes\n"
     ]
    },
    {
     "name": "stderr",
     "output_type": "stream",
     "text": [
      "\n",
      "  0%|          | 0/5 [00:00<?, ?it/s]\u001b[A\n",
      " 20%|██        | 1/5 [00:36<02:25, 36.27s/it]\u001b[A\n",
      " 40%|████      | 2/5 [01:11<01:47, 35.90s/it]\u001b[A\n",
      " 60%|██████    | 3/5 [01:46<01:11, 35.55s/it]\u001b[A\n",
      " 80%|████████  | 4/5 [02:20<00:35, 35.24s/it]\u001b[A\n",
      "100%|██████████| 5/5 [02:55<00:00, 35.09s/it]\u001b[A\n",
      "\u001b[A"
     ]
    },
    {
     "name": "stdout",
     "output_type": "stream",
     "text": [
      "      350000000 done in 174.5 minutes\n"
     ]
    },
    {
     "name": "stderr",
     "output_type": "stream",
     "text": [
      "\n",
      "  0%|          | 0/5 [00:00<?, ?it/s]\u001b[A\n",
      " 20%|██        | 1/5 [00:36<02:24, 36.02s/it]\u001b[A\n",
      " 40%|████      | 2/5 [01:10<01:46, 35.59s/it]\u001b[A\n",
      " 60%|██████    | 3/5 [01:45<01:10, 35.24s/it]\u001b[A\n",
      " 80%|████████  | 4/5 [02:19<00:35, 35.08s/it]\u001b[A\n",
      "100%|██████████| 5/5 [02:54<00:00, 34.89s/it]\u001b[A\n",
      "\u001b[A"
     ]
    },
    {
     "name": "stdout",
     "output_type": "stream",
     "text": [
      "      357000000 done in 177.5 minutes\n"
     ]
    },
    {
     "name": "stderr",
     "output_type": "stream",
     "text": [
      "\n",
      "  0%|          | 0/5 [00:00<?, ?it/s]\u001b[A\n",
      " 20%|██        | 1/5 [00:35<02:22, 35.66s/it]\u001b[A\n",
      " 40%|████      | 2/5 [01:10<01:46, 35.38s/it]\u001b[A\n",
      " 60%|██████    | 3/5 [01:44<01:10, 35.10s/it]\u001b[A\n",
      " 80%|████████  | 4/5 [02:19<00:34, 34.95s/it]\u001b[A\n",
      "100%|██████████| 5/5 [02:54<00:00, 34.85s/it]\u001b[A\n",
      "\u001b[A"
     ]
    },
    {
     "name": "stdout",
     "output_type": "stream",
     "text": [
      "      364000000 done in 180.6 minutes\n"
     ]
    },
    {
     "name": "stderr",
     "output_type": "stream",
     "text": [
      "\n",
      "  0%|          | 0/5 [00:00<?, ?it/s]\u001b[A\n",
      " 20%|██        | 1/5 [00:36<02:27, 36.89s/it]\u001b[A\n",
      " 40%|████      | 2/5 [01:12<01:49, 36.51s/it]\u001b[A\n",
      " 60%|██████    | 3/5 [01:48<01:12, 36.35s/it]\u001b[A\n",
      " 80%|████████  | 4/5 [02:24<00:36, 36.27s/it]\u001b[A\n",
      "100%|██████████| 5/5 [03:00<00:00, 36.13s/it]\u001b[A\n",
      "\u001b[A"
     ]
    },
    {
     "name": "stdout",
     "output_type": "stream",
     "text": [
      "      371000000 done in 183.8 minutes\n"
     ]
    },
    {
     "name": "stderr",
     "output_type": "stream",
     "text": [
      "\n",
      "  0%|          | 0/5 [00:00<?, ?it/s]\u001b[A\n",
      " 20%|██        | 1/5 [00:38<02:34, 38.61s/it]\u001b[A\n",
      " 40%|████      | 2/5 [01:15<01:54, 38.06s/it]\u001b[A\n",
      " 60%|██████    | 3/5 [01:51<01:15, 37.57s/it]\u001b[A\n",
      " 80%|████████  | 4/5 [02:28<00:37, 37.25s/it]\u001b[A\n",
      "100%|██████████| 5/5 [03:04<00:00, 37.02s/it]\u001b[A\n",
      "\u001b[A"
     ]
    },
    {
     "name": "stdout",
     "output_type": "stream",
     "text": [
      "      378000000 done in 187.1 minutes\n"
     ]
    },
    {
     "name": "stderr",
     "output_type": "stream",
     "text": [
      "\n",
      "  0%|          | 0/5 [00:00<?, ?it/s]\u001b[A\n",
      " 20%|██        | 1/5 [00:36<02:24, 36.13s/it]\u001b[A\n",
      " 40%|████      | 2/5 [01:10<01:47, 35.70s/it]\u001b[A\n",
      " 60%|██████    | 3/5 [01:45<01:10, 35.49s/it]\u001b[A\n",
      " 80%|████████  | 4/5 [02:21<00:35, 35.47s/it]\u001b[A\n",
      "100%|██████████| 5/5 [02:55<00:00, 35.22s/it]\u001b[A\n",
      "\u001b[A"
     ]
    },
    {
     "name": "stdout",
     "output_type": "stream",
     "text": [
      "      385000000 done in 190.2 minutes\n"
     ]
    },
    {
     "name": "stderr",
     "output_type": "stream",
     "text": [
      "\n",
      "  0%|          | 0/5 [00:00<?, ?it/s]\u001b[A\n",
      " 20%|██        | 1/5 [00:35<02:23, 35.94s/it]\u001b[A\n",
      " 40%|████      | 2/5 [01:10<01:46, 35.59s/it]\u001b[A\n",
      " 60%|██████    | 3/5 [01:46<01:11, 35.52s/it]\u001b[A\n",
      " 80%|████████  | 4/5 [02:20<00:35, 35.31s/it]\u001b[A\n",
      "100%|██████████| 5/5 [02:55<00:00, 35.14s/it]\u001b[A\n",
      "\u001b[A"
     ]
    },
    {
     "name": "stdout",
     "output_type": "stream",
     "text": [
      "      392000000 done in 193.4 minutes\n"
     ]
    },
    {
     "name": "stderr",
     "output_type": "stream",
     "text": [
      "\n",
      "  0%|          | 0/5 [00:00<?, ?it/s]\u001b[A\n",
      " 20%|██        | 1/5 [00:39<02:38, 39.70s/it]\u001b[A\n",
      " 40%|████      | 2/5 [01:18<01:58, 39.33s/it]\u001b[A\n",
      " 60%|██████    | 3/5 [01:56<01:18, 39.14s/it]\u001b[A\n",
      " 80%|████████  | 4/5 [02:35<00:38, 38.97s/it]\u001b[A\n",
      "100%|██████████| 5/5 [03:13<00:00, 38.78s/it]\u001b[A\n",
      "\u001b[A"
     ]
    },
    {
     "name": "stdout",
     "output_type": "stream",
     "text": [
      "      399000000 done in 196.8 minutes\n"
     ]
    },
    {
     "name": "stderr",
     "output_type": "stream",
     "text": [
      "\n",
      "  0%|          | 0/5 [00:00<?, ?it/s]\u001b[A\n",
      " 20%|██        | 1/5 [00:39<02:38, 39.60s/it]\u001b[A\n",
      " 40%|████      | 2/5 [01:17<01:57, 39.17s/it]\u001b[A\n",
      " 60%|██████    | 3/5 [01:56<01:18, 39.01s/it]\u001b[A\n",
      " 80%|████████  | 4/5 [02:34<00:38, 38.78s/it]\u001b[A\n",
      "100%|██████████| 5/5 [03:12<00:00, 38.62s/it]\u001b[A\n",
      "\u001b[A"
     ]
    },
    {
     "name": "stdout",
     "output_type": "stream",
     "text": [
      "      406000000 done in 200.2 minutes\n"
     ]
    },
    {
     "name": "stderr",
     "output_type": "stream",
     "text": [
      "\n",
      "  0%|          | 0/5 [00:00<?, ?it/s]\u001b[A\n",
      " 20%|██        | 1/5 [00:39<02:39, 39.80s/it]\u001b[A\n",
      " 40%|████      | 2/5 [01:18<01:58, 39.38s/it]\u001b[A\n",
      " 60%|██████    | 3/5 [01:56<01:18, 39.14s/it]\u001b[A\n",
      " 80%|████████  | 4/5 [02:35<00:38, 38.95s/it]\u001b[A\n",
      "100%|██████████| 5/5 [03:13<00:00, 38.76s/it]\u001b[A\n",
      "\u001b[A"
     ]
    },
    {
     "name": "stdout",
     "output_type": "stream",
     "text": [
      "      413000000 done in 203.6 minutes\n"
     ]
    },
    {
     "name": "stderr",
     "output_type": "stream",
     "text": [
      "\n",
      "  0%|          | 0/5 [00:00<?, ?it/s]\u001b[A\n",
      " 20%|██        | 1/5 [00:37<02:31, 37.96s/it]\u001b[A\n",
      " 40%|████      | 2/5 [01:14<01:52, 37.49s/it]\u001b[A\n",
      " 60%|██████    | 3/5 [01:50<01:14, 37.17s/it]\u001b[A\n",
      " 80%|████████  | 4/5 [02:27<00:36, 36.97s/it]\u001b[A\n",
      "100%|██████████| 5/5 [03:03<00:00, 36.88s/it]\u001b[A\n",
      "\u001b[A"
     ]
    },
    {
     "name": "stdout",
     "output_type": "stream",
     "text": [
      "      420000000 done in 206.9 minutes\n"
     ]
    },
    {
     "name": "stderr",
     "output_type": "stream",
     "text": [
      "\n",
      "  0%|          | 0/5 [00:00<?, ?it/s]\u001b[A\n",
      " 20%|██        | 1/5 [00:36<02:24, 36.22s/it]\u001b[A\n",
      " 40%|████      | 2/5 [01:10<01:47, 35.71s/it]\u001b[A\n",
      " 60%|██████    | 3/5 [01:45<01:11, 35.50s/it]\u001b[A\n",
      " 80%|████████  | 4/5 [02:20<00:35, 35.20s/it]\u001b[A\n",
      "100%|██████████| 5/5 [02:54<00:00, 34.95s/it]\u001b[A\n",
      "\u001b[A"
     ]
    },
    {
     "name": "stdout",
     "output_type": "stream",
     "text": [
      "      427000000 done in 210.0 minutes\n"
     ]
    },
    {
     "name": "stderr",
     "output_type": "stream",
     "text": [
      "\n",
      "  0%|          | 0/5 [00:00<?, ?it/s]\u001b[A\n",
      " 20%|██        | 1/5 [00:36<02:25, 36.44s/it]\u001b[A\n",
      " 40%|████      | 2/5 [01:11<01:48, 36.04s/it]\u001b[A\n",
      " 60%|██████    | 3/5 [01:46<01:11, 35.85s/it]\u001b[A\n",
      " 80%|████████  | 4/5 [02:23<00:36, 36.08s/it]\u001b[A\n",
      "100%|██████████| 5/5 [03:01<00:00, 36.66s/it]\u001b[A\n",
      "\u001b[A"
     ]
    },
    {
     "name": "stdout",
     "output_type": "stream",
     "text": [
      "      434000000 done in 213.2 minutes\n"
     ]
    },
    {
     "name": "stderr",
     "output_type": "stream",
     "text": [
      "\n",
      "  0%|          | 0/5 [00:00<?, ?it/s]\u001b[A\n",
      " 20%|██        | 1/5 [00:35<02:22, 35.61s/it]\u001b[A\n",
      " 40%|████      | 2/5 [01:10<01:46, 35.35s/it]\u001b[A\n",
      " 60%|██████    | 3/5 [01:51<01:14, 37.17s/it]\u001b[A\n",
      " 80%|████████  | 4/5 [02:29<00:37, 37.35s/it]\u001b[A\n",
      "100%|██████████| 5/5 [03:07<00:00, 37.55s/it]\u001b[A\n",
      "\u001b[A"
     ]
    },
    {
     "name": "stdout",
     "output_type": "stream",
     "text": [
      "      441000000 done in 216.5 minutes\n"
     ]
    },
    {
     "name": "stderr",
     "output_type": "stream",
     "text": [
      "\n",
      "  0%|          | 0/5 [00:00<?, ?it/s]\u001b[A\n",
      " 20%|██        | 1/5 [00:39<02:37, 39.43s/it]\u001b[A\n",
      " 40%|████      | 2/5 [01:15<01:55, 38.49s/it]\u001b[A\n",
      " 60%|██████    | 3/5 [01:50<01:14, 37.28s/it]\u001b[A\n",
      " 80%|████████  | 4/5 [02:25<00:36, 36.59s/it]\u001b[A\n",
      "100%|██████████| 5/5 [02:59<00:00, 35.93s/it]\u001b[A\n",
      "\u001b[A"
     ]
    },
    {
     "name": "stdout",
     "output_type": "stream",
     "text": [
      "      448000000 done in 219.7 minutes\n"
     ]
    },
    {
     "name": "stderr",
     "output_type": "stream",
     "text": [
      "\n",
      "  0%|          | 0/5 [00:00<?, ?it/s]\u001b[A\n",
      " 20%|██        | 1/5 [00:32<02:08, 32.12s/it]\u001b[A\n",
      " 40%|████      | 2/5 [01:03<01:35, 31.83s/it]\u001b[A\n",
      " 60%|██████    | 3/5 [01:34<01:03, 31.66s/it]\u001b[A\n",
      " 80%|████████  | 4/5 [02:05<00:31, 31.48s/it]\u001b[A\n",
      "100%|██████████| 5/5 [02:36<00:00, 31.39s/it]\u001b[A\n",
      "\u001b[A"
     ]
    },
    {
     "name": "stdout",
     "output_type": "stream",
     "text": [
      "      455000000 done in 222.5 minutes\n"
     ]
    },
    {
     "name": "stderr",
     "output_type": "stream",
     "text": [
      "\n",
      "  0%|          | 0/5 [00:00<?, ?it/s]\u001b[A\n",
      "100%|██████████| 5/5 [00:00<00:00, 114.55it/s]\u001b[A"
     ]
    }
   ],
   "source": [
    "process_test(models = models,used_features = col_fea,filename='predictions.csv',chunks=7000000)"
   ]
  },
  {
   "cell_type": "code",
   "execution_count": 88,
   "metadata": {},
   "outputs": [
    {
     "data": {
      "text/plain": [
       "967"
      ]
     },
     "execution_count": 88,
     "metadata": {},
     "output_type": "execute_result"
    }
   ],
   "source": [
    "del _\n",
    "gc.collect()"
   ]
  },
  {
   "cell_type": "markdown",
   "metadata": {},
   "source": [
    "### 预测结果提交\n",
    "#### 预测结果后处理"
   ]
  },
  {
   "cell_type": "code",
   "execution_count": 113,
   "metadata": {},
   "outputs": [],
   "source": [
    "submit = pd.read_csv('baseline_predictions.csv')\n",
    "submit.drop_duplicates(subset=['object_id'],keep='first',inplace=True)"
   ]
  },
  {
   "cell_type": "code",
   "execution_count": 120,
   "metadata": {},
   "outputs": [
    {
     "data": {
      "text/html": [
       "<div>\n",
       "<style scoped>\n",
       "    .dataframe tbody tr th:only-of-type {\n",
       "        vertical-align: middle;\n",
       "    }\n",
       "\n",
       "    .dataframe tbody tr th {\n",
       "        vertical-align: top;\n",
       "    }\n",
       "\n",
       "    .dataframe thead th {\n",
       "        text-align: right;\n",
       "    }\n",
       "</style>\n",
       "<table border=\"1\" class=\"dataframe\">\n",
       "  <thead>\n",
       "    <tr style=\"text-align: right;\">\n",
       "      <th></th>\n",
       "      <th>class_0</th>\n",
       "      <th>class_1</th>\n",
       "      <th>class_2</th>\n",
       "      <th>class_3</th>\n",
       "      <th>class_4</th>\n",
       "      <th>class_5</th>\n",
       "      <th>class_6</th>\n",
       "      <th>class_7</th>\n",
       "      <th>class_8</th>\n",
       "      <th>class_9</th>\n",
       "      <th>class_10</th>\n",
       "      <th>class_11</th>\n",
       "      <th>class_12</th>\n",
       "      <th>class_13</th>\n",
       "      <th>class_99</th>\n",
       "      <th>object_id</th>\n",
       "    </tr>\n",
       "  </thead>\n",
       "  <tbody>\n",
       "    <tr>\n",
       "      <th>0</th>\n",
       "      <td>0.000384</td>\n",
       "      <td>0.004261</td>\n",
       "      <td>0.000358</td>\n",
       "      <td>0.216941</td>\n",
       "      <td>0.409497</td>\n",
       "      <td>0.000337</td>\n",
       "      <td>0.140003</td>\n",
       "      <td>0.000426</td>\n",
       "      <td>0.000456</td>\n",
       "      <td>0.010932</td>\n",
       "      <td>0.000697</td>\n",
       "      <td>0.211692</td>\n",
       "      <td>0.000329</td>\n",
       "      <td>0.003687</td>\n",
       "      <td>0.154153</td>\n",
       "      <td>13</td>\n",
       "    </tr>\n",
       "    <tr>\n",
       "      <th>1</th>\n",
       "      <td>0.000369</td>\n",
       "      <td>0.006735</td>\n",
       "      <td>0.000339</td>\n",
       "      <td>0.073323</td>\n",
       "      <td>0.044512</td>\n",
       "      <td>0.000294</td>\n",
       "      <td>0.060661</td>\n",
       "      <td>0.003375</td>\n",
       "      <td>0.000827</td>\n",
       "      <td>0.027022</td>\n",
       "      <td>0.001811</td>\n",
       "      <td>0.764291</td>\n",
       "      <td>0.000309</td>\n",
       "      <td>0.016132</td>\n",
       "      <td>0.093013</td>\n",
       "      <td>14</td>\n",
       "    </tr>\n",
       "    <tr>\n",
       "      <th>2</th>\n",
       "      <td>0.000412</td>\n",
       "      <td>0.009216</td>\n",
       "      <td>0.000458</td>\n",
       "      <td>0.093409</td>\n",
       "      <td>0.039812</td>\n",
       "      <td>0.000337</td>\n",
       "      <td>0.032833</td>\n",
       "      <td>0.001456</td>\n",
       "      <td>0.000867</td>\n",
       "      <td>0.096100</td>\n",
       "      <td>0.010751</td>\n",
       "      <td>0.684024</td>\n",
       "      <td>0.000350</td>\n",
       "      <td>0.029975</td>\n",
       "      <td>0.114471</td>\n",
       "      <td>17</td>\n",
       "    </tr>\n",
       "    <tr>\n",
       "      <th>3</th>\n",
       "      <td>0.000433</td>\n",
       "      <td>0.003803</td>\n",
       "      <td>0.000403</td>\n",
       "      <td>0.090059</td>\n",
       "      <td>0.051822</td>\n",
       "      <td>0.000372</td>\n",
       "      <td>0.053133</td>\n",
       "      <td>0.001824</td>\n",
       "      <td>0.000804</td>\n",
       "      <td>0.168319</td>\n",
       "      <td>0.001326</td>\n",
       "      <td>0.590438</td>\n",
       "      <td>0.000369</td>\n",
       "      <td>0.036895</td>\n",
       "      <td>0.133461</td>\n",
       "      <td>23</td>\n",
       "    </tr>\n",
       "    <tr>\n",
       "      <th>4</th>\n",
       "      <td>0.000430</td>\n",
       "      <td>0.009546</td>\n",
       "      <td>0.000421</td>\n",
       "      <td>0.087677</td>\n",
       "      <td>0.128922</td>\n",
       "      <td>0.000394</td>\n",
       "      <td>0.100304</td>\n",
       "      <td>0.000999</td>\n",
       "      <td>0.000700</td>\n",
       "      <td>0.183443</td>\n",
       "      <td>0.000460</td>\n",
       "      <td>0.484312</td>\n",
       "      <td>0.000386</td>\n",
       "      <td>0.002004</td>\n",
       "      <td>0.149026</td>\n",
       "      <td>34</td>\n",
       "    </tr>\n",
       "  </tbody>\n",
       "</table>\n",
       "</div>"
      ],
      "text/plain": [
       "    class_0   class_1   class_2   class_3   class_4   class_5   class_6  \\\n",
       "0  0.000384  0.004261  0.000358  0.216941  0.409497  0.000337  0.140003   \n",
       "1  0.000369  0.006735  0.000339  0.073323  0.044512  0.000294  0.060661   \n",
       "2  0.000412  0.009216  0.000458  0.093409  0.039812  0.000337  0.032833   \n",
       "3  0.000433  0.003803  0.000403  0.090059  0.051822  0.000372  0.053133   \n",
       "4  0.000430  0.009546  0.000421  0.087677  0.128922  0.000394  0.100304   \n",
       "\n",
       "    class_7   class_8   class_9  class_10  class_11  class_12  class_13  \\\n",
       "0  0.000426  0.000456  0.010932  0.000697  0.211692  0.000329  0.003687   \n",
       "1  0.003375  0.000827  0.027022  0.001811  0.764291  0.000309  0.016132   \n",
       "2  0.001456  0.000867  0.096100  0.010751  0.684024  0.000350  0.029975   \n",
       "3  0.001824  0.000804  0.168319  0.001326  0.590438  0.000369  0.036895   \n",
       "4  0.000999  0.000700  0.183443  0.000460  0.484312  0.000386  0.002004   \n",
       "\n",
       "   class_99  object_id  \n",
       "0  0.154153         13  \n",
       "1  0.093013         14  \n",
       "2  0.114471         17  \n",
       "3  0.133461         23  \n",
       "4  0.149026         34  "
      ]
     },
     "execution_count": 120,
     "metadata": {},
     "output_type": "execute_result"
    }
   ],
   "source": [
    "submit.head()"
   ]
  },
  {
   "cell_type": "markdown",
   "metadata": {},
   "source": [
    "#### header处理\n",
    "- 将预测结果的header转换为符合要求的header"
   ]
  },
  {
   "cell_type": "code",
   "execution_count": 121,
   "metadata": {},
   "outputs": [],
   "source": [
    "submit_columns = []\n",
    "for col in submit.columns:\n",
    "    if '_' in col:\n",
    "        try:\n",
    "            submit_columns.append(col.split('_')[0] + '_' + str(lb_2_underline[int(col.split('_')[1])]))\n",
    "        except:\n",
    "            submit_columns.append(col)\n",
    "\n",
    "submit.columns = submit_columns "
   ]
  },
  {
   "cell_type": "code",
   "execution_count": 122,
   "metadata": {},
   "outputs": [
    {
     "data": {
      "text/html": [
       "<div>\n",
       "<style scoped>\n",
       "    .dataframe tbody tr th:only-of-type {\n",
       "        vertical-align: middle;\n",
       "    }\n",
       "\n",
       "    .dataframe tbody tr th {\n",
       "        vertical-align: top;\n",
       "    }\n",
       "\n",
       "    .dataframe thead th {\n",
       "        text-align: right;\n",
       "    }\n",
       "</style>\n",
       "<table border=\"1\" class=\"dataframe\">\n",
       "  <thead>\n",
       "    <tr style=\"text-align: right;\">\n",
       "      <th></th>\n",
       "      <th>class_6</th>\n",
       "      <th>class_15</th>\n",
       "      <th>class_16</th>\n",
       "      <th>class_42</th>\n",
       "      <th>class_52</th>\n",
       "      <th>class_53</th>\n",
       "      <th>class_62</th>\n",
       "      <th>class_64</th>\n",
       "      <th>class_65</th>\n",
       "      <th>class_67</th>\n",
       "      <th>class_88</th>\n",
       "      <th>class_90</th>\n",
       "      <th>class_92</th>\n",
       "      <th>class_95</th>\n",
       "      <th>class_99</th>\n",
       "      <th>object_id</th>\n",
       "    </tr>\n",
       "  </thead>\n",
       "  <tbody>\n",
       "    <tr>\n",
       "      <th>0</th>\n",
       "      <td>0.000384</td>\n",
       "      <td>0.004261</td>\n",
       "      <td>0.000358</td>\n",
       "      <td>0.216941</td>\n",
       "      <td>0.409497</td>\n",
       "      <td>0.000337</td>\n",
       "      <td>0.140003</td>\n",
       "      <td>0.000426</td>\n",
       "      <td>0.000456</td>\n",
       "      <td>0.010932</td>\n",
       "      <td>0.000697</td>\n",
       "      <td>0.211692</td>\n",
       "      <td>0.000329</td>\n",
       "      <td>0.003687</td>\n",
       "      <td>0.154153</td>\n",
       "      <td>13</td>\n",
       "    </tr>\n",
       "    <tr>\n",
       "      <th>1</th>\n",
       "      <td>0.000369</td>\n",
       "      <td>0.006735</td>\n",
       "      <td>0.000339</td>\n",
       "      <td>0.073323</td>\n",
       "      <td>0.044512</td>\n",
       "      <td>0.000294</td>\n",
       "      <td>0.060661</td>\n",
       "      <td>0.003375</td>\n",
       "      <td>0.000827</td>\n",
       "      <td>0.027022</td>\n",
       "      <td>0.001811</td>\n",
       "      <td>0.764291</td>\n",
       "      <td>0.000309</td>\n",
       "      <td>0.016132</td>\n",
       "      <td>0.093013</td>\n",
       "      <td>14</td>\n",
       "    </tr>\n",
       "    <tr>\n",
       "      <th>2</th>\n",
       "      <td>0.000412</td>\n",
       "      <td>0.009216</td>\n",
       "      <td>0.000458</td>\n",
       "      <td>0.093409</td>\n",
       "      <td>0.039812</td>\n",
       "      <td>0.000337</td>\n",
       "      <td>0.032833</td>\n",
       "      <td>0.001456</td>\n",
       "      <td>0.000867</td>\n",
       "      <td>0.096100</td>\n",
       "      <td>0.010751</td>\n",
       "      <td>0.684024</td>\n",
       "      <td>0.000350</td>\n",
       "      <td>0.029975</td>\n",
       "      <td>0.114471</td>\n",
       "      <td>17</td>\n",
       "    </tr>\n",
       "    <tr>\n",
       "      <th>3</th>\n",
       "      <td>0.000433</td>\n",
       "      <td>0.003803</td>\n",
       "      <td>0.000403</td>\n",
       "      <td>0.090059</td>\n",
       "      <td>0.051822</td>\n",
       "      <td>0.000372</td>\n",
       "      <td>0.053133</td>\n",
       "      <td>0.001824</td>\n",
       "      <td>0.000804</td>\n",
       "      <td>0.168319</td>\n",
       "      <td>0.001326</td>\n",
       "      <td>0.590438</td>\n",
       "      <td>0.000369</td>\n",
       "      <td>0.036895</td>\n",
       "      <td>0.133461</td>\n",
       "      <td>23</td>\n",
       "    </tr>\n",
       "    <tr>\n",
       "      <th>4</th>\n",
       "      <td>0.000430</td>\n",
       "      <td>0.009546</td>\n",
       "      <td>0.000421</td>\n",
       "      <td>0.087677</td>\n",
       "      <td>0.128922</td>\n",
       "      <td>0.000394</td>\n",
       "      <td>0.100304</td>\n",
       "      <td>0.000999</td>\n",
       "      <td>0.000700</td>\n",
       "      <td>0.183443</td>\n",
       "      <td>0.000460</td>\n",
       "      <td>0.484312</td>\n",
       "      <td>0.000386</td>\n",
       "      <td>0.002004</td>\n",
       "      <td>0.149026</td>\n",
       "      <td>34</td>\n",
       "    </tr>\n",
       "  </tbody>\n",
       "</table>\n",
       "</div>"
      ],
      "text/plain": [
       "    class_6  class_15  class_16  class_42  class_52  class_53  class_62  \\\n",
       "0  0.000384  0.004261  0.000358  0.216941  0.409497  0.000337  0.140003   \n",
       "1  0.000369  0.006735  0.000339  0.073323  0.044512  0.000294  0.060661   \n",
       "2  0.000412  0.009216  0.000458  0.093409  0.039812  0.000337  0.032833   \n",
       "3  0.000433  0.003803  0.000403  0.090059  0.051822  0.000372  0.053133   \n",
       "4  0.000430  0.009546  0.000421  0.087677  0.128922  0.000394  0.100304   \n",
       "\n",
       "   class_64  class_65  class_67  class_88  class_90  class_92  class_95  \\\n",
       "0  0.000426  0.000456  0.010932  0.000697  0.211692  0.000329  0.003687   \n",
       "1  0.003375  0.000827  0.027022  0.001811  0.764291  0.000309  0.016132   \n",
       "2  0.001456  0.000867  0.096100  0.010751  0.684024  0.000350  0.029975   \n",
       "3  0.001824  0.000804  0.168319  0.001326  0.590438  0.000369  0.036895   \n",
       "4  0.000999  0.000700  0.183443  0.000460  0.484312  0.000386  0.002004   \n",
       "\n",
       "   class_99  object_id  \n",
       "0  0.154153         13  \n",
       "1  0.093013         14  \n",
       "2  0.114471         17  \n",
       "3  0.133461         23  \n",
       "4  0.149026         34  "
      ]
     },
     "execution_count": 122,
     "metadata": {},
     "output_type": "execute_result"
    }
   ],
   "source": [
    "submit.head()"
   ]
  },
  {
   "cell_type": "markdown",
   "metadata": {},
   "source": [
    "#### 预测结果的类型转换\n",
    "- 因为预测结果文件较大，提交会比较耗时,所以我们将其转换为float16型再提交"
   ]
  },
  {
   "cell_type": "code",
   "execution_count": 123,
   "metadata": {},
   "outputs": [],
   "source": [
    "def _trans_float16(df, cols): \n",
    "    for col in cols:\n",
    "        df[col] = df[col].astype(np.float16)\n",
    "    return df\n",
    "\n",
    "\n",
    "float16_cols = [col for col in  submit.columns if 'class' in col]\n",
    "submit = _trans_float16(submit, float16_cols)  \n",
    "\n",
    "submit['object_id'] = submit['object_id'].astype(int) "
   ]
  },
  {
   "cell_type": "markdown",
   "metadata": {},
   "source": [
    "#### 得分: 1.37856, 排名: 575 / 1094"
   ]
  },
  {
   "cell_type": "code",
   "execution_count": 125,
   "metadata": {},
   "outputs": [],
   "source": [
    "submit.to_csv('baseline.csv',index = None)"
   ]
  },
  {
   "cell_type": "markdown",
   "metadata": {},
   "source": [
    "# 小结\n",
    "\n",
    "上面的内容我们给出了本次赛题的EDA部分,EDA分成两块,一块是主要是了解一下数据的基础信息,包括数据的类型,数据中特征的分布,缺失的情况等;然后我们又观察了标签的分布情况并简单的分析了特征与标签的关系。 \n",
    "\n",
    "再对这些基础信息进行了简单的分析之后,我们很快的建立了自己的线下验证方案同时按照我们之前在Inscart提取特征工程的框架对特征进行了提取,有兴趣的可以参考Inscart比赛的特征工程部分:https://mp.weixin.qq.com/s?__biz=MzU1Nzc1NjI0Nw==&mid=2247483747&idx=1&sn=d3064ddc9ace8afcf3b4c2eb7b55b289&chksm=fc31bb5bcb46324d8937a5a8c42723d06272f006ca339dc58781a6d0a8c22abb58c50ff1d19e&token=1191986856&lang=zh_CN#rd\n",
    "\n",
    "这边我们发现我们的结果线下线上差异比较大,那么至于如何通过分析来减小线下CV与线上结果的差距呢,欢迎关注本公众号,在下一章节中,我们会重点探讨：\n",
    "\n",
    "1. 如何寻找训练集与测试集的分布差异,同时我们会给出一种处理分布差异较大的特征的方案;\n",
    "2. 如何对时序序列提取高阶的强特,让我们的模型能更好的理解这种时间序列信息;\n",
    "3. 如何通过神经网络建模来处理同时带有时序信息又带有其他辅助特征的情况。\n"
   ]
  }
 ],
 "metadata": {
  "kernelspec": {
   "display_name": "Python 3",
   "language": "python",
   "name": "python3"
  },
  "language_info": {
   "codemirror_mode": {
    "name": "ipython",
    "version": 3
   },
   "file_extension": ".py",
   "mimetype": "text/x-python",
   "name": "python",
   "nbconvert_exporter": "python",
   "pygments_lexer": "ipython3",
   "version": "3.6.4"
  },
  "toc": {
   "nav_menu": {},
   "number_sections": true,
   "sideBar": true,
   "skip_h1_title": false,
   "title_cell": "Table of Contents",
   "title_sidebar": "Contents",
   "toc_cell": true,
   "toc_position": {
    "height": "calc(100% - 180px)",
    "left": "10px",
    "top": "150px",
    "width": "384px"
   },
   "toc_section_display": true,
   "toc_window_display": true
  }
 },
 "nbformat": 4,
 "nbformat_minor": 2
}
