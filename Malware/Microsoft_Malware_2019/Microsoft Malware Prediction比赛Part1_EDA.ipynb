{
 "cells": [
  {
   "cell_type": "markdown",
   "metadata": {
    "toc": true
   },
   "source": [
    "<h1>Table of Contents<span class=\"tocSkip\"></span></h1>\n",
    "<div class=\"toc\"><ul class=\"toc-item\"><li><span><a href=\"#比赛介绍\" data-toc-modified-id=\"比赛介绍-1\"><span class=\"toc-item-num\">1&nbsp;&nbsp;</span>比赛介绍</a></span><ul class=\"toc-item\"><li><span><a href=\"#比赛背景\" data-toc-modified-id=\"比赛背景-1.1\"><span class=\"toc-item-num\">1.1&nbsp;&nbsp;</span>比赛背景</a></span></li><li><span><a href=\"#数据字段介绍\" data-toc-modified-id=\"数据字段介绍-1.2\"><span class=\"toc-item-num\">1.2&nbsp;&nbsp;</span>数据字段介绍</a></span></li></ul></li><li><span><a href=\"#工具包-&amp;-数据导入\" data-toc-modified-id=\"工具包-&amp;-数据导入-2\"><span class=\"toc-item-num\">2&nbsp;&nbsp;</span>工具包 &amp; 数据导入</a></span><ul class=\"toc-item\"><li><span><a href=\"#工具包导入\" data-toc-modified-id=\"工具包导入-2.1\"><span class=\"toc-item-num\">2.1&nbsp;&nbsp;</span>工具包导入</a></span></li><li><span><a href=\"#自定义工具包\" data-toc-modified-id=\"自定义工具包-2.2\"><span class=\"toc-item-num\">2.2&nbsp;&nbsp;</span>自定义工具包</a></span></li><li><span><a href=\"#数据导入\" data-toc-modified-id=\"数据导入-2.3\"><span class=\"toc-item-num\">2.3&nbsp;&nbsp;</span>数据导入</a></span><ul class=\"toc-item\"><li><span><a href=\"#预处理,将数据格式进行转换并进行存储\" data-toc-modified-id=\"预处理,将数据格式进行转换并进行存储-2.3.1\"><span class=\"toc-item-num\">2.3.1&nbsp;&nbsp;</span>预处理,将数据格式进行转换并进行存储</a></span></li></ul></li></ul></li><li><span><a href=\"#数据EDA\" data-toc-modified-id=\"数据EDA-3\"><span class=\"toc-item-num\">3&nbsp;&nbsp;</span>数据EDA</a></span><ul class=\"toc-item\"><li><span><a href=\"#基础信息（大小,nunique）\" data-toc-modified-id=\"基础信息（大小,nunique）-3.1\"><span class=\"toc-item-num\">3.1&nbsp;&nbsp;</span>基础信息（大小,nunique）</a></span></li><li><span><a href=\"#字段观测\" data-toc-modified-id=\"字段观测-3.2\"><span class=\"toc-item-num\">3.2&nbsp;&nbsp;</span>字段观测</a></span><ul class=\"toc-item\"><li><span><a href=\"#版本信息\" data-toc-modified-id=\"版本信息-3.2.1\"><span class=\"toc-item-num\">3.2.1&nbsp;&nbsp;</span>版本信息</a></span></li><li><span><a href=\"#数值信息理解\" data-toc-modified-id=\"数值信息理解-3.2.2\"><span class=\"toc-item-num\">3.2.2&nbsp;&nbsp;</span>数值信息理解</a></span></li></ul></li><li><span><a href=\"#数据筛选纠错\" data-toc-modified-id=\"数据筛选纠错-3.3\"><span class=\"toc-item-num\">3.3&nbsp;&nbsp;</span>数据筛选纠错</a></span><ul class=\"toc-item\"><li><span><a href=\"#替换AvSigVersion中的错误值\" data-toc-modified-id=\"替换AvSigVersion中的错误值-3.3.1\"><span class=\"toc-item-num\">3.3.1&nbsp;&nbsp;</span>替换AvSigVersion中的错误值</a></span></li><li><span><a href=\"#替换OsBuildLab中的某些值\" data-toc-modified-id=\"替换OsBuildLab中的某些值-3.3.2\"><span class=\"toc-item-num\">3.3.2&nbsp;&nbsp;</span>替换OsBuildLab中的某些值</a></span></li></ul></li><li><span><a href=\"#缺失值分析\" data-toc-modified-id=\"缺失值分析-3.4\"><span class=\"toc-item-num\">3.4&nbsp;&nbsp;</span>缺失值分析</a></span></li><li><span><a href=\"#标签分析\" data-toc-modified-id=\"标签分析-3.5\"><span class=\"toc-item-num\">3.5&nbsp;&nbsp;</span>标签分析</a></span></li><li><span><a href=\"#标签-&amp;-缺失异常特征比较\" data-toc-modified-id=\"标签-&amp;-缺失异常特征比较-3.6\"><span class=\"toc-item-num\">3.6&nbsp;&nbsp;</span>标签 &amp; 缺失异常特征比较</a></span></li><li><span><a href=\"#数据存储\" data-toc-modified-id=\"数据存储-3.7\"><span class=\"toc-item-num\">3.7&nbsp;&nbsp;</span>数据存储</a></span></li></ul></li><li><span><a href=\"#小结\" data-toc-modified-id=\"小结-4\"><span class=\"toc-item-num\">4&nbsp;&nbsp;</span>小结</a></span></li></ul></div>"
   ]
  },
  {
   "cell_type": "markdown",
   "metadata": {},
   "source": [
    "# 比赛介绍\n",
    "\n",
    "## 比赛背景\n",
    "\n",
    "此次比赛的目标是预测Windows机器受到各种恶意软件家族的感染的概率，基于不同机器的不同性质，遥测数据包含了这些性质，同时机器是否感染是由Microsoft端点(Windows Defender)保护解决方案收集的重要特征和威胁报告生成， \n",
    "\n",
    "数据的每一行对应一台机器，由机器标识符进行唯一标识,HasDetections是真实值,这个值显示了是否机器检测除了恶意软件。 使用train.csv数据集中的这些信息以及label,你需要预测测试集中每个机器是否HasDetections。\n",
    "\n",
    "我们构建该数据集采用的采样的方法是满足某些特定的业务约束， 同时关于用户隐私以及机器运行的时间段，恶意软件检测本质上是一个时序检测问题，但是由于新机器的引入，情况变得更加复杂。此处提供的数据集是被时间戳所划分开的,上面提到的复杂性和取样要求可能意味着您可能看到交叉验证之间的不完全一致,public的分数以及private的分数,另外，这个数据集并不代表微软客户的机器，它已经被抽样以包括更大比例的恶意软件机器。 \n"
   ]
  },
  {
   "cell_type": "markdown",
   "metadata": {},
   "source": [
    "## 数据字段介绍\n",
    "\n",
    "1. MachineIdentifier-单个机器的ID\n",
    "2. ProductName - 维护者状态信息,例如win8defender \n",
    "3. EngineVersion - 维护者状态信息,例如1.1.12603.0 \n",
    "4. AppVersion - 维护者的状态信息,例如 4.9.10586.0\n",
    "5. AvSigVersion - 维护者的状态信息,例如1.217.1014.0\n",
    "6. IsBeta -  维护者的状态信息,例如否\n",
    "7. RtpStateBitfield - NA\n",
    "8. IsSxsPassiveMode - NA\n",
    "9. DefaultBrowsersIdentifier - 机器默认浏览器的ID \n",
    "10. AVProductStatesIdentifier - 用户反病毒软件的特定配置 ID for the specific configuration of a user's antivirus software\n",
    "11. AVProductsInstalled - NA\n",
    "12. AVProductsEnabled - NA\n",
    "13. HasTpm - 如果该值为True,那么机器有<font color=red>tpm</font>\n",
    "14. CountryIdentifier - 机器所在国家的ID \n",
    "15. CityIdentifier -机器所在国家的城市ID\n",
    "16. OrganizationIdentifier - 机器所属组织的ID，组织ID映射到特定公司和广泛行业\n",
    "17. GeoNameIdentifier - 机器所在的地里区域 \n",
    "18. LocaleEnglishNameIdentifier - 当前用户的地区ID的英文名称\n",
    "19. Platform - 计算平台名称 (操作系统相关的性质以及处理器的性质 \n",
    "20. Processor - 这是已安装的操作系统的流程体系结构\n",
    "21. OsVer - 当前操作系统的版本 \n",
    "22. OsBuild - 当前操作系统的构建\n",
    "23. OsSuite - 当前操作系统的产品套件掩码\n",
    "24. OsPlatformSubRelease - 返回操作系统平台的子版本 (Windows Vista, Windows 7, Windows 8, TH1, TH2)\n",
    "25. OsBuildLab - 生成当前OS的实验室（Build LAB）. Example: 9600.17630.amd64fre.winblue_r7.150109-2022\n",
    "26. SkuEdition - The goal of this feature is to use the Product Type defined in the MSDN to map to a 'SKU-Edition' name that is useful in population reporting. The valid Product Type are defined in %sdxroot%\\data\\windowseditions.xml. This API has been used since Vista and Server 2008, so there are many Product Types that do not apply to Windows 10. The 'SKU-Edition' is a string value that is in one of three classes of results. The design must hand each class.\n",
    "27. IsProtected - 这是由Spynet Report的AV Products计算的字段， True的话就说明至少有一个激活的以及最新的反病毒产品运行在该机器上；如果为False，则在该机器上没有激活的AV产品,或者存在激活的AV软件但是没有受到最新的更新。NULL则说明没有在此报告中没有AC产品Returns: Whether a machine is protected.\n",
    "28. AutoSampleOptIn - 这是从服务传入的SubmitSamples.nt值，在CAMP 9+可以获取\n",
    "29. PuaMode - 服务中的<font color=red>Pua</font>启用模式\n",
    "30. SMode - 当设备处于S Mode则该字段被设置为True,与Windows 10 S模式一样，其中只能安装Microsoft Store应用程序\n",
    "31. IeVerIdentifier - NA\n",
    "32. SmartScreen - 这是注册表中启用SmartScreen的字符串值。这是通过按顺序检查获得的，HKLM\\SOFTWARE\\Policies\\Microsoft\\Windows\\System\\SmartScreenEnabled and HKLM\\SOFTWARE\\Microsoft\\Windows\\CurrentVersion\\Explorer\\SmartScreenEnabled. 如果该值存在但为空，则在遥测中发送值“ExistsNotSet”。\n",
    "33. Firewall - 对于win8.1以及以上的版本,如果windows防火墙被启动，则该属性的值为1,as reported by the service.\n",
    "34. UacLuaenable - 此属性报告UAC中是否禁用或启用了“Admin Approval Mode中的管理员”用户类型，这个值是通过读取regkey HKLM\\SOFTWARE\\Microsoft\\Windows\\CurrentVersion\\Policies\\System\\EnableLUA.得到;\n",
    "35. Census_MDC2FormFactor - 基于设备普查级别硬件特性的组合的分组。 用于定义Form Factor的逻辑植根于业务和行业标准，并与人们对其设备的看法一致。例如 (Examples: Smartphone, Small Tablet, All in One, Convertible...)\n",
    "36. Census_DeviceFamily - 又名设备类型,该字段反映设备的类型,用于指示版本打算用于的设备类型。例如： Windows.Desktop, Windows.Mobile, and iOS.Phone\n",
    "37. Census_OEMNameIdentifier - NA\n",
    "38. Census_OEMModelIdentifier - NA\n",
    "39. Census_ProcessorCoreCount - 处理器中逻辑核的数目\n",
    "40. Census_ProcessorManufacturerIdentifier - NA\n",
    "41. Census_ProcessorModelIdentifier - NA\n",
    "42. Census_ProcessorClass - 把处理器分成高/中/低。最初用于定价级别SKU。不再维护和更新\n",
    "43. Census_PrimaryDiskTotalCapacity - 机器主磁盘上的磁盘空间量（以MB为单位）\n",
    "44. Census_PrimaryDiskTypeName - 主磁盘类型的友好名称 - HDD or SSD\n",
    "45. Census_SystemVolumeTotalCapacity - 系统卷所安装的分区的大小，以MB为单位  \n",
    "46. Census_HasOpticalDiskDrive - True意味着机器具有光盘驱动器(CD/DVD)\n",
    "47. Census_TotalPhysicalRAM - 检索物理RAM(单位是MB)   \n",
    "48. Census_ChassisTypeName - 检索机器的底盘类型的数字表示. A value of 0 means xx\n",
    "49. Census_InternalPrimaryDiagonalDisplaySizeInInches - 检索主显示器英寸的物理对角线长度\n",
    "50. Census_InternalPrimaryDisplayResolutionHorizontal - 检索内部显示的水平方向上的像素数.\n",
    "51. Census_InternalPrimaryDisplayResolutionVertical - 检索内部显示器垂直方向上的像素数\n",
    "52. Census_PowerPlatformRoleName - 指示OEM首选电源管理配置文件.这个值有助于识别设备的基本形状因素\n",
    "53. Census_InternalBatteryType - NA\n",
    "54. Census_InternalBatteryNumberOfCharges - NA\n",
    "55. Census_OSVersion - Numeric OS version Example - 10.0.10130.0\n",
    "56. Census_OSArchitecture - 操作系统所基于的架构。源自OSVersionFull。 Example - amd64\n",
    "57. Census_OSBranch - 从OsVersionFull中提取的OS分支。例如：OsBranch = fbl_partner_eeap where OsVersion = 6.4.9813.0.amd64fre.fbl_partner_eeap.140810-0005\n",
    "58. Census_OSBuildNumber - 从OsVersionFull中提取的OS构建编号，例如: OsBuildNumber = 10512 or 10240\n",
    "59. Census_OSBuildRevision -  从OsVersionFull中提取的操作系统构建修订,例如: - OsBuildRevision = 1000 or 16458\n",
    "60. Census_OSEdition - 当前操作系统的版本. 来源于HKLM\\Software\\Microsoft\\Windows NT\\CurrentVersion@EditionID in registry. Example: Enterprise\n",
    "61. Census_OSSkuName - 操作系统版本友好名称(currently Windows only)\n",
    "62. Census_OSInstallTypeName - 友好地描述在机器上使用了什么安装,例如clean \n",
    "63. Census_OSInstallLanguageIdentifier - NA\n",
    "64. Census_OSUILocaleIdentifier - NA\n",
    "65. Census_OSWUAutoUpdateOptionsName - 机器上的WindowsUpdate自动更新设置的友好名称。\n",
    "66. Census_IsPortableOperatingSystem - 指示是否通过USB棒上的Windows-To-Go启动和运行OS。\n",
    "67. Census_GenuineStateName -OSGenuineStateID的友好名称 0 = Genuine\n",
    "68. Census_ActivationChannel - 计算机的零售许可证密钥或卷许可证密钥.\n",
    "69. Census_IsFlightingInternal - NA\n",
    "70. Census_IsFlightsDisabled - 指示机器是否参与飞行\n",
    "71. Census_FlightRing - The ring that the device user would like to receive flights for. This might be different from the ring of the OS which is currently installed if the user changes the ring after getting a flight from a different ring.\n",
    "72. Census_ThresholdOptIn - NA\n",
    "73. Census_FirmwareManufacturerIdentifier - NA\n",
    "74. Census_FirmwareVersionIdentifier - NA\n",
    "75. Census_IsSecureBootEnabled - 指示是否启用了安全引导模式\n",
    "76. Census_IsWIMBootEnabled - NA\n",
    "77. Census_IsVirtualDevice - 识别虚拟机（机器学习模型）\n",
    "78. Census_IsTouchEnabled - 是否是触摸装置？\n",
    "79. Census_IsPenCapable - 这个装置能用笔输入吗 ?\n",
    "80. Census_IsAlwaysOnAlwaysConnectedCapable - 获取关于电池是否使设备能够被AlwaysOnAlwaysConnected的信息\n",
    "81. Wdft_IsGamer - 基于硬件组合指示设备是否为游戏设备;\n",
    "82. Wdft_RegionIdentifier - NA"
   ]
  },
  {
   "cell_type": "markdown",
   "metadata": {},
   "source": [
    "# 工具包 & 数据导入\n",
    "## 工具包导入"
   ]
  },
  {
   "cell_type": "code",
   "execution_count": 1,
   "metadata": {},
   "outputs": [
    {
     "name": "stderr",
     "output_type": "stream",
     "text": [
      "/opt/conda/envs/zjpy36/lib/python3.6/site-packages/h5py/__init__.py:36: FutureWarning: Conversion of the second argument of issubdtype from `float` to `np.floating` is deprecated. In future, it will be treated as `np.float64 == np.dtype(float).type`.\n",
      "  from ._conv import register_converters as _register_converters\n",
      "Using TensorFlow backend.\n"
     ]
    }
   ],
   "source": [
    "## 数据工具包\n",
    "import pandas as pd\n",
    "import numpy as np\n",
    "np.random.seed(42)\n",
    "\n",
    "from tqdm import tqdm\n",
    "## 字符串处理工具包\n",
    "\n",
    "import string\n",
    "import re\n",
    "import gensim\n",
    "from collections import Counter\n",
    "import pickle\n",
    "from nltk.corpus import stopwords\n",
    "\n",
    "from sklearn.feature_extraction.text import TfidfVectorizer\n",
    "from sklearn.decomposition import TruncatedSVD \n",
    "from sklearn.preprocessing import StandardScaler\n",
    "from sklearn.model_selection import train_test_split\n",
    "from sklearn.metrics import roc_auc_score\n",
    "from sklearn.model_selection import KFold\n",
    "from keras.preprocessing import text, sequence \n",
    "\n",
    "import warnings\n",
    "warnings.filterwarnings('ignore')\n",
    "\n",
    "import xgboost as xgb\n",
    "import lightgbm as lgb\n",
    "from functools import partial\n",
    "\n",
    "import os \n",
    "import gc\n",
    "from scipy.sparse import vstack  \n",
    "import time\n",
    "import multiprocessing as mp\n",
    "import seaborn as sns\n",
    "%matplotlib inline"
   ]
  },
  {
   "cell_type": "markdown",
   "metadata": {},
   "source": [
    "## 自定义工具包"
   ]
  },
  {
   "cell_type": "code",
   "execution_count": 2,
   "metadata": {},
   "outputs": [],
   "source": [
    "import seaborn as sns\n",
    "import matplotlib.pyplot as plt\n",
    "import pandas as pd\n",
    "\n",
    "class Jie_Plots:\n",
    "    def __init__(self):\n",
    "        pass\n",
    "\n",
    "    '''\n",
    "        Give barplot for categorical data\n",
    "    '''\n",
    "    def _categorical_data_barplot(self, df, colname):\n",
    "        df_plot = pd.DataFrame(df[colname].value_counts()).reset_index()\n",
    "        df_plot.columns = [colname, colname + '_count']\n",
    "        if df_plot.shape[0] >= 200:\n",
    "            print('More than 200 different categories, sorry we will only plot the top 200')\n",
    "            df = df.iloc[:200,:]\n",
    "        sns.barplot( x=colname, y = colname + '_count', data=df_plot) \n",
    "        \n",
    "        \n",
    "    def my_graphs1(df, col_name, label_name, rotation=45, explode =-1):\n",
    "        '''\n",
    "        This function creates two graphs: categories distribution (pie chart) and fraction of infected machines in each category (bar graph).\n",
    "        It accepts explode and rotation arguments to increase the clarity of the pie chart as well.\n",
    "        '''\n",
    "        category = df[col_name].unique().tolist()\n",
    "        totals=[]\n",
    "        infected=[]\n",
    "        for item in category:\n",
    "            a = (df[col_name]==item).sum()\n",
    "            totals.append(a)\n",
    "            infected.append((df[df[col_name]==item][label_name]==1).sum()/a)\n",
    "\n",
    "        #creating a summary dataframe\n",
    "        df_plot = pd.DataFrame({\"Total\":totals,\"Infected\": infected}, index=category).sort_values(\"Total\", ascending=False) \n",
    "        fig, ax = plt.subplots(ncols=2, nrows=1,figsize=(20,8))\n",
    "\n",
    "        #creating a pie chart with conditional explode option\n",
    "        if explode==-1:\n",
    "            ax[0].pie(df_plot[df_plot[\"Total\"]>500][\"Total\"], labels=df_plot[df_plot[\"Total\"]>500].index.values, autopct='%1.1f%%',shadow=False, startangle=rotation, textprops={'fontsize': 15})\n",
    "        else:\n",
    "            ax[0].pie(df_plot[df_plot[\"Total\"]>500][\"Total\"], labels=df_plot[df_plot[\"Total\"]>500].index.values, autopct='%1.1f%%',shadow=False, startangle=rotation, textprops={'fontsize': 15}, explode=explode)\n",
    "        ax[0].axis('equal')\n",
    "        ax[0].set_title(col_name)\n",
    "\n",
    "        #created a sorted bar chart\n",
    "        df_plot.sort_values(\"Infected\", ascending=False, inplace=True)\n",
    "        ax[1].set_xticklabels(category,rotation=45, horizontalalignment='right')\n",
    "        ax[1].set_title('Infected fractions')\n",
    "        ax[1] = sns.barplot(x=df_plot.index, y=\"Infected\",data=df_plot)\n",
    "        plt.show()\n",
    "        \n",
    "jplt = Jie_Plots()"
   ]
  },
  {
   "cell_type": "code",
   "execution_count": 3,
   "metadata": {},
   "outputs": [],
   "source": [
    "import numpy as np\n",
    "import pandas as pd\n",
    "from tqdm import tqdm \n",
    "class _Data_Preprocess:\n",
    "    def __init__(self):\n",
    "        self.int8_max =  np.iinfo(np.int8).max\n",
    "        self.int8_min =  np.iinfo(np.int8).min\n",
    "        \n",
    "        self.int16_max =  np.iinfo(np.int16).max\n",
    "        self.int16_min =  np.iinfo(np.int16).min\n",
    "      \n",
    "        self.int32_max =  np.iinfo(np.int32).max\n",
    "        self.int32_min =  np.iinfo(np.int32).min\n",
    "      \n",
    "        self.int64_max =  np.iinfo(np.int64).max\n",
    "        self.int64_min =  np.iinfo(np.int64).min\n",
    "        \n",
    "        self.float16_max =  np.finfo(np.float16).max\n",
    "        self.float16_min =  np.finfo(np.float16).min\n",
    "        \n",
    "        self.float32_max =  np.finfo(np.float32).max\n",
    "        self.float32_min =  np.finfo(np.float32).min\n",
    "      \n",
    "        self.float64_max =  np.finfo(np.float64).max\n",
    "        self.float64_min =  np.finfo(np.float64).min\n",
    "         \n",
    "    \n",
    "    '''\n",
    "    function: _get_type(self,min_val, max_val, types)\n",
    "    \n",
    "       get the correct types that our columns can trans to\n",
    "    \n",
    "    '''\n",
    "    def _get_type(self,min_val, max_val, types):\n",
    "        if types == 'int':\n",
    "            if max_val <= self.int8_max and min_val >= self.int8_min:\n",
    "                return np.int8\n",
    "            elif max_val <= self.int16_max  <= max_val and min_val >= self.int16_min:\n",
    "                return np.int16\n",
    "            elif max_val <= self.int32_max and min_val >= self.int32_min:\n",
    "                return np.int32\n",
    "            return None\n",
    "            \n",
    "        elif types == 'float':\n",
    "            if max_val <=  self.float16_max and min_val >= self.float16_min :\n",
    "                return np.float16\n",
    "            if max_val <=  self.float32_max and min_val >= self.float32_min :\n",
    "                return np.float32\n",
    "            if max_val <=  self.float64_max and min_val >= self.float64_min:\n",
    "                return np.float64 \n",
    "            return None\n",
    "    '''\n",
    "    \n",
    "    function: _memory_process(self,df) \n",
    "       column data types trans, to save more memory\n",
    "    '''\n",
    "    def _memory_process(self,df):\n",
    "        init_memory = df.memory_usage().sum() / 1024**2 / 1024\n",
    "        print('Original data occupies {} GB memory.'.format(init_memory))\n",
    "        df_cols = df.columns\n",
    "        \n",
    "        for col in tqdm(df_cols):\n",
    "            try:\n",
    "                if 'float' in str(df[col].dtypes): \n",
    "                    max_val = df[col].max()\n",
    "                    min_val = df[col].min()\n",
    "                    trans_types = self._get_type(min_val,max_val,'float')\n",
    "                    if trans_types is not None: \n",
    "                        df[col] = df[col].astype(trans_types)\n",
    "                elif 'int' in str(df[col].dtypes):  \n",
    "                    max_val = df[col].max()\n",
    "                    min_val = df[col].min()\n",
    "                    trans_types = self._get_type(min_val,max_val,'int')\n",
    "                    if trans_types is not None:  \n",
    "                        df[col] = df[col].astype(trans_types) \n",
    "            except:\n",
    "                print(' Can not do any process for column, {}.'.format(col))\n",
    "        afterprocess_memory = df.memory_usage().sum() / 1024**2 / 1024\n",
    "        print('After processing, the data occupies {} GB memory.'.format(afterprocess_memory))\n",
    "        return df"
   ]
  },
  {
   "cell_type": "code",
   "execution_count": 4,
   "metadata": {},
   "outputs": [],
   "source": [
    "data_preprocess = _Data_Preprocess()"
   ]
  },
  {
   "cell_type": "markdown",
   "metadata": {},
   "source": [
    "## 数据导入"
   ]
  },
  {
   "cell_type": "code",
   "execution_count": 8,
   "metadata": {},
   "outputs": [],
   "source": [
    "path = '/data/Data_JieZhang/MicroMalware/'"
   ]
  },
  {
   "cell_type": "code",
   "execution_count": 9,
   "metadata": {
    "scrolled": true
   },
   "outputs": [
    {
     "name": "stdout",
     "output_type": "stream",
     "text": [
      "CPU times: user 2min 48s, sys: 13 s, total: 3min 1s\n",
      "Wall time: 3min 10s\n"
     ]
    }
   ],
   "source": [
    "%%time\n",
    "train = pd.read_csv(path + 'train.csv')\n",
    "test  = pd.read_csv(path + 'test.csv')"
   ]
  },
  {
   "cell_type": "code",
   "execution_count": 10,
   "metadata": {},
   "outputs": [
    {
     "data": {
      "text/html": [
       "<div>\n",
       "<style scoped>\n",
       "    .dataframe tbody tr th:only-of-type {\n",
       "        vertical-align: middle;\n",
       "    }\n",
       "\n",
       "    .dataframe tbody tr th {\n",
       "        vertical-align: top;\n",
       "    }\n",
       "\n",
       "    .dataframe thead th {\n",
       "        text-align: right;\n",
       "    }\n",
       "</style>\n",
       "<table border=\"1\" class=\"dataframe\">\n",
       "  <thead>\n",
       "    <tr style=\"text-align: right;\">\n",
       "      <th></th>\n",
       "      <th>MachineIdentifier</th>\n",
       "      <th>ProductName</th>\n",
       "      <th>EngineVersion</th>\n",
       "      <th>AppVersion</th>\n",
       "      <th>AvSigVersion</th>\n",
       "      <th>IsBeta</th>\n",
       "      <th>RtpStateBitfield</th>\n",
       "      <th>IsSxsPassiveMode</th>\n",
       "      <th>DefaultBrowsersIdentifier</th>\n",
       "      <th>AVProductStatesIdentifier</th>\n",
       "      <th>...</th>\n",
       "      <th>Census_FirmwareVersionIdentifier</th>\n",
       "      <th>Census_IsSecureBootEnabled</th>\n",
       "      <th>Census_IsWIMBootEnabled</th>\n",
       "      <th>Census_IsVirtualDevice</th>\n",
       "      <th>Census_IsTouchEnabled</th>\n",
       "      <th>Census_IsPenCapable</th>\n",
       "      <th>Census_IsAlwaysOnAlwaysConnectedCapable</th>\n",
       "      <th>Wdft_IsGamer</th>\n",
       "      <th>Wdft_RegionIdentifier</th>\n",
       "      <th>HasDetections</th>\n",
       "    </tr>\n",
       "  </thead>\n",
       "  <tbody>\n",
       "    <tr>\n",
       "      <th>0</th>\n",
       "      <td>0000028988387b115f69f31a3bf04f09</td>\n",
       "      <td>win8defender</td>\n",
       "      <td>1.1.15100.1</td>\n",
       "      <td>4.18.1807.18075</td>\n",
       "      <td>1.273.1735.0</td>\n",
       "      <td>0</td>\n",
       "      <td>7.0</td>\n",
       "      <td>0</td>\n",
       "      <td>NaN</td>\n",
       "      <td>53447.0</td>\n",
       "      <td>...</td>\n",
       "      <td>36144.0</td>\n",
       "      <td>0</td>\n",
       "      <td>NaN</td>\n",
       "      <td>0.0</td>\n",
       "      <td>0</td>\n",
       "      <td>0</td>\n",
       "      <td>0.0</td>\n",
       "      <td>0.0</td>\n",
       "      <td>10.0</td>\n",
       "      <td>0</td>\n",
       "    </tr>\n",
       "    <tr>\n",
       "      <th>1</th>\n",
       "      <td>000007535c3f730efa9ea0b7ef1bd645</td>\n",
       "      <td>win8defender</td>\n",
       "      <td>1.1.14600.4</td>\n",
       "      <td>4.13.17134.1</td>\n",
       "      <td>1.263.48.0</td>\n",
       "      <td>0</td>\n",
       "      <td>7.0</td>\n",
       "      <td>0</td>\n",
       "      <td>NaN</td>\n",
       "      <td>53447.0</td>\n",
       "      <td>...</td>\n",
       "      <td>57858.0</td>\n",
       "      <td>0</td>\n",
       "      <td>NaN</td>\n",
       "      <td>0.0</td>\n",
       "      <td>0</td>\n",
       "      <td>0</td>\n",
       "      <td>0.0</td>\n",
       "      <td>0.0</td>\n",
       "      <td>8.0</td>\n",
       "      <td>0</td>\n",
       "    </tr>\n",
       "    <tr>\n",
       "      <th>2</th>\n",
       "      <td>000007905a28d863f6d0d597892cd692</td>\n",
       "      <td>win8defender</td>\n",
       "      <td>1.1.15100.1</td>\n",
       "      <td>4.18.1807.18075</td>\n",
       "      <td>1.273.1341.0</td>\n",
       "      <td>0</td>\n",
       "      <td>7.0</td>\n",
       "      <td>0</td>\n",
       "      <td>NaN</td>\n",
       "      <td>53447.0</td>\n",
       "      <td>...</td>\n",
       "      <td>52682.0</td>\n",
       "      <td>0</td>\n",
       "      <td>NaN</td>\n",
       "      <td>0.0</td>\n",
       "      <td>0</td>\n",
       "      <td>0</td>\n",
       "      <td>0.0</td>\n",
       "      <td>0.0</td>\n",
       "      <td>3.0</td>\n",
       "      <td>0</td>\n",
       "    </tr>\n",
       "    <tr>\n",
       "      <th>3</th>\n",
       "      <td>00000b11598a75ea8ba1beea8459149f</td>\n",
       "      <td>win8defender</td>\n",
       "      <td>1.1.15100.1</td>\n",
       "      <td>4.18.1807.18075</td>\n",
       "      <td>1.273.1527.0</td>\n",
       "      <td>0</td>\n",
       "      <td>7.0</td>\n",
       "      <td>0</td>\n",
       "      <td>NaN</td>\n",
       "      <td>53447.0</td>\n",
       "      <td>...</td>\n",
       "      <td>20050.0</td>\n",
       "      <td>0</td>\n",
       "      <td>NaN</td>\n",
       "      <td>0.0</td>\n",
       "      <td>0</td>\n",
       "      <td>0</td>\n",
       "      <td>0.0</td>\n",
       "      <td>0.0</td>\n",
       "      <td>3.0</td>\n",
       "      <td>1</td>\n",
       "    </tr>\n",
       "    <tr>\n",
       "      <th>4</th>\n",
       "      <td>000014a5f00daa18e76b81417eeb99fc</td>\n",
       "      <td>win8defender</td>\n",
       "      <td>1.1.15100.1</td>\n",
       "      <td>4.18.1807.18075</td>\n",
       "      <td>1.273.1379.0</td>\n",
       "      <td>0</td>\n",
       "      <td>7.0</td>\n",
       "      <td>0</td>\n",
       "      <td>NaN</td>\n",
       "      <td>53447.0</td>\n",
       "      <td>...</td>\n",
       "      <td>19844.0</td>\n",
       "      <td>0</td>\n",
       "      <td>0.0</td>\n",
       "      <td>0.0</td>\n",
       "      <td>0</td>\n",
       "      <td>0</td>\n",
       "      <td>0.0</td>\n",
       "      <td>0.0</td>\n",
       "      <td>1.0</td>\n",
       "      <td>1</td>\n",
       "    </tr>\n",
       "  </tbody>\n",
       "</table>\n",
       "<p>5 rows × 83 columns</p>\n",
       "</div>"
      ],
      "text/plain": [
       "                  MachineIdentifier   ProductName EngineVersion  \\\n",
       "0  0000028988387b115f69f31a3bf04f09  win8defender   1.1.15100.1   \n",
       "1  000007535c3f730efa9ea0b7ef1bd645  win8defender   1.1.14600.4   \n",
       "2  000007905a28d863f6d0d597892cd692  win8defender   1.1.15100.1   \n",
       "3  00000b11598a75ea8ba1beea8459149f  win8defender   1.1.15100.1   \n",
       "4  000014a5f00daa18e76b81417eeb99fc  win8defender   1.1.15100.1   \n",
       "\n",
       "        AppVersion  AvSigVersion  IsBeta  RtpStateBitfield  IsSxsPassiveMode  \\\n",
       "0  4.18.1807.18075  1.273.1735.0       0               7.0                 0   \n",
       "1     4.13.17134.1    1.263.48.0       0               7.0                 0   \n",
       "2  4.18.1807.18075  1.273.1341.0       0               7.0                 0   \n",
       "3  4.18.1807.18075  1.273.1527.0       0               7.0                 0   \n",
       "4  4.18.1807.18075  1.273.1379.0       0               7.0                 0   \n",
       "\n",
       "   DefaultBrowsersIdentifier  AVProductStatesIdentifier      ...       \\\n",
       "0                        NaN                    53447.0      ...        \n",
       "1                        NaN                    53447.0      ...        \n",
       "2                        NaN                    53447.0      ...        \n",
       "3                        NaN                    53447.0      ...        \n",
       "4                        NaN                    53447.0      ...        \n",
       "\n",
       "   Census_FirmwareVersionIdentifier  Census_IsSecureBootEnabled  \\\n",
       "0                           36144.0                           0   \n",
       "1                           57858.0                           0   \n",
       "2                           52682.0                           0   \n",
       "3                           20050.0                           0   \n",
       "4                           19844.0                           0   \n",
       "\n",
       "   Census_IsWIMBootEnabled  Census_IsVirtualDevice  Census_IsTouchEnabled  \\\n",
       "0                      NaN                     0.0                      0   \n",
       "1                      NaN                     0.0                      0   \n",
       "2                      NaN                     0.0                      0   \n",
       "3                      NaN                     0.0                      0   \n",
       "4                      0.0                     0.0                      0   \n",
       "\n",
       "   Census_IsPenCapable  Census_IsAlwaysOnAlwaysConnectedCapable  Wdft_IsGamer  \\\n",
       "0                    0                                      0.0           0.0   \n",
       "1                    0                                      0.0           0.0   \n",
       "2                    0                                      0.0           0.0   \n",
       "3                    0                                      0.0           0.0   \n",
       "4                    0                                      0.0           0.0   \n",
       "\n",
       "  Wdft_RegionIdentifier HasDetections  \n",
       "0                  10.0             0  \n",
       "1                   8.0             0  \n",
       "2                   3.0             0  \n",
       "3                   3.0             1  \n",
       "4                   1.0             1  \n",
       "\n",
       "[5 rows x 83 columns]"
      ]
     },
     "execution_count": 10,
     "metadata": {},
     "output_type": "execute_result"
    }
   ],
   "source": [
    "train.head()"
   ]
  },
  {
   "cell_type": "code",
   "execution_count": 11,
   "metadata": {},
   "outputs": [
    {
     "data": {
      "text/html": [
       "<div>\n",
       "<style scoped>\n",
       "    .dataframe tbody tr th:only-of-type {\n",
       "        vertical-align: middle;\n",
       "    }\n",
       "\n",
       "    .dataframe tbody tr th {\n",
       "        vertical-align: top;\n",
       "    }\n",
       "\n",
       "    .dataframe thead th {\n",
       "        text-align: right;\n",
       "    }\n",
       "</style>\n",
       "<table border=\"1\" class=\"dataframe\">\n",
       "  <thead>\n",
       "    <tr style=\"text-align: right;\">\n",
       "      <th></th>\n",
       "      <th>MachineIdentifier</th>\n",
       "      <th>ProductName</th>\n",
       "      <th>EngineVersion</th>\n",
       "      <th>AppVersion</th>\n",
       "      <th>AvSigVersion</th>\n",
       "      <th>IsBeta</th>\n",
       "      <th>RtpStateBitfield</th>\n",
       "      <th>IsSxsPassiveMode</th>\n",
       "      <th>DefaultBrowsersIdentifier</th>\n",
       "      <th>AVProductStatesIdentifier</th>\n",
       "      <th>...</th>\n",
       "      <th>Census_FirmwareManufacturerIdentifier</th>\n",
       "      <th>Census_FirmwareVersionIdentifier</th>\n",
       "      <th>Census_IsSecureBootEnabled</th>\n",
       "      <th>Census_IsWIMBootEnabled</th>\n",
       "      <th>Census_IsVirtualDevice</th>\n",
       "      <th>Census_IsTouchEnabled</th>\n",
       "      <th>Census_IsPenCapable</th>\n",
       "      <th>Census_IsAlwaysOnAlwaysConnectedCapable</th>\n",
       "      <th>Wdft_IsGamer</th>\n",
       "      <th>Wdft_RegionIdentifier</th>\n",
       "    </tr>\n",
       "  </thead>\n",
       "  <tbody>\n",
       "    <tr>\n",
       "      <th>0</th>\n",
       "      <td>0000010489e3af074adeac69c53e555e</td>\n",
       "      <td>win8defender</td>\n",
       "      <td>1.1.15400.5</td>\n",
       "      <td>4.18.1810.5</td>\n",
       "      <td>1.281.501.0</td>\n",
       "      <td>0</td>\n",
       "      <td>7.0</td>\n",
       "      <td>0</td>\n",
       "      <td>NaN</td>\n",
       "      <td>53447.0</td>\n",
       "      <td>...</td>\n",
       "      <td>807.0</td>\n",
       "      <td>8554.0</td>\n",
       "      <td>1</td>\n",
       "      <td>NaN</td>\n",
       "      <td>0.0</td>\n",
       "      <td>0</td>\n",
       "      <td>0</td>\n",
       "      <td>0.0</td>\n",
       "      <td>0.0</td>\n",
       "      <td>7.0</td>\n",
       "    </tr>\n",
       "    <tr>\n",
       "      <th>1</th>\n",
       "      <td>00000176ac758d54827acd545b6315a5</td>\n",
       "      <td>win8defender</td>\n",
       "      <td>1.1.15400.4</td>\n",
       "      <td>4.18.1809.2</td>\n",
       "      <td>1.279.301.0</td>\n",
       "      <td>0</td>\n",
       "      <td>7.0</td>\n",
       "      <td>0</td>\n",
       "      <td>NaN</td>\n",
       "      <td>53447.0</td>\n",
       "      <td>...</td>\n",
       "      <td>554.0</td>\n",
       "      <td>33105.0</td>\n",
       "      <td>1</td>\n",
       "      <td>NaN</td>\n",
       "      <td>0.0</td>\n",
       "      <td>0</td>\n",
       "      <td>0</td>\n",
       "      <td>0.0</td>\n",
       "      <td>1.0</td>\n",
       "      <td>12.0</td>\n",
       "    </tr>\n",
       "    <tr>\n",
       "      <th>2</th>\n",
       "      <td>0000019dcefc128c2d4387c1273dae1d</td>\n",
       "      <td>win8defender</td>\n",
       "      <td>1.1.15300.6</td>\n",
       "      <td>4.18.1809.2</td>\n",
       "      <td>1.277.230.0</td>\n",
       "      <td>0</td>\n",
       "      <td>7.0</td>\n",
       "      <td>0</td>\n",
       "      <td>NaN</td>\n",
       "      <td>49480.0</td>\n",
       "      <td>...</td>\n",
       "      <td>556.0</td>\n",
       "      <td>63396.0</td>\n",
       "      <td>1</td>\n",
       "      <td>NaN</td>\n",
       "      <td>0.0</td>\n",
       "      <td>0</td>\n",
       "      <td>0</td>\n",
       "      <td>0.0</td>\n",
       "      <td>1.0</td>\n",
       "      <td>11.0</td>\n",
       "    </tr>\n",
       "    <tr>\n",
       "      <th>3</th>\n",
       "      <td>0000055553dc51b1295785415f1a224d</td>\n",
       "      <td>win8defender</td>\n",
       "      <td>1.1.15400.5</td>\n",
       "      <td>4.18.1810.5</td>\n",
       "      <td>1.281.664.0</td>\n",
       "      <td>0</td>\n",
       "      <td>7.0</td>\n",
       "      <td>0</td>\n",
       "      <td>NaN</td>\n",
       "      <td>42160.0</td>\n",
       "      <td>...</td>\n",
       "      <td>628.0</td>\n",
       "      <td>26320.0</td>\n",
       "      <td>1</td>\n",
       "      <td>0.0</td>\n",
       "      <td>0.0</td>\n",
       "      <td>0</td>\n",
       "      <td>0</td>\n",
       "      <td>0.0</td>\n",
       "      <td>0.0</td>\n",
       "      <td>10.0</td>\n",
       "    </tr>\n",
       "    <tr>\n",
       "      <th>4</th>\n",
       "      <td>00000574cefffeca83ec8adf9285b2bf</td>\n",
       "      <td>win8defender</td>\n",
       "      <td>1.1.15400.4</td>\n",
       "      <td>4.18.1809.2</td>\n",
       "      <td>1.279.236.0</td>\n",
       "      <td>0</td>\n",
       "      <td>7.0</td>\n",
       "      <td>0</td>\n",
       "      <td>NaN</td>\n",
       "      <td>53447.0</td>\n",
       "      <td>...</td>\n",
       "      <td>556.0</td>\n",
       "      <td>63269.0</td>\n",
       "      <td>1</td>\n",
       "      <td>NaN</td>\n",
       "      <td>0.0</td>\n",
       "      <td>0</td>\n",
       "      <td>0</td>\n",
       "      <td>0.0</td>\n",
       "      <td>1.0</td>\n",
       "      <td>3.0</td>\n",
       "    </tr>\n",
       "  </tbody>\n",
       "</table>\n",
       "<p>5 rows × 82 columns</p>\n",
       "</div>"
      ],
      "text/plain": [
       "                  MachineIdentifier   ProductName EngineVersion   AppVersion  \\\n",
       "0  0000010489e3af074adeac69c53e555e  win8defender   1.1.15400.5  4.18.1810.5   \n",
       "1  00000176ac758d54827acd545b6315a5  win8defender   1.1.15400.4  4.18.1809.2   \n",
       "2  0000019dcefc128c2d4387c1273dae1d  win8defender   1.1.15300.6  4.18.1809.2   \n",
       "3  0000055553dc51b1295785415f1a224d  win8defender   1.1.15400.5  4.18.1810.5   \n",
       "4  00000574cefffeca83ec8adf9285b2bf  win8defender   1.1.15400.4  4.18.1809.2   \n",
       "\n",
       "  AvSigVersion  IsBeta  RtpStateBitfield  IsSxsPassiveMode  \\\n",
       "0  1.281.501.0       0               7.0                 0   \n",
       "1  1.279.301.0       0               7.0                 0   \n",
       "2  1.277.230.0       0               7.0                 0   \n",
       "3  1.281.664.0       0               7.0                 0   \n",
       "4  1.279.236.0       0               7.0                 0   \n",
       "\n",
       "   DefaultBrowsersIdentifier  AVProductStatesIdentifier          ...           \\\n",
       "0                        NaN                    53447.0          ...            \n",
       "1                        NaN                    53447.0          ...            \n",
       "2                        NaN                    49480.0          ...            \n",
       "3                        NaN                    42160.0          ...            \n",
       "4                        NaN                    53447.0          ...            \n",
       "\n",
       "   Census_FirmwareManufacturerIdentifier  Census_FirmwareVersionIdentifier  \\\n",
       "0                                  807.0                            8554.0   \n",
       "1                                  554.0                           33105.0   \n",
       "2                                  556.0                           63396.0   \n",
       "3                                  628.0                           26320.0   \n",
       "4                                  556.0                           63269.0   \n",
       "\n",
       "   Census_IsSecureBootEnabled  Census_IsWIMBootEnabled  \\\n",
       "0                           1                      NaN   \n",
       "1                           1                      NaN   \n",
       "2                           1                      NaN   \n",
       "3                           1                      0.0   \n",
       "4                           1                      NaN   \n",
       "\n",
       "   Census_IsVirtualDevice  Census_IsTouchEnabled  Census_IsPenCapable  \\\n",
       "0                     0.0                      0                    0   \n",
       "1                     0.0                      0                    0   \n",
       "2                     0.0                      0                    0   \n",
       "3                     0.0                      0                    0   \n",
       "4                     0.0                      0                    0   \n",
       "\n",
       "   Census_IsAlwaysOnAlwaysConnectedCapable Wdft_IsGamer Wdft_RegionIdentifier  \n",
       "0                                      0.0          0.0                   7.0  \n",
       "1                                      0.0          1.0                  12.0  \n",
       "2                                      0.0          1.0                  11.0  \n",
       "3                                      0.0          0.0                  10.0  \n",
       "4                                      0.0          1.0                   3.0  \n",
       "\n",
       "[5 rows x 82 columns]"
      ]
     },
     "execution_count": 11,
     "metadata": {},
     "output_type": "execute_result"
    }
   ],
   "source": [
    "test.head()"
   ]
  },
  {
   "cell_type": "markdown",
   "metadata": {},
   "source": [
    "### 预处理,将数据格式进行转换并进行存储\n",
    "\n",
    "因为原始数据非常大,所以我们先对原始数据进行格式转换,这样我们便可以减少内存的使用。\n",
    "\n",
    "- 训练集预处理之后,数据大小从5.5G降至为3.1G\n",
    "- 测试集预处理之后,数据大小从4.7979降至为2.6842G"
   ]
  },
  {
   "cell_type": "code",
   "execution_count": 12,
   "metadata": {
    "scrolled": true
   },
   "outputs": [
    {
     "name": "stderr",
     "output_type": "stream",
     "text": [
      "\r",
      "  0%|          | 0/83 [00:00<?, ?it/s]"
     ]
    },
    {
     "name": "stdout",
     "output_type": "stream",
     "text": [
      "Original data occupies 5.517029009759426 GB memory.\n"
     ]
    },
    {
     "name": "stderr",
     "output_type": "stream",
     "text": [
      "100%|██████████| 83/83 [00:30<00:00,  6.65it/s]"
     ]
    },
    {
     "name": "stdout",
     "output_type": "stream",
     "text": [
      "After processing, the data occupies 3.057630568742752 GB memory.\n",
      "CPU times: user 18.4 s, sys: 12.2 s, total: 30.6 s\n",
      "Wall time: 30.7 s\n"
     ]
    },
    {
     "name": "stderr",
     "output_type": "stream",
     "text": [
      "\n"
     ]
    }
   ],
   "source": [
    "%%time\n",
    "train = data_preprocess._memory_process(train)"
   ]
  },
  {
   "cell_type": "code",
   "execution_count": 13,
   "metadata": {},
   "outputs": [
    {
     "name": "stderr",
     "output_type": "stream",
     "text": [
      "\r",
      "  0%|          | 0/82 [00:00<?, ?it/s]"
     ]
    },
    {
     "name": "stdout",
     "output_type": "stream",
     "text": [
      "Original data occupies 4.797926217317581 GB memory.\n"
     ]
    },
    {
     "name": "stderr",
     "output_type": "stream",
     "text": [
      "100%|██████████| 82/82 [00:26<00:00,  4.75it/s]"
     ]
    },
    {
     "name": "stdout",
     "output_type": "stream",
     "text": [
      "After processing, the data occupies 2.684205706231296 GB memory.\n"
     ]
    },
    {
     "name": "stderr",
     "output_type": "stream",
     "text": [
      "\n"
     ]
    }
   ],
   "source": [
    "test  = data_preprocess._memory_process(test)"
   ]
  },
  {
   "cell_type": "markdown",
   "metadata": {},
   "source": [
    "# 数据EDA\n",
    "\n",
    "在对数据进行内存控制之后我们便来看看我们做数据时经常会看的一些数据属性等。\n",
    "\n",
    "## 基础信息（大小,nunique）"
   ]
  },
  {
   "cell_type": "markdown",
   "metadata": {},
   "source": [
    "1.训练集中拥有8921483条记录;测试集中有7853253条记录;"
   ]
  },
  {
   "cell_type": "code",
   "execution_count": 14,
   "metadata": {},
   "outputs": [
    {
     "data": {
      "text/plain": [
       "(8921483, 83)"
      ]
     },
     "execution_count": 14,
     "metadata": {},
     "output_type": "execute_result"
    }
   ],
   "source": [
    "train.shape"
   ]
  },
  {
   "cell_type": "code",
   "execution_count": 15,
   "metadata": {},
   "outputs": [
    {
     "data": {
      "text/plain": [
       "(7853253, 82)"
      ]
     },
     "execution_count": 15,
     "metadata": {},
     "output_type": "execute_result"
    }
   ],
   "source": [
    "test.shape"
   ]
  },
  {
   "cell_type": "markdown",
   "metadata": {},
   "source": [
    "2.MachineIdentifier是唯一的标志;<br />\n",
    "3.存在较多的bool值;"
   ]
  },
  {
   "cell_type": "code",
   "execution_count": 16,
   "metadata": {
    "scrolled": true
   },
   "outputs": [
    {
     "data": {
      "text/plain": [
       "HasDetections                                              2\n",
       "PuaMode                                                    2\n",
       "SMode                                                      2\n",
       "Firewall                                                   2\n",
       "Census_HasOpticalDiskDrive                                 2\n",
       "Census_IsPortableOperatingSystem                           2\n",
       "Census_IsFlightingInternal                                 2\n",
       "HasTpm                                                     2\n",
       "AutoSampleOptIn                                            2\n",
       "Census_ThresholdOptIn                                      2\n",
       "Census_IsFlightsDisabled                                   2\n",
       "Census_IsWIMBootEnabled                                    2\n",
       "IsSxsPassiveMode                                           2\n",
       "Census_IsVirtualDevice                                     2\n",
       "IsBeta                                                     2\n",
       "Census_IsTouchEnabled                                      2\n",
       "Census_IsPenCapable                                        2\n",
       "Census_IsAlwaysOnAlwaysConnectedCapable                    2\n",
       "Wdft_IsGamer                                               2\n",
       "Census_IsSecureBootEnabled                                 2\n",
       "IsProtected                                                2\n",
       "Census_OSArchitecture                                      3\n",
       "Census_DeviceFamily                                        3\n",
       "Census_ProcessorClass                                      3\n",
       "Processor                                                  3\n",
       "Census_PrimaryDiskTypeName                                 4\n",
       "Platform                                                   4\n",
       "Census_GenuineStateName                                    5\n",
       "Census_OSWUAutoUpdateOptionsName                           6\n",
       "Census_ActivationChannel                                   6\n",
       "                                                      ...   \n",
       "EngineVersion                                             70\n",
       "OsBuild                                                   76\n",
       "Census_InternalBatteryType                                78\n",
       "AppVersion                                               110\n",
       "Census_OSUILocaleIdentifier                              147\n",
       "Census_OSBuildNumber                                     165\n",
       "CountryIdentifier                                        222\n",
       "LocaleEnglishNameIdentifier                              276\n",
       "Census_OSBuildRevision                                   285\n",
       "GeoNameIdentifier                                        292\n",
       "IeVerIdentifier                                          303\n",
       "Census_OSVersion                                         469\n",
       "OsBuildLab                                               663\n",
       "Census_FirmwareManufacturerIdentifier                    712\n",
       "Census_InternalPrimaryDiagonalDisplaySizeInInches        785\n",
       "Census_InternalPrimaryDisplayResolutionVertical         1552\n",
       "DefaultBrowsersIdentifier                               1730\n",
       "Census_InternalPrimaryDisplayResolutionHorizontal       2050\n",
       "Census_OEMNameIdentifier                                2564\n",
       "Census_ProcessorModelIdentifier                         2583\n",
       "Census_TotalPhysicalRAM                                 3446\n",
       "Census_PrimaryDiskTotalCapacity                         5735\n",
       "AvSigVersion                                            8531\n",
       "AVProductStatesIdentifier                              28970\n",
       "Census_InternalBatteryNumberOfCharges                  41087\n",
       "Census_FirmwareVersionIdentifier                       50494\n",
       "CityIdentifier                                        107366\n",
       "Census_OEMModelIdentifier                             175365\n",
       "Census_SystemVolumeTotalCapacity                      536848\n",
       "MachineIdentifier                                    8921483\n",
       "Length: 83, dtype: int64"
      ]
     },
     "execution_count": 16,
     "metadata": {},
     "output_type": "execute_result"
    }
   ],
   "source": [
    "train.nunique().sort_values()"
   ]
  },
  {
   "cell_type": "code",
   "execution_count": 17,
   "metadata": {
    "scrolled": true
   },
   "outputs": [
    {
     "data": {
      "text/plain": [
       "Census_IsWIMBootEnabled                                    2\n",
       "Census_IsVirtualDevice                                     2\n",
       "Census_IsSecureBootEnabled                                 2\n",
       "IsProtected                                                2\n",
       "AutoSampleOptIn                                            2\n",
       "PuaMode                                                    2\n",
       "Census_IsTouchEnabled                                      2\n",
       "Census_IsPortableOperatingSystem                           2\n",
       "HasTpm                                                     2\n",
       "SMode                                                      2\n",
       "Census_HasOpticalDiskDrive                                 2\n",
       "Census_IsPenCapable                                        2\n",
       "Firewall                                                   2\n",
       "IsSxsPassiveMode                                           2\n",
       "IsBeta                                                     2\n",
       "Census_IsAlwaysOnAlwaysConnectedCapable                    2\n",
       "Census_IsFlightsDisabled                                   2\n",
       "Census_IsFlightingInternal                                 2\n",
       "Wdft_IsGamer                                               2\n",
       "Census_ThresholdOptIn                                      2\n",
       "Census_ProcessorClass                                      3\n",
       "Census_DeviceFamily                                        3\n",
       "Processor                                                  3\n",
       "Census_OSArchitecture                                      3\n",
       "Platform                                                   4\n",
       "Census_PrimaryDiskTypeName                                 4\n",
       "Census_GenuineStateName                                    5\n",
       "Census_OSWUAutoUpdateOptionsName                           6\n",
       "AVProductsEnabled                                          6\n",
       "AVProductsInstalled                                        6\n",
       "                                                      ...   \n",
       "Census_InternalBatteryType                                63\n",
       "EngineVersion                                             70\n",
       "OsBuild                                                   78\n",
       "AppVersion                                               120\n",
       "Census_OSUILocaleIdentifier                              139\n",
       "Census_OSBuildNumber                                     156\n",
       "CountryIdentifier                                        222\n",
       "LocaleEnglishNameIdentifier                              278\n",
       "GeoNameIdentifier                                        289\n",
       "IeVerIdentifier                                          294\n",
       "Census_OSBuildRevision                                   294\n",
       "Census_OSVersion                                         475\n",
       "OsBuildLab                                               673\n",
       "Census_FirmwareManufacturerIdentifier                    722\n",
       "Census_InternalPrimaryDiagonalDisplaySizeInInches        803\n",
       "DefaultBrowsersIdentifier                               1548\n",
       "Census_InternalPrimaryDisplayResolutionVertical         1570\n",
       "Census_InternalPrimaryDisplayResolutionHorizontal       2118\n",
       "Census_OEMNameIdentifier                                2500\n",
       "Census_ProcessorModelIdentifier                         2591\n",
       "Census_TotalPhysicalRAM                                 3700\n",
       "Census_PrimaryDiskTotalCapacity                         5797\n",
       "AvSigVersion                                            9357\n",
       "AVProductStatesIdentifier                              23492\n",
       "Census_InternalBatteryNumberOfCharges                  36359\n",
       "Census_FirmwareVersionIdentifier                       49811\n",
       "CityIdentifier                                        105817\n",
       "Census_OEMModelIdentifier                             167776\n",
       "Census_SystemVolumeTotalCapacity                      509175\n",
       "MachineIdentifier                                    7853253\n",
       "Length: 82, dtype: int64"
      ]
     },
     "execution_count": 17,
     "metadata": {},
     "output_type": "execute_result"
    }
   ],
   "source": [
    "test.nunique().sort_values()\n"
   ]
  },
  {
   "cell_type": "markdown",
   "metadata": {},
   "source": [
    "\n",
    "## 字段观测\n",
    "### 版本信息\n",
    "\n",
    "从数据的每个字段中,我们也可以发现此次比赛的数据中类别型的数据可能非常多,所以下面我们单独抽取一些数据进行观察。\n",
    "\n",
    "- OsBuildLab, AvSigVersion，Census_OSVersion,AppVersion这些都是版本号,而且没有加密，很容易便能看出来。"
   ]
  },
  {
   "cell_type": "code",
   "execution_count": 18,
   "metadata": {
    "scrolled": true
   },
   "outputs": [
    {
     "data": {
      "text/plain": [
       "0    17134.1.amd64fre.rs4_release.180410-1804\n",
       "1    17134.1.amd64fre.rs4_release.180410-1804\n",
       "2    17134.1.amd64fre.rs4_release.180410-1804\n",
       "3    17134.1.amd64fre.rs4_release.180410-1804\n",
       "4    17134.1.amd64fre.rs4_release.180410-1804\n",
       "Name: OsBuildLab, dtype: object"
      ]
     },
     "execution_count": 18,
     "metadata": {},
     "output_type": "execute_result"
    }
   ],
   "source": [
    "train['OsBuildLab'].head()"
   ]
  },
  {
   "cell_type": "code",
   "execution_count": 19,
   "metadata": {},
   "outputs": [
    {
     "data": {
      "text/plain": [
       "0    1.273.1735.0\n",
       "1      1.263.48.0\n",
       "2    1.273.1341.0\n",
       "3    1.273.1527.0\n",
       "4    1.273.1379.0\n",
       "Name: AvSigVersion, dtype: object"
      ]
     },
     "execution_count": 19,
     "metadata": {},
     "output_type": "execute_result"
    }
   ],
   "source": [
    "train['AvSigVersion'].head()"
   ]
  },
  {
   "cell_type": "code",
   "execution_count": 20,
   "metadata": {},
   "outputs": [
    {
     "data": {
      "text/plain": [
       "8921478    10.0.16299.431\n",
       "8921479    10.0.10586.679\n",
       "8921480    10.0.16299.371\n",
       "8921481    10.0.15063.483\n",
       "8921482    10.0.17134.228\n",
       "Name: Census_OSVersion, dtype: object"
      ]
     },
     "execution_count": 20,
     "metadata": {},
     "output_type": "execute_result"
    }
   ],
   "source": [
    "train['Census_OSVersion'].tail()"
   ]
  },
  {
   "cell_type": "code",
   "execution_count": 21,
   "metadata": {},
   "outputs": [
    {
     "data": {
      "text/plain": [
       "0    4.18.1807.18075\n",
       "1       4.13.17134.1\n",
       "2    4.18.1807.18075\n",
       "3    4.18.1807.18075\n",
       "4    4.18.1807.18075\n",
       "Name: AppVersion, dtype: object"
      ]
     },
     "execution_count": 21,
     "metadata": {},
     "output_type": "execute_result"
    }
   ],
   "source": [
    "train['AppVersion'].head()"
   ]
  },
  {
   "cell_type": "markdown",
   "metadata": {},
   "source": [
    "### 数值信息理解\n",
    "\n",
    "这个比赛中很多的数据表面上是数值信息,例如总的RAM大小,**但是它们很多时候也可以当做是类别特征来理解**,所以对于类别特征的处理方式也可以直接用到这些伪数值特征上面来。\n"
   ]
  },
  {
   "cell_type": "code",
   "execution_count": 22,
   "metadata": {},
   "outputs": [
    {
     "data": {
      "text/plain": [
       "0    4096.0\n",
       "1    4096.0\n",
       "2    4096.0\n",
       "3    4096.0\n",
       "4    6144.0\n",
       "5    8192.0\n",
       "6    4096.0\n",
       "7    4096.0\n",
       "8    4096.0\n",
       "9    8192.0\n",
       "Name: Census_TotalPhysicalRAM, dtype: float32"
      ]
     },
     "execution_count": 22,
     "metadata": {},
     "output_type": "execute_result"
    }
   ],
   "source": [
    "train['Census_TotalPhysicalRAM'].head(10)"
   ]
  },
  {
   "cell_type": "code",
   "execution_count": 23,
   "metadata": {
    "scrolled": true
   },
   "outputs": [
    {
     "data": {
      "text/plain": [
       "4096.0      4094512\n",
       "8192.0      2196505\n",
       "2048.0      1097474\n",
       "16384.0      531558\n",
       "6144.0       398671\n",
       "12288.0      159894\n",
       "3072.0       152070\n",
       "1024.0        66054\n",
       "32768.0       58107\n",
       "24576.0       11572\n",
       "10240.0       10579\n",
       "5120.0         7393\n",
       "65536.0        6606\n",
       "1536.0         4905\n",
       "2560.0         4316\n",
       "4095.0         4106\n",
       "20480.0        3960\n",
       "2047.0         3814\n",
       "8191.0         1706\n",
       "14336.0        1513\n",
       "7168.0         1425\n",
       "49152.0        1028\n",
       "131072.0        936\n",
       "3071.0          780\n",
       "3584.0          714\n",
       "18432.0         600\n",
       "9216.0          551\n",
       "6143.0          350\n",
       "28672.0         317\n",
       "3583.0          313\n",
       "             ...   \n",
       "6147.0            1\n",
       "6200.0            1\n",
       "6146.0            1\n",
       "6145.0            1\n",
       "6123.0            1\n",
       "6119.0            1\n",
       "6117.0            1\n",
       "6116.0            1\n",
       "6112.0            1\n",
       "6199.0            1\n",
       "6210.0            1\n",
       "6308.0            1\n",
       "6279.0            1\n",
       "6300.0            1\n",
       "6295.0            1\n",
       "6290.0            1\n",
       "6289.0            1\n",
       "6288.0            1\n",
       "6284.0            1\n",
       "6282.0            1\n",
       "6264.0            1\n",
       "6214.0            1\n",
       "6256.0            1\n",
       "6252.0            1\n",
       "6240.0            1\n",
       "6231.0            1\n",
       "6228.0            1\n",
       "6225.0            1\n",
       "6222.0            1\n",
       "255.0             1\n",
       "Name: Census_TotalPhysicalRAM, Length: 3446, dtype: int64"
      ]
     },
     "execution_count": 23,
     "metadata": {},
     "output_type": "execute_result"
    }
   ],
   "source": [
    "train['Census_TotalPhysicalRAM'].value_counts()"
   ]
  },
  {
   "cell_type": "markdown",
   "metadata": {},
   "source": [
    "## 数据筛选纠错\n",
    "\n",
    "数据中有一些值是有问题的，可能是笔误,但是我们可以很容易的对其进行纠正,例如AvSigVersion中的信息等。\n",
    "\n",
    "### 替换AvSigVersion中的错误值"
   ]
  },
  {
   "cell_type": "code",
   "execution_count": 24,
   "metadata": {},
   "outputs": [
    {
     "data": {
      "text/html": [
       "<div>\n",
       "<style scoped>\n",
       "    .dataframe tbody tr th:only-of-type {\n",
       "        vertical-align: middle;\n",
       "    }\n",
       "\n",
       "    .dataframe tbody tr th {\n",
       "        vertical-align: top;\n",
       "    }\n",
       "\n",
       "    .dataframe thead th {\n",
       "        text-align: right;\n",
       "    }\n",
       "</style>\n",
       "<table border=\"1\" class=\"dataframe\">\n",
       "  <thead>\n",
       "    <tr style=\"text-align: right;\">\n",
       "      <th></th>\n",
       "      <th>MachineIdentifier</th>\n",
       "      <th>ProductName</th>\n",
       "      <th>EngineVersion</th>\n",
       "      <th>AppVersion</th>\n",
       "      <th>AvSigVersion</th>\n",
       "      <th>IsBeta</th>\n",
       "      <th>RtpStateBitfield</th>\n",
       "      <th>IsSxsPassiveMode</th>\n",
       "      <th>DefaultBrowsersIdentifier</th>\n",
       "      <th>AVProductStatesIdentifier</th>\n",
       "      <th>...</th>\n",
       "      <th>Census_FirmwareVersionIdentifier</th>\n",
       "      <th>Census_IsSecureBootEnabled</th>\n",
       "      <th>Census_IsWIMBootEnabled</th>\n",
       "      <th>Census_IsVirtualDevice</th>\n",
       "      <th>Census_IsTouchEnabled</th>\n",
       "      <th>Census_IsPenCapable</th>\n",
       "      <th>Census_IsAlwaysOnAlwaysConnectedCapable</th>\n",
       "      <th>Wdft_IsGamer</th>\n",
       "      <th>Wdft_RegionIdentifier</th>\n",
       "      <th>HasDetections</th>\n",
       "    </tr>\n",
       "  </thead>\n",
       "  <tbody>\n",
       "    <tr>\n",
       "      <th>5244810</th>\n",
       "      <td>9686a9afcb31e21607609c18f6d66c49</td>\n",
       "      <td>win8defender</td>\n",
       "      <td>1.1.15100.1</td>\n",
       "      <td>4.18.1807.18075</td>\n",
       "      <td>1.2&amp;#x17;3.1144.0</td>\n",
       "      <td>0</td>\n",
       "      <td>7.0</td>\n",
       "      <td>0</td>\n",
       "      <td>NaN</td>\n",
       "      <td>62773.0</td>\n",
       "      <td>...</td>\n",
       "      <td>28079.0</td>\n",
       "      <td>0</td>\n",
       "      <td>NaN</td>\n",
       "      <td>0.0</td>\n",
       "      <td>0</td>\n",
       "      <td>0</td>\n",
       "      <td>0.0</td>\n",
       "      <td>1.0</td>\n",
       "      <td>1.0</td>\n",
       "      <td>1</td>\n",
       "    </tr>\n",
       "  </tbody>\n",
       "</table>\n",
       "<p>1 rows × 83 columns</p>\n",
       "</div>"
      ],
      "text/plain": [
       "                        MachineIdentifier   ProductName EngineVersion  \\\n",
       "5244810  9686a9afcb31e21607609c18f6d66c49  win8defender   1.1.15100.1   \n",
       "\n",
       "              AppVersion       AvSigVersion  IsBeta  RtpStateBitfield  \\\n",
       "5244810  4.18.1807.18075  1.2&#x17;3.1144.0       0               7.0   \n",
       "\n",
       "         IsSxsPassiveMode  DefaultBrowsersIdentifier  \\\n",
       "5244810                 0                        NaN   \n",
       "\n",
       "         AVProductStatesIdentifier      ...       \\\n",
       "5244810                    62773.0      ...        \n",
       "\n",
       "         Census_FirmwareVersionIdentifier  Census_IsSecureBootEnabled  \\\n",
       "5244810                           28079.0                           0   \n",
       "\n",
       "         Census_IsWIMBootEnabled  Census_IsVirtualDevice  \\\n",
       "5244810                      NaN                     0.0   \n",
       "\n",
       "         Census_IsTouchEnabled  Census_IsPenCapable  \\\n",
       "5244810                      0                    0   \n",
       "\n",
       "         Census_IsAlwaysOnAlwaysConnectedCapable  Wdft_IsGamer  \\\n",
       "5244810                                      0.0           1.0   \n",
       "\n",
       "        Wdft_RegionIdentifier HasDetections  \n",
       "5244810                   1.0             1  \n",
       "\n",
       "[1 rows x 83 columns]"
      ]
     },
     "execution_count": 24,
     "metadata": {},
     "output_type": "execute_result"
    }
   ],
   "source": [
    "train.loc[train['AvSigVersion'] == '1.2&#x17;3.1144.0']"
   ]
  },
  {
   "cell_type": "code",
   "execution_count": 26,
   "metadata": {},
   "outputs": [],
   "source": [
    "train['AvSigVersion'].replace('1.2&#x17;3.1144.0','1.217.1144.0',inplace=True)"
   ]
  },
  {
   "cell_type": "markdown",
   "metadata": {},
   "source": [
    "### 替换OsBuildLab中的某些值"
   ]
  },
  {
   "cell_type": "code",
   "execution_count": 28,
   "metadata": {},
   "outputs": [
    {
     "data": {
      "text/html": [
       "<div>\n",
       "<style scoped>\n",
       "    .dataframe tbody tr th:only-of-type {\n",
       "        vertical-align: middle;\n",
       "    }\n",
       "\n",
       "    .dataframe tbody tr th {\n",
       "        vertical-align: top;\n",
       "    }\n",
       "\n",
       "    .dataframe thead th {\n",
       "        text-align: right;\n",
       "    }\n",
       "</style>\n",
       "<table border=\"1\" class=\"dataframe\">\n",
       "  <thead>\n",
       "    <tr style=\"text-align: right;\">\n",
       "      <th></th>\n",
       "      <th>MachineIdentifier</th>\n",
       "      <th>ProductName</th>\n",
       "      <th>EngineVersion</th>\n",
       "      <th>AppVersion</th>\n",
       "      <th>AvSigVersion</th>\n",
       "      <th>IsBeta</th>\n",
       "      <th>RtpStateBitfield</th>\n",
       "      <th>IsSxsPassiveMode</th>\n",
       "      <th>DefaultBrowsersIdentifier</th>\n",
       "      <th>AVProductStatesIdentifier</th>\n",
       "      <th>...</th>\n",
       "      <th>Census_FirmwareManufacturerIdentifier</th>\n",
       "      <th>Census_FirmwareVersionIdentifier</th>\n",
       "      <th>Census_IsSecureBootEnabled</th>\n",
       "      <th>Census_IsWIMBootEnabled</th>\n",
       "      <th>Census_IsVirtualDevice</th>\n",
       "      <th>Census_IsTouchEnabled</th>\n",
       "      <th>Census_IsPenCapable</th>\n",
       "      <th>Census_IsAlwaysOnAlwaysConnectedCapable</th>\n",
       "      <th>Wdft_IsGamer</th>\n",
       "      <th>Wdft_RegionIdentifier</th>\n",
       "    </tr>\n",
       "  </thead>\n",
       "  <tbody>\n",
       "    <tr>\n",
       "      <th>6529507</th>\n",
       "      <td>d4dc25f2e899024c04615109c3a35217</td>\n",
       "      <td>win8defender</td>\n",
       "      <td>1.1.15300.6</td>\n",
       "      <td>4.18.1809.2</td>\n",
       "      <td>1.277.1071.0</td>\n",
       "      <td>0</td>\n",
       "      <td>7.0</td>\n",
       "      <td>0</td>\n",
       "      <td>NaN</td>\n",
       "      <td>53447.0</td>\n",
       "      <td>...</td>\n",
       "      <td>142.0</td>\n",
       "      <td>3941.0</td>\n",
       "      <td>0</td>\n",
       "      <td>NaN</td>\n",
       "      <td>0.0</td>\n",
       "      <td>0</td>\n",
       "      <td>0</td>\n",
       "      <td>0.0</td>\n",
       "      <td>0.0</td>\n",
       "      <td>2.0</td>\n",
       "    </tr>\n",
       "  </tbody>\n",
       "</table>\n",
       "<p>1 rows × 82 columns</p>\n",
       "</div>"
      ],
      "text/plain": [
       "                        MachineIdentifier   ProductName EngineVersion  \\\n",
       "6529507  d4dc25f2e899024c04615109c3a35217  win8defender   1.1.15300.6   \n",
       "\n",
       "          AppVersion  AvSigVersion  IsBeta  RtpStateBitfield  \\\n",
       "6529507  4.18.1809.2  1.277.1071.0       0               7.0   \n",
       "\n",
       "         IsSxsPassiveMode  DefaultBrowsersIdentifier  \\\n",
       "6529507                 0                        NaN   \n",
       "\n",
       "         AVProductStatesIdentifier          ...           \\\n",
       "6529507                    53447.0          ...            \n",
       "\n",
       "         Census_FirmwareManufacturerIdentifier  \\\n",
       "6529507                                  142.0   \n",
       "\n",
       "         Census_FirmwareVersionIdentifier  Census_IsSecureBootEnabled  \\\n",
       "6529507                            3941.0                           0   \n",
       "\n",
       "         Census_IsWIMBootEnabled  Census_IsVirtualDevice  \\\n",
       "6529507                      NaN                     0.0   \n",
       "\n",
       "         Census_IsTouchEnabled  Census_IsPenCapable  \\\n",
       "6529507                      0                    0   \n",
       "\n",
       "         Census_IsAlwaysOnAlwaysConnectedCapable Wdft_IsGamer  \\\n",
       "6529507                                      0.0          0.0   \n",
       "\n",
       "        Wdft_RegionIdentifier  \n",
       "6529507                   2.0  \n",
       "\n",
       "[1 rows x 82 columns]"
      ]
     },
     "execution_count": 28,
     "metadata": {},
     "output_type": "execute_result"
    }
   ],
   "source": [
    "test.loc[test['OsBuildLab'] == '17134.1*amd64fre.rs4_release.180410-1804']"
   ]
  },
  {
   "cell_type": "code",
   "execution_count": 29,
   "metadata": {},
   "outputs": [],
   "source": [
    "test['OsBuildLab'].replace('17134.1*amd64fre.rs4_release.180410-1804','17134.1.amd64fre.rs4_release.180410-1804',inplace=True)"
   ]
  },
  {
   "cell_type": "markdown",
   "metadata": {},
   "source": [
    "## 缺失值分析\n",
    "- SMode这个训练集&测试集的缺失情况不一,测试的时候记得分开处理,test中该列严重缺失<font color=red>（尤其是强特的时候）</font>"
   ]
  },
  {
   "cell_type": "code",
   "execution_count": 30,
   "metadata": {
    "scrolled": true
   },
   "outputs": [],
   "source": [
    "train_null_info = train.isnull().sum().sort_values() / train.shape[0]"
   ]
  },
  {
   "cell_type": "code",
   "execution_count": 31,
   "metadata": {
    "scrolled": true
   },
   "outputs": [],
   "source": [
    "test_null_info = test.isnull().sum().sort_values() / test.shape[0]"
   ]
  },
  {
   "cell_type": "code",
   "execution_count": 32,
   "metadata": {
    "scrolled": true
   },
   "outputs": [
    {
     "name": "stdout",
     "output_type": "stream",
     "text": [
      "MachineIdentifier 0.0\n",
      "OsPlatformSubRelease 0.0\n",
      "SkuEdition 0.0\n",
      "AutoSampleOptIn 0.0\n",
      "Census_OSBranch 0.0\n",
      "Census_FlightRing 0.0\n",
      "Census_ActivationChannel 0.0\n",
      "Census_MDC2FormFactor 0.0\n",
      "Census_DeviceFamily 0.0\n",
      "Census_IsPortableOperatingSystem 0.0\n",
      "Census_OSWUAutoUpdateOptionsName 0.0\n",
      "Census_OSUILocaleIdentifier 0.0\n",
      "Census_OSInstallTypeName 0.0\n",
      "Census_HasOpticalDiskDrive 0.0\n",
      "Census_OSSkuName 0.0\n",
      "Census_OSBuildRevision 0.0\n",
      "Census_OSVersion 0.0\n",
      "Census_OSArchitecture 0.0\n",
      "OsSuite 0.0\n",
      "OsBuild 0.0\n",
      "Census_IsSecureBootEnabled 0.0\n",
      "Processor 0.0\n",
      "ProductName 0.0\n",
      "EngineVersion 0.0\n",
      "AppVersion 0.0\n",
      "AvSigVersion 0.0\n",
      "IsBeta 0.0\n",
      "IsSxsPassiveMode 0.0\n",
      "Census_IsPenCapable 0.0\n",
      "OsVer 0.0\n",
      "HasTpm 0.0\n",
      "Census_OSBuildNumber 0.0\n",
      "LocaleEnglishNameIdentifier 0.0\n",
      "Census_IsTouchEnabled 0.0\n",
      "CountryIdentifier 0.0\n",
      "Platform 0.0\n",
      "Census_GenuineStateName 1.2733576773854097e-07\n",
      "Census_OSEdition 6.366788386927048e-07\n",
      "OsBuildLab 1.891606942575795e-07\n",
      "Census_PowerPlatformRoleName 2.8541643730694905e-06\n",
      "GeoNameIdentifier 5.156596564249778e-06\n",
      "Census_ChassisTypeName 2.640994266026988e-05\n",
      "Census_PrimaryDiskTypeName 0.0005728963895380038\n",
      "UacLuaenable 0.00021332463755155927\n",
      "Census_IsVirtualDevice 0.00041360713606467306\n",
      "IsProtected 0.0010287719084691345\n",
      "AVProductsInstalled 0.001033586038733552\n",
      "AVProductsEnabled 0.001033586038733552\n",
      "AVProductStatesIdentifier 0.001033586038733552\n",
      "RtpStateBitfield 0.0004805211972533012\n",
      "Census_InternalPrimaryDisplayResolutionHorizontal 0.00014655763705887295\n",
      "Census_InternalPrimaryDisplayResolutionVertical 0.00014655763705887295\n",
      "Census_InternalPrimaryDiagonalDisplaySizeInInches 0.00014257470785640318\n",
      "IeVerIdentifier 0.00026055696282959676\n",
      "Firewall 0.0027937520330776084\n",
      "Census_OSInstallLanguageIdentifier 0.0007453302555310726\n",
      "Census_ProcessorCoreCount 0.003172806105688741\n",
      "Census_ProcessorManufacturerIdentifier 0.003172530825844423\n",
      "Census_ProcessorModelIdentifier 0.00317337023654292\n",
      "Census_SystemVolumeTotalCapacity 0.003569767955935969\n",
      "Census_PrimaryDiskTotalCapacity 0.003569599403550552\n",
      "Census_OEMNameIdentifier 0.0007003762715957589\n",
      "Census_IsAlwaysOnAlwaysConnectedCapable 0.00348280946971157\n",
      "Census_TotalPhysicalRAM 0.0030765295970998537\n",
      "Census_OEMModelIdentifier 0.0007567633784408556\n",
      "Census_IsFlightsDisabled 0.001973893686728772\n",
      "Census_FirmwareVersionIdentifier 0.0046687425100650146\n",
      "CityIdentifier 0.0120311368155737\n",
      "Census_FirmwareManufacturerIdentifier 0.004752121234148209\n",
      "Census_InternalBatteryNumberOfCharges 0.00033844178144615267\n",
      "Wdft_RegionIdentifier 0.0045510131440087975\n",
      "Wdft_IsGamer 0.0045510131440087975\n",
      "OrganizationIdentifier 0.007648934043893274\n",
      "SmartScreen 0.08936375700407612\n",
      "Census_IsWIMBootEnabled 0.06884775477892846\n",
      "Census_ThresholdOptIn 0.06886031441995033\n",
      "SMode 0.6822526349703747\n",
      "Census_InternalBatteryType 0.05097993523702549\n",
      "Census_IsFlightingInternal 0.019393777253604694\n",
      "DefaultBrowsersIdentifier 0.009476393083506895\n",
      "Census_ProcessorClass 0.0017844733339714702\n",
      "PuaMode 1.979718676048403e-05\n"
     ]
    }
   ],
   "source": [
    "max_gap = 0\n",
    "second_max_gap = 0\n",
    "second_max_gap_col = None\n",
    "max_gap_col = None\n",
    "for ind in test_null_info.index:\n",
    "    gap= abs(test_null_info.loc[ind] - train_null_info.loc[ind]) \n",
    "    if gap >= max_gap:\n",
    "        second_max_gap = max_gap\n",
    "        max_gap = gap\n",
    "    \n",
    "        second_max_gap_col = max_gap_col\n",
    "        max_gap_col = ind\n",
    "    elif gap >= second_max_gap:\n",
    "        second_max_gap = gap\n",
    "        second_max_gap_col = ind\n",
    "    print(ind, gap)"
   ]
  },
  {
   "cell_type": "code",
   "execution_count": 33,
   "metadata": {},
   "outputs": [
    {
     "name": "stdout",
     "output_type": "stream",
     "text": [
      "max gap is 0.6822526349703747, and corresponding col is SMode.\n",
      "second max gap is 0.08936375700407612, and corresponding col is SmartScreen.\n"
     ]
    }
   ],
   "source": [
    "print('max gap is {}, and corresponding col is {}.'.format(max_gap, max_gap_col))\n",
    "print('second max gap is {}, and corresponding col is {}.'.format(second_max_gap, second_max_gap_col))"
   ]
  },
  {
   "cell_type": "code",
   "execution_count": 34,
   "metadata": {},
   "outputs": [
    {
     "data": {
      "text/plain": [
       "537759"
      ]
     },
     "execution_count": 34,
     "metadata": {},
     "output_type": "execute_result"
    }
   ],
   "source": [
    "train['SMode'].isnull().sum()"
   ]
  },
  {
   "cell_type": "code",
   "execution_count": 35,
   "metadata": {},
   "outputs": [
    {
     "data": {
      "text/plain": [
       "5831272"
      ]
     },
     "execution_count": 35,
     "metadata": {},
     "output_type": "execute_result"
    }
   ],
   "source": [
    "test['SMode'].isnull().sum()"
   ]
  },
  {
   "cell_type": "markdown",
   "metadata": {},
   "source": [
    "## 标签分析\n",
    "- 因为数据是经过采样的,所以label的分布是平衡的;"
   ]
  },
  {
   "cell_type": "code",
   "execution_count": 36,
   "metadata": {},
   "outputs": [
    {
     "data": {
      "text/plain": [
       "0    4462591\n",
       "1    4458892\n",
       "Name: HasDetections, dtype: int64"
      ]
     },
     "execution_count": 36,
     "metadata": {},
     "output_type": "execute_result"
    }
   ],
   "source": [
    "train['HasDetections'].value_counts()"
   ]
  },
  {
   "cell_type": "code",
   "execution_count": 37,
   "metadata": {},
   "outputs": [
    {
     "data": {
      "image/png": "[encoded data removed]",
      "text/plain": [
       "<matplotlib.figure.Figure at 0x7f0c77e6a828>"
      ]
     },
     "metadata": {},
     "output_type": "display_data"
    }
   ],
   "source": [
    "jplt._categorical_data_barplot(train, colname='HasDetections')"
   ]
  },
  {
   "cell_type": "markdown",
   "metadata": {},
   "source": [
    "## 标签 & 缺失异常特征比较\n",
    "\n",
    "因为SMode在训练集和测试集中的缺失比值较大,我们对比一下二者之间的区别\n",
    "\n",
    "- SMode缺失的时候,HasDections中1的个数要少一些;\n",
    "- SMode不缺失的时候,HasDections中1的个数要多一些;\n",
    "- <font color=red>所以缺失值需要填充其他的值,是一个很强的特征</font>"
   ]
  },
  {
   "cell_type": "code",
   "execution_count": 44,
   "metadata": {},
   "outputs": [
    {
     "data": {
      "text/plain": [
       "0.0602768620418825"
      ]
     },
     "execution_count": 44,
     "metadata": {},
     "output_type": "execute_result"
    }
   ],
   "source": [
    "train.SMode.isnull().sum() / train.shape[0]"
   ]
  },
  {
   "cell_type": "code",
   "execution_count": 45,
   "metadata": {},
   "outputs": [
    {
     "data": {
      "text/plain": [
       "0.7425294970122572"
      ]
     },
     "execution_count": 45,
     "metadata": {},
     "output_type": "execute_result"
    }
   ],
   "source": [
    "test.SMode.isnull().sum() / test.shape[0]"
   ]
  },
  {
   "cell_type": "code",
   "execution_count": 38,
   "metadata": {
    "scrolled": true
   },
   "outputs": [
    {
     "data": {
      "image/png": "[encoded data removed]",
      "text/plain": [
       "<matplotlib.figure.Figure at 0x7f0c947e8780>"
      ]
     },
     "metadata": {},
     "output_type": "display_data"
    }
   ],
   "source": [
    "jplt._categorical_data_barplot(train.loc[train.SMode.isnull()],  colname='HasDetections')"
   ]
  },
  {
   "cell_type": "code",
   "execution_count": 39,
   "metadata": {
    "scrolled": true
   },
   "outputs": [
    {
     "data": {
      "image/png": "[encoded data removed]",
      "text/plain": [
       "<matplotlib.figure.Figure at 0x7f0c8d8585c0>"
      ]
     },
     "metadata": {},
     "output_type": "display_data"
    }
   ],
   "source": [
    "jplt._categorical_data_barplot(train.loc[train.SMode.isnull() == False],  colname='HasDetections')"
   ]
  },
  {
   "cell_type": "markdown",
   "metadata": {},
   "source": [
    "## 数据存储\n",
    "- 数据存储下来后续可以大大节省时间&内存,在此基础上进行操作即可."
   ]
  },
  {
   "cell_type": "code",
   "execution_count": 47,
   "metadata": {},
   "outputs": [
    {
     "name": "stdout",
     "output_type": "stream",
     "text": [
      "CPU times: user 3min 19s, sys: 14.7 s, total: 3min 34s\n",
      "Wall time: 3min 35s\n"
     ]
    }
   ],
   "source": [
    "%%time\n",
    "import joblib\n",
    "joblib.dump(train, path + 'train_low_memory.jl.z')\n",
    "joblib.dump(test,  path + 'test_low_memory.jl.z')"
   ]
  },
  {
   "cell_type": "markdown",
   "metadata": {},
   "source": [
    "# 小结\n",
    "\n",
    "这一节中,我们针对train数据集进行了基础的EDA分析,包括:\n",
    "- 基本的数据类型分析;\n",
    "- 数据的理解；\n",
    "- 错误值的替换；\n",
    "- 缺失值的分析；\n",
    "- 标签的信息以及缺失值与标签信息与缺失值的统计特性等.\n",
    "\n",
    "在下一小节,我们针对我们的EDA进行简单的建模,构建我们的Baseline。"
   ]
  }
 ],
 "metadata": {
  "kernelspec": {
   "display_name": "Python 3",
   "language": "python",
   "name": "python3"
  },
  "language_info": {
   "codemirror_mode": {
    "name": "ipython",
    "version": 3
   },
   "file_extension": ".py",
   "mimetype": "text/x-python",
   "name": "python",
   "nbconvert_exporter": "python",
   "pygments_lexer": "ipython3",
   "version": "3.6.4"
  },
  "toc": {
   "nav_menu": {},
   "number_sections": true,
   "sideBar": true,
   "skip_h1_title": false,
   "title_cell": "Table of Contents",
   "title_sidebar": "Contents",
   "toc_cell": true,
   "toc_position": {
    "height": "calc(100% - 180px)",
    "left": "10px",
    "top": "150px",
    "width": "384px"
   },
   "toc_section_display": true,
   "toc_window_display": true
  }
 },
 "nbformat": 4,
 "nbformat_minor": 2
}
